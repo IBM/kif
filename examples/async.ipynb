{
 "cells": [
  {
   "cell_type": "code",
   "execution_count": 1,
   "id": "75549874-1d88-4a48-ae32-fa7a87df15d7",
   "metadata": {},
   "outputs": [
    {
     "name": "stdout",
     "output_type": "stream",
     "text": [
      "env: KIF_DEBUG=\n",
      "env: KIF_RESOLVE_ENTITIES=\n"
     ]
    }
   ],
   "source": [
    "%env KIF_DEBUG=\n",
    "%env KIF_RESOLVE_ENTITIES="
   ]
  },
  {
   "cell_type": "code",
   "execution_count": 2,
   "id": "e8701acf-1a07-47d8-945b-d180a64f52c1",
   "metadata": {},
   "outputs": [],
   "source": [
    "import time"
   ]
  },
  {
   "cell_type": "markdown",
   "id": "478134a9-a3ec-4045-a890-4b2b04dc36e1",
   "metadata": {},
   "source": [
    "# Async"
   ]
  },
  {
   "cell_type": "code",
   "execution_count": 3,
   "id": "2b73529d-69c8-40a7-b084-ee4e9d6b3c9d",
   "metadata": {},
   "outputs": [],
   "source": [
    "from kif_lib import *\n",
    "from kif_lib.vocabulary import pc, wd"
   ]
  },
  {
   "cell_type": "markdown",
   "id": "60b5d88a-f911-459c-9ef0-416276f370a8",
   "metadata": {},
   "source": [
    "## The async Store API"
   ]
  },
  {
   "cell_type": "markdown",
   "id": "8e297dd8-feb0-4e99-8cb0-08298fcf3e4c",
   "metadata": {},
   "source": [
    "The Store API exposes async versions of some methods:"
   ]
  },
  {
   "cell_type": "markdown",
   "id": "c758445a-db52-4154-82c2-00a12d4a4801",
   "metadata": {},
   "source": [
    "|sync|async|description|\n",
    "|-|-|-|\n",
    "|**contains**(stmt)|**acontains**(stmt)|tests whether `stmt` occurs in store|\n",
    "|**ask**(s,p,v)|**aask**(s,p,v)|tests whehter any statement matches `s,p,v`|\n",
    "|**count**(s,p,v)|**acount**(s,p,v)|counts the number of statements matching `s,p,v`|\n",
    "|**filter**(s,p,v)|**afilter**(s,p,v)|fetches statements matching `s,p,v`|\n",
    "|**filter_annotated**(s,p,v)|**afilter_annotated**(s,p,v)|fetches annotated statements matching `s,p,v`|"
   ]
  },
  {
   "cell_type": "markdown",
   "id": "0570504b-33bd-45bf-90ef-b1af5891d064",
   "metadata": {},
   "source": [
    "The async versions behave similarly to their sync counterparts. The difference is that they can only be called within an event loop and their results need to be \"awaited\"."
   ]
  },
  {
   "cell_type": "markdown",
   "id": "98eb54b4-9ba3-4eff-bc19-dfc099e873d8",
   "metadata": {},
   "source": [
    "(Note that Jupyter cells are awalys run within an event loop.)"
   ]
  },
  {
   "cell_type": "markdown",
   "id": "e16f736b-4bcd-4ec0-a929-b6e73a5b3a0c",
   "metadata": {},
   "source": [
    "For example,"
   ]
  },
  {
   "cell_type": "code",
   "execution_count": 4,
   "id": "cbbd39e6-acf2-4253-95df-953b368b35dd",
   "metadata": {},
   "outputs": [],
   "source": [
    "kb = Store('wdqs')"
   ]
  },
  {
   "cell_type": "code",
   "execution_count": 5,
   "id": "1a7eadd6-921e-474c-bdab-65b750f0f543",
   "metadata": {},
   "outputs": [
    {
     "data": {
      "text/plain": [
       "True"
      ]
     },
     "execution_count": 5,
     "metadata": {},
     "output_type": "execute_result"
    }
   ],
   "source": [
    "await kb.acontains(wd.shares_border_with(wd.Brazil, wd.Argentina))"
   ]
  },
  {
   "cell_type": "code",
   "execution_count": 6,
   "id": "da8c0b47-402f-47b5-bede-ee17e65ed482",
   "metadata": {},
   "outputs": [
    {
     "data": {
      "text/plain": [
       "False"
      ]
     },
     "execution_count": 6,
     "metadata": {},
     "output_type": "execute_result"
    }
   ],
   "source": [
    "await kb.aask(subject=wd.Brazil, property=wd.shares_border_with, value=wd.United_States_of_America)"
   ]
  },
  {
   "cell_type": "code",
   "execution_count": 7,
   "id": "8a277042-38ca-4621-a4d1-0920232c14b1",
   "metadata": {},
   "outputs": [
    {
     "data": {
      "text/plain": [
       "11"
      ]
     },
     "execution_count": 7,
     "metadata": {},
     "output_type": "execute_result"
    }
   ],
   "source": [
    "await kb.acount(subject=wd.Brazil, property=wd.shares_border_with)"
   ]
  },
  {
   "cell_type": "markdown",
   "id": "7548fc97-d26b-4669-84d7-a6c1b644d056",
   "metadata": {},
   "source": [
    "The `afilter()` method returns an [AsyncIterator](https://docs.python.org/3/glossary.html#term-asynchronous-iterator):"
   ]
  },
  {
   "cell_type": "code",
   "execution_count": 8,
   "id": "ded5e348-f9f1-4d02-b199-594b69c47b23",
   "metadata": {},
   "outputs": [],
   "source": [
    "it = kb.afilter(wd.Brazil, wd.shares_border_with)"
   ]
  },
  {
   "cell_type": "code",
   "execution_count": 9,
   "id": "3cedf4cb-8d88-4160-991d-2b23e8a6aeba",
   "metadata": {},
   "outputs": [
    {
     "data": {
      "text/plain": [
       "async_generator"
      ]
     },
     "execution_count": 9,
     "metadata": {},
     "output_type": "execute_result"
    }
   ],
   "source": [
    "type(it)"
   ]
  },
  {
   "cell_type": "markdown",
   "id": "7fae7b76-2e76-4aed-809d-4216ed4edcbd",
   "metadata": {},
   "source": [
    "To consume an async iterator, we must use an async for-loop:"
   ]
  },
  {
   "cell_type": "code",
   "execution_count": 10,
   "id": "a455b205-edcb-4065-b2fa-8490f627a96c",
   "metadata": {},
   "outputs": [
    {
     "data": {
      "text/markdown": [
       "(**Statement** (**Item** [Brazil](http://www.wikidata.org/entity/Q155)) (**ValueSnak** (**Property** [shares border with](http://www.wikidata.org/entity/P47)) (**Item** [Argentina](http://www.wikidata.org/entity/Q414))))"
      ],
      "text/plain": [
       "Statement(Item(IRI('http://www.wikidata.org/entity/Q155')), ValueSnak(Property(IRI('http://www.wikidata.org/entity/P47'), ItemDatatype()), Item(IRI('http://www.wikidata.org/entity/Q414'))))"
      ]
     },
     "metadata": {},
     "output_type": "display_data"
    },
    {
     "data": {
      "text/markdown": [
       "(**Statement** (**Item** [Brazil](http://www.wikidata.org/entity/Q155)) (**ValueSnak** (**Property** [shares border with](http://www.wikidata.org/entity/P47)) (**Item** [Peru](http://www.wikidata.org/entity/Q419))))"
      ],
      "text/plain": [
       "Statement(Item(IRI('http://www.wikidata.org/entity/Q155')), ValueSnak(Property(IRI('http://www.wikidata.org/entity/P47'), ItemDatatype()), Item(IRI('http://www.wikidata.org/entity/Q419'))))"
      ]
     },
     "metadata": {},
     "output_type": "display_data"
    },
    {
     "data": {
      "text/markdown": [
       "(**Statement** (**Item** [Brazil](http://www.wikidata.org/entity/Q155)) (**ValueSnak** (**Property** [shares border with](http://www.wikidata.org/entity/P47)) (**Item** [Venezuela](http://www.wikidata.org/entity/Q717))))"
      ],
      "text/plain": [
       "Statement(Item(IRI('http://www.wikidata.org/entity/Q155')), ValueSnak(Property(IRI('http://www.wikidata.org/entity/P47'), ItemDatatype()), Item(IRI('http://www.wikidata.org/entity/Q717'))))"
      ]
     },
     "metadata": {},
     "output_type": "display_data"
    },
    {
     "data": {
      "text/markdown": [
       "(**Statement** (**Item** [Brazil](http://www.wikidata.org/entity/Q155)) (**ValueSnak** (**Property** [shares border with](http://www.wikidata.org/entity/P47)) (**Item** [Suriname](http://www.wikidata.org/entity/Q730))))"
      ],
      "text/plain": [
       "Statement(Item(IRI('http://www.wikidata.org/entity/Q155')), ValueSnak(Property(IRI('http://www.wikidata.org/entity/P47'), ItemDatatype()), Item(IRI('http://www.wikidata.org/entity/Q730'))))"
      ]
     },
     "metadata": {},
     "output_type": "display_data"
    },
    {
     "data": {
      "text/markdown": [
       "(**Statement** (**Item** [Brazil](http://www.wikidata.org/entity/Q155)) (**ValueSnak** (**Property** [shares border with](http://www.wikidata.org/entity/P47)) (**Item** [Guyana](http://www.wikidata.org/entity/Q734))))"
      ],
      "text/plain": [
       "Statement(Item(IRI('http://www.wikidata.org/entity/Q155')), ValueSnak(Property(IRI('http://www.wikidata.org/entity/P47'), ItemDatatype()), Item(IRI('http://www.wikidata.org/entity/Q734'))))"
      ]
     },
     "metadata": {},
     "output_type": "display_data"
    },
    {
     "data": {
      "text/markdown": [
       "(**Statement** (**Item** [Brazil](http://www.wikidata.org/entity/Q155)) (**ValueSnak** (**Property** [shares border with](http://www.wikidata.org/entity/P47)) (**Item** [Paraguay](http://www.wikidata.org/entity/Q733))))"
      ],
      "text/plain": [
       "Statement(Item(IRI('http://www.wikidata.org/entity/Q155')), ValueSnak(Property(IRI('http://www.wikidata.org/entity/P47'), ItemDatatype()), Item(IRI('http://www.wikidata.org/entity/Q733'))))"
      ]
     },
     "metadata": {},
     "output_type": "display_data"
    },
    {
     "data": {
      "text/markdown": [
       "(**Statement** (**Item** [Brazil](http://www.wikidata.org/entity/Q155)) (**ValueSnak** (**Property** [shares border with](http://www.wikidata.org/entity/P47)) (**Item** [Colombia](http://www.wikidata.org/entity/Q739))))"
      ],
      "text/plain": [
       "Statement(Item(IRI('http://www.wikidata.org/entity/Q155')), ValueSnak(Property(IRI('http://www.wikidata.org/entity/P47'), ItemDatatype()), Item(IRI('http://www.wikidata.org/entity/Q739'))))"
      ]
     },
     "metadata": {},
     "output_type": "display_data"
    },
    {
     "data": {
      "text/markdown": [
       "(**Statement** (**Item** [Brazil](http://www.wikidata.org/entity/Q155)) (**ValueSnak** (**Property** [shares border with](http://www.wikidata.org/entity/P47)) (**Item** [Bolivia](http://www.wikidata.org/entity/Q750))))"
      ],
      "text/plain": [
       "Statement(Item(IRI('http://www.wikidata.org/entity/Q155')), ValueSnak(Property(IRI('http://www.wikidata.org/entity/P47'), ItemDatatype()), Item(IRI('http://www.wikidata.org/entity/Q750'))))"
      ]
     },
     "metadata": {},
     "output_type": "display_data"
    },
    {
     "data": {
      "text/markdown": [
       "(**Statement** (**Item** [Brazil](http://www.wikidata.org/entity/Q155)) (**ValueSnak** (**Property** [shares border with](http://www.wikidata.org/entity/P47)) (**Item** [French Guiana](http://www.wikidata.org/entity/Q3769))))"
      ],
      "text/plain": [
       "Statement(Item(IRI('http://www.wikidata.org/entity/Q155')), ValueSnak(Property(IRI('http://www.wikidata.org/entity/P47'), ItemDatatype()), Item(IRI('http://www.wikidata.org/entity/Q3769'))))"
      ]
     },
     "metadata": {},
     "output_type": "display_data"
    },
    {
     "data": {
      "text/markdown": [
       "(**Statement** (**Item** [Brazil](http://www.wikidata.org/entity/Q155)) (**ValueSnak** (**Property** [shares border with](http://www.wikidata.org/entity/P47)) (**Item** [Uruguay](http://www.wikidata.org/entity/Q77))))"
      ],
      "text/plain": [
       "Statement(Item(IRI('http://www.wikidata.org/entity/Q155')), ValueSnak(Property(IRI('http://www.wikidata.org/entity/P47'), ItemDatatype()), Item(IRI('http://www.wikidata.org/entity/Q77'))))"
      ]
     },
     "metadata": {},
     "output_type": "display_data"
    },
    {
     "data": {
      "text/markdown": [
       "(**Statement** (**Item** [Brazil](http://www.wikidata.org/entity/Q155)) (**ValueSnak** (**Property** [shares border with](http://www.wikidata.org/entity/P47)) (**Item** [France](http://www.wikidata.org/entity/Q142))))"
      ],
      "text/plain": [
       "Statement(Item(IRI('http://www.wikidata.org/entity/Q155')), ValueSnak(Property(IRI('http://www.wikidata.org/entity/P47'), ItemDatatype()), Item(IRI('http://www.wikidata.org/entity/Q142'))))"
      ]
     },
     "metadata": {},
     "output_type": "display_data"
    }
   ],
   "source": [
    "async for stmt in it:\n",
    "    display(stmt)"
   ]
  },
  {
   "cell_type": "markdown",
   "id": "89055a95-a5cb-4dc9-bc53-a89fd81f5338",
   "metadata": {},
   "source": [
    "## Lookahead"
   ]
  },
  {
   "cell_type": "markdown",
   "id": "4cb3d54e-a578-40ab-b02d-4042d167932f",
   "metadata": {},
   "source": [
    "One of the advantages of the async Store API is that it opens up opportunities for parallelization."
   ]
  },
  {
   "cell_type": "markdown",
   "id": "bdb8dafb-3c80-499a-b67c-0eb188333cd6",
   "metadata": {},
   "source": [
    "The `Store.lookahead` option determines the number of \"parallel\" (non-blocking) requests done by `afilter()` when advancing its results."
   ]
  },
  {
   "cell_type": "markdown",
   "id": "3d9594f4-de7c-4dd5-92a4-3ca27d3fd1a1",
   "metadata": {},
   "source": [
    "A `Store.lookahead` value of *n* (the default *n* is 2) means that  `afilter()` will fetch *n* consecutive pages in parallel at a time."
   ]
  },
  {
   "cell_type": "markdown",
   "id": "e719bcd8-13bb-41ba-8a92-13d9688205d4",
   "metadata": {},
   "source": [
    "For instance, if we set `Store.lookahead` to 4 and `Store.page_size` to 2, then `afilter()` will advance its results using 4 parallel requests of size 2. "
   ]
  },
  {
   "cell_type": "code",
   "execution_count": 11,
   "id": "59153ef9-171b-4f16-a359-08371fba02a4",
   "metadata": {},
   "outputs": [],
   "source": [
    "kb.lookahead = 4\n",
    "kb.page_size = 2"
   ]
  },
  {
   "cell_type": "markdown",
   "id": "e6788408-caae-4fe8-ac51-f9b3f665034e",
   "metadata": {},
   "source": [
    "To see the effects of this, let's enable logging:"
   ]
  },
  {
   "cell_type": "code",
   "execution_count": 12,
   "id": "a3b0d0a9-f130-44a2-9cc8-0b7d2f406e77",
   "metadata": {},
   "outputs": [],
   "source": [
    "import logging\n",
    "logging.basicConfig(level=logging.INFO)"
   ]
  },
  {
   "cell_type": "markdown",
   "id": "e772de17-cf05-4b82-b6fe-d90f63df4781",
   "metadata": {},
   "source": [
    "Note that `afilter()` generates two parallel requests whenever new results are needed:"
   ]
  },
  {
   "cell_type": "code",
   "execution_count": 13,
   "id": "8ef0692e-1ab8-4c72-9aad-922eb3b8860c",
   "metadata": {},
   "outputs": [
    {
     "name": "stderr",
     "output_type": "stream",
     "text": [
      "INFO:httpx:HTTP Request: POST https://query.wikidata.org/sparql \"HTTP/1.1 200 OK\"\n",
      "INFO:httpx:HTTP Request: POST https://query.wikidata.org/sparql \"HTTP/1.1 200 OK\"\n",
      "INFO:httpx:HTTP Request: POST https://query.wikidata.org/sparql \"HTTP/1.1 200 OK\"\n",
      "INFO:httpx:HTTP Request: POST https://query.wikidata.org/sparql \"HTTP/1.1 200 OK\"\n"
     ]
    },
    {
     "data": {
      "text/markdown": [
       "(**Statement** (**Item** [Brazil](http://www.wikidata.org/entity/Q155)) (**ValueSnak** (**Property** [shares border with](http://www.wikidata.org/entity/P47)) (**Item** [Argentina](http://www.wikidata.org/entity/Q414))))"
      ],
      "text/plain": [
       "Statement(Item(IRI('http://www.wikidata.org/entity/Q155')), ValueSnak(Property(IRI('http://www.wikidata.org/entity/P47'), ItemDatatype()), Item(IRI('http://www.wikidata.org/entity/Q414'))))"
      ]
     },
     "metadata": {},
     "output_type": "display_data"
    },
    {
     "data": {
      "text/markdown": [
       "(**Statement** (**Item** [Brazil](http://www.wikidata.org/entity/Q155)) (**ValueSnak** (**Property** [shares border with](http://www.wikidata.org/entity/P47)) (**Item** [Peru](http://www.wikidata.org/entity/Q419))))"
      ],
      "text/plain": [
       "Statement(Item(IRI('http://www.wikidata.org/entity/Q155')), ValueSnak(Property(IRI('http://www.wikidata.org/entity/P47'), ItemDatatype()), Item(IRI('http://www.wikidata.org/entity/Q419'))))"
      ]
     },
     "metadata": {},
     "output_type": "display_data"
    },
    {
     "data": {
      "text/markdown": [
       "(**Statement** (**Item** [Brazil](http://www.wikidata.org/entity/Q155)) (**ValueSnak** (**Property** [shares border with](http://www.wikidata.org/entity/P47)) (**Item** [Venezuela](http://www.wikidata.org/entity/Q717))))"
      ],
      "text/plain": [
       "Statement(Item(IRI('http://www.wikidata.org/entity/Q155')), ValueSnak(Property(IRI('http://www.wikidata.org/entity/P47'), ItemDatatype()), Item(IRI('http://www.wikidata.org/entity/Q717'))))"
      ]
     },
     "metadata": {},
     "output_type": "display_data"
    },
    {
     "data": {
      "text/markdown": [
       "(**Statement** (**Item** [Brazil](http://www.wikidata.org/entity/Q155)) (**ValueSnak** (**Property** [shares border with](http://www.wikidata.org/entity/P47)) (**Item** [Suriname](http://www.wikidata.org/entity/Q730))))"
      ],
      "text/plain": [
       "Statement(Item(IRI('http://www.wikidata.org/entity/Q155')), ValueSnak(Property(IRI('http://www.wikidata.org/entity/P47'), ItemDatatype()), Item(IRI('http://www.wikidata.org/entity/Q730'))))"
      ]
     },
     "metadata": {},
     "output_type": "display_data"
    },
    {
     "data": {
      "text/markdown": [
       "(**Statement** (**Item** [Brazil](http://www.wikidata.org/entity/Q155)) (**ValueSnak** (**Property** [shares border with](http://www.wikidata.org/entity/P47)) (**Item** [Guyana](http://www.wikidata.org/entity/Q734))))"
      ],
      "text/plain": [
       "Statement(Item(IRI('http://www.wikidata.org/entity/Q155')), ValueSnak(Property(IRI('http://www.wikidata.org/entity/P47'), ItemDatatype()), Item(IRI('http://www.wikidata.org/entity/Q734'))))"
      ]
     },
     "metadata": {},
     "output_type": "display_data"
    },
    {
     "data": {
      "text/markdown": [
       "(**Statement** (**Item** [Brazil](http://www.wikidata.org/entity/Q155)) (**ValueSnak** (**Property** [shares border with](http://www.wikidata.org/entity/P47)) (**Item** [Paraguay](http://www.wikidata.org/entity/Q733))))"
      ],
      "text/plain": [
       "Statement(Item(IRI('http://www.wikidata.org/entity/Q155')), ValueSnak(Property(IRI('http://www.wikidata.org/entity/P47'), ItemDatatype()), Item(IRI('http://www.wikidata.org/entity/Q733'))))"
      ]
     },
     "metadata": {},
     "output_type": "display_data"
    },
    {
     "data": {
      "text/markdown": [
       "(**Statement** (**Item** [Brazil](http://www.wikidata.org/entity/Q155)) (**ValueSnak** (**Property** [shares border with](http://www.wikidata.org/entity/P47)) (**Item** [Colombia](http://www.wikidata.org/entity/Q739))))"
      ],
      "text/plain": [
       "Statement(Item(IRI('http://www.wikidata.org/entity/Q155')), ValueSnak(Property(IRI('http://www.wikidata.org/entity/P47'), ItemDatatype()), Item(IRI('http://www.wikidata.org/entity/Q739'))))"
      ]
     },
     "metadata": {},
     "output_type": "display_data"
    },
    {
     "data": {
      "text/markdown": [
       "(**Statement** (**Item** [Brazil](http://www.wikidata.org/entity/Q155)) (**ValueSnak** (**Property** [shares border with](http://www.wikidata.org/entity/P47)) (**Item** [Bolivia](http://www.wikidata.org/entity/Q750))))"
      ],
      "text/plain": [
       "Statement(Item(IRI('http://www.wikidata.org/entity/Q155')), ValueSnak(Property(IRI('http://www.wikidata.org/entity/P47'), ItemDatatype()), Item(IRI('http://www.wikidata.org/entity/Q750'))))"
      ]
     },
     "metadata": {},
     "output_type": "display_data"
    },
    {
     "name": "stderr",
     "output_type": "stream",
     "text": [
      "INFO:httpx:HTTP Request: POST https://query.wikidata.org/sparql \"HTTP/1.1 200 OK\"\n",
      "INFO:httpx:HTTP Request: POST https://query.wikidata.org/sparql \"HTTP/1.1 200 OK\"\n",
      "INFO:httpx:HTTP Request: POST https://query.wikidata.org/sparql \"HTTP/1.1 200 OK\"\n",
      "INFO:httpx:HTTP Request: POST https://query.wikidata.org/sparql \"HTTP/1.1 200 OK\"\n"
     ]
    },
    {
     "data": {
      "text/markdown": [
       "(**Statement** (**Item** [Brazil](http://www.wikidata.org/entity/Q155)) (**ValueSnak** (**Property** [shares border with](http://www.wikidata.org/entity/P47)) (**Item** [French Guiana](http://www.wikidata.org/entity/Q3769))))"
      ],
      "text/plain": [
       "Statement(Item(IRI('http://www.wikidata.org/entity/Q155')), ValueSnak(Property(IRI('http://www.wikidata.org/entity/P47'), ItemDatatype()), Item(IRI('http://www.wikidata.org/entity/Q3769'))))"
      ]
     },
     "metadata": {},
     "output_type": "display_data"
    },
    {
     "data": {
      "text/markdown": [
       "(**Statement** (**Item** [Brazil](http://www.wikidata.org/entity/Q155)) (**ValueSnak** (**Property** [shares border with](http://www.wikidata.org/entity/P47)) (**Item** [Uruguay](http://www.wikidata.org/entity/Q77))))"
      ],
      "text/plain": [
       "Statement(Item(IRI('http://www.wikidata.org/entity/Q155')), ValueSnak(Property(IRI('http://www.wikidata.org/entity/P47'), ItemDatatype()), Item(IRI('http://www.wikidata.org/entity/Q77'))))"
      ]
     },
     "metadata": {},
     "output_type": "display_data"
    },
    {
     "data": {
      "text/markdown": [
       "(**Statement** (**Item** [Brazil](http://www.wikidata.org/entity/Q155)) (**ValueSnak** (**Property** [shares border with](http://www.wikidata.org/entity/P47)) (**Item** [France](http://www.wikidata.org/entity/Q142))))"
      ],
      "text/plain": [
       "Statement(Item(IRI('http://www.wikidata.org/entity/Q155')), ValueSnak(Property(IRI('http://www.wikidata.org/entity/P47'), ItemDatatype()), Item(IRI('http://www.wikidata.org/entity/Q142'))))"
      ]
     },
     "metadata": {},
     "output_type": "display_data"
    },
    {
     "name": "stdout",
     "output_type": "stream",
     "text": [
      "*** TOOK 0.73s ***\n"
     ]
    }
   ],
   "source": [
    "dt = time.time()\n",
    "async for stmt in kb.afilter(wd.Brazil, wd.shares_border_with):\n",
    "    display(stmt)\n",
    "print(f'*** TOOK {time.time() - dt:0.2f}s ***')"
   ]
  },
  {
   "cell_type": "markdown",
   "id": "ed45bae4-45c5-438f-a372-b8a70b90cc79",
   "metadata": {},
   "source": [
    "Contrast this with the synchronous version:"
   ]
  },
  {
   "cell_type": "code",
   "execution_count": 14,
   "id": "766302f3-9a77-4f57-b57e-d0b31069db82",
   "metadata": {},
   "outputs": [
    {
     "name": "stderr",
     "output_type": "stream",
     "text": [
      "INFO:httpx:HTTP Request: POST https://query.wikidata.org/sparql \"HTTP/1.1 200 OK\"\n"
     ]
    },
    {
     "data": {
      "text/markdown": [
       "(**Statement** (**Item** [Brazil](http://www.wikidata.org/entity/Q155)) (**ValueSnak** (**Property** [shares border with](http://www.wikidata.org/entity/P47)) (**Item** [Argentina](http://www.wikidata.org/entity/Q414))))"
      ],
      "text/plain": [
       "Statement(Item(IRI('http://www.wikidata.org/entity/Q155')), ValueSnak(Property(IRI('http://www.wikidata.org/entity/P47'), ItemDatatype()), Item(IRI('http://www.wikidata.org/entity/Q414'))))"
      ]
     },
     "metadata": {},
     "output_type": "display_data"
    },
    {
     "data": {
      "text/markdown": [
       "(**Statement** (**Item** [Brazil](http://www.wikidata.org/entity/Q155)) (**ValueSnak** (**Property** [shares border with](http://www.wikidata.org/entity/P47)) (**Item** [Peru](http://www.wikidata.org/entity/Q419))))"
      ],
      "text/plain": [
       "Statement(Item(IRI('http://www.wikidata.org/entity/Q155')), ValueSnak(Property(IRI('http://www.wikidata.org/entity/P47'), ItemDatatype()), Item(IRI('http://www.wikidata.org/entity/Q419'))))"
      ]
     },
     "metadata": {},
     "output_type": "display_data"
    },
    {
     "name": "stderr",
     "output_type": "stream",
     "text": [
      "INFO:httpx:HTTP Request: POST https://query.wikidata.org/sparql \"HTTP/1.1 200 OK\"\n"
     ]
    },
    {
     "data": {
      "text/markdown": [
       "(**Statement** (**Item** [Brazil](http://www.wikidata.org/entity/Q155)) (**ValueSnak** (**Property** [shares border with](http://www.wikidata.org/entity/P47)) (**Item** [Venezuela](http://www.wikidata.org/entity/Q717))))"
      ],
      "text/plain": [
       "Statement(Item(IRI('http://www.wikidata.org/entity/Q155')), ValueSnak(Property(IRI('http://www.wikidata.org/entity/P47'), ItemDatatype()), Item(IRI('http://www.wikidata.org/entity/Q717'))))"
      ]
     },
     "metadata": {},
     "output_type": "display_data"
    },
    {
     "data": {
      "text/markdown": [
       "(**Statement** (**Item** [Brazil](http://www.wikidata.org/entity/Q155)) (**ValueSnak** (**Property** [shares border with](http://www.wikidata.org/entity/P47)) (**Item** [Suriname](http://www.wikidata.org/entity/Q730))))"
      ],
      "text/plain": [
       "Statement(Item(IRI('http://www.wikidata.org/entity/Q155')), ValueSnak(Property(IRI('http://www.wikidata.org/entity/P47'), ItemDatatype()), Item(IRI('http://www.wikidata.org/entity/Q730'))))"
      ]
     },
     "metadata": {},
     "output_type": "display_data"
    },
    {
     "name": "stderr",
     "output_type": "stream",
     "text": [
      "INFO:httpx:HTTP Request: POST https://query.wikidata.org/sparql \"HTTP/1.1 200 OK\"\n"
     ]
    },
    {
     "data": {
      "text/markdown": [
       "(**Statement** (**Item** [Brazil](http://www.wikidata.org/entity/Q155)) (**ValueSnak** (**Property** [shares border with](http://www.wikidata.org/entity/P47)) (**Item** [Guyana](http://www.wikidata.org/entity/Q734))))"
      ],
      "text/plain": [
       "Statement(Item(IRI('http://www.wikidata.org/entity/Q155')), ValueSnak(Property(IRI('http://www.wikidata.org/entity/P47'), ItemDatatype()), Item(IRI('http://www.wikidata.org/entity/Q734'))))"
      ]
     },
     "metadata": {},
     "output_type": "display_data"
    },
    {
     "data": {
      "text/markdown": [
       "(**Statement** (**Item** [Brazil](http://www.wikidata.org/entity/Q155)) (**ValueSnak** (**Property** [shares border with](http://www.wikidata.org/entity/P47)) (**Item** [Paraguay](http://www.wikidata.org/entity/Q733))))"
      ],
      "text/plain": [
       "Statement(Item(IRI('http://www.wikidata.org/entity/Q155')), ValueSnak(Property(IRI('http://www.wikidata.org/entity/P47'), ItemDatatype()), Item(IRI('http://www.wikidata.org/entity/Q733'))))"
      ]
     },
     "metadata": {},
     "output_type": "display_data"
    },
    {
     "name": "stderr",
     "output_type": "stream",
     "text": [
      "INFO:httpx:HTTP Request: POST https://query.wikidata.org/sparql \"HTTP/1.1 200 OK\"\n"
     ]
    },
    {
     "data": {
      "text/markdown": [
       "(**Statement** (**Item** [Brazil](http://www.wikidata.org/entity/Q155)) (**ValueSnak** (**Property** [shares border with](http://www.wikidata.org/entity/P47)) (**Item** [Colombia](http://www.wikidata.org/entity/Q739))))"
      ],
      "text/plain": [
       "Statement(Item(IRI('http://www.wikidata.org/entity/Q155')), ValueSnak(Property(IRI('http://www.wikidata.org/entity/P47'), ItemDatatype()), Item(IRI('http://www.wikidata.org/entity/Q739'))))"
      ]
     },
     "metadata": {},
     "output_type": "display_data"
    },
    {
     "data": {
      "text/markdown": [
       "(**Statement** (**Item** [Brazil](http://www.wikidata.org/entity/Q155)) (**ValueSnak** (**Property** [shares border with](http://www.wikidata.org/entity/P47)) (**Item** [Bolivia](http://www.wikidata.org/entity/Q750))))"
      ],
      "text/plain": [
       "Statement(Item(IRI('http://www.wikidata.org/entity/Q155')), ValueSnak(Property(IRI('http://www.wikidata.org/entity/P47'), ItemDatatype()), Item(IRI('http://www.wikidata.org/entity/Q750'))))"
      ]
     },
     "metadata": {},
     "output_type": "display_data"
    },
    {
     "name": "stderr",
     "output_type": "stream",
     "text": [
      "INFO:httpx:HTTP Request: POST https://query.wikidata.org/sparql \"HTTP/1.1 200 OK\"\n"
     ]
    },
    {
     "data": {
      "text/markdown": [
       "(**Statement** (**Item** [Brazil](http://www.wikidata.org/entity/Q155)) (**ValueSnak** (**Property** [shares border with](http://www.wikidata.org/entity/P47)) (**Item** [French Guiana](http://www.wikidata.org/entity/Q3769))))"
      ],
      "text/plain": [
       "Statement(Item(IRI('http://www.wikidata.org/entity/Q155')), ValueSnak(Property(IRI('http://www.wikidata.org/entity/P47'), ItemDatatype()), Item(IRI('http://www.wikidata.org/entity/Q3769'))))"
      ]
     },
     "metadata": {},
     "output_type": "display_data"
    },
    {
     "data": {
      "text/markdown": [
       "(**Statement** (**Item** [Brazil](http://www.wikidata.org/entity/Q155)) (**ValueSnak** (**Property** [shares border with](http://www.wikidata.org/entity/P47)) (**Item** [Uruguay](http://www.wikidata.org/entity/Q77))))"
      ],
      "text/plain": [
       "Statement(Item(IRI('http://www.wikidata.org/entity/Q155')), ValueSnak(Property(IRI('http://www.wikidata.org/entity/P47'), ItemDatatype()), Item(IRI('http://www.wikidata.org/entity/Q77'))))"
      ]
     },
     "metadata": {},
     "output_type": "display_data"
    },
    {
     "name": "stderr",
     "output_type": "stream",
     "text": [
      "INFO:httpx:HTTP Request: POST https://query.wikidata.org/sparql \"HTTP/1.1 200 OK\"\n"
     ]
    },
    {
     "data": {
      "text/markdown": [
       "(**Statement** (**Item** [Brazil](http://www.wikidata.org/entity/Q155)) (**ValueSnak** (**Property** [shares border with](http://www.wikidata.org/entity/P47)) (**Item** [France](http://www.wikidata.org/entity/Q142))))"
      ],
      "text/plain": [
       "Statement(Item(IRI('http://www.wikidata.org/entity/Q155')), ValueSnak(Property(IRI('http://www.wikidata.org/entity/P47'), ItemDatatype()), Item(IRI('http://www.wikidata.org/entity/Q142'))))"
      ]
     },
     "metadata": {},
     "output_type": "display_data"
    },
    {
     "name": "stderr",
     "output_type": "stream",
     "text": [
      "INFO:httpx:HTTP Request: POST https://query.wikidata.org/sparql \"HTTP/1.1 200 OK\"\n"
     ]
    },
    {
     "name": "stdout",
     "output_type": "stream",
     "text": [
      "*** TOOK 1.29s ***\n"
     ]
    }
   ],
   "source": [
    "dt = time.time()\n",
    "for stmt in kb.filter(wd.Brazil, wd.shares_border_with):\n",
    "    display(stmt)\n",
    "print(f'*** TOOK {time.time() - dt:0.2f}s ***')"
   ]
  },
  {
   "cell_type": "markdown",
   "id": "085cf458-2284-4543-991d-fc8af2a6f874",
   "metadata": {},
   "source": [
    "## Asyncronous Mixer calls"
   ]
  },
  {
   "cell_type": "markdown",
   "id": "fe177dc0-fd74-409c-b27b-9b3d7b3039e3",
   "metadata": {},
   "source": [
    "The async version of the Mixer Store's `filter()` calls are evaluated parallel.\n",
    "\n",
    "That is, the filter is applied in parallel to the child stores.\n",
    "\n",
    "For example,"
   ]
  },
  {
   "cell_type": "code",
   "execution_count": 15,
   "id": "90dedd2b-be10-48a4-b1c9-104bfd6cffb4",
   "metadata": {},
   "outputs": [
    {
     "name": "stderr",
     "output_type": "stream",
     "text": [
      "INFO:httpx:HTTP Request: POST https://query.wikidata.org/sparql \"HTTP/1.1 200 OK\"\n",
      "INFO:httpx:HTTP Request: POST https://query.wikidata.org/sparql \"HTTP/1.1 200 OK\"\n",
      "INFO:httpx:HTTP Request: POST https://qlever.cs.uni-freiburg.de/api/pubchem \"HTTP/1.1 200 OK\"\n",
      "INFO:httpx:HTTP Request: POST https://qlever.cs.uni-freiburg.de/api/pubchem \"HTTP/1.1 200 OK\"\n"
     ]
    },
    {
     "data": {
      "text/markdown": [
       "(**Statement** (**Item** [benzene](http://www.wikidata.org/entity/Q2270)) (**ValueSnak** (**Property** [canonical SMILES](http://www.wikidata.org/entity/P233)) \"C1=CC=CC=C1\"))"
      ],
      "text/plain": [
       "Statement(Item(IRI('http://www.wikidata.org/entity/Q2270')), ValueSnak(Property(IRI('http://www.wikidata.org/entity/P233'), StringDatatype()), String('C1=CC=CC=C1')))"
      ]
     },
     "metadata": {},
     "output_type": "display_data"
    },
    {
     "data": {
      "text/markdown": [
       "(**Statement** (**Item** [pc:CID101103333](http://rdf.ncbi.nlm.nih.gov/pubchem/compound/CID101103333)) (**ValueSnak** (**Property** [canonical SMILES](http://www.wikidata.org/entity/P233)) \"C1=CC=CC=C1\"))"
      ],
      "text/plain": [
       "Statement(Item(IRI('http://rdf.ncbi.nlm.nih.gov/pubchem/compound/CID101103333')), ValueSnak(Property(IRI('http://www.wikidata.org/entity/P233'), StringDatatype()), String('C1=CC=CC=C1')))"
      ]
     },
     "metadata": {},
     "output_type": "display_data"
    },
    {
     "data": {
      "text/markdown": [
       "(**Statement** (**Item** [wd:Q1101314](http://www.wikidata.org/entity/Q1101314)) (**ValueSnak** (**Property** [canonical SMILES](http://www.wikidata.org/entity/P233)) \"C1=CC=CC=C1\"))"
      ],
      "text/plain": [
       "Statement(Item(IRI('http://www.wikidata.org/entity/Q1101314')), ValueSnak(Property(IRI('http://www.wikidata.org/entity/P233'), StringDatatype()), String('C1=CC=CC=C1')))"
      ]
     },
     "metadata": {},
     "output_type": "display_data"
    },
    {
     "data": {
      "text/markdown": [
       "(**Statement** (**Item** [pc:CID102602330](http://rdf.ncbi.nlm.nih.gov/pubchem/compound/CID102602330)) (**ValueSnak** (**Property** [canonical SMILES](http://www.wikidata.org/entity/P233)) \"C1=CC=CC=C1\"))"
      ],
      "text/plain": [
       "Statement(Item(IRI('http://rdf.ncbi.nlm.nih.gov/pubchem/compound/CID102602330')), ValueSnak(Property(IRI('http://www.wikidata.org/entity/P233'), StringDatatype()), String('C1=CC=CC=C1')))"
      ]
     },
     "metadata": {},
     "output_type": "display_data"
    },
    {
     "data": {
      "text/markdown": [
       "(**Statement** (**Item** [pc:CID11007819](http://rdf.ncbi.nlm.nih.gov/pubchem/compound/CID11007819)) (**ValueSnak** (**Property** [canonical SMILES](http://www.wikidata.org/entity/P233)) \"C1=CC=CC=C1\"))"
      ],
      "text/plain": [
       "Statement(Item(IRI('http://rdf.ncbi.nlm.nih.gov/pubchem/compound/CID11007819')), ValueSnak(Property(IRI('http://www.wikidata.org/entity/P233'), StringDatatype()), String('C1=CC=CC=C1')))"
      ]
     },
     "metadata": {},
     "output_type": "display_data"
    },
    {
     "data": {
      "text/markdown": [
       "(**Statement** (**Item** [pc:CID11309472](http://rdf.ncbi.nlm.nih.gov/pubchem/compound/CID11309472)) (**ValueSnak** (**Property** [canonical SMILES](http://www.wikidata.org/entity/P233)) \"C1=CC=CC=C1\"))"
      ],
      "text/plain": [
       "Statement(Item(IRI('http://rdf.ncbi.nlm.nih.gov/pubchem/compound/CID11309472')), ValueSnak(Property(IRI('http://www.wikidata.org/entity/P233'), StringDatatype()), String('C1=CC=CC=C1')))"
      ]
     },
     "metadata": {},
     "output_type": "display_data"
    },
    {
     "data": {
      "text/markdown": [
       "(**Statement** (**Item** [pc:CID11332416](http://rdf.ncbi.nlm.nih.gov/pubchem/compound/CID11332416)) (**ValueSnak** (**Property** [canonical SMILES](http://www.wikidata.org/entity/P233)) \"C1=CC=CC=C1\"))"
      ],
      "text/plain": [
       "Statement(Item(IRI('http://rdf.ncbi.nlm.nih.gov/pubchem/compound/CID11332416')), ValueSnak(Property(IRI('http://www.wikidata.org/entity/P233'), StringDatatype()), String('C1=CC=CC=C1')))"
      ]
     },
     "metadata": {},
     "output_type": "display_data"
    },
    {
     "data": {
      "text/markdown": [
       "(**Statement** (**Item** [pc:CID12196274](http://rdf.ncbi.nlm.nih.gov/pubchem/compound/CID12196274)) (**ValueSnak** (**Property** [canonical SMILES](http://www.wikidata.org/entity/P233)) \"C1=CC=CC=C1\"))"
      ],
      "text/plain": [
       "Statement(Item(IRI('http://rdf.ncbi.nlm.nih.gov/pubchem/compound/CID12196274')), ValueSnak(Property(IRI('http://www.wikidata.org/entity/P233'), StringDatatype()), String('C1=CC=CC=C1')))"
      ]
     },
     "metadata": {},
     "output_type": "display_data"
    },
    {
     "data": {
      "text/markdown": [
       "(**Statement** (**Item** [pc:CID12208570](http://rdf.ncbi.nlm.nih.gov/pubchem/compound/CID12208570)) (**ValueSnak** (**Property** [canonical SMILES](http://www.wikidata.org/entity/P233)) \"C1=CC=CC=C1\"))"
      ],
      "text/plain": [
       "Statement(Item(IRI('http://rdf.ncbi.nlm.nih.gov/pubchem/compound/CID12208570')), ValueSnak(Property(IRI('http://www.wikidata.org/entity/P233'), StringDatatype()), String('C1=CC=CC=C1')))"
      ]
     },
     "metadata": {},
     "output_type": "display_data"
    },
    {
     "data": {
      "text/markdown": [
       "(**Statement** (**Item** [pc:CID123097](http://rdf.ncbi.nlm.nih.gov/pubchem/compound/CID123097)) (**ValueSnak** (**Property** [canonical SMILES](http://www.wikidata.org/entity/P233)) \"C1=CC=CC=C1\"))"
      ],
      "text/plain": [
       "Statement(Item(IRI('http://rdf.ncbi.nlm.nih.gov/pubchem/compound/CID123097')), ValueSnak(Property(IRI('http://www.wikidata.org/entity/P233'), StringDatatype()), String('C1=CC=CC=C1')))"
      ]
     },
     "metadata": {},
     "output_type": "display_data"
    },
    {
     "data": {
      "text/markdown": [
       "(**Statement** (**Item** [pc:CID129763261](http://rdf.ncbi.nlm.nih.gov/pubchem/compound/CID129763261)) (**ValueSnak** (**Property** [canonical SMILES](http://www.wikidata.org/entity/P233)) \"C1=CC=CC=C1\"))"
      ],
      "text/plain": [
       "Statement(Item(IRI('http://rdf.ncbi.nlm.nih.gov/pubchem/compound/CID129763261')), ValueSnak(Property(IRI('http://www.wikidata.org/entity/P233'), StringDatatype()), String('C1=CC=CC=C1')))"
      ]
     },
     "metadata": {},
     "output_type": "display_data"
    },
    {
     "data": {
      "text/markdown": [
       "(**Statement** (**Item** [pc:CID13000141](http://rdf.ncbi.nlm.nih.gov/pubchem/compound/CID13000141)) (**ValueSnak** (**Property** [canonical SMILES](http://www.wikidata.org/entity/P233)) \"C1=CC=CC=C1\"))"
      ],
      "text/plain": [
       "Statement(Item(IRI('http://rdf.ncbi.nlm.nih.gov/pubchem/compound/CID13000141')), ValueSnak(Property(IRI('http://www.wikidata.org/entity/P233'), StringDatatype()), String('C1=CC=CC=C1')))"
      ]
     },
     "metadata": {},
     "output_type": "display_data"
    },
    {
     "data": {
      "text/markdown": [
       "(**Statement** (**Item** [pc:CID13000143](http://rdf.ncbi.nlm.nih.gov/pubchem/compound/CID13000143)) (**ValueSnak** (**Property** [canonical SMILES](http://www.wikidata.org/entity/P233)) \"C1=CC=CC=C1\"))"
      ],
      "text/plain": [
       "Statement(Item(IRI('http://rdf.ncbi.nlm.nih.gov/pubchem/compound/CID13000143')), ValueSnak(Property(IRI('http://www.wikidata.org/entity/P233'), StringDatatype()), String('C1=CC=CC=C1')))"
      ]
     },
     "metadata": {},
     "output_type": "display_data"
    },
    {
     "data": {
      "text/markdown": [
       "(**Statement** (**Item** [pc:CID13000144](http://rdf.ncbi.nlm.nih.gov/pubchem/compound/CID13000144)) (**ValueSnak** (**Property** [canonical SMILES](http://www.wikidata.org/entity/P233)) \"C1=CC=CC=C1\"))"
      ],
      "text/plain": [
       "Statement(Item(IRI('http://rdf.ncbi.nlm.nih.gov/pubchem/compound/CID13000144')), ValueSnak(Property(IRI('http://www.wikidata.org/entity/P233'), StringDatatype()), String('C1=CC=CC=C1')))"
      ]
     },
     "metadata": {},
     "output_type": "display_data"
    },
    {
     "data": {
      "text/markdown": [
       "(**Statement** (**Item** [pc:CID139243813](http://rdf.ncbi.nlm.nih.gov/pubchem/compound/CID139243813)) (**ValueSnak** (**Property** [canonical SMILES](http://www.wikidata.org/entity/P233)) \"C1=CC=CC=C1\"))"
      ],
      "text/plain": [
       "Statement(Item(IRI('http://rdf.ncbi.nlm.nih.gov/pubchem/compound/CID139243813')), ValueSnak(Property(IRI('http://www.wikidata.org/entity/P233'), StringDatatype()), String('C1=CC=CC=C1')))"
      ]
     },
     "metadata": {},
     "output_type": "display_data"
    },
    {
     "data": {
      "text/markdown": [
       "(**Statement** (**Item** [pc:CID139243814](http://rdf.ncbi.nlm.nih.gov/pubchem/compound/CID139243814)) (**ValueSnak** (**Property** [canonical SMILES](http://www.wikidata.org/entity/P233)) \"C1=CC=CC=C1\"))"
      ],
      "text/plain": [
       "Statement(Item(IRI('http://rdf.ncbi.nlm.nih.gov/pubchem/compound/CID139243814')), ValueSnak(Property(IRI('http://www.wikidata.org/entity/P233'), StringDatatype()), String('C1=CC=CC=C1')))"
      ]
     },
     "metadata": {},
     "output_type": "display_data"
    },
    {
     "data": {
      "text/markdown": [
       "(**Statement** (**Item** [pc:CID147522](http://rdf.ncbi.nlm.nih.gov/pubchem/compound/CID147522)) (**ValueSnak** (**Property** [canonical SMILES](http://www.wikidata.org/entity/P233)) \"C1=CC=CC=C1\"))"
      ],
      "text/plain": [
       "Statement(Item(IRI('http://rdf.ncbi.nlm.nih.gov/pubchem/compound/CID147522')), ValueSnak(Property(IRI('http://www.wikidata.org/entity/P233'), StringDatatype()), String('C1=CC=CC=C1')))"
      ]
     },
     "metadata": {},
     "output_type": "display_data"
    },
    {
     "data": {
      "text/markdown": [
       "(**Statement** (**Item** [pc:CID161094261](http://rdf.ncbi.nlm.nih.gov/pubchem/compound/CID161094261)) (**ValueSnak** (**Property** [canonical SMILES](http://www.wikidata.org/entity/P233)) \"C1=CC=CC=C1\"))"
      ],
      "text/plain": [
       "Statement(Item(IRI('http://rdf.ncbi.nlm.nih.gov/pubchem/compound/CID161094261')), ValueSnak(Property(IRI('http://www.wikidata.org/entity/P233'), StringDatatype()), String('C1=CC=CC=C1')))"
      ]
     },
     "metadata": {},
     "output_type": "display_data"
    },
    {
     "data": {
      "text/markdown": [
       "(**Statement** (**Item** [pc:CID161094262](http://rdf.ncbi.nlm.nih.gov/pubchem/compound/CID161094262)) (**ValueSnak** (**Property** [canonical SMILES](http://www.wikidata.org/entity/P233)) \"C1=CC=CC=C1\"))"
      ],
      "text/plain": [
       "Statement(Item(IRI('http://rdf.ncbi.nlm.nih.gov/pubchem/compound/CID161094262')), ValueSnak(Property(IRI('http://www.wikidata.org/entity/P233'), StringDatatype()), String('C1=CC=CC=C1')))"
      ]
     },
     "metadata": {},
     "output_type": "display_data"
    },
    {
     "data": {
      "text/markdown": [
       "(**Statement** (**Item** [pc:CID16212250](http://rdf.ncbi.nlm.nih.gov/pubchem/compound/CID16212250)) (**ValueSnak** (**Property** [canonical SMILES](http://www.wikidata.org/entity/P233)) \"C1=CC=CC=C1\"))"
      ],
      "text/plain": [
       "Statement(Item(IRI('http://rdf.ncbi.nlm.nih.gov/pubchem/compound/CID16212250')), ValueSnak(Property(IRI('http://www.wikidata.org/entity/P233'), StringDatatype()), String('C1=CC=CC=C1')))"
      ]
     },
     "metadata": {},
     "output_type": "display_data"
    },
    {
     "data": {
      "text/markdown": [
       "(**Statement** (**Item** [pc:CID16217359](http://rdf.ncbi.nlm.nih.gov/pubchem/compound/CID16217359)) (**ValueSnak** (**Property** [canonical SMILES](http://www.wikidata.org/entity/P233)) \"C1=CC=CC=C1\"))"
      ],
      "text/plain": [
       "Statement(Item(IRI('http://rdf.ncbi.nlm.nih.gov/pubchem/compound/CID16217359')), ValueSnak(Property(IRI('http://www.wikidata.org/entity/P233'), StringDatatype()), String('C1=CC=CC=C1')))"
      ]
     },
     "metadata": {},
     "output_type": "display_data"
    },
    {
     "data": {
      "text/markdown": [
       "(**Statement** (**Item** [pc:CID241](http://rdf.ncbi.nlm.nih.gov/pubchem/compound/CID241)) (**ValueSnak** (**Property** [canonical SMILES](http://www.wikidata.org/entity/P233)) \"C1=CC=CC=C1\"))"
      ],
      "text/plain": [
       "Statement(Item(IRI('http://rdf.ncbi.nlm.nih.gov/pubchem/compound/CID241')), ValueSnak(Property(IRI('http://www.wikidata.org/entity/P233'), StringDatatype()), String('C1=CC=CC=C1')))"
      ]
     },
     "metadata": {},
     "output_type": "display_data"
    },
    {
     "data": {
      "text/markdown": [
       "(**Statement** (**Item** [pc:CID45052197](http://rdf.ncbi.nlm.nih.gov/pubchem/compound/CID45052197)) (**ValueSnak** (**Property** [canonical SMILES](http://www.wikidata.org/entity/P233)) \"C1=CC=CC=C1\"))"
      ],
      "text/plain": [
       "Statement(Item(IRI('http://rdf.ncbi.nlm.nih.gov/pubchem/compound/CID45052197')), ValueSnak(Property(IRI('http://www.wikidata.org/entity/P233'), StringDatatype()), String('C1=CC=CC=C1')))"
      ]
     },
     "metadata": {},
     "output_type": "display_data"
    },
    {
     "data": {
      "text/markdown": [
       "(**Statement** (**Item** [pc:CID53723443](http://rdf.ncbi.nlm.nih.gov/pubchem/compound/CID53723443)) (**ValueSnak** (**Property** [canonical SMILES](http://www.wikidata.org/entity/P233)) \"C1=CC=CC=C1\"))"
      ],
      "text/plain": [
       "Statement(Item(IRI('http://rdf.ncbi.nlm.nih.gov/pubchem/compound/CID53723443')), ValueSnak(Property(IRI('http://www.wikidata.org/entity/P233'), StringDatatype()), String('C1=CC=CC=C1')))"
      ]
     },
     "metadata": {},
     "output_type": "display_data"
    },
    {
     "data": {
      "text/markdown": [
       "(**Statement** (**Item** [pc:CID56621421](http://rdf.ncbi.nlm.nih.gov/pubchem/compound/CID56621421)) (**ValueSnak** (**Property** [canonical SMILES](http://www.wikidata.org/entity/P233)) \"C1=CC=CC=C1\"))"
      ],
      "text/plain": [
       "Statement(Item(IRI('http://rdf.ncbi.nlm.nih.gov/pubchem/compound/CID56621421')), ValueSnak(Property(IRI('http://www.wikidata.org/entity/P233'), StringDatatype()), String('C1=CC=CC=C1')))"
      ]
     },
     "metadata": {},
     "output_type": "display_data"
    },
    {
     "data": {
      "text/markdown": [
       "(**Statement** (**Item** [pc:CID56845949](http://rdf.ncbi.nlm.nih.gov/pubchem/compound/CID56845949)) (**ValueSnak** (**Property** [canonical SMILES](http://www.wikidata.org/entity/P233)) \"C1=CC=CC=C1\"))"
      ],
      "text/plain": [
       "Statement(Item(IRI('http://rdf.ncbi.nlm.nih.gov/pubchem/compound/CID56845949')), ValueSnak(Property(IRI('http://www.wikidata.org/entity/P233'), StringDatatype()), String('C1=CC=CC=C1')))"
      ]
     },
     "metadata": {},
     "output_type": "display_data"
    },
    {
     "data": {
      "text/markdown": [
       "(**Statement** (**Item** [pc:CID57190391](http://rdf.ncbi.nlm.nih.gov/pubchem/compound/CID57190391)) (**ValueSnak** (**Property** [canonical SMILES](http://www.wikidata.org/entity/P233)) \"C1=CC=CC=C1\"))"
      ],
      "text/plain": [
       "Statement(Item(IRI('http://rdf.ncbi.nlm.nih.gov/pubchem/compound/CID57190391')), ValueSnak(Property(IRI('http://www.wikidata.org/entity/P233'), StringDatatype()), String('C1=CC=CC=C1')))"
      ]
     },
     "metadata": {},
     "output_type": "display_data"
    },
    {
     "data": {
      "text/markdown": [
       "(**Statement** (**Item** [pc:CID57264323](http://rdf.ncbi.nlm.nih.gov/pubchem/compound/CID57264323)) (**ValueSnak** (**Property** [canonical SMILES](http://www.wikidata.org/entity/P233)) \"C1=CC=CC=C1\"))"
      ],
      "text/plain": [
       "Statement(Item(IRI('http://rdf.ncbi.nlm.nih.gov/pubchem/compound/CID57264323')), ValueSnak(Property(IRI('http://www.wikidata.org/entity/P233'), StringDatatype()), String('C1=CC=CC=C1')))"
      ]
     },
     "metadata": {},
     "output_type": "display_data"
    },
    {
     "data": {
      "text/markdown": [
       "(**Statement** (**Item** [pc:CID71308903](http://rdf.ncbi.nlm.nih.gov/pubchem/compound/CID71308903)) (**ValueSnak** (**Property** [canonical SMILES](http://www.wikidata.org/entity/P233)) \"C1=CC=CC=C1\"))"
      ],
      "text/plain": [
       "Statement(Item(IRI('http://rdf.ncbi.nlm.nih.gov/pubchem/compound/CID71308903')), ValueSnak(Property(IRI('http://www.wikidata.org/entity/P233'), StringDatatype()), String('C1=CC=CC=C1')))"
      ]
     },
     "metadata": {},
     "output_type": "display_data"
    },
    {
     "data": {
      "text/markdown": [
       "(**Statement** (**Item** [pc:CID71309208](http://rdf.ncbi.nlm.nih.gov/pubchem/compound/CID71309208)) (**ValueSnak** (**Property** [canonical SMILES](http://www.wikidata.org/entity/P233)) \"C1=CC=CC=C1\"))"
      ],
      "text/plain": [
       "Statement(Item(IRI('http://rdf.ncbi.nlm.nih.gov/pubchem/compound/CID71309208')), ValueSnak(Property(IRI('http://www.wikidata.org/entity/P233'), StringDatatype()), String('C1=CC=CC=C1')))"
      ]
     },
     "metadata": {},
     "output_type": "display_data"
    },
    {
     "data": {
      "text/markdown": [
       "(**Statement** (**Item** [pc:CID71601](http://rdf.ncbi.nlm.nih.gov/pubchem/compound/CID71601)) (**ValueSnak** (**Property** [canonical SMILES](http://www.wikidata.org/entity/P233)) \"C1=CC=CC=C1\"))"
      ],
      "text/plain": [
       "Statement(Item(IRI('http://rdf.ncbi.nlm.nih.gov/pubchem/compound/CID71601')), ValueSnak(Property(IRI('http://www.wikidata.org/entity/P233'), StringDatatype()), String('C1=CC=CC=C1')))"
      ]
     },
     "metadata": {},
     "output_type": "display_data"
    }
   ],
   "source": [
    "mx = Store('mixer', (Store('wdqs'), Store('pubchem-sparql')))\n",
    "async for stmt in mx.afilter(property=wd.canonical_SMILES, value='C1=CC=CC=C1'):\n",
    "    display(stmt)"
   ]
  },
  {
   "cell_type": "markdown",
   "id": "a7deff57-e47e-4519-b784-a6f77e7eca10",
   "metadata": {},
   "source": [
    "## Evaluating filters in parallel"
   ]
  },
  {
   "cell_type": "markdown",
   "id": "da881c85-28ed-40e0-9764-df482d5bdd18",
   "metadata": {},
   "source": [
    "Sometimes one need to evaluate multiple filters over the same store.\n",
    "\n",
    "This can be done convinently using the methods `Store.mix` and `Store.amix`.\n",
    "\n",
    "The advantage of the async version, `Store.amix`, is that is performes the evaluation in parallel.\n",
    "\n",
    "For example, consider the following store:"
   ]
  },
  {
   "cell_type": "code",
   "execution_count": 16,
   "id": "8a30a296-d1bf-46eb-834d-aa3e3279fba7",
   "metadata": {},
   "outputs": [],
   "source": [
    "kb = Store('wdqs')\n",
    "kb.lookahead = 4\n",
    "kb.page_size = 2"
   ]
  },
  {
   "cell_type": "markdown",
   "id": "fcd47d28-a47d-4b7b-b9fb-79afe667e5f9",
   "metadata": {},
   "source": [
    "Let us now use `Store.amix` to evaluate mutiple filters in parallel:"
   ]
  },
  {
   "cell_type": "code",
   "execution_count": 17,
   "id": "b3891473-5c8a-46d3-bd2b-c293c32070d0",
   "metadata": {},
   "outputs": [
    {
     "name": "stderr",
     "output_type": "stream",
     "text": [
      "INFO:httpx:HTTP Request: POST https://query.wikidata.org/sparql \"HTTP/1.1 200 OK\"\n",
      "INFO:httpx:HTTP Request: POST https://query.wikidata.org/sparql \"HTTP/1.1 200 OK\"\n",
      "INFO:httpx:HTTP Request: POST https://query.wikidata.org/sparql \"HTTP/1.1 200 OK\"\n",
      "INFO:httpx:HTTP Request: POST https://query.wikidata.org/sparql \"HTTP/1.1 200 OK\"\n",
      "INFO:httpx:HTTP Request: POST https://query.wikidata.org/sparql \"HTTP/1.1 200 OK\"\n",
      "INFO:httpx:HTTP Request: POST https://query.wikidata.org/sparql \"HTTP/1.1 200 OK\"\n",
      "INFO:httpx:HTTP Request: POST https://query.wikidata.org/sparql \"HTTP/1.1 200 OK\"\n",
      "INFO:httpx:HTTP Request: POST https://query.wikidata.org/sparql \"HTTP/1.1 200 OK\"\n",
      "INFO:httpx:HTTP Request: POST https://query.wikidata.org/sparql \"HTTP/1.1 200 OK\"\n",
      "INFO:httpx:HTTP Request: POST https://query.wikidata.org/sparql \"HTTP/1.1 200 OK\"\n",
      "INFO:httpx:HTTP Request: POST https://query.wikidata.org/sparql \"HTTP/1.1 200 OK\"\n",
      "INFO:httpx:HTTP Request: POST https://query.wikidata.org/sparql \"HTTP/1.1 200 OK\"\n"
     ]
    },
    {
     "data": {
      "text/markdown": [
       "(**Statement** (**Item** [Brazil](http://www.wikidata.org/entity/Q155)) (**ValueSnak** (**Property** [shares border with](http://www.wikidata.org/entity/P47)) (**Item** [Argentina](http://www.wikidata.org/entity/Q414))))"
      ],
      "text/plain": [
       "Statement(Item(IRI('http://www.wikidata.org/entity/Q155')), ValueSnak(Property(IRI('http://www.wikidata.org/entity/P47'), ItemDatatype()), Item(IRI('http://www.wikidata.org/entity/Q414'))))"
      ]
     },
     "metadata": {},
     "output_type": "display_data"
    },
    {
     "data": {
      "text/markdown": [
       "(**Statement** (**Item** [Argentina](http://www.wikidata.org/entity/Q414)) (**ValueSnak** (**Property** [shares border with](http://www.wikidata.org/entity/P47)) (**Item** [Chile](http://www.wikidata.org/entity/Q298))))"
      ],
      "text/plain": [
       "Statement(Item(IRI('http://www.wikidata.org/entity/Q414')), ValueSnak(Property(IRI('http://www.wikidata.org/entity/P47'), ItemDatatype()), Item(IRI('http://www.wikidata.org/entity/Q298'))))"
      ]
     },
     "metadata": {},
     "output_type": "display_data"
    },
    {
     "data": {
      "text/markdown": [
       "(**Statement** (**Item** [Paraguay](http://www.wikidata.org/entity/Q733)) (**ValueSnak** (**Property** [shares border with](http://www.wikidata.org/entity/P47)) (**Item** [Argentina](http://www.wikidata.org/entity/Q414))))"
      ],
      "text/plain": [
       "Statement(Item(IRI('http://www.wikidata.org/entity/Q733')), ValueSnak(Property(IRI('http://www.wikidata.org/entity/P47'), ItemDatatype()), Item(IRI('http://www.wikidata.org/entity/Q414'))))"
      ]
     },
     "metadata": {},
     "output_type": "display_data"
    },
    {
     "data": {
      "text/markdown": [
       "(**Statement** (**Item** [Brazil](http://www.wikidata.org/entity/Q155)) (**ValueSnak** (**Property** [shares border with](http://www.wikidata.org/entity/P47)) (**Item** [Peru](http://www.wikidata.org/entity/Q419))))"
      ],
      "text/plain": [
       "Statement(Item(IRI('http://www.wikidata.org/entity/Q155')), ValueSnak(Property(IRI('http://www.wikidata.org/entity/P47'), ItemDatatype()), Item(IRI('http://www.wikidata.org/entity/Q419'))))"
      ]
     },
     "metadata": {},
     "output_type": "display_data"
    },
    {
     "data": {
      "text/markdown": [
       "(**Statement** (**Item** [Argentina](http://www.wikidata.org/entity/Q414)) (**ValueSnak** (**Property** [shares border with](http://www.wikidata.org/entity/P47)) (**Item** [Paraguay](http://www.wikidata.org/entity/Q733))))"
      ],
      "text/plain": [
       "Statement(Item(IRI('http://www.wikidata.org/entity/Q414')), ValueSnak(Property(IRI('http://www.wikidata.org/entity/P47'), ItemDatatype()), Item(IRI('http://www.wikidata.org/entity/Q733'))))"
      ]
     },
     "metadata": {},
     "output_type": "display_data"
    },
    {
     "data": {
      "text/markdown": [
       "(**Statement** (**Item** [Paraguay](http://www.wikidata.org/entity/Q733)) (**ValueSnak** (**Property** [shares border with](http://www.wikidata.org/entity/P47)) (**Item** [Bolivia](http://www.wikidata.org/entity/Q750))))"
      ],
      "text/plain": [
       "Statement(Item(IRI('http://www.wikidata.org/entity/Q733')), ValueSnak(Property(IRI('http://www.wikidata.org/entity/P47'), ItemDatatype()), Item(IRI('http://www.wikidata.org/entity/Q750'))))"
      ]
     },
     "metadata": {},
     "output_type": "display_data"
    },
    {
     "data": {
      "text/markdown": [
       "(**Statement** (**Item** [Brazil](http://www.wikidata.org/entity/Q155)) (**ValueSnak** (**Property** [shares border with](http://www.wikidata.org/entity/P47)) (**Item** [Venezuela](http://www.wikidata.org/entity/Q717))))"
      ],
      "text/plain": [
       "Statement(Item(IRI('http://www.wikidata.org/entity/Q155')), ValueSnak(Property(IRI('http://www.wikidata.org/entity/P47'), ItemDatatype()), Item(IRI('http://www.wikidata.org/entity/Q717'))))"
      ]
     },
     "metadata": {},
     "output_type": "display_data"
    },
    {
     "data": {
      "text/markdown": [
       "(**Statement** (**Item** [Argentina](http://www.wikidata.org/entity/Q414)) (**ValueSnak** (**Property** [shares border with](http://www.wikidata.org/entity/P47)) (**Item** [Bolivia](http://www.wikidata.org/entity/Q750))))"
      ],
      "text/plain": [
       "Statement(Item(IRI('http://www.wikidata.org/entity/Q414')), ValueSnak(Property(IRI('http://www.wikidata.org/entity/P47'), ItemDatatype()), Item(IRI('http://www.wikidata.org/entity/Q750'))))"
      ]
     },
     "metadata": {},
     "output_type": "display_data"
    },
    {
     "data": {
      "text/markdown": [
       "(**Statement** (**Item** [Paraguay](http://www.wikidata.org/entity/Q733)) (**ValueSnak** (**Property** [shares border with](http://www.wikidata.org/entity/P47)) (**Item** [Brazil](http://www.wikidata.org/entity/Q155))))"
      ],
      "text/plain": [
       "Statement(Item(IRI('http://www.wikidata.org/entity/Q733')), ValueSnak(Property(IRI('http://www.wikidata.org/entity/P47'), ItemDatatype()), Item(IRI('http://www.wikidata.org/entity/Q155'))))"
      ]
     },
     "metadata": {},
     "output_type": "display_data"
    },
    {
     "data": {
      "text/markdown": [
       "(**Statement** (**Item** [Brazil](http://www.wikidata.org/entity/Q155)) (**ValueSnak** (**Property** [shares border with](http://www.wikidata.org/entity/P47)) (**Item** [Suriname](http://www.wikidata.org/entity/Q730))))"
      ],
      "text/plain": [
       "Statement(Item(IRI('http://www.wikidata.org/entity/Q155')), ValueSnak(Property(IRI('http://www.wikidata.org/entity/P47'), ItemDatatype()), Item(IRI('http://www.wikidata.org/entity/Q730'))))"
      ]
     },
     "metadata": {},
     "output_type": "display_data"
    },
    {
     "data": {
      "text/markdown": [
       "(**Statement** (**Item** [Argentina](http://www.wikidata.org/entity/Q414)) (**ValueSnak** (**Property** [shares border with](http://www.wikidata.org/entity/P47)) (**Item** [Uruguay](http://www.wikidata.org/entity/Q77))))"
      ],
      "text/plain": [
       "Statement(Item(IRI('http://www.wikidata.org/entity/Q414')), ValueSnak(Property(IRI('http://www.wikidata.org/entity/P47'), ItemDatatype()), Item(IRI('http://www.wikidata.org/entity/Q77'))))"
      ]
     },
     "metadata": {},
     "output_type": "display_data"
    },
    {
     "data": {
      "text/markdown": [
       "(**Statement** (**Item** [Brazil](http://www.wikidata.org/entity/Q155)) (**ValueSnak** (**Property** [shares border with](http://www.wikidata.org/entity/P47)) (**Item** [Guyana](http://www.wikidata.org/entity/Q734))))"
      ],
      "text/plain": [
       "Statement(Item(IRI('http://www.wikidata.org/entity/Q155')), ValueSnak(Property(IRI('http://www.wikidata.org/entity/P47'), ItemDatatype()), Item(IRI('http://www.wikidata.org/entity/Q734'))))"
      ]
     },
     "metadata": {},
     "output_type": "display_data"
    },
    {
     "data": {
      "text/markdown": [
       "(**Statement** (**Item** [Argentina](http://www.wikidata.org/entity/Q414)) (**ValueSnak** (**Property** [shares border with](http://www.wikidata.org/entity/P47)) (**Item** [wd:Q145](http://www.wikidata.org/entity/Q145))))"
      ],
      "text/plain": [
       "Statement(Item(IRI('http://www.wikidata.org/entity/Q414')), ValueSnak(Property(IRI('http://www.wikidata.org/entity/P47'), ItemDatatype()), Item(IRI('http://www.wikidata.org/entity/Q145'))))"
      ]
     },
     "metadata": {},
     "output_type": "display_data"
    },
    {
     "data": {
      "text/markdown": [
       "(**Statement** (**Item** [Brazil](http://www.wikidata.org/entity/Q155)) (**ValueSnak** (**Property** [shares border with](http://www.wikidata.org/entity/P47)) (**Item** [Paraguay](http://www.wikidata.org/entity/Q733))))"
      ],
      "text/plain": [
       "Statement(Item(IRI('http://www.wikidata.org/entity/Q155')), ValueSnak(Property(IRI('http://www.wikidata.org/entity/P47'), ItemDatatype()), Item(IRI('http://www.wikidata.org/entity/Q733'))))"
      ]
     },
     "metadata": {},
     "output_type": "display_data"
    },
    {
     "data": {
      "text/markdown": [
       "(**Statement** (**Item** [Argentina](http://www.wikidata.org/entity/Q414)) (**ValueSnak** (**Property** [shares border with](http://www.wikidata.org/entity/P47)) (**Item** [Brazil](http://www.wikidata.org/entity/Q155))))"
      ],
      "text/plain": [
       "Statement(Item(IRI('http://www.wikidata.org/entity/Q414')), ValueSnak(Property(IRI('http://www.wikidata.org/entity/P47'), ItemDatatype()), Item(IRI('http://www.wikidata.org/entity/Q155'))))"
      ]
     },
     "metadata": {},
     "output_type": "display_data"
    },
    {
     "name": "stderr",
     "output_type": "stream",
     "text": [
      "INFO:httpx:HTTP Request: POST https://query.wikidata.org/sparql \"HTTP/1.1 200 OK\"\n",
      "INFO:httpx:HTTP Request: POST https://query.wikidata.org/sparql \"HTTP/1.1 200 OK\"\n",
      "INFO:httpx:HTTP Request: POST https://query.wikidata.org/sparql \"HTTP/1.1 200 OK\"\n",
      "INFO:httpx:HTTP Request: POST https://query.wikidata.org/sparql \"HTTP/1.1 200 OK\"\n"
     ]
    },
    {
     "data": {
      "text/markdown": [
       "(**Statement** (**Item** [Brazil](http://www.wikidata.org/entity/Q155)) (**ValueSnak** (**Property** [shares border with](http://www.wikidata.org/entity/P47)) (**Item** [Colombia](http://www.wikidata.org/entity/Q739))))"
      ],
      "text/plain": [
       "Statement(Item(IRI('http://www.wikidata.org/entity/Q155')), ValueSnak(Property(IRI('http://www.wikidata.org/entity/P47'), ItemDatatype()), Item(IRI('http://www.wikidata.org/entity/Q739'))))"
      ]
     },
     "metadata": {},
     "output_type": "display_data"
    },
    {
     "data": {
      "text/markdown": [
       "(**Statement** (**Item** [Brazil](http://www.wikidata.org/entity/Q155)) (**ValueSnak** (**Property** [shares border with](http://www.wikidata.org/entity/P47)) (**Item** [Bolivia](http://www.wikidata.org/entity/Q750))))"
      ],
      "text/plain": [
       "Statement(Item(IRI('http://www.wikidata.org/entity/Q155')), ValueSnak(Property(IRI('http://www.wikidata.org/entity/P47'), ItemDatatype()), Item(IRI('http://www.wikidata.org/entity/Q750'))))"
      ]
     },
     "metadata": {},
     "output_type": "display_data"
    },
    {
     "name": "stderr",
     "output_type": "stream",
     "text": [
      "INFO:httpx:HTTP Request: POST https://query.wikidata.org/sparql \"HTTP/1.1 200 OK\"\n",
      "INFO:httpx:HTTP Request: POST https://query.wikidata.org/sparql \"HTTP/1.1 200 OK\"\n",
      "INFO:httpx:HTTP Request: POST https://query.wikidata.org/sparql \"HTTP/1.1 200 OK\"\n",
      "INFO:httpx:HTTP Request: POST https://query.wikidata.org/sparql \"HTTP/1.1 200 OK\"\n"
     ]
    },
    {
     "data": {
      "text/markdown": [
       "(**Statement** (**Item** [Brazil](http://www.wikidata.org/entity/Q155)) (**ValueSnak** (**Property** [shares border with](http://www.wikidata.org/entity/P47)) (**Item** [French Guiana](http://www.wikidata.org/entity/Q3769))))"
      ],
      "text/plain": [
       "Statement(Item(IRI('http://www.wikidata.org/entity/Q155')), ValueSnak(Property(IRI('http://www.wikidata.org/entity/P47'), ItemDatatype()), Item(IRI('http://www.wikidata.org/entity/Q3769'))))"
      ]
     },
     "metadata": {},
     "output_type": "display_data"
    },
    {
     "data": {
      "text/markdown": [
       "(**Statement** (**Item** [Brazil](http://www.wikidata.org/entity/Q155)) (**ValueSnak** (**Property** [shares border with](http://www.wikidata.org/entity/P47)) (**Item** [Uruguay](http://www.wikidata.org/entity/Q77))))"
      ],
      "text/plain": [
       "Statement(Item(IRI('http://www.wikidata.org/entity/Q155')), ValueSnak(Property(IRI('http://www.wikidata.org/entity/P47'), ItemDatatype()), Item(IRI('http://www.wikidata.org/entity/Q77'))))"
      ]
     },
     "metadata": {},
     "output_type": "display_data"
    },
    {
     "data": {
      "text/markdown": [
       "(**Statement** (**Item** [Brazil](http://www.wikidata.org/entity/Q155)) (**ValueSnak** (**Property** [shares border with](http://www.wikidata.org/entity/P47)) (**Item** [France](http://www.wikidata.org/entity/Q142))))"
      ],
      "text/plain": [
       "Statement(Item(IRI('http://www.wikidata.org/entity/Q155')), ValueSnak(Property(IRI('http://www.wikidata.org/entity/P47'), ItemDatatype()), Item(IRI('http://www.wikidata.org/entity/Q142'))))"
      ]
     },
     "metadata": {},
     "output_type": "display_data"
    },
    {
     "name": "stdout",
     "output_type": "stream",
     "text": [
      "*** TOOK 1.02s ***\n"
     ]
    }
   ],
   "source": [
    "it = kb.amix(\n",
    "    Filter(wd.Brazil, wd.shares_border_with),\n",
    "    Filter(wd.Argentina, wd.shares_border_with),\n",
    "    Filter(wd.Paraguay, wd.shares_border_with))\n",
    "\n",
    "dt = time.time()\n",
    "async for stmt in it:\n",
    "    display(stmt)\n",
    "print(f'*** TOOK {time.time() - dt:0.2f}s ***')"
   ]
  },
  {
   "cell_type": "markdown",
   "id": "238a8607-1f71-418f-8ece-93bdf4fcc6d3",
   "metadata": {},
   "source": [
    "Contrast this with the synchronous version:"
   ]
  },
  {
   "cell_type": "code",
   "execution_count": 18,
   "id": "a89c1549-5025-416a-9ad7-a1f7f612e2de",
   "metadata": {},
   "outputs": [
    {
     "name": "stderr",
     "output_type": "stream",
     "text": [
      "INFO:httpx:HTTP Request: POST https://query.wikidata.org/sparql \"HTTP/1.1 200 OK\"\n",
      "INFO:httpx:HTTP Request: POST https://query.wikidata.org/sparql \"HTTP/1.1 200 OK\"\n",
      "INFO:httpx:HTTP Request: POST https://query.wikidata.org/sparql \"HTTP/1.1 200 OK\"\n",
      "INFO:httpx:HTTP Request: POST https://query.wikidata.org/sparql \"HTTP/1.1 200 OK\"\n",
      "INFO:httpx:HTTP Request: POST https://query.wikidata.org/sparql \"HTTP/1.1 200 OK\"\n",
      "INFO:httpx:HTTP Request: POST https://query.wikidata.org/sparql \"HTTP/1.1 200 OK\"\n",
      "INFO:httpx:HTTP Request: POST https://query.wikidata.org/sparql \"HTTP/1.1 200 OK\"\n",
      "INFO:httpx:HTTP Request: POST https://query.wikidata.org/sparql \"HTTP/1.1 200 OK\"\n",
      "INFO:httpx:HTTP Request: POST https://query.wikidata.org/sparql \"HTTP/1.1 200 OK\"\n",
      "INFO:httpx:HTTP Request: POST https://query.wikidata.org/sparql \"HTTP/1.1 200 OK\"\n",
      "INFO:httpx:HTTP Request: POST https://query.wikidata.org/sparql \"HTTP/1.1 200 OK\"\n",
      "INFO:httpx:HTTP Request: POST https://query.wikidata.org/sparql \"HTTP/1.1 200 OK\"\n",
      "INFO:httpx:HTTP Request: POST https://query.wikidata.org/sparql \"HTTP/1.1 200 OK\"\n",
      "INFO:httpx:HTTP Request: POST https://query.wikidata.org/sparql \"HTTP/1.1 200 OK\"\n"
     ]
    },
    {
     "data": {
      "text/markdown": [
       "(**Statement** (**Item** [Brazil](http://www.wikidata.org/entity/Q155)) (**ValueSnak** (**Property** [shares border with](http://www.wikidata.org/entity/P47)) (**Item** [Argentina](http://www.wikidata.org/entity/Q414))))"
      ],
      "text/plain": [
       "Statement(Item(IRI('http://www.wikidata.org/entity/Q155')), ValueSnak(Property(IRI('http://www.wikidata.org/entity/P47'), ItemDatatype()), Item(IRI('http://www.wikidata.org/entity/Q414'))))"
      ]
     },
     "metadata": {},
     "output_type": "display_data"
    },
    {
     "data": {
      "text/markdown": [
       "(**Statement** (**Item** [Argentina](http://www.wikidata.org/entity/Q414)) (**ValueSnak** (**Property** [shares border with](http://www.wikidata.org/entity/P47)) (**Item** [Chile](http://www.wikidata.org/entity/Q298))))"
      ],
      "text/plain": [
       "Statement(Item(IRI('http://www.wikidata.org/entity/Q414')), ValueSnak(Property(IRI('http://www.wikidata.org/entity/P47'), ItemDatatype()), Item(IRI('http://www.wikidata.org/entity/Q298'))))"
      ]
     },
     "metadata": {},
     "output_type": "display_data"
    },
    {
     "data": {
      "text/markdown": [
       "(**Statement** (**Item** [Paraguay](http://www.wikidata.org/entity/Q733)) (**ValueSnak** (**Property** [shares border with](http://www.wikidata.org/entity/P47)) (**Item** [Argentina](http://www.wikidata.org/entity/Q414))))"
      ],
      "text/plain": [
       "Statement(Item(IRI('http://www.wikidata.org/entity/Q733')), ValueSnak(Property(IRI('http://www.wikidata.org/entity/P47'), ItemDatatype()), Item(IRI('http://www.wikidata.org/entity/Q414'))))"
      ]
     },
     "metadata": {},
     "output_type": "display_data"
    },
    {
     "data": {
      "text/markdown": [
       "(**Statement** (**Item** [Brazil](http://www.wikidata.org/entity/Q155)) (**ValueSnak** (**Property** [shares border with](http://www.wikidata.org/entity/P47)) (**Item** [Peru](http://www.wikidata.org/entity/Q419))))"
      ],
      "text/plain": [
       "Statement(Item(IRI('http://www.wikidata.org/entity/Q155')), ValueSnak(Property(IRI('http://www.wikidata.org/entity/P47'), ItemDatatype()), Item(IRI('http://www.wikidata.org/entity/Q419'))))"
      ]
     },
     "metadata": {},
     "output_type": "display_data"
    },
    {
     "data": {
      "text/markdown": [
       "(**Statement** (**Item** [Argentina](http://www.wikidata.org/entity/Q414)) (**ValueSnak** (**Property** [shares border with](http://www.wikidata.org/entity/P47)) (**Item** [Paraguay](http://www.wikidata.org/entity/Q733))))"
      ],
      "text/plain": [
       "Statement(Item(IRI('http://www.wikidata.org/entity/Q414')), ValueSnak(Property(IRI('http://www.wikidata.org/entity/P47'), ItemDatatype()), Item(IRI('http://www.wikidata.org/entity/Q733'))))"
      ]
     },
     "metadata": {},
     "output_type": "display_data"
    },
    {
     "data": {
      "text/markdown": [
       "(**Statement** (**Item** [Paraguay](http://www.wikidata.org/entity/Q733)) (**ValueSnak** (**Property** [shares border with](http://www.wikidata.org/entity/P47)) (**Item** [Bolivia](http://www.wikidata.org/entity/Q750))))"
      ],
      "text/plain": [
       "Statement(Item(IRI('http://www.wikidata.org/entity/Q733')), ValueSnak(Property(IRI('http://www.wikidata.org/entity/P47'), ItemDatatype()), Item(IRI('http://www.wikidata.org/entity/Q750'))))"
      ]
     },
     "metadata": {},
     "output_type": "display_data"
    },
    {
     "data": {
      "text/markdown": [
       "(**Statement** (**Item** [Brazil](http://www.wikidata.org/entity/Q155)) (**ValueSnak** (**Property** [shares border with](http://www.wikidata.org/entity/P47)) (**Item** [Venezuela](http://www.wikidata.org/entity/Q717))))"
      ],
      "text/plain": [
       "Statement(Item(IRI('http://www.wikidata.org/entity/Q155')), ValueSnak(Property(IRI('http://www.wikidata.org/entity/P47'), ItemDatatype()), Item(IRI('http://www.wikidata.org/entity/Q717'))))"
      ]
     },
     "metadata": {},
     "output_type": "display_data"
    },
    {
     "data": {
      "text/markdown": [
       "(**Statement** (**Item** [Argentina](http://www.wikidata.org/entity/Q414)) (**ValueSnak** (**Property** [shares border with](http://www.wikidata.org/entity/P47)) (**Item** [Bolivia](http://www.wikidata.org/entity/Q750))))"
      ],
      "text/plain": [
       "Statement(Item(IRI('http://www.wikidata.org/entity/Q414')), ValueSnak(Property(IRI('http://www.wikidata.org/entity/P47'), ItemDatatype()), Item(IRI('http://www.wikidata.org/entity/Q750'))))"
      ]
     },
     "metadata": {},
     "output_type": "display_data"
    },
    {
     "data": {
      "text/markdown": [
       "(**Statement** (**Item** [Paraguay](http://www.wikidata.org/entity/Q733)) (**ValueSnak** (**Property** [shares border with](http://www.wikidata.org/entity/P47)) (**Item** [Brazil](http://www.wikidata.org/entity/Q155))))"
      ],
      "text/plain": [
       "Statement(Item(IRI('http://www.wikidata.org/entity/Q733')), ValueSnak(Property(IRI('http://www.wikidata.org/entity/P47'), ItemDatatype()), Item(IRI('http://www.wikidata.org/entity/Q155'))))"
      ]
     },
     "metadata": {},
     "output_type": "display_data"
    },
    {
     "data": {
      "text/markdown": [
       "(**Statement** (**Item** [Brazil](http://www.wikidata.org/entity/Q155)) (**ValueSnak** (**Property** [shares border with](http://www.wikidata.org/entity/P47)) (**Item** [Suriname](http://www.wikidata.org/entity/Q730))))"
      ],
      "text/plain": [
       "Statement(Item(IRI('http://www.wikidata.org/entity/Q155')), ValueSnak(Property(IRI('http://www.wikidata.org/entity/P47'), ItemDatatype()), Item(IRI('http://www.wikidata.org/entity/Q730'))))"
      ]
     },
     "metadata": {},
     "output_type": "display_data"
    },
    {
     "data": {
      "text/markdown": [
       "(**Statement** (**Item** [Argentina](http://www.wikidata.org/entity/Q414)) (**ValueSnak** (**Property** [shares border with](http://www.wikidata.org/entity/P47)) (**Item** [Uruguay](http://www.wikidata.org/entity/Q77))))"
      ],
      "text/plain": [
       "Statement(Item(IRI('http://www.wikidata.org/entity/Q414')), ValueSnak(Property(IRI('http://www.wikidata.org/entity/P47'), ItemDatatype()), Item(IRI('http://www.wikidata.org/entity/Q77'))))"
      ]
     },
     "metadata": {},
     "output_type": "display_data"
    },
    {
     "data": {
      "text/markdown": [
       "(**Statement** (**Item** [Brazil](http://www.wikidata.org/entity/Q155)) (**ValueSnak** (**Property** [shares border with](http://www.wikidata.org/entity/P47)) (**Item** [Guyana](http://www.wikidata.org/entity/Q734))))"
      ],
      "text/plain": [
       "Statement(Item(IRI('http://www.wikidata.org/entity/Q155')), ValueSnak(Property(IRI('http://www.wikidata.org/entity/P47'), ItemDatatype()), Item(IRI('http://www.wikidata.org/entity/Q734'))))"
      ]
     },
     "metadata": {},
     "output_type": "display_data"
    },
    {
     "data": {
      "text/markdown": [
       "(**Statement** (**Item** [Argentina](http://www.wikidata.org/entity/Q414)) (**ValueSnak** (**Property** [shares border with](http://www.wikidata.org/entity/P47)) (**Item** [wd:Q145](http://www.wikidata.org/entity/Q145))))"
      ],
      "text/plain": [
       "Statement(Item(IRI('http://www.wikidata.org/entity/Q414')), ValueSnak(Property(IRI('http://www.wikidata.org/entity/P47'), ItemDatatype()), Item(IRI('http://www.wikidata.org/entity/Q145'))))"
      ]
     },
     "metadata": {},
     "output_type": "display_data"
    },
    {
     "data": {
      "text/markdown": [
       "(**Statement** (**Item** [Brazil](http://www.wikidata.org/entity/Q155)) (**ValueSnak** (**Property** [shares border with](http://www.wikidata.org/entity/P47)) (**Item** [Paraguay](http://www.wikidata.org/entity/Q733))))"
      ],
      "text/plain": [
       "Statement(Item(IRI('http://www.wikidata.org/entity/Q155')), ValueSnak(Property(IRI('http://www.wikidata.org/entity/P47'), ItemDatatype()), Item(IRI('http://www.wikidata.org/entity/Q733'))))"
      ]
     },
     "metadata": {},
     "output_type": "display_data"
    },
    {
     "data": {
      "text/markdown": [
       "(**Statement** (**Item** [Argentina](http://www.wikidata.org/entity/Q414)) (**ValueSnak** (**Property** [shares border with](http://www.wikidata.org/entity/P47)) (**Item** [Brazil](http://www.wikidata.org/entity/Q155))))"
      ],
      "text/plain": [
       "Statement(Item(IRI('http://www.wikidata.org/entity/Q414')), ValueSnak(Property(IRI('http://www.wikidata.org/entity/P47'), ItemDatatype()), Item(IRI('http://www.wikidata.org/entity/Q155'))))"
      ]
     },
     "metadata": {},
     "output_type": "display_data"
    },
    {
     "data": {
      "text/markdown": [
       "(**Statement** (**Item** [Brazil](http://www.wikidata.org/entity/Q155)) (**ValueSnak** (**Property** [shares border with](http://www.wikidata.org/entity/P47)) (**Item** [Colombia](http://www.wikidata.org/entity/Q739))))"
      ],
      "text/plain": [
       "Statement(Item(IRI('http://www.wikidata.org/entity/Q155')), ValueSnak(Property(IRI('http://www.wikidata.org/entity/P47'), ItemDatatype()), Item(IRI('http://www.wikidata.org/entity/Q739'))))"
      ]
     },
     "metadata": {},
     "output_type": "display_data"
    },
    {
     "data": {
      "text/markdown": [
       "(**Statement** (**Item** [Brazil](http://www.wikidata.org/entity/Q155)) (**ValueSnak** (**Property** [shares border with](http://www.wikidata.org/entity/P47)) (**Item** [Bolivia](http://www.wikidata.org/entity/Q750))))"
      ],
      "text/plain": [
       "Statement(Item(IRI('http://www.wikidata.org/entity/Q155')), ValueSnak(Property(IRI('http://www.wikidata.org/entity/P47'), ItemDatatype()), Item(IRI('http://www.wikidata.org/entity/Q750'))))"
      ]
     },
     "metadata": {},
     "output_type": "display_data"
    },
    {
     "data": {
      "text/markdown": [
       "(**Statement** (**Item** [Brazil](http://www.wikidata.org/entity/Q155)) (**ValueSnak** (**Property** [shares border with](http://www.wikidata.org/entity/P47)) (**Item** [French Guiana](http://www.wikidata.org/entity/Q3769))))"
      ],
      "text/plain": [
       "Statement(Item(IRI('http://www.wikidata.org/entity/Q155')), ValueSnak(Property(IRI('http://www.wikidata.org/entity/P47'), ItemDatatype()), Item(IRI('http://www.wikidata.org/entity/Q3769'))))"
      ]
     },
     "metadata": {},
     "output_type": "display_data"
    },
    {
     "data": {
      "text/markdown": [
       "(**Statement** (**Item** [Brazil](http://www.wikidata.org/entity/Q155)) (**ValueSnak** (**Property** [shares border with](http://www.wikidata.org/entity/P47)) (**Item** [Uruguay](http://www.wikidata.org/entity/Q77))))"
      ],
      "text/plain": [
       "Statement(Item(IRI('http://www.wikidata.org/entity/Q155')), ValueSnak(Property(IRI('http://www.wikidata.org/entity/P47'), ItemDatatype()), Item(IRI('http://www.wikidata.org/entity/Q77'))))"
      ]
     },
     "metadata": {},
     "output_type": "display_data"
    },
    {
     "data": {
      "text/markdown": [
       "(**Statement** (**Item** [Brazil](http://www.wikidata.org/entity/Q155)) (**ValueSnak** (**Property** [shares border with](http://www.wikidata.org/entity/P47)) (**Item** [France](http://www.wikidata.org/entity/Q142))))"
      ],
      "text/plain": [
       "Statement(Item(IRI('http://www.wikidata.org/entity/Q155')), ValueSnak(Property(IRI('http://www.wikidata.org/entity/P47'), ItemDatatype()), Item(IRI('http://www.wikidata.org/entity/Q142'))))"
      ]
     },
     "metadata": {},
     "output_type": "display_data"
    },
    {
     "name": "stdout",
     "output_type": "stream",
     "text": [
      "*** TOOK 3.63s ***\n"
     ]
    }
   ],
   "source": [
    "it = kb.mix(\n",
    "    Filter(wd.Brazil, wd.shares_border_with),\n",
    "    Filter(wd.Argentina, wd.shares_border_with),\n",
    "    Filter(wd.Paraguay, wd.shares_border_with))\n",
    "dt = time.time()\n",
    "display(*it)\n",
    "\n",
    "print(f'*** TOOK {time.time() - dt:0.2f}s ***')"
   ]
  },
  {
   "cell_type": "markdown",
   "id": "670adaf6-3da2-4916-97ac-094dcf1d883c",
   "metadata": {},
   "source": [
    "Finally, note that `Store.mix` and `Store.amix` also work with mixer stores:"
   ]
  },
  {
   "cell_type": "code",
   "execution_count": 22,
   "id": "b59b7755-b5fa-4a1b-bf39-5a5cdfe7e1db",
   "metadata": {},
   "outputs": [
    {
     "name": "stderr",
     "output_type": "stream",
     "text": [
      "INFO:httpx:HTTP Request: POST https://query.wikidata.org/sparql \"HTTP/1.1 200 OK\"\n",
      "INFO:httpx:HTTP Request: POST https://query.wikidata.org/sparql \"HTTP/1.1 200 OK\"\n",
      "INFO:httpx:HTTP Request: POST https://query.wikidata.org/sparql \"HTTP/1.1 200 OK\"\n",
      "INFO:httpx:HTTP Request: POST https://qlever.cs.uni-freiburg.de/api/pubchem \"HTTP/1.1 200 OK\"\n",
      "INFO:httpx:HTTP Request: POST https://qlever.cs.uni-freiburg.de/api/pubchem \"HTTP/1.1 200 OK\"\n",
      "INFO:httpx:HTTP Request: POST https://qlever.cs.uni-freiburg.de/api/pubchem \"HTTP/1.1 200 OK\"\n"
     ]
    },
    {
     "data": {
      "text/markdown": [
       "(**Statement** (**Item** [benzene](http://www.wikidata.org/entity/Q2270)) (**ValueSnak** (**Property** [canonical SMILES](http://www.wikidata.org/entity/P233)) \"C1=CC=CC=C1\"))"
      ],
      "text/plain": [
       "Statement(Item(IRI('http://www.wikidata.org/entity/Q2270')), ValueSnak(Property(IRI('http://www.wikidata.org/entity/P233'), StringDatatype()), String('C1=CC=CC=C1')))"
      ]
     },
     "metadata": {},
     "output_type": "display_data"
    },
    {
     "data": {
      "text/markdown": [
       "(**Statement** (**Item** [wd:Q18216](http://www.wikidata.org/entity/Q18216)) (**ValueSnak** (**Property** [InChIKey](http://www.wikidata.org/entity/P235)) \"BSYNRYMUTXBXSQ-UHFFFAOYSA-N\"))"
      ],
      "text/plain": [
       "Statement(Item(IRI('http://www.wikidata.org/entity/Q18216')), ValueSnak(Property(IRI('http://www.wikidata.org/entity/P235'), ExternalIdDatatype()), ExternalId('BSYNRYMUTXBXSQ-UHFFFAOYSA-N')))"
      ]
     },
     "metadata": {},
     "output_type": "display_data"
    },
    {
     "data": {
      "text/markdown": [
       "(**Statement** (**Item** [pc:CID10129877](http://rdf.ncbi.nlm.nih.gov/pubchem/compound/CID10129877)) (**ValueSnak** (**Property** [chemical formula](http://www.wikidata.org/entity/P274)) \"H2O\"))"
      ],
      "text/plain": [
       "Statement(Item(IRI('http://rdf.ncbi.nlm.nih.gov/pubchem/compound/CID10129877')), ValueSnak(Property(IRI('http://www.wikidata.org/entity/P274'), StringDatatype()), String('H2O')))"
      ]
     },
     "metadata": {},
     "output_type": "display_data"
    },
    {
     "data": {
      "text/markdown": [
       "(**Statement** (**Item** [pc:CID101103333](http://rdf.ncbi.nlm.nih.gov/pubchem/compound/CID101103333)) (**ValueSnak** (**Property** [canonical SMILES](http://www.wikidata.org/entity/P233)) \"C1=CC=CC=C1\"))"
      ],
      "text/plain": [
       "Statement(Item(IRI('http://rdf.ncbi.nlm.nih.gov/pubchem/compound/CID101103333')), ValueSnak(Property(IRI('http://www.wikidata.org/entity/P233'), StringDatatype()), String('C1=CC=CC=C1')))"
      ]
     },
     "metadata": {},
     "output_type": "display_data"
    },
    {
     "data": {
      "text/markdown": [
       "(**Statement** (**Item** [pc:CID2244](http://rdf.ncbi.nlm.nih.gov/pubchem/compound/CID2244)) (**ValueSnak** (**Property** [InChIKey](http://www.wikidata.org/entity/P235)) \"BSYNRYMUTXBXSQ-UHFFFAOYSA-N\"))"
      ],
      "text/plain": [
       "Statement(Item(IRI('http://rdf.ncbi.nlm.nih.gov/pubchem/compound/CID2244')), ValueSnak(Property(IRI('http://www.wikidata.org/entity/P235'), ExternalIdDatatype()), ExternalId('BSYNRYMUTXBXSQ-UHFFFAOYSA-N')))"
      ]
     },
     "metadata": {},
     "output_type": "display_data"
    },
    {
     "data": {
      "text/markdown": [
       "(**Statement** (**Item** [pc:CID10197601](http://rdf.ncbi.nlm.nih.gov/pubchem/compound/CID10197601)) (**ValueSnak** (**Property** [chemical formula](http://www.wikidata.org/entity/P274)) \"H2O\"))"
      ],
      "text/plain": [
       "Statement(Item(IRI('http://rdf.ncbi.nlm.nih.gov/pubchem/compound/CID10197601')), ValueSnak(Property(IRI('http://www.wikidata.org/entity/P274'), StringDatatype()), String('H2O')))"
      ]
     },
     "metadata": {},
     "output_type": "display_data"
    },
    {
     "data": {
      "text/markdown": [
       "(**Statement** (**Item** [wd:Q1101314](http://www.wikidata.org/entity/Q1101314)) (**ValueSnak** (**Property** [canonical SMILES](http://www.wikidata.org/entity/P233)) \"C1=CC=CC=C1\"))"
      ],
      "text/plain": [
       "Statement(Item(IRI('http://www.wikidata.org/entity/Q1101314')), ValueSnak(Property(IRI('http://www.wikidata.org/entity/P233'), StringDatatype()), String('C1=CC=CC=C1')))"
      ]
     },
     "metadata": {},
     "output_type": "display_data"
    },
    {
     "data": {
      "text/markdown": [
       "(**Statement** (**Item** [pc:CID10214376](http://rdf.ncbi.nlm.nih.gov/pubchem/compound/CID10214376)) (**ValueSnak** (**Property** [chemical formula](http://www.wikidata.org/entity/P274)) \"H2O\"))"
      ],
      "text/plain": [
       "Statement(Item(IRI('http://rdf.ncbi.nlm.nih.gov/pubchem/compound/CID10214376')), ValueSnak(Property(IRI('http://www.wikidata.org/entity/P274'), StringDatatype()), String('H2O')))"
      ]
     },
     "metadata": {},
     "output_type": "display_data"
    },
    {
     "data": {
      "text/markdown": [
       "(**Statement** (**Item** [pc:CID102602330](http://rdf.ncbi.nlm.nih.gov/pubchem/compound/CID102602330)) (**ValueSnak** (**Property** [canonical SMILES](http://www.wikidata.org/entity/P233)) \"C1=CC=CC=C1\"))"
      ],
      "text/plain": [
       "Statement(Item(IRI('http://rdf.ncbi.nlm.nih.gov/pubchem/compound/CID102602330')), ValueSnak(Property(IRI('http://www.wikidata.org/entity/P233'), StringDatatype()), String('C1=CC=CC=C1')))"
      ]
     },
     "metadata": {},
     "output_type": "display_data"
    },
    {
     "data": {
      "text/markdown": [
       "(**Statement** (**Item** [pc:CID104752](http://rdf.ncbi.nlm.nih.gov/pubchem/compound/CID104752)) (**ValueSnak** (**Property** [chemical formula](http://www.wikidata.org/entity/P274)) \"H2O\"))"
      ],
      "text/plain": [
       "Statement(Item(IRI('http://rdf.ncbi.nlm.nih.gov/pubchem/compound/CID104752')), ValueSnak(Property(IRI('http://www.wikidata.org/entity/P274'), StringDatatype()), String('H2O')))"
      ]
     },
     "metadata": {},
     "output_type": "display_data"
    }
   ],
   "source": [
    "it = mx.amix(\n",
    "    Filter(property=wd.canonical_SMILES, value='C1=CC=CC=C1'),\n",
    "    Filter(property=wd.InChIKey, value='BSYNRYMUTXBXSQ-UHFFFAOYSA-N'),\n",
    "    Filter(property=wd.chemical_formula, value='H2O'),\n",
    "    limit = 10)\n",
    "async for stmt in it:\n",
    "    display(stmt)"
   ]
  }
 ],
 "metadata": {
  "kernelspec": {
   "display_name": "venv313",
   "language": "python",
   "name": "venv313"
  },
  "language_info": {
   "codemirror_mode": {
    "name": "ipython",
    "version": 3
   },
   "file_extension": ".py",
   "mimetype": "text/x-python",
   "name": "python",
   "nbconvert_exporter": "python",
   "pygments_lexer": "ipython3",
   "version": "3.13.3"
  }
 },
 "nbformat": 4,
 "nbformat_minor": 5
}
