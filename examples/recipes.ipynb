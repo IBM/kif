{
 "cells": [
  {
   "cell_type": "code",
   "execution_count": 1,
   "id": "0d19bf23-20db-4617-96d9-df98520aea91",
   "metadata": {},
   "outputs": [
    {
     "name": "stdout",
     "output_type": "stream",
     "text": [
      "env: KIF_DEBUG=\n",
      "env: KIF_RESOLVE_ENTITIES=1\n"
     ]
    }
   ],
   "source": [
    "%env KIF_DEBUG=\n",
    "%env KIF_RESOLVE_ENTITIES=1"
   ]
  },
  {
   "cell_type": "markdown",
   "id": "7af8c8b5-d7f2-4f90-a15b-192c2105ebb0",
   "metadata": {},
   "source": [
    "# Recipes"
   ]
  },
  {
   "cell_type": "code",
   "execution_count": 2,
   "id": "3f1c3a88-34fc-42dd-9feb-2bf95cdfdc04",
   "metadata": {},
   "outputs": [],
   "source": [
    "from kif_lib import *\n",
    "from kif_lib.vocabulary import wd"
   ]
  },
  {
   "cell_type": "markdown",
   "id": "496079cf-97ba-4aac-9fe3-a4fb578674b2",
   "metadata": {},
   "source": [
    "Creates a Wikidata SPARQL store pointing to Wikidata's official query service:"
   ]
  },
  {
   "cell_type": "code",
   "execution_count": 3,
   "id": "d72704b7-9c49-4183-be7c-073a87ea277f",
   "metadata": {},
   "outputs": [],
   "source": [
    "kb = Store('wdqs')"
   ]
  },
  {
   "cell_type": "markdown",
   "id": "c09dc6ab-6465-4515-8d15-7b3f4e3d154c",
   "metadata": {},
   "source": [
    "Set the default limit to 3 statements:"
   ]
  },
  {
   "cell_type": "code",
   "execution_count": 4,
   "id": "6d4bf49f-f2e9-4893-b6bc-a778d404021e",
   "metadata": {},
   "outputs": [],
   "source": [
    "kb.limit = 3"
   ]
  },
  {
   "cell_type": "markdown",
   "id": "d5ce5add-47c3-4de5-b70f-a95a573b2bbc",
   "metadata": {},
   "source": [
    "## Label, aliases, and description of benzene"
   ]
  },
  {
   "cell_type": "markdown",
   "id": "8d390d7d-a587-4763-ab85-da08b4c62da5",
   "metadata": {},
   "source": [
    "In the default language (English):"
   ]
  },
  {
   "cell_type": "code",
   "execution_count": 5,
   "id": "700aaf1e-c929-4bb5-9b57-f88132fb6032",
   "metadata": {},
   "outputs": [
    {
     "data": {
      "text/markdown": [
       "\"benzene\"@en"
      ],
      "text/plain": [
       "Text('benzene', 'en')"
      ]
     },
     "execution_count": 5,
     "metadata": {},
     "output_type": "execute_result"
    }
   ],
   "source": [
    "wd.benzene.label"
   ]
  },
  {
   "cell_type": "code",
   "execution_count": 6,
   "id": "a8d2e1cc-5836-4cf0-bdd8-dade4816540e",
   "metadata": {},
   "outputs": [
    {
     "data": {
      "text/markdown": [
       "\"BNZ\"@en"
      ],
      "text/plain": [
       "Text('BNZ', 'en')"
      ]
     },
     "metadata": {},
     "output_type": "display_data"
    },
    {
     "data": {
      "text/markdown": [
       "\"\\[6]annulene\"@en"
      ],
      "text/plain": [
       "Text('[6]annulene', 'en')"
      ]
     },
     "metadata": {},
     "output_type": "display_data"
    },
    {
     "data": {
      "text/markdown": [
       "\"benzole\"@en"
      ],
      "text/plain": [
       "Text('benzole', 'en')"
      ]
     },
     "metadata": {},
     "output_type": "display_data"
    },
    {
     "data": {
      "text/markdown": [
       "\"bicarburet of hydrogen\"@en"
      ],
      "text/plain": [
       "Text('bicarburet of hydrogen', 'en')"
      ]
     },
     "metadata": {},
     "output_type": "display_data"
    },
    {
     "data": {
      "text/markdown": [
       "\"cyclohexatriene\"@en"
      ],
      "text/plain": [
       "Text('cyclohexatriene', 'en')"
      ]
     },
     "metadata": {},
     "output_type": "display_data"
    },
    {
     "data": {
      "text/markdown": [
       "\"phenyl hydride\"@en"
      ],
      "text/plain": [
       "Text('phenyl hydride', 'en')"
      ]
     },
     "metadata": {},
     "output_type": "display_data"
    },
    {
     "data": {
      "text/markdown": [
       "\"benzolene\"@en"
      ],
      "text/plain": [
       "Text('benzolene', 'en')"
      ]
     },
     "metadata": {},
     "output_type": "display_data"
    },
    {
     "data": {
      "text/markdown": [
       "\"C6H6\"@en"
      ],
      "text/plain": [
       "Text('C6H6', 'en')"
      ]
     },
     "metadata": {},
     "output_type": "display_data"
    },
    {
     "data": {
      "text/markdown": [
       "\"(6)annulene\"@en"
      ],
      "text/plain": [
       "Text('(6)annulene', 'en')"
      ]
     },
     "metadata": {},
     "output_type": "display_data"
    },
    {
     "data": {
      "text/markdown": [
       "\"cyclohexa-1,3,5-triene\"@en"
      ],
      "text/plain": [
       "Text('cyclohexa-1,3,5-triene', 'en')"
      ]
     },
     "metadata": {},
     "output_type": "display_data"
    },
    {
     "data": {
      "text/markdown": [
       "\"benzol\"@en"
      ],
      "text/plain": [
       "Text('benzol', 'en')"
      ]
     },
     "metadata": {},
     "output_type": "display_data"
    },
    {
     "data": {
      "text/markdown": [
       "\"1,3,5-cyclohexatriene\"@en"
      ],
      "text/plain": [
       "Text('1,3,5-cyclohexatriene', 'en')"
      ]
     },
     "metadata": {},
     "output_type": "display_data"
    }
   ],
   "source": [
    "display(*wd.benzene.aliases)"
   ]
  },
  {
   "cell_type": "code",
   "execution_count": 7,
   "id": "224b2db2-a373-4f46-849a-fdf6f90297bc",
   "metadata": {},
   "outputs": [
    {
     "data": {
      "text/markdown": [
       "\"hydrocarbon compound consisting of a 6-sided ring\"@en"
      ],
      "text/plain": [
       "Text('hydrocarbon compound consisting of a 6-sided ring', 'en')"
      ]
     },
     "metadata": {},
     "output_type": "display_data"
    }
   ],
   "source": [
    "display(wd.benzene.description)"
   ]
  },
  {
   "cell_type": "markdown",
   "id": "841b581e-b74a-431e-8398-3b110a43b83e",
   "metadata": {},
   "source": [
    "In a specific language, e.g., French:"
   ]
  },
  {
   "cell_type": "code",
   "execution_count": 8,
   "id": "e85607f6-ef0a-4345-aa92-14d14897fb7e",
   "metadata": {},
   "outputs": [
    {
     "data": {
      "text/markdown": [
       "\"benzène\"@fr"
      ],
      "text/plain": [
       "Text('benzène', 'fr')"
      ]
     },
     "metadata": {},
     "output_type": "display_data"
    },
    {
     "data": {
      "text/markdown": [
       "\"Ar-H\"@fr"
      ],
      "text/plain": [
       "Text('Ar-H', 'fr')"
      ]
     },
     "metadata": {},
     "output_type": "display_data"
    },
    {
     "data": {
      "text/markdown": [
       "\"hydrocarbure aromatique monocyclique\"@fr"
      ],
      "text/plain": [
       "Text('hydrocarbure aromatique monocyclique', 'fr')"
      ]
     },
     "metadata": {},
     "output_type": "display_data"
    }
   ],
   "source": [
    "display(\n",
    "    wd.benzene.get_label('fr'),\n",
    "    *wd.benzene.get_aliases('fr'),\n",
    "    wd.benzene.get_description('fr'),\n",
    ")"
   ]
  },
  {
   "cell_type": "markdown",
   "id": "f705ee1a-db76-4c1d-86f6-fa37972c3060",
   "metadata": {},
   "source": [
    "We can also get everything at once for a given language using `describe()`, which returns an `Item.Descriptor` dict:"
   ]
  },
  {
   "cell_type": "code",
   "execution_count": 9,
   "id": "c9cc7363-988e-4633-83d4-44aec35b99cb",
   "metadata": {},
   "outputs": [
    {
     "data": {
      "text/plain": [
       "{'labels': {'en': Text('benzene', 'en'),\n",
       "  'fr': Text('benzène', 'fr'),\n",
       "  'pt': Text('benzeno', 'pt')},\n",
       " 'aliases': {'en': {Text('(6)annulene', 'en'),\n",
       "   Text('1,3,5-cyclohexatriene', 'en'),\n",
       "   Text('BNZ', 'en'),\n",
       "   Text('C6H6', 'en'),\n",
       "   Text('[6]annulene', 'en'),\n",
       "   Text('benzol', 'en'),\n",
       "   Text('benzole', 'en'),\n",
       "   Text('benzolene', 'en'),\n",
       "   Text('bicarburet of hydrogen', 'en'),\n",
       "   Text('cyclohexa-1,3,5-triene', 'en'),\n",
       "   Text('cyclohexatriene', 'en'),\n",
       "   Text('phenyl hydride', 'en')},\n",
       "  'fr': {Text('Ar-H', 'fr')}},\n",
       " 'descriptions': {'en': Text('hydrocarbon compound consisting of a 6-sided ring', 'en'),\n",
       "  'fr': Text('hydrocarbure aromatique monocyclique', 'fr'),\n",
       "  'pt': Text('composto químico', 'pt')}}"
      ]
     },
     "execution_count": 9,
     "metadata": {},
     "output_type": "execute_result"
    }
   ],
   "source": [
    "wd.benzene.describe(language='pt', force=True)"
   ]
  },
  {
   "cell_type": "markdown",
   "id": "fe14df15-f241-47bb-a49c-d73212d6144e",
   "metadata": {},
   "source": [
    "## Statements about benzene"
   ]
  },
  {
   "cell_type": "code",
   "execution_count": 10,
   "id": "689e15b7-1b0b-4b75-ae68-1821e5b8e57f",
   "metadata": {},
   "outputs": [
    {
     "data": {
      "text/markdown": [
       "(**Statement** (**Item** [benzene](http://www.wikidata.org/entity/Q2270)) (**ValueSnak** (**Property** [InChI](http://www.wikidata.org/entity/P234)) \"InChI=1S/C6H6/c1-2-4-6-5-3-1/h1-6H\"))"
      ],
      "text/plain": [
       "Statement(Item(IRI('http://www.wikidata.org/entity/Q2270')), ValueSnak(Property(IRI('http://www.wikidata.org/entity/P234'), ExternalIdDatatype()), ExternalId('InChI=1S/C6H6/c1-2-4-6-5-3-1/h1-6H')))"
      ]
     },
     "metadata": {},
     "output_type": "display_data"
    },
    {
     "data": {
      "text/markdown": [
       "(**Statement** (**Item** [benzene](http://www.wikidata.org/entity/Q2270)) (**ValueSnak** (**Property** [InChIKey](http://www.wikidata.org/entity/P235)) \"UHOVQNZJYSORNB-UHFFFAOYSA-N\"))"
      ],
      "text/plain": [
       "Statement(Item(IRI('http://www.wikidata.org/entity/Q2270')), ValueSnak(Property(IRI('http://www.wikidata.org/entity/P235'), ExternalIdDatatype()), ExternalId('UHOVQNZJYSORNB-UHFFFAOYSA-N')))"
      ]
     },
     "metadata": {},
     "output_type": "display_data"
    },
    {
     "data": {
      "text/markdown": [
       "(**Statement** (**Item** [benzene](http://www.wikidata.org/entity/Q2270)) (**ValueSnak** (**Property** [EC number](http://www.wikidata.org/entity/P232)) \"200-753-7\"))"
      ],
      "text/plain": [
       "Statement(Item(IRI('http://www.wikidata.org/entity/Q2270')), ValueSnak(Property(IRI('http://www.wikidata.org/entity/P232'), ExternalIdDatatype()), ExternalId('200-753-7')))"
      ]
     },
     "metadata": {},
     "output_type": "display_data"
    }
   ],
   "source": [
    "it = kb.filter(subject=wd.benzene)\n",
    "display(*it)"
   ]
  },
  {
   "cell_type": "markdown",
   "id": "e9a30521-2e94-4148-94fb-b3d7adbc91f5",
   "metadata": {},
   "source": [
    "## Statements about the mass of benzene with annotations"
   ]
  },
  {
   "cell_type": "code",
   "execution_count": 11,
   "id": "6ed739f4-e2c5-4fdb-840a-574fd7359f73",
   "metadata": {},
   "outputs": [
    {
     "data": {
      "text/markdown": [
       "(**AnnotatedStatement** (**Item** [benzene](http://www.wikidata.org/entity/Q2270)) (**ValueSnak** (**Property** [mass](http://www.wikidata.org/entity/P2067)) 78.046950192 [dalton](http://www.wikidata.org/entity/Q483261))\n",
       "- (**QualifierRecord**)\n",
       "- (**ReferenceRecordSet**\n",
       "  - (**ReferenceRecord**\n",
       "    - (**ValueSnak** (**Property** [based on heuristic](http://www.wikidata.org/entity/P887)) (**Item** [inferred from InChI](http://www.wikidata.org/entity/Q123137214)))))\n",
       "- **NormalRank**)"
      ],
      "text/plain": [
       "AnnotatedStatement(Item(IRI('http://www.wikidata.org/entity/Q2270')), ValueSnak(Property(IRI('http://www.wikidata.org/entity/P2067'), QuantityDatatype()), Quantity(Decimal('78.046950192'), Item(IRI('http://www.wikidata.org/entity/Q483261')), None, None)), QualifierRecord(), ReferenceRecordSet(ReferenceRecord(ValueSnak(Property(IRI('http://www.wikidata.org/entity/P887'), ItemDatatype()), Item(IRI('http://www.wikidata.org/entity/Q123137214'))))), NormalRank())"
      ]
     },
     "metadata": {},
     "output_type": "display_data"
    }
   ],
   "source": [
    "it = kb.filter_annotated(subject=wd.benzene, property=wd.mass)\n",
    "display(*it)"
   ]
  },
  {
   "cell_type": "markdown",
   "id": "f6cc1807-acc2-4167-997b-5b81e684723f",
   "metadata": {},
   "source": [
    "## Statements about benzene with custom extra references"
   ]
  },
  {
   "cell_type": "code",
   "execution_count": 12,
   "id": "27e11553-5d91-443c-b938-c3de8ad83b9a",
   "metadata": {},
   "outputs": [],
   "source": [
    "import datetime\n",
    "kb.extra_references = [\n",
    "    ReferenceRecord(\n",
    "        wd.stated_in(wd.Wikidata),\n",
    "        wd.retrieved(Time(datetime.datetime.now()))),\n",
    "    ReferenceRecord(\n",
    "        wd.stated_in('KIF'))]"
   ]
  },
  {
   "cell_type": "code",
   "execution_count": 13,
   "id": "d90ea01a-bac8-4822-a246-5376dc064036",
   "metadata": {},
   "outputs": [
    {
     "data": {
      "text/markdown": [
       "(**AnnotatedStatement** (**Item** [benzene](http://www.wikidata.org/entity/Q2270)) (**ValueSnak** (**Property** [mass](http://www.wikidata.org/entity/P2067)) 78.046950192 [dalton](http://www.wikidata.org/entity/Q483261))\n",
       "- (**QualifierRecord**)\n",
       "- (**ReferenceRecordSet**\n",
       "  - (**ReferenceRecord**\n",
       "    - (**ValueSnak** (**Property** [stated in](http://www.wikidata.org/entity/P248)) (**Item** KIF)))\n",
       "  - (**ReferenceRecord**\n",
       "    - (**ValueSnak** (**Property** [stated in](http://www.wikidata.org/entity/P248)) (**Item** [Wikidata](http://www.wikidata.org/entity/Q2013)))\n",
       "    - (**ValueSnak** (**Property** [retrieved](http://www.wikidata.org/entity/P813)) 2025-07-04))\n",
       "  - (**ReferenceRecord**\n",
       "    - (**ValueSnak** (**Property** [based on heuristic](http://www.wikidata.org/entity/P887)) (**Item** [inferred from InChI](http://www.wikidata.org/entity/Q123137214)))))\n",
       "- **NormalRank**)"
      ],
      "text/plain": [
       "AnnotatedStatement(Item(IRI('http://www.wikidata.org/entity/Q2270')), ValueSnak(Property(IRI('http://www.wikidata.org/entity/P2067'), QuantityDatatype()), Quantity(Decimal('78.046950192'), Item(IRI('http://www.wikidata.org/entity/Q483261')), None, None)), QualifierRecord(), ReferenceRecordSet(ReferenceRecord(ValueSnak(Property(IRI('http://www.wikidata.org/entity/P248'), ItemDatatype()), Item(IRI('KIF')))), ReferenceRecord(ValueSnak(Property(IRI('http://www.wikidata.org/entity/P248'), ItemDatatype()), Item(IRI('http://www.wikidata.org/entity/Q2013'))), ValueSnak(Property(IRI('http://www.wikidata.org/entity/P813'), TimeDatatype()), Time(datetime.datetime(2025, 7, 4, 18, 13, 26, 208211), None, None, None))), ReferenceRecord(ValueSnak(Property(IRI('http://www.wikidata.org/entity/P887'), ItemDatatype()), Item(IRI('http://www.wikidata.org/entity/Q123137214'))))), NormalRank())"
      ]
     },
     "metadata": {},
     "output_type": "display_data"
    }
   ],
   "source": [
    "it = kb.filter_annotated(subject=wd.benzene, property=wd.mass)\n",
    "display(*it)"
   ]
  },
  {
   "cell_type": "code",
   "execution_count": 14,
   "id": "49b2ce62-40d8-4a0f-89a6-01d3f48ea627",
   "metadata": {},
   "outputs": [],
   "source": [
    "kb.extra_references = None"
   ]
  },
  {
   "cell_type": "markdown",
   "id": "b06c0369-11e2-4d5e-8f07-af14c7a9676f",
   "metadata": {},
   "source": [
    "## Statements such that subject has no date of birth"
   ]
  },
  {
   "cell_type": "code",
   "execution_count": 15,
   "id": "967dddcb-603c-4c77-bc6d-1973fe903fac",
   "metadata": {},
   "outputs": [
    {
     "data": {
      "text/markdown": [
       "(**Statement** (**Item** [Achilles](http://www.wikidata.org/entity/Q41746)) (**ValueSnak** **LabelProperty** \"阿喀琉斯\"@zh-hant))"
      ],
      "text/plain": [
       "Statement(Item(IRI('http://www.wikidata.org/entity/Q41746')), ValueSnak(LabelProperty(IRI('http://www.w3.org/2000/01/rdf-schema#label'), TextDatatype()), Text('阿喀琉斯', 'zh-hant')))"
      ]
     },
     "metadata": {},
     "output_type": "display_data"
    },
    {
     "data": {
      "text/markdown": [
       "(**Statement** (**Item** [Achilles](http://www.wikidata.org/entity/Q41746)) (**ValueSnak** **LabelProperty** \"اکيلېز\"@ps))"
      ],
      "text/plain": [
       "Statement(Item(IRI('http://www.wikidata.org/entity/Q41746')), ValueSnak(LabelProperty(IRI('http://www.w3.org/2000/01/rdf-schema#label'), TextDatatype()), Text('اکيلېز', 'ps')))"
      ]
     },
     "metadata": {},
     "output_type": "display_data"
    },
    {
     "data": {
      "text/markdown": [
       "(**Statement** (**Item** [Monastario](http://www.wikidata.org/entity/Q5778199)) (**ValueSnak** **LabelProperty** \"Monastario\"@ca))"
      ],
      "text/plain": [
       "Statement(Item(IRI('http://www.wikidata.org/entity/Q5778199')), ValueSnak(LabelProperty(IRI('http://www.w3.org/2000/01/rdf-schema#label'), TextDatatype()), Text('Monastario', 'ca')))"
      ]
     },
     "metadata": {},
     "output_type": "display_data"
    }
   ],
   "source": [
    "it = kb.filter(subject=NoValueSnak(wd.date_of_birth))\n",
    "display(*it)"
   ]
  },
  {
   "cell_type": "markdown",
   "id": "c02d629b-9de2-415d-8618-9b9ca15e65b5",
   "metadata": {},
   "source": [
    "## Statements such that subject is benzene and property is related to medicine "
   ]
  },
  {
   "cell_type": "code",
   "execution_count": 16,
   "id": "b7deeb3e-2df3-4359-a3d9-3cec1ab03827",
   "metadata": {},
   "outputs": [
    {
     "data": {
      "text/markdown": [
       "(**Statement** (**Item** [benzene](http://www.wikidata.org/entity/Q2270)) (**ValueSnak** (**Property** [NSC number](http://www.wikidata.org/entity/P2840)) \"67315\"))"
      ],
      "text/plain": [
       "Statement(Item(IRI('http://www.wikidata.org/entity/Q2270')), ValueSnak(Property(IRI('http://www.wikidata.org/entity/P2840'), ExternalIdDatatype()), ExternalId('67315')))"
      ]
     },
     "metadata": {},
     "output_type": "display_data"
    },
    {
     "data": {
      "text/markdown": [
       "(**Statement** (**Item** [benzene](http://www.wikidata.org/entity/Q2270)) (**ValueSnak** (**Property** [RxNorm ID](http://www.wikidata.org/entity/P3345)) \"1311295\"))"
      ],
      "text/plain": [
       "Statement(Item(IRI('http://www.wikidata.org/entity/Q2270')), ValueSnak(Property(IRI('http://www.wikidata.org/entity/P3345'), ExternalIdDatatype()), ExternalId('1311295')))"
      ]
     },
     "metadata": {},
     "output_type": "display_data"
    },
    {
     "data": {
      "text/markdown": [
       "(**Statement** (**Item** [benzene](http://www.wikidata.org/entity/Q2270)) (**ValueSnak** (**Property** [UMLS CUI](http://www.wikidata.org/entity/P2892)) \"C0005036\"))"
      ],
      "text/plain": [
       "Statement(Item(IRI('http://www.wikidata.org/entity/Q2270')), ValueSnak(Property(IRI('http://www.wikidata.org/entity/P2892'), ExternalIdDatatype()), ExternalId('C0005036')))"
      ]
     },
     "metadata": {},
     "output_type": "display_data"
    }
   ],
   "source": [
    "it = kb.filter(subject=wd.benzene, property=wd.instance_of(wd.Wikidata_property_related_to_medicine))\n",
    "display(*it)"
   ]
  },
  {
   "cell_type": "markdown",
   "id": "ff0c35ad-13ea-4651-a0fe-c76a752a3ab1",
   "metadata": {},
   "source": [
    "## Statements such that property is father and value has an unknown date of death"
   ]
  },
  {
   "cell_type": "code",
   "execution_count": 17,
   "id": "28dec920-4fad-46d2-ba0f-84f99c853c20",
   "metadata": {},
   "outputs": [
    {
     "data": {
      "text/markdown": [
       "(**Statement** (**Item** [Kim Bauer](http://www.wikidata.org/entity/Q1049347)) (**ValueSnak** (**Property** [father](http://www.wikidata.org/entity/P22)) (**Item** [Jack Bauer](http://www.wikidata.org/entity/Q24))))"
      ],
      "text/plain": [
       "Statement(Item(IRI('http://www.wikidata.org/entity/Q1049347')), ValueSnak(Property(IRI('http://www.wikidata.org/entity/P22'), ItemDatatype()), Item(IRI('http://www.wikidata.org/entity/Q24'))))"
      ]
     },
     "metadata": {},
     "output_type": "display_data"
    },
    {
     "data": {
      "text/markdown": [
       "(**Statement** (**Item** [Ishmael](http://www.wikidata.org/entity/Q183403)) (**ValueSnak** (**Property** [father](http://www.wikidata.org/entity/P22)) (**Item** [Abraham](http://www.wikidata.org/entity/Q9181))))"
      ],
      "text/plain": [
       "Statement(Item(IRI('http://www.wikidata.org/entity/Q183403')), ValueSnak(Property(IRI('http://www.wikidata.org/entity/P22'), ItemDatatype()), Item(IRI('http://www.wikidata.org/entity/Q9181'))))"
      ]
     },
     "metadata": {},
     "output_type": "display_data"
    },
    {
     "data": {
      "text/markdown": [
       "(**Statement** (**Item** [Shuah](http://www.wikidata.org/entity/Q369850)) (**ValueSnak** (**Property** [father](http://www.wikidata.org/entity/P22)) (**Item** [Abraham](http://www.wikidata.org/entity/Q9181))))"
      ],
      "text/plain": [
       "Statement(Item(IRI('http://www.wikidata.org/entity/Q369850')), ValueSnak(Property(IRI('http://www.wikidata.org/entity/P22'), ItemDatatype()), Item(IRI('http://www.wikidata.org/entity/Q9181'))))"
      ]
     },
     "metadata": {},
     "output_type": "display_data"
    }
   ],
   "source": [
    "it = kb.filter(property=wd.father, value=SomeValueSnak(wd.date_of_death))\n",
    "display(*it)"
   ]
  },
  {
   "cell_type": "markdown",
   "id": "fc875aa5-5119-40f0-ba45-cc376d435783",
   "metadata": {},
   "source": [
    "## Statements about Adam such that snak is of type some-value or no-value"
   ]
  },
  {
   "cell_type": "code",
   "execution_count": 18,
   "id": "d556dfc9-96f7-4343-b58f-e438003445a6",
   "metadata": {},
   "outputs": [
    {
     "data": {
      "text/markdown": [
       "(**Statement** (**Item** [Adam](http://www.wikidata.org/entity/Q70899)) (**NoValueSnak** (**Property** [father](http://www.wikidata.org/entity/P22))))"
      ],
      "text/plain": [
       "Statement(Item(IRI('http://www.wikidata.org/entity/Q70899')), NoValueSnak(Property(IRI('http://www.wikidata.org/entity/P22'), ItemDatatype())))"
      ]
     },
     "metadata": {},
     "output_type": "display_data"
    },
    {
     "data": {
      "text/markdown": [
       "(**Statement** (**Item** [Adam](http://www.wikidata.org/entity/Q70899)) (**NoValueSnak** (**Property** [mother](http://www.wikidata.org/entity/P25))))"
      ],
      "text/plain": [
       "Statement(Item(IRI('http://www.wikidata.org/entity/Q70899')), NoValueSnak(Property(IRI('http://www.wikidata.org/entity/P25'), ItemDatatype())))"
      ]
     },
     "metadata": {},
     "output_type": "display_data"
    },
    {
     "data": {
      "text/markdown": [
       "(**Statement** (**Item** [Adam](http://www.wikidata.org/entity/Q70899)) (**NoValueSnak** (**Property** [family name](http://www.wikidata.org/entity/P734))))"
      ],
      "text/plain": [
       "Statement(Item(IRI('http://www.wikidata.org/entity/Q70899')), NoValueSnak(Property(IRI('http://www.wikidata.org/entity/P734'), ItemDatatype())))"
      ]
     },
     "metadata": {},
     "output_type": "display_data"
    }
   ],
   "source": [
    "it = kb.filter(subject=wd.Adam, snak_mask=Filter.SOME_VALUE_SNAK | Filter.NO_VALUE_SNAK)\n",
    "display(*it)"
   ]
  }
 ],
 "metadata": {
  "kernelspec": {
   "display_name": "venv313",
   "language": "python",
   "name": "venv313"
  },
  "language_info": {
   "codemirror_mode": {
    "name": "ipython",
    "version": 3
   },
   "file_extension": ".py",
   "mimetype": "text/x-python",
   "name": "python",
   "nbconvert_exporter": "python",
   "pygments_lexer": "ipython3",
   "version": "3.13.5"
  }
 },
 "nbformat": 4,
 "nbformat_minor": 5
}
