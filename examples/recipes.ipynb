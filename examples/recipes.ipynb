{
 "cells": [
  {
   "cell_type": "code",
   "execution_count": 1,
   "id": "d8d0320b-e094-4994-8775-a9ddb1108e73",
   "metadata": {},
   "outputs": [],
   "source": [
    "# Uncomment to see the SPARQL queries.\n",
    "#import logging\n",
    "#logging.basicConfig(level=logging.DEBUG)"
   ]
  },
  {
   "cell_type": "markdown",
   "id": "7af8c8b5-d7f2-4f90-a15b-192c2105ebb0",
   "metadata": {},
   "source": [
    "# Recipes"
   ]
  },
  {
   "cell_type": "code",
   "execution_count": 2,
   "id": "3f1c3a88-34fc-42dd-9feb-2bf95cdfdc04",
   "metadata": {},
   "outputs": [],
   "source": [
    "from kif_lib import *\n",
    "from kif_lib.vocabulary import wd"
   ]
  },
  {
   "cell_type": "code",
   "execution_count": 3,
   "id": "d72704b7-9c49-4183-be7c-073a87ea277f",
   "metadata": {},
   "outputs": [],
   "source": [
    "kb = Store('sparql', 'https://query.wikidata.org/sparql')"
   ]
  },
  {
   "cell_type": "markdown",
   "id": "fe14df15-f241-47bb-a49c-d73212d6144e",
   "metadata": {},
   "source": [
    "## Statements about benzene"
   ]
  },
  {
   "cell_type": "code",
   "execution_count": 4,
   "id": "689e15b7-1b0b-4b75-ae68-1821e5b8e57f",
   "metadata": {},
   "outputs": [
    {
     "data": {
      "text/markdown": [
       "(**Statement** (**Item** [benzene](http://www.wikidata.org/entity/Q2270)) (**ValueSnak** (**Property** [WordNet 3.1 Synset ID](http://www.wikidata.org/entity/P8814)) \"14798860-n\"))"
      ],
      "text/plain": [
       "Statement(Item(IRI('http://www.wikidata.org/entity/Q2270')), ValueSnak(Property(IRI('http://www.wikidata.org/entity/P8814')), String('14798860-n')))"
      ]
     },
     "metadata": {},
     "output_type": "display_data"
    },
    {
     "data": {
      "text/markdown": [
       "(**Statement** (**Item** [benzene](http://www.wikidata.org/entity/Q2270)) (**ValueSnak** (**Property** [Golden ID](http://www.wikidata.org/entity/P7502)) \"Benzene-PRE4NE\"))"
      ],
      "text/plain": [
       "Statement(Item(IRI('http://www.wikidata.org/entity/Q2270')), ValueSnak(Property(IRI('http://www.wikidata.org/entity/P7502')), String('Benzene-PRE4NE')))"
      ]
     },
     "metadata": {},
     "output_type": "display_data"
    },
    {
     "data": {
      "text/markdown": [
       "(**Statement** (**Item** [benzene](http://www.wikidata.org/entity/Q2270)) (**ValueSnak** (**Property** [DSSTOX compound identifier](http://www.wikidata.org/entity/P8494)) \"DTXCID20135\"))"
      ],
      "text/plain": [
       "Statement(Item(IRI('http://www.wikidata.org/entity/Q2270')), ValueSnak(Property(IRI('http://www.wikidata.org/entity/P8494')), String('DTXCID20135')))"
      ]
     },
     "metadata": {},
     "output_type": "display_data"
    }
   ],
   "source": [
    "it = kb.filter(subject=wd.benzene, limit=3)\n",
    "for stmt in it:\n",
    "    display(stmt)"
   ]
  },
  {
   "cell_type": "markdown",
   "id": "e9a30521-2e94-4148-94fb-b3d7adbc91f5",
   "metadata": {},
   "source": [
    "## Statements about benzene with annotations"
   ]
  },
  {
   "cell_type": "code",
   "execution_count": 5,
   "id": "9af99210-a13a-482d-a2de-34a6a88b5b96",
   "metadata": {},
   "outputs": [
    {
     "name": "stdout",
     "output_type": "stream",
     "text": [
      "-- 1 --\n"
     ]
    },
    {
     "data": {
      "text/markdown": [
       "(**Statement** (**Item** [benzene](http://www.wikidata.org/entity/Q2270)) (**ValueSnak** (**Property** [wd:P10890](http://www.wikidata.org/entity/P10890)) \"142110\"))"
      ],
      "text/plain": [
       "Statement(Item(IRI('http://www.wikidata.org/entity/Q2270')), ValueSnak(Property(IRI('http://www.wikidata.org/entity/P10890')), String('142110')))"
      ]
     },
     "metadata": {},
     "output_type": "display_data"
    },
    {
     "data": {
      "text/markdown": [
       "(**AnnotationRecordSet**\n",
       "- (**AnnotationRecord**\n",
       "  - (**SnakSet**\n",
       "    - (**ValueSnak** (**Property** [named as](http://www.wikidata.org/entity/P1810)) \"Benzene\"))\n",
       "  - (**ReferenceRecordSet**)\n",
       "  - **NormalRank**))"
      ],
      "text/plain": [
       "AnnotationRecordSet(AnnotationRecord(SnakSet(ValueSnak(Property(IRI('http://www.wikidata.org/entity/P1810')), String('Benzene'))), ReferenceRecordSet(), NormalRank()))"
      ]
     },
     "metadata": {},
     "output_type": "display_data"
    },
    {
     "name": "stdout",
     "output_type": "stream",
     "text": [
      "-- 2 --\n"
     ]
    },
    {
     "data": {
      "text/markdown": [
       "(**Statement** (**Item** [benzene](http://www.wikidata.org/entity/Q2270)) (**ValueSnak** (**Property** [CCDC Number](http://www.wikidata.org/entity/P6852)) \"1108751\"))"
      ],
      "text/plain": [
       "Statement(Item(IRI('http://www.wikidata.org/entity/Q2270')), ValueSnak(Property(IRI('http://www.wikidata.org/entity/P6852')), String('1108751')))"
      ]
     },
     "metadata": {},
     "output_type": "display_data"
    },
    {
     "data": {
      "text/markdown": [
       "(**AnnotationRecordSet**\n",
       "- (**AnnotationRecord**\n",
       "  - (**SnakSet**)\n",
       "  - (**ReferenceRecordSet**\n",
       "    - (**ReferenceRecord**\n",
       "      - (**ValueSnak** (**Property** [stated in](http://www.wikidata.org/entity/P248)) (**Item** [wd:Q2166958](http://www.wikidata.org/entity/Q2166958)))\n",
       "      - (**ValueSnak** (**Property** [retrieved](http://www.wikidata.org/entity/P813)) (**Time** 2023-01-10))\n",
       "      - (**ValueSnak** (**Property** [based on heuristic](http://www.wikidata.org/entity/P887)) (**Item** [wd:Q100452164](http://www.wikidata.org/entity/Q100452164)))))\n",
       "  - **NormalRank**))"
      ],
      "text/plain": [
       "AnnotationRecordSet(AnnotationRecord(SnakSet(), ReferenceRecordSet(ReferenceRecord(ValueSnak(Property(IRI('http://www.wikidata.org/entity/P248')), Item(IRI('http://www.wikidata.org/entity/Q2166958'))), ValueSnak(Property(IRI('http://www.wikidata.org/entity/P813')), Time(datetime.datetime(2023, 1, 10, 0, 0, tzinfo=datetime.timezone.utc), 11, 0, Item(IRI('http://www.wikidata.org/entity/Q1985727')))), ValueSnak(Property(IRI('http://www.wikidata.org/entity/P887')), Item(IRI('http://www.wikidata.org/entity/Q100452164'))))), NormalRank()))"
      ]
     },
     "metadata": {},
     "output_type": "display_data"
    },
    {
     "name": "stdout",
     "output_type": "stream",
     "text": [
      "-- 3 --\n"
     ]
    },
    {
     "data": {
      "text/markdown": [
       "(**Statement** (**Item** [benzene](http://www.wikidata.org/entity/Q2270)) (**ValueSnak** (**Property** [image](http://www.wikidata.org/entity/P18)) [http://commons.wikimedia.org/wiki/Special:FilePath/Benzene%20sample.jpg](http://commons.wikimedia.org/wiki/Special:FilePath/Benzene%20sample.jpg)))"
      ],
      "text/plain": [
       "Statement(Item(IRI('http://www.wikidata.org/entity/Q2270')), ValueSnak(Property(IRI('http://www.wikidata.org/entity/P18')), IRI('http://commons.wikimedia.org/wiki/Special:FilePath/Benzene%20sample.jpg')))"
      ]
     },
     "metadata": {},
     "output_type": "display_data"
    },
    {
     "data": {
      "text/markdown": [
       "(**AnnotationRecordSet**\n",
       "- (**AnnotationRecord**\n",
       "  - (**SnakSet**)\n",
       "  - (**ReferenceRecordSet**)\n",
       "  - **NormalRank**))"
      ],
      "text/plain": [
       "AnnotationRecordSet(AnnotationRecord(SnakSet(), ReferenceRecordSet(), NormalRank()))"
      ]
     },
     "metadata": {},
     "output_type": "display_data"
    }
   ],
   "source": [
    "it = kb.filter_annotated(subject=wd.benzene, limit=3)\n",
    "for i, (stmt, annots) in enumerate(it, 1):\n",
    "    print('--', i, '--')\n",
    "    display(stmt)\n",
    "    display(annots)"
   ]
  },
  {
   "cell_type": "markdown",
   "id": "f6cc1807-acc2-4167-997b-5b81e684723f",
   "metadata": {},
   "source": [
    "## Statements about benzene with custom extra references"
   ]
  },
  {
   "cell_type": "code",
   "execution_count": 6,
   "id": "27e11553-5d91-443c-b938-c3de8ad83b9a",
   "metadata": {},
   "outputs": [],
   "source": [
    "import datetime\n",
    "kb1 = Store('sparql', 'https://query.wikidata.org/sparql')\n",
    "kb1.extra_references = [\n",
    "    ReferenceRecord(\n",
    "        wd.stated_in(wd.Wikidata),\n",
    "        wd.reference_URL(kb1.iri),\n",
    "        wd.retrieved(Time(datetime.datetime.now()))),\n",
    "    ReferenceRecord(\n",
    "        wd.stated_in('KIF'))]"
   ]
  },
  {
   "cell_type": "code",
   "execution_count": 7,
   "id": "d90ea01a-bac8-4822-a246-5376dc064036",
   "metadata": {},
   "outputs": [
    {
     "name": "stdout",
     "output_type": "stream",
     "text": [
      "-- 1 --\n"
     ]
    },
    {
     "data": {
      "text/markdown": [
       "(**Statement** (**Item** [benzene](http://www.wikidata.org/entity/Q2270)) (**ValueSnak** (**Property** [WordNet 3.1 Synset ID](http://www.wikidata.org/entity/P8814)) \"14798860-n\"))"
      ],
      "text/plain": [
       "Statement(Item(IRI('http://www.wikidata.org/entity/Q2270')), ValueSnak(Property(IRI('http://www.wikidata.org/entity/P8814')), String('14798860-n')))"
      ]
     },
     "metadata": {},
     "output_type": "display_data"
    },
    {
     "data": {
      "text/markdown": [
       "(**AnnotationRecordSet**\n",
       "- (**AnnotationRecord**\n",
       "  - (**SnakSet**)\n",
       "  - (**ReferenceRecordSet**\n",
       "    - (**ReferenceRecord**\n",
       "      - (**ValueSnak** (**Property** [stated in](http://www.wikidata.org/entity/P248)) (**Item** [Wikidata](http://www.wikidata.org/entity/Q2013)))\n",
       "      - (**ValueSnak** (**Property** [retrieved](http://www.wikidata.org/entity/P813)) (**Time** 2024-03-05))\n",
       "      - (**ValueSnak** (**Property** [reference URL](http://www.wikidata.org/entity/P854)) [https://query.wikidata.org/sparql](https://query.wikidata.org/sparql)))\n",
       "    - (**ReferenceRecord**\n",
       "      - (**ValueSnak** (**Property** [stated in](http://www.wikidata.org/entity/P248)) \"KIF\")))\n",
       "  - **NormalRank**))"
      ],
      "text/plain": [
       "AnnotationRecordSet(AnnotationRecord(SnakSet(), ReferenceRecordSet(ReferenceRecord(ValueSnak(Property(IRI('http://www.wikidata.org/entity/P248')), Item(IRI('http://www.wikidata.org/entity/Q2013'))), ValueSnak(Property(IRI('http://www.wikidata.org/entity/P813')), Time(datetime.datetime(2024, 3, 5, 10, 59, 9, 830304, tzinfo=datetime.timezone.utc), None, None, None)), ValueSnak(Property(IRI('http://www.wikidata.org/entity/P854')), IRI('https://query.wikidata.org/sparql'))), ReferenceRecord(ValueSnak(Property(IRI('http://www.wikidata.org/entity/P248')), String('KIF')))), NormalRank()))"
      ]
     },
     "metadata": {},
     "output_type": "display_data"
    },
    {
     "name": "stdout",
     "output_type": "stream",
     "text": [
      "-- 2 --\n"
     ]
    },
    {
     "data": {
      "text/markdown": [
       "(**Statement** (**Item** [benzene](http://www.wikidata.org/entity/Q2270)) (**ValueSnak** (**Property** [Golden ID](http://www.wikidata.org/entity/P7502)) \"Benzene-PRE4NE\"))"
      ],
      "text/plain": [
       "Statement(Item(IRI('http://www.wikidata.org/entity/Q2270')), ValueSnak(Property(IRI('http://www.wikidata.org/entity/P7502')), String('Benzene-PRE4NE')))"
      ]
     },
     "metadata": {},
     "output_type": "display_data"
    },
    {
     "data": {
      "text/markdown": [
       "(**AnnotationRecordSet**\n",
       "- (**AnnotationRecord**\n",
       "  - (**SnakSet**)\n",
       "  - (**ReferenceRecordSet**\n",
       "    - (**ReferenceRecord**\n",
       "      - (**ValueSnak** (**Property** [stated in](http://www.wikidata.org/entity/P248)) (**Item** [Wikidata](http://www.wikidata.org/entity/Q2013)))\n",
       "      - (**ValueSnak** (**Property** [retrieved](http://www.wikidata.org/entity/P813)) (**Time** 2024-03-05))\n",
       "      - (**ValueSnak** (**Property** [reference URL](http://www.wikidata.org/entity/P854)) [https://query.wikidata.org/sparql](https://query.wikidata.org/sparql)))\n",
       "    - (**ReferenceRecord**\n",
       "      - (**ValueSnak** (**Property** [stated in](http://www.wikidata.org/entity/P248)) \"KIF\"))\n",
       "    - (**ReferenceRecord**\n",
       "      - (**ValueSnak** (**Property** [retrieved](http://www.wikidata.org/entity/P813)) (**Time** 2022-09-10))\n",
       "      - (**ValueSnak** (**Property** [reference URL](http://www.wikidata.org/entity/P854)) [https://golden.com/wiki/Benzene-PRE4NE](https://golden.com/wiki/Benzene-PRE4NE))))\n",
       "  - **NormalRank**))"
      ],
      "text/plain": [
       "AnnotationRecordSet(AnnotationRecord(SnakSet(), ReferenceRecordSet(ReferenceRecord(ValueSnak(Property(IRI('http://www.wikidata.org/entity/P248')), Item(IRI('http://www.wikidata.org/entity/Q2013'))), ValueSnak(Property(IRI('http://www.wikidata.org/entity/P813')), Time(datetime.datetime(2024, 3, 5, 10, 59, 9, 830304, tzinfo=datetime.timezone.utc), None, None, None)), ValueSnak(Property(IRI('http://www.wikidata.org/entity/P854')), IRI('https://query.wikidata.org/sparql'))), ReferenceRecord(ValueSnak(Property(IRI('http://www.wikidata.org/entity/P248')), String('KIF'))), ReferenceRecord(ValueSnak(Property(IRI('http://www.wikidata.org/entity/P813')), Time(datetime.datetime(2022, 9, 10, 0, 0, tzinfo=datetime.timezone.utc), 11, 0, Item(IRI('http://www.wikidata.org/entity/Q1985727')))), ValueSnak(Property(IRI('http://www.wikidata.org/entity/P854')), IRI('https://golden.com/wiki/Benzene-PRE4NE')))), NormalRank()))"
      ]
     },
     "metadata": {},
     "output_type": "display_data"
    },
    {
     "name": "stdout",
     "output_type": "stream",
     "text": [
      "-- 3 --\n"
     ]
    },
    {
     "data": {
      "text/markdown": [
       "(**Statement** (**Item** [benzene](http://www.wikidata.org/entity/Q2270)) (**ValueSnak** (**Property** [DSSTOX compound identifier](http://www.wikidata.org/entity/P8494)) \"DTXCID20135\"))"
      ],
      "text/plain": [
       "Statement(Item(IRI('http://www.wikidata.org/entity/Q2270')), ValueSnak(Property(IRI('http://www.wikidata.org/entity/P8494')), String('DTXCID20135')))"
      ]
     },
     "metadata": {},
     "output_type": "display_data"
    },
    {
     "data": {
      "text/markdown": [
       "(**AnnotationRecordSet**\n",
       "- (**AnnotationRecord**\n",
       "  - (**SnakSet**)\n",
       "  - (**ReferenceRecordSet**\n",
       "    - (**ReferenceRecord**\n",
       "      - (**ValueSnak** (**Property** [stated in](http://www.wikidata.org/entity/P248)) (**Item** [Wikidata](http://www.wikidata.org/entity/Q2013)))\n",
       "      - (**ValueSnak** (**Property** [retrieved](http://www.wikidata.org/entity/P813)) (**Time** 2024-03-05))\n",
       "      - (**ValueSnak** (**Property** [reference URL](http://www.wikidata.org/entity/P854)) [https://query.wikidata.org/sparql](https://query.wikidata.org/sparql)))\n",
       "    - (**ReferenceRecord**\n",
       "      - (**ValueSnak** (**Property** [stated in](http://www.wikidata.org/entity/P248)) \"KIF\")))\n",
       "  - **NormalRank**))"
      ],
      "text/plain": [
       "AnnotationRecordSet(AnnotationRecord(SnakSet(), ReferenceRecordSet(ReferenceRecord(ValueSnak(Property(IRI('http://www.wikidata.org/entity/P248')), Item(IRI('http://www.wikidata.org/entity/Q2013'))), ValueSnak(Property(IRI('http://www.wikidata.org/entity/P813')), Time(datetime.datetime(2024, 3, 5, 10, 59, 9, 830304, tzinfo=datetime.timezone.utc), None, None, None)), ValueSnak(Property(IRI('http://www.wikidata.org/entity/P854')), IRI('https://query.wikidata.org/sparql'))), ReferenceRecord(ValueSnak(Property(IRI('http://www.wikidata.org/entity/P248')), String('KIF')))), NormalRank()))"
      ]
     },
     "metadata": {},
     "output_type": "display_data"
    }
   ],
   "source": [
    "it = kb1.filter_annotated(subject=wd.benzene, limit=3)\n",
    "for i, (stmt, annots) in enumerate(it, 1):\n",
    "    print('--', i, '--')\n",
    "    display(stmt)\n",
    "    display(annots)"
   ]
  },
  {
   "cell_type": "markdown",
   "id": "b06c0369-11e2-4d5e-8f07-af14c7a9676f",
   "metadata": {},
   "source": [
    "## Statements such that subject has no date of birth"
   ]
  },
  {
   "cell_type": "code",
   "execution_count": 8,
   "id": "967dddcb-603c-4c77-bc6d-1973fe903fac",
   "metadata": {},
   "outputs": [
    {
     "data": {
      "text/markdown": [
       "(**Statement** (**Item** [wd:Q80224](http://www.wikidata.org/entity/Q80224)) (**NoValueSnak** (**Property** [date of birth](http://www.wikidata.org/entity/P569))))"
      ],
      "text/plain": [
       "Statement(Item(IRI('http://www.wikidata.org/entity/Q80224')), NoValueSnak(Property(IRI('http://www.wikidata.org/entity/P569'))))"
      ]
     },
     "metadata": {},
     "output_type": "display_data"
    },
    {
     "data": {
      "text/markdown": [
       "(**Statement** (**Item** [wd:Q33150](http://www.wikidata.org/entity/Q33150)) (**NoValueSnak** (**Property** [date of birth](http://www.wikidata.org/entity/P569))))"
      ],
      "text/plain": [
       "Statement(Item(IRI('http://www.wikidata.org/entity/Q33150')), NoValueSnak(Property(IRI('http://www.wikidata.org/entity/P569'))))"
      ]
     },
     "metadata": {},
     "output_type": "display_data"
    },
    {
     "data": {
      "text/markdown": [
       "(**Statement** (**Item** [wd:Q102561](http://www.wikidata.org/entity/Q102561)) (**NoValueSnak** (**Property** [date of birth](http://www.wikidata.org/entity/P569))))"
      ],
      "text/plain": [
       "Statement(Item(IRI('http://www.wikidata.org/entity/Q102561')), NoValueSnak(Property(IRI('http://www.wikidata.org/entity/P569'))))"
      ]
     },
     "metadata": {},
     "output_type": "display_data"
    }
   ],
   "source": [
    "it = kb.filter(subject=NoValueSnak(wd.date_of_birth), limit=3)\n",
    "for stmt in it:\n",
    "    display(stmt)"
   ]
  },
  {
   "cell_type": "markdown",
   "id": "c02d629b-9de2-415d-8618-9b9ca15e65b5",
   "metadata": {},
   "source": [
    "## Statements such that subject is benzene and property is related to medicine "
   ]
  },
  {
   "cell_type": "code",
   "execution_count": 9,
   "id": "b7deeb3e-2df3-4359-a3d9-3cec1ab03827",
   "metadata": {},
   "outputs": [
    {
     "data": {
      "text/markdown": [
       "(**Statement** (**Item** [benzene](http://www.wikidata.org/entity/Q2270)) (**ValueSnak** (**Property** [MeSH descriptor ID](http://www.wikidata.org/entity/P486)) \"D001554\"))"
      ],
      "text/plain": [
       "Statement(Item(IRI('http://www.wikidata.org/entity/Q2270')), ValueSnak(Property(IRI('http://www.wikidata.org/entity/P486')), String('D001554')))"
      ]
     },
     "metadata": {},
     "output_type": "display_data"
    },
    {
     "data": {
      "text/markdown": [
       "(**Statement** (**Item** [benzene](http://www.wikidata.org/entity/Q2270)) (**ValueSnak** (**Property** [PDB structure ID](http://www.wikidata.org/entity/P638)) \"4I7J\"))"
      ],
      "text/plain": [
       "Statement(Item(IRI('http://www.wikidata.org/entity/Q2270')), ValueSnak(Property(IRI('http://www.wikidata.org/entity/P638')), String('4I7J')))"
      ]
     },
     "metadata": {},
     "output_type": "display_data"
    },
    {
     "data": {
      "text/markdown": [
       "(**Statement** (**Item** [benzene](http://www.wikidata.org/entity/Q2270)) (**ValueSnak** (**Property** [PDB structure ID](http://www.wikidata.org/entity/P638)) \"223L\"))"
      ],
      "text/plain": [
       "Statement(Item(IRI('http://www.wikidata.org/entity/Q2270')), ValueSnak(Property(IRI('http://www.wikidata.org/entity/P638')), String('223L')))"
      ]
     },
     "metadata": {},
     "output_type": "display_data"
    }
   ],
   "source": [
    "it = kb.filter(subject=wd.benzene, property=wd.instance_of(wd.Wikidata_property_related_to_medicine), limit=3)\n",
    "for stmt in it:\n",
    "    display(stmt)"
   ]
  },
  {
   "cell_type": "markdown",
   "id": "ff0c35ad-13ea-4651-a0fe-c76a752a3ab1",
   "metadata": {},
   "source": [
    "## Statements such that property is father and value has an unknown date of death"
   ]
  },
  {
   "cell_type": "code",
   "execution_count": 10,
   "id": "28dec920-4fad-46d2-ba0f-84f99c853c20",
   "metadata": {},
   "outputs": [
    {
     "data": {
      "text/markdown": [
       "(**Statement** (**Item** [wd:Q1049347](http://www.wikidata.org/entity/Q1049347)) (**ValueSnak** (**Property** [father](http://www.wikidata.org/entity/P22)) (**Item** [wd:Q24](http://www.wikidata.org/entity/Q24))))"
      ],
      "text/plain": [
       "Statement(Item(IRI('http://www.wikidata.org/entity/Q1049347')), ValueSnak(Property(IRI('http://www.wikidata.org/entity/P22')), Item(IRI('http://www.wikidata.org/entity/Q24'))))"
      ]
     },
     "metadata": {},
     "output_type": "display_data"
    },
    {
     "data": {
      "text/markdown": [
       "(**Statement** (**Item** [wd:Q839766](http://www.wikidata.org/entity/Q839766)) (**ValueSnak** (**Property** [father](http://www.wikidata.org/entity/P22)) (**Item** [wd:Q2142](http://www.wikidata.org/entity/Q2142))))"
      ],
      "text/plain": [
       "Statement(Item(IRI('http://www.wikidata.org/entity/Q839766')), ValueSnak(Property(IRI('http://www.wikidata.org/entity/P22')), Item(IRI('http://www.wikidata.org/entity/Q2142'))))"
      ]
     },
     "metadata": {},
     "output_type": "display_data"
    },
    {
     "data": {
      "text/markdown": [
       "(**Statement** (**Item** [wd:Q752269](http://www.wikidata.org/entity/Q752269)) (**ValueSnak** (**Property** [father](http://www.wikidata.org/entity/P22)) (**Item** [wd:Q2142](http://www.wikidata.org/entity/Q2142))))"
      ],
      "text/plain": [
       "Statement(Item(IRI('http://www.wikidata.org/entity/Q752269')), ValueSnak(Property(IRI('http://www.wikidata.org/entity/P22')), Item(IRI('http://www.wikidata.org/entity/Q2142'))))"
      ]
     },
     "metadata": {},
     "output_type": "display_data"
    }
   ],
   "source": [
    "it = kb.filter(property=wd.father, value=SomeValueSnak(wd.date_of_death), limit=3)\n",
    "for stmt in it:\n",
    "    display(stmt)"
   ]
  },
  {
   "cell_type": "markdown",
   "id": "fc875aa5-5119-40f0-ba45-cc376d435783",
   "metadata": {},
   "source": [
    "## Statements about Adam such that snak is of type some-value or no-value"
   ]
  },
  {
   "cell_type": "code",
   "execution_count": 11,
   "id": "d556dfc9-96f7-4343-b58f-e438003445a6",
   "metadata": {},
   "outputs": [
    {
     "data": {
      "text/markdown": [
       "(**Statement** (**Item** [Adam](http://www.wikidata.org/entity/Q70899)) (**NoValueSnak** (**Property** [mother](http://www.wikidata.org/entity/P25))))"
      ],
      "text/plain": [
       "Statement(Item(IRI('http://www.wikidata.org/entity/Q70899')), NoValueSnak(Property(IRI('http://www.wikidata.org/entity/P25'))))"
      ]
     },
     "metadata": {},
     "output_type": "display_data"
    },
    {
     "data": {
      "text/markdown": [
       "(**Statement** (**Item** [Adam](http://www.wikidata.org/entity/Q70899)) (**NoValueSnak** (**Property** [father](http://www.wikidata.org/entity/P22))))"
      ],
      "text/plain": [
       "Statement(Item(IRI('http://www.wikidata.org/entity/Q70899')), NoValueSnak(Property(IRI('http://www.wikidata.org/entity/P22'))))"
      ]
     },
     "metadata": {},
     "output_type": "display_data"
    },
    {
     "data": {
      "text/markdown": [
       "(**Statement** (**Item** [Adam](http://www.wikidata.org/entity/Q70899)) (**NoValueSnak** (**Property** [date of birth](http://www.wikidata.org/entity/P569))))"
      ],
      "text/plain": [
       "Statement(Item(IRI('http://www.wikidata.org/entity/Q70899')), NoValueSnak(Property(IRI('http://www.wikidata.org/entity/P569'))))"
      ]
     },
     "metadata": {},
     "output_type": "display_data"
    }
   ],
   "source": [
    "it = kb.filter(subject=wd.Adam, snak_mask=Snak.SOME_VALUE_SNAK | Snak.NO_VALUE_SNAK, limit=3)\n",
    "for stmt in it:\n",
    "    display(stmt)"
   ]
  },
  {
   "cell_type": "markdown",
   "id": "39591a40-b0b6-458e-b437-c7ef5dabf661",
   "metadata": {},
   "source": [
    "## Descriptors of a given list of entities"
   ]
  },
  {
   "cell_type": "code",
   "execution_count": 12,
   "id": "fbdcd1b9-c958-497a-a555-490961efdfdc",
   "metadata": {},
   "outputs": [
    {
     "name": "stdout",
     "output_type": "stream",
     "text": [
      "-- 1 --\n"
     ]
    },
    {
     "data": {
      "text/markdown": [
       "(**Item** [benzene](http://www.wikidata.org/entity/Q2270))"
      ],
      "text/plain": [
       "Item(IRI('http://www.wikidata.org/entity/Q2270'))"
      ]
     },
     "metadata": {},
     "output_type": "display_data"
    },
    {
     "data": {
      "text/markdown": [
       "(**ItemDescriptor**\n",
       "- \"benzeno\"@pt\n",
       "- *no aliases*\n",
       "- \"composto químico\"@pt)"
      ],
      "text/plain": [
       "ItemDescriptor(Text('benzeno', 'pt'), TextSet(), Text('composto químico', 'pt'))"
      ]
     },
     "metadata": {},
     "output_type": "display_data"
    },
    {
     "name": "stdout",
     "output_type": "stream",
     "text": [
      "-- 2 --\n"
     ]
    },
    {
     "data": {
      "text/markdown": [
       "(**Property** [instance of](http://www.wikidata.org/entity/P31))"
      ],
      "text/plain": [
       "Property(IRI('http://www.wikidata.org/entity/P31'))"
      ]
     },
     "metadata": {},
     "output_type": "display_data"
    },
    {
     "data": {
      "text/markdown": [
       "PropertyDescriptor(Text('instância de', 'pt'), TextSet(Text('natureza do elemento', 'pt'), Text('possui classe', 'pt'), Text('é membro de', 'pt'), Text('é um', 'pt'), Text('é um exemplo de', 'pt'), Text('é um indivíduo', 'pt'), Text('é uma', 'pt'), Text('∈', 'pt')), Text('este item é uma instância deste outro item', 'pt'), ItemDatatype())"
      ],
      "text/plain": [
       "PropertyDescriptor(Text('instância de', 'pt'), TextSet(Text('natureza do elemento', 'pt'), Text('possui classe', 'pt'), Text('é membro de', 'pt'), Text('é um', 'pt'), Text('é um exemplo de', 'pt'), Text('é um indivíduo', 'pt'), Text('é uma', 'pt'), Text('∈', 'pt')), Text('este item é uma instância deste outro item', 'pt'), ItemDatatype())"
      ]
     },
     "metadata": {},
     "output_type": "display_data"
    }
   ],
   "source": [
    "it = kb.get_descriptor([wd.benzene, wd.instance_of], 'pt')\n",
    "for i, (entity, desc) in enumerate(it, 1):\n",
    "    print('--', i, '--')\n",
    "    display(entity)\n",
    "    display(desc)"
   ]
  },
  {
   "cell_type": "markdown",
   "id": "cf5f1429-0951-4ed4-ad82-692501122473",
   "metadata": {},
   "source": [
    "## Descriptors of all entities occurring in statement"
   ]
  },
  {
   "cell_type": "code",
   "execution_count": 13,
   "id": "14f87feb-d30d-40ee-9fc5-a7b24c649828",
   "metadata": {},
   "outputs": [
    {
     "data": {
      "text/markdown": [
       "(**Statement** (**Item** [benzene](http://www.wikidata.org/entity/Q2270)) (**ValueSnak** (**Property** [MassBank accession ID](http://www.wikidata.org/entity/P6689)) \"MSBNK-Fac\\_Eng\\_Univ\\_Tokyo-JP002103\"))"
      ],
      "text/plain": [
       "Statement(Item(IRI('http://www.wikidata.org/entity/Q2270')), ValueSnak(Property(IRI('http://www.wikidata.org/entity/P6689')), String('MSBNK-Fac_Eng_Univ_Tokyo-JP002103')))"
      ]
     },
     "metadata": {},
     "output_type": "display_data"
    }
   ],
   "source": [
    "stmt = next(kb.filter(wd.benzene, limit=1))\n",
    "display(stmt)"
   ]
  },
  {
   "cell_type": "code",
   "execution_count": 14,
   "id": "4c80af92-b3b2-4b28-b79c-231821ada33d",
   "metadata": {},
   "outputs": [],
   "source": [
    "def get_entities(obj: KIF_Object) -> set[Entity]:\n",
    "    if not isinstance(obj, KIF_Object):\n",
    "        return set()\n",
    "    elif obj.is_entity():\n",
    "        return set([obj])\n",
    "    else:\n",
    "        return set.union(*map(get_entities, obj.args))"
   ]
  },
  {
   "cell_type": "code",
   "execution_count": 15,
   "id": "e70168ee-1a76-4681-b1df-387731604442",
   "metadata": {},
   "outputs": [
    {
     "name": "stdout",
     "output_type": "stream",
     "text": [
      "-- 1 --\n"
     ]
    },
    {
     "data": {
      "text/markdown": [
       "(**Property** [MassBank accession ID](http://www.wikidata.org/entity/P6689))"
      ],
      "text/plain": [
       "Property(IRI('http://www.wikidata.org/entity/P6689'))"
      ]
     },
     "metadata": {},
     "output_type": "display_data"
    },
    {
     "data": {
      "text/markdown": [
       "PropertyDescriptor(Text('MassBank accession ID', 'en'), TextSet(Text('MassBank ID', 'en'), Text('MassBank accession number', 'en')), Text('accession number for entries in the MassBank database (records of mass spectrometry)', 'en'), ExternalIdDatatype())"
      ],
      "text/plain": [
       "PropertyDescriptor(Text('MassBank accession ID', 'en'), TextSet(Text('MassBank ID', 'en'), Text('MassBank accession number', 'en')), Text('accession number for entries in the MassBank database (records of mass spectrometry)', 'en'), ExternalIdDatatype())"
      ]
     },
     "metadata": {},
     "output_type": "display_data"
    },
    {
     "name": "stdout",
     "output_type": "stream",
     "text": [
      "-- 2 --\n"
     ]
    },
    {
     "data": {
      "text/markdown": [
       "(**Item** [benzene](http://www.wikidata.org/entity/Q2270))"
      ],
      "text/plain": [
       "Item(IRI('http://www.wikidata.org/entity/Q2270'))"
      ]
     },
     "metadata": {},
     "output_type": "display_data"
    },
    {
     "data": {
      "text/markdown": [
       "(**ItemDescriptor**\n",
       "- \"benzene\"@en\n",
       "- (**TextSet**\n",
       "  - \"(6)annulene\"@en\n",
       "  - \"1,3,5-cyclohexatriene\"@en\n",
       "  - \"BNZ\"@en\n",
       "  - \"C6H6\"@en\n",
       "  - \"\\[6]annulene\"@en\n",
       "  - \"benzol\"@en\n",
       "  - \"benzole\"@en\n",
       "  - \"benzolene\"@en\n",
       "  - \"bicarburet of hydrogen\"@en\n",
       "  - \"cyclohexa-1,3,5-triene\"@en\n",
       "  - \"cyclohexatriene\"@en\n",
       "  - \"phenyl hydride\"@en)\n",
       "- \"hydrocarbon compound consisting of a 6-sided ring\"@en)"
      ],
      "text/plain": [
       "ItemDescriptor(Text('benzene', 'en'), TextSet(Text('(6)annulene', 'en'), Text('1,3,5-cyclohexatriene', 'en'), Text('BNZ', 'en'), Text('C6H6', 'en'), Text('[6]annulene', 'en'), Text('benzol', 'en'), Text('benzole', 'en'), Text('benzolene', 'en'), Text('bicarburet of hydrogen', 'en'), Text('cyclohexa-1,3,5-triene', 'en'), Text('cyclohexatriene', 'en'), Text('phenyl hydride', 'en')), Text('hydrocarbon compound consisting of a 6-sided ring', 'en'))"
      ]
     },
     "metadata": {},
     "output_type": "display_data"
    }
   ],
   "source": [
    "entity2desc = dict(kb.get_descriptor(get_entities(stmt), 'en'))\n",
    "for i, (k, v) in enumerate(entity2desc.items(), 1):\n",
    "    # -- update wd's internal cache (so display() will pretty-print the newly fetched labels) --\n",
    "    if v.label:\n",
    "        wd._registry.set(k, 'label', v.label.value)\n",
    "    if v.description:\n",
    "        wd._registry.set(k, 'description', v.description.value)\n",
    "    # ------------------------------------------------------------------------------------------\n",
    "    print('--', i, '--')\n",
    "    display(k)\n",
    "    display(v)"
   ]
  }
 ],
 "metadata": {
  "kernelspec": {
   "display_name": "Python 3 (ipykernel)",
   "language": "python",
   "name": "python3"
  },
  "language_info": {
   "codemirror_mode": {
    "name": "ipython",
    "version": 3
   },
   "file_extension": ".py",
   "mimetype": "text/x-python",
   "name": "python",
   "nbconvert_exporter": "python",
   "pygments_lexer": "ipython3",
   "version": "3.11.7"
  }
 },
 "nbformat": 4,
 "nbformat_minor": 5
}
