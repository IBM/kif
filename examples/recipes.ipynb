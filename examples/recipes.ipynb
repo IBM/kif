{
 "cells": [
  {
   "cell_type": "markdown",
   "id": "7af8c8b5-d7f2-4f90-a15b-192c2105ebb0",
   "metadata": {},
   "source": [
    "# Recipes"
   ]
  },
  {
   "cell_type": "code",
   "execution_count": 1,
   "id": "3f1c3a88-34fc-42dd-9feb-2bf95cdfdc04",
   "metadata": {},
   "outputs": [],
   "source": [
    "from kif_lib import *\n",
    "from kif_lib.vocabulary import wd"
   ]
  },
  {
   "cell_type": "code",
   "execution_count": 2,
   "id": "d72704b7-9c49-4183-be7c-073a87ea277f",
   "metadata": {},
   "outputs": [],
   "source": [
    "kb = Store('wikidata')"
   ]
  },
  {
   "cell_type": "markdown",
   "id": "fe14df15-f241-47bb-a49c-d73212d6144e",
   "metadata": {},
   "source": [
    "## Statements about benzene"
   ]
  },
  {
   "cell_type": "code",
   "execution_count": 3,
   "id": "689e15b7-1b0b-4b75-ae68-1821e5b8e57f",
   "metadata": {},
   "outputs": [
    {
     "data": {
      "text/markdown": [
       "(**Statement** (**Item** [benzene](http://www.wikidata.org/entity/Q2270)) (**ValueSnak** (**Property** [discoverer or inventor](http://www.wikidata.org/entity/P61)) (**Item** [Michael Faraday](http://www.wikidata.org/entity/Q8750))))"
      ],
      "text/plain": [
       "Statement(Item(IRI('http://www.wikidata.org/entity/Q2270')), ValueSnak(Property(IRI('http://www.wikidata.org/entity/P61'), ItemDatatype()), Item(IRI('http://www.wikidata.org/entity/Q8750'))))"
      ]
     },
     "metadata": {},
     "output_type": "display_data"
    },
    {
     "data": {
      "text/markdown": [
       "(**Statement** (**Item** [benzene](http://www.wikidata.org/entity/Q2270)) (**ValueSnak** (**Property** [instance of](http://www.wikidata.org/entity/P31)) (**Item** [type of a chemical entity](http://www.wikidata.org/entity/Q113145171))))"
      ],
      "text/plain": [
       "Statement(Item(IRI('http://www.wikidata.org/entity/Q2270')), ValueSnak(Property(IRI('http://www.wikidata.org/entity/P31'), ItemDatatype()), Item(IRI('http://www.wikidata.org/entity/Q113145171'))))"
      ]
     },
     "metadata": {},
     "output_type": "display_data"
    },
    {
     "data": {
      "text/markdown": [
       "(**Statement** (**Item** [benzene](http://www.wikidata.org/entity/Q2270)) (**ValueSnak** (**Property** [canonical SMILES](http://www.wikidata.org/entity/P233)) \"C1=CC=CC=C1\"))"
      ],
      "text/plain": [
       "Statement(Item(IRI('http://www.wikidata.org/entity/Q2270')), ValueSnak(Property(IRI('http://www.wikidata.org/entity/P233'), StringDatatype()), String('C1=CC=CC=C1')))"
      ]
     },
     "metadata": {},
     "output_type": "display_data"
    }
   ],
   "source": [
    "it = kb.filter(subject=wd.benzene, limit=3)\n",
    "for stmt in it:\n",
    "    display(stmt)"
   ]
  },
  {
   "cell_type": "markdown",
   "id": "e9a30521-2e94-4148-94fb-b3d7adbc91f5",
   "metadata": {},
   "source": [
    "## Statements about benzene with annotations"
   ]
  },
  {
   "cell_type": "code",
   "execution_count": 4,
   "id": "9af99210-a13a-482d-a2de-34a6a88b5b96",
   "metadata": {},
   "outputs": [
    {
     "name": "stdout",
     "output_type": "stream",
     "text": [
      "-- 1 --\n"
     ]
    },
    {
     "data": {
      "text/markdown": [
       "(**Statement** (**Item** [benzene](http://www.wikidata.org/entity/Q2270)) (**ValueSnak** (**Property** [discoverer or inventor](http://www.wikidata.org/entity/P61)) (**Item** [Michael Faraday](http://www.wikidata.org/entity/Q8750))))"
      ],
      "text/plain": [
       "Statement(Item(IRI('http://www.wikidata.org/entity/Q2270')), ValueSnak(Property(IRI('http://www.wikidata.org/entity/P61'), ItemDatatype()), Item(IRI('http://www.wikidata.org/entity/Q8750'))))"
      ]
     },
     "metadata": {},
     "output_type": "display_data"
    },
    {
     "data": {
      "text/markdown": [
       "(**AnnotationRecordSet**\n",
       "- (**AnnotationRecord**\n",
       "  - (**SnakSet**)\n",
       "  - (**ReferenceRecordSet**\n",
       "    - (**ReferenceRecord**\n",
       "      - (**ValueSnak** (**Property** [stated in](http://www.wikidata.org/entity/P248)) (**Item** [wd:Q100331761](http://www.wikidata.org/entity/Q100331761))))\n",
       "    - (**ReferenceRecord**\n",
       "      - (**ValueSnak** (**Property** [stated in](http://www.wikidata.org/entity/P248)) (**Item** [wd:Q24345061](http://www.wikidata.org/entity/Q24345061)))))\n",
       "  - **NormalRank**))"
      ],
      "text/plain": [
       "AnnotationRecordSet(AnnotationRecord(SnakSet(), ReferenceRecordSet(ReferenceRecord(ValueSnak(Property(IRI('http://www.wikidata.org/entity/P248'), ItemDatatype()), Item(IRI('http://www.wikidata.org/entity/Q100331761')))), ReferenceRecord(ValueSnak(Property(IRI('http://www.wikidata.org/entity/P248'), ItemDatatype()), Item(IRI('http://www.wikidata.org/entity/Q24345061'))))), NormalRank()))"
      ]
     },
     "metadata": {},
     "output_type": "display_data"
    },
    {
     "name": "stdout",
     "output_type": "stream",
     "text": [
      "-- 2 --\n"
     ]
    },
    {
     "data": {
      "text/markdown": [
       "(**Statement** (**Item** [benzene](http://www.wikidata.org/entity/Q2270)) (**ValueSnak** (**Property** [instance of](http://www.wikidata.org/entity/P31)) (**Item** [type of a chemical entity](http://www.wikidata.org/entity/Q113145171))))"
      ],
      "text/plain": [
       "Statement(Item(IRI('http://www.wikidata.org/entity/Q2270')), ValueSnak(Property(IRI('http://www.wikidata.org/entity/P31'), ItemDatatype()), Item(IRI('http://www.wikidata.org/entity/Q113145171'))))"
      ]
     },
     "metadata": {},
     "output_type": "display_data"
    },
    {
     "data": {
      "text/markdown": [
       "(**AnnotationRecordSet**\n",
       "- (**AnnotationRecord**\n",
       "  - (**SnakSet**)\n",
       "  - (**ReferenceRecordSet**)\n",
       "  - **NormalRank**))"
      ],
      "text/plain": [
       "AnnotationRecordSet(AnnotationRecord(SnakSet(), ReferenceRecordSet(), NormalRank()))"
      ]
     },
     "metadata": {},
     "output_type": "display_data"
    },
    {
     "name": "stdout",
     "output_type": "stream",
     "text": [
      "-- 3 --\n"
     ]
    },
    {
     "data": {
      "text/markdown": [
       "(**Statement** (**Item** [benzene](http://www.wikidata.org/entity/Q2270)) (**ValueSnak** (**Property** [canonical SMILES](http://www.wikidata.org/entity/P233)) \"C1=CC=CC=C1\"))"
      ],
      "text/plain": [
       "Statement(Item(IRI('http://www.wikidata.org/entity/Q2270')), ValueSnak(Property(IRI('http://www.wikidata.org/entity/P233'), StringDatatype()), String('C1=CC=CC=C1')))"
      ]
     },
     "metadata": {},
     "output_type": "display_data"
    },
    {
     "data": {
      "text/markdown": [
       "(**AnnotationRecordSet**\n",
       "- (**AnnotationRecord**\n",
       "  - (**SnakSet**)\n",
       "  - (**ReferenceRecordSet**\n",
       "    - (**ReferenceRecord**\n",
       "      - (**ValueSnak** (**Property** [title](http://www.wikidata.org/entity/P1476)) \"benzene\"@en)\n",
       "      - (**ValueSnak** (**Property** [stated in](http://www.wikidata.org/entity/P248)) (**Item** [PubChem](http://www.wikidata.org/entity/Q278487)))\n",
       "      - (**ValueSnak** (**Property** [language of work or name](http://www.wikidata.org/entity/P407)) (**Item** [English](http://www.wikidata.org/entity/Q1860)))\n",
       "      - (**ValueSnak** (**Property** [PubChem CID](http://www.wikidata.org/entity/P662)) \"241\")\n",
       "      - (**ValueSnak** (**Property** [retrieved](http://www.wikidata.org/entity/P813)) (**Time** 2016-11-19))))\n",
       "  - **NormalRank**))"
      ],
      "text/plain": [
       "AnnotationRecordSet(AnnotationRecord(SnakSet(), ReferenceRecordSet(ReferenceRecord(ValueSnak(Property(IRI('http://www.wikidata.org/entity/P1476'), TextDatatype()), Text('benzene', 'en')), ValueSnak(Property(IRI('http://www.wikidata.org/entity/P248'), ItemDatatype()), Item(IRI('http://www.wikidata.org/entity/Q278487'))), ValueSnak(Property(IRI('http://www.wikidata.org/entity/P407'), ItemDatatype()), Item(IRI('http://www.wikidata.org/entity/Q1860'))), ValueSnak(Property(IRI('http://www.wikidata.org/entity/P662'), StringDatatype()), String('241')), ValueSnak(Property(IRI('http://www.wikidata.org/entity/P813'), TimeDatatype()), Time(datetime.datetime(2016, 11, 19, 0, 0, tzinfo=<isodate.tzinfo.Utc object at 0x10e3213d0>), 11, 0, Item(IRI('http://www.wikidata.org/entity/Q1985727')))))), NormalRank()))"
      ]
     },
     "metadata": {},
     "output_type": "display_data"
    }
   ],
   "source": [
    "it = kb.filter_annotated(subject=wd.benzene, limit=3)\n",
    "for i, (stmt, annots) in enumerate(it, 1):\n",
    "    print('--', i, '--')\n",
    "    display(stmt)\n",
    "    display(annots)"
   ]
  },
  {
   "cell_type": "markdown",
   "id": "f6cc1807-acc2-4167-997b-5b81e684723f",
   "metadata": {},
   "source": [
    "## Statements about benzene with custom extra references"
   ]
  },
  {
   "cell_type": "code",
   "execution_count": 5,
   "id": "27e11553-5d91-443c-b938-c3de8ad83b9a",
   "metadata": {},
   "outputs": [],
   "source": [
    "import datetime\n",
    "kb1 = Store('sparql', 'https://query.wikidata.org/sparql')\n",
    "kb1.extra_references = [\n",
    "    ReferenceRecord(\n",
    "        wd.stated_in(wd.Wikidata),\n",
    "        wd.reference_URL(kb1.iri),\n",
    "        wd.retrieved(Time(datetime.datetime.now()))),\n",
    "    ReferenceRecord(\n",
    "        wd.stated_in('KIF'))]"
   ]
  },
  {
   "cell_type": "code",
   "execution_count": 6,
   "id": "d90ea01a-bac8-4822-a246-5376dc064036",
   "metadata": {},
   "outputs": [
    {
     "name": "stdout",
     "output_type": "stream",
     "text": [
      "-- 1 --\n"
     ]
    },
    {
     "data": {
      "text/markdown": [
       "(**Statement** (**Item** [benzene](http://www.wikidata.org/entity/Q2270)) (**ValueSnak** (**Property** [instance of](http://www.wikidata.org/entity/P31)) (**Item** [type of a chemical entity](http://www.wikidata.org/entity/Q113145171))))"
      ],
      "text/plain": [
       "Statement(Item(IRI('http://www.wikidata.org/entity/Q2270')), ValueSnak(Property(IRI('http://www.wikidata.org/entity/P31'), ItemDatatype()), Item(IRI('http://www.wikidata.org/entity/Q113145171'))))"
      ]
     },
     "metadata": {},
     "output_type": "display_data"
    },
    {
     "data": {
      "text/markdown": [
       "(**AnnotationRecordSet**\n",
       "- (**AnnotationRecord**\n",
       "  - (**SnakSet**)\n",
       "  - (**ReferenceRecordSet**\n",
       "    - (**ReferenceRecord**\n",
       "      - (**ValueSnak** (**Property** [stated in](http://www.wikidata.org/entity/P248)) (**Item** [KIF](http://KIF))))\n",
       "    - (**ReferenceRecord**\n",
       "      - (**ValueSnak** (**Property** [stated in](http://www.wikidata.org/entity/P248)) (**Item** [Wikidata](http://www.wikidata.org/entity/Q2013)))\n",
       "      - (**ValueSnak** (**Property** [retrieved](http://www.wikidata.org/entity/P813)) (**Time** 2024-08-05))\n",
       "      - (**ValueSnak** (**Property** [reference URL](http://www.wikidata.org/entity/P854)) [https://query.wikidata.org/sparql](https://query.wikidata.org/sparql))))\n",
       "  - **NormalRank**))"
      ],
      "text/plain": [
       "AnnotationRecordSet(AnnotationRecord(SnakSet(), ReferenceRecordSet(ReferenceRecord(ValueSnak(Property(IRI('http://www.wikidata.org/entity/P248'), ItemDatatype()), Item(IRI('KIF')))), ReferenceRecord(ValueSnak(Property(IRI('http://www.wikidata.org/entity/P248'), ItemDatatype()), Item(IRI('http://www.wikidata.org/entity/Q2013'))), ValueSnak(Property(IRI('http://www.wikidata.org/entity/P813'), TimeDatatype()), Time(datetime.datetime(2024, 8, 5, 10, 15, 44, 542460), None, None, None)), ValueSnak(Property(IRI('http://www.wikidata.org/entity/P854'), IRI_Datatype()), IRI('https://query.wikidata.org/sparql')))), NormalRank()))"
      ]
     },
     "metadata": {},
     "output_type": "display_data"
    },
    {
     "name": "stdout",
     "output_type": "stream",
     "text": [
      "-- 2 --\n"
     ]
    },
    {
     "data": {
      "text/markdown": [
       "(**Statement** (**Item** [benzene](http://www.wikidata.org/entity/Q2270)) (**ValueSnak** (**Property** [discoverer or inventor](http://www.wikidata.org/entity/P61)) (**Item** [Michael Faraday](http://www.wikidata.org/entity/Q8750))))"
      ],
      "text/plain": [
       "Statement(Item(IRI('http://www.wikidata.org/entity/Q2270')), ValueSnak(Property(IRI('http://www.wikidata.org/entity/P61'), ItemDatatype()), Item(IRI('http://www.wikidata.org/entity/Q8750'))))"
      ]
     },
     "metadata": {},
     "output_type": "display_data"
    },
    {
     "data": {
      "text/markdown": [
       "(**AnnotationRecordSet**\n",
       "- (**AnnotationRecord**\n",
       "  - (**SnakSet**)\n",
       "  - (**ReferenceRecordSet**\n",
       "    - (**ReferenceRecord**\n",
       "      - (**ValueSnak** (**Property** [stated in](http://www.wikidata.org/entity/P248)) (**Item** [KIF](http://KIF))))\n",
       "    - (**ReferenceRecord**\n",
       "      - (**ValueSnak** (**Property** [stated in](http://www.wikidata.org/entity/P248)) (**Item** [wd:Q100331761](http://www.wikidata.org/entity/Q100331761))))\n",
       "    - (**ReferenceRecord**\n",
       "      - (**ValueSnak** (**Property** [stated in](http://www.wikidata.org/entity/P248)) (**Item** [Wikidata](http://www.wikidata.org/entity/Q2013)))\n",
       "      - (**ValueSnak** (**Property** [retrieved](http://www.wikidata.org/entity/P813)) (**Time** 2024-08-05))\n",
       "      - (**ValueSnak** (**Property** [reference URL](http://www.wikidata.org/entity/P854)) [https://query.wikidata.org/sparql](https://query.wikidata.org/sparql)))\n",
       "    - (**ReferenceRecord**\n",
       "      - (**ValueSnak** (**Property** [stated in](http://www.wikidata.org/entity/P248)) (**Item** [wd:Q24345061](http://www.wikidata.org/entity/Q24345061)))))\n",
       "  - **NormalRank**))"
      ],
      "text/plain": [
       "AnnotationRecordSet(AnnotationRecord(SnakSet(), ReferenceRecordSet(ReferenceRecord(ValueSnak(Property(IRI('http://www.wikidata.org/entity/P248'), ItemDatatype()), Item(IRI('KIF')))), ReferenceRecord(ValueSnak(Property(IRI('http://www.wikidata.org/entity/P248'), ItemDatatype()), Item(IRI('http://www.wikidata.org/entity/Q100331761')))), ReferenceRecord(ValueSnak(Property(IRI('http://www.wikidata.org/entity/P248'), ItemDatatype()), Item(IRI('http://www.wikidata.org/entity/Q2013'))), ValueSnak(Property(IRI('http://www.wikidata.org/entity/P813'), TimeDatatype()), Time(datetime.datetime(2024, 8, 5, 10, 15, 44, 542460), None, None, None)), ValueSnak(Property(IRI('http://www.wikidata.org/entity/P854'), IRI_Datatype()), IRI('https://query.wikidata.org/sparql'))), ReferenceRecord(ValueSnak(Property(IRI('http://www.wikidata.org/entity/P248'), ItemDatatype()), Item(IRI('http://www.wikidata.org/entity/Q24345061'))))), NormalRank()))"
      ]
     },
     "metadata": {},
     "output_type": "display_data"
    },
    {
     "name": "stdout",
     "output_type": "stream",
     "text": [
      "-- 3 --\n"
     ]
    },
    {
     "data": {
      "text/markdown": [
       "(**Statement** (**Item** [benzene](http://www.wikidata.org/entity/Q2270)) (**ValueSnak** (**Property** [canonical SMILES](http://www.wikidata.org/entity/P233)) \"C1=CC=CC=C1\"))"
      ],
      "text/plain": [
       "Statement(Item(IRI('http://www.wikidata.org/entity/Q2270')), ValueSnak(Property(IRI('http://www.wikidata.org/entity/P233'), StringDatatype()), String('C1=CC=CC=C1')))"
      ]
     },
     "metadata": {},
     "output_type": "display_data"
    },
    {
     "data": {
      "text/markdown": [
       "(**AnnotationRecordSet**\n",
       "- (**AnnotationRecord**\n",
       "  - (**SnakSet**)\n",
       "  - (**ReferenceRecordSet**\n",
       "    - (**ReferenceRecord**\n",
       "      - (**ValueSnak** (**Property** [title](http://www.wikidata.org/entity/P1476)) \"benzene\"@en)\n",
       "      - (**ValueSnak** (**Property** [stated in](http://www.wikidata.org/entity/P248)) (**Item** [PubChem](http://www.wikidata.org/entity/Q278487)))\n",
       "      - (**ValueSnak** (**Property** [language of work or name](http://www.wikidata.org/entity/P407)) (**Item** [English](http://www.wikidata.org/entity/Q1860)))\n",
       "      - (**ValueSnak** (**Property** [PubChem CID](http://www.wikidata.org/entity/P662)) \"241\")\n",
       "      - (**ValueSnak** (**Property** [retrieved](http://www.wikidata.org/entity/P813)) (**Time** 2016-11-19)))\n",
       "    - (**ReferenceRecord**\n",
       "      - (**ValueSnak** (**Property** [stated in](http://www.wikidata.org/entity/P248)) (**Item** [KIF](http://KIF))))\n",
       "    - (**ReferenceRecord**\n",
       "      - (**ValueSnak** (**Property** [stated in](http://www.wikidata.org/entity/P248)) (**Item** [Wikidata](http://www.wikidata.org/entity/Q2013)))\n",
       "      - (**ValueSnak** (**Property** [retrieved](http://www.wikidata.org/entity/P813)) (**Time** 2024-08-05))\n",
       "      - (**ValueSnak** (**Property** [reference URL](http://www.wikidata.org/entity/P854)) [https://query.wikidata.org/sparql](https://query.wikidata.org/sparql))))\n",
       "  - **NormalRank**))"
      ],
      "text/plain": [
       "AnnotationRecordSet(AnnotationRecord(SnakSet(), ReferenceRecordSet(ReferenceRecord(ValueSnak(Property(IRI('http://www.wikidata.org/entity/P1476'), TextDatatype()), Text('benzene', 'en')), ValueSnak(Property(IRI('http://www.wikidata.org/entity/P248'), ItemDatatype()), Item(IRI('http://www.wikidata.org/entity/Q278487'))), ValueSnak(Property(IRI('http://www.wikidata.org/entity/P407'), ItemDatatype()), Item(IRI('http://www.wikidata.org/entity/Q1860'))), ValueSnak(Property(IRI('http://www.wikidata.org/entity/P662'), StringDatatype()), String('241')), ValueSnak(Property(IRI('http://www.wikidata.org/entity/P813'), TimeDatatype()), Time(datetime.datetime(2016, 11, 19, 0, 0, tzinfo=<isodate.tzinfo.Utc object at 0x10e3213d0>), 11, 0, Item(IRI('http://www.wikidata.org/entity/Q1985727'))))), ReferenceRecord(ValueSnak(Property(IRI('http://www.wikidata.org/entity/P248'), ItemDatatype()), Item(IRI('KIF')))), ReferenceRecord(ValueSnak(Property(IRI('http://www.wikidata.org/entity/P248'), ItemDatatype()), Item(IRI('http://www.wikidata.org/entity/Q2013'))), ValueSnak(Property(IRI('http://www.wikidata.org/entity/P813'), TimeDatatype()), Time(datetime.datetime(2024, 8, 5, 10, 15, 44, 542460), None, None, None)), ValueSnak(Property(IRI('http://www.wikidata.org/entity/P854'), IRI_Datatype()), IRI('https://query.wikidata.org/sparql')))), NormalRank()))"
      ]
     },
     "metadata": {},
     "output_type": "display_data"
    }
   ],
   "source": [
    "it = kb1.filter_annotated(subject=wd.benzene, limit=3)\n",
    "for i, (stmt, annots) in enumerate(it, 1):\n",
    "    print('--', i, '--')\n",
    "    display(stmt)\n",
    "    display(annots)"
   ]
  },
  {
   "cell_type": "markdown",
   "id": "b06c0369-11e2-4d5e-8f07-af14c7a9676f",
   "metadata": {},
   "source": [
    "## Statements such that subject has no date of birth"
   ]
  },
  {
   "cell_type": "code",
   "execution_count": 7,
   "id": "967dddcb-603c-4c77-bc6d-1973fe903fac",
   "metadata": {},
   "outputs": [
    {
     "data": {
      "text/markdown": [
       "(**Statement** (**Item** [wd:Q45581](http://www.wikidata.org/entity/Q45581)) (**NoValueSnak** (**Property** [place of birth](http://www.wikidata.org/entity/P19))))"
      ],
      "text/plain": [
       "Statement(Item(IRI('http://www.wikidata.org/entity/Q45581')), NoValueSnak(Property(IRI('http://www.wikidata.org/entity/P19'), ItemDatatype())))"
      ]
     },
     "metadata": {},
     "output_type": "display_data"
    },
    {
     "data": {
      "text/markdown": [
       "(**Statement** (**Item** [wd:Q45581](http://www.wikidata.org/entity/Q45581)) (**NoValueSnak** (**Property** [sex or gender](http://www.wikidata.org/entity/P21))))"
      ],
      "text/plain": [
       "Statement(Item(IRI('http://www.wikidata.org/entity/Q45581')), NoValueSnak(Property(IRI('http://www.wikidata.org/entity/P21'), ItemDatatype())))"
      ]
     },
     "metadata": {},
     "output_type": "display_data"
    },
    {
     "data": {
      "text/markdown": [
       "(**Statement** (**Item** [wd:Q45581](http://www.wikidata.org/entity/Q45581)) (**NoValueSnak** (**Property** [date of birth](http://www.wikidata.org/entity/P569))))"
      ],
      "text/plain": [
       "Statement(Item(IRI('http://www.wikidata.org/entity/Q45581')), NoValueSnak(Property(IRI('http://www.wikidata.org/entity/P569'), TimeDatatype())))"
      ]
     },
     "metadata": {},
     "output_type": "display_data"
    }
   ],
   "source": [
    "it = kb.filter(subject=NoValueSnak(wd.date_of_birth), limit=3)\n",
    "for stmt in it:\n",
    "    display(stmt)"
   ]
  },
  {
   "cell_type": "markdown",
   "id": "c02d629b-9de2-415d-8618-9b9ca15e65b5",
   "metadata": {},
   "source": [
    "## Statements such that subject is benzene and property is related to medicine "
   ]
  },
  {
   "cell_type": "code",
   "execution_count": 8,
   "id": "b7deeb3e-2df3-4359-a3d9-3cec1ab03827",
   "metadata": {},
   "outputs": [
    {
     "data": {
      "text/markdown": [
       "(**Statement** (**Item** [benzene](http://www.wikidata.org/entity/Q2270)) (**ValueSnak** (**Property** [Store medisinske leksikon ID](http://www.wikidata.org/entity/P5082)) \"benzen\"))"
      ],
      "text/plain": [
       "Statement(Item(IRI('http://www.wikidata.org/entity/Q2270')), ValueSnak(Property(IRI('http://www.wikidata.org/entity/P5082'), ExternalIdDatatype()), ExternalId('benzen')))"
      ]
     },
     "metadata": {},
     "output_type": "display_data"
    },
    {
     "data": {
      "text/markdown": [
       "(**Statement** (**Item** [benzene](http://www.wikidata.org/entity/Q2270)) (**ValueSnak** (**Property** [RxNorm ID](http://www.wikidata.org/entity/P3345)) \"1311295\"))"
      ],
      "text/plain": [
       "Statement(Item(IRI('http://www.wikidata.org/entity/Q2270')), ValueSnak(Property(IRI('http://www.wikidata.org/entity/P3345'), ExternalIdDatatype()), ExternalId('1311295')))"
      ]
     },
     "metadata": {},
     "output_type": "display_data"
    },
    {
     "data": {
      "text/markdown": [
       "(**Statement** (**Item** [benzene](http://www.wikidata.org/entity/Q2270)) (**ValueSnak** (**Property** [UNII](http://www.wikidata.org/entity/P652)) \"J64922108F\"))"
      ],
      "text/plain": [
       "Statement(Item(IRI('http://www.wikidata.org/entity/Q2270')), ValueSnak(Property(IRI('http://www.wikidata.org/entity/P652'), ExternalIdDatatype()), ExternalId('J64922108F')))"
      ]
     },
     "metadata": {},
     "output_type": "display_data"
    }
   ],
   "source": [
    "it = kb.filter(subject=wd.benzene, property=wd.instance_of(wd.Wikidata_property_related_to_medicine), limit=3)\n",
    "for stmt in it:\n",
    "    display(stmt)"
   ]
  },
  {
   "cell_type": "markdown",
   "id": "ff0c35ad-13ea-4651-a0fe-c76a752a3ab1",
   "metadata": {},
   "source": [
    "## Statements such that property is father and value has an unknown date of death"
   ]
  },
  {
   "cell_type": "code",
   "execution_count": 9,
   "id": "28dec920-4fad-46d2-ba0f-84f99c853c20",
   "metadata": {},
   "outputs": [
    {
     "data": {
      "text/markdown": [
       "(**Statement** (**Item** [Plato](http://www.wikidata.org/entity/Q859)) (**ValueSnak** (**Property** [father](http://www.wikidata.org/entity/P22)) (**Item** [Ariston of Athens](http://www.wikidata.org/entity/Q667017))))"
      ],
      "text/plain": [
       "Statement(Item(IRI('http://www.wikidata.org/entity/Q859')), ValueSnak(Property(IRI('http://www.wikidata.org/entity/P22'), ItemDatatype()), Item(IRI('http://www.wikidata.org/entity/Q667017'))))"
      ]
     },
     "metadata": {},
     "output_type": "display_data"
    },
    {
     "data": {
      "text/markdown": [
       "(**Statement** (**Item** [Ramesses IX](http://www.wikidata.org/entity/Q4009)) (**ValueSnak** (**Property** [father](http://www.wikidata.org/entity/P22)) (**Item** [Montuherkhepeshef](http://www.wikidata.org/entity/Q1179126))))"
      ],
      "text/plain": [
       "Statement(Item(IRI('http://www.wikidata.org/entity/Q4009')), ValueSnak(Property(IRI('http://www.wikidata.org/entity/P22'), ItemDatatype()), Item(IRI('http://www.wikidata.org/entity/Q1179126'))))"
      ]
     },
     "metadata": {},
     "output_type": "display_data"
    },
    {
     "data": {
      "text/markdown": [
       "(**Statement** (**Item** [Ramesses I](http://www.wikidata.org/entity/Q1526)) (**ValueSnak** (**Property** [father](http://www.wikidata.org/entity/P22)) (**Item** [Seti](http://www.wikidata.org/entity/Q1303195))))"
      ],
      "text/plain": [
       "Statement(Item(IRI('http://www.wikidata.org/entity/Q1526')), ValueSnak(Property(IRI('http://www.wikidata.org/entity/P22'), ItemDatatype()), Item(IRI('http://www.wikidata.org/entity/Q1303195'))))"
      ]
     },
     "metadata": {},
     "output_type": "display_data"
    }
   ],
   "source": [
    "it = kb.filter(property=wd.father, value=SomeValueSnak(wd.date_of_death), limit=3)\n",
    "for stmt in it:\n",
    "    display(stmt)"
   ]
  },
  {
   "cell_type": "markdown",
   "id": "fc875aa5-5119-40f0-ba45-cc376d435783",
   "metadata": {},
   "source": [
    "## Statements about Adam such that snak is of type some-value or no-value"
   ]
  },
  {
   "cell_type": "code",
   "execution_count": 10,
   "id": "d556dfc9-96f7-4343-b58f-e438003445a6",
   "metadata": {},
   "outputs": [
    {
     "data": {
      "text/markdown": [
       "(**Statement** (**Item** [Adam](http://www.wikidata.org/entity/Q70899)) (**NoValueSnak** (**Property** [father](http://www.wikidata.org/entity/P22))))"
      ],
      "text/plain": [
       "Statement(Item(IRI('http://www.wikidata.org/entity/Q70899')), NoValueSnak(Property(IRI('http://www.wikidata.org/entity/P22'), ItemDatatype())))"
      ]
     },
     "metadata": {},
     "output_type": "display_data"
    },
    {
     "data": {
      "text/markdown": [
       "(**Statement** (**Item** [Adam](http://www.wikidata.org/entity/Q70899)) (**NoValueSnak** (**Property** [mother](http://www.wikidata.org/entity/P25))))"
      ],
      "text/plain": [
       "Statement(Item(IRI('http://www.wikidata.org/entity/Q70899')), NoValueSnak(Property(IRI('http://www.wikidata.org/entity/P25'), ItemDatatype())))"
      ]
     },
     "metadata": {},
     "output_type": "display_data"
    },
    {
     "data": {
      "text/markdown": [
       "(**Statement** (**Item** [Adam](http://www.wikidata.org/entity/Q70899)) (**SomeValueSnak** (**Property** [date of death](http://www.wikidata.org/entity/P570))))"
      ],
      "text/plain": [
       "Statement(Item(IRI('http://www.wikidata.org/entity/Q70899')), SomeValueSnak(Property(IRI('http://www.wikidata.org/entity/P570'), TimeDatatype())))"
      ]
     },
     "metadata": {},
     "output_type": "display_data"
    }
   ],
   "source": [
    "it = kb.filter(subject=wd.Adam, snak_mask=Filter.SOME_VALUE_SNAK | Filter.NO_VALUE_SNAK, limit=3)\n",
    "for stmt in it:\n",
    "    display(stmt)"
   ]
  },
  {
   "cell_type": "markdown",
   "id": "39591a40-b0b6-458e-b437-c7ef5dabf661",
   "metadata": {},
   "source": [
    "## Descriptors of a given list of entities"
   ]
  },
  {
   "cell_type": "code",
   "execution_count": 11,
   "id": "fbdcd1b9-c958-497a-a555-490961efdfdc",
   "metadata": {},
   "outputs": [
    {
     "name": "stdout",
     "output_type": "stream",
     "text": [
      "-- 1 --\n"
     ]
    },
    {
     "data": {
      "text/markdown": [
       "(**Item** [benzene](http://www.wikidata.org/entity/Q2270))"
      ],
      "text/plain": [
       "Item(IRI('http://www.wikidata.org/entity/Q2270'))"
      ]
     },
     "metadata": {},
     "output_type": "display_data"
    },
    {
     "data": {
      "text/markdown": [
       "(**ItemDescriptor**\n",
       "- \"benzeno\"@pt\n",
       "- *no aliases*\n",
       "- \"composto químico\"@pt)"
      ],
      "text/plain": [
       "ItemDescriptor(Text('benzeno', 'pt'), TextSet(), Text('composto químico', 'pt'))"
      ]
     },
     "metadata": {},
     "output_type": "display_data"
    },
    {
     "name": "stdout",
     "output_type": "stream",
     "text": [
      "-- 2 --\n"
     ]
    },
    {
     "data": {
      "text/markdown": [
       "(**Property** [instance of](http://www.wikidata.org/entity/P31))"
      ],
      "text/plain": [
       "Property(IRI('http://www.wikidata.org/entity/P31'), ItemDatatype())"
      ]
     },
     "metadata": {},
     "output_type": "display_data"
    },
    {
     "data": {
      "text/markdown": [
       "(**PropertyDescriptor**\n",
       "- \"instância de\"@pt\n",
       "- (**TextSet**\n",
       "  - \"natureza do elemento\"@pt\n",
       "  - \"possui classe\"@pt\n",
       "  - \"é membro de\"@pt\n",
       "  - \"é um\"@pt\n",
       "  - \"é um exemplo de\"@pt\n",
       "  - \"é um indivíduo\"@pt\n",
       "  - \"é uma\"@pt\n",
       "  - \"∈\"@pt)\n",
       "- \"este item é uma instância deste outro item\"@pt\n",
       "- **ItemDatatype**)"
      ],
      "text/plain": [
       "PropertyDescriptor(Text('instância de', 'pt'), TextSet(Text('natureza do elemento', 'pt'), Text('possui classe', 'pt'), Text('é membro de', 'pt'), Text('é um', 'pt'), Text('é um exemplo de', 'pt'), Text('é um indivíduo', 'pt'), Text('é uma', 'pt'), Text('∈', 'pt')), Text('este item é uma instância deste outro item', 'pt'), ItemDatatype())"
      ]
     },
     "metadata": {},
     "output_type": "display_data"
    }
   ],
   "source": [
    "it = kb.get_descriptor([wd.benzene, wd.instance_of], 'pt')\n",
    "for i, (entity, desc) in enumerate(it, 1):\n",
    "    print('--', i, '--')\n",
    "    display(entity)\n",
    "    display(desc)"
   ]
  }
 ],
 "metadata": {
  "kernelspec": {
   "display_name": "kif",
   "language": "python",
   "name": "kif"
  },
  "language_info": {
   "codemirror_mode": {
    "name": "ipython",
    "version": 3
   },
   "file_extension": ".py",
   "mimetype": "text/x-python",
   "name": "python",
   "nbconvert_exporter": "python",
   "pygments_lexer": "ipython3",
   "version": "3.12.4"
  }
 },
 "nbformat": 4,
 "nbformat_minor": 5
}
