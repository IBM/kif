{
 "cells": [
  {
   "cell_type": "code",
   "execution_count": 1,
   "id": "d8d0320b-e094-4994-8775-a9ddb1108e73",
   "metadata": {},
   "outputs": [],
   "source": [
    "# Uncomment to see the SPARQL queries.\n",
    "#import logging\n",
    "#logging.basicConfig(level=logging.DEBUG)"
   ]
  },
  {
   "cell_type": "markdown",
   "id": "7af8c8b5-d7f2-4f90-a15b-192c2105ebb0",
   "metadata": {},
   "source": [
    "# Recipes"
   ]
  },
  {
   "cell_type": "code",
   "execution_count": 2,
   "id": "3f1c3a88-34fc-42dd-9feb-2bf95cdfdc04",
   "metadata": {},
   "outputs": [],
   "source": [
    "from kif import *\n",
    "import kif.vocabulary as wd"
   ]
  },
  {
   "cell_type": "code",
   "execution_count": 3,
   "id": "d72704b7-9c49-4183-be7c-073a87ea277f",
   "metadata": {},
   "outputs": [],
   "source": [
    "kb = Store('sparql', 'https://query.wikidata.org/sparql')"
   ]
  },
  {
   "cell_type": "markdown",
   "id": "fe14df15-f241-47bb-a49c-d73212d6144e",
   "metadata": {},
   "source": [
    "## Statements about benzene"
   ]
  },
  {
   "cell_type": "code",
   "execution_count": 4,
   "id": "689e15b7-1b0b-4b75-ae68-1821e5b8e57f",
   "metadata": {},
   "outputs": [
    {
     "data": {
      "text/markdown": [
       "(**Statement** (**Item** [benzene](http://www.wikidata.org/entity/Q2270)) (**ValueSnak** (**Property** [wd:P10890](http://www.wikidata.org/entity/P10890)) \"142110\"))"
      ],
      "text/plain": [
       "<kif.model.statement.Statement at 0x107814a50>"
      ]
     },
     "metadata": {},
     "output_type": "display_data"
    },
    {
     "data": {
      "text/markdown": [
       "(**Statement** (**Item** [benzene](http://www.wikidata.org/entity/Q2270)) (**ValueSnak** (**Property** [image](http://www.wikidata.org/entity/P18)) [http://commons.wikimedia.org/wiki/Special:FilePath/Benzene%20sample.jpg](http://commons.wikimedia.org/wiki/Special:FilePath/Benzene%20sample.jpg)))"
      ],
      "text/plain": [
       "<kif.model.statement.Statement at 0x107b2e2b0>"
      ]
     },
     "metadata": {},
     "output_type": "display_data"
    },
    {
     "data": {
      "text/markdown": [
       "(**Statement** (**Item** [benzene](http://www.wikidata.org/entity/Q2270)) (**ValueSnak** (**Property** [chemical structure](http://www.wikidata.org/entity/P117)) [http://commons.wikimedia.org/wiki/Special:FilePath/Benzene-2D-full.svg](http://commons.wikimedia.org/wiki/Special:FilePath/Benzene-2D-full.svg)))"
      ],
      "text/plain": [
       "<kif.model.statement.Statement at 0x107b2e170>"
      ]
     },
     "metadata": {},
     "output_type": "display_data"
    }
   ],
   "source": [
    "it = kb.filter(subject=wd.benzene, limit=3)\n",
    "for stmt in it:\n",
    "    display(stmt)"
   ]
  },
  {
   "cell_type": "markdown",
   "id": "e9a30521-2e94-4148-94fb-b3d7adbc91f5",
   "metadata": {},
   "source": [
    "## Statements about benzene with annotations"
   ]
  },
  {
   "cell_type": "code",
   "execution_count": 5,
   "id": "9af99210-a13a-482d-a2de-34a6a88b5b96",
   "metadata": {},
   "outputs": [
    {
     "name": "stdout",
     "output_type": "stream",
     "text": [
      "-- 1 --\n"
     ]
    },
    {
     "data": {
      "text/markdown": [
       "(**Statement** (**Item** [benzene](http://www.wikidata.org/entity/Q2270)) (**ValueSnak** (**Property** [wd:P10890](http://www.wikidata.org/entity/P10890)) \"142110\"))"
      ],
      "text/plain": [
       "<kif.model.statement.Statement at 0x107a7ec60>"
      ]
     },
     "metadata": {},
     "output_type": "display_data"
    },
    {
     "data": {
      "text/markdown": [
       "(**AnnotationRecordSet**\n",
       "- (**AnnotationRecord**\n",
       "  - (**SnakSet**\n",
       "    - (**ValueSnak** (**Property** [named as](http://www.wikidata.org/entity/P1810)) \"Benzene\"))\n",
       "  - (**ReferenceRecordSet**)\n",
       "  - **NormalRank**))"
      ],
      "text/plain": [
       "<kif.model.annotation_record_set.AnnotationRecordSet at 0x107b43c50>"
      ]
     },
     "metadata": {},
     "output_type": "display_data"
    },
    {
     "name": "stdout",
     "output_type": "stream",
     "text": [
      "-- 2 --\n"
     ]
    },
    {
     "data": {
      "text/markdown": [
       "(**Statement** (**Item** [benzene](http://www.wikidata.org/entity/Q2270)) (**ValueSnak** (**Property** [image](http://www.wikidata.org/entity/P18)) [http://commons.wikimedia.org/wiki/Special:FilePath/Benzene%20sample.jpg](http://commons.wikimedia.org/wiki/Special:FilePath/Benzene%20sample.jpg)))"
      ],
      "text/plain": [
       "<kif.model.statement.Statement at 0x107a7cd70>"
      ]
     },
     "metadata": {},
     "output_type": "display_data"
    },
    {
     "data": {
      "text/markdown": [
       "(**AnnotationRecordSet**\n",
       "- (**AnnotationRecord**\n",
       "  - (**SnakSet**)\n",
       "  - (**ReferenceRecordSet**)\n",
       "  - **NormalRank**))"
      ],
      "text/plain": [
       "<kif.model.annotation_record_set.AnnotationRecordSet at 0x107b43e30>"
      ]
     },
     "metadata": {},
     "output_type": "display_data"
    },
    {
     "name": "stdout",
     "output_type": "stream",
     "text": [
      "-- 3 --\n"
     ]
    },
    {
     "data": {
      "text/markdown": [
       "(**Statement** (**Item** [benzene](http://www.wikidata.org/entity/Q2270)) (**ValueSnak** (**Property** [chemical structure](http://www.wikidata.org/entity/P117)) [http://commons.wikimedia.org/wiki/Special:FilePath/Benzene-2D-full.svg](http://commons.wikimedia.org/wiki/Special:FilePath/Benzene-2D-full.svg)))"
      ],
      "text/plain": [
       "<kif.model.statement.Statement at 0x107a89590>"
      ]
     },
     "metadata": {},
     "output_type": "display_data"
    },
    {
     "data": {
      "text/markdown": [
       "(**AnnotationRecordSet**\n",
       "- (**AnnotationRecord**\n",
       "  - (**SnakSet**)\n",
       "  - (**ReferenceRecordSet**)\n",
       "  - **NormalRank**))"
      ],
      "text/plain": [
       "<kif.model.annotation_record_set.AnnotationRecordSet at 0x107b43b90>"
      ]
     },
     "metadata": {},
     "output_type": "display_data"
    }
   ],
   "source": [
    "it = kb.filter_annotated(subject=wd.benzene, limit=3)\n",
    "for i, (stmt, annots) in enumerate(it, 1):\n",
    "    print('--', i, '--')\n",
    "    display(stmt)\n",
    "    display(annots)"
   ]
  },
  {
   "cell_type": "markdown",
   "id": "f6cc1807-acc2-4167-997b-5b81e684723f",
   "metadata": {},
   "source": [
    "## Statements about benzene with custom extra references"
   ]
  },
  {
   "cell_type": "code",
   "execution_count": 6,
   "id": "27e11553-5d91-443c-b938-c3de8ad83b9a",
   "metadata": {},
   "outputs": [],
   "source": [
    "import datetime\n",
    "kb1 = Store('sparql', 'https://blazegraph-wikidata.bx.cloud9.ibm.com/bigdata/sparql')\n",
    "kb1.extra_references = [\n",
    "    ReferenceRecord(\n",
    "        wd.stated_in(wd.Wikidata),\n",
    "        wd.reference_URL(kb1.iri),\n",
    "        wd.retrieved(Time(datetime.datetime.now()))),\n",
    "    ReferenceRecord(\n",
    "        wd.stated_in('KIF'))]"
   ]
  },
  {
   "cell_type": "code",
   "execution_count": 7,
   "id": "d90ea01a-bac8-4822-a246-5376dc064036",
   "metadata": {},
   "outputs": [
    {
     "name": "stdout",
     "output_type": "stream",
     "text": [
      "-- 1 --\n"
     ]
    },
    {
     "data": {
      "text/markdown": [
       "(**Statement** (**Item** [benzene](http://www.wikidata.org/entity/Q2270)) (**ValueSnak** (**Property** [part of](http://www.wikidata.org/entity/P361)) (**Item** [wd:Q22316604](http://www.wikidata.org/entity/Q22316604))))"
      ],
      "text/plain": [
       "<kif.model.statement.Statement at 0x107b4a3a0>"
      ]
     },
     "metadata": {},
     "output_type": "display_data"
    },
    {
     "data": {
      "text/markdown": [
       "(**AnnotationRecordSet**\n",
       "- (**AnnotationRecord**\n",
       "  - (**SnakSet**)\n",
       "  - (**ReferenceRecordSet**\n",
       "    - (**ReferenceRecord**\n",
       "      - (**ValueSnak** (**Property** [stated in](http://www.wikidata.org/entity/P248)) (**Item** [Wikidata](http://www.wikidata.org/entity/Q2013)))\n",
       "      - (**ValueSnak** (**Property** [retrieved](http://www.wikidata.org/entity/P813)) (**Time** 2024-01-16))\n",
       "      - (**ValueSnak** (**Property** [reference URL](http://www.wikidata.org/entity/P854)) [https://blazegraph-wikidata.bx.cloud9.ibm.com/bigdata/sparql](https://blazegraph-wikidata.bx.cloud9.ibm.com/bigdata/sparql)))\n",
       "    - (**ReferenceRecord**\n",
       "      - (**ValueSnak** (**Property** [stated in](http://www.wikidata.org/entity/P248)) (**Item** [wd:Q93741199](http://www.wikidata.org/entity/Q93741199)))\n",
       "      - (**ValueSnak** (**Property** [stated in](http://www.wikidata.org/entity/P248)) (**Item** [wd:Q96482790](http://www.wikidata.org/entity/Q96482790))))\n",
       "    - (**ReferenceRecord**\n",
       "      - (**ValueSnak** (**Property** [stated in](http://www.wikidata.org/entity/P248)) \"KIF\")))\n",
       "  - **NormalRank**))"
      ],
      "text/plain": [
       "<kif.model.annotation_record_set.AnnotationRecordSet at 0x107bb5550>"
      ]
     },
     "metadata": {},
     "output_type": "display_data"
    },
    {
     "name": "stdout",
     "output_type": "stream",
     "text": [
      "-- 2 --\n"
     ]
    },
    {
     "data": {
      "text/markdown": [
       "(**Statement** (**Item** [benzene](http://www.wikidata.org/entity/Q2270)) (**ValueSnak** (**Property** [wd:P10890](http://www.wikidata.org/entity/P10890)) \"142110\"))"
      ],
      "text/plain": [
       "<kif.model.statement.Statement at 0x107b4aad0>"
      ]
     },
     "metadata": {},
     "output_type": "display_data"
    },
    {
     "data": {
      "text/markdown": [
       "(**AnnotationRecordSet**\n",
       "- (**AnnotationRecord**\n",
       "  - (**SnakSet**\n",
       "    - (**ValueSnak** (**Property** [named as](http://www.wikidata.org/entity/P1810)) \"Benzene\"))\n",
       "  - (**ReferenceRecordSet**\n",
       "    - (**ReferenceRecord**\n",
       "      - (**ValueSnak** (**Property** [stated in](http://www.wikidata.org/entity/P248)) (**Item** [Wikidata](http://www.wikidata.org/entity/Q2013)))\n",
       "      - (**ValueSnak** (**Property** [retrieved](http://www.wikidata.org/entity/P813)) (**Time** 2024-01-16))\n",
       "      - (**ValueSnak** (**Property** [reference URL](http://www.wikidata.org/entity/P854)) [https://blazegraph-wikidata.bx.cloud9.ibm.com/bigdata/sparql](https://blazegraph-wikidata.bx.cloud9.ibm.com/bigdata/sparql)))\n",
       "    - (**ReferenceRecord**\n",
       "      - (**ValueSnak** (**Property** [stated in](http://www.wikidata.org/entity/P248)) \"KIF\")))\n",
       "  - **NormalRank**))"
      ],
      "text/plain": [
       "<kif.model.annotation_record_set.AnnotationRecordSet at 0x107bb5490>"
      ]
     },
     "metadata": {},
     "output_type": "display_data"
    },
    {
     "name": "stdout",
     "output_type": "stream",
     "text": [
      "-- 3 --\n"
     ]
    },
    {
     "data": {
      "text/markdown": [
       "(**Statement** (**Item** [benzene](http://www.wikidata.org/entity/Q2270)) (**ValueSnak** (**Property** [image](http://www.wikidata.org/entity/P18)) [http://commons.wikimedia.org/wiki/Special:FilePath/Benzolflasche.jpg](http://commons.wikimedia.org/wiki/Special:FilePath/Benzolflasche.jpg)))"
      ],
      "text/plain": [
       "<kif.model.statement.Statement at 0x107b4a7b0>"
      ]
     },
     "metadata": {},
     "output_type": "display_data"
    },
    {
     "data": {
      "text/markdown": [
       "(**AnnotationRecordSet**\n",
       "- (**AnnotationRecord**\n",
       "  - (**SnakSet**)\n",
       "  - (**ReferenceRecordSet**\n",
       "    - (**ReferenceRecord**\n",
       "      - (**ValueSnak** (**Property** [stated in](http://www.wikidata.org/entity/P248)) (**Item** [Wikidata](http://www.wikidata.org/entity/Q2013)))\n",
       "      - (**ValueSnak** (**Property** [retrieved](http://www.wikidata.org/entity/P813)) (**Time** 2024-01-16))\n",
       "      - (**ValueSnak** (**Property** [reference URL](http://www.wikidata.org/entity/P854)) [https://blazegraph-wikidata.bx.cloud9.ibm.com/bigdata/sparql](https://blazegraph-wikidata.bx.cloud9.ibm.com/bigdata/sparql)))\n",
       "    - (**ReferenceRecord**\n",
       "      - (**ValueSnak** (**Property** [stated in](http://www.wikidata.org/entity/P248)) \"KIF\")))\n",
       "  - **NormalRank**))"
      ],
      "text/plain": [
       "<kif.model.annotation_record_set.AnnotationRecordSet at 0x107bb56d0>"
      ]
     },
     "metadata": {},
     "output_type": "display_data"
    }
   ],
   "source": [
    "it = kb1.filter_annotated(subject=wd.benzene, limit=3)\n",
    "for i, (stmt, annots) in enumerate(it, 1):\n",
    "    print('--', i, '--')\n",
    "    display(stmt)\n",
    "    display(annots)"
   ]
  },
  {
   "cell_type": "markdown",
   "id": "b06c0369-11e2-4d5e-8f07-af14c7a9676f",
   "metadata": {},
   "source": [
    "## Statements such that subject has no date of birth"
   ]
  },
  {
   "cell_type": "code",
   "execution_count": 8,
   "id": "967dddcb-603c-4c77-bc6d-1973fe903fac",
   "metadata": {},
   "outputs": [
    {
     "data": {
      "text/markdown": [
       "(**Statement** (**Item** [wd:Q80224](http://www.wikidata.org/entity/Q80224)) (**NoValueSnak** (**Property** [date of birth](http://www.wikidata.org/entity/P569))))"
      ],
      "text/plain": [
       "<kif.model.statement.Statement at 0x107ba7a70>"
      ]
     },
     "metadata": {},
     "output_type": "display_data"
    },
    {
     "data": {
      "text/markdown": [
       "(**Statement** (**Item** [wd:Q116028](http://www.wikidata.org/entity/Q116028)) (**NoValueSnak** (**Property** [date of birth](http://www.wikidata.org/entity/P569))))"
      ],
      "text/plain": [
       "<kif.model.statement.Statement at 0x107c0da90>"
      ]
     },
     "metadata": {},
     "output_type": "display_data"
    },
    {
     "data": {
      "text/markdown": [
       "(**Statement** (**Item** [wd:Q269088](http://www.wikidata.org/entity/Q269088)) (**NoValueSnak** (**Property** [date of birth](http://www.wikidata.org/entity/P569))))"
      ],
      "text/plain": [
       "<kif.model.statement.Statement at 0x107c0eb70>"
      ]
     },
     "metadata": {},
     "output_type": "display_data"
    }
   ],
   "source": [
    "it = kb.filter(subject=NoValueSnak(wd.date_of_birth), limit=3)\n",
    "for stmt in it:\n",
    "    display(stmt)"
   ]
  },
  {
   "cell_type": "markdown",
   "id": "c02d629b-9de2-415d-8618-9b9ca15e65b5",
   "metadata": {},
   "source": [
    "## Statements such that subject is benzene and property is related to medicine "
   ]
  },
  {
   "cell_type": "code",
   "execution_count": 9,
   "id": "b7deeb3e-2df3-4359-a3d9-3cec1ab03827",
   "metadata": {},
   "outputs": [
    {
     "data": {
      "text/markdown": [
       "(**Statement** (**Item** [benzene](http://www.wikidata.org/entity/Q2270)) (**ValueSnak** (**Property** [ChEMBL ID](http://www.wikidata.org/entity/P592)) \"CHEMBL277500\"))"
      ],
      "text/plain": [
       "<kif.model.statement.Statement at 0x107c6c050>"
      ]
     },
     "metadata": {},
     "output_type": "display_data"
    },
    {
     "data": {
      "text/markdown": [
       "(**Statement** (**Item** [benzene](http://www.wikidata.org/entity/Q2270)) (**ValueSnak** (**Property** [PDB structure ID](http://www.wikidata.org/entity/P638)) \"4I7J\"))"
      ],
      "text/plain": [
       "<kif.model.statement.Statement at 0x107c6c2d0>"
      ]
     },
     "metadata": {},
     "output_type": "display_data"
    },
    {
     "data": {
      "text/markdown": [
       "(**Statement** (**Item** [benzene](http://www.wikidata.org/entity/Q2270)) (**ValueSnak** (**Property** [PDB structure ID](http://www.wikidata.org/entity/P638)) \"223L\"))"
      ],
      "text/plain": [
       "<kif.model.statement.Statement at 0x107c6c230>"
      ]
     },
     "metadata": {},
     "output_type": "display_data"
    }
   ],
   "source": [
    "it = kb.filter(subject=wd.benzene, property=wd.instance_of(wd.Wikidata_property_related_to_medicine), limit=3)\n",
    "for stmt in it:\n",
    "    display(stmt)"
   ]
  },
  {
   "cell_type": "markdown",
   "id": "ff0c35ad-13ea-4651-a0fe-c76a752a3ab1",
   "metadata": {},
   "source": [
    "## Statements such that property is father and value has an unknown date of death"
   ]
  },
  {
   "cell_type": "code",
   "execution_count": 10,
   "id": "28dec920-4fad-46d2-ba0f-84f99c853c20",
   "metadata": {},
   "outputs": [
    {
     "data": {
      "text/markdown": [
       "(**Statement** (**Item** [wd:Q1049347](http://www.wikidata.org/entity/Q1049347)) (**ValueSnak** (**Property** [father](http://www.wikidata.org/entity/P22)) (**Item** [wd:Q24](http://www.wikidata.org/entity/Q24))))"
      ],
      "text/plain": [
       "<kif.model.statement.Statement at 0x107cbda40>"
      ]
     },
     "metadata": {},
     "output_type": "display_data"
    },
    {
     "data": {
      "text/markdown": [
       "(**Statement** (**Item** [wd:Q839766](http://www.wikidata.org/entity/Q839766)) (**ValueSnak** (**Property** [father](http://www.wikidata.org/entity/P22)) (**Item** [wd:Q2142](http://www.wikidata.org/entity/Q2142))))"
      ],
      "text/plain": [
       "<kif.model.statement.Statement at 0x107cbe120>"
      ]
     },
     "metadata": {},
     "output_type": "display_data"
    },
    {
     "data": {
      "text/markdown": [
       "(**Statement** (**Item** [wd:Q752269](http://www.wikidata.org/entity/Q752269)) (**ValueSnak** (**Property** [father](http://www.wikidata.org/entity/P22)) (**Item** [wd:Q2142](http://www.wikidata.org/entity/Q2142))))"
      ],
      "text/plain": [
       "<kif.model.statement.Statement at 0x107cbdcc0>"
      ]
     },
     "metadata": {},
     "output_type": "display_data"
    }
   ],
   "source": [
    "it = kb.filter(property=wd.father, value=SomeValueSnak(wd.date_of_death), limit=3)\n",
    "for stmt in it:\n",
    "    display(stmt)"
   ]
  },
  {
   "cell_type": "markdown",
   "id": "fc875aa5-5119-40f0-ba45-cc376d435783",
   "metadata": {},
   "source": [
    "## Statements about Adam such that snak is of type some-value or no-value"
   ]
  },
  {
   "cell_type": "code",
   "execution_count": 11,
   "id": "d556dfc9-96f7-4343-b58f-e438003445a6",
   "metadata": {},
   "outputs": [
    {
     "data": {
      "text/markdown": [
       "(**Statement** (**Item** [Adam](http://www.wikidata.org/entity/Q70899)) (**NoValueSnak** (**Property** [mother](http://www.wikidata.org/entity/P25))))"
      ],
      "text/plain": [
       "<kif.model.statement.Statement at 0x107c6e940>"
      ]
     },
     "metadata": {},
     "output_type": "display_data"
    },
    {
     "data": {
      "text/markdown": [
       "(**Statement** (**Item** [Adam](http://www.wikidata.org/entity/Q70899)) (**NoValueSnak** (**Property** [father](http://www.wikidata.org/entity/P22))))"
      ],
      "text/plain": [
       "<kif.model.statement.Statement at 0x107c6ead0>"
      ]
     },
     "metadata": {},
     "output_type": "display_data"
    },
    {
     "data": {
      "text/markdown": [
       "(**Statement** (**Item** [Adam](http://www.wikidata.org/entity/Q70899)) (**SomeValueSnak** (**Property** [date of death](http://www.wikidata.org/entity/P570))))"
      ],
      "text/plain": [
       "<kif.model.statement.Statement at 0x107c0db80>"
      ]
     },
     "metadata": {},
     "output_type": "display_data"
    }
   ],
   "source": [
    "it = kb.filter(subject=wd.Adam, snak_mask=SnakMask.SOME_VALUE_SNAK | SnakMask.NO_VALUE_SNAK, limit=3)\n",
    "for stmt in it:\n",
    "    display(stmt)"
   ]
  },
  {
   "cell_type": "markdown",
   "id": "39591a40-b0b6-458e-b437-c7ef5dabf661",
   "metadata": {},
   "source": [
    "## Descriptors of a given list of entities"
   ]
  },
  {
   "cell_type": "code",
   "execution_count": 12,
   "id": "fbdcd1b9-c958-497a-a555-490961efdfdc",
   "metadata": {},
   "outputs": [
    {
     "name": "stdout",
     "output_type": "stream",
     "text": [
      "-- 1 --\n"
     ]
    },
    {
     "data": {
      "text/markdown": [
       "(**Item** [benzene](http://www.wikidata.org/entity/Q2270))"
      ],
      "text/plain": [
       "<kif.model.value.Item at 0x107391220>"
      ]
     },
     "metadata": {},
     "output_type": "display_data"
    },
    {
     "data": {
      "text/markdown": [
       "(**Descriptor**\n",
       "- \"benzeno\"@pt\n",
       "- *no aliases*\n",
       "- \"composto químico\"@pt)"
      ],
      "text/plain": [
       "<kif.model.descriptor.Descriptor at 0x107cbf1b0>"
      ]
     },
     "metadata": {},
     "output_type": "display_data"
    },
    {
     "name": "stdout",
     "output_type": "stream",
     "text": [
      "-- 2 --\n"
     ]
    },
    {
     "data": {
      "text/markdown": [
       "(**Property** [instance of](http://www.wikidata.org/entity/P31))"
      ],
      "text/plain": [
       "<kif.model.value.Property at 0x1073a8dc0>"
      ]
     },
     "metadata": {},
     "output_type": "display_data"
    },
    {
     "data": {
      "text/markdown": [
       "(**Descriptor**\n",
       "- \"instância de\"@pt\n",
       "- (**TextSet**\n",
       "  - \"natureza do elemento\"@pt\n",
       "  - \"possui classe\"@pt\n",
       "  - \"é membro de\"@pt\n",
       "  - \"é um\"@pt\n",
       "  - \"é um exemplo de\"@pt\n",
       "  - \"é um indivíduo\"@pt\n",
       "  - \"é uma\"@pt\n",
       "  - \"∈\"@pt)\n",
       "- \"este item é uma instância deste outro item\"@pt)"
      ],
      "text/plain": [
       "<kif.model.descriptor.Descriptor at 0x107b49630>"
      ]
     },
     "metadata": {},
     "output_type": "display_data"
    }
   ],
   "source": [
    "it = kb.get_descriptor([wd.benzene, wd.instance_of], 'pt')\n",
    "for i, (entity, desc) in enumerate(it, 1):\n",
    "    print('--', i, '--')\n",
    "    display(entity)\n",
    "    display(desc)"
   ]
  },
  {
   "cell_type": "markdown",
   "id": "cf5f1429-0951-4ed4-ad82-692501122473",
   "metadata": {},
   "source": [
    "## Descriptors of all entities occurring in statement"
   ]
  },
  {
   "cell_type": "code",
   "execution_count": 13,
   "id": "14f87feb-d30d-40ee-9fc5-a7b24c649828",
   "metadata": {},
   "outputs": [
    {
     "data": {
      "text/markdown": [
       "(**Statement** (**Item** [benzene](http://www.wikidata.org/entity/Q2270)) (**ValueSnak** (**Property** [wd:P10890](http://www.wikidata.org/entity/P10890)) \"142110\"))"
      ],
      "text/plain": [
       "<kif.model.statement.Statement at 0x107a8bf70>"
      ]
     },
     "metadata": {},
     "output_type": "display_data"
    }
   ],
   "source": [
    "stmt = next(kb.filter(wd.benzene, limit=1))\n",
    "display(stmt)"
   ]
  },
  {
   "cell_type": "code",
   "execution_count": 14,
   "id": "4c80af92-b3b2-4b28-b79c-231821ada33d",
   "metadata": {},
   "outputs": [],
   "source": [
    "def get_entities(obj: KIF_Object) -> set[Entity]:\n",
    "    if not isinstance(obj, KIF_Object):\n",
    "        return set()\n",
    "    elif obj.is_entity():\n",
    "        return set([obj])\n",
    "    else:\n",
    "        return set.union(*map(get_entities, obj.args))"
   ]
  },
  {
   "cell_type": "code",
   "execution_count": 15,
   "id": "e70168ee-1a76-4681-b1df-387731604442",
   "metadata": {},
   "outputs": [
    {
     "name": "stdout",
     "output_type": "stream",
     "text": [
      "-- 1 --\n"
     ]
    },
    {
     "data": {
      "text/markdown": [
       "(**Item** [benzene](http://www.wikidata.org/entity/Q2270))"
      ],
      "text/plain": [
       "<kif.model.value.Item at 0x107cbf110>"
      ]
     },
     "metadata": {},
     "output_type": "display_data"
    },
    {
     "data": {
      "text/markdown": [
       "(**Descriptor**\n",
       "- \"benzene\"@en\n",
       "- (**TextSet**\n",
       "  - \"(6)annulene\"@en\n",
       "  - \"1,3,5-cyclohexatriene\"@en\n",
       "  - \"BNZ\"@en\n",
       "  - \"C6H6\"@en\n",
       "  - \"\\[6]annulene\"@en\n",
       "  - \"benzol\"@en\n",
       "  - \"benzole\"@en\n",
       "  - \"benzolene\"@en\n",
       "  - \"bicarburet of hydrogen\"@en\n",
       "  - \"cyclohexa-1,3,5-triene\"@en\n",
       "  - \"cyclohexatriene\"@en\n",
       "  - \"phenyl hydride\"@en)\n",
       "- \"hydrocarbon compound consisting of a 6-sided ring\"@en)"
      ],
      "text/plain": [
       "<kif.model.descriptor.Descriptor at 0x107ce85a0>"
      ]
     },
     "metadata": {},
     "output_type": "display_data"
    },
    {
     "name": "stdout",
     "output_type": "stream",
     "text": [
      "-- 2 --\n"
     ]
    },
    {
     "data": {
      "text/markdown": [
       "(**Property** [PM20 ware ID](http://www.wikidata.org/entity/P10890))"
      ],
      "text/plain": [
       "<kif.model.value.Property at 0x107cbca00>"
      ]
     },
     "metadata": {},
     "output_type": "display_data"
    },
    {
     "data": {
      "text/markdown": [
       "(**Descriptor**\n",
       "- \"PM20 ware ID\"@en\n",
       "- (**TextSet**\n",
       "  - \"PM20 ware identifier\"@en)\n",
       "- \"identifier for a wares category in the 20th Century Press Archives' commodities/wares category system\"@en)"
      ],
      "text/plain": [
       "<kif.model.descriptor.Descriptor at 0x107d58140>"
      ]
     },
     "metadata": {},
     "output_type": "display_data"
    }
   ],
   "source": [
    "entity2desc = dict(kb.get_descriptor(get_entities(stmt), 'en'))\n",
    "for i, (k, v) in enumerate(entity2desc.items(), 1):\n",
    "    # -- update wd's internal cache (so display() will pretty-print the newly fetched labels) --\n",
    "    if v.label:\n",
    "        wd._registry.set(k, 'label', v.label.value)\n",
    "    if v.description:\n",
    "        wd._registry.set(k, 'description', v.description.value)\n",
    "    # ------------------------------------------------------------------------------------------\n",
    "    print('--', i, '--')\n",
    "    display(k)\n",
    "    display(v)\n"
   ]
  }
 ],
 "metadata": {
  "kernelspec": {
   "display_name": "Python 3 (ipykernel)",
   "language": "python",
   "name": "python3"
  },
  "language_info": {
   "codemirror_mode": {
    "name": "ipython",
    "version": 3
   },
   "file_extension": ".py",
   "mimetype": "text/x-python",
   "name": "python",
   "nbconvert_exporter": "python",
   "pygments_lexer": "ipython3",
   "version": "3.11.7"
  }
 },
 "nbformat": 4,
 "nbformat_minor": 5
}
