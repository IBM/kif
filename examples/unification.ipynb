{
 "cells": [
  {
   "cell_type": "code",
   "execution_count": 1,
   "id": "1c9bb77f-b70f-4b0e-939c-516a30765f38",
   "metadata": {},
   "outputs": [
    {
     "name": "stdout",
     "output_type": "stream",
     "text": [
      "env: KIF_DEBUG=\n",
      "env: KIF_RESOLVE_ENTITIES=1\n"
     ]
    }
   ],
   "source": [
    "%env KIF_DEBUG=\n",
    "%env KIF_RESOLVE_ENTITIES=1"
   ]
  },
  {
   "cell_type": "markdown",
   "id": "fe40ac1c-9ef5-4364-a8cf-8b6f7b141734",
   "metadata": {},
   "source": [
    "# Unification"
   ]
  },
  {
   "cell_type": "code",
   "execution_count": 2,
   "id": "ae07e73b-b80e-4ee2-ba6a-e623f372a8b5",
   "metadata": {},
   "outputs": [],
   "source": [
    "from kif_lib import *\n",
    "from kif_lib.vocabulary import wd"
   ]
  },
  {
   "cell_type": "markdown",
   "id": "8e965fc2-1284-4bc7-a10b-903eec98b8ef",
   "metadata": {},
   "source": [
    "## Matching statements"
   ]
  },
  {
   "cell_type": "code",
   "execution_count": 3,
   "id": "a2334e2c-4f63-454f-b4fe-a62c590c2c08",
   "metadata": {},
   "outputs": [],
   "source": [
    "x, y, z = Variables('x', 'y', 'z')"
   ]
  },
  {
   "cell_type": "code",
   "execution_count": 4,
   "id": "8f40da4e-664f-4aa7-9fd4-6c24b45c701c",
   "metadata": {},
   "outputs": [
    {
     "data": {
      "text/markdown": [
       "(**StatementTemplate** *?x: Entity* (**ValueSnakTemplate** (**Property** [shares border with](http://www.wikidata.org/entity/P47)) *?y: Item*))"
      ],
      "text/plain": [
       "StatementTemplate(EntityVariable('x'), ValueSnakTemplate(Property(IRI('http://www.wikidata.org/entity/P47'), ItemDatatype()), ItemVariable('y')))"
      ]
     },
     "execution_count": 4,
     "metadata": {},
     "output_type": "execute_result"
    }
   ],
   "source": [
    "pat = wd.shares_border_with(x, y)\n",
    "pat"
   ]
  },
  {
   "cell_type": "code",
   "execution_count": 5,
   "id": "c3bfa19f-e80b-4b52-b525-34312c7a6229",
   "metadata": {},
   "outputs": [
    {
     "data": {
      "text/plain": [
       "{EntityVariable('x'): Item(IRI('http://www.wikidata.org/entity/Q155')),\n",
       " ItemVariable('y'): Item(IRI('http://www.wikidata.org/entity/Q414'))}"
      ]
     },
     "execution_count": 5,
     "metadata": {},
     "output_type": "execute_result"
    }
   ],
   "source": [
    "theta = pat.match(wd.shares_border_with(wd.Brazil, wd.Argentina))\n",
    "theta"
   ]
  },
  {
   "cell_type": "code",
   "execution_count": 6,
   "id": "c26a33ff-cf87-4292-a143-ca09b17166ff",
   "metadata": {},
   "outputs": [
    {
     "data": {
      "text/markdown": [
       "(**Statement** (**Item** [Brazil](http://www.wikidata.org/entity/Q155)) (**ValueSnak** (**Property** [shares border with](http://www.wikidata.org/entity/P47)) (**Item** [Argentina](http://www.wikidata.org/entity/Q414))))"
      ],
      "text/plain": [
       "Statement(Item(IRI('http://www.wikidata.org/entity/Q155')), ValueSnak(Property(IRI('http://www.wikidata.org/entity/P47'), ItemDatatype()), Item(IRI('http://www.wikidata.org/entity/Q414'))))"
      ]
     },
     "execution_count": 6,
     "metadata": {},
     "output_type": "execute_result"
    }
   ],
   "source": [
    "pat.instantiate(theta)"
   ]
  },
  {
   "cell_type": "markdown",
   "id": "136248ef-8a99-41af-8223-039399896716",
   "metadata": {},
   "source": [
    "## Matching other patterns"
   ]
  },
  {
   "cell_type": "code",
   "execution_count": 7,
   "id": "52235929-0acf-44e0-8a83-2c566594d871",
   "metadata": {},
   "outputs": [
    {
     "data": {
      "text/markdown": [
       "(**StatementTemplate** *?x: Entity* (**ValueSnakTemplate** (**PropertyTemplate** *?y: IRI* **ItemDatatype**) (**Item** [Argentina](http://www.wikidata.org/entity/Q414))))"
      ],
      "text/plain": [
       "StatementTemplate(EntityVariable('x'), ValueSnakTemplate(PropertyTemplate(IRI_Variable('y'), ItemDatatype()), Item(IRI('http://www.wikidata.org/entity/Q414'))))"
      ]
     },
     "execution_count": 7,
     "metadata": {},
     "output_type": "execute_result"
    }
   ],
   "source": [
    "other = Statement(x, ValueSnak(Property(y, Item), wd.Argentina))\n",
    "other"
   ]
  },
  {
   "cell_type": "code",
   "execution_count": 8,
   "id": "c8c4f721-a17b-4ffd-ab2b-399420cd2220",
   "metadata": {},
   "outputs": [
    {
     "data": {
      "text/plain": [
       "{IRI_Variable('y'): IRI('http://www.wikidata.org/entity/P47'),\n",
       " ItemVariable('y'): Item(IRI('http://www.wikidata.org/entity/Q414'))}"
      ]
     },
     "execution_count": 8,
     "metadata": {},
     "output_type": "execute_result"
    }
   ],
   "source": [
    "theta = pat.match(other)\n",
    "theta"
   ]
  },
  {
   "cell_type": "code",
   "execution_count": 9,
   "id": "7a4281b3-4be7-4206-a6dd-8f629787ec1e",
   "metadata": {},
   "outputs": [
    {
     "data": {
      "text/markdown": [
       "(**StatementTemplate** *?x: Entity* (**ValueSnak** (**Property** [shares border with](http://www.wikidata.org/entity/P47)) (**Item** [Argentina](http://www.wikidata.org/entity/Q414))))"
      ],
      "text/plain": [
       "StatementTemplate(EntityVariable('x'), ValueSnak(Property(IRI('http://www.wikidata.org/entity/P47'), ItemDatatype()), Item(IRI('http://www.wikidata.org/entity/Q414'))))"
      ]
     },
     "metadata": {},
     "output_type": "display_data"
    },
    {
     "data": {
      "text/markdown": [
       "(**StatementTemplate** *?x: Entity* (**ValueSnak** (**Property** [shares border with](http://www.wikidata.org/entity/P47)) (**Item** [Argentina](http://www.wikidata.org/entity/Q414))))"
      ],
      "text/plain": [
       "StatementTemplate(EntityVariable('x'), ValueSnak(Property(IRI('http://www.wikidata.org/entity/P47'), ItemDatatype()), Item(IRI('http://www.wikidata.org/entity/Q414'))))"
      ]
     },
     "metadata": {},
     "output_type": "display_data"
    }
   ],
   "source": [
    "display(pat.instantiate(theta))\n",
    "display(other.instantiate(theta))"
   ]
  }
 ],
 "metadata": {
  "kernelspec": {
   "display_name": "venv313",
   "language": "python",
   "name": "venv313"
  },
  "language_info": {
   "codemirror_mode": {
    "name": "ipython",
    "version": 3
   },
   "file_extension": ".py",
   "mimetype": "text/x-python",
   "name": "python",
   "nbconvert_exporter": "python",
   "pygments_lexer": "ipython3",
   "version": "3.13.2"
  }
 },
 "nbformat": 4,
 "nbformat_minor": 5
}
