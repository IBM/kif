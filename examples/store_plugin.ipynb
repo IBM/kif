{
 "cells": [
  {
   "cell_type": "markdown",
   "id": "df445ae0-c6b0-4db6-9352-e396f4937936",
   "metadata": {},
   "source": [
    "# Store Plugin"
   ]
  },
  {
   "cell_type": "code",
   "execution_count": 1,
   "id": "2f3767f5-3f00-4de1-8257-37a10eb0d162",
   "metadata": {},
   "outputs": [],
   "source": [
    "from typing import Iterator\n",
    "\n",
    "from kif_lib import *\n",
    "from kif_lib.vocabulary import wd"
   ]
  },
  {
   "cell_type": "code",
   "execution_count": 2,
   "id": "6475dd4e-e32a-4ff5-aeeb-55b8c4fcfa99",
   "metadata": {},
   "outputs": [],
   "source": [
    "class MyStore(Store, store_name='my-store', store_description='My store'):\n",
    "\n",
    "    shares_border_with: dict[Item, list[Item]] = {\n",
    "        wd.Q(155): [wd.Q(414), wd.Q(750), wd.Q(3769)],\n",
    "        wd.Q(142): [wd.Q(29), wd.Q(228)],\n",
    "    }\n",
    "\n",
    "    def _filter(self, f: Filter, limit: int, distinct: bool) -> Iterator[Statement]:\n",
    "        if f.property.match(wd.shares_border_with):\n",
    "            for k, vs in self.shares_border_with.items():\n",
    "                if f.subject.match(k):\n",
    "                    for v in vs:\n",
    "                        if f.value.match(v):\n",
    "                            yield wd.shares_border_with(k, v)"
   ]
  },
  {
   "cell_type": "code",
   "execution_count": 3,
   "id": "d321a309-39a9-4856-911c-16ee654838bd",
   "metadata": {},
   "outputs": [
    {
     "data": {
      "text/markdown": [
       "(**Statement** (**Item** [Brazil](http://www.wikidata.org/entity/Q155)) (**ValueSnak** (**Property** [shares border with](http://www.wikidata.org/entity/P47)) (**Item** [Argentina](http://www.wikidata.org/entity/Q414))))"
      ],
      "text/plain": [
       "Statement(Item(IRI('http://www.wikidata.org/entity/Q155')), ValueSnak(Property(IRI('http://www.wikidata.org/entity/P47'), ItemDatatype()), Item(IRI('http://www.wikidata.org/entity/Q414'))))"
      ]
     },
     "metadata": {},
     "output_type": "display_data"
    },
    {
     "data": {
      "text/markdown": [
       "(**Statement** (**Item** [Brazil](http://www.wikidata.org/entity/Q155)) (**ValueSnak** (**Property** [shares border with](http://www.wikidata.org/entity/P47)) (**Item** [Bolivia](http://www.wikidata.org/entity/Q750))))"
      ],
      "text/plain": [
       "Statement(Item(IRI('http://www.wikidata.org/entity/Q155')), ValueSnak(Property(IRI('http://www.wikidata.org/entity/P47'), ItemDatatype()), Item(IRI('http://www.wikidata.org/entity/Q750'))))"
      ]
     },
     "metadata": {},
     "output_type": "display_data"
    },
    {
     "data": {
      "text/markdown": [
       "(**Statement** (**Item** [Brazil](http://www.wikidata.org/entity/Q155)) (**ValueSnak** (**Property** [shares border with](http://www.wikidata.org/entity/P47)) (**Item** [French Guiana](http://www.wikidata.org/entity/Q3769))))"
      ],
      "text/plain": [
       "Statement(Item(IRI('http://www.wikidata.org/entity/Q155')), ValueSnak(Property(IRI('http://www.wikidata.org/entity/P47'), ItemDatatype()), Item(IRI('http://www.wikidata.org/entity/Q3769'))))"
      ]
     },
     "metadata": {},
     "output_type": "display_data"
    }
   ],
   "source": [
    "kb = Store('my-store')\n",
    "for stmt in kb.filter(subject=wd.Brazil | wd.Argentina, property=wd.shares_border_with):\n",
    "    display(stmt)"
   ]
  },
  {
   "cell_type": "code",
   "execution_count": null,
   "id": "daa1c0aa-a6d3-4c1d-9781-84ad3bed4705",
   "metadata": {},
   "outputs": [],
   "source": []
  }
 ],
 "metadata": {
  "kernelspec": {
   "display_name": "venv313",
   "language": "python",
   "name": "venv313"
  },
  "language_info": {
   "codemirror_mode": {
    "name": "ipython",
    "version": 3
   },
   "file_extension": ".py",
   "mimetype": "text/x-python",
   "name": "python",
   "nbconvert_exporter": "python",
   "pygments_lexer": "ipython3",
   "version": "3.13.1"
  }
 },
 "nbformat": 4,
 "nbformat_minor": 5
}
