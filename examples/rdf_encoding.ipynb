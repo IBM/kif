{
 "cells": [
  {
   "cell_type": "code",
   "execution_count": 1,
   "id": "5ef9d1fd-c0f7-4e69-9357-db6012dfc8ee",
   "metadata": {},
   "outputs": [],
   "source": [
    "# Uncomment to see the SPARQL queries.\n",
    "#import logging\n",
    "#logging.basicConfig(level=logging.DEBUG)"
   ]
  },
  {
   "cell_type": "markdown",
   "id": "d1cfd79b-025a-484d-ba85-e52dd8a52d5d",
   "metadata": {},
   "source": [
    "# RDF encoding"
   ]
  },
  {
   "cell_type": "code",
   "execution_count": 2,
   "id": "57a49eea-7bb4-474d-8aa8-cc0daf2ee9c6",
   "metadata": {},
   "outputs": [],
   "source": [
    "from kif_lib import *\n",
    "from kif_lib.vocabulary import wd"
   ]
  },
  {
   "cell_type": "markdown",
   "id": "2500f2f5-0391-4659-8c21-5c258407108e",
   "metadata": {},
   "source": [
    "## Single statement"
   ]
  },
  {
   "cell_type": "code",
   "execution_count": 3,
   "id": "327f65fb-27e8-4935-a49b-38c273388b2e",
   "metadata": {},
   "outputs": [
    {
     "data": {
      "text/markdown": [
       "(**Statement** (**Item** [benzene](http://www.wikidata.org/entity/Q2270)) (**ValueSnak** (**Property** [mass](http://www.wikidata.org/entity/P2067)) (**Quantity** 78.046950192 (**Item** [dalton](http://www.wikidata.org/entity/Q483261)))))"
      ],
      "text/plain": [
       "Statement(Item(IRI('http://www.wikidata.org/entity/Q2270')), ValueSnak(Property(IRI('http://www.wikidata.org/entity/P2067'), QuantityDatatype()), Quantity(Decimal('78.046950192'), Item(IRI('http://www.wikidata.org/entity/Q483261')), None, None)))"
      ]
     },
     "execution_count": 3,
     "metadata": {},
     "output_type": "execute_result"
    }
   ],
   "source": [
    "stmt1 = wd.mass(wd.benzene, '78.046950192'@wd.dalton)\n",
    "stmt1"
   ]
  },
  {
   "cell_type": "code",
   "execution_count": 4,
   "id": "271b17fa-8954-4012-b93c-3071f082e314",
   "metadata": {},
   "outputs": [
    {
     "name": "stdout",
     "output_type": "stream",
     "text": [
      "<http://www.wikidata.org/entity/P2067> <http://www.w3.org/1999/02/22-rdf-syntax-ns#type> <http://wikiba.se/ontology#Property> .\n",
      "<http://www.wikidata.org/entity/P2067> <http://wikiba.se/ontology#propertyType> <http://wikiba.se/ontology#Quantity> .\n",
      "<http://www.wikidata.org/entity/P2067> <http://wikiba.se/ontology#claim> <http://www.wikidata.org/prop/P2067> .\n",
      "<http://www.wikidata.org/entity/P2067> <http://wikiba.se/ontology#qualifier> <http://www.wikidata.org/prop/qualifier/P2067> .\n",
      "<http://www.wikidata.org/entity/P2067> <http://wikiba.se/ontology#qualifierValue> <http://www.wikidata.org/prop/qualifier/value/P2067> .\n",
      "<http://www.wikidata.org/entity/P2067> <http://wikiba.se/ontology#reference> <http://www.wikidata.org/prop/reference/P2067> .\n",
      "<http://www.wikidata.org/entity/P2067> <http://wikiba.se/ontology#referenceValue> <http://www.wikidata.org/prop/reference/value/P2067> .\n",
      "<http://www.wikidata.org/entity/P2067> <http://wikiba.se/ontology#statementProperty> <http://www.wikidata.org/prop/statement/P2067> .\n",
      "<http://www.wikidata.org/entity/P2067> <http://wikiba.se/ontology#statementValue> <http://www.wikidata.org/prop/statement/value/P2067> .\n",
      "<http://www.wikidata.org/entity/P2067> <http://wikiba.se/ontology#novalue> <http://www.wikidata.org/prop/novalue/P2067> .\n",
      "<http://www.wikidata.org/entity/P2067> <http://wikiba.se/ontology#directClaim> <http://www.wikidata.org/prop/direct/P2067> .\n",
      "<http://www.wikidata.org/entity/Q2270> <http://wikiba.se/ontology#sitelinks> \"0\"^^<http://www.w3.org/2001/XMLSchema#integer> .\n",
      "<http://www.wikidata.org/entity/Q2270> <http://www.wikidata.org/prop/P2067> <http://www.wikidata.org/entity/statement/542d7f508a9add5ee8ae0de69e3cbe6a70a4158f56548a29fd63ec05cc797353> .\n",
      "<http://www.wikidata.org/entity/Q2270> <http://www.wikidata.org/prop/direct/P2067> \"78.046950192\"^^<http://www.w3.org/2001/XMLSchema#decimal> .\n",
      "<http://www.wikidata.org/value/e7ff9ca4c682ac547689eb3b05a5897a82870cc0247ebfe45bf86b0f951fa592> <http://www.w3.org/1999/02/22-rdf-syntax-ns#type> <http://wikiba.se/ontology#QuantityValue> .\n",
      "<http://www.wikidata.org/value/e7ff9ca4c682ac547689eb3b05a5897a82870cc0247ebfe45bf86b0f951fa592> <http://wikiba.se/ontology#quantityAmount> \"78.046950192\"^^<http://www.w3.org/2001/XMLSchema#decimal> .\n",
      "<http://www.wikidata.org/entity/Q483261> <http://wikiba.se/ontology#sitelinks> \"0\"^^<http://www.w3.org/2001/XMLSchema#integer> .\n",
      "<http://www.wikidata.org/value/e7ff9ca4c682ac547689eb3b05a5897a82870cc0247ebfe45bf86b0f951fa592> <http://wikiba.se/ontology#quantityUnit> <http://www.wikidata.org/entity/Q483261> .\n",
      "<http://www.wikidata.org/entity/statement/542d7f508a9add5ee8ae0de69e3cbe6a70a4158f56548a29fd63ec05cc797353> <http://www.wikidata.org/prop/statement/P2067> \"78.046950192\"^^<http://www.w3.org/2001/XMLSchema#decimal> .\n",
      "<http://www.wikidata.org/entity/statement/542d7f508a9add5ee8ae0de69e3cbe6a70a4158f56548a29fd63ec05cc797353> <http://www.wikidata.org/prop/statement/value/P2067> <http://www.wikidata.org/value/e7ff9ca4c682ac547689eb3b05a5897a82870cc0247ebfe45bf86b0f951fa592> .\n",
      "<http://www.wikidata.org/entity/statement/542d7f508a9add5ee8ae0de69e3cbe6a70a4158f56548a29fd63ec05cc797353> <http://www.w3.org/1999/02/22-rdf-syntax-ns#type> <http://wikiba.se/ontology#BestRank> .\n",
      "<http://www.wikidata.org/entity/statement/542d7f508a9add5ee8ae0de69e3cbe6a70a4158f56548a29fd63ec05cc797353> <http://wikiba.se/ontology#rank> <http://wikiba.se/ontology#NormalRank> .\n",
      "\n"
     ]
    }
   ],
   "source": [
    "print(stmt1.to_rdf())"
   ]
  },
  {
   "cell_type": "markdown",
   "id": "632555c1-af68-47e8-9845-5b6d367763ec",
   "metadata": {},
   "source": [
    "Now an annotated statement:"
   ]
  },
  {
   "cell_type": "code",
   "execution_count": 5,
   "id": "a0e67470-9dc0-4eb9-bfb9-2a93390c0f4d",
   "metadata": {},
   "outputs": [
    {
     "data": {
      "text/markdown": [
       "(**AnnotatedStatement** (**Item** [benzene](http://www.wikidata.org/entity/Q2270)) (**ValueSnak** (**Property** [density](http://www.wikidata.org/entity/P2054)) (**Quantity** 0.88 ±0.01 (**Item** [gram per cubic centimetre](http://www.wikidata.org/entity/Q13147228))))\n",
       "- (**QualifierRecord**\n",
       "  - (**ValueSnak** (**Property** [temperature](http://www.wikidata.org/entity/P2076)) (**Quantity** 21 (**Item** [degree Celsius](http://www.wikidata.org/entity/Q25267))))\n",
       "  - (**ValueSnak** (**Property** [phase of matter](http://www.wikidata.org/entity/P515)) (**Item** [liquid](http://www.wikidata.org/entity/Q11435))))\n",
       "- (**ReferenceRecordSet**\n",
       "  - (**ReferenceRecord**\n",
       "    - (**ValueSnak** (**Property** [stated in](http://www.wikidata.org/entity/P248)) (**Item** [PubChem](http://www.wikidata.org/entity/Q278487)))\n",
       "    - (**ValueSnak** (**Property** [retrieved](http://www.wikidata.org/entity/P813)) (**Time** 2024-12-30))))\n",
       "- **PreferredRank**)"
      ],
      "text/plain": [
       "AnnotatedStatement(Item(IRI('http://www.wikidata.org/entity/Q2270')), ValueSnak(Property(IRI('http://www.wikidata.org/entity/P2054'), QuantityDatatype()), Quantity(Decimal('0.88'), Item(IRI('http://www.wikidata.org/entity/Q13147228')), Decimal('0.87'), Decimal('0.89'))), QualifierRecord(ValueSnak(Property(IRI('http://www.wikidata.org/entity/P2076'), QuantityDatatype()), Quantity(Decimal('21'), Item(IRI('http://www.wikidata.org/entity/Q25267')), None, None)), ValueSnak(Property(IRI('http://www.wikidata.org/entity/P515'), ItemDatatype()), Item(IRI('http://www.wikidata.org/entity/Q11435')))), ReferenceRecordSet(ReferenceRecord(ValueSnak(Property(IRI('http://www.wikidata.org/entity/P248'), ItemDatatype()), Item(IRI('http://www.wikidata.org/entity/Q278487'))), ValueSnak(Property(IRI('http://www.wikidata.org/entity/P813'), TimeDatatype()), Time(datetime.datetime(2024, 12, 30, 0, 0, tzinfo=datetime.timezone.utc), None, None, None)))), PreferredRank())"
      ]
     },
     "execution_count": 5,
     "metadata": {},
     "output_type": "execute_result"
    }
   ],
   "source": [
    "stmt2 = wd.density(wd.benzene, Quantity('0.88', wd.gram_per_cubic_centimetre, '0.87', '0.89'),\n",
    "                   qualifiers=[\n",
    "                       wd.temperature(21@wd.degree_Celsius),\n",
    "                       wd.phase_of_matter(wd.liquid)\n",
    "                   ],\n",
    "                   references=[\n",
    "                       [wd.stated_in(wd.PubChem),\n",
    "                        wd.retrieved('2024-12-30')],\n",
    "                   ],\n",
    "                   rank=Preferred)\n",
    "stmt2"
   ]
  },
  {
   "cell_type": "code",
   "execution_count": 6,
   "id": "6f7334fb-d9e0-44d6-9ac7-4253412a8a60",
   "metadata": {},
   "outputs": [
    {
     "name": "stdout",
     "output_type": "stream",
     "text": [
      "<http://www.wikidata.org/entity/P2054> <http://www.w3.org/1999/02/22-rdf-syntax-ns#type> <http://wikiba.se/ontology#Property> .\n",
      "<http://www.wikidata.org/entity/P2054> <http://wikiba.se/ontology#propertyType> <http://wikiba.se/ontology#Quantity> .\n",
      "<http://www.wikidata.org/entity/P2054> <http://wikiba.se/ontology#claim> <http://www.wikidata.org/prop/P2054> .\n",
      "<http://www.wikidata.org/entity/P2054> <http://wikiba.se/ontology#qualifier> <http://www.wikidata.org/prop/qualifier/P2054> .\n",
      "<http://www.wikidata.org/entity/P2054> <http://wikiba.se/ontology#qualifierValue> <http://www.wikidata.org/prop/qualifier/value/P2054> .\n",
      "<http://www.wikidata.org/entity/P2054> <http://wikiba.se/ontology#reference> <http://www.wikidata.org/prop/reference/P2054> .\n",
      "<http://www.wikidata.org/entity/P2054> <http://wikiba.se/ontology#referenceValue> <http://www.wikidata.org/prop/reference/value/P2054> .\n",
      "<http://www.wikidata.org/entity/P2054> <http://wikiba.se/ontology#statementProperty> <http://www.wikidata.org/prop/statement/P2054> .\n",
      "<http://www.wikidata.org/entity/P2054> <http://wikiba.se/ontology#statementValue> <http://www.wikidata.org/prop/statement/value/P2054> .\n",
      "<http://www.wikidata.org/entity/P2054> <http://wikiba.se/ontology#novalue> <http://www.wikidata.org/prop/novalue/P2054> .\n",
      "<http://www.wikidata.org/entity/P2054> <http://wikiba.se/ontology#directClaim> <http://www.wikidata.org/prop/direct/P2054> .\n",
      "<http://www.wikidata.org/entity/Q2270> <http://wikiba.se/ontology#sitelinks> \"0\"^^<http://www.w3.org/2001/XMLSchema#integer> .\n",
      "<http://www.wikidata.org/entity/Q2270> <http://www.wikidata.org/prop/P2054> <http://www.wikidata.org/entity/statement/71fc5ab41cd76fc84e17e8195d21f8fc14f7d609c0b46e3dec37abfbc68dd176> .\n",
      "<http://www.wikidata.org/entity/Q2270> <http://www.wikidata.org/prop/direct/P2054> \"0.88\"^^<http://www.w3.org/2001/XMLSchema#decimal> .\n",
      "<http://www.wikidata.org/value/bd1343d2628fb49dc83d3b8fd6dfc890b48d553fb423c50fba89b16455e0109b> <http://www.w3.org/1999/02/22-rdf-syntax-ns#type> <http://wikiba.se/ontology#QuantityValue> .\n",
      "<http://www.wikidata.org/value/bd1343d2628fb49dc83d3b8fd6dfc890b48d553fb423c50fba89b16455e0109b> <http://wikiba.se/ontology#quantityAmount> \"0.88\"^^<http://www.w3.org/2001/XMLSchema#decimal> .\n",
      "<http://www.wikidata.org/entity/Q13147228> <http://wikiba.se/ontology#sitelinks> \"0\"^^<http://www.w3.org/2001/XMLSchema#integer> .\n",
      "<http://www.wikidata.org/value/bd1343d2628fb49dc83d3b8fd6dfc890b48d553fb423c50fba89b16455e0109b> <http://wikiba.se/ontology#quantityUnit> <http://www.wikidata.org/entity/Q13147228> .\n",
      "<http://www.wikidata.org/value/bd1343d2628fb49dc83d3b8fd6dfc890b48d553fb423c50fba89b16455e0109b> <http://wikiba.se/ontology#quantityLowerBound> \"0.87\"^^<http://www.w3.org/2001/XMLSchema#decimal> .\n",
      "<http://www.wikidata.org/value/bd1343d2628fb49dc83d3b8fd6dfc890b48d553fb423c50fba89b16455e0109b> <http://wikiba.se/ontology#quantityUpperBound> \"0.89\"^^<http://www.w3.org/2001/XMLSchema#decimal> .\n",
      "<http://www.wikidata.org/entity/statement/71fc5ab41cd76fc84e17e8195d21f8fc14f7d609c0b46e3dec37abfbc68dd176> <http://www.wikidata.org/prop/statement/P2054> \"0.88\"^^<http://www.w3.org/2001/XMLSchema#decimal> .\n",
      "<http://www.wikidata.org/entity/statement/71fc5ab41cd76fc84e17e8195d21f8fc14f7d609c0b46e3dec37abfbc68dd176> <http://www.wikidata.org/prop/statement/value/P2054> <http://www.wikidata.org/value/bd1343d2628fb49dc83d3b8fd6dfc890b48d553fb423c50fba89b16455e0109b> .\n",
      "<http://www.wikidata.org/entity/P2076> <http://www.w3.org/1999/02/22-rdf-syntax-ns#type> <http://wikiba.se/ontology#Property> .\n",
      "<http://www.wikidata.org/entity/P2076> <http://wikiba.se/ontology#propertyType> <http://wikiba.se/ontology#Quantity> .\n",
      "<http://www.wikidata.org/entity/P2076> <http://wikiba.se/ontology#claim> <http://www.wikidata.org/prop/P2076> .\n",
      "<http://www.wikidata.org/entity/P2076> <http://wikiba.se/ontology#qualifier> <http://www.wikidata.org/prop/qualifier/P2076> .\n",
      "<http://www.wikidata.org/entity/P2076> <http://wikiba.se/ontology#qualifierValue> <http://www.wikidata.org/prop/qualifier/value/P2076> .\n",
      "<http://www.wikidata.org/entity/P2076> <http://wikiba.se/ontology#reference> <http://www.wikidata.org/prop/reference/P2076> .\n",
      "<http://www.wikidata.org/entity/P2076> <http://wikiba.se/ontology#referenceValue> <http://www.wikidata.org/prop/reference/value/P2076> .\n",
      "<http://www.wikidata.org/entity/P2076> <http://wikiba.se/ontology#statementProperty> <http://www.wikidata.org/prop/statement/P2076> .\n",
      "<http://www.wikidata.org/entity/P2076> <http://wikiba.se/ontology#statementValue> <http://www.wikidata.org/prop/statement/value/P2076> .\n",
      "<http://www.wikidata.org/entity/P2076> <http://wikiba.se/ontology#novalue> <http://www.wikidata.org/prop/novalue/P2076> .\n",
      "<http://www.wikidata.org/entity/P2076> <http://wikiba.se/ontology#directClaim> <http://www.wikidata.org/prop/direct/P2076> .\n",
      "<http://www.wikidata.org/value/7e496b078b4b0abed2746d8c4da4daba19233c5e3aef0982e590d054f0ff81a7> <http://www.w3.org/1999/02/22-rdf-syntax-ns#type> <http://wikiba.se/ontology#QuantityValue> .\n",
      "<http://www.wikidata.org/value/7e496b078b4b0abed2746d8c4da4daba19233c5e3aef0982e590d054f0ff81a7> <http://wikiba.se/ontology#quantityAmount> \"21\"^^<http://www.w3.org/2001/XMLSchema#decimal> .\n",
      "<http://www.wikidata.org/entity/Q25267> <http://wikiba.se/ontology#sitelinks> \"0\"^^<http://www.w3.org/2001/XMLSchema#integer> .\n",
      "<http://www.wikidata.org/value/7e496b078b4b0abed2746d8c4da4daba19233c5e3aef0982e590d054f0ff81a7> <http://wikiba.se/ontology#quantityUnit> <http://www.wikidata.org/entity/Q25267> .\n",
      "<http://www.wikidata.org/entity/statement/71fc5ab41cd76fc84e17e8195d21f8fc14f7d609c0b46e3dec37abfbc68dd176> <http://www.wikidata.org/prop/qualifier/P2076> \"21\"^^<http://www.w3.org/2001/XMLSchema#decimal> .\n",
      "<http://www.wikidata.org/entity/statement/71fc5ab41cd76fc84e17e8195d21f8fc14f7d609c0b46e3dec37abfbc68dd176> <http://www.wikidata.org/prop/qualifier/value/P2076> <http://www.wikidata.org/value/7e496b078b4b0abed2746d8c4da4daba19233c5e3aef0982e590d054f0ff81a7> .\n",
      "<http://www.wikidata.org/entity/P515> <http://www.w3.org/1999/02/22-rdf-syntax-ns#type> <http://wikiba.se/ontology#Property> .\n",
      "<http://www.wikidata.org/entity/P515> <http://wikiba.se/ontology#propertyType> <http://wikiba.se/ontology#WikibaseItem> .\n",
      "<http://www.wikidata.org/entity/P515> <http://wikiba.se/ontology#claim> <http://www.wikidata.org/prop/P515> .\n",
      "<http://www.wikidata.org/entity/P515> <http://wikiba.se/ontology#qualifier> <http://www.wikidata.org/prop/qualifier/P515> .\n",
      "<http://www.wikidata.org/entity/P515> <http://wikiba.se/ontology#qualifierValue> <http://www.wikidata.org/prop/qualifier/value/P515> .\n",
      "<http://www.wikidata.org/entity/P515> <http://wikiba.se/ontology#reference> <http://www.wikidata.org/prop/reference/P515> .\n",
      "<http://www.wikidata.org/entity/P515> <http://wikiba.se/ontology#referenceValue> <http://www.wikidata.org/prop/reference/value/P515> .\n",
      "<http://www.wikidata.org/entity/P515> <http://wikiba.se/ontology#statementProperty> <http://www.wikidata.org/prop/statement/P515> .\n",
      "<http://www.wikidata.org/entity/P515> <http://wikiba.se/ontology#statementValue> <http://www.wikidata.org/prop/statement/value/P515> .\n",
      "<http://www.wikidata.org/entity/P515> <http://wikiba.se/ontology#novalue> <http://www.wikidata.org/prop/novalue/P515> .\n",
      "<http://www.wikidata.org/entity/P515> <http://wikiba.se/ontology#directClaim> <http://www.wikidata.org/prop/direct/P515> .\n",
      "<http://www.wikidata.org/entity/Q11435> <http://wikiba.se/ontology#sitelinks> \"0\"^^<http://www.w3.org/2001/XMLSchema#integer> .\n",
      "<http://www.wikidata.org/entity/statement/71fc5ab41cd76fc84e17e8195d21f8fc14f7d609c0b46e3dec37abfbc68dd176> <http://www.wikidata.org/prop/qualifier/P515> <http://www.wikidata.org/entity/Q11435> .\n",
      "<http://www.wikidata.org/entity/P248> <http://www.w3.org/1999/02/22-rdf-syntax-ns#type> <http://wikiba.se/ontology#Property> .\n",
      "<http://www.wikidata.org/entity/P248> <http://wikiba.se/ontology#propertyType> <http://wikiba.se/ontology#WikibaseItem> .\n",
      "<http://www.wikidata.org/entity/P248> <http://wikiba.se/ontology#claim> <http://www.wikidata.org/prop/P248> .\n",
      "<http://www.wikidata.org/entity/P248> <http://wikiba.se/ontology#qualifier> <http://www.wikidata.org/prop/qualifier/P248> .\n",
      "<http://www.wikidata.org/entity/P248> <http://wikiba.se/ontology#qualifierValue> <http://www.wikidata.org/prop/qualifier/value/P248> .\n",
      "<http://www.wikidata.org/entity/P248> <http://wikiba.se/ontology#reference> <http://www.wikidata.org/prop/reference/P248> .\n",
      "<http://www.wikidata.org/entity/P248> <http://wikiba.se/ontology#referenceValue> <http://www.wikidata.org/prop/reference/value/P248> .\n",
      "<http://www.wikidata.org/entity/P248> <http://wikiba.se/ontology#statementProperty> <http://www.wikidata.org/prop/statement/P248> .\n",
      "<http://www.wikidata.org/entity/P248> <http://wikiba.se/ontology#statementValue> <http://www.wikidata.org/prop/statement/value/P248> .\n",
      "<http://www.wikidata.org/entity/P248> <http://wikiba.se/ontology#novalue> <http://www.wikidata.org/prop/novalue/P248> .\n",
      "<http://www.wikidata.org/entity/P248> <http://wikiba.se/ontology#directClaim> <http://www.wikidata.org/prop/direct/P248> .\n",
      "<http://www.wikidata.org/entity/Q278487> <http://wikiba.se/ontology#sitelinks> \"0\"^^<http://www.w3.org/2001/XMLSchema#integer> .\n",
      "<http://www.wikidata.org/reference/5412675570a65133e48cc7ee596a8303bd6ca93dd88d4aa41f74a931ed2c0aef> <http://www.wikidata.org/prop/reference/P248> <http://www.wikidata.org/entity/Q278487> .\n",
      "<http://www.wikidata.org/entity/P813> <http://www.w3.org/1999/02/22-rdf-syntax-ns#type> <http://wikiba.se/ontology#Property> .\n",
      "<http://www.wikidata.org/entity/P813> <http://wikiba.se/ontology#propertyType> <http://wikiba.se/ontology#Time> .\n",
      "<http://www.wikidata.org/entity/P813> <http://wikiba.se/ontology#claim> <http://www.wikidata.org/prop/P813> .\n",
      "<http://www.wikidata.org/entity/P813> <http://wikiba.se/ontology#qualifier> <http://www.wikidata.org/prop/qualifier/P813> .\n",
      "<http://www.wikidata.org/entity/P813> <http://wikiba.se/ontology#qualifierValue> <http://www.wikidata.org/prop/qualifier/value/P813> .\n",
      "<http://www.wikidata.org/entity/P813> <http://wikiba.se/ontology#reference> <http://www.wikidata.org/prop/reference/P813> .\n",
      "<http://www.wikidata.org/entity/P813> <http://wikiba.se/ontology#referenceValue> <http://www.wikidata.org/prop/reference/value/P813> .\n",
      "<http://www.wikidata.org/entity/P813> <http://wikiba.se/ontology#statementProperty> <http://www.wikidata.org/prop/statement/P813> .\n",
      "<http://www.wikidata.org/entity/P813> <http://wikiba.se/ontology#statementValue> <http://www.wikidata.org/prop/statement/value/P813> .\n",
      "<http://www.wikidata.org/entity/P813> <http://wikiba.se/ontology#novalue> <http://www.wikidata.org/prop/novalue/P813> .\n",
      "<http://www.wikidata.org/entity/P813> <http://wikiba.se/ontology#directClaim> <http://www.wikidata.org/prop/direct/P813> .\n",
      "<http://www.wikidata.org/value/1f93f6d8527c7df23f7a2aa961c2fd5ee3068b337e0047d16a18b3cdbcccdfd1> <http://www.w3.org/1999/02/22-rdf-syntax-ns#type> <http://wikiba.se/ontology#TimeValue> .\n",
      "<http://www.wikidata.org/value/1f93f6d8527c7df23f7a2aa961c2fd5ee3068b337e0047d16a18b3cdbcccdfd1> <http://wikiba.se/ontology#timeValue> \"2024-12-30T00:00:00+00:00\"^^<http://www.w3.org/2001/XMLSchema#dateTime> .\n",
      "<http://www.wikidata.org/reference/5412675570a65133e48cc7ee596a8303bd6ca93dd88d4aa41f74a931ed2c0aef> <http://www.wikidata.org/prop/reference/P813> \"2024-12-30T00:00:00+00:00\"^^<http://www.w3.org/2001/XMLSchema#dateTime> .\n",
      "<http://www.wikidata.org/reference/5412675570a65133e48cc7ee596a8303bd6ca93dd88d4aa41f74a931ed2c0aef> <http://www.wikidata.org/prop/reference/value/P813> <http://www.wikidata.org/value/1f93f6d8527c7df23f7a2aa961c2fd5ee3068b337e0047d16a18b3cdbcccdfd1> .\n",
      "<http://www.wikidata.org/entity/statement/71fc5ab41cd76fc84e17e8195d21f8fc14f7d609c0b46e3dec37abfbc68dd176> <http://www.w3.org/ns/prov#wasDerivedFrom> <http://www.wikidata.org/reference/5412675570a65133e48cc7ee596a8303bd6ca93dd88d4aa41f74a931ed2c0aef> .\n",
      "<http://www.wikidata.org/entity/statement/71fc5ab41cd76fc84e17e8195d21f8fc14f7d609c0b46e3dec37abfbc68dd176> <http://www.w3.org/1999/02/22-rdf-syntax-ns#type> <http://wikiba.se/ontology#BestRank> .\n",
      "<http://www.wikidata.org/entity/statement/71fc5ab41cd76fc84e17e8195d21f8fc14f7d609c0b46e3dec37abfbc68dd176> <http://wikiba.se/ontology#rank> <http://wikiba.se/ontology#PreferredRank> .\n",
      "\n"
     ]
    }
   ],
   "source": [
    "print(stmt2.to_rdf())"
   ]
  },
  {
   "cell_type": "markdown",
   "id": "0c4e22c0-18f3-4648-ba4a-ea8bd656cde5",
   "metadata": {},
   "source": [
    "## Multiple statements (Graph)"
   ]
  },
  {
   "cell_type": "markdown",
   "id": "d8454a48-55cc-4ce8-89af-c1fcee19eae4",
   "metadata": {},
   "source": [
    "Multiple statemtents can be grouped in a graph, which is essentially a set of statements:"
   ]
  },
  {
   "cell_type": "code",
   "execution_count": 7,
   "id": "d79f40ae-259a-436b-93f8-a60cafacab47",
   "metadata": {},
   "outputs": [],
   "source": [
    "g = Graph(\n",
    "    stmt1,\n",
    "    stmt2,\n",
    "    wd.canonical_SMILES(wd.benzene, 'C1=CC=CC=C1'),\n",
    ")"
   ]
  },
  {
   "cell_type": "markdown",
   "id": "a926e176-1c78-4f82-bf4c-3c7ee497cd27",
   "metadata": {},
   "source": [
    "We can serialize graph `g` using `g.to_rdf()`."
   ]
  },
  {
   "cell_type": "markdown",
   "id": "e8678827-e443-49db-81a3-b47e977f51d9",
   "metadata": {},
   "source": [
    "Now, instead of showing the output RDF string, let's load it into an RDF store, and use the store to obtain the original statements:"
   ]
  },
  {
   "cell_type": "code",
   "execution_count": 8,
   "id": "f8a1a9a8-6900-43b0-b872-224590159964",
   "metadata": {},
   "outputs": [
    {
     "data": {
      "text/markdown": [
       "(**AnnotatedStatement** (**Item** [benzene](http://www.wikidata.org/entity/Q2270)) (**ValueSnak** (**Property** [canonical SMILES](http://www.wikidata.org/entity/P233)) \"C1=CC=CC=C1\")\n",
       "- (**QualifierRecord**)\n",
       "- (**ReferenceRecordSet**)\n",
       "- **NormalRank**)"
      ],
      "text/plain": [
       "AnnotatedStatement(Item(IRI('http://www.wikidata.org/entity/Q2270')), ValueSnak(Property(IRI('http://www.wikidata.org/entity/P233'), StringDatatype()), String('C1=CC=CC=C1')), QualifierRecord(), ReferenceRecordSet(), NormalRank())"
      ]
     },
     "metadata": {},
     "output_type": "display_data"
    },
    {
     "data": {
      "text/markdown": [
       "(**AnnotatedStatement** (**Item** [benzene](http://www.wikidata.org/entity/Q2270)) (**ValueSnak** (**Property** [mass](http://www.wikidata.org/entity/P2067)) (**Quantity** 78.046950192 (**Item** [dalton](http://www.wikidata.org/entity/Q483261))))\n",
       "- (**QualifierRecord**)\n",
       "- (**ReferenceRecordSet**)\n",
       "- **NormalRank**)"
      ],
      "text/plain": [
       "AnnotatedStatement(Item(IRI('http://www.wikidata.org/entity/Q2270')), ValueSnak(Property(IRI('http://www.wikidata.org/entity/P2067'), QuantityDatatype()), Quantity(Decimal('78.046950192'), Item(IRI('http://www.wikidata.org/entity/Q483261')), None, None)), QualifierRecord(), ReferenceRecordSet(), NormalRank())"
      ]
     },
     "metadata": {},
     "output_type": "display_data"
    },
    {
     "data": {
      "text/markdown": [
       "(**AnnotatedStatement** (**Item** [benzene](http://www.wikidata.org/entity/Q2270)) (**ValueSnak** (**Property** [density](http://www.wikidata.org/entity/P2054)) (**Quantity** 0.88 ±0.01 (**Item** [gram per cubic centimetre](http://www.wikidata.org/entity/Q13147228))))\n",
       "- (**QualifierRecord**\n",
       "  - (**ValueSnak** (**Property** [temperature](http://www.wikidata.org/entity/P2076)) (**Quantity** 21 (**Item** [degree Celsius](http://www.wikidata.org/entity/Q25267))))\n",
       "  - (**ValueSnak** (**Property** [phase of matter](http://www.wikidata.org/entity/P515)) (**Item** [liquid](http://www.wikidata.org/entity/Q11435))))\n",
       "- (**ReferenceRecordSet**\n",
       "  - (**ReferenceRecord**\n",
       "    - (**ValueSnak** (**Property** [stated in](http://www.wikidata.org/entity/P248)) (**Item** [PubChem](http://www.wikidata.org/entity/Q278487)))\n",
       "    - (**ValueSnak** (**Property** [retrieved](http://www.wikidata.org/entity/P813)) (**Time** 2024-12-30))))\n",
       "- **PreferredRank**)"
      ],
      "text/plain": [
       "AnnotatedStatement(Item(IRI('http://www.wikidata.org/entity/Q2270')), ValueSnak(Property(IRI('http://www.wikidata.org/entity/P2054'), QuantityDatatype()), Quantity(Decimal('0.88'), Item(IRI('http://www.wikidata.org/entity/Q13147228')), Decimal('0.87'), Decimal('0.89'))), QualifierRecord(ValueSnak(Property(IRI('http://www.wikidata.org/entity/P2076'), QuantityDatatype()), Quantity(Decimal('21'), Item(IRI('http://www.wikidata.org/entity/Q25267')), None, None)), ValueSnak(Property(IRI('http://www.wikidata.org/entity/P515'), ItemDatatype()), Item(IRI('http://www.wikidata.org/entity/Q11435')))), ReferenceRecordSet(ReferenceRecord(ValueSnak(Property(IRI('http://www.wikidata.org/entity/P248'), ItemDatatype()), Item(IRI('http://www.wikidata.org/entity/Q278487'))), ValueSnak(Property(IRI('http://www.wikidata.org/entity/P813'), TimeDatatype()), Time(datetime.datetime(2024, 12, 30, 0, 0, tzinfo=datetime.timezone.utc), None, None, None)))), PreferredRank())"
      ]
     },
     "metadata": {},
     "output_type": "display_data"
    }
   ],
   "source": [
    "kb = Store('rdf', data=g.to_rdf())\n",
    "for stmt in kb.filter_annotated():\n",
    "    display(stmt)"
   ]
  },
  {
   "cell_type": "markdown",
   "id": "d339a011-9b1e-47f5-a5bc-a30d1e139271",
   "metadata": {},
   "source": [
    "## Non-Wikidata properties"
   ]
  },
  {
   "cell_type": "markdown",
   "id": "45c30b08-c8fc-4844-aa05-db92b8c6c1b8",
   "metadata": {},
   "source": [
    "To serialize non-Wikidata properties, we need to provide a `schema` argument to `.to_rdf()`.\n",
    "\n",
    "The schema specifies the values of the URIs \"p\", \"ps\", \"psv\", etc., for the property or properties to be encoded.\n",
    "\n",
    "For example:"
   ]
  },
  {
   "cell_type": "code",
   "execution_count": 9,
   "id": "1ab45557-8cef-4b76-852c-608d0e72b835",
   "metadata": {},
   "outputs": [
    {
     "data": {
      "text/markdown": [
       "(**Statement** (**Item** [benzene](http://www.wikidata.org/entity/Q2270)) (**ValueSnak** (**Property** [http://www.ibm.com/kif/myprop](http://www.ibm.com/kif/myprop)) (**Quantity** 0)))"
      ],
      "text/plain": [
       "Statement(Item(IRI('http://www.wikidata.org/entity/Q2270')), ValueSnak(Property(IRI('http://www.ibm.com/kif/myprop'), QuantityDatatype()), Quantity(Decimal('0'), None, None, None)))"
      ]
     },
     "execution_count": 9,
     "metadata": {},
     "output_type": "execute_result"
    }
   ],
   "source": [
    "stmt = Property('http://www.ibm.com/kif/myprop', Quantity)(wd.benzene, 0)\n",
    "stmt"
   ]
  },
  {
   "cell_type": "code",
   "execution_count": 10,
   "id": "3272047e-78d6-4c58-834a-7976f20399ee",
   "metadata": {},
   "outputs": [
    {
     "name": "stdout",
     "output_type": "stream",
     "text": [
      "<http://www.ibm.com/kif/myprop> <http://www.w3.org/1999/02/22-rdf-syntax-ns#type> <http://wikiba.se/ontology#Property> .\n",
      "<http://www.ibm.com/kif/myprop> <http://wikiba.se/ontology#propertyType> <http://wikiba.se/ontology#Quantity> .\n",
      "<http://www.ibm.com/kif/myprop> <http://wikiba.se/ontology#claim> <http://www.ibm.com/kif/p_myprop> .\n",
      "<http://www.ibm.com/kif/myprop> <http://wikiba.se/ontology#qualifier> <http://www.ibm.com/kif/pq_myprop> .\n",
      "<http://www.ibm.com/kif/myprop> <http://wikiba.se/ontology#qualifierValue> <http://www.ibm.com/kif/pqv_myprop> .\n",
      "<http://www.ibm.com/kif/myprop> <http://wikiba.se/ontology#reference> <http://www.ibm.com/kif/pr_myprop> .\n",
      "<http://www.ibm.com/kif/myprop> <http://wikiba.se/ontology#referenceValue> <http://www.ibm.com/kif/prv_myprop> .\n",
      "<http://www.ibm.com/kif/myprop> <http://wikiba.se/ontology#statementProperty> <http://www.ibm.com/kif/ps_myprop> .\n",
      "<http://www.ibm.com/kif/myprop> <http://wikiba.se/ontology#statementValue> <http://www.ibm.com/kif/psv_myprop> .\n",
      "<http://www.ibm.com/kif/myprop> <http://wikiba.se/ontology#novalue> <http://www.ibm.com/kif/wdno_myprop> .\n",
      "<http://www.ibm.com/kif/myprop> <http://wikiba.se/ontology#directClaim> <http://www.ibm.com/kif/wdt_myprop> .\n",
      "<http://www.wikidata.org/entity/Q2270> <http://wikiba.se/ontology#sitelinks> \"0\"^^<http://www.w3.org/2001/XMLSchema#integer> .\n",
      "<http://www.wikidata.org/entity/Q2270> <http://www.ibm.com/kif/p_myprop> <http://www.wikidata.org/entity/statement/90e300a97af36cbc507a593c7723fb49073be03df9cb5bdee3a716bed189d705> .\n",
      "<http://www.wikidata.org/entity/Q2270> <http://www.ibm.com/kif/wdt_myprop> \"0\"^^<http://www.w3.org/2001/XMLSchema#decimal> .\n",
      "<http://www.wikidata.org/value/fc30a851eee11a5b926a456967a07b4dda2c561eb8ab03a0dc09d53721156531> <http://www.w3.org/1999/02/22-rdf-syntax-ns#type> <http://wikiba.se/ontology#QuantityValue> .\n",
      "<http://www.wikidata.org/value/fc30a851eee11a5b926a456967a07b4dda2c561eb8ab03a0dc09d53721156531> <http://wikiba.se/ontology#quantityAmount> \"0\"^^<http://www.w3.org/2001/XMLSchema#decimal> .\n",
      "<http://www.wikidata.org/entity/statement/90e300a97af36cbc507a593c7723fb49073be03df9cb5bdee3a716bed189d705> <http://www.ibm.com/kif/ps_myprop> \"0\"^^<http://www.w3.org/2001/XMLSchema#decimal> .\n",
      "<http://www.wikidata.org/entity/statement/90e300a97af36cbc507a593c7723fb49073be03df9cb5bdee3a716bed189d705> <http://www.ibm.com/kif/psv_myprop> <http://www.wikidata.org/value/fc30a851eee11a5b926a456967a07b4dda2c561eb8ab03a0dc09d53721156531> .\n",
      "<http://www.wikidata.org/entity/statement/90e300a97af36cbc507a593c7723fb49073be03df9cb5bdee3a716bed189d705> <http://www.w3.org/1999/02/22-rdf-syntax-ns#type> <http://wikiba.se/ontology#BestRank> .\n",
      "<http://www.wikidata.org/entity/statement/90e300a97af36cbc507a593c7723fb49073be03df9cb5bdee3a716bed189d705> <http://wikiba.se/ontology#rank> <http://wikiba.se/ontology#NormalRank> .\n",
      "\n"
     ]
    }
   ],
   "source": [
    "data = stmt.to_rdf(schema={\n",
    "    Property('http://www.ibm.com/kif/myprop', Quantity): {\n",
    "        'p': 'http://www.ibm.com/kif/p_myprop',\n",
    "        'pq': 'http://www.ibm.com/kif/pq_myprop',\n",
    "        'pqv': 'http://www.ibm.com/kif/pqv_myprop',\n",
    "        'pr': 'http://www.ibm.com/kif/pr_myprop',\n",
    "        'prv': 'http://www.ibm.com/kif/prv_myprop',\n",
    "        'ps': 'http://www.ibm.com/kif/ps_myprop',\n",
    "        'psv': 'http://www.ibm.com/kif/psv_myprop',\n",
    "        'wdno': 'http://www.ibm.com/kif/wdno_myprop',\n",
    "        'wdt': 'http://www.ibm.com/kif/wdt_myprop',\n",
    "    }\n",
    "})\n",
    "print(data)"
   ]
  },
  {
   "cell_type": "code",
   "execution_count": 11,
   "id": "4ff6504a-59af-4f5d-be2a-d2728856f915",
   "metadata": {},
   "outputs": [
    {
     "data": {
      "text/markdown": [
       "(**Statement** (**Item** [benzene](http://www.wikidata.org/entity/Q2270)) (**ValueSnak** (**Property** [http://www.ibm.com/kif/myprop](http://www.ibm.com/kif/myprop)) (**Quantity** 0)))"
      ],
      "text/plain": [
       "Statement(Item(IRI('http://www.wikidata.org/entity/Q2270')), ValueSnak(Property(IRI('http://www.ibm.com/kif/myprop'), QuantityDatatype()), Quantity(Decimal('0'), None, None, None)))"
      ]
     },
     "metadata": {},
     "output_type": "display_data"
    }
   ],
   "source": [
    "for stmt in Store('rdf', data=data):\n",
    "    display(stmt)"
   ]
  }
 ],
 "metadata": {
  "kernelspec": {
   "display_name": "venv313",
   "language": "python",
   "name": "venv313"
  },
  "language_info": {
   "codemirror_mode": {
    "name": "ipython",
    "version": 3
   },
   "file_extension": ".py",
   "mimetype": "text/x-python",
   "name": "python",
   "nbconvert_exporter": "python",
   "pygments_lexer": "ipython3",
   "version": "3.13.1"
  }
 },
 "nbformat": 4,
 "nbformat_minor": 5
}
