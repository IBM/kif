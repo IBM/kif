{
 "cells": [
  {
   "cell_type": "code",
   "execution_count": 1,
   "id": "a99e23d9-1753-446c-9d3b-cc250b53e1b6",
   "metadata": {},
   "outputs": [
    {
     "name": "stdout",
     "output_type": "stream",
     "text": [
      "env: KIF_DEBUG=\n",
      "env: KIF_RESOLVE_ENTITIES=1\n"
     ]
    }
   ],
   "source": [
    "%env KIF_DEBUG=\n",
    "%env KIF_RESOLVE_ENTITIES=1"
   ]
  },
  {
   "cell_type": "markdown",
   "id": "ad7fd463-1297-4150-a61d-eaad7958714e",
   "metadata": {},
   "source": [
    "# SPARQL Mapping"
   ]
  },
  {
   "cell_type": "code",
   "execution_count": 2,
   "id": "306caf42-c078-4081-92cc-e28a96fb5df4",
   "metadata": {},
   "outputs": [],
   "source": [
    "from kif_lib import *\n",
    "from kif_lib.vocabulary import pc, wd"
   ]
  },
  {
   "cell_type": "markdown",
   "id": "aa302ce4-ce4d-4c89-b47c-773e6f21e918",
   "metadata": {},
   "source": [
    "### The mapping"
   ]
  },
  {
   "cell_type": "code",
   "execution_count": 3,
   "id": "7ede55a2-e68b-42ef-9676-7467d36fcb5d",
   "metadata": {},
   "outputs": [],
   "source": [
    "from kif_lib.compiler.sparql.mapping import SPARQL_Mapping, register\n",
    "from kif_lib.namespace import RDF, XSD\n",
    "from kif_lib.namespace.semsci import CHEMINF, SIO\n",
    "x, y, z = Variables('x', 'y', 'z')"
   ]
  },
  {
   "cell_type": "code",
   "execution_count": 22,
   "id": "5ce05397-8367-4821-939d-b915aaecead5",
   "metadata": {},
   "outputs": [],
   "source": [
    "class MyPubChemMapping(SPARQL_Mapping):\n",
    "\n",
    "    @register([wd.canonical_SMILES(Item(x), String(y))], rank=Normal)\n",
    "    def wd_canonical_SMILES(self, c, x, y):\n",
    "        if isinstance(y, c.Query.Literal):\n",
    "            y = c.literal(str(y), 'en')\n",
    "        attr = c.bnode()\n",
    "        c.q.triples()(\n",
    "            (x, SIO.has_attribute, attr),\n",
    "            (attr, RDF.type, CHEMINF.canonical_smiles_generated_by_OEChem),\n",
    "            (attr, SIO.has_value, y))\n",
    "\n",
    "    @register([wd.mass(Item(x), Quantity(y, wd.gram_per_mole))], rank=Normal)\n",
    "    def wd_mass(self, c, x, y):\n",
    "        if isinstance(y, c.Query.Literal):\n",
    "            y = c.literal(y, datatype=XSD.float)\n",
    "        attr = c.bnode()\n",
    "        c.q.triples()(\n",
    "            (x, SIO.has_attribute, attr),\n",
    "            (attr, RDF.type, CHEMINF.molecular_weight_calculated_by_the_pubchem_software_library),\n",
    "            (attr, SIO.has_value, y))\n",
    "    \n",
    "    @register([wd.instance_of(pc.Isotope_Atom_Count, wd.Wikidata_property_related_to_chemistry)], rank=Normal)\n",
    "    def wd_instance_of_Isotope_Atom_Count(self, c):\n",
    "        pass\n",
    "\n",
    "    @register([pc.Isotope_Atom_Count(Item(x), Quantity(y))], rank=Normal)\n",
    "    def wd_Isotope_Atom_Count(self, c, x, y):\n",
    "        if isinstance(y, c.Query.Literal):\n",
    "            y = c.literal(y, datatype=XSD.float)\n",
    "        attr = c.bnode()\n",
    "        c.q.triples()(\n",
    "            (x, SIO.has_attribute, attr),\n",
    "            (attr, RDF.type, CHEMINF.isotope_atom_count_generated_by_pubchem_software_library),\n",
    "            (attr, SIO.has_value, y))"
   ]
  },
  {
   "cell_type": "markdown",
   "id": "db557109-1ddc-4c9f-a113-11b9ea4bd6e7",
   "metadata": {},
   "source": [
    "### Example queries"
   ]
  },
  {
   "cell_type": "code",
   "execution_count": 23,
   "id": "3146aa8a-6814-4541-8d61-d357e46b76c1",
   "metadata": {},
   "outputs": [],
   "source": [
    "DATA = '''\n",
    "@prefix cid: <http://rdf.ncbi.nlm.nih.gov/pubchem/compound/> .\n",
    "@prefix semsci: <http://semanticscience.org/resource/> .\n",
    "\n",
    "# instance of - type of a chemical entity\n",
    "cid:CID241 semsci:SIO_000008 [\n",
    "        a semsci:CHEMINF_000140 ;\n",
    "        ] .\n",
    "\n",
    "# mass - 78.11 gram per mole\n",
    "cid:CID241 semsci:SIO_000008 [\n",
    "        a semsci:CHEMINF_000334 ;\n",
    "        semsci:SIO_000300 \"78.11\" ;\n",
    "        ] .\n",
    "'''"
   ]
  },
  {
   "cell_type": "code",
   "execution_count": 24,
   "id": "67395237-d466-4c58-b235-a8602ed086f1",
   "metadata": {},
   "outputs": [],
   "source": [
    "kb = Store('sparql', mapping=MyPubChemMapping(), data=DATA)"
   ]
  },
  {
   "cell_type": "code",
   "execution_count": 25,
   "id": "e290694f-0550-4329-8f4a-7f7b8cdc53ac",
   "metadata": {},
   "outputs": [
    {
     "data": {
      "text/markdown": [
       "(**AnnotatedStatement** (**Property** [http://semanticscience.org/resource/CHEMINF_000372](http://semanticscience.org/resource/CHEMINF_000372)) (**ValueSnak** (**Property** [instance of](http://www.wikidata.org/entity/P31)) (**Item** [Wikidata property related to chemistry](http://www.wikidata.org/entity/Q21294996)))\n",
       "- (**QualifierRecord**)\n",
       "- (**ReferenceRecordSet**)\n",
       "- **NormalRank**)"
      ],
      "text/plain": [
       "AnnotatedStatement(Property(IRI('http://semanticscience.org/resource/CHEMINF_000372'), QuantityDatatype()), ValueSnak(Property(IRI('http://www.wikidata.org/entity/P31'), ItemDatatype()), Item(IRI('http://www.wikidata.org/entity/Q21294996'))), QualifierRecord(), ReferenceRecordSet(), NormalRank())"
      ]
     },
     "metadata": {},
     "output_type": "display_data"
    },
    {
     "data": {
      "text/markdown": [
       "(**AnnotatedStatement** (**Item** [[6]annulene](http://rdf.ncbi.nlm.nih.gov/pubchem/compound/CID241)) (**ValueSnak** (**Property** [mass](http://www.wikidata.org/entity/P2067)) (**Quantity** 78.11 (**Item** [gram per mole](http://www.wikidata.org/entity/Q28924752))))\n",
       "- (**QualifierRecord**)\n",
       "- (**ReferenceRecordSet**)\n",
       "- **NormalRank**)"
      ],
      "text/plain": [
       "AnnotatedStatement(Item(IRI('http://rdf.ncbi.nlm.nih.gov/pubchem/compound/CID241')), ValueSnak(Property(IRI('http://www.wikidata.org/entity/P2067'), QuantityDatatype()), Quantity(Decimal('78.11'), Item(IRI('http://www.wikidata.org/entity/Q28924752')), None, None)), QualifierRecord(), ReferenceRecordSet(), NormalRank())"
      ]
     },
     "metadata": {},
     "output_type": "display_data"
    }
   ],
   "source": [
    "display(*kb.filter(annotated=True))"
   ]
  }
 ],
 "metadata": {
  "kernelspec": {
   "display_name": "venv313",
   "language": "python",
   "name": "venv313"
  },
  "language_info": {
   "codemirror_mode": {
    "name": "ipython",
    "version": 3
   },
   "file_extension": ".py",
   "mimetype": "text/x-python",
   "name": "python",
   "nbconvert_exporter": "python",
   "pygments_lexer": "ipython3",
   "version": "3.13.2"
  }
 },
 "nbformat": 4,
 "nbformat_minor": 5
}
