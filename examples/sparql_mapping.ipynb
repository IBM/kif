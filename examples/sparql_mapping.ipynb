{
 "cells": [
  {
   "cell_type": "markdown",
   "id": "ad7fd463-1297-4150-a61d-eaad7958714e",
   "metadata": {},
   "source": [
    "# SPARQL Mapping"
   ]
  },
  {
   "cell_type": "code",
   "execution_count": 1,
   "id": "306caf42-c078-4081-92cc-e28a96fb5df4",
   "metadata": {},
   "outputs": [],
   "source": [
    "from kif_lib import *\n",
    "from kif_lib.vocabulary import pc, wd"
   ]
  },
  {
   "cell_type": "markdown",
   "id": "aa302ce4-ce4d-4c89-b47c-773e6f21e918",
   "metadata": {},
   "source": [
    "### The mapping"
   ]
  },
  {
   "cell_type": "code",
   "execution_count": 2,
   "id": "7ede55a2-e68b-42ef-9676-7467d36fcb5d",
   "metadata": {},
   "outputs": [],
   "source": [
    "from kif_lib.compiler.sparql.mapping import SPARQL_Mapping, register\n",
    "from kif_lib.namespace import RDF, XSD\n",
    "from kif_lib.namespace.semsci import CHEMINF, SIO\n",
    "x, y, z = Variables('x', 'y', 'z')"
   ]
  },
  {
   "cell_type": "code",
   "execution_count": 3,
   "id": "5ce05397-8367-4821-939d-b915aaecead5",
   "metadata": {},
   "outputs": [],
   "source": [
    "class PubChemMapping(SPARQL_Mapping):\n",
    "\n",
    "    @register(wd.canonical_SMILES(Item(x), String(y)))\n",
    "    def wd_canonical_SMILES(self, c, x, y):\n",
    "        if isinstance(y, c.Query.Literal):\n",
    "            y = c.literal(str(y), 'en')\n",
    "        attr = c.bnode()\n",
    "        c.q.triples()(\n",
    "            (x, SIO.has_attribute, attr),\n",
    "            (attr, RDF.type, CHEMINF.canonical_smiles_generated_by_OEChem),\n",
    "            (attr, SIO.has_value, y))\n",
    "\n",
    "    @register(wd.mass(Item(x), Quantity(y, wd.gram_per_mole)))\n",
    "    def wd_mass(self, c, x, y):\n",
    "        if isinstance(y, c.Query.Literal):\n",
    "            y = c.literal(y, datatype=XSD.float)\n",
    "        attr = c.bnode()\n",
    "        c.q.triples()(\n",
    "            (x, SIO.has_attribute, attr),\n",
    "            (attr, RDF.type, CHEMINF.molecular_weight_calculated_by_the_pubchem_software_library),\n",
    "            (attr, SIO.has_value, y))\n",
    "    \n",
    "    @register(wd.instance_of(pc.Isotope_Atom_Count, wd.Wikidata_property_related_to_chemistry))\n",
    "    def wd_instance_of_Isotope_Atom_Count(self, c):\n",
    "        pass\n",
    "\n",
    "    @register(pc.Isotope_Atom_Count(Item(x), Quantity(y)))\n",
    "    def wd_Isotope_Atom_Count(self, c, x, y):\n",
    "        if isinstance(y, c.Query.Literal):\n",
    "            y = c.literal(y, datatype=XSD.float)\n",
    "        attr = c.bnode()\n",
    "        c.q.triples()(\n",
    "            (x, SIO.has_attribute, attr),\n",
    "            (attr, RDF.type, CHEMINF.isotope_atom_count_generated_by_pubchem_software_library),\n",
    "            (attr, SIO.has_value, y))"
   ]
  },
  {
   "cell_type": "markdown",
   "id": "db557109-1ddc-4c9f-a113-11b9ea4bd6e7",
   "metadata": {},
   "source": [
    "### Example queries"
   ]
  },
  {
   "cell_type": "code",
   "execution_count": 4,
   "id": "58d16279-8a99-4f53-aa05-6f22413cadbb",
   "metadata": {},
   "outputs": [],
   "source": [
    "import logging\n",
    "logging.basicConfig(level=logging.ERROR)"
   ]
  },
  {
   "cell_type": "code",
   "execution_count": 5,
   "id": "3146aa8a-6814-4541-8d61-d357e46b76c1",
   "metadata": {},
   "outputs": [],
   "source": [
    "import os\n",
    "PUBCHEM = os.getenv('PUBCHEM')\n",
    "assert PUBCHEM is not None, 'PUBCHEM envvar is not defined!'"
   ]
  },
  {
   "cell_type": "code",
   "execution_count": 6,
   "id": "67395237-d466-4c58-b235-a8602ed086f1",
   "metadata": {},
   "outputs": [],
   "source": [
    "kb = Store('sparql-mapper2', PUBCHEM, PubChemMapping())"
   ]
  },
  {
   "cell_type": "code",
   "execution_count": 7,
   "id": "e290694f-0550-4329-8f4a-7f7b8cdc53ac",
   "metadata": {},
   "outputs": [],
   "source": [
    "def filter(*args, **kwargs):\n",
    "    import time\n",
    "    t0 = time.time()\n",
    "    limit = kwargs.pop('limit', 3)\n",
    "    for stmt in kb.filter(*args, **kwargs, limit=limit):\n",
    "        display(stmt)\n",
    "    print(f'{time.time() - t0:.1f}s')"
   ]
  },
  {
   "cell_type": "code",
   "execution_count": 8,
   "id": "6ab3fecd-1771-4be3-b2cc-50b675ab842b",
   "metadata": {},
   "outputs": [
    {
     "data": {
      "text/markdown": [
       "(**Statement** (**Item** [http://rdf.ncbi.nlm.nih.gov/pubchem/compound/CID53488097](http://rdf.ncbi.nlm.nih.gov/pubchem/compound/CID53488097)) (**ValueSnak** (**Property** [canonical SMILES](http://www.wikidata.org/entity/P233)) \"CCCCCCCCC=CCCCCCCCCOCC1CO1\"))"
      ],
      "text/plain": [
       "Statement(Item(IRI('http://rdf.ncbi.nlm.nih.gov/pubchem/compound/CID53488097')), ValueSnak(Property(IRI('http://www.wikidata.org/entity/P233'), StringDatatype()), String('CCCCCCCCC=CCCCCCCCCOCC1CO1')))"
      ]
     },
     "metadata": {},
     "output_type": "display_data"
    },
    {
     "data": {
      "text/markdown": [
       "(**Statement** (**Item** [http://rdf.ncbi.nlm.nih.gov/pubchem/compound/CID53488169](http://rdf.ncbi.nlm.nih.gov/pubchem/compound/CID53488169)) (**ValueSnak** (**Property** [canonical SMILES](http://www.wikidata.org/entity/P233)) \"CC(=CCCC1(C2CCC(C2)C1=C)C)CO.CC(=CCCC1(C2CC3C1(C3C2)C)C)CO\"))"
      ],
      "text/plain": [
       "Statement(Item(IRI('http://rdf.ncbi.nlm.nih.gov/pubchem/compound/CID53488169')), ValueSnak(Property(IRI('http://www.wikidata.org/entity/P233'), StringDatatype()), String('CC(=CCCC1(C2CCC(C2)C1=C)C)CO.CC(=CCCC1(C2CC3C1(C3C2)C)C)CO')))"
      ]
     },
     "metadata": {},
     "output_type": "display_data"
    },
    {
     "data": {
      "text/markdown": [
       "(**Statement** (**Item** [http://rdf.ncbi.nlm.nih.gov/pubchem/compound/CID53488170](http://rdf.ncbi.nlm.nih.gov/pubchem/compound/CID53488170)) (**ValueSnak** (**Property** [canonical SMILES](http://www.wikidata.org/entity/P233)) \"CC(=CCCC1(C2CCC(C2)C1=C)C)CO\"))"
      ],
      "text/plain": [
       "Statement(Item(IRI('http://rdf.ncbi.nlm.nih.gov/pubchem/compound/CID53488170')), ValueSnak(Property(IRI('http://www.wikidata.org/entity/P233'), StringDatatype()), String('CC(=CCCC1(C2CCC(C2)C1=C)C)CO')))"
      ]
     },
     "metadata": {},
     "output_type": "display_data"
    },
    {
     "name": "stdout",
     "output_type": "stream",
     "text": [
      "1.1s\n"
     ]
    }
   ],
   "source": [
    "filter(limit=3)"
   ]
  },
  {
   "cell_type": "code",
   "execution_count": 9,
   "id": "f48ba750-1d04-4c7d-a9e1-f87ae00849a7",
   "metadata": {},
   "outputs": [
    {
     "data": {
      "text/markdown": [
       "(**Statement** (**Item** [http://rdf.ncbi.nlm.nih.gov/pubchem/compound/CID241](http://rdf.ncbi.nlm.nih.gov/pubchem/compound/CID241)) (**ValueSnak** (**Property** [canonical SMILES](http://www.wikidata.org/entity/P233)) \"C1=CC=CC=C1\"))"
      ],
      "text/plain": [
       "Statement(Item(IRI('http://rdf.ncbi.nlm.nih.gov/pubchem/compound/CID241')), ValueSnak(Property(IRI('http://www.wikidata.org/entity/P233'), StringDatatype()), String('C1=CC=CC=C1')))"
      ]
     },
     "metadata": {},
     "output_type": "display_data"
    },
    {
     "data": {
      "text/markdown": [
       "(**Statement** (**Item** [http://rdf.ncbi.nlm.nih.gov/pubchem/compound/CID241](http://rdf.ncbi.nlm.nih.gov/pubchem/compound/CID241)) (**ValueSnak** (**Property** [mass](http://www.wikidata.org/entity/P2067)) (**Quantity** 78.11 (**Item** [gram per mole](http://www.wikidata.org/entity/Q28924752)))))"
      ],
      "text/plain": [
       "Statement(Item(IRI('http://rdf.ncbi.nlm.nih.gov/pubchem/compound/CID241')), ValueSnak(Property(IRI('http://www.wikidata.org/entity/P2067'), QuantityDatatype()), Quantity(Decimal('78.11'), Item(IRI('http://www.wikidata.org/entity/Q28924752')), None, None)))"
      ]
     },
     "metadata": {},
     "output_type": "display_data"
    },
    {
     "data": {
      "text/markdown": [
       "(**Statement** (**Item** [http://rdf.ncbi.nlm.nih.gov/pubchem/compound/CID241](http://rdf.ncbi.nlm.nih.gov/pubchem/compound/CID241)) (**ValueSnak** (**Property** [http://semanticscience.org/resource/CHEMINF_000372](http://semanticscience.org/resource/CHEMINF_000372)) (**Quantity** 0)))"
      ],
      "text/plain": [
       "Statement(Item(IRI('http://rdf.ncbi.nlm.nih.gov/pubchem/compound/CID241')), ValueSnak(Property(IRI('http://semanticscience.org/resource/CHEMINF_000372'), QuantityDatatype()), Quantity(Decimal('0'), None, None, None)))"
      ]
     },
     "metadata": {},
     "output_type": "display_data"
    },
    {
     "name": "stdout",
     "output_type": "stream",
     "text": [
      "0.2s\n"
     ]
    }
   ],
   "source": [
    "filter(subject=pc.CID(241))"
   ]
  },
  {
   "cell_type": "code",
   "execution_count": 10,
   "id": "c0516e39-6712-4d5d-ad22-ba18495a7e24",
   "metadata": {},
   "outputs": [
    {
     "data": {
      "text/markdown": [
       "(**Statement** (**Item** [http://rdf.ncbi.nlm.nih.gov/pubchem/compound/CID53487882](http://rdf.ncbi.nlm.nih.gov/pubchem/compound/CID53487882)) (**ValueSnak** (**Property** [mass](http://www.wikidata.org/entity/P2067)) (**Quantity** 466.6 (**Item** [gram per mole](http://www.wikidata.org/entity/Q28924752)))))"
      ],
      "text/plain": [
       "Statement(Item(IRI('http://rdf.ncbi.nlm.nih.gov/pubchem/compound/CID53487882')), ValueSnak(Property(IRI('http://www.wikidata.org/entity/P2067'), QuantityDatatype()), Quantity(Decimal('466.6'), Item(IRI('http://www.wikidata.org/entity/Q28924752')), None, None)))"
      ]
     },
     "metadata": {},
     "output_type": "display_data"
    },
    {
     "data": {
      "text/markdown": [
       "(**Statement** (**Item** [http://rdf.ncbi.nlm.nih.gov/pubchem/compound/CID53488097](http://rdf.ncbi.nlm.nih.gov/pubchem/compound/CID53488097)) (**ValueSnak** (**Property** [mass](http://www.wikidata.org/entity/P2067)) (**Quantity** 324.5 (**Item** [gram per mole](http://www.wikidata.org/entity/Q28924752)))))"
      ],
      "text/plain": [
       "Statement(Item(IRI('http://rdf.ncbi.nlm.nih.gov/pubchem/compound/CID53488097')), ValueSnak(Property(IRI('http://www.wikidata.org/entity/P2067'), QuantityDatatype()), Quantity(Decimal('324.5'), Item(IRI('http://www.wikidata.org/entity/Q28924752')), None, None)))"
      ]
     },
     "metadata": {},
     "output_type": "display_data"
    },
    {
     "data": {
      "text/markdown": [
       "(**Statement** (**Item** [http://rdf.ncbi.nlm.nih.gov/pubchem/compound/CID53488169](http://rdf.ncbi.nlm.nih.gov/pubchem/compound/CID53488169)) (**ValueSnak** (**Property** [mass](http://www.wikidata.org/entity/P2067)) (**Quantity** 440.7 (**Item** [gram per mole](http://www.wikidata.org/entity/Q28924752)))))"
      ],
      "text/plain": [
       "Statement(Item(IRI('http://rdf.ncbi.nlm.nih.gov/pubchem/compound/CID53488169')), ValueSnak(Property(IRI('http://www.wikidata.org/entity/P2067'), QuantityDatatype()), Quantity(Decimal('440.7'), Item(IRI('http://www.wikidata.org/entity/Q28924752')), None, None)))"
      ]
     },
     "metadata": {},
     "output_type": "display_data"
    },
    {
     "name": "stdout",
     "output_type": "stream",
     "text": [
      "0.2s\n"
     ]
    }
   ],
   "source": [
    "filter(property=wd.mass)"
   ]
  },
  {
   "cell_type": "code",
   "execution_count": 11,
   "id": "b731b988-01c3-4b12-a94c-8b43e862f1c8",
   "metadata": {},
   "outputs": [
    {
     "data": {
      "text/markdown": [
       "(**Statement** (**Item** [http://rdf.ncbi.nlm.nih.gov/pubchem/compound/CID143919](http://rdf.ncbi.nlm.nih.gov/pubchem/compound/CID143919)) (**ValueSnak** (**Property** [mass](http://www.wikidata.org/entity/P2067)) (**Quantity** 78.11 (**Item** [gram per mole](http://www.wikidata.org/entity/Q28924752)))))"
      ],
      "text/plain": [
       "Statement(Item(IRI('http://rdf.ncbi.nlm.nih.gov/pubchem/compound/CID143919')), ValueSnak(Property(IRI('http://www.wikidata.org/entity/P2067'), QuantityDatatype()), Quantity(Decimal('78.11'), Item(IRI('http://www.wikidata.org/entity/Q28924752')), None, None)))"
      ]
     },
     "metadata": {},
     "output_type": "display_data"
    },
    {
     "data": {
      "text/markdown": [
       "(**Statement** (**Item** [http://rdf.ncbi.nlm.nih.gov/pubchem/compound/CID85607149](http://rdf.ncbi.nlm.nih.gov/pubchem/compound/CID85607149)) (**ValueSnak** (**Property** [mass](http://www.wikidata.org/entity/P2067)) (**Quantity** 78.11 (**Item** [gram per mole](http://www.wikidata.org/entity/Q28924752)))))"
      ],
      "text/plain": [
       "Statement(Item(IRI('http://rdf.ncbi.nlm.nih.gov/pubchem/compound/CID85607149')), ValueSnak(Property(IRI('http://www.wikidata.org/entity/P2067'), QuantityDatatype()), Quantity(Decimal('78.11'), Item(IRI('http://www.wikidata.org/entity/Q28924752')), None, None)))"
      ]
     },
     "metadata": {},
     "output_type": "display_data"
    },
    {
     "data": {
      "text/markdown": [
       "(**Statement** (**Item** [http://rdf.ncbi.nlm.nih.gov/pubchem/compound/CID163260](http://rdf.ncbi.nlm.nih.gov/pubchem/compound/CID163260)) (**ValueSnak** (**Property** [mass](http://www.wikidata.org/entity/P2067)) (**Quantity** 78.11 (**Item** [gram per mole](http://www.wikidata.org/entity/Q28924752)))))"
      ],
      "text/plain": [
       "Statement(Item(IRI('http://rdf.ncbi.nlm.nih.gov/pubchem/compound/CID163260')), ValueSnak(Property(IRI('http://www.wikidata.org/entity/P2067'), QuantityDatatype()), Quantity(Decimal('78.11'), Item(IRI('http://www.wikidata.org/entity/Q28924752')), None, None)))"
      ]
     },
     "metadata": {},
     "output_type": "display_data"
    },
    {
     "name": "stdout",
     "output_type": "stream",
     "text": [
      "0.2s\n"
     ]
    }
   ],
   "source": [
    "filter(value=Quantity('78.11', wd.gram_per_mole))"
   ]
  },
  {
   "cell_type": "code",
   "execution_count": 12,
   "id": "a29e8ec8-216f-4e97-9e53-b34862973078",
   "metadata": {},
   "outputs": [
    {
     "data": {
      "text/markdown": [
       "(**Statement** (**Property** [http://semanticscience.org/resource/CHEMINF_000372](http://semanticscience.org/resource/CHEMINF_000372)) (**ValueSnak** (**Property** [instance of](http://www.wikidata.org/entity/P31)) (**Item** [Wikidata property related to chemistry](http://www.wikidata.org/entity/Q21294996))))"
      ],
      "text/plain": [
       "Statement(Property(IRI('http://semanticscience.org/resource/CHEMINF_000372'), QuantityDatatype()), ValueSnak(Property(IRI('http://www.wikidata.org/entity/P31'), ItemDatatype()), Item(IRI('http://www.wikidata.org/entity/Q21294996'))))"
      ]
     },
     "metadata": {},
     "output_type": "display_data"
    },
    {
     "name": "stdout",
     "output_type": "stream",
     "text": [
      "0.2s\n"
     ]
    }
   ],
   "source": [
    "filter(property=wd.instance_of)"
   ]
  },
  {
   "cell_type": "code",
   "execution_count": 13,
   "id": "37ef3d21-cc11-4ece-8f26-008abe6f8f7b",
   "metadata": {},
   "outputs": [
    {
     "data": {
      "text/markdown": [
       "(**Statement** (**Item** [http://rdf.ncbi.nlm.nih.gov/pubchem/compound/CID53496129](http://rdf.ncbi.nlm.nih.gov/pubchem/compound/CID53496129)) (**ValueSnak** (**Property** [http://semanticscience.org/resource/CHEMINF_000372](http://semanticscience.org/resource/CHEMINF_000372)) (**Quantity** 1)))"
      ],
      "text/plain": [
       "Statement(Item(IRI('http://rdf.ncbi.nlm.nih.gov/pubchem/compound/CID53496129')), ValueSnak(Property(IRI('http://semanticscience.org/resource/CHEMINF_000372'), QuantityDatatype()), Quantity(Decimal('1'), None, None, None)))"
      ]
     },
     "metadata": {},
     "output_type": "display_data"
    },
    {
     "data": {
      "text/markdown": [
       "(**Statement** (**Item** [http://rdf.ncbi.nlm.nih.gov/pubchem/compound/CID53496258](http://rdf.ncbi.nlm.nih.gov/pubchem/compound/CID53496258)) (**ValueSnak** (**Property** [http://semanticscience.org/resource/CHEMINF_000372](http://semanticscience.org/resource/CHEMINF_000372)) (**Quantity** 1)))"
      ],
      "text/plain": [
       "Statement(Item(IRI('http://rdf.ncbi.nlm.nih.gov/pubchem/compound/CID53496258')), ValueSnak(Property(IRI('http://semanticscience.org/resource/CHEMINF_000372'), QuantityDatatype()), Quantity(Decimal('1'), None, None, None)))"
      ]
     },
     "metadata": {},
     "output_type": "display_data"
    },
    {
     "data": {
      "text/markdown": [
       "(**Statement** (**Item** [http://rdf.ncbi.nlm.nih.gov/pubchem/compound/CID53649691](http://rdf.ncbi.nlm.nih.gov/pubchem/compound/CID53649691)) (**ValueSnak** (**Property** [http://semanticscience.org/resource/CHEMINF_000372](http://semanticscience.org/resource/CHEMINF_000372)) (**Quantity** 1)))"
      ],
      "text/plain": [
       "Statement(Item(IRI('http://rdf.ncbi.nlm.nih.gov/pubchem/compound/CID53649691')), ValueSnak(Property(IRI('http://semanticscience.org/resource/CHEMINF_000372'), QuantityDatatype()), Quantity(Decimal('1'), None, None, None)))"
      ]
     },
     "metadata": {},
     "output_type": "display_data"
    },
    {
     "name": "stdout",
     "output_type": "stream",
     "text": [
      "0.2s\n"
     ]
    }
   ],
   "source": [
    "filter(value=Quantity(1))"
   ]
  },
  {
   "cell_type": "code",
   "execution_count": 14,
   "id": "e560bfd4-4979-45bc-8314-adf980ac0636",
   "metadata": {},
   "outputs": [
    {
     "data": {
      "text/markdown": [
       "(**Statement** (**Item** [http://rdf.ncbi.nlm.nih.gov/pubchem/compound/CID53487882](http://rdf.ncbi.nlm.nih.gov/pubchem/compound/CID53487882)) (**ValueSnak** (**Property** [http://semanticscience.org/resource/CHEMINF_000372](http://semanticscience.org/resource/CHEMINF_000372)) (**Quantity** 0)))"
      ],
      "text/plain": [
       "Statement(Item(IRI('http://rdf.ncbi.nlm.nih.gov/pubchem/compound/CID53487882')), ValueSnak(Property(IRI('http://semanticscience.org/resource/CHEMINF_000372'), QuantityDatatype()), Quantity(Decimal('0'), None, None, None)))"
      ]
     },
     "metadata": {},
     "output_type": "display_data"
    },
    {
     "data": {
      "text/markdown": [
       "(**Statement** (**Item** [http://rdf.ncbi.nlm.nih.gov/pubchem/compound/CID53488097](http://rdf.ncbi.nlm.nih.gov/pubchem/compound/CID53488097)) (**ValueSnak** (**Property** [http://semanticscience.org/resource/CHEMINF_000372](http://semanticscience.org/resource/CHEMINF_000372)) (**Quantity** 0)))"
      ],
      "text/plain": [
       "Statement(Item(IRI('http://rdf.ncbi.nlm.nih.gov/pubchem/compound/CID53488097')), ValueSnak(Property(IRI('http://semanticscience.org/resource/CHEMINF_000372'), QuantityDatatype()), Quantity(Decimal('0'), None, None, None)))"
      ]
     },
     "metadata": {},
     "output_type": "display_data"
    },
    {
     "data": {
      "text/markdown": [
       "(**Statement** (**Item** [http://rdf.ncbi.nlm.nih.gov/pubchem/compound/CID53488169](http://rdf.ncbi.nlm.nih.gov/pubchem/compound/CID53488169)) (**ValueSnak** (**Property** [http://semanticscience.org/resource/CHEMINF_000372](http://semanticscience.org/resource/CHEMINF_000372)) (**Quantity** 0)))"
      ],
      "text/plain": [
       "Statement(Item(IRI('http://rdf.ncbi.nlm.nih.gov/pubchem/compound/CID53488169')), ValueSnak(Property(IRI('http://semanticscience.org/resource/CHEMINF_000372'), QuantityDatatype()), Quantity(Decimal('0'), None, None, None)))"
      ]
     },
     "metadata": {},
     "output_type": "display_data"
    },
    {
     "name": "stdout",
     "output_type": "stream",
     "text": [
      "0.2s\n"
     ]
    }
   ],
   "source": [
    "filter(property=pc.Isotope_Atom_Count)"
   ]
  },
  {
   "cell_type": "code",
   "execution_count": 15,
   "id": "6efbd40c-ac3b-4a11-bbb2-43842f7aa16a",
   "metadata": {},
   "outputs": [
    {
     "data": {
      "text/markdown": [
       "(**Statement** (**Item** [http://rdf.ncbi.nlm.nih.gov/pubchem/compound/CID421](http://rdf.ncbi.nlm.nih.gov/pubchem/compound/CID421)) (**ValueSnak** (**Property** [http://semanticscience.org/resource/CHEMINF_000372](http://semanticscience.org/resource/CHEMINF_000372)) (**Quantity** 0)))"
      ],
      "text/plain": [
       "Statement(Item(IRI('http://rdf.ncbi.nlm.nih.gov/pubchem/compound/CID421')), ValueSnak(Property(IRI('http://semanticscience.org/resource/CHEMINF_000372'), QuantityDatatype()), Quantity(Decimal('0'), None, None, None)))"
      ]
     },
     "metadata": {},
     "output_type": "display_data"
    },
    {
     "name": "stdout",
     "output_type": "stream",
     "text": [
      "0.2s\n"
     ]
    }
   ],
   "source": [
    "filter(subject=pc.CID(421), property=pc.Isotope_Atom_Count, value=Quantity(0))"
   ]
  }
 ],
 "metadata": {
  "kernelspec": {
   "display_name": "kif",
   "language": "python",
   "name": "kif"
  },
  "language_info": {
   "codemirror_mode": {
    "name": "ipython",
    "version": 3
   },
   "file_extension": ".py",
   "mimetype": "text/x-python",
   "name": "python",
   "nbconvert_exporter": "python",
   "pygments_lexer": "ipython3",
   "version": "3.12.6"
  }
 },
 "nbformat": 4,
 "nbformat_minor": 5
}
