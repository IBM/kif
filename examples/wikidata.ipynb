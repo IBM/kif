{
 "cells": [
  {
   "cell_type": "code",
   "execution_count": 1,
   "id": "5e05dd39-66d8-4560-bd94-3233aa184737",
   "metadata": {},
   "outputs": [
    {
     "name": "stdout",
     "output_type": "stream",
     "text": [
      "env: KIF_DEBUG=\n",
      "env: KIF_RESOLVE_ENTITIES=1\n"
     ]
    }
   ],
   "source": [
    "%env KIF_DEBUG=\n",
    "%env KIF_RESOLVE_ENTITIES=1"
   ]
  },
  {
   "cell_type": "markdown",
   "id": "5f44bffb-63cd-4962-a0ab-1cdf8a88db0d",
   "metadata": {},
   "source": [
    "# Wikidata"
   ]
  },
  {
   "cell_type": "code",
   "execution_count": 2,
   "id": "5873d2cb-8a6c-4101-b7fb-083222032f17",
   "metadata": {},
   "outputs": [],
   "source": [
    "from kif_lib import *\n",
    "from kif_lib.vocabulary import wd"
   ]
  },
  {
   "cell_type": "markdown",
   "id": "353135fb-0fd3-4e92-a9eb-0fc89d5485df",
   "metadata": {},
   "source": [
    "Create a SPARQL store with Wikidata mappings pointing to the official Wikidata query service:"
   ]
  },
  {
   "cell_type": "code",
   "execution_count": 3,
   "id": "68d52434-f049-46e9-a787-02cdc7e8f5a8",
   "metadata": {},
   "outputs": [],
   "source": [
    "kb = Store('wdqs') # assumes http://query.wikidata.org/sparql"
   ]
  },
  {
   "cell_type": "markdown",
   "id": "1879d5f9-56c5-489e-ba97-e5757a6c8565",
   "metadata": {},
   "source": [
    "If a limit on the number of results is not specified, assume 3:"
   ]
  },
  {
   "cell_type": "code",
   "execution_count": 4,
   "id": "eead5bb5-c8d4-417b-9bbe-3fe2ed89445a",
   "metadata": {},
   "outputs": [],
   "source": [
    "kb.limit = 3"
   ]
  },
  {
   "cell_type": "markdown",
   "id": "aed20acb-40e0-4a85-9ff4-0c5c1cfab1e2",
   "metadata": {},
   "source": [
    "## Label, aliases, and description (pseudo-properties)"
   ]
  },
  {
   "cell_type": "markdown",
   "id": "1d8bdb50-9b68-4e9a-8c48-4562355620e7",
   "metadata": {},
   "source": [
    "In KIF, the label, aliases, and description of entities can be obtained via pseudo-properties:"
   ]
  },
  {
   "cell_type": "markdown",
   "id": "975bbe9e-8a45-4913-825e-8d0a4c4e0106",
   "metadata": {},
   "source": [
    "*list the label, aliases, and description of Brazil in French*"
   ]
  },
  {
   "cell_type": "code",
   "execution_count": 5,
   "id": "2ed8d54b-db52-48f5-a59d-faec4b89df2d",
   "metadata": {},
   "outputs": [
    {
     "data": {
      "text/markdown": [
       "(**Graph**\n",
       "- (**Statement** (**Item** [Brazil](http://www.wikidata.org/entity/Q155)) (**ValueSnak** **AliasProperty** \"Amérique lusophone\"@fr))\n",
       "- (**Statement** (**Item** [Brazil](http://www.wikidata.org/entity/Q155)) (**ValueSnak** **AliasProperty** \"Auriverde\"@fr))\n",
       "- (**Statement** (**Item** [Brazil](http://www.wikidata.org/entity/Q155)) (**ValueSnak** **AliasProperty** \"Brasil\"@fr))\n",
       "- (**Statement** (**Item** [Brazil](http://www.wikidata.org/entity/Q155)) (**ValueSnak** **AliasProperty** \"Brazil\"@fr))\n",
       "- (**Statement** (**Item** [Brazil](http://www.wikidata.org/entity/Q155)) (**ValueSnak** **AliasProperty** \"Bresil\"@fr))\n",
       "- (**Statement** (**Item** [Brazil](http://www.wikidata.org/entity/Q155)) (**ValueSnak** **AliasProperty** \"Bré.\"@fr))\n",
       "- (**Statement** (**Item** [Brazil](http://www.wikidata.org/entity/Q155)) (**ValueSnak** **AliasProperty** \"Brésilien\"@fr))\n",
       "- (**Statement** (**Item** [Brazil](http://www.wikidata.org/entity/Q155)) (**ValueSnak** **AliasProperty** \"Brésilienne\"@fr))\n",
       "- (**Statement** (**Item** [Brazil](http://www.wikidata.org/entity/Q155)) (**ValueSnak** **DescriptionProperty** \"pays d'Amérique du Sud\"@fr))\n",
       "- (**Statement** (**Item** [Brazil](http://www.wikidata.org/entity/Q155)) (**ValueSnak** **LabelProperty** \"Brésil\"@fr)))"
      ],
      "text/plain": [
       "Graph(Statement(Item(IRI('http://www.wikidata.org/entity/Q155')), ValueSnak(AliasProperty(IRI('http://www.w3.org/2004/02/skos/core#altLabel'), TextDatatype()), Text('Amérique lusophone', 'fr'))), Statement(Item(IRI('http://www.wikidata.org/entity/Q155')), ValueSnak(AliasProperty(IRI('http://www.w3.org/2004/02/skos/core#altLabel'), TextDatatype()), Text('Auriverde', 'fr'))), Statement(Item(IRI('http://www.wikidata.org/entity/Q155')), ValueSnak(AliasProperty(IRI('http://www.w3.org/2004/02/skos/core#altLabel'), TextDatatype()), Text('Brasil', 'fr'))), Statement(Item(IRI('http://www.wikidata.org/entity/Q155')), ValueSnak(AliasProperty(IRI('http://www.w3.org/2004/02/skos/core#altLabel'), TextDatatype()), Text('Brazil', 'fr'))), Statement(Item(IRI('http://www.wikidata.org/entity/Q155')), ValueSnak(AliasProperty(IRI('http://www.w3.org/2004/02/skos/core#altLabel'), TextDatatype()), Text('Bresil', 'fr'))), Statement(Item(IRI('http://www.wikidata.org/entity/Q155')), ValueSnak(AliasProperty(IRI('http://www.w3.org/2004/02/skos/core#altLabel'), TextDatatype()), Text('Bré.', 'fr'))), Statement(Item(IRI('http://www.wikidata.org/entity/Q155')), ValueSnak(AliasProperty(IRI('http://www.w3.org/2004/02/skos/core#altLabel'), TextDatatype()), Text('Brésilien', 'fr'))), Statement(Item(IRI('http://www.wikidata.org/entity/Q155')), ValueSnak(AliasProperty(IRI('http://www.w3.org/2004/02/skos/core#altLabel'), TextDatatype()), Text('Brésilienne', 'fr'))), Statement(Item(IRI('http://www.wikidata.org/entity/Q155')), ValueSnak(DescriptionProperty(IRI('http://schema.org/description'), TextDatatype()), Text(\"pays d'Amérique du Sud\", 'fr'))), Statement(Item(IRI('http://www.wikidata.org/entity/Q155')), ValueSnak(LabelProperty(IRI('http://www.w3.org/2000/01/rdf-schema#label'), TextDatatype()), Text('Brésil', 'fr'))))"
      ]
     },
     "execution_count": 5,
     "metadata": {},
     "output_type": "execute_result"
    }
   ],
   "source": [
    "it = kb.filter(subject=wd.Brazil, property=wd.label | wd.alias | wd.description, language='fr', limit=10)\n",
    "g = Graph(*it)\n",
    "g"
   ]
  },
  {
   "cell_type": "code",
   "execution_count": 6,
   "id": "977877f2-2571-4c85-a697-c29b6fc2f326",
   "metadata": {},
   "outputs": [
    {
     "data": {
      "image/svg+xml": [
       "<?xml version=\"1.0\" encoding=\"UTF-8\" standalone=\"no\"?>\n",
       "<!DOCTYPE svg PUBLIC \"-//W3C//DTD SVG 1.1//EN\"\n",
       " \"http://www.w3.org/Graphics/SVG/1.1/DTD/svg11.dtd\">\n",
       "<!-- Generated by graphviz version 13.1.0 (20250701.0955)\n",
       " -->\n",
       "<!-- Pages: 1 -->\n",
       "<svg width=\"279pt\" height=\"346pt\"\n",
       " viewBox=\"0.00 0.00 279.00 346.00\" xmlns=\"http://www.w3.org/2000/svg\" xmlns:xlink=\"http://www.w3.org/1999/xlink\">\n",
       "<g id=\"graph0\" class=\"graph\" transform=\"scale(1 1) rotate(0) translate(4 341.68)\">\n",
       "<polygon fill=\"white\" stroke=\"none\" points=\"-4,4 -4,-341.68 274.75,-341.68 274.75,4 -4,4\"/>\n",
       "<!-- 9d47eddebf7608a0460d1ad81d544857dc24411cdf6825706718c66574af4d17 -->\n",
       "<g id=\"node1\" class=\"node\">\n",
       "<title>9d47eddebf7608a0460d1ad81d544857dc24411cdf6825706718c66574af4d17</title>\n",
       "<text xml:space=\"preserve\" text-anchor=\"middle\" x=\"12.38\" y=\"-165.28\" font-family=\"arial\" font-size=\"10.00\">Brazil</text>\n",
       "</g>\n",
       "<!-- 9f60c10113eb2f2cd37d62990b85a610684f54fb1f8b8eb4a1a70a5a59206542 -->\n",
       "<g id=\"node2\" class=\"node\">\n",
       "<title>9f60c10113eb2f2cd37d62990b85a610684f54fb1f8b8eb4a1a70a5a59206542</title>\n",
       "<text xml:space=\"preserve\" text-anchor=\"middle\" x=\"205.5\" y=\"-318.28\" font-family=\"arial\" font-size=\"10.00\">&quot;Amérique lusophone&quot;@fr</text>\n",
       "</g>\n",
       "<!-- 9d47eddebf7608a0460d1ad81d544857dc24411cdf6825706718c66574af4d17&#45;&gt;9f60c10113eb2f2cd37d62990b85a610684f54fb1f8b8eb4a1a70a5a59206542 -->\n",
       "<g id=\"edge1\" class=\"edge\">\n",
       "<title>9d47eddebf7608a0460d1ad81d544857dc24411cdf6825706718c66574af4d17&#45;&gt;9f60c10113eb2f2cd37d62990b85a610684f54fb1f8b8eb4a1a70a5a59206542</title>\n",
       "<path fill=\"none\" stroke=\"black\" d=\"M13.85,-174.7C15.84,-197.68 24.21,-280.61 42.75,-297.78 71.72,-324.61 116.97,-329.37 152.25,-328.12\"/>\n",
       "<polygon fill=\"black\" stroke=\"black\" points=\"158.4,-327.83 152.04,-331.06 156.37,-327.93 151.9,-328.14 151.9,-328.14 151.9,-328.14 156.37,-327.93 151.76,-325.22 158.4,-327.83\"/>\n",
       "<text xml:space=\"preserve\" text-anchor=\"middle\" x=\"82.5\" y=\"-329.13\" font-family=\"arial\" font-size=\"9.00\">skos:altLabel</text>\n",
       "</g>\n",
       "<!-- 705c95ffabd97e0dcb93736f22f94bbefaf8cf14eea8a9fafeb451d5090acd2f -->\n",
       "<g id=\"node3\" class=\"node\">\n",
       "<title>705c95ffabd97e0dcb93736f22f94bbefaf8cf14eea8a9fafeb451d5090acd2f</title>\n",
       "<text xml:space=\"preserve\" text-anchor=\"middle\" x=\"205.5\" y=\"-284.28\" font-family=\"arial\" font-size=\"10.00\">&quot;Auriverde&quot;@fr</text>\n",
       "</g>\n",
       "<!-- 9d47eddebf7608a0460d1ad81d544857dc24411cdf6825706718c66574af4d17&#45;&gt;705c95ffabd97e0dcb93736f22f94bbefaf8cf14eea8a9fafeb451d5090acd2f -->\n",
       "<g id=\"edge2\" class=\"edge\">\n",
       "<title>9d47eddebf7608a0460d1ad81d544857dc24411cdf6825706718c66574af4d17&#45;&gt;705c95ffabd97e0dcb93736f22f94bbefaf8cf14eea8a9fafeb451d5090acd2f</title>\n",
       "<path fill=\"none\" stroke=\"black\" d=\"M13.24,-174.53C13.2,-191.11 15.54,-239.36 42.75,-262.78 60.64,-278.18 123.45,-284.12 165.33,-286.39\"/>\n",
       "<polygon fill=\"black\" stroke=\"black\" points=\"171.67,-286.72 165.03,-289.31 169.64,-286.61 165.18,-286.39 165.18,-286.39 165.18,-286.39 169.64,-286.61 165.33,-283.47 171.67,-286.72\"/>\n",
       "<text xml:space=\"preserve\" text-anchor=\"middle\" x=\"82.5\" y=\"-284.81\" font-family=\"arial\" font-size=\"9.00\">skos:altLabel</text>\n",
       "</g>\n",
       "<!-- 90fa5bf8397129275e12c7fe48e9736840242176c300b13cc738e235973b70ac -->\n",
       "<g id=\"node4\" class=\"node\">\n",
       "<title>90fa5bf8397129275e12c7fe48e9736840242176c300b13cc738e235973b70ac</title>\n",
       "<text xml:space=\"preserve\" text-anchor=\"middle\" x=\"205.5\" y=\"-250.28\" font-family=\"arial\" font-size=\"10.00\">&quot;Brasil&quot;@fr</text>\n",
       "</g>\n",
       "<!-- 9d47eddebf7608a0460d1ad81d544857dc24411cdf6825706718c66574af4d17&#45;&gt;90fa5bf8397129275e12c7fe48e9736840242176c300b13cc738e235973b70ac -->\n",
       "<g id=\"edge3\" class=\"edge\">\n",
       "<title>9d47eddebf7608a0460d1ad81d544857dc24411cdf6825706718c66574af4d17&#45;&gt;90fa5bf8397129275e12c7fe48e9736840242176c300b13cc738e235973b70ac</title>\n",
       "<path fill=\"none\" stroke=\"black\" d=\"M14.37,-174.53C16.8,-186.72 24.25,-215.17 42.75,-228.78 63.01,-243.69 132.64,-249.94 173.64,-252.37\"/>\n",
       "<polygon fill=\"black\" stroke=\"black\" points=\"179.98,-252.72 173.32,-255.28 177.95,-252.61 173.49,-252.36 173.49,-252.36 173.49,-252.36 177.95,-252.61 173.65,-249.44 179.98,-252.72\"/>\n",
       "<text xml:space=\"preserve\" text-anchor=\"middle\" x=\"82.5\" y=\"-249.91\" font-family=\"arial\" font-size=\"9.00\">skos:altLabel</text>\n",
       "</g>\n",
       "<!-- b02fcf78463a45b1169ed56c29fee532c72d57e574246d9810082190e6f5daac -->\n",
       "<g id=\"node5\" class=\"node\">\n",
       "<title>b02fcf78463a45b1169ed56c29fee532c72d57e574246d9810082190e6f5daac</title>\n",
       "<text xml:space=\"preserve\" text-anchor=\"middle\" x=\"205.5\" y=\"-216.28\" font-family=\"arial\" font-size=\"10.00\">&quot;Brazil&quot;@fr</text>\n",
       "</g>\n",
       "<!-- 9d47eddebf7608a0460d1ad81d544857dc24411cdf6825706718c66574af4d17&#45;&gt;b02fcf78463a45b1169ed56c29fee532c72d57e574246d9810082190e6f5daac -->\n",
       "<g id=\"edge4\" class=\"edge\">\n",
       "<title>9d47eddebf7608a0460d1ad81d544857dc24411cdf6825706718c66574af4d17&#45;&gt;b02fcf78463a45b1169ed56c29fee532c72d57e574246d9810082190e6f5daac</title>\n",
       "<path fill=\"none\" stroke=\"black\" d=\"M18.62,-174.54C24.08,-180.15 33.15,-188.43 42.75,-192.78 85.37,-212.08 139.92,-217.73 173.52,-219.3\"/>\n",
       "<polygon fill=\"black\" stroke=\"black\" points=\"179.97,-219.55 173.36,-222.22 177.94,-219.47 173.47,-219.3 173.47,-219.3 173.47,-219.3 177.94,-219.47 173.59,-216.37 179.97,-219.55\"/>\n",
       "<text xml:space=\"preserve\" text-anchor=\"middle\" x=\"82.5\" y=\"-216.01\" font-family=\"arial\" font-size=\"9.00\">skos:altLabel</text>\n",
       "</g>\n",
       "<!-- 11c532021d0b07ea48a53ed7e5b994badbf9e50ea874c02560be097784e1f95d -->\n",
       "<g id=\"node6\" class=\"node\">\n",
       "<title>11c532021d0b07ea48a53ed7e5b994badbf9e50ea874c02560be097784e1f95d</title>\n",
       "<text xml:space=\"preserve\" text-anchor=\"middle\" x=\"205.5\" y=\"-182.28\" font-family=\"arial\" font-size=\"10.00\">&quot;Bresil&quot;@fr</text>\n",
       "</g>\n",
       "<!-- 9d47eddebf7608a0460d1ad81d544857dc24411cdf6825706718c66574af4d17&#45;&gt;11c532021d0b07ea48a53ed7e5b994badbf9e50ea874c02560be097784e1f95d -->\n",
       "<g id=\"edge5\" class=\"edge\">\n",
       "<title>9d47eddebf7608a0460d1ad81d544857dc24411cdf6825706718c66574af4d17&#45;&gt;11c532021d0b07ea48a53ed7e5b994badbf9e50ea874c02560be097784e1f95d</title>\n",
       "<path fill=\"none\" stroke=\"black\" d=\"M24.48,-169.77C53.11,-172.31 130.26,-179.18 173.7,-183.04\"/>\n",
       "<polygon fill=\"black\" stroke=\"black\" points=\"179.92,-183.59 173.19,-185.93 177.9,-183.41 173.45,-183.02 173.45,-183.02 173.45,-183.02 177.9,-183.41 173.71,-180.1 179.92,-183.59\"/>\n",
       "<text xml:space=\"preserve\" text-anchor=\"middle\" x=\"82.5\" y=\"-180.25\" font-family=\"arial\" font-size=\"9.00\">skos:altLabel</text>\n",
       "</g>\n",
       "<!-- 674d70c2d9341795c79b17a0eede8d62a7f947f0653c01c12fe2666bbe9d94e0 -->\n",
       "<g id=\"node7\" class=\"node\">\n",
       "<title>674d70c2d9341795c79b17a0eede8d62a7f947f0653c01c12fe2666bbe9d94e0</title>\n",
       "<text xml:space=\"preserve\" text-anchor=\"middle\" x=\"205.5\" y=\"-148.28\" font-family=\"arial\" font-size=\"10.00\">&quot;Bré.&quot;@fr</text>\n",
       "</g>\n",
       "<!-- 9d47eddebf7608a0460d1ad81d544857dc24411cdf6825706718c66574af4d17&#45;&gt;674d70c2d9341795c79b17a0eede8d62a7f947f0653c01c12fe2666bbe9d94e0 -->\n",
       "<g id=\"edge6\" class=\"edge\">\n",
       "<title>9d47eddebf7608a0460d1ad81d544857dc24411cdf6825706718c66574af4d17&#45;&gt;674d70c2d9341795c79b17a0eede8d62a7f947f0653c01c12fe2666bbe9d94e0</title>\n",
       "<path fill=\"none\" stroke=\"black\" d=\"M24.54,-163.38C29.91,-161.05 36.53,-158.56 42.75,-157.28 89.24,-147.68 144.82,-148.36 177.24,-149.93\"/>\n",
       "<polygon fill=\"black\" stroke=\"black\" points=\"183.36,-150.25 176.71,-152.83 181.33,-150.14 176.87,-149.91 176.87,-149.91 176.87,-149.91 181.33,-150.14 177.02,-146.99 183.36,-150.25\"/>\n",
       "<text xml:space=\"preserve\" text-anchor=\"middle\" x=\"82.5\" y=\"-159.23\" font-family=\"arial\" font-size=\"9.00\">skos:altLabel</text>\n",
       "</g>\n",
       "<!-- ab517cbc220d08e961a130a5526a024d0152e84c8e13ba9894486a3f2545d3e3 -->\n",
       "<g id=\"node8\" class=\"node\">\n",
       "<title>ab517cbc220d08e961a130a5526a024d0152e84c8e13ba9894486a3f2545d3e3</title>\n",
       "<text xml:space=\"preserve\" text-anchor=\"middle\" x=\"205.5\" y=\"-114.28\" font-family=\"arial\" font-size=\"10.00\">&quot;Brésilien&quot;@fr</text>\n",
       "</g>\n",
       "<!-- 9d47eddebf7608a0460d1ad81d544857dc24411cdf6825706718c66574af4d17&#45;&gt;ab517cbc220d08e961a130a5526a024d0152e84c8e13ba9894486a3f2545d3e3 -->\n",
       "<g id=\"edge7\" class=\"edge\">\n",
       "<title>9d47eddebf7608a0460d1ad81d544857dc24411cdf6825706718c66574af4d17&#45;&gt;ab517cbc220d08e961a130a5526a024d0152e84c8e13ba9894486a3f2545d3e3</title>\n",
       "<path fill=\"none\" stroke=\"black\" d=\"M16.44,-162.94C20.99,-154.93 30.35,-140.79 42.75,-134.28 81.67,-113.84 133.09,-112.16 167.4,-113.98\"/>\n",
       "<polygon fill=\"black\" stroke=\"black\" points=\"173.66,-114.38 167,-116.89 171.64,-114.25 167.18,-113.97 167.18,-113.97 167.18,-113.97 171.64,-114.25 167.36,-111.05 173.66,-114.38\"/>\n",
       "<text xml:space=\"preserve\" text-anchor=\"middle\" x=\"82.5\" y=\"-136.23\" font-family=\"arial\" font-size=\"9.00\">skos:altLabel</text>\n",
       "</g>\n",
       "<!-- 9d6d3d7e6efd369024e2be5af62f1fb964e19b8feb2cbaed9cc3cd8271113cfc -->\n",
       "<g id=\"node9\" class=\"node\">\n",
       "<title>9d6d3d7e6efd369024e2be5af62f1fb964e19b8feb2cbaed9cc3cd8271113cfc</title>\n",
       "<text xml:space=\"preserve\" text-anchor=\"middle\" x=\"205.5\" y=\"-80.28\" font-family=\"arial\" font-size=\"10.00\">&quot;Brésilienne&quot;@fr</text>\n",
       "</g>\n",
       "<!-- 9d47eddebf7608a0460d1ad81d544857dc24411cdf6825706718c66574af4d17&#45;&gt;9d6d3d7e6efd369024e2be5af62f1fb964e19b8feb2cbaed9cc3cd8271113cfc -->\n",
       "<g id=\"edge8\" class=\"edge\">\n",
       "<title>9d47eddebf7608a0460d1ad81d544857dc24411cdf6825706718c66574af4d17&#45;&gt;9d6d3d7e6efd369024e2be5af62f1fb964e19b8feb2cbaed9cc3cd8271113cfc</title>\n",
       "<path fill=\"none\" stroke=\"black\" d=\"M13.93,-162.99C15.57,-149.46 21.69,-115.76 42.75,-100.28 77.05,-75.08 127.05,-73.84 162.37,-77.08\"/>\n",
       "<polygon fill=\"black\" stroke=\"black\" points=\"168.46,-77.71 161.69,-79.95 166.43,-77.5 161.99,-77.04 161.99,-77.04 161.99,-77.04 166.43,-77.5 162.29,-74.13 168.46,-77.71\"/>\n",
       "<text xml:space=\"preserve\" text-anchor=\"middle\" x=\"82.5\" y=\"-102.23\" font-family=\"arial\" font-size=\"9.00\">skos:altLabel</text>\n",
       "</g>\n",
       "<!-- a648095440f96a00dfd7d369cda4e57132e5abf5a8bd500148b675ab6468f6fc -->\n",
       "<g id=\"node10\" class=\"node\">\n",
       "<title>a648095440f96a00dfd7d369cda4e57132e5abf5a8bd500148b675ab6468f6fc</title>\n",
       "<text xml:space=\"preserve\" text-anchor=\"middle\" x=\"205.5\" y=\"-46.28\" font-family=\"arial\" font-size=\"10.00\">&quot;pays d&#39;Amérique du Sud&quot;@fr</text>\n",
       "</g>\n",
       "<!-- 9d47eddebf7608a0460d1ad81d544857dc24411cdf6825706718c66574af4d17&#45;&gt;a648095440f96a00dfd7d369cda4e57132e5abf5a8bd500148b675ab6468f6fc -->\n",
       "<g id=\"edge9\" class=\"edge\">\n",
       "<title>9d47eddebf7608a0460d1ad81d544857dc24411cdf6825706718c66574af4d17&#45;&gt;a648095440f96a00dfd7d369cda4e57132e5abf5a8bd500148b675ab6468f6fc</title>\n",
       "<path fill=\"none\" stroke=\"black\" d=\"M12.89,-162.91C11.72,-144.49 10.9,-87.43 42.75,-61.28 79.51,-31.09 138.22,-35.75 173.88,-42.4\"/>\n",
       "<polygon fill=\"black\" stroke=\"black\" points=\"179.93,-43.6 172.99,-45.2 177.94,-43.2 173.55,-42.33 173.55,-42.33 173.55,-42.33 177.94,-43.2 174.12,-39.46 179.93,-43.6\"/>\n",
       "<text xml:space=\"preserve\" text-anchor=\"middle\" x=\"82.5\" y=\"-63.23\" font-family=\"arial\" font-size=\"9.00\">schema:description</text>\n",
       "</g>\n",
       "<!-- e0c2f8e9ca309ab46cc2274df3a4f49f795d2aae7d0bb350b63488dc11545c3e -->\n",
       "<g id=\"node11\" class=\"node\">\n",
       "<title>e0c2f8e9ca309ab46cc2274df3a4f49f795d2aae7d0bb350b63488dc11545c3e</title>\n",
       "<text xml:space=\"preserve\" text-anchor=\"middle\" x=\"205.5\" y=\"-12.28\" font-family=\"arial\" font-size=\"10.00\">&quot;Brésil&quot;@fr</text>\n",
       "</g>\n",
       "<!-- 9d47eddebf7608a0460d1ad81d544857dc24411cdf6825706718c66574af4d17&#45;&gt;e0c2f8e9ca309ab46cc2274df3a4f49f795d2aae7d0bb350b63488dc11545c3e -->\n",
       "<g id=\"edge10\" class=\"edge\">\n",
       "<title>9d47eddebf7608a0460d1ad81d544857dc24411cdf6825706718c66574af4d17&#45;&gt;e0c2f8e9ca309ab46cc2274df3a4f49f795d2aae7d0bb350b63488dc11545c3e</title>\n",
       "<path fill=\"none\" stroke=\"black\" d=\"M13.63,-163.08C14.84,-138.51 20.94,-41.99 42.75,-23.28 80.2,8.84 142.33,0.44 177.69,-8.01\"/>\n",
       "<polygon fill=\"black\" stroke=\"black\" points=\"183.63,-9.51 176.62,-10.76 181.66,-9.01 177.33,-7.92 177.33,-7.92 177.33,-7.92 181.66,-9.01 178.04,-5.08 183.63,-9.51\"/>\n",
       "<text xml:space=\"preserve\" text-anchor=\"middle\" x=\"82.5\" y=\"-25.23\" font-family=\"arial\" font-size=\"9.00\">rdfs:label</text>\n",
       "</g>\n",
       "</g>\n",
       "</svg>\n"
      ],
      "text/plain": [
       "<graphviz.graphs.Digraph at 0x1099baf90>"
      ]
     },
     "execution_count": 6,
     "metadata": {},
     "output_type": "execute_result"
    }
   ],
   "source": [
    "g.to_graphviz()"
   ]
  },
  {
   "cell_type": "markdown",
   "id": "5450aadb-be02-4d6d-b6fc-e7db4432191d",
   "metadata": {},
   "source": [
    "Alternatively, we can use the folowing entity methods:"
   ]
  },
  {
   "cell_type": "code",
   "execution_count": 7,
   "id": "eba43aca-0774-4b70-bb26-34863e16f05b",
   "metadata": {},
   "outputs": [
    {
     "data": {
      "text/markdown": [
       "\"Brésil\"@fr"
      ],
      "text/plain": [
       "Text('Brésil', 'fr')"
      ]
     },
     "execution_count": 7,
     "metadata": {},
     "output_type": "execute_result"
    }
   ],
   "source": [
    "wd.Brazil.get_label('fr')"
   ]
  },
  {
   "cell_type": "code",
   "execution_count": 8,
   "id": "d1d4da0d-9585-4059-a04b-5d81b1b6c8eb",
   "metadata": {},
   "outputs": [
    {
     "data": {
      "text/plain": [
       "{Text('Amérique lusophone', 'fr'),\n",
       " Text('Auriverde', 'fr'),\n",
       " Text('Brasil', 'fr'),\n",
       " Text('Brazil', 'fr'),\n",
       " Text('Bresil', 'fr'),\n",
       " Text('Bré.', 'fr'),\n",
       " Text('Brés.', 'fr'),\n",
       " Text('Brésilien', 'fr'),\n",
       " Text('Brésilienne', 'fr'),\n",
       " Text('Brézil', 'fr'),\n",
       " Text('République des États-Unis du Brésil', 'fr'),\n",
       " Text('République fédérative du Brésil', 'fr'),\n",
       " Text('la République fédérative du Brésil', 'fr')}"
      ]
     },
     "execution_count": 8,
     "metadata": {},
     "output_type": "execute_result"
    }
   ],
   "source": [
    "wd.Brazil.get_aliases('fr')"
   ]
  },
  {
   "cell_type": "code",
   "execution_count": 9,
   "id": "785aad89-f399-4ffc-98d0-a04e23c3006b",
   "metadata": {},
   "outputs": [
    {
     "data": {
      "text/markdown": [
       "\"pays d'Amérique du Sud\"@fr"
      ],
      "text/plain": [
       "Text(\"pays d'Amérique du Sud\", 'fr')"
      ]
     },
     "execution_count": 9,
     "metadata": {},
     "output_type": "execute_result"
    }
   ],
   "source": [
    "wd.Brazil.get_description('fr')"
   ]
  },
  {
   "cell_type": "markdown",
   "id": "323d4cb6-5213-4ccc-b920-a925400004aa",
   "metadata": {},
   "source": [
    "### Lexemes: Lemma, lexical category, and language"
   ]
  },
  {
   "cell_type": "markdown",
   "id": "1d6a62f2-7bb0-4c7b-8c3f-f6dccb52ac1c",
   "metadata": {},
   "source": [
    "Lexemes also have associated pseudo-properties:"
   ]
  },
  {
   "cell_type": "markdown",
   "id": "e966dde7-cba7-4d8e-9520-b659a976b238",
   "metadata": {},
   "source": [
    "*obtain the lemma, lexical category, and language of the lexeme L4471*"
   ]
  },
  {
   "cell_type": "code",
   "execution_count": 10,
   "id": "7269e51a-99cf-4012-8d21-4154f1be06fa",
   "metadata": {},
   "outputs": [
    {
     "data": {
      "text/markdown": [
       "(**Graph**\n",
       "- (**Statement** (**Lexeme** [love](http://www.wikidata.org/entity/L4471) ([English](http://www.wikidata.org/entity/Q1860) [verb](http://www.wikidata.org/entity/Q24905))) (**ValueSnak** **LanguageProperty** (**Item** [English](http://www.wikidata.org/entity/Q1860))))\n",
       "- (**Statement** (**Lexeme** [love](http://www.wikidata.org/entity/L4471) ([English](http://www.wikidata.org/entity/Q1860) [verb](http://www.wikidata.org/entity/Q24905))) (**ValueSnak** **LemmaProperty** \"love\"@en))\n",
       "- (**Statement** (**Lexeme** [love](http://www.wikidata.org/entity/L4471) ([English](http://www.wikidata.org/entity/Q1860) [verb](http://www.wikidata.org/entity/Q24905))) (**ValueSnak** **LexicalCategoryProperty** (**Item** [verb](http://www.wikidata.org/entity/Q24905)))))"
      ],
      "text/plain": [
       "Graph(Statement(Lexeme(IRI('http://www.wikidata.org/entity/L4471')), ValueSnak(LanguageProperty(IRI('http://purl.org/dc/terms/language'), ItemDatatype()), Item(IRI('http://www.wikidata.org/entity/Q1860')))), Statement(Lexeme(IRI('http://www.wikidata.org/entity/L4471')), ValueSnak(LemmaProperty(IRI('http://wikiba.se/ontology#lemma'), TextDatatype()), Text('love', 'en'))), Statement(Lexeme(IRI('http://www.wikidata.org/entity/L4471')), ValueSnak(LexicalCategoryProperty(IRI('http://wikiba.se/ontology#lexicalCategory'), ItemDatatype()), Item(IRI('http://www.wikidata.org/entity/Q24905')))))"
      ]
     },
     "execution_count": 10,
     "metadata": {},
     "output_type": "execute_result"
    }
   ],
   "source": [
    "it = kb.filter(wd.L(4471), wd.lemma | wd.lexical_category | wd.language)\n",
    "g = Graph(*it)\n",
    "g"
   ]
  },
  {
   "cell_type": "code",
   "execution_count": 11,
   "id": "cc1e3ece-9b10-4f98-aaa5-a66d6bd20e95",
   "metadata": {},
   "outputs": [
    {
     "data": {
      "image/svg+xml": [
       "<?xml version=\"1.0\" encoding=\"UTF-8\" standalone=\"no\"?>\n",
       "<!DOCTYPE svg PUBLIC \"-//W3C//DTD SVG 1.1//EN\"\n",
       " \"http://www.w3.org/Graphics/SVG/1.1/DTD/svg11.dtd\">\n",
       "<!-- Generated by graphviz version 13.1.0 (20250701.0955)\n",
       " -->\n",
       "<!-- Pages: 1 -->\n",
       "<svg width=\"274pt\" height=\"88pt\"\n",
       " viewBox=\"0.00 0.00 274.00 88.00\" xmlns=\"http://www.w3.org/2000/svg\" xmlns:xlink=\"http://www.w3.org/1999/xlink\">\n",
       "<g id=\"graph0\" class=\"graph\" transform=\"scale(1 1) rotate(0) translate(4 84)\">\n",
       "<polygon fill=\"white\" stroke=\"none\" points=\"-4,4 -4,-84 269.5,-84 269.5,4 -4,4\"/>\n",
       "<!-- 4b085c30a1ca53bf4a87c509eed0fa6ef4b49fa07ba88c58b54b3a5d8ee085fa -->\n",
       "<g id=\"node1\" class=\"node\">\n",
       "<title>4b085c30a1ca53bf4a87c509eed0fa6ef4b49fa07ba88c58b54b3a5d8ee085fa</title>\n",
       "<text xml:space=\"preserve\" text-anchor=\"middle\" x=\"40.5\" y=\"-36.5\" font-family=\"arial\" font-size=\"10.00\">love (English verb)</text>\n",
       "</g>\n",
       "<!-- 03ae7145d89f8d1564fc7651ec83695bd752d369f4e6ef29e20eb50371d6de8c -->\n",
       "<g id=\"node2\" class=\"node\">\n",
       "<title>03ae7145d89f8d1564fc7651ec83695bd752d369f4e6ef29e20eb50371d6de8c</title>\n",
       "<text xml:space=\"preserve\" text-anchor=\"middle\" x=\"242.25\" y=\"-70.5\" font-family=\"arial\" font-size=\"10.00\">English</text>\n",
       "</g>\n",
       "<!-- 4b085c30a1ca53bf4a87c509eed0fa6ef4b49fa07ba88c58b54b3a5d8ee085fa&#45;&gt;03ae7145d89f8d1564fc7651ec83695bd752d369f4e6ef29e20eb50371d6de8c -->\n",
       "<g id=\"edge1\" class=\"edge\">\n",
       "<title>4b085c30a1ca53bf4a87c509eed0fa6ef4b49fa07ba88c58b54b3a5d8ee085fa&#45;&gt;03ae7145d89f8d1564fc7651ec83695bd752d369f4e6ef29e20eb50371d6de8c</title>\n",
       "<path fill=\"none\" stroke=\"black\" d=\"M68.65,-45.97C78.22,-47.99 89.07,-50.2 99,-52 141.25,-59.67 190.88,-66.96 218.94,-70.92\"/>\n",
       "<polygon fill=\"black\" stroke=\"black\" points=\"225.05,-71.77 218.21,-73.77 223.04,-71.49 218.61,-70.87 218.61,-70.87 218.61,-70.87 223.04,-71.49 219.02,-67.98 225.05,-71.77\"/>\n",
       "<text xml:space=\"preserve\" text-anchor=\"middle\" x=\"150\" y=\"-70.18\" font-family=\"arial\" font-size=\"9.00\">dct:language</text>\n",
       "</g>\n",
       "<!-- e3c6fa020bac9a69087d78d093f6ffde04750628ee96d1a409bd00646b8bda38 -->\n",
       "<g id=\"node3\" class=\"node\">\n",
       "<title>e3c6fa020bac9a69087d78d093f6ffde04750628ee96d1a409bd00646b8bda38</title>\n",
       "<text xml:space=\"preserve\" text-anchor=\"middle\" x=\"242.25\" y=\"-36.5\" font-family=\"arial\" font-size=\"10.00\">&quot;love&quot;@en</text>\n",
       "</g>\n",
       "<!-- 4b085c30a1ca53bf4a87c509eed0fa6ef4b49fa07ba88c58b54b3a5d8ee085fa&#45;&gt;e3c6fa020bac9a69087d78d093f6ffde04750628ee96d1a409bd00646b8bda38 -->\n",
       "<g id=\"edge2\" class=\"edge\">\n",
       "<title>4b085c30a1ca53bf4a87c509eed0fa6ef4b49fa07ba88c58b54b3a5d8ee085fa&#45;&gt;e3c6fa020bac9a69087d78d093f6ffde04750628ee96d1a409bd00646b8bda38</title>\n",
       "<path fill=\"none\" stroke=\"black\" d=\"M80.96,-40C119.44,-40 177.08,-40 211.74,-40\"/>\n",
       "<polygon fill=\"black\" stroke=\"black\" points=\"217.97,-40 211.47,-42.93 215.94,-40 211.47,-40 211.47,-40 211.47,-40 215.94,-40 211.47,-37.08 217.97,-40\"/>\n",
       "<text xml:space=\"preserve\" text-anchor=\"middle\" x=\"150\" y=\"-41.95\" font-family=\"arial\" font-size=\"9.00\">wikibase:lemma</text>\n",
       "</g>\n",
       "<!-- d75233c30087bcfc6d735a97af6c6a343df74e988243986253bfcc6e18a4dbda -->\n",
       "<g id=\"node4\" class=\"node\">\n",
       "<title>d75233c30087bcfc6d735a97af6c6a343df74e988243986253bfcc6e18a4dbda</title>\n",
       "<text xml:space=\"preserve\" text-anchor=\"middle\" x=\"242.25\" y=\"-2.5\" font-family=\"arial\" font-size=\"10.00\">verb</text>\n",
       "</g>\n",
       "<!-- 4b085c30a1ca53bf4a87c509eed0fa6ef4b49fa07ba88c58b54b3a5d8ee085fa&#45;&gt;d75233c30087bcfc6d735a97af6c6a343df74e988243986253bfcc6e18a4dbda -->\n",
       "<g id=\"edge3\" class=\"edge\">\n",
       "<title>4b085c30a1ca53bf4a87c509eed0fa6ef4b49fa07ba88c58b54b3a5d8ee085fa&#45;&gt;d75233c30087bcfc6d735a97af6c6a343df74e988243986253bfcc6e18a4dbda</title>\n",
       "<path fill=\"none\" stroke=\"black\" d=\"M62.67,-34.06C73.48,-31.19 86.87,-27.85 99,-25.5 144.71,-16.63 199.44,-10.32 225.7,-7.56\"/>\n",
       "<polygon fill=\"black\" stroke=\"black\" points=\"231.97,-6.91 225.8,-10.49 229.95,-7.12 225.5,-7.58 225.5,-7.58 225.5,-7.58 229.95,-7.12 225.2,-4.67 231.97,-6.91\"/>\n",
       "<text xml:space=\"preserve\" text-anchor=\"middle\" x=\"150\" y=\"-27.45\" font-family=\"arial\" font-size=\"9.00\">wikibase:lexicalCategory</text>\n",
       "</g>\n",
       "</g>\n",
       "</svg>\n"
      ],
      "text/plain": [
       "<graphviz.graphs.Digraph at 0x1090039d0>"
      ]
     },
     "execution_count": 11,
     "metadata": {},
     "output_type": "execute_result"
    }
   ],
   "source": [
    "g.to_graphviz()"
   ]
  },
  {
   "cell_type": "markdown",
   "id": "29ec0964-febf-4d92-a3cc-1b907880e834",
   "metadata": {},
   "source": [
    "Again, these pseudo-properties are also accessible through entity methods:"
   ]
  },
  {
   "cell_type": "code",
   "execution_count": 12,
   "id": "a6ecab0a-1979-47dd-af6b-93bbe8ada14f",
   "metadata": {},
   "outputs": [
    {
     "data": {
      "text/markdown": [
       "\"love\"@en"
      ],
      "text/plain": [
       "Text('love', 'en')"
      ]
     },
     "metadata": {},
     "output_type": "display_data"
    },
    {
     "data": {
      "text/markdown": [
       "(**Item** [verb](http://www.wikidata.org/entity/Q24905))"
      ],
      "text/plain": [
       "Item(IRI('http://www.wikidata.org/entity/Q24905'))"
      ]
     },
     "metadata": {},
     "output_type": "display_data"
    },
    {
     "data": {
      "text/markdown": [
       "(**Item** [English](http://www.wikidata.org/entity/Q1860))"
      ],
      "text/plain": [
       "Item(IRI('http://www.wikidata.org/entity/Q1860'))"
      ]
     },
     "metadata": {},
     "output_type": "display_data"
    }
   ],
   "source": [
    "display(\n",
    "    wd.L(4471).lemma,\n",
    "    wd.L(4471).category,\n",
    "    wd.L(44471).language)"
   ]
  }
 ],
 "metadata": {
  "kernelspec": {
   "display_name": "venv313",
   "language": "python",
   "name": "venv313"
  },
  "language_info": {
   "codemirror_mode": {
    "name": "ipython",
    "version": 3
   },
   "file_extension": ".py",
   "mimetype": "text/x-python",
   "name": "python",
   "nbconvert_exporter": "python",
   "pygments_lexer": "ipython3",
   "version": "3.13.5"
  }
 },
 "nbformat": 4,
 "nbformat_minor": 5
}
