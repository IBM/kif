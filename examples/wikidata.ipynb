{
 "cells": [
  {
   "cell_type": "code",
   "execution_count": 1,
   "id": "5e05dd39-66d8-4560-bd94-3233aa184737",
   "metadata": {},
   "outputs": [
    {
     "name": "stdout",
     "output_type": "stream",
     "text": [
      "env: KIF_DEBUG=\n",
      "env: KIF_RESOLVE_ENTITIES=1\n"
     ]
    }
   ],
   "source": [
    "%env KIF_DEBUG=\n",
    "%env KIF_RESOLVE_ENTITIES=1"
   ]
  },
  {
   "cell_type": "markdown",
   "id": "5f44bffb-63cd-4962-a0ab-1cdf8a88db0d",
   "metadata": {},
   "source": [
    "# Wikidata"
   ]
  },
  {
   "cell_type": "code",
   "execution_count": 2,
   "id": "5873d2cb-8a6c-4101-b7fb-083222032f17",
   "metadata": {},
   "outputs": [],
   "source": [
    "from kif_lib import *\n",
    "from kif_lib.vocabulary import wd"
   ]
  },
  {
   "cell_type": "markdown",
   "id": "353135fb-0fd3-4e92-a9eb-0fc89d5485df",
   "metadata": {},
   "source": [
    "Create a SPARQL store with Wikidata mappings pointing to the official Wikidata query service:"
   ]
  },
  {
   "cell_type": "code",
   "execution_count": 3,
   "id": "68d52434-f049-46e9-a787-02cdc7e8f5a8",
   "metadata": {},
   "outputs": [],
   "source": [
    "kb = Store('wdqs') # assumes http://query.wikidata.org/sparql"
   ]
  },
  {
   "cell_type": "markdown",
   "id": "1879d5f9-56c5-489e-ba97-e5757a6c8565",
   "metadata": {},
   "source": [
    "If a limit on the number of results is not specified, assume 3:"
   ]
  },
  {
   "cell_type": "code",
   "execution_count": 4,
   "id": "eead5bb5-c8d4-417b-9bbe-3fe2ed89445a",
   "metadata": {},
   "outputs": [],
   "source": [
    "kb.limit = 3"
   ]
  },
  {
   "cell_type": "markdown",
   "id": "aed20acb-40e0-4a85-9ff4-0c5c1cfab1e2",
   "metadata": {},
   "source": [
    "## Label, aliases, and description (pseudo-properties)"
   ]
  },
  {
   "cell_type": "markdown",
   "id": "1d8bdb50-9b68-4e9a-8c48-4562355620e7",
   "metadata": {},
   "source": [
    "In KIF, the label, aliases, and description of entities can be obtained via pseudo-properties:"
   ]
  },
  {
   "cell_type": "markdown",
   "id": "975bbe9e-8a45-4913-825e-8d0a4c4e0106",
   "metadata": {},
   "source": [
    "*list the label, aliases, and description of Brazil in French*"
   ]
  },
  {
   "cell_type": "code",
   "execution_count": 5,
   "id": "2ed8d54b-db52-48f5-a59d-faec4b89df2d",
   "metadata": {},
   "outputs": [
    {
     "data": {
      "text/markdown": [
       "(**Graph**\n",
       "- (**Statement** (**Item** [Brazil](http://www.wikidata.org/entity/Q155)) (**ValueSnak** **AliasProperty** \"Amérique lusophone\"@fr))\n",
       "- (**Statement** (**Item** [Brazil](http://www.wikidata.org/entity/Q155)) (**ValueSnak** **AliasProperty** \"Auriverde\"@fr))\n",
       "- (**Statement** (**Item** [Brazil](http://www.wikidata.org/entity/Q155)) (**ValueSnak** **AliasProperty** \"Brasil\"@fr))\n",
       "- (**Statement** (**Item** [Brazil](http://www.wikidata.org/entity/Q155)) (**ValueSnak** **AliasProperty** \"Brazil\"@fr))\n",
       "- (**Statement** (**Item** [Brazil](http://www.wikidata.org/entity/Q155)) (**ValueSnak** **AliasProperty** \"Bresil\"@fr))\n",
       "- (**Statement** (**Item** [Brazil](http://www.wikidata.org/entity/Q155)) (**ValueSnak** **AliasProperty** \"Bré.\"@fr))\n",
       "- (**Statement** (**Item** [Brazil](http://www.wikidata.org/entity/Q155)) (**ValueSnak** **AliasProperty** \"Brés.\"@fr))\n",
       "- (**Statement** (**Item** [Brazil](http://www.wikidata.org/entity/Q155)) (**ValueSnak** **AliasProperty** \"Brésilien\"@fr))\n",
       "- (**Statement** (**Item** [Brazil](http://www.wikidata.org/entity/Q155)) (**ValueSnak** **AliasProperty** \"Brésilienne\"@fr))\n",
       "- (**Statement** (**Item** [Brazil](http://www.wikidata.org/entity/Q155)) (**ValueSnak** **LabelProperty** \"Brésil\"@fr)))"
      ],
      "text/plain": [
       "Graph(Statement(Item(IRI('http://www.wikidata.org/entity/Q155')), ValueSnak(AliasProperty(IRI('http://www.w3.org/2004/02/skos/core#altLabel'), TextDatatype()), Text('Amérique lusophone', 'fr'))), Statement(Item(IRI('http://www.wikidata.org/entity/Q155')), ValueSnak(AliasProperty(IRI('http://www.w3.org/2004/02/skos/core#altLabel'), TextDatatype()), Text('Auriverde', 'fr'))), Statement(Item(IRI('http://www.wikidata.org/entity/Q155')), ValueSnak(AliasProperty(IRI('http://www.w3.org/2004/02/skos/core#altLabel'), TextDatatype()), Text('Brasil', 'fr'))), Statement(Item(IRI('http://www.wikidata.org/entity/Q155')), ValueSnak(AliasProperty(IRI('http://www.w3.org/2004/02/skos/core#altLabel'), TextDatatype()), Text('Brazil', 'fr'))), Statement(Item(IRI('http://www.wikidata.org/entity/Q155')), ValueSnak(AliasProperty(IRI('http://www.w3.org/2004/02/skos/core#altLabel'), TextDatatype()), Text('Bresil', 'fr'))), Statement(Item(IRI('http://www.wikidata.org/entity/Q155')), ValueSnak(AliasProperty(IRI('http://www.w3.org/2004/02/skos/core#altLabel'), TextDatatype()), Text('Bré.', 'fr'))), Statement(Item(IRI('http://www.wikidata.org/entity/Q155')), ValueSnak(AliasProperty(IRI('http://www.w3.org/2004/02/skos/core#altLabel'), TextDatatype()), Text('Brés.', 'fr'))), Statement(Item(IRI('http://www.wikidata.org/entity/Q155')), ValueSnak(AliasProperty(IRI('http://www.w3.org/2004/02/skos/core#altLabel'), TextDatatype()), Text('Brésilien', 'fr'))), Statement(Item(IRI('http://www.wikidata.org/entity/Q155')), ValueSnak(AliasProperty(IRI('http://www.w3.org/2004/02/skos/core#altLabel'), TextDatatype()), Text('Brésilienne', 'fr'))), Statement(Item(IRI('http://www.wikidata.org/entity/Q155')), ValueSnak(LabelProperty(IRI('http://www.w3.org/2000/01/rdf-schema#label'), TextDatatype()), Text('Brésil', 'fr'))))"
      ]
     },
     "execution_count": 5,
     "metadata": {},
     "output_type": "execute_result"
    }
   ],
   "source": [
    "it = kb.filter(subject=wd.Brazil, property=wd.label | wd.alias | wd.description, language='fr', limit=10)\n",
    "g = Graph(*it)\n",
    "g"
   ]
  },
  {
   "cell_type": "code",
   "execution_count": 6,
   "id": "977877f2-2571-4c85-a697-c29b6fc2f326",
   "metadata": {},
   "outputs": [
    {
     "data": {
      "image/svg+xml": [
       "<?xml version=\"1.0\" encoding=\"UTF-8\" standalone=\"no\"?>\n",
       "<!DOCTYPE svg PUBLIC \"-//W3C//DTD SVG 1.1//EN\"\n",
       " \"http://www.w3.org/Graphics/SVG/1.1/DTD/svg11.dtd\">\n",
       "<!-- Generated by graphviz version 12.2.1 (20241206.2353)\n",
       " -->\n",
       "<!-- Pages: 1 -->\n",
       "<svg width=\"235pt\" height=\"332pt\"\n",
       " viewBox=\"0.00 0.00 235.25 331.98\" xmlns=\"http://www.w3.org/2000/svg\" xmlns:xlink=\"http://www.w3.org/1999/xlink\">\n",
       "<g id=\"graph0\" class=\"graph\" transform=\"scale(1 1) rotate(0) translate(4 327.98)\">\n",
       "<polygon fill=\"white\" stroke=\"none\" points=\"-4,4 -4,-327.98 231.25,-327.98 231.25,4 -4,4\"/>\n",
       "<!-- 9d47eddebf7608a0460d1ad81d544857dc24411cdf6825706718c66574af4d17 -->\n",
       "<g id=\"node1\" class=\"node\">\n",
       "<title>9d47eddebf7608a0460d1ad81d544857dc24411cdf6825706718c66574af4d17</title>\n",
       "<text text-anchor=\"middle\" x=\"12.38\" y=\"-155.5\" font-family=\"arial\" font-size=\"10.00\">Brazil</text>\n",
       "</g>\n",
       "<!-- 9f60c10113eb2f2cd37d62990b85a610684f54fb1f8b8eb4a1a70a5a59206542 -->\n",
       "<g id=\"node2\" class=\"node\">\n",
       "<title>9f60c10113eb2f2cd37d62990b85a610684f54fb1f8b8eb4a1a70a5a59206542</title>\n",
       "<text text-anchor=\"middle\" x=\"171\" y=\"-308.5\" font-family=\"arial\" font-size=\"10.00\">&quot;Amérique lusophone&quot;@fr</text>\n",
       "</g>\n",
       "<!-- 9d47eddebf7608a0460d1ad81d544857dc24411cdf6825706718c66574af4d17&#45;&gt;9f60c10113eb2f2cd37d62990b85a610684f54fb1f8b8eb4a1a70a5a59206542 -->\n",
       "<g id=\"edge1\" class=\"edge\">\n",
       "<title>9d47eddebf7608a0460d1ad81d544857dc24411cdf6825706718c66574af4d17&#45;&gt;9f60c10113eb2f2cd37d62990b85a610684f54fb1f8b8eb4a1a70a5a59206542</title>\n",
       "<path fill=\"none\" stroke=\"black\" d=\"M13.85,-164.99C15.83,-188.28 24.18,-272.32 42.75,-290 59.9,-306.32 84.54,-312.92 107.58,-315.04\"/>\n",
       "<polygon fill=\"black\" stroke=\"black\" points=\"113.78,-315.49 107.09,-317.94 111.76,-315.34 107.3,-315.02 107.3,-315.02 107.3,-315.02 111.76,-315.34 107.51,-312.1 113.78,-315.49\"/>\n",
       "<text text-anchor=\"middle\" x=\"69.75\" y=\"-315.43\" font-family=\"arial\" font-size=\"9.00\">skos:altLabel</text>\n",
       "</g>\n",
       "<!-- 705c95ffabd97e0dcb93736f22f94bbefaf8cf14eea8a9fafeb451d5090acd2f -->\n",
       "<g id=\"node3\" class=\"node\">\n",
       "<title>705c95ffabd97e0dcb93736f22f94bbefaf8cf14eea8a9fafeb451d5090acd2f</title>\n",
       "<text text-anchor=\"middle\" x=\"171\" y=\"-274.5\" font-family=\"arial\" font-size=\"10.00\">&quot;Auriverde&quot;@fr</text>\n",
       "</g>\n",
       "<!-- 9d47eddebf7608a0460d1ad81d544857dc24411cdf6825706718c66574af4d17&#45;&gt;705c95ffabd97e0dcb93736f22f94bbefaf8cf14eea8a9fafeb451d5090acd2f -->\n",
       "<g id=\"edge2\" class=\"edge\">\n",
       "<title>9d47eddebf7608a0460d1ad81d544857dc24411cdf6825706718c66574af4d17&#45;&gt;705c95ffabd97e0dcb93736f22f94bbefaf8cf14eea8a9fafeb451d5090acd2f</title>\n",
       "<path fill=\"none\" stroke=\"black\" d=\"M13.32,-164.62C13.49,-180.87 16.33,-228.2 42.75,-252 66.56,-273.45 103.16,-279.1 131.01,-279.87\"/>\n",
       "<polygon fill=\"black\" stroke=\"black\" points=\"137.39,-279.96 130.85,-282.8 135.36,-279.93 130.89,-279.87 130.89,-279.87 130.89,-279.87 135.36,-279.93 130.93,-276.95 137.39,-279.96\"/>\n",
       "<text text-anchor=\"middle\" x=\"69.75\" y=\"-278.09\" font-family=\"arial\" font-size=\"9.00\">skos:altLabel</text>\n",
       "</g>\n",
       "<!-- 90fa5bf8397129275e12c7fe48e9736840242176c300b13cc738e235973b70ac -->\n",
       "<g id=\"node4\" class=\"node\">\n",
       "<title>90fa5bf8397129275e12c7fe48e9736840242176c300b13cc738e235973b70ac</title>\n",
       "<text text-anchor=\"middle\" x=\"171\" y=\"-240.5\" font-family=\"arial\" font-size=\"10.00\">&quot;Brasil&quot;@fr</text>\n",
       "</g>\n",
       "<!-- 9d47eddebf7608a0460d1ad81d544857dc24411cdf6825706718c66574af4d17&#45;&gt;90fa5bf8397129275e12c7fe48e9736840242176c300b13cc738e235973b70ac -->\n",
       "<g id=\"edge3\" class=\"edge\">\n",
       "<title>9d47eddebf7608a0460d1ad81d544857dc24411cdf6825706718c66574af4d17&#45;&gt;90fa5bf8397129275e12c7fe48e9736840242176c300b13cc738e235973b70ac</title>\n",
       "<path fill=\"none\" stroke=\"black\" d=\"M14.74,-164.98C17.7,-176.55 25.87,-202.01 42.75,-215 70.65,-236.47 111.57,-242.56 139.42,-244.03\"/>\n",
       "<polygon fill=\"black\" stroke=\"black\" points=\"145.68,-244.28 139.07,-246.95 143.65,-244.2 139.19,-244.02 139.19,-244.02 139.19,-244.02 143.65,-244.2 139.31,-241.1 145.68,-244.28\"/>\n",
       "<text text-anchor=\"middle\" x=\"69.75\" y=\"-239.66\" font-family=\"arial\" font-size=\"9.00\">skos:altLabel</text>\n",
       "</g>\n",
       "<!-- b02fcf78463a45b1169ed56c29fee532c72d57e574246d9810082190e6f5daac -->\n",
       "<g id=\"node5\" class=\"node\">\n",
       "<title>b02fcf78463a45b1169ed56c29fee532c72d57e574246d9810082190e6f5daac</title>\n",
       "<text text-anchor=\"middle\" x=\"171\" y=\"-206.5\" font-family=\"arial\" font-size=\"10.00\">&quot;Brazil&quot;@fr</text>\n",
       "</g>\n",
       "<!-- 9d47eddebf7608a0460d1ad81d544857dc24411cdf6825706718c66574af4d17&#45;&gt;b02fcf78463a45b1169ed56c29fee532c72d57e574246d9810082190e6f5daac -->\n",
       "<g id=\"edge4\" class=\"edge\">\n",
       "<title>9d47eddebf7608a0460d1ad81d544857dc24411cdf6825706718c66574af4d17&#45;&gt;b02fcf78463a45b1169ed56c29fee532c72d57e574246d9810082190e6f5daac</title>\n",
       "<path fill=\"none\" stroke=\"black\" d=\"M18.66,-164.67C24.15,-170.21 33.25,-178.44 42.75,-183 73.7,-197.84 112.76,-204.58 139.38,-207.6\"/>\n",
       "<polygon fill=\"black\" stroke=\"black\" points=\"145.67,-208.26 138.9,-210.49 143.65,-208.05 139.21,-207.58 139.21,-207.58 139.21,-207.58 143.65,-208.05 139.52,-204.67 145.67,-208.26\"/>\n",
       "<text text-anchor=\"middle\" x=\"69.75\" y=\"-202.57\" font-family=\"arial\" font-size=\"9.00\">skos:altLabel</text>\n",
       "</g>\n",
       "<!-- 11c532021d0b07ea48a53ed7e5b994badbf9e50ea874c02560be097784e1f95d -->\n",
       "<g id=\"node6\" class=\"node\">\n",
       "<title>11c532021d0b07ea48a53ed7e5b994badbf9e50ea874c02560be097784e1f95d</title>\n",
       "<text text-anchor=\"middle\" x=\"171\" y=\"-172.5\" font-family=\"arial\" font-size=\"10.00\">&quot;Bresil&quot;@fr</text>\n",
       "</g>\n",
       "<!-- 9d47eddebf7608a0460d1ad81d544857dc24411cdf6825706718c66574af4d17&#45;&gt;11c532021d0b07ea48a53ed7e5b994badbf9e50ea874c02560be097784e1f95d -->\n",
       "<g id=\"edge5\" class=\"edge\">\n",
       "<title>9d47eddebf7608a0460d1ad81d544857dc24411cdf6825706718c66574af4d17&#45;&gt;11c532021d0b07ea48a53ed7e5b994badbf9e50ea874c02560be097784e1f95d</title>\n",
       "<path fill=\"none\" stroke=\"black\" d=\"M24.64,-160.22C48.31,-162.79 103.93,-168.83 139.1,-172.65\"/>\n",
       "<polygon fill=\"black\" stroke=\"black\" points=\"145.49,-173.34 138.71,-175.55 143.47,-173.12 139.03,-172.64 139.03,-172.64 139.03,-172.64 143.47,-173.12 139.34,-169.73 145.49,-173.34\"/>\n",
       "<text text-anchor=\"middle\" x=\"69.75\" y=\"-169.96\" font-family=\"arial\" font-size=\"9.00\">skos:altLabel</text>\n",
       "</g>\n",
       "<!-- 674d70c2d9341795c79b17a0eede8d62a7f947f0653c01c12fe2666bbe9d94e0 -->\n",
       "<g id=\"node7\" class=\"node\">\n",
       "<title>674d70c2d9341795c79b17a0eede8d62a7f947f0653c01c12fe2666bbe9d94e0</title>\n",
       "<text text-anchor=\"middle\" x=\"171\" y=\"-138.5\" font-family=\"arial\" font-size=\"10.00\">&quot;Bré.&quot;@fr</text>\n",
       "</g>\n",
       "<!-- 9d47eddebf7608a0460d1ad81d544857dc24411cdf6825706718c66574af4d17&#45;&gt;674d70c2d9341795c79b17a0eede8d62a7f947f0653c01c12fe2666bbe9d94e0 -->\n",
       "<g id=\"edge6\" class=\"edge\">\n",
       "<title>9d47eddebf7608a0460d1ad81d544857dc24411cdf6825706718c66574af4d17&#45;&gt;674d70c2d9341795c79b17a0eede8d62a7f947f0653c01c12fe2666bbe9d94e0</title>\n",
       "<path fill=\"none\" stroke=\"black\" d=\"M24.54,-153.62C29.92,-151.3 36.53,-148.81 42.75,-147.5 76.67,-140.34 116.77,-139.88 142.76,-140.61\"/>\n",
       "<polygon fill=\"black\" stroke=\"black\" points=\"149.13,-140.83 142.54,-143.53 147.1,-140.76 142.63,-140.6 142.63,-140.6 142.63,-140.6 147.1,-140.76 142.73,-137.68 149.13,-140.83\"/>\n",
       "<text text-anchor=\"middle\" x=\"69.75\" y=\"-149.45\" font-family=\"arial\" font-size=\"9.00\">skos:altLabel</text>\n",
       "</g>\n",
       "<!-- 73e490e5324e72b4aaf55d3d702b697a3b213a575097a6822a728d3a56640115 -->\n",
       "<g id=\"node8\" class=\"node\">\n",
       "<title>73e490e5324e72b4aaf55d3d702b697a3b213a575097a6822a728d3a56640115</title>\n",
       "<text text-anchor=\"middle\" x=\"171\" y=\"-104.5\" font-family=\"arial\" font-size=\"10.00\">&quot;Brés.&quot;@fr</text>\n",
       "</g>\n",
       "<!-- 9d47eddebf7608a0460d1ad81d544857dc24411cdf6825706718c66574af4d17&#45;&gt;73e490e5324e72b4aaf55d3d702b697a3b213a575097a6822a728d3a56640115 -->\n",
       "<g id=\"edge7\" class=\"edge\">\n",
       "<title>9d47eddebf7608a0460d1ad81d544857dc24411cdf6825706718c66574af4d17&#45;&gt;73e490e5324e72b4aaf55d3d702b697a3b213a575097a6822a728d3a56640115</title>\n",
       "<path fill=\"none\" stroke=\"black\" d=\"M16.89,-153.05C21.7,-145.5 31.07,-132.73 42.75,-126.5 73.05,-110.34 112.87,-106.92 139.84,-106.76\"/>\n",
       "<polygon fill=\"black\" stroke=\"black\" points=\"146.21,-106.8 139.7,-109.69 144.18,-106.79 139.71,-106.76 139.71,-106.76 139.71,-106.76 144.18,-106.79 139.73,-103.84 146.21,-106.8\"/>\n",
       "<text text-anchor=\"middle\" x=\"69.75\" y=\"-128.45\" font-family=\"arial\" font-size=\"9.00\">skos:altLabel</text>\n",
       "</g>\n",
       "<!-- ab517cbc220d08e961a130a5526a024d0152e84c8e13ba9894486a3f2545d3e3 -->\n",
       "<g id=\"node9\" class=\"node\">\n",
       "<title>ab517cbc220d08e961a130a5526a024d0152e84c8e13ba9894486a3f2545d3e3</title>\n",
       "<text text-anchor=\"middle\" x=\"171\" y=\"-70.5\" font-family=\"arial\" font-size=\"10.00\">&quot;Brésilien&quot;@fr</text>\n",
       "</g>\n",
       "<!-- 9d47eddebf7608a0460d1ad81d544857dc24411cdf6825706718c66574af4d17&#45;&gt;ab517cbc220d08e961a130a5526a024d0152e84c8e13ba9894486a3f2545d3e3 -->\n",
       "<g id=\"edge8\" class=\"edge\">\n",
       "<title>9d47eddebf7608a0460d1ad81d544857dc24411cdf6825706718c66574af4d17&#45;&gt;ab517cbc220d08e961a130a5526a024d0152e84c8e13ba9894486a3f2545d3e3</title>\n",
       "<path fill=\"none\" stroke=\"black\" d=\"M14.21,-153.33C16.38,-140.71 23.45,-110.25 42.75,-95.5 68.38,-75.92 105.43,-71.56 132.94,-71.5\"/>\n",
       "<polygon fill=\"black\" stroke=\"black\" points=\"139.22,-71.57 132.68,-74.42 137.18,-71.55 132.72,-71.49 132.72,-71.49 132.72,-71.49 137.18,-71.55 132.75,-68.57 139.22,-71.57\"/>\n",
       "<text text-anchor=\"middle\" x=\"69.75\" y=\"-97.45\" font-family=\"arial\" font-size=\"9.00\">skos:altLabel</text>\n",
       "</g>\n",
       "<!-- 9d6d3d7e6efd369024e2be5af62f1fb964e19b8feb2cbaed9cc3cd8271113cfc -->\n",
       "<g id=\"node10\" class=\"node\">\n",
       "<title>9d6d3d7e6efd369024e2be5af62f1fb964e19b8feb2cbaed9cc3cd8271113cfc</title>\n",
       "<text text-anchor=\"middle\" x=\"171\" y=\"-36.5\" font-family=\"arial\" font-size=\"10.00\">&quot;Brésilienne&quot;@fr</text>\n",
       "</g>\n",
       "<!-- 9d47eddebf7608a0460d1ad81d544857dc24411cdf6825706718c66574af4d17&#45;&gt;9d6d3d7e6efd369024e2be5af62f1fb964e19b8feb2cbaed9cc3cd8271113cfc -->\n",
       "<g id=\"edge9\" class=\"edge\">\n",
       "<title>9d47eddebf7608a0460d1ad81d544857dc24411cdf6825706718c66574af4d17&#45;&gt;9d6d3d7e6efd369024e2be5af62f1fb964e19b8feb2cbaed9cc3cd8271113cfc</title>\n",
       "<path fill=\"none\" stroke=\"black\" d=\"M13.16,-153.48C12.83,-136.63 14.32,-85.46 42.75,-60.5 65.66,-40.4 100.21,-35.88 127.53,-36.06\"/>\n",
       "<polygon fill=\"black\" stroke=\"black\" points=\"133.81,-36.2 127.24,-38.98 131.78,-36.15 127.31,-36.05 127.31,-36.05 127.31,-36.05 131.78,-36.15 127.37,-33.13 133.81,-36.2\"/>\n",
       "<text text-anchor=\"middle\" x=\"69.75\" y=\"-62.45\" font-family=\"arial\" font-size=\"9.00\">skos:altLabel</text>\n",
       "</g>\n",
       "<!-- e0c2f8e9ca309ab46cc2274df3a4f49f795d2aae7d0bb350b63488dc11545c3e -->\n",
       "<g id=\"node11\" class=\"node\">\n",
       "<title>e0c2f8e9ca309ab46cc2274df3a4f49f795d2aae7d0bb350b63488dc11545c3e</title>\n",
       "<text text-anchor=\"middle\" x=\"171\" y=\"-2.5\" font-family=\"arial\" font-size=\"10.00\">&quot;Brésil&quot;@fr</text>\n",
       "</g>\n",
       "<!-- 9d47eddebf7608a0460d1ad81d544857dc24411cdf6825706718c66574af4d17&#45;&gt;e0c2f8e9ca309ab46cc2274df3a4f49f795d2aae7d0bb350b63488dc11545c3e -->\n",
       "<g id=\"edge10\" class=\"edge\">\n",
       "<title>9d47eddebf7608a0460d1ad81d544857dc24411cdf6825706718c66574af4d17&#45;&gt;e0c2f8e9ca309ab46cc2274df3a4f49f795d2aae7d0bb350b63488dc11545c3e</title>\n",
       "<path fill=\"none\" stroke=\"black\" d=\"M13.78,-153.11C15.52,-129.42 23.23,-41.57 42.75,-23.5 68.58,0.42 110.96,1.49 139.64,-1.2\"/>\n",
       "<polygon fill=\"black\" stroke=\"black\" points=\"145.77,-1.87 138.99,-4.07 143.75,-1.65 139.31,-1.16 139.31,-1.16 139.31,-1.16 143.75,-1.65 139.62,1.74 145.77,-1.87\"/>\n",
       "<text text-anchor=\"middle\" x=\"69.75\" y=\"-25.45\" font-family=\"arial\" font-size=\"9.00\">rdfs:label</text>\n",
       "</g>\n",
       "</g>\n",
       "</svg>\n"
      ],
      "text/plain": [
       "<graphviz.graphs.Digraph at 0x1083a6120>"
      ]
     },
     "execution_count": 6,
     "metadata": {},
     "output_type": "execute_result"
    }
   ],
   "source": [
    "g.to_graphviz()"
   ]
  },
  {
   "cell_type": "markdown",
   "id": "5450aadb-be02-4d6d-b6fc-e7db4432191d",
   "metadata": {},
   "source": [
    "Alternatively, we can use the folowing entity methods:"
   ]
  },
  {
   "cell_type": "code",
   "execution_count": 7,
   "id": "eba43aca-0774-4b70-bb26-34863e16f05b",
   "metadata": {},
   "outputs": [
    {
     "data": {
      "text/markdown": [
       "\"Brésil\"@fr"
      ],
      "text/plain": [
       "Text('Brésil', 'fr')"
      ]
     },
     "execution_count": 7,
     "metadata": {},
     "output_type": "execute_result"
    }
   ],
   "source": [
    "wd.Brazil.get_label('fr')"
   ]
  },
  {
   "cell_type": "code",
   "execution_count": 8,
   "id": "d1d4da0d-9585-4059-a04b-5d81b1b6c8eb",
   "metadata": {},
   "outputs": [
    {
     "data": {
      "text/plain": [
       "{Text('Amérique lusophone', 'fr'),\n",
       " Text('Auriverde', 'fr'),\n",
       " Text('Brasil', 'fr'),\n",
       " Text('Brazil', 'fr'),\n",
       " Text('Bresil', 'fr'),\n",
       " Text('Bré.', 'fr'),\n",
       " Text('Brés.', 'fr'),\n",
       " Text('Brésilien', 'fr'),\n",
       " Text('Brésilienne', 'fr'),\n",
       " Text('Brézil', 'fr'),\n",
       " Text('République des États-Unis du Brésil', 'fr'),\n",
       " Text('République fédérative du Brésil', 'fr'),\n",
       " Text('la République fédérative du Brésil', 'fr')}"
      ]
     },
     "execution_count": 8,
     "metadata": {},
     "output_type": "execute_result"
    }
   ],
   "source": [
    "wd.Brazil.get_aliases('fr')"
   ]
  },
  {
   "cell_type": "code",
   "execution_count": 9,
   "id": "785aad89-f399-4ffc-98d0-a04e23c3006b",
   "metadata": {},
   "outputs": [
    {
     "data": {
      "text/markdown": [
       "\"pays d'Amérique du Sud\"@fr"
      ],
      "text/plain": [
       "Text(\"pays d'Amérique du Sud\", 'fr')"
      ]
     },
     "execution_count": 9,
     "metadata": {},
     "output_type": "execute_result"
    }
   ],
   "source": [
    "wd.Brazil.get_description('fr')"
   ]
  },
  {
   "cell_type": "markdown",
   "id": "323d4cb6-5213-4ccc-b920-a925400004aa",
   "metadata": {},
   "source": [
    "### Lexemes: Lemma, lexical category, and language"
   ]
  },
  {
   "cell_type": "markdown",
   "id": "1d6a62f2-7bb0-4c7b-8c3f-f6dccb52ac1c",
   "metadata": {},
   "source": [
    "Lexemes also have associated pseudo-properties:"
   ]
  },
  {
   "cell_type": "markdown",
   "id": "e966dde7-cba7-4d8e-9520-b659a976b238",
   "metadata": {},
   "source": [
    "*obtain the lemma, lexical category, and language of the lexeme L4471*"
   ]
  },
  {
   "cell_type": "code",
   "execution_count": 10,
   "id": "7269e51a-99cf-4012-8d21-4154f1be06fa",
   "metadata": {},
   "outputs": [
    {
     "data": {
      "text/markdown": [
       "(**Graph**\n",
       "- (**Statement** (**Lexeme** [wd:L4471](http://www.wikidata.org/entity/L4471)) (**ValueSnak** **LanguageProperty** (**Item** [English](http://www.wikidata.org/entity/Q1860))))\n",
       "- (**Statement** (**Lexeme** [wd:L4471](http://www.wikidata.org/entity/L4471)) (**ValueSnak** **LemmaProperty** \"love\"@en))\n",
       "- (**Statement** (**Lexeme** [wd:L4471](http://www.wikidata.org/entity/L4471)) (**ValueSnak** **LexicalCategoryProperty** (**Item** [verb](http://www.wikidata.org/entity/Q24905)))))"
      ],
      "text/plain": [
       "Graph(Statement(Lexeme(IRI('http://www.wikidata.org/entity/L4471')), ValueSnak(LanguageProperty(IRI('http://purl.org/dc/terms/language'), ItemDatatype()), Item(IRI('http://www.wikidata.org/entity/Q1860')))), Statement(Lexeme(IRI('http://www.wikidata.org/entity/L4471')), ValueSnak(LemmaProperty(IRI('http://wikiba.se/ontology#lemma'), TextDatatype()), Text('love', 'en'))), Statement(Lexeme(IRI('http://www.wikidata.org/entity/L4471')), ValueSnak(LexicalCategoryProperty(IRI('http://wikiba.se/ontology#lexicalCategory'), ItemDatatype()), Item(IRI('http://www.wikidata.org/entity/Q24905')))))"
      ]
     },
     "execution_count": 10,
     "metadata": {},
     "output_type": "execute_result"
    }
   ],
   "source": [
    "it = kb.filter(wd.L(4471), wd.lemma | wd.lexical_category | wd.language)\n",
    "g = Graph(*it)\n",
    "g"
   ]
  },
  {
   "cell_type": "code",
   "execution_count": 11,
   "id": "cc1e3ece-9b10-4f98-aaa5-a66d6bd20e95",
   "metadata": {},
   "outputs": [
    {
     "data": {
      "image/svg+xml": [
       "<?xml version=\"1.0\" encoding=\"UTF-8\" standalone=\"no\"?>\n",
       "<!DOCTYPE svg PUBLIC \"-//W3C//DTD SVG 1.1//EN\"\n",
       " \"http://www.w3.org/Graphics/SVG/1.1/DTD/svg11.dtd\">\n",
       "<!-- Generated by graphviz version 12.2.1 (20241206.2353)\n",
       " -->\n",
       "<!-- Pages: 1 -->\n",
       "<svg width=\"235pt\" height=\"88pt\"\n",
       " viewBox=\"0.00 0.00 234.50 88.00\" xmlns=\"http://www.w3.org/2000/svg\" xmlns:xlink=\"http://www.w3.org/1999/xlink\">\n",
       "<g id=\"graph0\" class=\"graph\" transform=\"scale(1 1) rotate(0) translate(4 84)\">\n",
       "<polygon fill=\"white\" stroke=\"none\" points=\"-4,4 -4,-84 230.5,-84 230.5,4 -4,4\"/>\n",
       "<!-- 4b085c30a1ca53bf4a87c509eed0fa6ef4b49fa07ba88c58b54b3a5d8ee085fa -->\n",
       "<g id=\"node1\" class=\"node\">\n",
       "<title>4b085c30a1ca53bf4a87c509eed0fa6ef4b49fa07ba88c58b54b3a5d8ee085fa</title>\n",
       "<text text-anchor=\"middle\" x=\"21\" y=\"-36.5\" font-family=\"arial\" font-size=\"10.00\">wd:L4471</text>\n",
       "</g>\n",
       "<!-- 03ae7145d89f8d1564fc7651ec83695bd752d369f4e6ef29e20eb50371d6de8c -->\n",
       "<g id=\"node2\" class=\"node\">\n",
       "<title>03ae7145d89f8d1564fc7651ec83695bd752d369f4e6ef29e20eb50371d6de8c</title>\n",
       "<text text-anchor=\"middle\" x=\"203.25\" y=\"-70.5\" font-family=\"arial\" font-size=\"10.00\">English</text>\n",
       "</g>\n",
       "<!-- 4b085c30a1ca53bf4a87c509eed0fa6ef4b49fa07ba88c58b54b3a5d8ee085fa&#45;&gt;03ae7145d89f8d1564fc7651ec83695bd752d369f4e6ef29e20eb50371d6de8c -->\n",
       "<g id=\"edge1\" class=\"edge\">\n",
       "<title>4b085c30a1ca53bf4a87c509eed0fa6ef4b49fa07ba88c58b54b3a5d8ee085fa&#45;&gt;03ae7145d89f8d1564fc7651ec83695bd752d369f4e6ef29e20eb50371d6de8c</title>\n",
       "<path fill=\"none\" stroke=\"black\" d=\"M38.87,-45.94C45.41,-48.07 52.99,-50.36 60,-52 101.82,-61.78 151.59,-68.34 179.8,-71.6\"/>\n",
       "<polygon fill=\"black\" stroke=\"black\" points=\"185.94,-72.29 179.16,-74.47 183.93,-72.07 179.49,-71.56 179.49,-71.56 179.49,-71.56 183.93,-72.07 179.81,-68.66 185.94,-72.29\"/>\n",
       "<text text-anchor=\"middle\" x=\"111\" y=\"-71.26\" font-family=\"arial\" font-size=\"9.00\">dct:language</text>\n",
       "</g>\n",
       "<!-- e3c6fa020bac9a69087d78d093f6ffde04750628ee96d1a409bd00646b8bda38 -->\n",
       "<g id=\"node3\" class=\"node\">\n",
       "<title>e3c6fa020bac9a69087d78d093f6ffde04750628ee96d1a409bd00646b8bda38</title>\n",
       "<text text-anchor=\"middle\" x=\"203.25\" y=\"-36.5\" font-family=\"arial\" font-size=\"10.00\">&quot;love&quot;@en</text>\n",
       "</g>\n",
       "<!-- 4b085c30a1ca53bf4a87c509eed0fa6ef4b49fa07ba88c58b54b3a5d8ee085fa&#45;&gt;e3c6fa020bac9a69087d78d093f6ffde04750628ee96d1a409bd00646b8bda38 -->\n",
       "<g id=\"edge2\" class=\"edge\">\n",
       "<title>4b085c30a1ca53bf4a87c509eed0fa6ef4b49fa07ba88c58b54b3a5d8ee085fa&#45;&gt;e3c6fa020bac9a69087d78d093f6ffde04750628ee96d1a409bd00646b8bda38</title>\n",
       "<path fill=\"none\" stroke=\"black\" d=\"M41.98,-40C73.73,-40 135.87,-40 172.75,-40\"/>\n",
       "<polygon fill=\"black\" stroke=\"black\" points=\"179,-40 172.5,-42.93 176.97,-40 172.5,-40 172.5,-40 172.5,-40 176.97,-40 172.5,-37.08 179,-40\"/>\n",
       "<text text-anchor=\"middle\" x=\"111\" y=\"-41.95\" font-family=\"arial\" font-size=\"9.00\">wikibase:lemma</text>\n",
       "</g>\n",
       "<!-- d75233c30087bcfc6d735a97af6c6a343df74e988243986253bfcc6e18a4dbda -->\n",
       "<g id=\"node4\" class=\"node\">\n",
       "<title>d75233c30087bcfc6d735a97af6c6a343df74e988243986253bfcc6e18a4dbda</title>\n",
       "<text text-anchor=\"middle\" x=\"203.25\" y=\"-2.5\" font-family=\"arial\" font-size=\"10.00\">verb</text>\n",
       "</g>\n",
       "<!-- 4b085c30a1ca53bf4a87c509eed0fa6ef4b49fa07ba88c58b54b3a5d8ee085fa&#45;&gt;d75233c30087bcfc6d735a97af6c6a343df74e988243986253bfcc6e18a4dbda -->\n",
       "<g id=\"edge3\" class=\"edge\">\n",
       "<title>4b085c30a1ca53bf4a87c509eed0fa6ef4b49fa07ba88c58b54b3a5d8ee085fa&#45;&gt;d75233c30087bcfc6d735a97af6c6a343df74e988243986253bfcc6e18a4dbda</title>\n",
       "<path fill=\"none\" stroke=\"black\" d=\"M35.12,-34.14C42.34,-31.14 51.52,-27.67 60,-25.5 105.11,-13.96 160.12,-8.88 186.57,-6.98\"/>\n",
       "<polygon fill=\"black\" stroke=\"black\" points=\"192.89,-6.55 186.6,-9.91 190.86,-6.68 186.4,-6.99 186.4,-6.99 186.4,-6.99 190.86,-6.68 186.21,-4.07 192.89,-6.55\"/>\n",
       "<text text-anchor=\"middle\" x=\"111\" y=\"-27.45\" font-family=\"arial\" font-size=\"9.00\">wikibase:lexicalCategory</text>\n",
       "</g>\n",
       "</g>\n",
       "</svg>\n"
      ],
      "text/plain": [
       "<graphviz.graphs.Digraph at 0x1083afd90>"
      ]
     },
     "execution_count": 11,
     "metadata": {},
     "output_type": "execute_result"
    }
   ],
   "source": [
    "g.to_graphviz()"
   ]
  },
  {
   "cell_type": "markdown",
   "id": "29ec0964-febf-4d92-a3cc-1b907880e834",
   "metadata": {},
   "source": [
    "Again, these pseudo-properties are also accessible through entity methods:"
   ]
  },
  {
   "cell_type": "code",
   "execution_count": 13,
   "id": "a6ecab0a-1979-47dd-af6b-93bbe8ada14f",
   "metadata": {},
   "outputs": [
    {
     "data": {
      "text/markdown": [
       "\"love\"@en"
      ],
      "text/plain": [
       "Text('love', 'en')"
      ]
     },
     "metadata": {},
     "output_type": "display_data"
    },
    {
     "data": {
      "text/markdown": [
       "(**Item** [verb](http://www.wikidata.org/entity/Q24905))"
      ],
      "text/plain": [
       "Item(IRI('http://www.wikidata.org/entity/Q24905'))"
      ]
     },
     "metadata": {},
     "output_type": "display_data"
    },
    {
     "data": {
      "text/markdown": [
       "(**Item** [English](http://www.wikidata.org/entity/Q1860))"
      ],
      "text/plain": [
       "Item(IRI('http://www.wikidata.org/entity/Q1860'))"
      ]
     },
     "metadata": {},
     "output_type": "display_data"
    }
   ],
   "source": [
    "display(\n",
    "    wd.L(4471).lemma,\n",
    "    wd.L(4471).category,\n",
    "    wd.L(44471).language)"
   ]
  }
 ],
 "metadata": {
  "kernelspec": {
   "display_name": "venv313",
   "language": "python",
   "name": "venv313"
  },
  "language_info": {
   "codemirror_mode": {
    "name": "ipython",
    "version": 3
   },
   "file_extension": ".py",
   "mimetype": "text/x-python",
   "name": "python",
   "nbconvert_exporter": "python",
   "pygments_lexer": "ipython3",
   "version": "3.13.2"
  }
 },
 "nbformat": 4,
 "nbformat_minor": 5
}
