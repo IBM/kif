{
 "cells": [
  {
   "cell_type": "code",
   "execution_count": 1,
   "id": "9604c777-9b2a-42e4-b362-2ae027d60b98",
   "metadata": {},
   "outputs": [
    {
     "name": "stdout",
     "output_type": "stream",
     "text": [
      "env: KIF_DEBUG=\n",
      "env: KIF_RESOLVE_ENTITIES=1\n"
     ]
    }
   ],
   "source": [
    "%env KIF_DEBUG=\n",
    "%env KIF_RESOLVE_ENTITIES=1"
   ]
  },
  {
   "cell_type": "markdown",
   "id": "92563a8c-0516-4552-a783-64728b226ebe",
   "metadata": {},
   "source": [
    "# DBpedia (experimental)"
   ]
  },
  {
   "cell_type": "code",
   "execution_count": 2,
   "id": "f88fb043-7959-4dce-ad15-f8b8fe739de0",
   "metadata": {},
   "outputs": [],
   "source": [
    "from kif_lib import *\n",
    "from kif_lib.vocabulary import db, wd"
   ]
  },
  {
   "cell_type": "markdown",
   "id": "ce00ad0c-49d0-4222-9015-63804d377bda",
   "metadata": {},
   "source": [
    "## DBpediaMapping"
   ]
  },
  {
   "cell_type": "code",
   "execution_count": 3,
   "id": "e5a05f61-bdf9-439d-ae93-1e135e8e38e6",
   "metadata": {},
   "outputs": [],
   "source": [
    "from kif_lib.compiler.sparql.mapping.dbpedia import DBpediaMapping"
   ]
  },
  {
   "cell_type": "markdown",
   "id": "82ef2590-61c3-4426-a267-d1ed4c1ecab8",
   "metadata": {},
   "source": [
    "## Showcase"
   ]
  },
  {
   "cell_type": "code",
   "execution_count": 4,
   "id": "bc973c28-86a0-44c3-a0ce-b41cc7ad9fd8",
   "metadata": {},
   "outputs": [],
   "source": [
    "kb = Store('sparql2', 'https://dbpedia.org/sparql', mapping=DBpediaMapping())"
   ]
  },
  {
   "cell_type": "code",
   "execution_count": 5,
   "id": "72355982-5a6c-4865-981c-539b281aef92",
   "metadata": {},
   "outputs": [],
   "source": [
    "def filter(*args, **kwargs):\n",
    "    limit = kwargs.pop('limit', 3)\n",
    "    for stmt in kb.filter(filter=Filter(*args, **kwargs), limit=limit):\n",
    "        display(stmt)"
   ]
  },
  {
   "cell_type": "markdown",
   "id": "20403470-beb4-4d9f-adef-5ba92a7e6851",
   "metadata": {},
   "source": [
    "### Label and description (pseudo-properties)"
   ]
  },
  {
   "cell_type": "code",
   "execution_count": 6,
   "id": "c6df172f-34b8-47d7-b413-2805cd34a9ce",
   "metadata": {},
   "outputs": [
    {
     "data": {
      "text/markdown": [
       "(**Statement** (**Item** [Brazil](http://dbpedia.org/resource/Brazil)) (**ValueSnak** **LabelProperty** \"Brazil\"@en))"
      ],
      "text/plain": [
       "Statement(Item(IRI('http://dbpedia.org/resource/Brazil')), ValueSnak(LabelProperty(IRI('http://www.w3.org/2000/01/rdf-schema#label'), TextDatatype()), Text('Brazil', 'en')))"
      ]
     },
     "metadata": {},
     "output_type": "display_data"
    }
   ],
   "source": [
    "filter(subject=db.r('Brazil'), property=wd.label, language='en')"
   ]
  },
  {
   "cell_type": "code",
   "execution_count": 7,
   "id": "320f22c5-a72e-43ae-b4e1-8cf122350ec8",
   "metadata": {},
   "outputs": [
    {
     "data": {
      "text/markdown": [
       "(**Statement** (**Item** [Brazil](http://dbpedia.org/resource/Brazil)) (**ValueSnak** **DescriptionProperty** \"Brazil (Portuguese: Brasil; Brazilian Portuguese: \\[bɾaˈziw]), officially the Federative Republic of Brazil (Portuguese: ), is the largest country in both South America and Latin America. At 8.5 million square kilometers (3,300,000 sq mi) and with over 217 million people, Brazil is the world's fifth-largest country by area and the seventh most populous. Its capital is Brasília, and its most populous city is São Paulo. The federation is composed of the union of the 26 states and the Federal District. It is the largest country to have Portuguese as an official language and the only one in the Americas; one of the most multicultural and ethnically diverse nations, due to over a century of mass immigration from around the world; and the most populous Roman Catholic-majority country.\"@en))"
      ],
      "text/plain": [
       "Statement(Item(IRI('http://dbpedia.org/resource/Brazil')), ValueSnak(DescriptionProperty(IRI('http://schema.org/description'), TextDatatype()), Text(\"Brazil (Portuguese: Brasil; Brazilian Portuguese: [bɾaˈziw]), officially the Federative Republic of Brazil (Portuguese: ), is the largest country in both South America and Latin America. At 8.5 million square kilometers (3,300,000 sq mi) and with over 217 million people, Brazil is the world's fifth-largest country by area and the seventh most populous. Its capital is Brasília, and its most populous city is São Paulo. The federation is composed of the union of the 26 states and the Federal District. It is the largest country to have Portuguese as an official language and the only one in the Americas; one of the most multicultural and ethnically diverse nations, due to over a century of mass immigration from around the world; and the most populous Roman Catholic-majority country.\", 'en')))"
      ]
     },
     "metadata": {},
     "output_type": "display_data"
    }
   ],
   "source": [
    "filter(subject=db.r('Brazil'), property=wd.description, language='en')"
   ]
  },
  {
   "cell_type": "markdown",
   "id": "845de0c0-aa7e-4a8a-9ab0-f9f8ab31b2fe",
   "metadata": {},
   "source": [
    "### Native queries"
   ]
  },
  {
   "cell_type": "code",
   "execution_count": 8,
   "id": "4f5078c2-de12-4765-81dc-24a338f9fabb",
   "metadata": {},
   "outputs": [
    {
     "data": {
      "text/markdown": [
       "(**Statement** (**Item** [Brazil](http://dbpedia.org/resource/Brazil)) (**ValueSnak** (**Property** [capital](http://dbpedia.org/ontology/capital)) (**Item** [Brasília](http://dbpedia.org/resource/Brasília))))"
      ],
      "text/plain": [
       "Statement(Item(IRI('http://dbpedia.org/resource/Brazil')), ValueSnak(Property(IRI('http://dbpedia.org/ontology/capital'), ItemDatatype()), Item(IRI('http://dbpedia.org/resource/Brasília'))))"
      ]
     },
     "metadata": {},
     "output_type": "display_data"
    },
    {
     "data": {
      "text/markdown": [
       "(**Statement** (**Item** [Brazil](http://dbpedia.org/resource/Brazil)) (**ValueSnak** (**Property** [currency](http://dbpedia.org/ontology/currency)) (**Item** [Brazilian real](http://dbpedia.org/resource/Brazilian_real))))"
      ],
      "text/plain": [
       "Statement(Item(IRI('http://dbpedia.org/resource/Brazil')), ValueSnak(Property(IRI('http://dbpedia.org/ontology/currency'), ItemDatatype()), Item(IRI('http://dbpedia.org/resource/Brazilian_real'))))"
      ]
     },
     "metadata": {},
     "output_type": "display_data"
    },
    {
     "data": {
      "text/markdown": [
       "(**Statement** (**Item** [Brazil](http://dbpedia.org/resource/Brazil)) (**ValueSnak** (**Property** [ethnic group](http://dbpedia.org/ontology/ethnicGroup)) (**Item** [Indigenous peoples in Brazil](http://dbpedia.org/resource/Indigenous_peoples_in_Brazil))))"
      ],
      "text/plain": [
       "Statement(Item(IRI('http://dbpedia.org/resource/Brazil')), ValueSnak(Property(IRI('http://dbpedia.org/ontology/ethnicGroup'), ItemDatatype()), Item(IRI('http://dbpedia.org/resource/Indigenous_peoples_in_Brazil'))))"
      ]
     },
     "metadata": {},
     "output_type": "display_data"
    }
   ],
   "source": [
    "filter(subject=db.r('Brazil'))"
   ]
  },
  {
   "cell_type": "code",
   "execution_count": 9,
   "id": "43c5b329-e5e3-49cc-a00e-6c89015ea8fb",
   "metadata": {},
   "outputs": [
    {
     "data": {
      "text/markdown": [
       "(**Statement** (**Item** [Cabeção (footballer)](http://dbpedia.org/resource/Cabeção_(footballer))) (**ValueSnak** (**Property** [birth place](http://dbpedia.org/ontology/birthPlace)) (**Item** [Brazil](http://dbpedia.org/resource/Brazil))))"
      ],
      "text/plain": [
       "Statement(Item(IRI('http://dbpedia.org/resource/Cabeção_(footballer)')), ValueSnak(Property(IRI('http://dbpedia.org/ontology/birthPlace'), ItemDatatype()), Item(IRI('http://dbpedia.org/resource/Brazil'))))"
      ]
     },
     "metadata": {},
     "output_type": "display_data"
    },
    {
     "data": {
      "text/markdown": [
       "(**Statement** (**Item** [Cabo Daciolo](http://dbpedia.org/resource/Cabo_Daciolo)) (**ValueSnak** (**Property** [birth place](http://dbpedia.org/ontology/birthPlace)) (**Item** [Brazil](http://dbpedia.org/resource/Brazil))))"
      ],
      "text/plain": [
       "Statement(Item(IRI('http://dbpedia.org/resource/Cabo_Daciolo')), ValueSnak(Property(IRI('http://dbpedia.org/ontology/birthPlace'), ItemDatatype()), Item(IRI('http://dbpedia.org/resource/Brazil'))))"
      ]
     },
     "metadata": {},
     "output_type": "display_data"
    },
    {
     "data": {
      "text/markdown": [
       "(**Statement** (**Item** [Cabore](http://dbpedia.org/resource/Cabore)) (**ValueSnak** (**Property** [birth place](http://dbpedia.org/ontology/birthPlace)) (**Item** [Brazil](http://dbpedia.org/resource/Brazil))))"
      ],
      "text/plain": [
       "Statement(Item(IRI('http://dbpedia.org/resource/Cabore')), ValueSnak(Property(IRI('http://dbpedia.org/ontology/birthPlace'), ItemDatatype()), Item(IRI('http://dbpedia.org/resource/Brazil'))))"
      ]
     },
     "metadata": {},
     "output_type": "display_data"
    }
   ],
   "source": [
    "filter(property=db.op('birthPlace') | db.op('deathPlace'), value=db.r('Brazil'))"
   ]
  },
  {
   "cell_type": "code",
   "execution_count": 10,
   "id": "1e12b067-c81a-4b97-bae2-384f4a49ce35",
   "metadata": {},
   "outputs": [
    {
     "data": {
      "text/markdown": [
       "(**Statement** (**Property** [birth place](http://dbpedia.org/ontology/birthPlace)) (**ValueSnak** **LabelProperty** \"lieu de naissance\"@fr))"
      ],
      "text/plain": [
       "Statement(Property(IRI('http://dbpedia.org/ontology/birthPlace'), None), ValueSnak(LabelProperty(IRI('http://www.w3.org/2000/01/rdf-schema#label'), TextDatatype()), Text('lieu de naissance', 'fr')))"
      ]
     },
     "metadata": {},
     "output_type": "display_data"
    }
   ],
   "source": [
    "filter(subject=db.op('birthPlace'), language='fr')"
   ]
  },
  {
   "cell_type": "markdown",
   "id": "fa6e6f9e-6bde-43cc-9262-911779055862",
   "metadata": {},
   "source": [
    "### Filtering by Wikidata entities (wd.same_as)"
   ]
  },
  {
   "cell_type": "code",
   "execution_count": 11,
   "id": "25658488-9e4a-4c27-8db2-c4b68e7bc1f2",
   "metadata": {},
   "outputs": [],
   "source": [
    "filter(subject=wd.same_as(wd.Alan_Turing))"
   ]
  },
  {
   "cell_type": "code",
   "execution_count": 12,
   "id": "cdd1396f-2f95-4888-8463-270cf8d43483",
   "metadata": {},
   "outputs": [
    {
     "data": {
      "text/markdown": [
       "(**Statement** (**Item** [Cafuringa](http://dbpedia.org/resource/Cafuringa)) (**ValueSnak** (**Property** [death place](http://dbpedia.org/ontology/deathPlace)) (**Item** [Brazil](http://dbpedia.org/resource/Brazil))))"
      ],
      "text/plain": [
       "Statement(Item(IRI('http://dbpedia.org/resource/Cafuringa')), ValueSnak(Property(IRI('http://dbpedia.org/ontology/deathPlace'), ItemDatatype()), Item(IRI('http://dbpedia.org/resource/Brazil'))))"
      ]
     },
     "metadata": {},
     "output_type": "display_data"
    },
    {
     "data": {
      "text/markdown": [
       "(**Statement** (**Item** [Candido Portinari](http://dbpedia.org/resource/Candido_Portinari)) (**ValueSnak** (**Property** [death place](http://dbpedia.org/ontology/deathPlace)) (**Item** [Brazil](http://dbpedia.org/resource/Brazil))))"
      ],
      "text/plain": [
       "Statement(Item(IRI('http://dbpedia.org/resource/Candido_Portinari')), ValueSnak(Property(IRI('http://dbpedia.org/ontology/deathPlace'), ItemDatatype()), Item(IRI('http://dbpedia.org/resource/Brazil'))))"
      ]
     },
     "metadata": {},
     "output_type": "display_data"
    },
    {
     "data": {
      "text/markdown": [
       "(**Statement** (**Item** [Carlos Alberto Menezes Direito](http://dbpedia.org/resource/Carlos_Alberto_Menezes_Direito)) (**ValueSnak** (**Property** [death place](http://dbpedia.org/ontology/deathPlace)) (**Item** [Brazil](http://dbpedia.org/resource/Brazil))))"
      ],
      "text/plain": [
       "Statement(Item(IRI('http://dbpedia.org/resource/Carlos_Alberto_Menezes_Direito')), ValueSnak(Property(IRI('http://dbpedia.org/ontology/deathPlace'), ItemDatatype()), Item(IRI('http://dbpedia.org/resource/Brazil'))))"
      ]
     },
     "metadata": {},
     "output_type": "display_data"
    }
   ],
   "source": [
    "filter(property=db.op('deathPlace'), value=wd.same_as(wd.Brazil) | wd.same_as(wd.Argentina))"
   ]
  },
  {
   "cell_type": "markdown",
   "id": "9e171541-80e5-436a-999d-4de87784daa2",
   "metadata": {},
   "source": [
    "### Using Wikidata properties directly"
   ]
  },
  {
   "cell_type": "code",
   "execution_count": 13,
   "id": "eea3103e-6c45-4add-8214-fe098c18d27e",
   "metadata": {},
   "outputs": [
    {
     "data": {
      "text/markdown": [
       "(**Statement** (**Item** [Alan Turing](http://dbpedia.org/resource/Alan_Turing)) (**ValueSnak** (**Property** [place of birth](http://www.wikidata.org/entity/P19)) (**Item** [Maida Vale](http://dbpedia.org/resource/Maida_Vale))))"
      ],
      "text/plain": [
       "Statement(Item(IRI('http://dbpedia.org/resource/Alan_Turing')), ValueSnak(Property(IRI('http://www.wikidata.org/entity/P19'), ItemDatatype()), Item(IRI('http://dbpedia.org/resource/Maida_Vale'))))"
      ]
     },
     "metadata": {},
     "output_type": "display_data"
    },
    {
     "data": {
      "text/markdown": [
       "(**Statement** (**Item** [Alan Turing](http://dbpedia.org/resource/Alan_Turing)) (**ValueSnak** (**Property** [place of death](http://www.wikidata.org/entity/P20)) (**Item** [Wilmslow](http://dbpedia.org/resource/Wilmslow))))"
      ],
      "text/plain": [
       "Statement(Item(IRI('http://dbpedia.org/resource/Alan_Turing')), ValueSnak(Property(IRI('http://www.wikidata.org/entity/P20'), ItemDatatype()), Item(IRI('http://dbpedia.org/resource/Wilmslow'))))"
      ]
     },
     "metadata": {},
     "output_type": "display_data"
    }
   ],
   "source": [
    "filter(subject=db.r('Alan_Turing'), property=wd.place_of_birth | wd.place_of_death)"
   ]
  },
  {
   "cell_type": "code",
   "execution_count": 14,
   "id": "a61b0e06-a5de-4fc8-afe9-0b0b43126ead",
   "metadata": {},
   "outputs": [
    {
     "data": {
      "text/markdown": [
       "(**Statement** (**Item** [Pelé](http://dbpedia.org/resource/Pelé)) (**ValueSnak** (**Property** [place of birth](http://www.wikidata.org/entity/P19)) (**Item** [Três Corações](http://dbpedia.org/resource/Três_Corações))))"
      ],
      "text/plain": [
       "Statement(Item(IRI('http://dbpedia.org/resource/Pelé')), ValueSnak(Property(IRI('http://www.wikidata.org/entity/P19'), ItemDatatype()), Item(IRI('http://dbpedia.org/resource/Três_Corações'))))"
      ]
     },
     "metadata": {},
     "output_type": "display_data"
    }
   ],
   "source": [
    "filter(subject=db.r('Pelé'), property=wd.place_of_birth | wd.place_of_death)"
   ]
  }
 ],
 "metadata": {
  "kernelspec": {
   "display_name": "venv313",
   "language": "python",
   "name": "venv313"
  },
  "language_info": {
   "codemirror_mode": {
    "name": "ipython",
    "version": 3
   },
   "file_extension": ".py",
   "mimetype": "text/x-python",
   "name": "python",
   "nbconvert_exporter": "python",
   "pygments_lexer": "ipython3",
   "version": "3.13.2"
  }
 },
 "nbformat": 4,
 "nbformat_minor": 5
}
