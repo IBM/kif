{
 "cells": [
  {
   "cell_type": "code",
   "execution_count": 1,
   "id": "c6d912c6-b715-416c-8281-51b7c109e773",
   "metadata": {},
   "outputs": [
    {
     "name": "stdout",
     "output_type": "stream",
     "text": [
      "env: KIF_DEBUG=\n",
      "env: KIF_RESOLVE_ENTITIES=1\n"
     ]
    }
   ],
   "source": [
    "%env KIF_DEBUG=\n",
    "%env KIF_RESOLVE_ENTITIES=1"
   ]
  },
  {
   "cell_type": "markdown",
   "id": "63ea7b8d-1c3f-4e40-beb5-a6e2c25f5a26",
   "metadata": {},
   "source": [
    "# PubChem"
   ]
  },
  {
   "cell_type": "code",
   "execution_count": 2,
   "id": "ab044610-1d2b-4e57-88b0-aaa426b73f29",
   "metadata": {},
   "outputs": [],
   "source": [
    "from kif_lib import *\n",
    "from kif_lib.vocabulary import pc, wd"
   ]
  },
  {
   "cell_type": "markdown",
   "id": "82bdb5e8-5090-482b-a7b9-7e8726cfe1e9",
   "metadata": {},
   "source": [
    "Create a SPARQL store with PubChem mappings pointing to a PubChem RDF SPARQL endpoint:"
   ]
  },
  {
   "cell_type": "code",
   "execution_count": 3,
   "id": "452b3fe1-f4cf-46dc-bd6b-319053b7f2a9",
   "metadata": {},
   "outputs": [],
   "source": [
    "import os\n",
    "kb = Store('pubchem-sparql', os.getenv('PUBCHEM', 'https://qlever.cs.uni-freiburg.de/api/pubchem'))"
   ]
  },
  {
   "cell_type": "markdown",
   "id": "01134166-9ce7-4197-93c5-d7e58aaf257d",
   "metadata": {},
   "source": [
    "If a limit on the number of results is not specified, assume 3:"
   ]
  },
  {
   "cell_type": "code",
   "execution_count": 4,
   "id": "c0e03fd5-32a8-4313-942d-10de6f25d27b",
   "metadata": {},
   "outputs": [],
   "source": [
    "kb.limit = 3"
   ]
  },
  {
   "cell_type": "markdown",
   "id": "46f0540f-fe57-4851-b291-1cb8f7a681ff",
   "metadata": {},
   "source": [
    "## Label, aliases, and description (pseudo-properties)"
   ]
  },
  {
   "cell_type": "markdown",
   "id": "8690b84f-9729-44c8-a823-f6948b97f4a1",
   "metadata": {},
   "source": [
    "Gets the label of benzene (CID 241) in English:"
   ]
  },
  {
   "cell_type": "code",
   "execution_count": 5,
   "id": "b6558551-c553-4048-99b0-67e077d65417",
   "metadata": {},
   "outputs": [
    {
     "data": {
      "text/markdown": [
       "(**Statement** (**Item** [benzene](http://rdf.ncbi.nlm.nih.gov/pubchem/compound/CID241)) (**ValueSnak** **LabelProperty** \"benzene\"@en))"
      ],
      "text/plain": [
       "Statement(Item(IRI('http://rdf.ncbi.nlm.nih.gov/pubchem/compound/CID241')), ValueSnak(LabelProperty(IRI('http://www.w3.org/2000/01/rdf-schema#label'), TextDatatype()), Text('benzene', 'en')))"
      ]
     },
     "metadata": {},
     "output_type": "display_data"
    }
   ],
   "source": [
    "it = kb.filter(subject=pc.CID(241), property=wd.label, language='en')\n",
    "display(*it)"
   ]
  },
  {
   "cell_type": "markdown",
   "id": "0bea45de-bb25-49d0-85cb-859f48ea75c5",
   "metadata": {},
   "source": [
    "Gets the aliases of benzene in English:"
   ]
  },
  {
   "cell_type": "code",
   "execution_count": 6,
   "id": "e73bd19e-b707-4c57-b149-6573e94a90e8",
   "metadata": {},
   "outputs": [
    {
     "data": {
      "text/markdown": [
       "(**Statement** (**Item** [benzene](http://rdf.ncbi.nlm.nih.gov/pubchem/compound/CID241)) (**ValueSnak** **AliasProperty** \"benzene\"@en))"
      ],
      "text/plain": [
       "Statement(Item(IRI('http://rdf.ncbi.nlm.nih.gov/pubchem/compound/CID241')), ValueSnak(AliasProperty(IRI('http://www.w3.org/2004/02/skos/core#altLabel'), TextDatatype()), Text('benzene', 'en')))"
      ]
     },
     "metadata": {},
     "output_type": "display_data"
    },
    {
     "data": {
      "text/markdown": [
       "(**Statement** (**Item** [benzene](http://rdf.ncbi.nlm.nih.gov/pubchem/compound/CID241)) (**ValueSnak** **AliasProperty** \"BENZENE\"@en))"
      ],
      "text/plain": [
       "Statement(Item(IRI('http://rdf.ncbi.nlm.nih.gov/pubchem/compound/CID241')), ValueSnak(AliasProperty(IRI('http://www.w3.org/2004/02/skos/core#altLabel'), TextDatatype()), Text('BENZENE', 'en')))"
      ]
     },
     "metadata": {},
     "output_type": "display_data"
    },
    {
     "data": {
      "text/markdown": [
       "(**Statement** (**Item** [benzene](http://rdf.ncbi.nlm.nih.gov/pubchem/compound/CID241)) (**ValueSnak** **AliasProperty** \"Benzene\"@en))"
      ],
      "text/plain": [
       "Statement(Item(IRI('http://rdf.ncbi.nlm.nih.gov/pubchem/compound/CID241')), ValueSnak(AliasProperty(IRI('http://www.w3.org/2004/02/skos/core#altLabel'), TextDatatype()), Text('Benzene', 'en')))"
      ]
     },
     "metadata": {},
     "output_type": "display_data"
    }
   ],
   "source": [
    "it = kb.filter(subject=pc.CID(241), property=wd.alias, language='en')\n",
    "display(*it)"
   ]
  },
  {
   "cell_type": "markdown",
   "id": "f2a7025b-0e8b-423e-8d2e-fe05da8a19ce",
   "metadata": {},
   "source": [
    "Gets the description of benzene in English:"
   ]
  },
  {
   "cell_type": "code",
   "execution_count": 7,
   "id": "1defe046-671b-4fa0-9228-e656b87d8d7f",
   "metadata": {},
   "outputs": [
    {
     "data": {
      "text/markdown": [
       "(**Statement** (**Item** [benzene](http://rdf.ncbi.nlm.nih.gov/pubchem/compound/CID241)) (**ValueSnak** **DescriptionProperty** \"A six-carbon aromatic annulene in which each carbon atom donates one of its two 2p electrons into a delocalised pi system. A toxic, flammable liquid byproduct of coal distillation, it is used as an industrial solvent. Benzene is a carcinogen that also damages bone marrow and the central nervous system.\"@en))"
      ],
      "text/plain": [
       "Statement(Item(IRI('http://rdf.ncbi.nlm.nih.gov/pubchem/compound/CID241')), ValueSnak(DescriptionProperty(IRI('http://schema.org/description'), TextDatatype()), Text('A six-carbon aromatic annulene in which each carbon atom donates one of its two 2p electrons into a delocalised pi system. A toxic, flammable liquid byproduct of coal distillation, it is used as an industrial solvent. Benzene is a carcinogen that also damages bone marrow and the central nervous system.', 'en')))"
      ]
     },
     "metadata": {},
     "output_type": "display_data"
    }
   ],
   "source": [
    "it = kb.filter(subject=pc.CID(241), property=wd.description, language='en')\n",
    "display(*it)"
   ]
  },
  {
   "cell_type": "markdown",
   "id": "25beed10-63d6-429c-b2be-3630ecdb7e32",
   "metadata": {},
   "source": [
    "Notice that we search for entities with a given label:"
   ]
  },
  {
   "cell_type": "markdown",
   "id": "f5019eff-bf08-4cc5-ad2a-278b25efd751",
   "metadata": {},
   "source": [
    "## Compounds"
   ]
  },
  {
   "cell_type": "markdown",
   "id": "2092fe68-bb5d-4bb7-a87e-29aebc60550f",
   "metadata": {},
   "source": [
    "These are the currently supported properties for compounds:"
   ]
  },
  {
   "cell_type": "code",
   "execution_count": 8,
   "id": "6d38ef62-17c0-45e2-93da-c0923505f826",
   "metadata": {},
   "outputs": [],
   "source": [
    "COMPOUND_PROPERTIES = [\n",
    "    wd.canonical_SMILES,\n",
    "    wd.CAS_Registry_Number,\n",
    "    wd.ChEBI_ID,\n",
    "    wd.ChEMBL_ID,\n",
    "    wd.chemical_formula,\n",
    "    wd.described_by_source,\n",
    "    wd.has_part,\n",
    "    wd.part_of,\n",
    "    wd.InChI,\n",
    "    wd.InChIKey,\n",
    "    wd.instance_of,\n",
    "    wd.isomeric_SMILES,\n",
    "    pc.isotope_atom_count,          # pc vocabulary\n",
    "    pc.IUPAC_name,                  # pc vocabulary\n",
    "    wd.legal_status_medicine,\n",
    "    wd.mass,\n",
    "    wd.manufacturer,\n",
    "    wd.partition_coefficient_water_octanol,\n",
    "    wd.PubChem_CID,\n",
    "    wd.said_to_be_the_same_as,\n",
    "]"
   ]
  },
  {
   "cell_type": "code",
   "execution_count": 9,
   "id": "56c5cc68-05cc-42d7-bed8-78004d746d74",
   "metadata": {},
   "outputs": [
    {
     "data": {
      "text/markdown": [
       "|property|description|\n",
       "|-|-|\n",
       "|[canonical SMILES](http://www.wikidata.org/entity/P233)|Simplified Molecular Input Line Entry Specification (canonical format)|\n",
       "|[CAS Registry Number](http://www.wikidata.org/entity/P231)|identifier for a chemical substance or compound per Chemical Abstract Service's Registry database|\n",
       "|[ChEBI ID](http://www.wikidata.org/entity/P683)|identifier from database and ontology of molecular entities focused on 'small' chemical compounds|\n",
       "|[ChEMBL ID](http://www.wikidata.org/entity/P592)|identifier from a chemical database of bioactive molecules with drug-like properties|\n",
       "|[chemical formula](http://www.wikidata.org/entity/P274)|description of chemical compound giving element symbols and counts|\n",
       "|[described by source](http://www.wikidata.org/entity/P1343)|work where this item is described|\n",
       "|[has part(s)](http://www.wikidata.org/entity/P527)|part of this subject; inverse property of \"part of\" (P361). See also \"has parts of the class\" (P2670).|\n",
       "|[part of](http://www.wikidata.org/entity/P361)|object of which the subject is a part (if this subject is already part of object A which is a part of object B, then please only make the subject part of object A), inverse property of \"has part\" (P527, see also \"has parts of the class\" (P2670))|\n",
       "|[InChI](http://www.wikidata.org/entity/P234)|International Chemical Identifier|\n",
       "|[InChIKey](http://www.wikidata.org/entity/P235)|a hashed version of the full standard InChI|\n",
       "|[instance of](http://www.wikidata.org/entity/P31)|type to which this subject corresponds/belongs. Different from P279 (subclass of); for example: K2 is an instance of mountain; volcanoes form a subclass of mountains, and the volcano is a type (instance) of volcanic landform|\n",
       "|[isomeric SMILES](http://www.wikidata.org/entity/P2017)|dedicated SMILES for isomer|\n",
       "|[isotope atom count](http://semanticscience.org/resource/CHEMINF_000372)|isotope atom count generated by pubchem software library|\n",
       "|[IUPAC name](http://semanticscience.org/resource/CHEMINF_000382)|IUPAC Name generated by LexiChem|\n",
       "|[legal status (medicine)](http://www.wikidata.org/entity/P3493)|legal status for pharmaceutical drugs, e.g. general sales list for paracetamol in the UK|\n",
       "|[mass](http://www.wikidata.org/entity/P2067)|mass (in colloquial usage also known as weight) of the item|\n",
       "|[manufacturer](http://www.wikidata.org/entity/P176)|(main or final) manufacturer or producer of this product|\n",
       "|[partition coefficient water/octanol](http://www.wikidata.org/entity/P2993)|logarithm of the partition coefficient (n-octanol/water)|\n",
       "|[PubChem CID](http://www.wikidata.org/entity/P662)|identifier from database of chemical molecules and their activities in biological assays (Compound ID number)|\n",
       "|[said to be the same as](http://www.wikidata.org/entity/P460)|this item is said to be the same as that item, though this may be uncertain or disputed|"
      ]
     },
     "metadata": {},
     "output_type": "display_data"
    }
   ],
   "source": [
    "import show\n",
    "show.property_table(COMPOUND_PROPERTIES)"
   ]
  },
  {
   "cell_type": "markdown",
   "id": "db4da7c9-35dd-4476-b629-81b68ef5d0df",
   "metadata": {},
   "source": [
    "Lists some of the values of these properties for benzene (CID 241):"
   ]
  },
  {
   "cell_type": "code",
   "execution_count": 10,
   "id": "66f496d7-873d-4733-839f-5a95333afacb",
   "metadata": {},
   "outputs": [],
   "source": [
    "f = lambda p: kb.filter(subject=pc.CID(241), property=p, limit=1)"
   ]
  },
  {
   "cell_type": "code",
   "execution_count": 11,
   "id": "d130c07f-ee4b-4818-9489-cdd8ea08073b",
   "metadata": {},
   "outputs": [
    {
     "data": {
      "text/markdown": [
       "(**Statement** (**Item** [benzene](http://rdf.ncbi.nlm.nih.gov/pubchem/compound/CID241)) (**ValueSnak** (**Property** [canonical SMILES](http://www.wikidata.org/entity/P233)) \"C1=CC=CC=C1\"))"
      ],
      "text/plain": [
       "Statement(Item(IRI('http://rdf.ncbi.nlm.nih.gov/pubchem/compound/CID241')), ValueSnak(Property(IRI('http://www.wikidata.org/entity/P233'), StringDatatype()), String('C1=CC=CC=C1')))"
      ]
     },
     "metadata": {},
     "output_type": "display_data"
    },
    {
     "data": {
      "text/markdown": [
       "(**Statement** (**Item** [benzene](http://rdf.ncbi.nlm.nih.gov/pubchem/compound/CID241)) (**ValueSnak** (**Property** [CAS Registry Number](http://www.wikidata.org/entity/P231)) \"71-43-2\"))"
      ],
      "text/plain": [
       "Statement(Item(IRI('http://rdf.ncbi.nlm.nih.gov/pubchem/compound/CID241')), ValueSnak(Property(IRI('http://www.wikidata.org/entity/P231'), ExternalIdDatatype()), ExternalId('71-43-2')))"
      ]
     },
     "metadata": {},
     "output_type": "display_data"
    },
    {
     "data": {
      "text/markdown": [
       "(**Statement** (**Item** [benzene](http://rdf.ncbi.nlm.nih.gov/pubchem/compound/CID241)) (**ValueSnak** (**Property** [ChEBI ID](http://www.wikidata.org/entity/P683)) \"16716\"))"
      ],
      "text/plain": [
       "Statement(Item(IRI('http://rdf.ncbi.nlm.nih.gov/pubchem/compound/CID241')), ValueSnak(Property(IRI('http://www.wikidata.org/entity/P683'), ExternalIdDatatype()), ExternalId('16716')))"
      ]
     },
     "metadata": {},
     "output_type": "display_data"
    },
    {
     "data": {
      "text/markdown": [
       "(**Statement** (**Item** [benzene](http://rdf.ncbi.nlm.nih.gov/pubchem/compound/CID241)) (**ValueSnak** (**Property** [ChEMBL ID](http://www.wikidata.org/entity/P592)) \"CHEMBL277500\"))"
      ],
      "text/plain": [
       "Statement(Item(IRI('http://rdf.ncbi.nlm.nih.gov/pubchem/compound/CID241')), ValueSnak(Property(IRI('http://www.wikidata.org/entity/P592'), ExternalIdDatatype()), ExternalId('CHEMBL277500')))"
      ]
     },
     "metadata": {},
     "output_type": "display_data"
    },
    {
     "data": {
      "text/markdown": [
       "(**Statement** (**Item** [benzene](http://rdf.ncbi.nlm.nih.gov/pubchem/compound/CID241)) (**ValueSnak** (**Property** [chemical formula](http://www.wikidata.org/entity/P274)) \"C6H6\"))"
      ],
      "text/plain": [
       "Statement(Item(IRI('http://rdf.ncbi.nlm.nih.gov/pubchem/compound/CID241')), ValueSnak(Property(IRI('http://www.wikidata.org/entity/P274'), StringDatatype()), String('C6H6')))"
      ]
     },
     "metadata": {},
     "output_type": "display_data"
    },
    {
     "data": {
      "text/markdown": [
       "(**Statement** (**Item** [benzene](http://rdf.ncbi.nlm.nih.gov/pubchem/compound/CID241)) (**ValueSnak** (**Property** [described by source](http://www.wikidata.org/entity/P1343)) (**Item** [Production of aromatics from noncatalytically cracked fatty acid based oils](http://rdf.ncbi.nlm.nih.gov/pubchem/patent/AU-2012245199-A1))))"
      ],
      "text/plain": [
       "Statement(Item(IRI('http://rdf.ncbi.nlm.nih.gov/pubchem/compound/CID241')), ValueSnak(Property(IRI('http://www.wikidata.org/entity/P1343'), ItemDatatype()), Item(IRI('http://rdf.ncbi.nlm.nih.gov/pubchem/patent/AU-2012245199-A1'))))"
      ]
     },
     "metadata": {},
     "output_type": "display_data"
    },
    {
     "data": {
      "text/markdown": [
       "(**Statement** (**Item** [benzene](http://rdf.ncbi.nlm.nih.gov/pubchem/compound/CID241)) (**ValueSnak** (**Property** [part of](http://www.wikidata.org/entity/P361)) (**Item** [pc:CID139250634](http://rdf.ncbi.nlm.nih.gov/pubchem/compound/CID139250634))))"
      ],
      "text/plain": [
       "Statement(Item(IRI('http://rdf.ncbi.nlm.nih.gov/pubchem/compound/CID241')), ValueSnak(Property(IRI('http://www.wikidata.org/entity/P361'), ItemDatatype()), Item(IRI('http://rdf.ncbi.nlm.nih.gov/pubchem/compound/CID139250634'))))"
      ]
     },
     "metadata": {},
     "output_type": "display_data"
    },
    {
     "data": {
      "text/markdown": [
       "(**Statement** (**Item** [benzene](http://rdf.ncbi.nlm.nih.gov/pubchem/compound/CID241)) (**ValueSnak** (**Property** [InChI](http://www.wikidata.org/entity/P234)) \"InChI=1S/C6H6/c1-2-4-6-5-3-1/h1-6H\"))"
      ],
      "text/plain": [
       "Statement(Item(IRI('http://rdf.ncbi.nlm.nih.gov/pubchem/compound/CID241')), ValueSnak(Property(IRI('http://www.wikidata.org/entity/P234'), ExternalIdDatatype()), ExternalId('InChI=1S/C6H6/c1-2-4-6-5-3-1/h1-6H')))"
      ]
     },
     "metadata": {},
     "output_type": "display_data"
    },
    {
     "data": {
      "text/markdown": [
       "(**Statement** (**Item** [benzene](http://rdf.ncbi.nlm.nih.gov/pubchem/compound/CID241)) (**ValueSnak** (**Property** [InChIKey](http://www.wikidata.org/entity/P235)) \"UHOVQNZJYSORNB-UHFFFAOYSA-N\"))"
      ],
      "text/plain": [
       "Statement(Item(IRI('http://rdf.ncbi.nlm.nih.gov/pubchem/compound/CID241')), ValueSnak(Property(IRI('http://www.wikidata.org/entity/P235'), ExternalIdDatatype()), ExternalId('UHOVQNZJYSORNB-UHFFFAOYSA-N')))"
      ]
     },
     "metadata": {},
     "output_type": "display_data"
    },
    {
     "data": {
      "text/markdown": [
       "(**Statement** (**Item** [benzene](http://rdf.ncbi.nlm.nih.gov/pubchem/compound/CID241)) (**ValueSnak** (**Property** [instance of](http://www.wikidata.org/entity/P31)) (**Item** [type of a chemical entity](http://www.wikidata.org/entity/Q113145171))))"
      ],
      "text/plain": [
       "Statement(Item(IRI('http://rdf.ncbi.nlm.nih.gov/pubchem/compound/CID241')), ValueSnak(Property(IRI('http://www.wikidata.org/entity/P31'), ItemDatatype()), Item(IRI('http://www.wikidata.org/entity/Q113145171'))))"
      ]
     },
     "metadata": {},
     "output_type": "display_data"
    },
    {
     "data": {
      "text/markdown": [
       "(**Statement** (**Item** [benzene](http://rdf.ncbi.nlm.nih.gov/pubchem/compound/CID241)) (**ValueSnak** (**Property** [isomeric SMILES](http://www.wikidata.org/entity/P2017)) \"C1=CC=CC=C1\"))"
      ],
      "text/plain": [
       "Statement(Item(IRI('http://rdf.ncbi.nlm.nih.gov/pubchem/compound/CID241')), ValueSnak(Property(IRI('http://www.wikidata.org/entity/P2017'), StringDatatype()), String('C1=CC=CC=C1')))"
      ]
     },
     "metadata": {},
     "output_type": "display_data"
    },
    {
     "data": {
      "text/markdown": [
       "(**Statement** (**Item** [benzene](http://rdf.ncbi.nlm.nih.gov/pubchem/compound/CID241)) (**ValueSnak** (**Property** [isotope atom count](http://semanticscience.org/resource/CHEMINF_000372)) (**Quantity** 0)))"
      ],
      "text/plain": [
       "Statement(Item(IRI('http://rdf.ncbi.nlm.nih.gov/pubchem/compound/CID241')), ValueSnak(Property(IRI('http://semanticscience.org/resource/CHEMINF_000372'), QuantityDatatype()), Quantity(Decimal('0'), None, None, None)))"
      ]
     },
     "metadata": {},
     "output_type": "display_data"
    },
    {
     "data": {
      "text/markdown": [
       "(**Statement** (**Item** [benzene](http://rdf.ncbi.nlm.nih.gov/pubchem/compound/CID241)) (**ValueSnak** (**Property** [IUPAC name](http://semanticscience.org/resource/CHEMINF_000382)) \"\\[6]annulene\"@en))"
      ],
      "text/plain": [
       "Statement(Item(IRI('http://rdf.ncbi.nlm.nih.gov/pubchem/compound/CID241')), ValueSnak(Property(IRI('http://semanticscience.org/resource/CHEMINF_000382'), TextDatatype()), Text('[6]annulene', 'en')))"
      ]
     },
     "metadata": {},
     "output_type": "display_data"
    },
    {
     "data": {
      "text/markdown": [
       "(**Statement** (**Item** [benzene](http://rdf.ncbi.nlm.nih.gov/pubchem/compound/CID241)) (**ValueSnak** (**Property** [mass](http://www.wikidata.org/entity/P2067)) (**Quantity** 78.11 (**Item** [gram per mole](http://www.wikidata.org/entity/Q28924752)))))"
      ],
      "text/plain": [
       "Statement(Item(IRI('http://rdf.ncbi.nlm.nih.gov/pubchem/compound/CID241')), ValueSnak(Property(IRI('http://www.wikidata.org/entity/P2067'), QuantityDatatype()), Quantity(Decimal('78.11'), Item(IRI('http://www.wikidata.org/entity/Q28924752')), None, None)))"
      ]
     },
     "metadata": {},
     "output_type": "display_data"
    },
    {
     "data": {
      "text/markdown": [
       "(**Statement** (**Item** [benzene](http://rdf.ncbi.nlm.nih.gov/pubchem/compound/CID241)) (**ValueSnak** (**Property** [manufacturer](http://www.wikidata.org/entity/P176)) (**Item** [924](http://rdf.ncbi.nlm.nih.gov/pubchem/source/ID924))))"
      ],
      "text/plain": [
       "Statement(Item(IRI('http://rdf.ncbi.nlm.nih.gov/pubchem/compound/CID241')), ValueSnak(Property(IRI('http://www.wikidata.org/entity/P176'), ItemDatatype()), Item(IRI('http://rdf.ncbi.nlm.nih.gov/pubchem/source/ID924'))))"
      ]
     },
     "metadata": {},
     "output_type": "display_data"
    },
    {
     "data": {
      "text/markdown": [
       "(**Statement** (**Item** [benzene](http://rdf.ncbi.nlm.nih.gov/pubchem/compound/CID241)) (**ValueSnak** (**Property** [partition coefficient water/octanol](http://www.wikidata.org/entity/P2993)) (**Quantity** 2.1)))"
      ],
      "text/plain": [
       "Statement(Item(IRI('http://rdf.ncbi.nlm.nih.gov/pubchem/compound/CID241')), ValueSnak(Property(IRI('http://www.wikidata.org/entity/P2993'), QuantityDatatype()), Quantity(Decimal('2.1'), None, None, None)))"
      ]
     },
     "metadata": {},
     "output_type": "display_data"
    },
    {
     "data": {
      "text/markdown": [
       "(**Statement** (**Item** [benzene](http://rdf.ncbi.nlm.nih.gov/pubchem/compound/CID241)) (**ValueSnak** (**Property** [PubChem CID](http://www.wikidata.org/entity/P662)) \"241\"))"
      ],
      "text/plain": [
       "Statement(Item(IRI('http://rdf.ncbi.nlm.nih.gov/pubchem/compound/CID241')), ValueSnak(Property(IRI('http://www.wikidata.org/entity/P662'), ExternalIdDatatype()), ExternalId('241')))"
      ]
     },
     "metadata": {},
     "output_type": "display_data"
    },
    {
     "data": {
      "text/markdown": [
       "(**Statement** (**Item** [benzene](http://rdf.ncbi.nlm.nih.gov/pubchem/compound/CID241)) (**ValueSnak** (**Property** [said to be the same as](http://www.wikidata.org/entity/P460)) (**Item** [phenyl radical](http://www.wikidata.org/entity/Q26841227))))"
      ],
      "text/plain": [
       "Statement(Item(IRI('http://rdf.ncbi.nlm.nih.gov/pubchem/compound/CID241')), ValueSnak(Property(IRI('http://www.wikidata.org/entity/P460'), ItemDatatype()), Item(IRI('http://www.wikidata.org/entity/Q26841227'))))"
      ]
     },
     "metadata": {},
     "output_type": "display_data"
    }
   ],
   "source": [
    "import itertools\n",
    "it = list(itertools.chain(*map(f, COMPOUND_PROPERTIES)))\n",
    "display(*it)"
   ]
  },
  {
   "cell_type": "markdown",
   "id": "a850738b-3dbb-496a-b5b3-5f23390538b6",
   "metadata": {},
   "source": [
    "Note that these stmts can be seen as forming a graph about benzene:"
   ]
  },
  {
   "cell_type": "code",
   "execution_count": 12,
   "id": "c0a40b3c-0436-4b4f-8b79-543dd2a87f24",
   "metadata": {},
   "outputs": [
    {
     "data": {
      "image/svg+xml": [
       "<?xml version=\"1.0\" encoding=\"UTF-8\" standalone=\"no\"?>\n",
       "<!DOCTYPE svg PUBLIC \"-//W3C//DTD SVG 1.1//EN\"\n",
       " \"http://www.w3.org/Graphics/SVG/1.1/DTD/svg11.dtd\">\n",
       "<!-- Generated by graphviz version 12.2.1 (20241206.2353)\n",
       " -->\n",
       "<!-- Pages: 1 -->\n",
       "<svg width=\"539pt\" height=\"658pt\"\n",
       " viewBox=\"0.00 0.00 539.00 657.89\" xmlns=\"http://www.w3.org/2000/svg\" xmlns:xlink=\"http://www.w3.org/1999/xlink\">\n",
       "<g id=\"graph0\" class=\"graph\" transform=\"scale(1 1) rotate(0) translate(4 653.89)\">\n",
       "<polygon fill=\"white\" stroke=\"none\" points=\"-4,4 -4,-653.89 535,-653.89 535,4 -4,4\"/>\n",
       "<!-- 6714cde438d8d4d7a4ffdf6e6c8b8d0b838b765429b53ade168bacfb1722bfcc -->\n",
       "<g id=\"node1\" class=\"node\">\n",
       "<title>6714cde438d8d4d7a4ffdf6e6c8b8d0b838b765429b53ade168bacfb1722bfcc</title>\n",
       "<text text-anchor=\"middle\" x=\"18.38\" y=\"-326.45\" font-family=\"arial\" font-size=\"10.00\">benzene</text>\n",
       "</g>\n",
       "<!-- ee8b8a718374ee019a8cd19e0075d41e68d7cf51ac332bbf7a726c351fcde3ad -->\n",
       "<g id=\"node2\" class=\"node\">\n",
       "<title>ee8b8a718374ee019a8cd19e0075d41e68d7cf51ac332bbf7a726c351fcde3ad</title>\n",
       "<text text-anchor=\"middle\" x=\"368.62\" y=\"-598.45\" font-family=\"arial\" font-size=\"10.00\">&quot;C1=CC=CC=C1&quot;</text>\n",
       "</g>\n",
       "<!-- 6714cde438d8d4d7a4ffdf6e6c8b8d0b838b765429b53ade168bacfb1722bfcc&#45;&gt;ee8b8a718374ee019a8cd19e0075d41e68d7cf51ac332bbf7a726c351fcde3ad -->\n",
       "<g id=\"edge1\" class=\"edge\">\n",
       "<title>6714cde438d8d4d7a4ffdf6e6c8b8d0b838b765429b53ade168bacfb1722bfcc&#45;&gt;ee8b8a718374ee019a8cd19e0075d41e68d7cf51ac332bbf7a726c351fcde3ad</title>\n",
       "<path fill=\"none\" stroke=\"black\" d=\"M19.18,-335.6C18.1,-370.9 14.24,-560.88 54.75,-596.95 137.84,-670.94 288.23,-629.75 345.06,-610.31\"/>\n",
       "<polygon fill=\"black\" stroke=\"black\" points=\"350.98,-608.24 345.81,-613.14 349.07,-608.91 344.85,-610.38 344.85,-610.38 344.85,-610.38 349.07,-608.91 343.88,-607.62 350.98,-608.24\"/>\n",
       "<text text-anchor=\"middle\" x=\"121.5\" y=\"-641.34\" font-family=\"arial\" font-size=\"9.00\">canonical SMILES</text>\n",
       "</g>\n",
       "<!-- 6714cde438d8d4d7a4ffdf6e6c8b8d0b838b765429b53ade168bacfb1722bfcc&#45;&gt;ee8b8a718374ee019a8cd19e0075d41e68d7cf51ac332bbf7a726c351fcde3ad -->\n",
       "<g id=\"edge11\" class=\"edge\">\n",
       "<title>6714cde438d8d4d7a4ffdf6e6c8b8d0b838b765429b53ade168bacfb1722bfcc&#45;&gt;ee8b8a718374ee019a8cd19e0075d41e68d7cf51ac332bbf7a726c351fcde3ad</title>\n",
       "<path fill=\"none\" stroke=\"black\" d=\"M19.37,-335.58C19.46,-367.69 21.58,-527.42 54.75,-559.95 64.15,-569.17 235.79,-588.22 320.76,-597.14\"/>\n",
       "<polygon fill=\"black\" stroke=\"black\" points=\"327,-597.8 320.23,-600.03 324.98,-597.59 320.54,-597.12 320.54,-597.12 320.54,-597.12 324.98,-597.59 320.84,-594.21 327,-597.8\"/>\n",
       "<text text-anchor=\"middle\" x=\"121.5\" y=\"-583.11\" font-family=\"arial\" font-size=\"9.00\">isomeric SMILES</text>\n",
       "</g>\n",
       "<!-- 559607b310dc0072b6edb5d0560c3e808cd7de3ebdea20e4ceed227762905dc4 -->\n",
       "<g id=\"node3\" class=\"node\">\n",
       "<title>559607b310dc0072b6edb5d0560c3e808cd7de3ebdea20e4ceed227762905dc4</title>\n",
       "<text text-anchor=\"middle\" x=\"368.62\" y=\"-547.45\" font-family=\"arial\" font-size=\"10.00\">&quot;71&#45;43&#45;2&quot;</text>\n",
       "</g>\n",
       "<!-- 6714cde438d8d4d7a4ffdf6e6c8b8d0b838b765429b53ade168bacfb1722bfcc&#45;&gt;559607b310dc0072b6edb5d0560c3e808cd7de3ebdea20e4ceed227762905dc4 -->\n",
       "<g id=\"edge2\" class=\"edge\">\n",
       "<title>6714cde438d8d4d7a4ffdf6e6c8b8d0b838b765429b53ade168bacfb1722bfcc&#45;&gt;559607b310dc0072b6edb5d0560c3e808cd7de3ebdea20e4ceed227762905dc4</title>\n",
       "<path fill=\"none\" stroke=\"black\" d=\"M19.51,-335.91C20.35,-365.87 25.66,-499.61 54.75,-525.95 75.8,-545.02 270.04,-549.61 341.45,-550.66\"/>\n",
       "<polygon fill=\"black\" stroke=\"black\" points=\"347.92,-550.75 341.38,-553.58 345.89,-550.72 341.42,-550.66 341.42,-550.66 341.42,-550.66 345.89,-550.72 341.46,-547.73 347.92,-550.75\"/>\n",
       "<text text-anchor=\"middle\" x=\"121.5\" y=\"-547.35\" font-family=\"arial\" font-size=\"9.00\">CAS Registry Number</text>\n",
       "</g>\n",
       "<!-- 700e0e1969233816cd3ef8d7819186feaf76f4b1e6d4143c5204de6fea90f4b9 -->\n",
       "<g id=\"node4\" class=\"node\">\n",
       "<title>700e0e1969233816cd3ef8d7819186feaf76f4b1e6d4143c5204de6fea90f4b9</title>\n",
       "<text text-anchor=\"middle\" x=\"368.62\" y=\"-513.45\" font-family=\"arial\" font-size=\"10.00\">&quot;16716&quot;</text>\n",
       "</g>\n",
       "<!-- 6714cde438d8d4d7a4ffdf6e6c8b8d0b838b765429b53ade168bacfb1722bfcc&#45;&gt;700e0e1969233816cd3ef8d7819186feaf76f4b1e6d4143c5204de6fea90f4b9 -->\n",
       "<g id=\"edge3\" class=\"edge\">\n",
       "<title>6714cde438d8d4d7a4ffdf6e6c8b8d0b838b765429b53ade168bacfb1722bfcc&#45;&gt;700e0e1969233816cd3ef8d7819186feaf76f4b1e6d4143c5204de6fea90f4b9</title>\n",
       "<path fill=\"none\" stroke=\"black\" d=\"M19.76,-335.92C21.59,-362.62 30.46,-470.75 54.75,-491.95 76.44,-510.89 275.67,-515.6 344.43,-516.66\"/>\n",
       "<polygon fill=\"black\" stroke=\"black\" points=\"350.92,-516.76 344.38,-519.59 348.89,-516.73 344.43,-516.66 344.43,-516.66 344.43,-516.66 348.89,-516.73 344.47,-513.74 350.92,-516.76\"/>\n",
       "<text text-anchor=\"middle\" x=\"121.5\" y=\"-513.15\" font-family=\"arial\" font-size=\"9.00\">ChEBI ID</text>\n",
       "</g>\n",
       "<!-- dbafcc04d15237690e65899180b06311fae57389b03922a8c21af56e97fa6a83 -->\n",
       "<g id=\"node5\" class=\"node\">\n",
       "<title>dbafcc04d15237690e65899180b06311fae57389b03922a8c21af56e97fa6a83</title>\n",
       "<text text-anchor=\"middle\" x=\"368.62\" y=\"-479.45\" font-family=\"arial\" font-size=\"10.00\">&quot;CHEMBL277500&quot;</text>\n",
       "</g>\n",
       "<!-- 6714cde438d8d4d7a4ffdf6e6c8b8d0b838b765429b53ade168bacfb1722bfcc&#45;&gt;dbafcc04d15237690e65899180b06311fae57389b03922a8c21af56e97fa6a83 -->\n",
       "<g id=\"edge4\" class=\"edge\">\n",
       "<title>6714cde438d8d4d7a4ffdf6e6c8b8d0b838b765429b53ade168bacfb1722bfcc&#45;&gt;dbafcc04d15237690e65899180b06311fae57389b03922a8c21af56e97fa6a83</title>\n",
       "<path fill=\"none\" stroke=\"black\" d=\"M20.11,-335.92C23.08,-359.11 35.05,-442.69 54.75,-458.95 74.77,-475.47 238.42,-480.7 320.72,-482.29\"/>\n",
       "<polygon fill=\"black\" stroke=\"black\" points=\"327.21,-482.41 320.65,-485.21 325.18,-482.37 320.71,-482.29 320.71,-482.29 320.71,-482.29 325.18,-482.37 320.76,-479.36 327.21,-482.41\"/>\n",
       "<text text-anchor=\"middle\" x=\"121.5\" y=\"-479.45\" font-family=\"arial\" font-size=\"9.00\">ChEMBL ID</text>\n",
       "</g>\n",
       "<!-- 7597aa9224f930ae45a739d19cd5f8f82e171cff423e747d7e770f96f0d345cf -->\n",
       "<g id=\"node6\" class=\"node\">\n",
       "<title>7597aa9224f930ae45a739d19cd5f8f82e171cff423e747d7e770f96f0d345cf</title>\n",
       "<text text-anchor=\"middle\" x=\"368.62\" y=\"-445.45\" font-family=\"arial\" font-size=\"10.00\">&quot;C6H6&quot;</text>\n",
       "</g>\n",
       "<!-- 6714cde438d8d4d7a4ffdf6e6c8b8d0b838b765429b53ade168bacfb1722bfcc&#45;&gt;7597aa9224f930ae45a739d19cd5f8f82e171cff423e747d7e770f96f0d345cf -->\n",
       "<g id=\"edge5\" class=\"edge\">\n",
       "<title>6714cde438d8d4d7a4ffdf6e6c8b8d0b838b765429b53ade168bacfb1722bfcc&#45;&gt;7597aa9224f930ae45a739d19cd5f8f82e171cff423e747d7e770f96f0d345cf</title>\n",
       "<path fill=\"none\" stroke=\"black\" d=\"M19.46,-335.54C20.06,-352.57 24.4,-404.09 54.75,-426.95 77.74,-444.27 276.12,-447.99 344.54,-448.76\"/>\n",
       "<polygon fill=\"black\" stroke=\"black\" points=\"351,-448.83 344.47,-451.68 348.97,-448.8 344.5,-448.76 344.5,-448.76 344.5,-448.76 348.97,-448.8 344.54,-445.83 351,-448.83\"/>\n",
       "<text text-anchor=\"middle\" x=\"121.5\" y=\"-446.17\" font-family=\"arial\" font-size=\"9.00\">chemical formula</text>\n",
       "</g>\n",
       "<!-- e68bfd07ae3ca2e44cb4849724e18089cd74ea9d743b280536b093547d9bab9b -->\n",
       "<g id=\"node7\" class=\"node\">\n",
       "<title>e68bfd07ae3ca2e44cb4849724e18089cd74ea9d743b280536b093547d9bab9b</title>\n",
       "<text text-anchor=\"middle\" x=\"368.62\" y=\"-411.45\" font-family=\"arial\" font-size=\"10.00\">Production of aromatics from noncatalytically cracked fatty acid based oils</text>\n",
       "</g>\n",
       "<!-- 6714cde438d8d4d7a4ffdf6e6c8b8d0b838b765429b53ade168bacfb1722bfcc&#45;&gt;e68bfd07ae3ca2e44cb4849724e18089cd74ea9d743b280536b093547d9bab9b -->\n",
       "<g id=\"edge6\" class=\"edge\">\n",
       "<title>6714cde438d8d4d7a4ffdf6e6c8b8d0b838b765429b53ade168bacfb1722bfcc&#45;&gt;e68bfd07ae3ca2e44cb4849724e18089cd74ea9d743b280536b093547d9bab9b</title>\n",
       "<path fill=\"none\" stroke=\"black\" d=\"M20.7,-335.66C23.99,-348.32 33.79,-378.73 54.75,-391.95 79.54,-407.59 138.78,-414.15 199.13,-416.49\"/>\n",
       "<polygon fill=\"black\" stroke=\"black\" points=\"205.28,-416.71 198.68,-419.4 203.25,-416.64 198.78,-416.48 198.78,-416.48 198.78,-416.48 203.25,-416.64 198.89,-413.55 205.28,-416.71\"/>\n",
       "<text text-anchor=\"middle\" x=\"121.5\" y=\"-417.64\" font-family=\"arial\" font-size=\"9.00\">described by source</text>\n",
       "</g>\n",
       "<!-- 0e3aeca4d93d16d0aa2cabc2acc57cdf2a0b0314ca43e006a816f61f06fee371 -->\n",
       "<g id=\"node8\" class=\"node\">\n",
       "<title>0e3aeca4d93d16d0aa2cabc2acc57cdf2a0b0314ca43e006a816f61f06fee371</title>\n",
       "<text text-anchor=\"middle\" x=\"368.62\" y=\"-377.45\" font-family=\"arial\" font-size=\"10.00\">pc:CID139250634</text>\n",
       "</g>\n",
       "<!-- 6714cde438d8d4d7a4ffdf6e6c8b8d0b838b765429b53ade168bacfb1722bfcc&#45;&gt;0e3aeca4d93d16d0aa2cabc2acc57cdf2a0b0314ca43e006a816f61f06fee371 -->\n",
       "<g id=\"edge7\" class=\"edge\">\n",
       "<title>6714cde438d8d4d7a4ffdf6e6c8b8d0b838b765429b53ade168bacfb1722bfcc&#45;&gt;0e3aeca4d93d16d0aa2cabc2acc57cdf2a0b0314ca43e006a816f61f06fee371</title>\n",
       "<path fill=\"none\" stroke=\"black\" d=\"M26.46,-335.75C33.26,-340.97 44.06,-348.36 54.75,-351.95 145.74,-382.55 259.47,-384.78 321.69,-383.19\"/>\n",
       "<polygon fill=\"black\" stroke=\"black\" points=\"328.17,-383 321.76,-386.12 326.14,-383.06 321.67,-383.19 321.67,-383.19 321.67,-383.19 326.14,-383.06 321.59,-380.27 328.17,-383\"/>\n",
       "<text text-anchor=\"middle\" x=\"121.5\" y=\"-379.8\" font-family=\"arial\" font-size=\"9.00\">part of</text>\n",
       "</g>\n",
       "<!-- 8911909782acebf718554895ec12fb4a33e3d789203a249a958d5d836856210b -->\n",
       "<g id=\"node9\" class=\"node\">\n",
       "<title>8911909782acebf718554895ec12fb4a33e3d789203a249a958d5d836856210b</title>\n",
       "<text text-anchor=\"middle\" x=\"368.62\" y=\"-343.45\" font-family=\"arial\" font-size=\"10.00\">&quot;InChI=1S/C6H6/c1&#45;2&#45;4&#45;6&#45;5&#45;3&#45;1/h1&#45;6H&quot;</text>\n",
       "</g>\n",
       "<!-- 6714cde438d8d4d7a4ffdf6e6c8b8d0b838b765429b53ade168bacfb1722bfcc&#45;&gt;8911909782acebf718554895ec12fb4a33e3d789203a249a958d5d836856210b -->\n",
       "<g id=\"edge8\" class=\"edge\">\n",
       "<title>6714cde438d8d4d7a4ffdf6e6c8b8d0b838b765429b53ade168bacfb1722bfcc&#45;&gt;8911909782acebf718554895ec12fb4a33e3d789203a249a958d5d836856210b</title>\n",
       "<path fill=\"none\" stroke=\"black\" d=\"M36.64,-330.79C79.68,-332.9 194.12,-338.48 276.38,-342.5\"/>\n",
       "<polygon fill=\"black\" stroke=\"black\" points=\"282.52,-342.8 275.89,-345.4 280.5,-342.7 276.03,-342.48 276.03,-342.48 276.03,-342.48 280.5,-342.7 276.17,-339.56 282.52,-342.8\"/>\n",
       "<text text-anchor=\"middle\" x=\"121.5\" y=\"-339.89\" font-family=\"arial\" font-size=\"9.00\">InChI</text>\n",
       "</g>\n",
       "<!-- a1ade408fdbb50af9f433a72a66c86807550a751d6e8916fd8f9d30c99725b8c -->\n",
       "<g id=\"node10\" class=\"node\">\n",
       "<title>a1ade408fdbb50af9f433a72a66c86807550a751d6e8916fd8f9d30c99725b8c</title>\n",
       "<text text-anchor=\"middle\" x=\"368.62\" y=\"-309.45\" font-family=\"arial\" font-size=\"10.00\">&quot;UHOVQNZJYSORNB&#45;UHFFFAOYSA&#45;N&quot;</text>\n",
       "</g>\n",
       "<!-- 6714cde438d8d4d7a4ffdf6e6c8b8d0b838b765429b53ade168bacfb1722bfcc&#45;&gt;a1ade408fdbb50af9f433a72a66c86807550a751d6e8916fd8f9d30c99725b8c -->\n",
       "<g id=\"edge9\" class=\"edge\">\n",
       "<title>6714cde438d8d4d7a4ffdf6e6c8b8d0b838b765429b53ade168bacfb1722bfcc&#45;&gt;a1ade408fdbb50af9f433a72a66c86807550a751d6e8916fd8f9d30c99725b8c</title>\n",
       "<path fill=\"none\" stroke=\"black\" d=\"M32.87,-324.02C39.35,-321.47 47.31,-318.78 54.75,-317.45 129.52,-304.08 215.94,-303.97 278.99,-306.63\"/>\n",
       "<polygon fill=\"black\" stroke=\"black\" points=\"285.34,-306.91 278.72,-309.54 283.31,-306.82 278.85,-306.62 278.85,-306.62 278.85,-306.62 283.31,-306.82 278.98,-303.7 285.34,-306.91\"/>\n",
       "<text text-anchor=\"middle\" x=\"121.5\" y=\"-319.4\" font-family=\"arial\" font-size=\"9.00\">InChIKey</text>\n",
       "</g>\n",
       "<!-- 5d01279a2b87fc4c92c9604a698e3c28f1517d306022407e3ee21844005a4e53 -->\n",
       "<g id=\"node11\" class=\"node\">\n",
       "<title>5d01279a2b87fc4c92c9604a698e3c28f1517d306022407e3ee21844005a4e53</title>\n",
       "<text text-anchor=\"middle\" x=\"368.62\" y=\"-275.45\" font-family=\"arial\" font-size=\"10.00\">type of a chemical entity</text>\n",
       "</g>\n",
       "<!-- 6714cde438d8d4d7a4ffdf6e6c8b8d0b838b765429b53ade168bacfb1722bfcc&#45;&gt;5d01279a2b87fc4c92c9604a698e3c28f1517d306022407e3ee21844005a4e53 -->\n",
       "<g id=\"edge10\" class=\"edge\">\n",
       "<title>6714cde438d8d4d7a4ffdf6e6c8b8d0b838b765429b53ade168bacfb1722bfcc&#45;&gt;5d01279a2b87fc4c92c9604a698e3c28f1517d306022407e3ee21844005a4e53</title>\n",
       "<path fill=\"none\" stroke=\"black\" d=\"M22.6,-324.19C27.95,-315.29 39.6,-298.47 54.75,-291.45 146.52,-248.94 270.15,-261.62 330.86,-271.72\"/>\n",
       "<polygon fill=\"black\" stroke=\"black\" points=\"337.1,-272.79 330.2,-274.57 335.09,-272.45 330.69,-271.69 330.69,-271.69 330.69,-271.69 335.09,-272.45 331.19,-268.81 337.1,-272.79\"/>\n",
       "<text text-anchor=\"middle\" x=\"121.5\" y=\"-293.4\" font-family=\"arial\" font-size=\"9.00\">instance of</text>\n",
       "</g>\n",
       "<!-- fc30a851eee11a5b926a456967a07b4dda2c561eb8ab03a0dc09d53721156531 -->\n",
       "<g id=\"node12\" class=\"node\">\n",
       "<title>fc30a851eee11a5b926a456967a07b4dda2c561eb8ab03a0dc09d53721156531</title>\n",
       "<text text-anchor=\"middle\" x=\"368.62\" y=\"-241.45\" font-family=\"arial\" font-size=\"10.00\">0</text>\n",
       "</g>\n",
       "<!-- 6714cde438d8d4d7a4ffdf6e6c8b8d0b838b765429b53ade168bacfb1722bfcc&#45;&gt;fc30a851eee11a5b926a456967a07b4dda2c561eb8ab03a0dc09d53721156531 -->\n",
       "<g id=\"edge12\" class=\"edge\">\n",
       "<title>6714cde438d8d4d7a4ffdf6e6c8b8d0b838b765429b53ade168bacfb1722bfcc&#45;&gt;fc30a851eee11a5b926a456967a07b4dda2c561eb8ab03a0dc09d53721156531</title>\n",
       "<path fill=\"none\" stroke=\"black\" d=\"M19.82,-324.3C21.37,-308.91 28.02,-266.2 54.75,-248.45 106.28,-214.23 313.74,-238.13 358.91,-243.82\"/>\n",
       "<polygon fill=\"black\" stroke=\"black\" points=\"365.28,-244.64 358.46,-246.71 363.26,-244.38 358.83,-243.81 358.83,-243.81 358.83,-243.81 363.26,-244.38 359.21,-240.91 365.28,-244.64\"/>\n",
       "<text text-anchor=\"middle\" x=\"121.5\" y=\"-250.4\" font-family=\"arial\" font-size=\"9.00\">isotope atom count</text>\n",
       "</g>\n",
       "<!-- 4904b71fa11e4e369aa85685591b06012ebbac20076ec1f742f33e981012f592 -->\n",
       "<g id=\"node13\" class=\"node\">\n",
       "<title>4904b71fa11e4e369aa85685591b06012ebbac20076ec1f742f33e981012f592</title>\n",
       "<text text-anchor=\"middle\" x=\"368.62\" y=\"-207.45\" font-family=\"arial\" font-size=\"10.00\">&quot;[6]annulene&quot;@en</text>\n",
       "</g>\n",
       "<!-- 6714cde438d8d4d7a4ffdf6e6c8b8d0b838b765429b53ade168bacfb1722bfcc&#45;&gt;4904b71fa11e4e369aa85685591b06012ebbac20076ec1f742f33e981012f592 -->\n",
       "<g id=\"edge13\" class=\"edge\">\n",
       "<title>6714cde438d8d4d7a4ffdf6e6c8b8d0b838b765429b53ade168bacfb1722bfcc&#45;&gt;4904b71fa11e4e369aa85685591b06012ebbac20076ec1f742f33e981012f592</title>\n",
       "<path fill=\"none\" stroke=\"black\" d=\"M19.05,-324.14C18.33,-304.8 18.94,-242.26 54.75,-215.45 95.63,-184.84 245.27,-196.77 321.83,-205.26\"/>\n",
       "<polygon fill=\"black\" stroke=\"black\" points=\"328.24,-205.99 321.45,-208.16 326.22,-205.76 321.78,-205.26 321.78,-205.26 321.78,-205.26 326.22,-205.76 322.11,-202.35 328.24,-205.99\"/>\n",
       "<text text-anchor=\"middle\" x=\"121.5\" y=\"-217.4\" font-family=\"arial\" font-size=\"9.00\">IUPAC name</text>\n",
       "</g>\n",
       "<!-- bba549282fa9d7f4fbb5984de2dcf525392a3a010622d3f6adcd984a9909d9c8 -->\n",
       "<g id=\"node14\" class=\"node\">\n",
       "<title>bba549282fa9d7f4fbb5984de2dcf525392a3a010622d3f6adcd984a9909d9c8</title>\n",
       "<text text-anchor=\"middle\" x=\"368.62\" y=\"-173.45\" font-family=\"arial\" font-size=\"10.00\">78.11</text>\n",
       "</g>\n",
       "<!-- 6714cde438d8d4d7a4ffdf6e6c8b8d0b838b765429b53ade168bacfb1722bfcc&#45;&gt;bba549282fa9d7f4fbb5984de2dcf525392a3a010622d3f6adcd984a9909d9c8 -->\n",
       "<g id=\"edge14\" class=\"edge\">\n",
       "<title>6714cde438d8d4d7a4ffdf6e6c8b8d0b838b765429b53ade168bacfb1722bfcc&#45;&gt;bba549282fa9d7f4fbb5984de2dcf525392a3a010622d3f6adcd984a9909d9c8</title>\n",
       "<path fill=\"none\" stroke=\"black\" d=\"M19.84,-324.11C21.96,-298.9 31.69,-199.93 54.75,-181.45 100.3,-144.95 289.84,-166.56 349.54,-174.44\"/>\n",
       "<polygon fill=\"black\" stroke=\"black\" points=\"355.86,-175.29 349.03,-177.32 353.85,-175.02 349.42,-174.42 349.42,-174.42 349.42,-174.42 353.85,-175.02 349.81,-171.52 355.86,-175.29\"/>\n",
       "<text text-anchor=\"middle\" x=\"121.5\" y=\"-183.4\" font-family=\"arial\" font-size=\"9.00\">mass</text>\n",
       "</g>\n",
       "<!-- 3e4d859c1fbeb2d6ac408eb2fd345559ab9d5d1d2d97f471e2dd43bfc762261d -->\n",
       "<g id=\"node15\" class=\"node\">\n",
       "<title>3e4d859c1fbeb2d6ac408eb2fd345559ab9d5d1d2d97f471e2dd43bfc762261d</title>\n",
       "<text text-anchor=\"middle\" x=\"368.62\" y=\"-139.45\" font-family=\"arial\" font-size=\"10.00\">924</text>\n",
       "</g>\n",
       "<!-- 6714cde438d8d4d7a4ffdf6e6c8b8d0b838b765429b53ade168bacfb1722bfcc&#45;&gt;3e4d859c1fbeb2d6ac408eb2fd345559ab9d5d1d2d97f471e2dd43bfc762261d -->\n",
       "<g id=\"edge15\" class=\"edge\">\n",
       "<title>6714cde438d8d4d7a4ffdf6e6c8b8d0b838b765429b53ade168bacfb1722bfcc&#45;&gt;3e4d859c1fbeb2d6ac408eb2fd345559ab9d5d1d2d97f471e2dd43bfc762261d</title>\n",
       "<path fill=\"none\" stroke=\"black\" d=\"M19.55,-324.33C20.53,-296.08 26.49,-170.05 54.75,-146.45 100.56,-108.19 298.26,-133.04 353.33,-140.84\"/>\n",
       "<polygon fill=\"black\" stroke=\"black\" points=\"359.7,-141.76 352.85,-143.73 357.69,-141.47 353.26,-140.83 353.26,-140.83 353.26,-140.83 357.69,-141.47 353.68,-137.94 359.7,-141.76\"/>\n",
       "<text text-anchor=\"middle\" x=\"121.5\" y=\"-148.4\" font-family=\"arial\" font-size=\"9.00\">manufacturer</text>\n",
       "</g>\n",
       "<!-- 7c11bf1edfa509936e24b80abd6acb3ba9da409f064b56cf6e680964f1ff6212 -->\n",
       "<g id=\"node16\" class=\"node\">\n",
       "<title>7c11bf1edfa509936e24b80abd6acb3ba9da409f064b56cf6e680964f1ff6212</title>\n",
       "<text text-anchor=\"middle\" x=\"368.62\" y=\"-105.45\" font-family=\"arial\" font-size=\"10.00\">2.1</text>\n",
       "</g>\n",
       "<!-- 6714cde438d8d4d7a4ffdf6e6c8b8d0b838b765429b53ade168bacfb1722bfcc&#45;&gt;7c11bf1edfa509936e24b80abd6acb3ba9da409f064b56cf6e680964f1ff6212 -->\n",
       "<g id=\"edge16\" class=\"edge\">\n",
       "<title>6714cde438d8d4d7a4ffdf6e6c8b8d0b838b765429b53ade168bacfb1722bfcc&#45;&gt;7c11bf1edfa509936e24b80abd6acb3ba9da409f064b56cf6e680964f1ff6212</title>\n",
       "<path fill=\"none\" stroke=\"black\" d=\"M19.36,-324.13C19.4,-292.34 21.36,-140.1 54.75,-111.45 100.44,-72.25 301.57,-99.06 354.71,-106.96\"/>\n",
       "<polygon fill=\"black\" stroke=\"black\" points=\"360.95,-107.9 354.09,-109.82 358.95,-107.6 354.53,-106.93 354.53,-106.93 354.53,-106.93 358.95,-107.6 354.97,-104.04 360.95,-107.9\"/>\n",
       "<text text-anchor=\"middle\" x=\"121.5\" y=\"-113.4\" font-family=\"arial\" font-size=\"9.00\">partition coefficient water/octanol</text>\n",
       "</g>\n",
       "<!-- 69f1dd04031409b3eca5a2a762e0ce0afa8fd6dbbed3a91bce681e3c712b049b -->\n",
       "<g id=\"node17\" class=\"node\">\n",
       "<title>69f1dd04031409b3eca5a2a762e0ce0afa8fd6dbbed3a91bce681e3c712b049b</title>\n",
       "<text text-anchor=\"middle\" x=\"368.62\" y=\"-71.45\" font-family=\"arial\" font-size=\"10.00\">&quot;241&quot;</text>\n",
       "</g>\n",
       "<!-- 6714cde438d8d4d7a4ffdf6e6c8b8d0b838b765429b53ade168bacfb1722bfcc&#45;&gt;69f1dd04031409b3eca5a2a762e0ce0afa8fd6dbbed3a91bce681e3c712b049b -->\n",
       "<g id=\"edge17\" class=\"edge\">\n",
       "<title>6714cde438d8d4d7a4ffdf6e6c8b8d0b838b765429b53ade168bacfb1722bfcc&#45;&gt;69f1dd04031409b3eca5a2a762e0ce0afa8fd6dbbed3a91bce681e3c712b049b</title>\n",
       "<path fill=\"none\" stroke=\"black\" d=\"M19.22,-324.14C18.4,-289.46 16.11,-110.23 54.75,-76.45 98.78,-37.95 290.17,-63.17 349.81,-72.14\"/>\n",
       "<polygon fill=\"black\" stroke=\"black\" points=\"356.12,-73.11 349.25,-75.02 354.11,-72.8 349.69,-72.13 349.69,-72.13 349.69,-72.13 354.11,-72.8 350.14,-69.23 356.12,-73.11\"/>\n",
       "<text text-anchor=\"middle\" x=\"121.5\" y=\"-78.4\" font-family=\"arial\" font-size=\"9.00\">PubChem CID</text>\n",
       "</g>\n",
       "<!-- 6cb007ee5381f9797d36509e9b69f23f26c4a1cb5f5814a824d36e8a7a1afe48 -->\n",
       "<g id=\"node18\" class=\"node\">\n",
       "<title>6cb007ee5381f9797d36509e9b69f23f26c4a1cb5f5814a824d36e8a7a1afe48</title>\n",
       "<text text-anchor=\"middle\" x=\"368.62\" y=\"-37.45\" font-family=\"arial\" font-size=\"10.00\">phenyl radical</text>\n",
       "</g>\n",
       "<!-- 6714cde438d8d4d7a4ffdf6e6c8b8d0b838b765429b53ade168bacfb1722bfcc&#45;&gt;6cb007ee5381f9797d36509e9b69f23f26c4a1cb5f5814a824d36e8a7a1afe48 -->\n",
       "<g id=\"edge18\" class=\"edge\">\n",
       "<title>6714cde438d8d4d7a4ffdf6e6c8b8d0b838b765429b53ade168bacfb1722bfcc&#45;&gt;6cb007ee5381f9797d36509e9b69f23f26c4a1cb5f5814a824d36e8a7a1afe48</title>\n",
       "<path fill=\"none\" stroke=\"black\" d=\"M19.64,-324.11C21.44,-284.9 32.71,-60.99 54.75,-41.45 138.39,32.68 289.7,-12.03 345.87,-32.44\"/>\n",
       "<polygon fill=\"black\" stroke=\"black\" points=\"351.7,-34.6 344.59,-35.08 349.8,-33.89 345.61,-32.34 345.61,-32.34 345.61,-32.34 349.8,-33.89 346.63,-29.6 351.7,-34.6\"/>\n",
       "<text text-anchor=\"middle\" x=\"121.5\" y=\"-43.4\" font-family=\"arial\" font-size=\"9.00\">said to be the same as</text>\n",
       "</g>\n",
       "</g>\n",
       "</svg>\n"
      ],
      "text/plain": [
       "<graphviz.graphs.Digraph at 0x10c0c42f0>"
      ]
     },
     "metadata": {},
     "output_type": "display_data"
    }
   ],
   "source": [
    "show.graph(*it)"
   ]
  },
  {
   "cell_type": "markdown",
   "id": "549e24b7-4f6c-48ad-80f0-2c10e05de138",
   "metadata": {},
   "source": [
    "Another example: Lists the mass of some compounds whose chemical formula is H2O (*with annotations*):"
   ]
  },
  {
   "cell_type": "code",
   "execution_count": 13,
   "id": "16cb7c9d-1b4d-43a9-a1d5-cb2983506fff",
   "metadata": {},
   "outputs": [
    {
     "data": {
      "text/markdown": [
       "(**AnnotatedStatement** (**Item** [ditritium oxide](http://rdf.ncbi.nlm.nih.gov/pubchem/compound/CID104752)) (**ValueSnak** (**Property** [mass](http://www.wikidata.org/entity/P2067)) (**Quantity** 22.031 (**Item** [gram per mole](http://www.wikidata.org/entity/Q28924752))))\n",
       "- (**QualifierRecord**)\n",
       "- (**ReferenceRecordSet**)\n",
       "- **NormalRank**)"
      ],
      "text/plain": [
       "AnnotatedStatement(Item(IRI('http://rdf.ncbi.nlm.nih.gov/pubchem/compound/CID104752')), ValueSnak(Property(IRI('http://www.wikidata.org/entity/P2067'), QuantityDatatype()), Quantity(Decimal('22.031'), Item(IRI('http://www.wikidata.org/entity/Q28924752')), None, None)), QualifierRecord(), ReferenceRecordSet(), NormalRank())"
      ]
     },
     "metadata": {},
     "output_type": "display_data"
    },
    {
     "data": {
      "text/markdown": [
       "(**AnnotatedStatement** (**Item** [((18)O)water](http://rdf.ncbi.nlm.nih.gov/pubchem/compound/CID105142)) (**ValueSnak** (**Property** [mass](http://www.wikidata.org/entity/P2067)) (**Quantity** 20.015 (**Item** [gram per mole](http://www.wikidata.org/entity/Q28924752))))\n",
       "- (**QualifierRecord**)\n",
       "- (**ReferenceRecordSet**)\n",
       "- **NormalRank**)"
      ],
      "text/plain": [
       "AnnotatedStatement(Item(IRI('http://rdf.ncbi.nlm.nih.gov/pubchem/compound/CID105142')), ValueSnak(Property(IRI('http://www.wikidata.org/entity/P2067'), QuantityDatatype()), Quantity(Decimal('20.015'), Item(IRI('http://www.wikidata.org/entity/Q28924752')), None, None)), QualifierRecord(), ReferenceRecordSet(), NormalRank())"
      ]
     },
     "metadata": {},
     "output_type": "display_data"
    },
    {
     "data": {
      "text/markdown": [
       "(**AnnotatedStatement** (**Item** [water](http://rdf.ncbi.nlm.nih.gov/pubchem/compound/CID962)) (**ValueSnak** (**Property** [mass](http://www.wikidata.org/entity/P2067)) (**Quantity** 18.015 (**Item** [gram per mole](http://www.wikidata.org/entity/Q28924752))))\n",
       "- (**QualifierRecord**)\n",
       "- (**ReferenceRecordSet**)\n",
       "- **NormalRank**)"
      ],
      "text/plain": [
       "AnnotatedStatement(Item(IRI('http://rdf.ncbi.nlm.nih.gov/pubchem/compound/CID962')), ValueSnak(Property(IRI('http://www.wikidata.org/entity/P2067'), QuantityDatatype()), Quantity(Decimal('18.015'), Item(IRI('http://www.wikidata.org/entity/Q28924752')), None, None)), QualifierRecord(), ReferenceRecordSet(), NormalRank())"
      ]
     },
     "metadata": {},
     "output_type": "display_data"
    }
   ],
   "source": [
    "it = kb.filter(subject=wd.chemical_formula('H2O'), property=wd.mass, annotated=True)\n",
    "display(*it)"
   ]
  },
  {
   "cell_type": "markdown",
   "id": "fb206a29-e3bf-4855-bafc-1eecfdbfcddd",
   "metadata": {},
   "source": [
    "## Patents"
   ]
  },
  {
   "cell_type": "code",
   "execution_count": 14,
   "id": "0eced125-bd37-4c17-847a-9fd591f203bd",
   "metadata": {},
   "outputs": [],
   "source": [
    "PATENT_PROPERTIES = [\n",
    "    wd.author_name_string,\n",
    "    wd.instance_of,\n",
    "    wd.main_subject,\n",
    "    wd.patent_number,\n",
    "    wd.publication_date,\n",
    "    wd.sponsor,\n",
    "    wd.title,\n",
    "]"
   ]
  },
  {
   "cell_type": "code",
   "execution_count": 15,
   "id": "bc0dd037-22d9-4fc3-a288-4fe31423f5ce",
   "metadata": {},
   "outputs": [
    {
     "data": {
      "text/markdown": [
       "|property|description|\n",
       "|-|-|\n",
       "|[author name string](http://www.wikidata.org/entity/P2093)|stores unspecified author or editor name for publications; use if Wikidata item for author (P50) or editor (P98) does not exist or is not known. Do not use both.|\n",
       "|[instance of](http://www.wikidata.org/entity/P31)|type to which this subject corresponds/belongs. Different from P279 (subclass of); for example: K2 is an instance of mountain; volcanoes form a subclass of mountains, and the volcano is a type (instance) of volcanic landform|\n",
       "|[main subject](http://www.wikidata.org/entity/P921)|primary topic of a work (see also P180: depicts)|\n",
       "|[patent number](http://www.wikidata.org/entity/P1246)|identifier for a patented invention|\n",
       "|[publication date](http://www.wikidata.org/entity/P577)|date or point in time when a work was first published or released|\n",
       "|[sponsor](http://www.wikidata.org/entity/P859)|organization or individual that sponsors this item|\n",
       "|[title](http://www.wikidata.org/entity/P1476)|published name of a work, such as a newspaper article, a literary work, piece of music, a website, or a performance work|"
      ]
     },
     "metadata": {},
     "output_type": "display_data"
    }
   ],
   "source": [
    "show.property_table(PATENT_PROPERTIES)"
   ]
  },
  {
   "cell_type": "markdown",
   "id": "01c4db26-3f85-491f-bdd8-29e8da247199",
   "metadata": {},
   "source": [
    "Lists some of the values of these properties for AU-2012245199-A1:"
   ]
  },
  {
   "cell_type": "code",
   "execution_count": 16,
   "id": "c3c6b4e1-94b6-44ae-bf7f-02d2bd43efb1",
   "metadata": {},
   "outputs": [
    {
     "data": {
      "image/svg+xml": [
       "<?xml version=\"1.0\" encoding=\"UTF-8\" standalone=\"no\"?>\n",
       "<!DOCTYPE svg PUBLIC \"-//W3C//DTD SVG 1.1//EN\"\n",
       " \"http://www.w3.org/Graphics/SVG/1.1/DTD/svg11.dtd\">\n",
       "<!-- Generated by graphviz version 12.2.1 (20241206.2353)\n",
       " -->\n",
       "<!-- Pages: 1 -->\n",
       "<svg width=\"799pt\" height=\"190pt\"\n",
       " viewBox=\"0.00 0.00 798.50 190.00\" xmlns=\"http://www.w3.org/2000/svg\" xmlns:xlink=\"http://www.w3.org/1999/xlink\">\n",
       "<g id=\"graph0\" class=\"graph\" transform=\"scale(1 1) rotate(0) translate(4 186)\">\n",
       "<polygon fill=\"white\" stroke=\"none\" points=\"-4,4 -4,-186 794.5,-186 794.5,4 -4,4\"/>\n",
       "<!-- e68bfd07ae3ca2e44cb4849724e18089cd74ea9d743b280536b093547d9bab9b -->\n",
       "<g id=\"node1\" class=\"node\">\n",
       "<title>e68bfd07ae3ca2e44cb4849724e18089cd74ea9d743b280536b093547d9bab9b</title>\n",
       "<text text-anchor=\"middle\" x=\"162.38\" y=\"-87.5\" font-family=\"arial\" font-size=\"10.00\">Production of aromatics from noncatalytically cracked fatty acid based oils</text>\n",
       "</g>\n",
       "<!-- ff9338a5ecdb3b5d4682f7c43cc290a4524c4b3b5fa88e4fe4a4dcadc2dfa2cb -->\n",
       "<g id=\"node2\" class=\"node\">\n",
       "<title>ff9338a5ecdb3b5d4682f7c43cc290a4524c4b3b5fa88e4fe4a4dcadc2dfa2cb</title>\n",
       "<text text-anchor=\"middle\" x=\"613.88\" y=\"-172.5\" font-family=\"arial\" font-size=\"10.00\">&quot;TANDE BRIAN&quot;</text>\n",
       "</g>\n",
       "<!-- e68bfd07ae3ca2e44cb4849724e18089cd74ea9d743b280536b093547d9bab9b&#45;&gt;ff9338a5ecdb3b5d4682f7c43cc290a4524c4b3b5fa88e4fe4a4dcadc2dfa2cb -->\n",
       "<g id=\"edge1\" class=\"edge\">\n",
       "<title>e68bfd07ae3ca2e44cb4849724e18089cd74ea9d743b280536b093547d9bab9b&#45;&gt;ff9338a5ecdb3b5d4682f7c43cc290a4524c4b3b5fa88e4fe4a4dcadc2dfa2cb</title>\n",
       "<path fill=\"none\" stroke=\"black\" d=\"M183.08,-96.95C227.8,-110.19 340.58,-142.08 437.25,-157 481.82,-163.88 533.13,-169.12 568.73,-172.34\"/>\n",
       "<polygon fill=\"black\" stroke=\"black\" points=\"574.87,-172.89 568.14,-175.22 572.85,-172.71 568.4,-172.31 568.4,-172.31 568.4,-172.31 572.85,-172.71 568.66,-169.4 574.87,-172.89\"/>\n",
       "<text text-anchor=\"middle\" x=\"381\" y=\"-155.23\" font-family=\"arial\" font-size=\"9.00\">author name string</text>\n",
       "</g>\n",
       "<!-- 70a64c540473f561adf4a06dd3cf3ca8cc26d018a00aab6a82641bfdf783a059 -->\n",
       "<g id=\"node3\" class=\"node\">\n",
       "<title>70a64c540473f561adf4a06dd3cf3ca8cc26d018a00aab6a82641bfdf783a059</title>\n",
       "<text text-anchor=\"middle\" x=\"613.88\" y=\"-138.5\" font-family=\"arial\" font-size=\"10.00\">patent</text>\n",
       "</g>\n",
       "<!-- e68bfd07ae3ca2e44cb4849724e18089cd74ea9d743b280536b093547d9bab9b&#45;&gt;70a64c540473f561adf4a06dd3cf3ca8cc26d018a00aab6a82641bfdf783a059 -->\n",
       "<g id=\"edge2\" class=\"edge\">\n",
       "<title>e68bfd07ae3ca2e44cb4849724e18089cd74ea9d743b280536b093547d9bab9b&#45;&gt;70a64c540473f561adf4a06dd3cf3ca8cc26d018a00aab6a82641bfdf783a059</title>\n",
       "<path fill=\"none\" stroke=\"black\" d=\"M205.01,-96.97C241.33,-102.08 295.47,-109.48 342.75,-115 436.18,-125.92 548.11,-136.22 592.91,-140.23\"/>\n",
       "<polygon fill=\"black\" stroke=\"black\" points=\"599.26,-140.8 592.53,-143.14 597.24,-140.62 592.79,-140.22 592.79,-140.22 592.79,-140.22 597.24,-140.62 593.05,-137.31 599.26,-140.8\"/>\n",
       "<text text-anchor=\"middle\" x=\"381\" y=\"-125.13\" font-family=\"arial\" font-size=\"9.00\">instance of</text>\n",
       "</g>\n",
       "<!-- 02aed5d82e28cc1e59bd675fa43842b313a3b902701d30d0586aac9743a44703 -->\n",
       "<g id=\"node4\" class=\"node\">\n",
       "<title>02aed5d82e28cc1e59bd675fa43842b313a3b902701d30d0586aac9743a44703</title>\n",
       "<text text-anchor=\"middle\" x=\"613.88\" y=\"-104.5\" font-family=\"arial\" font-size=\"10.00\">1&#45;methylnaphthalene</text>\n",
       "</g>\n",
       "<!-- e68bfd07ae3ca2e44cb4849724e18089cd74ea9d743b280536b093547d9bab9b&#45;&gt;02aed5d82e28cc1e59bd675fa43842b313a3b902701d30d0586aac9743a44703 -->\n",
       "<g id=\"edge3\" class=\"edge\">\n",
       "<title>e68bfd07ae3ca2e44cb4849724e18089cd74ea9d743b280536b093547d9bab9b&#45;&gt;02aed5d82e28cc1e59bd675fa43842b313a3b902701d30d0586aac9743a44703</title>\n",
       "<path fill=\"none\" stroke=\"black\" d=\"M321.85,-96.99C405.79,-100.17 503.28,-103.85 561.42,-106.05\"/>\n",
       "<polygon fill=\"black\" stroke=\"black\" points=\"567.79,-106.29 561.19,-108.97 565.76,-106.22 561.3,-106.05 561.3,-106.05 561.3,-106.05 565.76,-106.22 561.41,-103.13 567.79,-106.29\"/>\n",
       "<text text-anchor=\"middle\" x=\"381\" y=\"-102.47\" font-family=\"arial\" font-size=\"9.00\">main subject</text>\n",
       "</g>\n",
       "<!-- 4f046549577e880a250b083f8050ff960fbe5e6a9976d1d48160d19ef1ef8dc1 -->\n",
       "<g id=\"node5\" class=\"node\">\n",
       "<title>4f046549577e880a250b083f8050ff960fbe5e6a9976d1d48160d19ef1ef8dc1</title>\n",
       "<text text-anchor=\"middle\" x=\"613.88\" y=\"-70.5\" font-family=\"arial\" font-size=\"10.00\">&quot;AU&#45;2012245199&#45;A1&quot;</text>\n",
       "</g>\n",
       "<!-- e68bfd07ae3ca2e44cb4849724e18089cd74ea9d743b280536b093547d9bab9b&#45;&gt;4f046549577e880a250b083f8050ff960fbe5e6a9976d1d48160d19ef1ef8dc1 -->\n",
       "<g id=\"edge4\" class=\"edge\">\n",
       "<title>e68bfd07ae3ca2e44cb4849724e18089cd74ea9d743b280536b093547d9bab9b&#45;&gt;4f046549577e880a250b083f8050ff960fbe5e6a9976d1d48160d19ef1ef8dc1</title>\n",
       "<path fill=\"none\" stroke=\"black\" d=\"M304.37,-85.02C317.35,-84.49 330.29,-83.98 342.75,-83.5 418.44,-80.59 506.06,-77.57 560.49,-75.74\"/>\n",
       "<polygon fill=\"black\" stroke=\"black\" points=\"566.73,-75.53 560.33,-78.67 564.7,-75.6 560.23,-75.75 560.23,-75.75 560.23,-75.75 564.7,-75.6 560.13,-72.82 566.73,-75.53\"/>\n",
       "<text text-anchor=\"middle\" x=\"381\" y=\"-85.45\" font-family=\"arial\" font-size=\"9.00\">patent number</text>\n",
       "</g>\n",
       "<!-- 73f6177328eaef332afcafdfa3d8a243bb54e761d36e166b4df33d089ef939f8 -->\n",
       "<g id=\"node6\" class=\"node\">\n",
       "<title>73f6177328eaef332afcafdfa3d8a243bb54e761d36e166b4df33d089ef939f8</title>\n",
       "<text text-anchor=\"middle\" x=\"613.88\" y=\"-36.5\" font-family=\"arial\" font-size=\"10.00\">2013&#45;11&#45;07 04:00:00+00:00</text>\n",
       "</g>\n",
       "<!-- e68bfd07ae3ca2e44cb4849724e18089cd74ea9d743b280536b093547d9bab9b&#45;&gt;73f6177328eaef332afcafdfa3d8a243bb54e761d36e166b4df33d089ef939f8 -->\n",
       "<g id=\"edge5\" class=\"edge\">\n",
       "<title>e68bfd07ae3ca2e44cb4849724e18089cd74ea9d743b280536b093547d9bab9b&#45;&gt;73f6177328eaef332afcafdfa3d8a243bb54e761d36e166b4df33d089ef939f8</title>\n",
       "<path fill=\"none\" stroke=\"black\" d=\"M203.93,-85.01C240.25,-79.76 294.99,-72.1 342.75,-66.5 412.59,-58.31 492.8,-50.66 547.55,-45.71\"/>\n",
       "<polygon fill=\"black\" stroke=\"black\" points=\"553.89,-45.14 547.68,-48.63 551.87,-45.32 547.42,-45.72 547.42,-45.72 547.42,-45.72 551.87,-45.32 547.16,-42.81 553.89,-45.14\"/>\n",
       "<text text-anchor=\"middle\" x=\"381\" y=\"-68.45\" font-family=\"arial\" font-size=\"9.00\">publication date</text>\n",
       "</g>\n",
       "<!-- fb2cdb1db4c045031335df42ff846b2b0a81939f376c2b5a8028054753bf152c -->\n",
       "<g id=\"node7\" class=\"node\">\n",
       "<title>fb2cdb1db4c045031335df42ff846b2b0a81939f376c2b5a8028054753bf152c</title>\n",
       "<text text-anchor=\"middle\" x=\"613.88\" y=\"-2.5\" font-family=\"arial\" font-size=\"10.00\">&quot;Production of aromatics from noncatalytically cracked fatty acid based oils&quot;@en</text>\n",
       "</g>\n",
       "<!-- e68bfd07ae3ca2e44cb4849724e18089cd74ea9d743b280536b093547d9bab9b&#45;&gt;fb2cdb1db4c045031335df42ff846b2b0a81939f376c2b5a8028054753bf152c -->\n",
       "<g id=\"edge6\" class=\"edge\">\n",
       "<title>e68bfd07ae3ca2e44cb4849724e18089cd74ea9d743b280536b093547d9bab9b&#45;&gt;fb2cdb1db4c045031335df42ff846b2b0a81939f376c2b5a8028054753bf152c</title>\n",
       "<path fill=\"none\" stroke=\"black\" d=\"M183.07,-85.01C227.78,-71.7 340.54,-39.67 437.25,-25 470.09,-20.02 506.58,-15.85 537.76,-12.7\"/>\n",
       "<polygon fill=\"black\" stroke=\"black\" points=\"543.94,-12.08 537.76,-15.64 541.91,-12.28 537.47,-12.73 537.47,-12.73 537.47,-12.73 541.91,-12.28 537.18,-9.82 543.94,-12.08\"/>\n",
       "<text text-anchor=\"middle\" x=\"381\" y=\"-44.34\" font-family=\"arial\" font-size=\"9.00\">title</text>\n",
       "</g>\n",
       "</g>\n",
       "</svg>\n"
      ],
      "text/plain": [
       "<graphviz.graphs.Digraph at 0x10b7f25d0>"
      ]
     },
     "metadata": {},
     "output_type": "display_data"
    }
   ],
   "source": [
    "f = lambda p: kb.filter(subject=pc.patent('AU-2012245199-A1'), property=p, limit=1)\n",
    "show.graph(*itertools.chain(*map(f, PATENT_PROPERTIES)))"
   ]
  },
  {
   "cell_type": "markdown",
   "id": "38187a0f-0527-4edf-8a36-59322ab40542",
   "metadata": {},
   "source": [
    "## Sources (vendors)"
   ]
  },
  {
   "cell_type": "code",
   "execution_count": 17,
   "id": "6ec9b833-3732-4c0c-b4a8-f3e303216b0a",
   "metadata": {},
   "outputs": [],
   "source": [
    "SOURCE_PROPERTIES = [\n",
    "    wd.instance_of,\n",
    "    wd.official_website,\n",
    "]"
   ]
  },
  {
   "cell_type": "code",
   "execution_count": 18,
   "id": "2bd200cd-d1ff-42ea-9fbb-f80c97a48aab",
   "metadata": {},
   "outputs": [
    {
     "data": {
      "text/markdown": [
       "|property|description|\n",
       "|-|-|\n",
       "|[instance of](http://www.wikidata.org/entity/P31)|type to which this subject corresponds/belongs. Different from P279 (subclass of); for example: K2 is an instance of mountain; volcanoes form a subclass of mountains, and the volcano is a type (instance) of volcanic landform|\n",
       "|[official website](http://www.wikidata.org/entity/P856)|URL of the official page of an item (current or former). Usage: If a listed URL no longer points to the official website, do not remove it, but see the \"Hijacked or dead websites\" section of the Talk page|"
      ]
     },
     "metadata": {},
     "output_type": "display_data"
    }
   ],
   "source": [
    "show.property_table(SOURCE_PROPERTIES)"
   ]
  },
  {
   "cell_type": "code",
   "execution_count": 19,
   "id": "866e694a-e284-45f5-9087-506b2adc77cb",
   "metadata": {},
   "outputs": [
    {
     "data": {
      "image/svg+xml": [
       "<?xml version=\"1.0\" encoding=\"UTF-8\" standalone=\"no\"?>\n",
       "<!DOCTYPE svg PUBLIC \"-//W3C//DTD SVG 1.1//EN\"\n",
       " \"http://www.w3.org/Graphics/SVG/1.1/DTD/svg11.dtd\">\n",
       "<!-- Generated by graphviz version 12.2.1 (20241206.2353)\n",
       " -->\n",
       "<!-- Pages: 1 -->\n",
       "<svg width=\"359pt\" height=\"54pt\"\n",
       " viewBox=\"0.00 0.00 359.00 54.00\" xmlns=\"http://www.w3.org/2000/svg\" xmlns:xlink=\"http://www.w3.org/1999/xlink\">\n",
       "<g id=\"graph0\" class=\"graph\" transform=\"scale(1 1) rotate(0) translate(4 50)\">\n",
       "<polygon fill=\"white\" stroke=\"none\" points=\"-4,4 -4,-50 355,-50 355,4 -4,4\"/>\n",
       "<!-- 52707c4e544e0c81282be55313233e92601e278f5f40c20ab95b3616ebce76eb -->\n",
       "<g id=\"node1\" class=\"node\">\n",
       "<title>52707c4e544e0c81282be55313233e92601e278f5f40c20ab95b3616ebce76eb</title>\n",
       "<text text-anchor=\"middle\" x=\"35.62\" y=\"-19.5\" font-family=\"arial\" font-size=\"10.00\">Alinda Chemical</text>\n",
       "</g>\n",
       "<!-- 850c60ff323b5dfd9356e79ff7e130009088c8a6f6426f4f9d0c50f1b5a6dc20 -->\n",
       "<g id=\"node2\" class=\"node\">\n",
       "<title>850c60ff323b5dfd9356e79ff7e130009088c8a6f6426f4f9d0c50f1b5a6dc20</title>\n",
       "<text text-anchor=\"middle\" x=\"259.12\" y=\"-36.5\" font-family=\"arial\" font-size=\"10.00\">vendor</text>\n",
       "</g>\n",
       "<!-- 52707c4e544e0c81282be55313233e92601e278f5f40c20ab95b3616ebce76eb&#45;&gt;850c60ff323b5dfd9356e79ff7e130009088c8a6f6426f4f9d0c50f1b5a6dc20 -->\n",
       "<g id=\"edge1\" class=\"edge\">\n",
       "<title>52707c4e544e0c81282be55313233e92601e278f5f40c20ab95b3616ebce76eb&#45;&gt;850c60ff323b5dfd9356e79ff7e130009088c8a6f6426f4f9d0c50f1b5a6dc20</title>\n",
       "<path fill=\"none\" stroke=\"black\" d=\"M71.23,-25.66C117.81,-29.23 199.2,-35.48 237.32,-38.4\"/>\n",
       "<polygon fill=\"black\" stroke=\"black\" points=\"243.55,-38.88 236.85,-41.3 241.53,-38.73 237.07,-38.38 237.07,-38.38 237.07,-38.38 241.53,-38.73 237.3,-35.47 243.55,-38.88\"/>\n",
       "<text text-anchor=\"middle\" x=\"119.25\" y=\"-33.45\" font-family=\"arial\" font-size=\"9.00\">instance of</text>\n",
       "</g>\n",
       "<!-- 0c1d00e433b0ab9adc79bc38774fccc2f56cac9af191fdc0982a9b8c95431cfd -->\n",
       "<g id=\"node3\" class=\"node\">\n",
       "<title>0c1d00e433b0ab9adc79bc38774fccc2f56cac9af191fdc0982a9b8c95431cfd</title>\n",
       "<text text-anchor=\"middle\" x=\"259.12\" y=\"-2.5\" font-family=\"arial\" font-size=\"10.00\">https://alindachemical.com/bases_en.html</text>\n",
       "</g>\n",
       "<!-- 52707c4e544e0c81282be55313233e92601e278f5f40c20ab95b3616ebce76eb&#45;&gt;0c1d00e433b0ab9adc79bc38774fccc2f56cac9af191fdc0982a9b8c95431cfd -->\n",
       "<g id=\"edge2\" class=\"edge\">\n",
       "<title>52707c4e544e0c81282be55313233e92601e278f5f40c20ab95b3616ebce76eb&#45;&gt;0c1d00e433b0ab9adc79bc38774fccc2f56cac9af191fdc0982a9b8c95431cfd</title>\n",
       "<path fill=\"none\" stroke=\"black\" d=\"M62.19,-17.05C70.75,-15.29 80.37,-13.55 89.25,-12.5 112.12,-9.8 136.85,-8.14 160.14,-7.14\"/>\n",
       "<polygon fill=\"black\" stroke=\"black\" points=\"166.43,-6.89 160.05,-10.07 164.4,-6.97 159.94,-7.15 159.94,-7.15 159.94,-7.15 164.4,-6.97 159.82,-4.23 166.43,-6.89\"/>\n",
       "<text text-anchor=\"middle\" x=\"119.25\" y=\"-14.45\" font-family=\"arial\" font-size=\"9.00\">official website</text>\n",
       "</g>\n",
       "</g>\n",
       "</svg>\n"
      ],
      "text/plain": [
       "<graphviz.graphs.Digraph at 0x10b7f25d0>"
      ]
     },
     "metadata": {},
     "output_type": "display_data"
    }
   ],
   "source": [
    "f = lambda p: kb.filter(subject=pc.source('Alinda_Chemical'), property=p, limit=1)\n",
    "show.graph(*itertools.chain(*map(f, SOURCE_PROPERTIES)))"
   ]
  }
 ],
 "metadata": {
  "kernelspec": {
   "display_name": "venv313",
   "language": "python",
   "name": "venv313"
  },
  "language_info": {
   "codemirror_mode": {
    "name": "ipython",
    "version": 3
   },
   "file_extension": ".py",
   "mimetype": "text/x-python",
   "name": "python",
   "nbconvert_exporter": "python",
   "pygments_lexer": "ipython3",
   "version": "3.13.2"
  }
 },
 "nbformat": 4,
 "nbformat_minor": 5
}
