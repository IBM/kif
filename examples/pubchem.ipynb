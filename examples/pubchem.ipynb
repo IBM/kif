{
 "cells": [
  {
   "cell_type": "code",
   "execution_count": 1,
   "id": "c6d912c6-b715-416c-8281-51b7c109e773",
   "metadata": {},
   "outputs": [],
   "source": [
    "# Uncomment to see the SPARQL queries.\n",
    "#import logging\n",
    "#logging.basicConfig(level=logging.DEBUG)"
   ]
  },
  {
   "cell_type": "markdown",
   "id": "63ea7b8d-1c3f-4e40-beb5-a6e2c25f5a26",
   "metadata": {},
   "source": [
    "# PubChem"
   ]
  },
  {
   "cell_type": "code",
   "execution_count": 2,
   "id": "ab044610-1d2b-4e57-88b0-aaa426b73f29",
   "metadata": {},
   "outputs": [],
   "source": [
    "from kif_lib import *\n",
    "from kif_lib.store.mapping import PubChemMapping\n",
    "from kif_lib.vocabulary import wd"
   ]
  },
  {
   "cell_type": "markdown",
   "id": "a2683d55-6211-408c-861e-0f62f5e38678",
   "metadata": {},
   "source": [
    "## PubChemMapping"
   ]
  },
  {
   "cell_type": "code",
   "execution_count": 3,
   "id": "fbf28d88-3e12-4231-9e76-16b790349817",
   "metadata": {},
   "outputs": [
    {
     "name": "stdout",
     "output_type": "stream",
     "text": [
      "#1 canonical SMILES\n",
      "#2 chemical formula\n",
      "#3 CAS Registry Number\n",
      "#4 ChEBI ID\n",
      "#5 ChEMBL ID\n",
      "#6 described by source\n",
      "#7 has part(s)\n",
      "#8 InChI\n",
      "#9 InChIKey\n",
      "#10 instance of\n",
      "#11 isomeric SMILES\n",
      "#12 legal status (medicine)\n",
      "#13 mass\n",
      "#14 manufacturer\n",
      "#15 partition coefficient water/octanol\n",
      "#16 PubChem CID\n",
      "#17 stereoisomer of\n",
      "#18 trading name\n",
      "#19 author name string\n",
      "#20 main subject\n",
      "#21 patent number\n",
      "#22 publication date\n",
      "#23 title\n",
      "#24 official website\n",
      "#25 short name\n"
     ]
    }
   ],
   "source": [
    "pubchem = PubChemMapping()\n",
    "for i, k in enumerate(pubchem.specs, 1):\n",
    "    print(f'#{i}', wd.get_label(k))"
   ]
  },
  {
   "cell_type": "markdown",
   "id": "46f0540f-fe57-4851-b291-1cb8f7a681ff",
   "metadata": {},
   "source": [
    "## Showcase"
   ]
  },
  {
   "cell_type": "code",
   "execution_count": 4,
   "id": "3e220f45-2e82-4f51-8bdd-3cb392e3ada2",
   "metadata": {},
   "outputs": [],
   "source": [
    "import os\n",
    "PUBCHEM = os.getenv('PUBCHEM', 'https://qlever.cs.uni-freiburg.de/api/pubchem')\n",
    "assert PUBCHEM is not None, 'you need to define the PUBCHEM env var!'"
   ]
  },
  {
   "cell_type": "code",
   "execution_count": 5,
   "id": "b6558551-c553-4048-99b0-67e077d65417",
   "metadata": {},
   "outputs": [],
   "source": [
    "kb = Store('sparql-mapper', PUBCHEM, pubchem)"
   ]
  },
  {
   "cell_type": "code",
   "execution_count": 6,
   "id": "39224523-59b4-4405-be98-63a65d2faf65",
   "metadata": {},
   "outputs": [],
   "source": [
    "def get_descriptor(*args, **kwargs):\n",
    "    for entity, desc in kb.get_descriptor(*args, **kwargs):\n",
    "        display(entity)\n",
    "        display(desc)"
   ]
  },
  {
   "cell_type": "code",
   "execution_count": 7,
   "id": "a4828a61-c1a8-4494-b900-719eef80c5c9",
   "metadata": {},
   "outputs": [],
   "source": [
    "def filter(*args, **kwargs):\n",
    "    for stmt in kb.filter_annotated(*args, **kwargs):\n",
    "        display(stmt)"
   ]
  },
  {
   "cell_type": "markdown",
   "id": "f5019eff-bf08-4cc5-ad2a-278b25efd751",
   "metadata": {},
   "source": [
    "### Compounds"
   ]
  },
  {
   "cell_type": "markdown",
   "id": "13fdfe55-b65b-49c7-95f9-e94dc0ef082a",
   "metadata": {},
   "source": [
    "#### Descriptor"
   ]
  },
  {
   "cell_type": "code",
   "execution_count": 8,
   "id": "43c4b44a-0735-4962-af96-732df8dc1f12",
   "metadata": {},
   "outputs": [
    {
     "data": {
      "text/markdown": [
       "(**Item** [wd:Q_PUBCHEM_COMPOUND_CID241](http://www.wikidata.org/entity/Q_PUBCHEM_COMPOUND_CID241))"
      ],
      "text/plain": [
       "Item(IRI('http://www.wikidata.org/entity/Q_PUBCHEM_COMPOUND_CID241'))"
      ]
     },
     "metadata": {},
     "output_type": "display_data"
    },
    {
     "data": {
      "text/markdown": [
       "(**ItemDescriptor**\n",
       "- \"\\[6]annulene\"@en\n",
       "- (**TextSet**\n",
       "  - \"(6)annulene\"@en\n",
       "  - \"1,3,5-cyclohexatriene\"@en\n",
       "  - \"1,4-phenylene\"@en\n",
       "  - \"12 - vocs - tenax ta sorbent tubes (perkin elmer)\"@en\n",
       "  - \"12a. - vocs - carbopack x sorbent tubes\"@en\n",
       "  - \"18c - benzenes, toluene and xylenes\"@en\n",
       "  - \"22 - btex in soil\"@en\n",
       "  - \"3,4-dnh\"@en\n",
       "  - \"34j - wfd j\"@en\n",
       "  - \"5 - vocs\"@en\n",
       "  - \"7 - vocs (perkin elmer tubes)\"@en\n",
       "  - \"BENZENE\"@en\n",
       "  - \"BNZ\"@en\n",
       "  - \"DTXSID3039242\"@en\n",
       "  - \"RNG\"@en\n",
       "  - \"\\[6]-annulene\"@en\n",
       "  - \"acetone impurity c \\[ep impurity]\"@en\n",
       "  - \"bdbm50167939\"@en\n",
       "  - \"benzeen\"@en\n",
       "  - \"benzeen \\[dutch]\"@en\n",
       "  - \"benzen\"@en\n",
       "  - \"benzen \\[polish]\"@en\n",
       "  - \"benzene\"@en\n",
       "  - \"benzene (benzol)\"@en\n",
       "  - \"benzene (iarc)\"@en\n",
       "  - \"benzene (including benzene from gasoline)\"@en\n",
       "  - \"benzene (mart.)\"@en\n",
       "  - \"benzene (usp-rs)\"@en\n",
       "  - \"benzene + aniline combo\"@en\n",
       "  - \"benzene 10 microg/ml in methanol\"@en\n",
       "  - \"benzene 100 microg/ml in methanol\"@en\n",
       "  - \"benzene 20 microg/ml in triacetin\"@en\n",
       "  - \"benzene 30 microg/ml in n,n-dimethylacetamide\"@en\n",
       "  - \"benzene 5000 microg/ml in methanol\"@en\n",
       "  - \"benzene \\[hsdb]\"@en\n",
       "  - \"benzene \\[iarc]\"@en\n",
       "  - \"benzene \\[mart.]\"@en\n",
       "  - \"benzene \\[mi]\"@en\n",
       "  - \"benzene \\[un1114]  \\[flammable liquid]\"@en\n",
       "  - \"benzene \\[usp-rs]\"@en\n",
       "  - \"benzene \\[vandf]\"@en\n",
       "  - \"benzene \\[who-dd]\"@en\n",
       "  - \"benzene acs grade\"@en\n",
       "  - \"benzene content (nominal: 0.62% volume)\"@en\n",
       "  - \"benzene hplc grade\"@en\n",
       "  - \"benzene, acs reagent, >=99.0%\"@en\n",
       "  - \"benzene, acs spectrophotometric grade, >=99%\"@en\n",
       "  - \"benzene, analytical standard\"@en\n",
       "  - \"benzene, anhydrous, 99.8%\"@en\n",
       "  - \"benzene, ar, >=99.5%\"@en\n",
       "  - \"benzene, for hplc\"@en\n",
       "  - \"benzene, for hplc, >=99.8%\"@en\n",
       "  - \"benzene, for hplc, >=99.9%\"@en\n",
       "  - \"benzene, jis special grade, >=99.5%\"@en\n",
       "  - \"benzene, labeled with carbon-14 and tritium\"@en\n",
       "  - \"benzene, lr, >=99%\"@en\n",
       "  - \"benzene, pharmaceutical secondary standard; certified reference material\"@en\n",
       "  - \"benzene, pure\"@en\n",
       "  - \"benzene, purification grade\"@en\n",
       "  - \"benzene, puriss. p.a., reag. ph. eur., >=99.7%\"@en\n",
       "  - \"benzene, puriss., absolute, over molecular sieve (h2o <=0.005%), >=99.5% (gc)\"@en\n",
       "  - \"benzene, purum, >=99.0% (gc)\"@en\n",
       "  - \"benzene, reagentplus(r), thiophene free, >=99%\"@en\n",
       "  - \"benzene, saj first grade, >=99.0%\"@en\n",
       "  - \"benzene,iodomanganese(1+)\"@en\n",
       "  - \"benzene-\"@en\n",
       "  - \"benzin\"@en\n",
       "  - \"benzin (obs.)\"@en\n",
       "  - \"benzin /obsolete/\"@en\n",
       "  - \"benzine\"@en\n",
       "  - \"benzine (obs.)\"@en\n",
       "  - \"benzine /obsolete/\"@en\n",
       "  - \"benzinum\"@en\n",
       "  - \"benzinum \\[hpus]\"@en\n",
       "  - \"benzol\"@en\n",
       "  - \"benzol 90\"@en\n",
       "  - \"benzole\"@en\n",
       "  - \"benzolene\"@en\n",
       "  - \"benzolo\"@en\n",
       "  - \"benzolo \\[italian]\"@en\n",
       "  - \"benzolum\"@en\n",
       "  - \"bicarburet of hydrogen\"@en\n",
       "  - \"biperiden hydrochloride impurity f \\[ep impurity]\"@en\n",
       "  - \"bm 613\"@en\n",
       "  - \"bnz\"@en\n",
       "  - \"c6h6\"@en\n",
       "  - \"caswell no 077\"@en\n",
       "  - \"caswell no. 077\"@en\n",
       "  - \"cc-34,(+/-)\"@en\n",
       "  - \"ccris 70\"@en\n",
       "  - \"coal naphtha\"@en\n",
       "  - \"cyclohexatriene\"@en\n",
       "  - \"dtxcid20135\"@en\n",
       "  - \"dtxsid3039242\"@en\n",
       "  - \"ec 200-753-7\"@en\n",
       "  - \"epa pesticide chemical code 008801\"@en\n",
       "  - \"erythro-phenyl-2-piperidyl-carbinol,(-)\"@en\n",
       "  - \"fenzen\"@en\n",
       "  - \"fenzen \\[czech]\"@en\n",
       "  - \"for hplc, inverted exclamation marky99.7%\"@en\n",
       "  - \"hsdb 35\"@en\n",
       "  - \"inchi=1/c6h6/c1-2-4-6-5-3-1/h1-6\"@en\n",
       "  - \"mfcd00003009\"@en\n",
       "  - \"mineral naphta\"@en\n",
       "  - \"mineral naphtha\"@en\n",
       "  - \"motor benzol\"@en\n",
       "  - \"nci-c55276\"@en\n",
       "  - \"nitration benzene\"@en\n",
       "  - \"p-benzene\"@en\n",
       "  - \"ph-h\"@en\n",
       "  - \"phene\"@en\n",
       "  - \"phenyl hydride\"@en\n",
       "  - \"phenyl; phenyl radical\"@en\n",
       "  - \"phenylmanganese iodide\"@en\n",
       "  - \"pyrobenzole\"@en\n",
       "  - \"rcra waste number u019\"@en\n",
       "  - \"rng\"@en\n",
       "  - \"trans-n, n-dimethylphenylcyclopropylamine\"@en\n",
       "  - \"trans-n-methylphenylcyclopropylamine\"@en\n",
       "  - \"un 1114\"@en\n",
       "  - \"un1114\"@en\n",
       "  - \"usepa/opp pesticide code: 008801\"@en\n",
       "  - \"wln: rh\"@en\n",
       "  - \"{\\[6]annulene}\"@en)\n",
       "- \"A six-carbon aromatic annulene in which each carbon atom donates one of its two 2p electrons into a delocalised pi system. A toxic, flammable liquid byproduct of coal distillation, it is used as an industrial solvent. Benzene is a carcinogen that also damages bone marrow and the central nervous system.\"@en)"
      ],
      "text/plain": [
       "ItemDescriptor(Text('[6]annulene', 'en'), TextSet(Text('(6)annulene', 'en'), Text('1,3,5-cyclohexatriene', 'en'), Text('1,4-phenylene', 'en'), Text('12 - vocs - tenax ta sorbent tubes (perkin elmer)', 'en'), Text('12a. - vocs - carbopack x sorbent tubes', 'en'), Text('18c - benzenes, toluene and xylenes', 'en'), Text('22 - btex in soil', 'en'), Text('3,4-dnh', 'en'), Text('34j - wfd j', 'en'), Text('5 - vocs', 'en'), Text('7 - vocs (perkin elmer tubes)', 'en'), Text('BENZENE', 'en'), Text('BNZ', 'en'), Text('DTXSID3039242', 'en'), Text('RNG', 'en'), Text('[6]-annulene', 'en'), Text('acetone impurity c [ep impurity]', 'en'), Text('bdbm50167939', 'en'), Text('benzeen', 'en'), Text('benzeen [dutch]', 'en'), Text('benzen', 'en'), Text('benzen [polish]', 'en'), Text('benzene', 'en'), Text('benzene (benzol)', 'en'), Text('benzene (iarc)', 'en'), Text('benzene (including benzene from gasoline)', 'en'), Text('benzene (mart.)', 'en'), Text('benzene (usp-rs)', 'en'), Text('benzene + aniline combo', 'en'), Text('benzene 10 microg/ml in methanol', 'en'), Text('benzene 100 microg/ml in methanol', 'en'), Text('benzene 20 microg/ml in triacetin', 'en'), Text('benzene 30 microg/ml in n,n-dimethylacetamide', 'en'), Text('benzene 5000 microg/ml in methanol', 'en'), Text('benzene [hsdb]', 'en'), Text('benzene [iarc]', 'en'), Text('benzene [mart.]', 'en'), Text('benzene [mi]', 'en'), Text('benzene [un1114]  [flammable liquid]', 'en'), Text('benzene [usp-rs]', 'en'), Text('benzene [vandf]', 'en'), Text('benzene [who-dd]', 'en'), Text('benzene acs grade', 'en'), Text('benzene content (nominal: 0.62% volume)', 'en'), Text('benzene hplc grade', 'en'), Text('benzene, acs reagent, >=99.0%', 'en'), Text('benzene, acs spectrophotometric grade, >=99%', 'en'), Text('benzene, analytical standard', 'en'), Text('benzene, anhydrous, 99.8%', 'en'), Text('benzene, ar, >=99.5%', 'en'), Text('benzene, for hplc', 'en'), Text('benzene, for hplc, >=99.8%', 'en'), Text('benzene, for hplc, >=99.9%', 'en'), Text('benzene, jis special grade, >=99.5%', 'en'), Text('benzene, labeled with carbon-14 and tritium', 'en'), Text('benzene, lr, >=99%', 'en'), Text('benzene, pharmaceutical secondary standard; certified reference material', 'en'), Text('benzene, pure', 'en'), Text('benzene, purification grade', 'en'), Text('benzene, puriss. p.a., reag. ph. eur., >=99.7%', 'en'), Text('benzene, puriss., absolute, over molecular sieve (h2o <=0.005%), >=99.5% (gc)', 'en'), Text('benzene, purum, >=99.0% (gc)', 'en'), Text('benzene, reagentplus(r), thiophene free, >=99%', 'en'), Text('benzene, saj first grade, >=99.0%', 'en'), Text('benzene,iodomanganese(1+)', 'en'), Text('benzene-', 'en'), Text('benzin', 'en'), Text('benzin (obs.)', 'en'), Text('benzin /obsolete/', 'en'), Text('benzine', 'en'), Text('benzine (obs.)', 'en'), Text('benzine /obsolete/', 'en'), Text('benzinum', 'en'), Text('benzinum [hpus]', 'en'), Text('benzol', 'en'), Text('benzol 90', 'en'), Text('benzole', 'en'), Text('benzolene', 'en'), Text('benzolo', 'en'), Text('benzolo [italian]', 'en'), Text('benzolum', 'en'), Text('bicarburet of hydrogen', 'en'), Text('biperiden hydrochloride impurity f [ep impurity]', 'en'), Text('bm 613', 'en'), Text('bnz', 'en'), Text('c6h6', 'en'), Text('caswell no 077', 'en'), Text('caswell no. 077', 'en'), Text('cc-34,(+/-)', 'en'), Text('ccris 70', 'en'), Text('coal naphtha', 'en'), Text('cyclohexatriene', 'en'), Text('dtxcid20135', 'en'), Text('dtxsid3039242', 'en'), Text('ec 200-753-7', 'en'), Text('epa pesticide chemical code 008801', 'en'), Text('erythro-phenyl-2-piperidyl-carbinol,(-)', 'en'), Text('fenzen', 'en'), Text('fenzen [czech]', 'en'), Text('for hplc, inverted exclamation marky99.7%', 'en'), Text('hsdb 35', 'en'), Text('inchi=1/c6h6/c1-2-4-6-5-3-1/h1-6', 'en'), Text('mfcd00003009', 'en'), Text('mineral naphta', 'en'), Text('mineral naphtha', 'en'), Text('motor benzol', 'en'), Text('nci-c55276', 'en'), Text('nitration benzene', 'en'), Text('p-benzene', 'en'), Text('ph-h', 'en'), Text('phene', 'en'), Text('phenyl hydride', 'en'), Text('phenyl; phenyl radical', 'en'), Text('phenylmanganese iodide', 'en'), Text('pyrobenzole', 'en'), Text('rcra waste number u019', 'en'), Text('rng', 'en'), Text('trans-n, n-dimethylphenylcyclopropylamine', 'en'), Text('trans-n-methylphenylcyclopropylamine', 'en'), Text('un 1114', 'en'), Text('un1114', 'en'), Text('usepa/opp pesticide code: 008801', 'en'), Text('wln: rh', 'en'), Text('{[6]annulene}', 'en')), Text('A six-carbon aromatic annulene in which each carbon atom donates one of its two 2p electrons into a delocalised pi system. A toxic, flammable liquid byproduct of coal distillation, it is used as an industrial solvent. Benzene is a carcinogen that also damages bone marrow and the central nervous system.', 'en'))"
      ]
     },
     "metadata": {},
     "output_type": "display_data"
    }
   ],
   "source": [
    "get_descriptor(pubchem.compound(241))"
   ]
  },
  {
   "cell_type": "markdown",
   "id": "4e3dead8-c925-4afb-a6d1-5b01fdc85f5e",
   "metadata": {},
   "source": [
    "#### Class"
   ]
  },
  {
   "cell_type": "code",
   "execution_count": 9,
   "id": "d130c07f-ee4b-4818-9489-cdd8ea08073b",
   "metadata": {},
   "outputs": [
    {
     "data": {
      "text/markdown": [
       "(**AnnotatedStatement** (**Item** [wd:Q_PUBCHEM_COMPOUND_CID241](http://www.wikidata.org/entity/Q_PUBCHEM_COMPOUND_CID241)) (**ValueSnak** (**Property** [instance of](http://www.wikidata.org/entity/P31)) (**Item** [type of a chemical entity](http://www.wikidata.org/entity/Q113145171)))\n",
       "- (**QualifierRecord**)\n",
       "- (**ReferenceRecordSet**)\n",
       "- **NormalRank**)"
      ],
      "text/plain": [
       "AnnotatedStatement(Item(IRI('http://www.wikidata.org/entity/Q_PUBCHEM_COMPOUND_CID241')), ValueSnak(Property(IRI('http://www.wikidata.org/entity/P31'), ItemDatatype()), Item(IRI('http://www.wikidata.org/entity/Q113145171'))), QualifierRecord(), ReferenceRecordSet(), NormalRank())"
      ]
     },
     "metadata": {},
     "output_type": "display_data"
    }
   ],
   "source": [
    "filter(pubchem.compound(241), wd.instance_of, limit=1)"
   ]
  },
  {
   "cell_type": "markdown",
   "id": "57ede129-ee24-4eae-91cd-775ac0940834",
   "metadata": {},
   "source": [
    "#### Chemical formula"
   ]
  },
  {
   "cell_type": "code",
   "execution_count": 10,
   "id": "364e4781-9a75-48c8-b8e6-03cf42f2286f",
   "metadata": {},
   "outputs": [
    {
     "data": {
      "text/markdown": [
       "(**AnnotatedStatement** (**Item** [wd:Q_PUBCHEM_COMPOUND_CID241](http://www.wikidata.org/entity/Q_PUBCHEM_COMPOUND_CID241)) (**ValueSnak** (**Property** [chemical formula](http://www.wikidata.org/entity/P274)) \"C6H6\")\n",
       "- (**QualifierRecord**)\n",
       "- (**ReferenceRecordSet**)\n",
       "- **NormalRank**)"
      ],
      "text/plain": [
       "AnnotatedStatement(Item(IRI('http://www.wikidata.org/entity/Q_PUBCHEM_COMPOUND_CID241')), ValueSnak(Property(IRI('http://www.wikidata.org/entity/P274'), StringDatatype()), String('C6H6')), QualifierRecord(), ReferenceRecordSet(), NormalRank())"
      ]
     },
     "metadata": {},
     "output_type": "display_data"
    }
   ],
   "source": [
    "filter(pubchem.compound(241), wd.chemical_formula, limit=1)"
   ]
  },
  {
   "cell_type": "markdown",
   "id": "d29243b2-dfe0-48d1-adad-4d9636d253f0",
   "metadata": {},
   "source": [
    "#### Canonical SMILES"
   ]
  },
  {
   "cell_type": "code",
   "execution_count": 11,
   "id": "bdbc2a45-6ac9-4468-a012-d3d978fd0fa0",
   "metadata": {},
   "outputs": [
    {
     "data": {
      "text/markdown": [
       "(**AnnotatedStatement** (**Item** [wd:Q_PUBCHEM_COMPOUND_CID241](http://www.wikidata.org/entity/Q_PUBCHEM_COMPOUND_CID241)) (**ValueSnak** (**Property** [canonical SMILES](http://www.wikidata.org/entity/P233)) \"C1=CC=CC=C1\")\n",
       "- (**QualifierRecord**)\n",
       "- (**ReferenceRecordSet**)\n",
       "- **NormalRank**)"
      ],
      "text/plain": [
       "AnnotatedStatement(Item(IRI('http://www.wikidata.org/entity/Q_PUBCHEM_COMPOUND_CID241')), ValueSnak(Property(IRI('http://www.wikidata.org/entity/P233'), StringDatatype()), String('C1=CC=CC=C1')), QualifierRecord(), ReferenceRecordSet(), NormalRank())"
      ]
     },
     "metadata": {},
     "output_type": "display_data"
    }
   ],
   "source": [
    "filter(pubchem.compound(241), wd.canonical_SMILES, limit=1)"
   ]
  },
  {
   "cell_type": "markdown",
   "id": "f84f1f5d-afcb-4911-b226-48bb8bac6719",
   "metadata": {},
   "source": [
    "#### Isomeric SMILES"
   ]
  },
  {
   "cell_type": "code",
   "execution_count": 12,
   "id": "7d8048ab-ae96-4f8a-a16b-e2df6eae9064",
   "metadata": {},
   "outputs": [
    {
     "data": {
      "text/markdown": [
       "(**AnnotatedStatement** (**Item** [wd:Q_PUBCHEM_COMPOUND_CID241](http://www.wikidata.org/entity/Q_PUBCHEM_COMPOUND_CID241)) (**ValueSnak** (**Property** [isomeric SMILES](http://www.wikidata.org/entity/P2017)) \"C1=CC=CC=C1\")\n",
       "- (**QualifierRecord**)\n",
       "- (**ReferenceRecordSet**)\n",
       "- **NormalRank**)"
      ],
      "text/plain": [
       "AnnotatedStatement(Item(IRI('http://www.wikidata.org/entity/Q_PUBCHEM_COMPOUND_CID241')), ValueSnak(Property(IRI('http://www.wikidata.org/entity/P2017'), StringDatatype()), String('C1=CC=CC=C1')), QualifierRecord(), ReferenceRecordSet(), NormalRank())"
      ]
     },
     "metadata": {},
     "output_type": "display_data"
    }
   ],
   "source": [
    "filter(pubchem.compound(241), wd.isomeric_SMILES, limit=1)"
   ]
  },
  {
   "cell_type": "markdown",
   "id": "e03d8e09-f066-474d-b6fb-f4459efceae9",
   "metadata": {},
   "source": [
    "#### InChI"
   ]
  },
  {
   "cell_type": "code",
   "execution_count": 13,
   "id": "9e20a2b5-c207-47cb-85bf-f25839ee9b85",
   "metadata": {},
   "outputs": [
    {
     "data": {
      "text/markdown": [
       "(**AnnotatedStatement** (**Item** [wd:Q_PUBCHEM_COMPOUND_CID241](http://www.wikidata.org/entity/Q_PUBCHEM_COMPOUND_CID241)) (**ValueSnak** (**Property** [InChI](http://www.wikidata.org/entity/P234)) \"InChI=1S/C6H6/c1-2-4-6-5-3-1/h1-6H\")\n",
       "- (**QualifierRecord**)\n",
       "- (**ReferenceRecordSet**)\n",
       "- **NormalRank**)"
      ],
      "text/plain": [
       "AnnotatedStatement(Item(IRI('http://www.wikidata.org/entity/Q_PUBCHEM_COMPOUND_CID241')), ValueSnak(Property(IRI('http://www.wikidata.org/entity/P234'), ExternalIdDatatype()), ExternalId('InChI=1S/C6H6/c1-2-4-6-5-3-1/h1-6H')), QualifierRecord(), ReferenceRecordSet(), NormalRank())"
      ]
     },
     "metadata": {},
     "output_type": "display_data"
    }
   ],
   "source": [
    "filter(pubchem.compound(241), wd.InChI, limit=1)"
   ]
  },
  {
   "cell_type": "markdown",
   "id": "3f4a954f-4bd3-43f4-9934-b012b85491fc",
   "metadata": {},
   "source": [
    "#### Mass"
   ]
  },
  {
   "cell_type": "code",
   "execution_count": 14,
   "id": "905dcc4c-1d76-4cc7-a2c2-b75e3b3f9dad",
   "metadata": {},
   "outputs": [
    {
     "data": {
      "text/markdown": [
       "(**AnnotatedStatement** (**Item** [wd:Q_PUBCHEM_COMPOUND_CID241](http://www.wikidata.org/entity/Q_PUBCHEM_COMPOUND_CID241)) (**ValueSnak** (**Property** [mass](http://www.wikidata.org/entity/P2067)) (**Quantity** 78.11000061035156 (**Item** [gram per mole](http://www.wikidata.org/entity/Q28924752))))\n",
       "- (**QualifierRecord**)\n",
       "- (**ReferenceRecordSet**)\n",
       "- **NormalRank**)"
      ],
      "text/plain": [
       "AnnotatedStatement(Item(IRI('http://www.wikidata.org/entity/Q_PUBCHEM_COMPOUND_CID241')), ValueSnak(Property(IRI('http://www.wikidata.org/entity/P2067'), QuantityDatatype()), Quantity(Decimal('78.11000061035156'), Item(IRI('http://www.wikidata.org/entity/Q28924752')), None, None)), QualifierRecord(), ReferenceRecordSet(), NormalRank())"
      ]
     },
     "metadata": {},
     "output_type": "display_data"
    }
   ],
   "source": [
    "filter(pubchem.compound(241), wd.mass, limit=1)"
   ]
  },
  {
   "cell_type": "markdown",
   "id": "6c84529a-1c41-44c1-a30c-4fb0f3fc9f3c",
   "metadata": {},
   "source": [
    "#### LogP"
   ]
  },
  {
   "cell_type": "code",
   "execution_count": 15,
   "id": "82cfc993-f798-490c-a923-d5fb7e8ee3b4",
   "metadata": {},
   "outputs": [
    {
     "data": {
      "text/markdown": [
       "(**AnnotatedStatement** (**Item** [wd:Q_PUBCHEM_COMPOUND_CID241](http://www.wikidata.org/entity/Q_PUBCHEM_COMPOUND_CID241)) (**ValueSnak** (**Property** [partition coefficient water/octanol](http://www.wikidata.org/entity/P2993)) (**Quantity** 2.099999904632568))\n",
       "- (**QualifierRecord**\n",
       "  - (**ValueSnak** (**Property** [based on heuristic](http://www.wikidata.org/entity/P887)) (**Item** [machine learning](http://www.wikidata.org/entity/Q2539))))\n",
       "- (**ReferenceRecordSet**)\n",
       "- **NormalRank**)"
      ],
      "text/plain": [
       "AnnotatedStatement(Item(IRI('http://www.wikidata.org/entity/Q_PUBCHEM_COMPOUND_CID241')), ValueSnak(Property(IRI('http://www.wikidata.org/entity/P2993'), QuantityDatatype()), Quantity(Decimal('2.099999904632568'), None, None, None)), QualifierRecord(ValueSnak(Property(IRI('http://www.wikidata.org/entity/P887'), ItemDatatype()), Item(IRI('http://www.wikidata.org/entity/Q2539')))), ReferenceRecordSet(), NormalRank())"
      ]
     },
     "metadata": {},
     "output_type": "display_data"
    }
   ],
   "source": [
    "filter(pubchem.compound(241), wd.partition_coefficient_water_octanol, limit=1)"
   ]
  },
  {
   "cell_type": "markdown",
   "id": "e77eed8b-5041-4e2d-a462-ed99196f6d35",
   "metadata": {},
   "source": [
    "#### Stereoisomers"
   ]
  },
  {
   "cell_type": "code",
   "execution_count": 16,
   "id": "83e06ee8-4a2f-4bb6-8bc4-0aa77a5c81d2",
   "metadata": {},
   "outputs": [
    {
     "data": {
      "text/markdown": [
       "(**AnnotatedStatement** (**Item** [wd:Q_PUBCHEM_COMPOUND_CID4422](http://www.wikidata.org/entity/Q_PUBCHEM_COMPOUND_CID4422)) (**ValueSnak** (**Property** [stereoisomer of](http://www.wikidata.org/entity/P3364)) (**Item** [wd:Q_PUBCHEM_COMPOUND_CID5284594](http://www.wikidata.org/entity/Q_PUBCHEM_COMPOUND_CID5284594)))\n",
       "- (**QualifierRecord**)\n",
       "- (**ReferenceRecordSet**)\n",
       "- **NormalRank**)"
      ],
      "text/plain": [
       "AnnotatedStatement(Item(IRI('http://www.wikidata.org/entity/Q_PUBCHEM_COMPOUND_CID4422')), ValueSnak(Property(IRI('http://www.wikidata.org/entity/P3364'), ItemDatatype()), Item(IRI('http://www.wikidata.org/entity/Q_PUBCHEM_COMPOUND_CID5284594'))), QualifierRecord(), ReferenceRecordSet(), NormalRank())"
      ]
     },
     "metadata": {},
     "output_type": "display_data"
    },
    {
     "data": {
      "text/markdown": [
       "(**AnnotatedStatement** (**Item** [wd:Q_PUBCHEM_COMPOUND_CID4422](http://www.wikidata.org/entity/Q_PUBCHEM_COMPOUND_CID4422)) (**ValueSnak** (**Property** [stereoisomer of](http://www.wikidata.org/entity/P3364)) (**Item** [wd:Q_PUBCHEM_COMPOUND_CID57288283](http://www.wikidata.org/entity/Q_PUBCHEM_COMPOUND_CID57288283)))\n",
       "- (**QualifierRecord**)\n",
       "- (**ReferenceRecordSet**)\n",
       "- **NormalRank**)"
      ],
      "text/plain": [
       "AnnotatedStatement(Item(IRI('http://www.wikidata.org/entity/Q_PUBCHEM_COMPOUND_CID4422')), ValueSnak(Property(IRI('http://www.wikidata.org/entity/P3364'), ItemDatatype()), Item(IRI('http://www.wikidata.org/entity/Q_PUBCHEM_COMPOUND_CID57288283'))), QualifierRecord(), ReferenceRecordSet(), NormalRank())"
      ]
     },
     "metadata": {},
     "output_type": "display_data"
    },
    {
     "data": {
      "text/markdown": [
       "(**AnnotatedStatement** (**Item** [wd:Q_PUBCHEM_COMPOUND_CID4422](http://www.wikidata.org/entity/Q_PUBCHEM_COMPOUND_CID4422)) (**ValueSnak** (**Property** [stereoisomer of](http://www.wikidata.org/entity/P3364)) (**Item** [wd:Q_PUBCHEM_COMPOUND_CID122581322](http://www.wikidata.org/entity/Q_PUBCHEM_COMPOUND_CID122581322)))\n",
       "- (**QualifierRecord**)\n",
       "- (**ReferenceRecordSet**)\n",
       "- **NormalRank**)"
      ],
      "text/plain": [
       "AnnotatedStatement(Item(IRI('http://www.wikidata.org/entity/Q_PUBCHEM_COMPOUND_CID4422')), ValueSnak(Property(IRI('http://www.wikidata.org/entity/P3364'), ItemDatatype()), Item(IRI('http://www.wikidata.org/entity/Q_PUBCHEM_COMPOUND_CID122581322'))), QualifierRecord(), ReferenceRecordSet(), NormalRank())"
      ]
     },
     "metadata": {},
     "output_type": "display_data"
    }
   ],
   "source": [
    "filter(pubchem.compound(4422), wd.stereoisomer_of, limit=3)"
   ]
  },
  {
   "cell_type": "markdown",
   "id": "9fb5b64f-288a-477b-bf71-7a28a103668c",
   "metadata": {},
   "source": [
    "#### Parts"
   ]
  },
  {
   "cell_type": "code",
   "execution_count": 17,
   "id": "5ad3c9a5-6f0d-44d3-9042-c97dbe8c6916",
   "metadata": {},
   "outputs": [
    {
     "data": {
      "text/markdown": [
       "(**AnnotatedStatement** (**Item** [wd:Q_PUBCHEM_COMPOUND_CID139250634](http://www.wikidata.org/entity/Q_PUBCHEM_COMPOUND_CID139250634)) (**ValueSnak** (**Property** [has part(s)](http://www.wikidata.org/entity/P527)) (**Item** [wd:Q_PUBCHEM_COMPOUND_CID241](http://www.wikidata.org/entity/Q_PUBCHEM_COMPOUND_CID241)))\n",
       "- (**QualifierRecord**)\n",
       "- (**ReferenceRecordSet**)\n",
       "- **NormalRank**)"
      ],
      "text/plain": [
       "AnnotatedStatement(Item(IRI('http://www.wikidata.org/entity/Q_PUBCHEM_COMPOUND_CID139250634')), ValueSnak(Property(IRI('http://www.wikidata.org/entity/P527'), ItemDatatype()), Item(IRI('http://www.wikidata.org/entity/Q_PUBCHEM_COMPOUND_CID241'))), QualifierRecord(), ReferenceRecordSet(), NormalRank())"
      ]
     },
     "metadata": {},
     "output_type": "display_data"
    },
    {
     "data": {
      "text/markdown": [
       "(**AnnotatedStatement** (**Item** [wd:Q_PUBCHEM_COMPOUND_CID139250636](http://www.wikidata.org/entity/Q_PUBCHEM_COMPOUND_CID139250636)) (**ValueSnak** (**Property** [has part(s)](http://www.wikidata.org/entity/P527)) (**Item** [wd:Q_PUBCHEM_COMPOUND_CID241](http://www.wikidata.org/entity/Q_PUBCHEM_COMPOUND_CID241)))\n",
       "- (**QualifierRecord**)\n",
       "- (**ReferenceRecordSet**)\n",
       "- **NormalRank**)"
      ],
      "text/plain": [
       "AnnotatedStatement(Item(IRI('http://www.wikidata.org/entity/Q_PUBCHEM_COMPOUND_CID139250636')), ValueSnak(Property(IRI('http://www.wikidata.org/entity/P527'), ItemDatatype()), Item(IRI('http://www.wikidata.org/entity/Q_PUBCHEM_COMPOUND_CID241'))), QualifierRecord(), ReferenceRecordSet(), NormalRank())"
      ]
     },
     "metadata": {},
     "output_type": "display_data"
    },
    {
     "data": {
      "text/markdown": [
       "(**AnnotatedStatement** (**Item** [wd:Q_PUBCHEM_COMPOUND_CID21225497](http://www.wikidata.org/entity/Q_PUBCHEM_COMPOUND_CID21225497)) (**ValueSnak** (**Property** [has part(s)](http://www.wikidata.org/entity/P527)) (**Item** [wd:Q_PUBCHEM_COMPOUND_CID241](http://www.wikidata.org/entity/Q_PUBCHEM_COMPOUND_CID241)))\n",
       "- (**QualifierRecord**)\n",
       "- (**ReferenceRecordSet**)\n",
       "- **NormalRank**)"
      ],
      "text/plain": [
       "AnnotatedStatement(Item(IRI('http://www.wikidata.org/entity/Q_PUBCHEM_COMPOUND_CID21225497')), ValueSnak(Property(IRI('http://www.wikidata.org/entity/P527'), ItemDatatype()), Item(IRI('http://www.wikidata.org/entity/Q_PUBCHEM_COMPOUND_CID241'))), QualifierRecord(), ReferenceRecordSet(), NormalRank())"
      ]
     },
     "metadata": {},
     "output_type": "display_data"
    }
   ],
   "source": [
    "filter(None, wd.has_part, pubchem.compound(241), limit=3)"
   ]
  },
  {
   "cell_type": "markdown",
   "id": "c9fb64ae-5958-4eab-9e49-2e66618ef46a",
   "metadata": {},
   "source": [
    "#### Trading names"
   ]
  },
  {
   "cell_type": "code",
   "execution_count": 18,
   "id": "8c93f71e-412e-4e79-a0a6-ef49f4100a07",
   "metadata": {},
   "outputs": [
    {
     "data": {
      "text/markdown": [
       "(**AnnotatedStatement** (**Item** [wd:Q_PUBCHEM_COMPOUND_CID1983](http://www.wikidata.org/entity/Q_PUBCHEM_COMPOUND_CID1983)) (**ValueSnak** (**Property** [trading name](http://www.wikidata.org/entity/P6427)) \"tylenol\"@en)\n",
       "- (**QualifierRecord**)\n",
       "- (**ReferenceRecordSet**)\n",
       "- **NormalRank**)"
      ],
      "text/plain": [
       "AnnotatedStatement(Item(IRI('http://www.wikidata.org/entity/Q_PUBCHEM_COMPOUND_CID1983')), ValueSnak(Property(IRI('http://www.wikidata.org/entity/P6427'), TextDatatype()), Text('tylenol', 'en')), QualifierRecord(), ReferenceRecordSet(), NormalRank())"
      ]
     },
     "metadata": {},
     "output_type": "display_data"
    }
   ],
   "source": [
    "filter(None, wd.trading_name, Text('tylenol'), limit=3)"
   ]
  },
  {
   "cell_type": "markdown",
   "id": "a15192b9-7a41-4274-ba2a-e1fbc013b66d",
   "metadata": {},
   "source": [
    "#### Legal status"
   ]
  },
  {
   "cell_type": "code",
   "execution_count": 19,
   "id": "1d9dad70-90db-428d-9d97-d433934cb30b",
   "metadata": {},
   "outputs": [
    {
     "data": {
      "text/markdown": [
       "(**AnnotatedStatement** (**Item** [wd:Q_PUBCHEM_COMPOUND_CID2244](http://www.wikidata.org/entity/Q_PUBCHEM_COMPOUND_CID2244)) (**ValueSnak** (**Property** [legal status (medicine)](http://www.wikidata.org/entity/P3493)) (**Item** [FDA-approved](http://www.wikidata.org/entity/Q111972129)))\n",
       "- (**QualifierRecord**)\n",
       "- (**ReferenceRecordSet**)\n",
       "- **NormalRank**)"
      ],
      "text/plain": [
       "AnnotatedStatement(Item(IRI('http://www.wikidata.org/entity/Q_PUBCHEM_COMPOUND_CID2244')), ValueSnak(Property(IRI('http://www.wikidata.org/entity/P3493'), ItemDatatype()), Item(IRI('http://www.wikidata.org/entity/Q111972129'))), QualifierRecord(), ReferenceRecordSet(), NormalRank())"
      ]
     },
     "metadata": {},
     "output_type": "display_data"
    }
   ],
   "source": [
    "filter(pubchem.compound(2244), wd.legal_status_medicine, limit=1)"
   ]
  },
  {
   "cell_type": "markdown",
   "id": "38187a0f-0527-4edf-8a36-59322ab40542",
   "metadata": {},
   "source": [
    "#### Vendors"
   ]
  },
  {
   "cell_type": "code",
   "execution_count": 20,
   "id": "129767cf-1aa5-4be3-816c-caf930195ab9",
   "metadata": {},
   "outputs": [
    {
     "data": {
      "text/markdown": [
       "(**AnnotatedStatement** (**Item** [wd:Q_PUBCHEM_COMPOUND_CID241](http://www.wikidata.org/entity/Q_PUBCHEM_COMPOUND_CID241)) (**ValueSnak** (**Property** [manufacturer](http://www.wikidata.org/entity/P176)) (**Item** [wd:Q_PUBCHEM_SOURCE_ID924](http://www.wikidata.org/entity/Q_PUBCHEM_SOURCE_ID924)))\n",
       "- (**QualifierRecord**)\n",
       "- (**ReferenceRecordSet**)\n",
       "- **NormalRank**)"
      ],
      "text/plain": [
       "AnnotatedStatement(Item(IRI('http://www.wikidata.org/entity/Q_PUBCHEM_COMPOUND_CID241')), ValueSnak(Property(IRI('http://www.wikidata.org/entity/P176'), ItemDatatype()), Item(IRI('http://www.wikidata.org/entity/Q_PUBCHEM_SOURCE_ID924'))), QualifierRecord(), ReferenceRecordSet(), NormalRank())"
      ]
     },
     "metadata": {},
     "output_type": "display_data"
    },
    {
     "data": {
      "text/markdown": [
       "(**AnnotatedStatement** (**Item** [wd:Q_PUBCHEM_COMPOUND_CID241](http://www.wikidata.org/entity/Q_PUBCHEM_COMPOUND_CID241)) (**ValueSnak** (**Property** [manufacturer](http://www.wikidata.org/entity/P176)) (**Item** [wd:Q_PUBCHEM_SOURCE_ID940](http://www.wikidata.org/entity/Q_PUBCHEM_SOURCE_ID940)))\n",
       "- (**QualifierRecord**)\n",
       "- (**ReferenceRecordSet**)\n",
       "- **NormalRank**)"
      ],
      "text/plain": [
       "AnnotatedStatement(Item(IRI('http://www.wikidata.org/entity/Q_PUBCHEM_COMPOUND_CID241')), ValueSnak(Property(IRI('http://www.wikidata.org/entity/P176'), ItemDatatype()), Item(IRI('http://www.wikidata.org/entity/Q_PUBCHEM_SOURCE_ID940'))), QualifierRecord(), ReferenceRecordSet(), NormalRank())"
      ]
     },
     "metadata": {},
     "output_type": "display_data"
    },
    {
     "data": {
      "text/markdown": [
       "(**AnnotatedStatement** (**Item** [wd:Q_PUBCHEM_COMPOUND_CID241](http://www.wikidata.org/entity/Q_PUBCHEM_COMPOUND_CID241)) (**ValueSnak** (**Property** [manufacturer](http://www.wikidata.org/entity/P176)) (**Item** [wd:Q_PUBCHEM_SOURCE_ID1052](http://www.wikidata.org/entity/Q_PUBCHEM_SOURCE_ID1052)))\n",
       "- (**QualifierRecord**)\n",
       "- (**ReferenceRecordSet**)\n",
       "- **NormalRank**)"
      ],
      "text/plain": [
       "AnnotatedStatement(Item(IRI('http://www.wikidata.org/entity/Q_PUBCHEM_COMPOUND_CID241')), ValueSnak(Property(IRI('http://www.wikidata.org/entity/P176'), ItemDatatype()), Item(IRI('http://www.wikidata.org/entity/Q_PUBCHEM_SOURCE_ID1052'))), QualifierRecord(), ReferenceRecordSet(), NormalRank())"
      ]
     },
     "metadata": {},
     "output_type": "display_data"
    }
   ],
   "source": [
    "filter(pubchem.compound(241), wd.manufacturer, limit=3)"
   ]
  },
  {
   "cell_type": "markdown",
   "id": "b3033b5f-2ca6-4d21-a033-1cf0dec8fe61",
   "metadata": {},
   "source": [
    "#### Patents"
   ]
  },
  {
   "cell_type": "code",
   "execution_count": 21,
   "id": "3bd74307-7aef-4537-b1fa-8a94fdb9e9a9",
   "metadata": {},
   "outputs": [
    {
     "data": {
      "text/markdown": [
       "(**AnnotatedStatement** (**Item** [wd:Q_PUBCHEM_COMPOUND_CID241](http://www.wikidata.org/entity/Q_PUBCHEM_COMPOUND_CID241)) (**ValueSnak** (**Property** [described by source](http://www.wikidata.org/entity/P1343)) (**Item** [wd:Q_PUBCHEM_PATENT_EP-0449117-A2](http://www.wikidata.org/entity/Q_PUBCHEM_PATENT_EP-0449117-A2)))\n",
       "- (**QualifierRecord**)\n",
       "- (**ReferenceRecordSet**)\n",
       "- **NormalRank**)"
      ],
      "text/plain": [
       "AnnotatedStatement(Item(IRI('http://www.wikidata.org/entity/Q_PUBCHEM_COMPOUND_CID241')), ValueSnak(Property(IRI('http://www.wikidata.org/entity/P1343'), ItemDatatype()), Item(IRI('http://www.wikidata.org/entity/Q_PUBCHEM_PATENT_EP-0449117-A2'))), QualifierRecord(), ReferenceRecordSet(), NormalRank())"
      ]
     },
     "metadata": {},
     "output_type": "display_data"
    },
    {
     "data": {
      "text/markdown": [
       "(**AnnotatedStatement** (**Item** [wd:Q_PUBCHEM_COMPOUND_CID241](http://www.wikidata.org/entity/Q_PUBCHEM_COMPOUND_CID241)) (**ValueSnak** (**Property** [described by source](http://www.wikidata.org/entity/P1343)) (**Item** [wd:Q_PUBCHEM_PATENT_EP-0467185-A2](http://www.wikidata.org/entity/Q_PUBCHEM_PATENT_EP-0467185-A2)))\n",
       "- (**QualifierRecord**)\n",
       "- (**ReferenceRecordSet**)\n",
       "- **NormalRank**)"
      ],
      "text/plain": [
       "AnnotatedStatement(Item(IRI('http://www.wikidata.org/entity/Q_PUBCHEM_COMPOUND_CID241')), ValueSnak(Property(IRI('http://www.wikidata.org/entity/P1343'), ItemDatatype()), Item(IRI('http://www.wikidata.org/entity/Q_PUBCHEM_PATENT_EP-0467185-A2'))), QualifierRecord(), ReferenceRecordSet(), NormalRank())"
      ]
     },
     "metadata": {},
     "output_type": "display_data"
    },
    {
     "data": {
      "text/markdown": [
       "(**AnnotatedStatement** (**Item** [wd:Q_PUBCHEM_COMPOUND_CID241](http://www.wikidata.org/entity/Q_PUBCHEM_COMPOUND_CID241)) (**ValueSnak** (**Property** [described by source](http://www.wikidata.org/entity/P1343)) (**Item** [wd:Q_PUBCHEM_PATENT_EP-2776475-A1](http://www.wikidata.org/entity/Q_PUBCHEM_PATENT_EP-2776475-A1)))\n",
       "- (**QualifierRecord**)\n",
       "- (**ReferenceRecordSet**)\n",
       "- **NormalRank**)"
      ],
      "text/plain": [
       "AnnotatedStatement(Item(IRI('http://www.wikidata.org/entity/Q_PUBCHEM_COMPOUND_CID241')), ValueSnak(Property(IRI('http://www.wikidata.org/entity/P1343'), ItemDatatype()), Item(IRI('http://www.wikidata.org/entity/Q_PUBCHEM_PATENT_EP-2776475-A1'))), QualifierRecord(), ReferenceRecordSet(), NormalRank())"
      ]
     },
     "metadata": {},
     "output_type": "display_data"
    }
   ],
   "source": [
    "filter(pubchem.compound(241), wd.described_by_source, wd.instance_of(wd.patent), limit=3)"
   ]
  },
  {
   "cell_type": "markdown",
   "id": "85c0966b-af84-4e14-ad82-deed77c61a02",
   "metadata": {},
   "source": [
    "#### Median/minimal lethal dose"
   ]
  },
  {
   "cell_type": "code",
   "execution_count": 22,
   "id": "57d0b0bb-6877-454f-8201-99f9348d7890",
   "metadata": {},
   "outputs": [],
   "source": [
    "#filter(pubchem.compound(241), wd.median_lethal_dose, limit=3)"
   ]
  },
  {
   "cell_type": "code",
   "execution_count": 23,
   "id": "79ece24f-dcec-467c-9be7-6bde3043a125",
   "metadata": {},
   "outputs": [],
   "source": [
    "#filter(pubchem.compound(241), wd.minimal_lethal_dose, limit=3)"
   ]
  },
  {
   "cell_type": "markdown",
   "id": "eb4f30e3-4f09-419b-aa6b-845841a5d9f2",
   "metadata": {},
   "source": [
    "### Patents"
   ]
  },
  {
   "cell_type": "markdown",
   "id": "5aa0002e-98c9-4d6a-be42-13ee7c4eb644",
   "metadata": {},
   "source": [
    "#### Descriptor"
   ]
  },
  {
   "cell_type": "code",
   "execution_count": 24,
   "id": "3473abd3-b41d-490c-9df9-42cd0484f85c",
   "metadata": {},
   "outputs": [
    {
     "data": {
      "text/markdown": [
       "(**Item** [wd:Q_PUBCHEM_PATENT_CA-2009529-C](http://www.wikidata.org/entity/Q_PUBCHEM_PATENT_CA-2009529-C))"
      ],
      "text/plain": [
       "Item(IRI('http://www.wikidata.org/entity/Q_PUBCHEM_PATENT_CA-2009529-C'))"
      ]
     },
     "metadata": {},
     "output_type": "display_data"
    },
    {
     "data": {
      "text/markdown": [
       "(**ItemDescriptor**\n",
       "- \"Servicing interrupt requests in a data processing system without using the services of an operating system\"@en\n",
       "- *no aliases*\n",
       "- \"Abstract The functions of two virtual operating systems (e.g., S/370 VM, VSE or IX370 and S/88 OS) are merged into one physical system. Partner pairs of S/88 processors run the S/88 OS and handle the fault tolerant and single system image aspects of the system.  One or more partner pairs of S/370 processors are coupled to corresponding S/88 processors directly and through the S/88 bus. Each S/370 processor is allocated from 1 to 16 megabytes of contiguous storage from the S/88 main storage.  Each S/370 virtual operating system thinks its memory allocation starts at address 0, and it manages its memory through normal S/370 dynamic memory allocation and paging techniques.  The S/370 is limit checked to prevent the S/370 from accessing S/88 memory space.  The S/88 Operating System is the master over all system hardware and I/O devices.  The S/88 processors access the S/370 address space in direct response to a S/88 application program so that the S/88 may move I/O data into the S/370 I/O buffers and process the S/370 I/O operations.  The S/88 and S/370 peer processor pairs execute their respective Operating Systems in a single system environment without significant rewriting of either operating system.  Neither operating system is aware of the other operating system nor the other processor pairs.\"@en)"
      ],
      "text/plain": [
       "ItemDescriptor(Text('Servicing interrupt requests in a data processing system without using the services of an operating system', 'en'), TextSet(), Text('Abstract The functions of two virtual operating systems (e.g., S/370 VM, VSE or IX370 and S/88 OS) are merged into one physical system. Partner pairs of S/88 processors run the S/88 OS and handle the fault tolerant and single system image aspects of the system.  One or more partner pairs of S/370 processors are coupled to corresponding S/88 processors directly and through the S/88 bus. Each S/370 processor is allocated from 1 to 16 megabytes of contiguous storage from the S/88 main storage.  Each S/370 virtual operating system thinks its memory allocation starts at address 0, and it manages its memory through normal S/370 dynamic memory allocation and paging techniques.  The S/370 is limit checked to prevent the S/370 from accessing S/88 memory space.  The S/88 Operating System is the master over all system hardware and I/O devices.  The S/88 processors access the S/370 address space in direct response to a S/88 application program so that the S/88 may move I/O data into the S/370 I/O buffers and process the S/370 I/O operations.  The S/88 and S/370 peer processor pairs execute their respective Operating Systems in a single system environment without significant rewriting of either operating system.  Neither operating system is aware of the other operating system nor the other processor pairs.', 'en'))"
      ]
     },
     "metadata": {},
     "output_type": "display_data"
    }
   ],
   "source": [
    "get_descriptor(pubchem.patent('CA-2009529-C'))"
   ]
  },
  {
   "cell_type": "markdown",
   "id": "54a45088-4c6b-4d97-928e-e0a237dda0c4",
   "metadata": {},
   "source": [
    "#### Class"
   ]
  },
  {
   "cell_type": "code",
   "execution_count": 25,
   "id": "795ca692-9366-44db-a2cc-5daa191ca7cd",
   "metadata": {},
   "outputs": [
    {
     "data": {
      "text/markdown": [
       "(**AnnotatedStatement** (**Item** [wd:Q_PUBCHEM_PATENT_CA-2009529-C](http://www.wikidata.org/entity/Q_PUBCHEM_PATENT_CA-2009529-C)) (**ValueSnak** (**Property** [instance of](http://www.wikidata.org/entity/P31)) (**Item** [patent](http://www.wikidata.org/entity/Q253623)))\n",
       "- (**QualifierRecord**)\n",
       "- (**ReferenceRecordSet**)\n",
       "- **NormalRank**)"
      ],
      "text/plain": [
       "AnnotatedStatement(Item(IRI('http://www.wikidata.org/entity/Q_PUBCHEM_PATENT_CA-2009529-C')), ValueSnak(Property(IRI('http://www.wikidata.org/entity/P31'), ItemDatatype()), Item(IRI('http://www.wikidata.org/entity/Q253623'))), QualifierRecord(), ReferenceRecordSet(), NormalRank())"
      ]
     },
     "metadata": {},
     "output_type": "display_data"
    }
   ],
   "source": [
    "filter(pubchem.patent('CA-2009529-C'), wd.instance_of, limit=1)"
   ]
  },
  {
   "cell_type": "markdown",
   "id": "1ac4e888-34b3-4a91-ad83-2a3a4cd345ae",
   "metadata": {},
   "source": [
    "#### Number"
   ]
  },
  {
   "cell_type": "code",
   "execution_count": 26,
   "id": "27251456-d35a-4d99-bdd5-bcf8aa966b90",
   "metadata": {},
   "outputs": [
    {
     "data": {
      "text/markdown": [
       "(**AnnotatedStatement** (**Item** [wd:Q_PUBCHEM_PATENT_CA-2009529-C](http://www.wikidata.org/entity/Q_PUBCHEM_PATENT_CA-2009529-C)) (**ValueSnak** (**Property** [patent number](http://www.wikidata.org/entity/P1246)) \"CA-2009529-C\")\n",
       "- (**QualifierRecord**)\n",
       "- (**ReferenceRecordSet**)\n",
       "- **NormalRank**)"
      ],
      "text/plain": [
       "AnnotatedStatement(Item(IRI('http://www.wikidata.org/entity/Q_PUBCHEM_PATENT_CA-2009529-C')), ValueSnak(Property(IRI('http://www.wikidata.org/entity/P1246'), ExternalIdDatatype()), ExternalId('CA-2009529-C')), QualifierRecord(), ReferenceRecordSet(), NormalRank())"
      ]
     },
     "metadata": {},
     "output_type": "display_data"
    }
   ],
   "source": [
    "filter(pubchem.patent('CA-2009529-C'), wd.patent_number, limit=1)"
   ]
  },
  {
   "cell_type": "markdown",
   "id": "442be900-077a-4c8c-b4f7-f6d848c4c991",
   "metadata": {},
   "source": [
    "#### Title"
   ]
  },
  {
   "cell_type": "code",
   "execution_count": 27,
   "id": "8022b4be-409d-44d9-b719-86d29d3b195a",
   "metadata": {},
   "outputs": [
    {
     "data": {
      "text/markdown": [
       "(**AnnotatedStatement** (**Item** [wd:Q_PUBCHEM_PATENT_CA-2009529-C](http://www.wikidata.org/entity/Q_PUBCHEM_PATENT_CA-2009529-C)) (**ValueSnak** (**Property** [title](http://www.wikidata.org/entity/P1476)) \"Servicing interrupt requests in a data processing system without using the services of an operating system\"@en)\n",
       "- (**QualifierRecord**)\n",
       "- (**ReferenceRecordSet**)\n",
       "- **NormalRank**)"
      ],
      "text/plain": [
       "AnnotatedStatement(Item(IRI('http://www.wikidata.org/entity/Q_PUBCHEM_PATENT_CA-2009529-C')), ValueSnak(Property(IRI('http://www.wikidata.org/entity/P1476'), TextDatatype()), Text('Servicing interrupt requests in a data processing system without using the services of an operating system', 'en')), QualifierRecord(), ReferenceRecordSet(), NormalRank())"
      ]
     },
     "metadata": {},
     "output_type": "display_data"
    }
   ],
   "source": [
    "filter(pubchem.patent('CA-2009529-C'), wd.title, limit=1)"
   ]
  },
  {
   "cell_type": "markdown",
   "id": "c0bbdcbf-fbd6-40ba-bd1a-5537b1e24278",
   "metadata": {},
   "source": [
    "#### Publication date"
   ]
  },
  {
   "cell_type": "code",
   "execution_count": 28,
   "id": "fe7ffe9c-38d0-4173-a999-1a353cc5a038",
   "metadata": {},
   "outputs": [
    {
     "data": {
      "text/markdown": [
       "(**AnnotatedStatement** (**Item** [wd:Q_PUBCHEM_PATENT_CA-2009529-C](http://www.wikidata.org/entity/Q_PUBCHEM_PATENT_CA-2009529-C)) (**ValueSnak** (**Property** [publication date](http://www.wikidata.org/entity/P577)) (**Time** 1994-07-12))\n",
       "- (**QualifierRecord**)\n",
       "- (**ReferenceRecordSet**)\n",
       "- **NormalRank**)"
      ],
      "text/plain": [
       "AnnotatedStatement(Item(IRI('http://www.wikidata.org/entity/Q_PUBCHEM_PATENT_CA-2009529-C')), ValueSnak(Property(IRI('http://www.wikidata.org/entity/P577'), TimeDatatype()), Time(datetime.datetime(1994, 7, 12, 0, 0, tzinfo=datetime.timezone(datetime.timedelta(days=-1, seconds=72000))), 11, 0, Item(IRI('http://www.wikidata.org/entity/Q1985727')))), QualifierRecord(), ReferenceRecordSet(), NormalRank())"
      ]
     },
     "metadata": {},
     "output_type": "display_data"
    }
   ],
   "source": [
    "filter(pubchem.patent('CA-2009529-C'), wd.publication_date, limit=1)"
   ]
  },
  {
   "cell_type": "markdown",
   "id": "81261225-acbf-48b3-9a3f-059361e3e04c",
   "metadata": {},
   "source": [
    "#### Sponsors"
   ]
  },
  {
   "cell_type": "code",
   "execution_count": 29,
   "id": "579f9091-4094-40ad-b7ed-586facfdfcee",
   "metadata": {},
   "outputs": [],
   "source": [
    "#filter(pubchem.patent('CA-2009529-C'), wd.sponsor, limit=3)"
   ]
  },
  {
   "cell_type": "markdown",
   "id": "9397cab6-f79b-4920-a5e5-09e7bc327ed2",
   "metadata": {},
   "source": [
    "#### Authors"
   ]
  },
  {
   "cell_type": "code",
   "execution_count": 30,
   "id": "23f49191-c768-486e-aa7e-3fe6d58a80e2",
   "metadata": {},
   "outputs": [
    {
     "data": {
      "text/markdown": [
       "(**AnnotatedStatement** (**Item** [wd:Q_PUBCHEM_PATENT_CA-2009529-C](http://www.wikidata.org/entity/Q_PUBCHEM_PATENT_CA-2009529-C)) (**ValueSnak** (**Property** [author name string](http://www.wikidata.org/entity/P2093)) \"GRICE LONNIE E\")\n",
       "- (**QualifierRecord**)\n",
       "- (**ReferenceRecordSet**)\n",
       "- **NormalRank**)"
      ],
      "text/plain": [
       "AnnotatedStatement(Item(IRI('http://www.wikidata.org/entity/Q_PUBCHEM_PATENT_CA-2009529-C')), ValueSnak(Property(IRI('http://www.wikidata.org/entity/P2093'), StringDatatype()), String('GRICE LONNIE E')), QualifierRecord(), ReferenceRecordSet(), NormalRank())"
      ]
     },
     "metadata": {},
     "output_type": "display_data"
    },
    {
     "data": {
      "text/markdown": [
       "(**AnnotatedStatement** (**Item** [wd:Q_PUBCHEM_PATENT_CA-2009529-C](http://www.wikidata.org/entity/Q_PUBCHEM_PATENT_CA-2009529-C)) (**ValueSnak** (**Property** [author name string](http://www.wikidata.org/entity/P2093)) \"LOFFREDO JOHN M\")\n",
       "- (**QualifierRecord**)\n",
       "- (**ReferenceRecordSet**)\n",
       "- **NormalRank**)"
      ],
      "text/plain": [
       "AnnotatedStatement(Item(IRI('http://www.wikidata.org/entity/Q_PUBCHEM_PATENT_CA-2009529-C')), ValueSnak(Property(IRI('http://www.wikidata.org/entity/P2093'), StringDatatype()), String('LOFFREDO JOHN M')), QualifierRecord(), ReferenceRecordSet(), NormalRank())"
      ]
     },
     "metadata": {},
     "output_type": "display_data"
    },
    {
     "data": {
      "text/markdown": [
       "(**AnnotatedStatement** (**Item** [wd:Q_PUBCHEM_PATENT_CA-2009529-C](http://www.wikidata.org/entity/Q_PUBCHEM_PATENT_CA-2009529-C)) (**ValueSnak** (**Property** [author name string](http://www.wikidata.org/entity/P2093)) \"SANDERSON KENNETH R\")\n",
       "- (**QualifierRecord**)\n",
       "- (**ReferenceRecordSet**)\n",
       "- **NormalRank**)"
      ],
      "text/plain": [
       "AnnotatedStatement(Item(IRI('http://www.wikidata.org/entity/Q_PUBCHEM_PATENT_CA-2009529-C')), ValueSnak(Property(IRI('http://www.wikidata.org/entity/P2093'), StringDatatype()), String('SANDERSON KENNETH R')), QualifierRecord(), ReferenceRecordSet(), NormalRank())"
      ]
     },
     "metadata": {},
     "output_type": "display_data"
    }
   ],
   "source": [
    "filter(pubchem.patent('CA-2009529-C'), wd.author_name_string, limit=3)"
   ]
  },
  {
   "cell_type": "markdown",
   "id": "65915bf4-18d1-4a29-9eff-03a81ac77352",
   "metadata": {},
   "source": [
    "### Vendors"
   ]
  },
  {
   "cell_type": "markdown",
   "id": "b9af7c93-61a0-46a7-bea6-132274015162",
   "metadata": {},
   "source": [
    "#### Descriptor"
   ]
  },
  {
   "cell_type": "code",
   "execution_count": 31,
   "id": "ddc3fac4-9584-4b57-a1cb-1ed5e3ce5547",
   "metadata": {},
   "outputs": [
    {
     "data": {
      "text/markdown": [
       "(**Item** [wd:Q_PUBCHEM_SOURCE_ID15739](http://www.wikidata.org/entity/Q_PUBCHEM_SOURCE_ID15739))"
      ],
      "text/plain": [
       "Item(IRI('http://www.wikidata.org/entity/Q_PUBCHEM_SOURCE_ID15739'))"
      ]
     },
     "metadata": {},
     "output_type": "display_data"
    },
    {
     "data": {
      "text/markdown": [
       "(**ItemDescriptor**\n",
       "- \"15739\"@en\n",
       "- (**TextSet**\n",
       "  - \"DC Chemicals\"@en)\n",
       "- *no description*)"
      ],
      "text/plain": [
       "ItemDescriptor(Text('15739', 'en'), TextSet(Text('DC Chemicals', 'en')), None)"
      ]
     },
     "metadata": {},
     "output_type": "display_data"
    }
   ],
   "source": [
    "get_descriptor(pubchem.source('ID15739'))"
   ]
  },
  {
   "cell_type": "markdown",
   "id": "716f0485-c14b-4ddd-91e1-b45318132627",
   "metadata": {},
   "source": [
    "#### Class"
   ]
  },
  {
   "cell_type": "code",
   "execution_count": 32,
   "id": "28e472f4-0a02-4a8c-a4f6-77152a99792a",
   "metadata": {},
   "outputs": [
    {
     "data": {
      "text/markdown": [
       "(**AnnotatedStatement** (**Item** [wd:Q_PUBCHEM_SOURCE_ID15739](http://www.wikidata.org/entity/Q_PUBCHEM_SOURCE_ID15739)) (**ValueSnak** (**Property** [instance of](http://www.wikidata.org/entity/P31)) (**Item** [business](http://www.wikidata.org/entity/Q4830453)))\n",
       "- (**QualifierRecord**)\n",
       "- (**ReferenceRecordSet**)\n",
       "- **NormalRank**)"
      ],
      "text/plain": [
       "AnnotatedStatement(Item(IRI('http://www.wikidata.org/entity/Q_PUBCHEM_SOURCE_ID15739')), ValueSnak(Property(IRI('http://www.wikidata.org/entity/P31'), ItemDatatype()), Item(IRI('http://www.wikidata.org/entity/Q4830453'))), QualifierRecord(), ReferenceRecordSet(), NormalRank())"
      ]
     },
     "metadata": {},
     "output_type": "display_data"
    }
   ],
   "source": [
    "filter(pubchem.source('ID15739'), wd.instance_of, limit=1)"
   ]
  },
  {
   "cell_type": "markdown",
   "id": "97f52758-e534-44b5-be9b-4d513ea6bdf9",
   "metadata": {},
   "source": [
    "#### Short name"
   ]
  },
  {
   "cell_type": "code",
   "execution_count": 33,
   "id": "08feb5d1-9beb-409e-ad68-22842d1ce518",
   "metadata": {},
   "outputs": [
    {
     "data": {
      "text/markdown": [
       "(**AnnotatedStatement** (**Item** [wd:Q_PUBCHEM_SOURCE_ID15739](http://www.wikidata.org/entity/Q_PUBCHEM_SOURCE_ID15739)) (**ValueSnak** (**Property** [short name](http://www.wikidata.org/entity/P1813)) \"DC Chemicals\"@en)\n",
       "- (**QualifierRecord**)\n",
       "- (**ReferenceRecordSet**)\n",
       "- **NormalRank**)"
      ],
      "text/plain": [
       "AnnotatedStatement(Item(IRI('http://www.wikidata.org/entity/Q_PUBCHEM_SOURCE_ID15739')), ValueSnak(Property(IRI('http://www.wikidata.org/entity/P1813'), TextDatatype()), Text('DC Chemicals', 'en')), QualifierRecord(), ReferenceRecordSet(), NormalRank())"
      ]
     },
     "metadata": {},
     "output_type": "display_data"
    }
   ],
   "source": [
    "filter(pubchem.source('ID15739'), wd.short_name, limit=1)"
   ]
  },
  {
   "cell_type": "markdown",
   "id": "802e9848-0532-47f5-977b-22fd0036e1d1",
   "metadata": {},
   "source": [
    "#### Website"
   ]
  },
  {
   "cell_type": "code",
   "execution_count": 34,
   "id": "1abe3b5f-0cb0-441d-89a7-f42f3fda022b",
   "metadata": {},
   "outputs": [
    {
     "data": {
      "text/markdown": [
       "(**AnnotatedStatement** (**Item** [wd:Q_PUBCHEM_SOURCE_ID15739](http://www.wikidata.org/entity/Q_PUBCHEM_SOURCE_ID15739)) (**ValueSnak** (**Property** [official website](http://www.wikidata.org/entity/P856)) [http://www.dcchemicals.com](http://www.dcchemicals.com))\n",
       "- (**QualifierRecord**)\n",
       "- (**ReferenceRecordSet**)\n",
       "- **NormalRank**)"
      ],
      "text/plain": [
       "AnnotatedStatement(Item(IRI('http://www.wikidata.org/entity/Q_PUBCHEM_SOURCE_ID15739')), ValueSnak(Property(IRI('http://www.wikidata.org/entity/P856'), IRI_Datatype()), IRI('http://www.dcchemicals.com')), QualifierRecord(), ReferenceRecordSet(), NormalRank())"
      ]
     },
     "metadata": {},
     "output_type": "display_data"
    }
   ],
   "source": [
    "filter(pubchem.source('ID15739'), wd.official_website, limit=1)"
   ]
  },
  {
   "cell_type": "markdown",
   "id": "33be3940-26cc-484e-8dbc-7c1417ef5269",
   "metadata": {},
   "source": [
    "## Indirect queries"
   ]
  },
  {
   "cell_type": "code",
   "execution_count": 35,
   "id": "44202370-092e-4b44-a648-ea42be09c999",
   "metadata": {},
   "outputs": [
    {
     "data": {
      "text/markdown": [
       "(**AnnotatedStatement** (**Item** [wd:Q_PUBCHEM_COMPOUND_CID119688](http://www.wikidata.org/entity/Q_PUBCHEM_COMPOUND_CID119688)) (**ValueSnak** (**Property** [canonical SMILES](http://www.wikidata.org/entity/P233)) \"C(CS(=O)(=O)O)C(C(C(C(C(C(F)(F)F)(F)F)(F)F)(F)F)(F)F)(F)F\")\n",
       "- (**QualifierRecord**)\n",
       "- (**ReferenceRecordSet**)\n",
       "- **NormalRank**)"
      ],
      "text/plain": [
       "AnnotatedStatement(Item(IRI('http://www.wikidata.org/entity/Q_PUBCHEM_COMPOUND_CID119688')), ValueSnak(Property(IRI('http://www.wikidata.org/entity/P233'), StringDatatype()), String('C(CS(=O)(=O)O)C(C(C(C(C(C(F)(F)F)(F)F)(F)F)(F)F)(F)F)(F)F')), QualifierRecord(), ReferenceRecordSet(), NormalRank())"
      ]
     },
     "metadata": {},
     "output_type": "display_data"
    },
    {
     "data": {
      "text/markdown": [
       "(**AnnotatedStatement** (**Item** [wd:Q_PUBCHEM_COMPOUND_CID138396154](http://www.wikidata.org/entity/Q_PUBCHEM_COMPOUND_CID138396154)) (**ValueSnak** (**Property** [canonical SMILES](http://www.wikidata.org/entity/P233)) \"C(CS(=O)(=O)O)C(C(C(C(C(C(F)(F)F)(F)F)(F)F)(F)F)(F)F)(F)F\")\n",
       "- (**QualifierRecord**)\n",
       "- (**ReferenceRecordSet**)\n",
       "- **NormalRank**)"
      ],
      "text/plain": [
       "AnnotatedStatement(Item(IRI('http://www.wikidata.org/entity/Q_PUBCHEM_COMPOUND_CID138396154')), ValueSnak(Property(IRI('http://www.wikidata.org/entity/P233'), StringDatatype()), String('C(CS(=O)(=O)O)C(C(C(C(C(C(F)(F)F)(F)F)(F)F)(F)F)(F)F)(F)F')), QualifierRecord(), ReferenceRecordSet(), NormalRank())"
      ]
     },
     "metadata": {},
     "output_type": "display_data"
    },
    {
     "data": {
      "text/markdown": [
       "(**AnnotatedStatement** (**Item** [wd:Q_PUBCHEM_COMPOUND_CID165360294](http://www.wikidata.org/entity/Q_PUBCHEM_COMPOUND_CID165360294)) (**ValueSnak** (**Property** [canonical SMILES](http://www.wikidata.org/entity/P233)) \"C(CS(=O)(=O)O)C(C(C(C(C(C(F)(F)F)(F)F)(F)F)(F)F)(F)F)(F)F\")\n",
       "- (**QualifierRecord**)\n",
       "- (**ReferenceRecordSet**)\n",
       "- **NormalRank**)"
      ],
      "text/plain": [
       "AnnotatedStatement(Item(IRI('http://www.wikidata.org/entity/Q_PUBCHEM_COMPOUND_CID165360294')), ValueSnak(Property(IRI('http://www.wikidata.org/entity/P233'), StringDatatype()), String('C(CS(=O)(=O)O)C(C(C(C(C(C(F)(F)F)(F)F)(F)F)(F)F)(F)F)(F)F')), QualifierRecord(), ReferenceRecordSet(), NormalRank())"
      ]
     },
     "metadata": {},
     "output_type": "display_data"
    },
    {
     "data": {
      "text/markdown": [
       "(**AnnotatedStatement** (**Item** [wd:Q_PUBCHEM_COMPOUND_CID169446711](http://www.wikidata.org/entity/Q_PUBCHEM_COMPOUND_CID169446711)) (**ValueSnak** (**Property** [canonical SMILES](http://www.wikidata.org/entity/P233)) \"C(CS(=O)(=O)O)C(C(C(C(C(C(F)(F)F)(F)F)(F)F)(F)F)(F)F)(F)F\")\n",
       "- (**QualifierRecord**)\n",
       "- (**ReferenceRecordSet**)\n",
       "- **NormalRank**)"
      ],
      "text/plain": [
       "AnnotatedStatement(Item(IRI('http://www.wikidata.org/entity/Q_PUBCHEM_COMPOUND_CID169446711')), ValueSnak(Property(IRI('http://www.wikidata.org/entity/P233'), StringDatatype()), String('C(CS(=O)(=O)O)C(C(C(C(C(C(F)(F)F)(F)F)(F)F)(F)F)(F)F)(F)F')), QualifierRecord(), ReferenceRecordSet(), NormalRank())"
      ]
     },
     "metadata": {},
     "output_type": "display_data"
    },
    {
     "data": {
      "text/markdown": [
       "(**AnnotatedStatement** (**Item** [wd:Q_PUBCHEM_COMPOUND_CID119688](http://www.wikidata.org/entity/Q_PUBCHEM_COMPOUND_CID119688)) (**ValueSnak** (**Property** [chemical formula](http://www.wikidata.org/entity/P274)) \"C8H5F13O3S\")\n",
       "- (**QualifierRecord**)\n",
       "- (**ReferenceRecordSet**)\n",
       "- **NormalRank**)"
      ],
      "text/plain": [
       "AnnotatedStatement(Item(IRI('http://www.wikidata.org/entity/Q_PUBCHEM_COMPOUND_CID119688')), ValueSnak(Property(IRI('http://www.wikidata.org/entity/P274'), StringDatatype()), String('C8H5F13O3S')), QualifierRecord(), ReferenceRecordSet(), NormalRank())"
      ]
     },
     "metadata": {},
     "output_type": "display_data"
    }
   ],
   "source": [
    "filter(wd.canonical_SMILES('C(CS(=O)(=O)O)C(C(C(C(C(C(F)(F)F)(F)F)(F)F)(F)F)(F)F)(F)F'), limit=5)"
   ]
  }
 ],
 "metadata": {
  "kernelspec": {
   "display_name": "venv313",
   "language": "python",
   "name": "venv313"
  },
  "language_info": {
   "codemirror_mode": {
    "name": "ipython",
    "version": 3
   },
   "file_extension": ".py",
   "mimetype": "text/x-python",
   "name": "python",
   "nbconvert_exporter": "python",
   "pygments_lexer": "ipython3",
   "version": "3.13.1"
  }
 },
 "nbformat": 4,
 "nbformat_minor": 5
}
