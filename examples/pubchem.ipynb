{
 "cells": [
  {
   "cell_type": "code",
   "execution_count": 1,
   "id": "c6d912c6-b715-416c-8281-51b7c109e773",
   "metadata": {},
   "outputs": [
    {
     "name": "stdout",
     "output_type": "stream",
     "text": [
      "env: KIF_DEBUG=\n",
      "env: KIF_RESOLVE_ENTITIES=1\n"
     ]
    }
   ],
   "source": [
    "%env KIF_DEBUG=\n",
    "%env KIF_RESOLVE_ENTITIES=1"
   ]
  },
  {
   "cell_type": "markdown",
   "id": "63ea7b8d-1c3f-4e40-beb5-a6e2c25f5a26",
   "metadata": {},
   "source": [
    "# PubChem"
   ]
  },
  {
   "cell_type": "code",
   "execution_count": 2,
   "id": "ab044610-1d2b-4e57-88b0-aaa426b73f29",
   "metadata": {},
   "outputs": [],
   "source": [
    "from kif_lib import *\n",
    "from kif_lib.vocabulary import pc, wd"
   ]
  },
  {
   "cell_type": "markdown",
   "id": "82bdb5e8-5090-482b-a7b9-7e8726cfe1e9",
   "metadata": {},
   "source": [
    "Create a SPARQL store with PubChem mappings pointing to a PubChem RDF SPARQL endpoint:"
   ]
  },
  {
   "cell_type": "code",
   "execution_count": 3,
   "id": "452b3fe1-f4cf-46dc-bd6b-319053b7f2a9",
   "metadata": {},
   "outputs": [],
   "source": [
    "import os\n",
    "kb = Store('pubchem-sparql', os.getenv('PUBCHEM', 'https://qlever.cs.uni-freiburg.de/api/pubchem'))"
   ]
  },
  {
   "cell_type": "markdown",
   "id": "01134166-9ce7-4197-93c5-d7e58aaf257d",
   "metadata": {},
   "source": [
    "If a limit on the number of results is not specified, assume 3:"
   ]
  },
  {
   "cell_type": "code",
   "execution_count": 4,
   "id": "c0e03fd5-32a8-4313-942d-10de6f25d27b",
   "metadata": {},
   "outputs": [],
   "source": [
    "kb.limit = 3"
   ]
  },
  {
   "cell_type": "markdown",
   "id": "46f0540f-fe57-4851-b291-1cb8f7a681ff",
   "metadata": {},
   "source": [
    "## Label, aliases, and description (pseudo-properties)"
   ]
  },
  {
   "cell_type": "markdown",
   "id": "8690b84f-9729-44c8-a823-f6948b97f4a1",
   "metadata": {},
   "source": [
    "Gets the label of the compound with CID 241 in English:"
   ]
  },
  {
   "cell_type": "code",
   "execution_count": 5,
   "id": "b6558551-c553-4048-99b0-67e077d65417",
   "metadata": {},
   "outputs": [
    {
     "data": {
      "text/markdown": [
       "(**Statement** (**Item** [benzene](http://rdf.ncbi.nlm.nih.gov/pubchem/compound/CID241)) (**ValueSnak** **LabelProperty** \"benzene\"@en))"
      ],
      "text/plain": [
       "Statement(Item(IRI('http://rdf.ncbi.nlm.nih.gov/pubchem/compound/CID241')), ValueSnak(LabelProperty(IRI('http://www.w3.org/2000/01/rdf-schema#label'), TextDatatype()), Text('benzene', 'en')))"
      ]
     },
     "metadata": {},
     "output_type": "display_data"
    }
   ],
   "source": [
    "it = kb.filter(subject=pc.CID(241), property=wd.label, language='en')\n",
    "display(*it)"
   ]
  },
  {
   "cell_type": "markdown",
   "id": "0bea45de-bb25-49d0-85cb-859f48ea75c5",
   "metadata": {},
   "source": [
    "Gets the aliases of the CID 241 in English:"
   ]
  },
  {
   "cell_type": "code",
   "execution_count": 6,
   "id": "e73bd19e-b707-4c57-b149-6573e94a90e8",
   "metadata": {},
   "outputs": [
    {
     "data": {
      "text/markdown": [
       "(**Statement** (**Item** [benzene](http://rdf.ncbi.nlm.nih.gov/pubchem/compound/CID241)) (**ValueSnak** **AliasProperty** \"\\[6]annulene\"@en))"
      ],
      "text/plain": [
       "Statement(Item(IRI('http://rdf.ncbi.nlm.nih.gov/pubchem/compound/CID241')), ValueSnak(AliasProperty(IRI('http://www.w3.org/2004/02/skos/core#altLabel'), TextDatatype()), Text('[6]annulene', 'en')))"
      ]
     },
     "metadata": {},
     "output_type": "display_data"
    },
    {
     "data": {
      "text/markdown": [
       "(**Statement** (**Item** [benzene](http://rdf.ncbi.nlm.nih.gov/pubchem/compound/CID241)) (**ValueSnak** **AliasProperty** \"Benzen\"@en))"
      ],
      "text/plain": [
       "Statement(Item(IRI('http://rdf.ncbi.nlm.nih.gov/pubchem/compound/CID241')), ValueSnak(AliasProperty(IRI('http://www.w3.org/2004/02/skos/core#altLabel'), TextDatatype()), Text('Benzen', 'en')))"
      ]
     },
     "metadata": {},
     "output_type": "display_data"
    },
    {
     "data": {
      "text/markdown": [
       "(**Statement** (**Item** [benzene](http://rdf.ncbi.nlm.nih.gov/pubchem/compound/CID241)) (**ValueSnak** **AliasProperty** \"benzene\"@en))"
      ],
      "text/plain": [
       "Statement(Item(IRI('http://rdf.ncbi.nlm.nih.gov/pubchem/compound/CID241')), ValueSnak(AliasProperty(IRI('http://www.w3.org/2004/02/skos/core#altLabel'), TextDatatype()), Text('benzene', 'en')))"
      ]
     },
     "metadata": {},
     "output_type": "display_data"
    }
   ],
   "source": [
    "it = kb.filter(subject=pc.CID(241), property=wd.alias, language='en')\n",
    "display(*it)"
   ]
  },
  {
   "cell_type": "markdown",
   "id": "f2a7025b-0e8b-423e-8d2e-fe05da8a19ce",
   "metadata": {},
   "source": [
    "Gets the description of the CID 241 in English:"
   ]
  },
  {
   "cell_type": "code",
   "execution_count": 7,
   "id": "1defe046-671b-4fa0-9228-e656b87d8d7f",
   "metadata": {},
   "outputs": [
    {
     "data": {
      "text/markdown": [
       "(**Statement** (**Item** [benzene](http://rdf.ncbi.nlm.nih.gov/pubchem/compound/CID241)) (**ValueSnak** **DescriptionProperty** \"A six-carbon aromatic annulene in which each carbon atom donates one of its two 2p electrons into a delocalised pi system. A toxic, flammable liquid byproduct of coal distillation, it is used as an industrial solvent. Benzene is a carcinogen that also damages bone marrow and the central nervous system.\"@en))"
      ],
      "text/plain": [
       "Statement(Item(IRI('http://rdf.ncbi.nlm.nih.gov/pubchem/compound/CID241')), ValueSnak(DescriptionProperty(IRI('http://schema.org/description'), TextDatatype()), Text('A six-carbon aromatic annulene in which each carbon atom donates one of its two 2p electrons into a delocalised pi system. A toxic, flammable liquid byproduct of coal distillation, it is used as an industrial solvent. Benzene is a carcinogen that also damages bone marrow and the central nervous system.', 'en')))"
      ]
     },
     "metadata": {},
     "output_type": "display_data"
    }
   ],
   "source": [
    "it = kb.filter(subject=pc.CID(241), property=wd.description, language='en')\n",
    "display(*it)"
   ]
  },
  {
   "cell_type": "markdown",
   "id": "f5019eff-bf08-4cc5-ad2a-278b25efd751",
   "metadata": {},
   "source": [
    "## Compounds"
   ]
  },
  {
   "cell_type": "markdown",
   "id": "db4da7c9-35dd-4476-b629-81b68ef5d0df",
   "metadata": {},
   "source": [
    "Lists some properties of CID 241:"
   ]
  },
  {
   "cell_type": "code",
   "execution_count": 8,
   "id": "d130c07f-ee4b-4818-9489-cdd8ea08073b",
   "metadata": {},
   "outputs": [
    {
     "data": {
      "text/markdown": [
       "(**AnnotatedStatement** (**Item** [benzene](http://rdf.ncbi.nlm.nih.gov/pubchem/compound/CID241)) (**ValueSnak** (**Property** [canonical SMILES](http://www.wikidata.org/entity/P233)) \"C1=CC=CC=C1\")\n",
       "- (**QualifierRecord**)\n",
       "- (**ReferenceRecordSet**)\n",
       "- **NormalRank**)"
      ],
      "text/plain": [
       "AnnotatedStatement(Item(IRI('http://rdf.ncbi.nlm.nih.gov/pubchem/compound/CID241')), ValueSnak(Property(IRI('http://www.wikidata.org/entity/P233'), StringDatatype()), String('C1=CC=CC=C1')), QualifierRecord(), ReferenceRecordSet(), NormalRank())"
      ]
     },
     "metadata": {},
     "output_type": "display_data"
    },
    {
     "data": {
      "text/markdown": [
       "(**AnnotatedStatement** (**Item** [benzene](http://rdf.ncbi.nlm.nih.gov/pubchem/compound/CID241)) (**ValueSnak** (**Property** [ChEBI ID](http://www.wikidata.org/entity/P683)) \"16716\")\n",
       "- (**QualifierRecord**)\n",
       "- (**ReferenceRecordSet**)\n",
       "- **NormalRank**)"
      ],
      "text/plain": [
       "AnnotatedStatement(Item(IRI('http://rdf.ncbi.nlm.nih.gov/pubchem/compound/CID241')), ValueSnak(Property(IRI('http://www.wikidata.org/entity/P683'), ExternalIdDatatype()), ExternalId('16716')), QualifierRecord(), ReferenceRecordSet(), NormalRank())"
      ]
     },
     "metadata": {},
     "output_type": "display_data"
    },
    {
     "data": {
      "text/markdown": [
       "(**AnnotatedStatement** (**Item** [benzene](http://rdf.ncbi.nlm.nih.gov/pubchem/compound/CID241)) (**ValueSnak** (**Property** [ChEMBL ID](http://www.wikidata.org/entity/P592)) \"CHEMBL277500\")\n",
       "- (**QualifierRecord**)\n",
       "- (**ReferenceRecordSet**)\n",
       "- **NormalRank**)"
      ],
      "text/plain": [
       "AnnotatedStatement(Item(IRI('http://rdf.ncbi.nlm.nih.gov/pubchem/compound/CID241')), ValueSnak(Property(IRI('http://www.wikidata.org/entity/P592'), ExternalIdDatatype()), ExternalId('CHEMBL277500')), QualifierRecord(), ReferenceRecordSet(), NormalRank())"
      ]
     },
     "metadata": {},
     "output_type": "display_data"
    },
    {
     "data": {
      "text/markdown": [
       "(**AnnotatedStatement** (**Item** [benzene](http://rdf.ncbi.nlm.nih.gov/pubchem/compound/CID241)) (**ValueSnak** (**Property** [chemical formula](http://www.wikidata.org/entity/P274)) \"C6H6\")\n",
       "- (**QualifierRecord**)\n",
       "- (**ReferenceRecordSet**)\n",
       "- **NormalRank**)"
      ],
      "text/plain": [
       "AnnotatedStatement(Item(IRI('http://rdf.ncbi.nlm.nih.gov/pubchem/compound/CID241')), ValueSnak(Property(IRI('http://www.wikidata.org/entity/P274'), StringDatatype()), String('C6H6')), QualifierRecord(), ReferenceRecordSet(), NormalRank())"
      ]
     },
     "metadata": {},
     "output_type": "display_data"
    },
    {
     "data": {
      "text/markdown": [
       "(**AnnotatedStatement** (**Item** [benzene](http://rdf.ncbi.nlm.nih.gov/pubchem/compound/CID241)) (**ValueSnak** (**Property** [InChI](http://www.wikidata.org/entity/P234)) \"InChI=1S/C6H6/c1-2-4-6-5-3-1/h1-6H\")\n",
       "- (**QualifierRecord**)\n",
       "- (**ReferenceRecordSet**)\n",
       "- **NormalRank**)"
      ],
      "text/plain": [
       "AnnotatedStatement(Item(IRI('http://rdf.ncbi.nlm.nih.gov/pubchem/compound/CID241')), ValueSnak(Property(IRI('http://www.wikidata.org/entity/P234'), ExternalIdDatatype()), ExternalId('InChI=1S/C6H6/c1-2-4-6-5-3-1/h1-6H')), QualifierRecord(), ReferenceRecordSet(), NormalRank())"
      ]
     },
     "metadata": {},
     "output_type": "display_data"
    },
    {
     "data": {
      "text/markdown": [
       "(**AnnotatedStatement** (**Item** [benzene](http://rdf.ncbi.nlm.nih.gov/pubchem/compound/CID241)) (**ValueSnak** (**Property** [InChIKey](http://www.wikidata.org/entity/P235)) \"UHOVQNZJYSORNB-UHFFFAOYSA-N\")\n",
       "- (**QualifierRecord**)\n",
       "- (**ReferenceRecordSet**)\n",
       "- **NormalRank**)"
      ],
      "text/plain": [
       "AnnotatedStatement(Item(IRI('http://rdf.ncbi.nlm.nih.gov/pubchem/compound/CID241')), ValueSnak(Property(IRI('http://www.wikidata.org/entity/P235'), ExternalIdDatatype()), ExternalId('UHOVQNZJYSORNB-UHFFFAOYSA-N')), QualifierRecord(), ReferenceRecordSet(), NormalRank())"
      ]
     },
     "metadata": {},
     "output_type": "display_data"
    },
    {
     "data": {
      "text/markdown": [
       "(**AnnotatedStatement** (**Item** [benzene](http://rdf.ncbi.nlm.nih.gov/pubchem/compound/CID241)) (**ValueSnak** (**Property** [instance of](http://www.wikidata.org/entity/P31)) (**Item** [type of a chemical entity](http://www.wikidata.org/entity/Q113145171)))\n",
       "- (**QualifierRecord**)\n",
       "- (**ReferenceRecordSet**)\n",
       "- **NormalRank**)"
      ],
      "text/plain": [
       "AnnotatedStatement(Item(IRI('http://rdf.ncbi.nlm.nih.gov/pubchem/compound/CID241')), ValueSnak(Property(IRI('http://www.wikidata.org/entity/P31'), ItemDatatype()), Item(IRI('http://www.wikidata.org/entity/Q113145171'))), QualifierRecord(), ReferenceRecordSet(), NormalRank())"
      ]
     },
     "metadata": {},
     "output_type": "display_data"
    },
    {
     "data": {
      "text/markdown": [
       "(**AnnotatedStatement** (**Item** [benzene](http://rdf.ncbi.nlm.nih.gov/pubchem/compound/CID241)) (**ValueSnak** (**Property** [isomeric SMILES](http://www.wikidata.org/entity/P2017)) \"C1=CC=CC=C1\")\n",
       "- (**QualifierRecord**)\n",
       "- (**ReferenceRecordSet**)\n",
       "- **NormalRank**)"
      ],
      "text/plain": [
       "AnnotatedStatement(Item(IRI('http://rdf.ncbi.nlm.nih.gov/pubchem/compound/CID241')), ValueSnak(Property(IRI('http://www.wikidata.org/entity/P2017'), StringDatatype()), String('C1=CC=CC=C1')), QualifierRecord(), ReferenceRecordSet(), NormalRank())"
      ]
     },
     "metadata": {},
     "output_type": "display_data"
    },
    {
     "data": {
      "text/markdown": [
       "(**AnnotatedStatement** (**Item** [benzene](http://rdf.ncbi.nlm.nih.gov/pubchem/compound/CID241)) (**ValueSnak** (**Property** [mass](http://www.wikidata.org/entity/P2067)) (**Quantity** 78.11 (**Item** [gram per mole](http://www.wikidata.org/entity/Q28924752))))\n",
       "- (**QualifierRecord**)\n",
       "- (**ReferenceRecordSet**)\n",
       "- **NormalRank**)"
      ],
      "text/plain": [
       "AnnotatedStatement(Item(IRI('http://rdf.ncbi.nlm.nih.gov/pubchem/compound/CID241')), ValueSnak(Property(IRI('http://www.wikidata.org/entity/P2067'), QuantityDatatype()), Quantity(Decimal('78.11'), Item(IRI('http://www.wikidata.org/entity/Q28924752')), None, None)), QualifierRecord(), ReferenceRecordSet(), NormalRank())"
      ]
     },
     "metadata": {},
     "output_type": "display_data"
    },
    {
     "data": {
      "text/markdown": [
       "(**AnnotatedStatement** (**Item** [benzene](http://rdf.ncbi.nlm.nih.gov/pubchem/compound/CID241)) (**ValueSnak** (**Property** [partition coefficient water/octanol](http://www.wikidata.org/entity/P2993)) (**Quantity** 2.1))\n",
       "- (**QualifierRecord**)\n",
       "- (**ReferenceRecordSet**)\n",
       "- **NormalRank**)"
      ],
      "text/plain": [
       "AnnotatedStatement(Item(IRI('http://rdf.ncbi.nlm.nih.gov/pubchem/compound/CID241')), ValueSnak(Property(IRI('http://www.wikidata.org/entity/P2993'), QuantityDatatype()), Quantity(Decimal('2.1'), None, None, None)), QualifierRecord(), ReferenceRecordSet(), NormalRank())"
      ]
     },
     "metadata": {},
     "output_type": "display_data"
    }
   ],
   "source": [
    "it = kb.filter_annotated(\n",
    "    subject=pc.CID(241),\n",
    "    property=(\n",
    "        wd.instance_of |\n",
    "        wd.chemical_formula | \n",
    "        wd.canonical_SMILES |\n",
    "        wd.isomeric_SMILES |\n",
    "        wd.InChI |\n",
    "        wd.InChIKey |\n",
    "        wd.ChEBI_ID |\n",
    "        wd.ChEMBL_ID |\n",
    "        wd.mass |\n",
    "        wd.partition_coefficient_water_octanol\n",
    "    ), limit=10)\n",
    "display(*it)"
   ]
  },
  {
   "cell_type": "markdown",
   "id": "549e24b7-4f6c-48ad-80f0-2c10e05de138",
   "metadata": {},
   "source": [
    "Lists the mass of the compound whose chemical formula is H2O:"
   ]
  },
  {
   "cell_type": "code",
   "execution_count": 9,
   "id": "07df7538-560f-4926-9e55-0670a1ccb0f7",
   "metadata": {},
   "outputs": [
    {
     "data": {
      "text/markdown": [
       "(**Statement** (**Item** [oxygen-15 atom](http://rdf.ncbi.nlm.nih.gov/pubchem/compound/CID10129877)) (**ValueSnak** (**Property** [mass](http://www.wikidata.org/entity/P2067)) (**Quantity** 17.019 (**Item** [gram per mole](http://www.wikidata.org/entity/Q28924752)))))"
      ],
      "text/plain": [
       "Statement(Item(IRI('http://rdf.ncbi.nlm.nih.gov/pubchem/compound/CID10129877')), ValueSnak(Property(IRI('http://www.wikidata.org/entity/P2067'), QuantityDatatype()), Quantity(Decimal('17.019'), Item(IRI('http://www.wikidata.org/entity/Q28924752')), None, None)))"
      ]
     },
     "metadata": {},
     "output_type": "display_data"
    },
    {
     "data": {
      "text/markdown": [
       "(**Statement** (**Item** [oxygen-17 atom](http://rdf.ncbi.nlm.nih.gov/pubchem/compound/CID10197601)) (**ValueSnak** (**Property** [mass](http://www.wikidata.org/entity/P2067)) (**Quantity** 19.015 (**Item** [gram per mole](http://www.wikidata.org/entity/Q28924752)))))"
      ],
      "text/plain": [
       "Statement(Item(IRI('http://rdf.ncbi.nlm.nih.gov/pubchem/compound/CID10197601')), ValueSnak(Property(IRI('http://www.wikidata.org/entity/P2067'), QuantityDatatype()), Quantity(Decimal('19.015'), Item(IRI('http://www.wikidata.org/entity/Q28924752')), None, None)))"
      ]
     },
     "metadata": {},
     "output_type": "display_data"
    },
    {
     "data": {
      "text/markdown": [
       "(**Statement** (**Item** [oxygen-16 atom](http://rdf.ncbi.nlm.nih.gov/pubchem/compound/CID10214376)) (**ValueSnak** (**Property** [mass](http://www.wikidata.org/entity/P2067)) (**Quantity** 18.011 (**Item** [gram per mole](http://www.wikidata.org/entity/Q28924752)))))"
      ],
      "text/plain": [
       "Statement(Item(IRI('http://rdf.ncbi.nlm.nih.gov/pubchem/compound/CID10214376')), ValueSnak(Property(IRI('http://www.wikidata.org/entity/P2067'), QuantityDatatype()), Quantity(Decimal('18.011'), Item(IRI('http://www.wikidata.org/entity/Q28924752')), None, None)))"
      ]
     },
     "metadata": {},
     "output_type": "display_data"
    }
   ],
   "source": [
    "it = kb.filter(subject=wd.chemical_formula('H2O'), property=wd.mass)\n",
    "display(*it)"
   ]
  },
  {
   "cell_type": "markdown",
   "id": "fb206a29-e3bf-4855-bafc-1eecfdbfcddd",
   "metadata": {},
   "source": [
    "## Patents"
   ]
  },
  {
   "cell_type": "code",
   "execution_count": 10,
   "id": "c3c6b4e1-94b6-44ae-bf7f-02d2bd43efb1",
   "metadata": {},
   "outputs": [
    {
     "data": {
      "text/markdown": [
       "(**Statement** (**Item** [300cc water bottle](http://rdf.ncbi.nlm.nih.gov/pubchem/patent/AP-00214-S1)) (**ValueSnak** (**Property** [instance of](http://www.wikidata.org/entity/P31)) (**Item** [patent](http://www.wikidata.org/entity/Q253623))))"
      ],
      "text/plain": [
       "Statement(Item(IRI('http://rdf.ncbi.nlm.nih.gov/pubchem/patent/AP-00214-S1')), ValueSnak(Property(IRI('http://www.wikidata.org/entity/P31'), ItemDatatype()), Item(IRI('http://www.wikidata.org/entity/Q253623'))))"
      ]
     },
     "metadata": {},
     "output_type": "display_data"
    },
    {
     "data": {
      "text/markdown": [
       "(**Statement** (**Item** [600cc Water bottle](http://rdf.ncbi.nlm.nih.gov/pubchem/patent/AP-00215-S1)) (**ValueSnak** (**Property** [instance of](http://www.wikidata.org/entity/P31)) (**Item** [patent](http://www.wikidata.org/entity/Q253623))))"
      ],
      "text/plain": [
       "Statement(Item(IRI('http://rdf.ncbi.nlm.nih.gov/pubchem/patent/AP-00215-S1')), ValueSnak(Property(IRI('http://www.wikidata.org/entity/P31'), ItemDatatype()), Item(IRI('http://www.wikidata.org/entity/Q253623'))))"
      ]
     },
     "metadata": {},
     "output_type": "display_data"
    },
    {
     "data": {
      "text/markdown": [
       "(**Statement** (**Item** [350ml Water bottle.](http://rdf.ncbi.nlm.nih.gov/pubchem/patent/AP-00216-S1)) (**ValueSnak** (**Property** [instance of](http://www.wikidata.org/entity/P31)) (**Item** [patent](http://www.wikidata.org/entity/Q253623))))"
      ],
      "text/plain": [
       "Statement(Item(IRI('http://rdf.ncbi.nlm.nih.gov/pubchem/patent/AP-00216-S1')), ValueSnak(Property(IRI('http://www.wikidata.org/entity/P31'), ItemDatatype()), Item(IRI('http://www.wikidata.org/entity/Q253623'))))"
      ]
     },
     "metadata": {},
     "output_type": "display_data"
    }
   ],
   "source": [
    "it = kb.filter(property=wd.instance_of, value=wd.patent)\n",
    "display(*it)"
   ]
  },
  {
   "cell_type": "markdown",
   "id": "38187a0f-0527-4edf-8a36-59322ab40542",
   "metadata": {},
   "source": [
    "## Sources (vendors)"
   ]
  },
  {
   "cell_type": "code",
   "execution_count": 11,
   "id": "129767cf-1aa5-4be3-816c-caf930195ab9",
   "metadata": {},
   "outputs": [
    {
     "data": {
      "text/markdown": [
       "(**Statement** (**Item** [AAA Chemistry](http://rdf.ncbi.nlm.nih.gov/pubchem/source/AAA_Chemistry)) (**ValueSnak** (**Property** [instance of](http://www.wikidata.org/entity/P31)) (**Item** [vendor](http://www.wikidata.org/entity/Q1762621))))"
      ],
      "text/plain": [
       "Statement(Item(IRI('http://rdf.ncbi.nlm.nih.gov/pubchem/source/AAA_Chemistry')), ValueSnak(Property(IRI('http://www.wikidata.org/entity/P31'), ItemDatatype()), Item(IRI('http://www.wikidata.org/entity/Q1762621'))))"
      ]
     },
     "metadata": {},
     "output_type": "display_data"
    },
    {
     "data": {
      "text/markdown": [
       "(**Statement** (**Item** [AKos Consulting & Solutions](http://rdf.ncbi.nlm.nih.gov/pubchem/source/AKos_Consulting___Solutions)) (**ValueSnak** (**Property** [instance of](http://www.wikidata.org/entity/P31)) (**Item** [vendor](http://www.wikidata.org/entity/Q1762621))))"
      ],
      "text/plain": [
       "Statement(Item(IRI('http://rdf.ncbi.nlm.nih.gov/pubchem/source/AKos_Consulting___Solutions')), ValueSnak(Property(IRI('http://www.wikidata.org/entity/P31'), ItemDatatype()), Item(IRI('http://www.wikidata.org/entity/Q1762621'))))"
      ]
     },
     "metadata": {},
     "output_type": "display_data"
    },
    {
     "data": {
      "text/markdown": [
       "(**Statement** (**Item** [Alinda Chemical](http://rdf.ncbi.nlm.nih.gov/pubchem/source/Alinda_Chemical)) (**ValueSnak** (**Property** [instance of](http://www.wikidata.org/entity/P31)) (**Item** [vendor](http://www.wikidata.org/entity/Q1762621))))"
      ],
      "text/plain": [
       "Statement(Item(IRI('http://rdf.ncbi.nlm.nih.gov/pubchem/source/Alinda_Chemical')), ValueSnak(Property(IRI('http://www.wikidata.org/entity/P31'), ItemDatatype()), Item(IRI('http://www.wikidata.org/entity/Q1762621'))))"
      ]
     },
     "metadata": {},
     "output_type": "display_data"
    }
   ],
   "source": [
    "it = kb.filter(property=wd.instance_of, value=wd.vendor)\n",
    "display(*it)"
   ]
  }
 ],
 "metadata": {
  "kernelspec": {
   "display_name": "venv313",
   "language": "python",
   "name": "venv313"
  },
  "language_info": {
   "codemirror_mode": {
    "name": "ipython",
    "version": 3
   },
   "file_extension": ".py",
   "mimetype": "text/x-python",
   "name": "python",
   "nbconvert_exporter": "python",
   "pygments_lexer": "ipython3",
   "version": "3.13.2"
  }
 },
 "nbformat": 4,
 "nbformat_minor": 5
}
