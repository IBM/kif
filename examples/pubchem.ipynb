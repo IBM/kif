{
 "cells": [
  {
   "cell_type": "code",
   "execution_count": 1,
   "id": "c6d912c6-b715-416c-8281-51b7c109e773",
   "metadata": {},
   "outputs": [
    {
     "name": "stdout",
     "output_type": "stream",
     "text": [
      "env: KIF_DEBUG=\n",
      "env: KIF_RESOLVE_ENTITIES=1\n"
     ]
    }
   ],
   "source": [
    "%env KIF_DEBUG=\n",
    "%env KIF_RESOLVE_ENTITIES=1"
   ]
  },
  {
   "cell_type": "markdown",
   "id": "63ea7b8d-1c3f-4e40-beb5-a6e2c25f5a26",
   "metadata": {},
   "source": [
    "# PubChem"
   ]
  },
  {
   "cell_type": "code",
   "execution_count": 2,
   "id": "ab044610-1d2b-4e57-88b0-aaa426b73f29",
   "metadata": {},
   "outputs": [],
   "source": [
    "from kif_lib import *\n",
    "from kif_lib.vocabulary import pc, wd"
   ]
  },
  {
   "cell_type": "markdown",
   "id": "82bdb5e8-5090-482b-a7b9-7e8726cfe1e9",
   "metadata": {},
   "source": [
    "Create a SPARQL store with PubChem mappings pointing to a PubChem RDF SPARQL endpoint:"
   ]
  },
  {
   "cell_type": "code",
   "execution_count": 3,
   "id": "452b3fe1-f4cf-46dc-bd6b-319053b7f2a9",
   "metadata": {},
   "outputs": [],
   "source": [
    "import os\n",
    "kb = Store('pubchem-sparql', os.getenv('PUBCHEM', 'https://qlever.cs.uni-freiburg.de/api/pubchem'))"
   ]
  },
  {
   "cell_type": "markdown",
   "id": "01134166-9ce7-4197-93c5-d7e58aaf257d",
   "metadata": {},
   "source": [
    "If a limit on the number of results is not specified, assume 3:"
   ]
  },
  {
   "cell_type": "code",
   "execution_count": 4,
   "id": "c0e03fd5-32a8-4313-942d-10de6f25d27b",
   "metadata": {},
   "outputs": [],
   "source": [
    "kb.limit = 3"
   ]
  },
  {
   "cell_type": "markdown",
   "id": "46f0540f-fe57-4851-b291-1cb8f7a681ff",
   "metadata": {},
   "source": [
    "## Label, aliases, and description (pseudo-properties)"
   ]
  },
  {
   "cell_type": "markdown",
   "id": "8690b84f-9729-44c8-a823-f6948b97f4a1",
   "metadata": {},
   "source": [
    "Gets the label of benzene (CID 241) in English:"
   ]
  },
  {
   "cell_type": "code",
   "execution_count": 5,
   "id": "b6558551-c553-4048-99b0-67e077d65417",
   "metadata": {},
   "outputs": [
    {
     "data": {
      "text/markdown": [
       "(**Statement** (**Item** [benzene](http://rdf.ncbi.nlm.nih.gov/pubchem/compound/CID241)) (**ValueSnak** **LabelProperty** \"benzene\"@en))"
      ],
      "text/plain": [
       "Statement(Item(IRI('http://rdf.ncbi.nlm.nih.gov/pubchem/compound/CID241')), ValueSnak(LabelProperty(IRI('http://www.w3.org/2000/01/rdf-schema#label'), TextDatatype()), Text('benzene', 'en')))"
      ]
     },
     "metadata": {},
     "output_type": "display_data"
    }
   ],
   "source": [
    "it = kb.filter(subject=pc.CID(241), property=wd.label, language='en')\n",
    "display(*it)"
   ]
  },
  {
   "cell_type": "markdown",
   "id": "0bea45de-bb25-49d0-85cb-859f48ea75c5",
   "metadata": {},
   "source": [
    "Gets the aliases of benzene in English:"
   ]
  },
  {
   "cell_type": "code",
   "execution_count": 6,
   "id": "e73bd19e-b707-4c57-b149-6573e94a90e8",
   "metadata": {},
   "outputs": [
    {
     "data": {
      "text/markdown": [
       "(**Statement** (**Item** [benzene](http://rdf.ncbi.nlm.nih.gov/pubchem/compound/CID241)) (**ValueSnak** **AliasProperty** \"\\[6]annulene\"@en))"
      ],
      "text/plain": [
       "Statement(Item(IRI('http://rdf.ncbi.nlm.nih.gov/pubchem/compound/CID241')), ValueSnak(AliasProperty(IRI('http://www.w3.org/2004/02/skos/core#altLabel'), TextDatatype()), Text('[6]annulene', 'en')))"
      ]
     },
     "metadata": {},
     "output_type": "display_data"
    },
    {
     "data": {
      "text/markdown": [
       "(**Statement** (**Item** [benzene](http://rdf.ncbi.nlm.nih.gov/pubchem/compound/CID241)) (**ValueSnak** **AliasProperty** \"Benzen\"@en))"
      ],
      "text/plain": [
       "Statement(Item(IRI('http://rdf.ncbi.nlm.nih.gov/pubchem/compound/CID241')), ValueSnak(AliasProperty(IRI('http://www.w3.org/2004/02/skos/core#altLabel'), TextDatatype()), Text('Benzen', 'en')))"
      ]
     },
     "metadata": {},
     "output_type": "display_data"
    },
    {
     "data": {
      "text/markdown": [
       "(**Statement** (**Item** [benzene](http://rdf.ncbi.nlm.nih.gov/pubchem/compound/CID241)) (**ValueSnak** **AliasProperty** \"benzene\"@en))"
      ],
      "text/plain": [
       "Statement(Item(IRI('http://rdf.ncbi.nlm.nih.gov/pubchem/compound/CID241')), ValueSnak(AliasProperty(IRI('http://www.w3.org/2004/02/skos/core#altLabel'), TextDatatype()), Text('benzene', 'en')))"
      ]
     },
     "metadata": {},
     "output_type": "display_data"
    }
   ],
   "source": [
    "it = kb.filter(subject=pc.CID(241), property=wd.alias, language='en')\n",
    "display(*it)"
   ]
  },
  {
   "cell_type": "markdown",
   "id": "f2a7025b-0e8b-423e-8d2e-fe05da8a19ce",
   "metadata": {},
   "source": [
    "Gets the description of benzene in English:"
   ]
  },
  {
   "cell_type": "code",
   "execution_count": 7,
   "id": "1defe046-671b-4fa0-9228-e656b87d8d7f",
   "metadata": {},
   "outputs": [
    {
     "data": {
      "text/markdown": [
       "(**Statement** (**Item** [benzene](http://rdf.ncbi.nlm.nih.gov/pubchem/compound/CID241)) (**ValueSnak** **DescriptionProperty** \"A six-carbon aromatic annulene in which each carbon atom donates one of its two 2p electrons into a delocalised pi system. A toxic, flammable liquid byproduct of coal distillation, it is used as an industrial solvent. Benzene is a carcinogen that also damages bone marrow and the central nervous system.\"@en))"
      ],
      "text/plain": [
       "Statement(Item(IRI('http://rdf.ncbi.nlm.nih.gov/pubchem/compound/CID241')), ValueSnak(DescriptionProperty(IRI('http://schema.org/description'), TextDatatype()), Text('A six-carbon aromatic annulene in which each carbon atom donates one of its two 2p electrons into a delocalised pi system. A toxic, flammable liquid byproduct of coal distillation, it is used as an industrial solvent. Benzene is a carcinogen that also damages bone marrow and the central nervous system.', 'en')))"
      ]
     },
     "metadata": {},
     "output_type": "display_data"
    }
   ],
   "source": [
    "it = kb.filter(subject=pc.CID(241), property=wd.description, language='en')\n",
    "display(*it)"
   ]
  },
  {
   "cell_type": "markdown",
   "id": "25beed10-63d6-429c-b2be-3630ecdb7e32",
   "metadata": {},
   "source": [
    "Notice that we search for entities with a given label:"
   ]
  },
  {
   "cell_type": "markdown",
   "id": "f5019eff-bf08-4cc5-ad2a-278b25efd751",
   "metadata": {},
   "source": [
    "## Compounds"
   ]
  },
  {
   "cell_type": "markdown",
   "id": "2092fe68-bb5d-4bb7-a87e-29aebc60550f",
   "metadata": {},
   "source": [
    "These are the currently supported properties for compounds:"
   ]
  },
  {
   "cell_type": "code",
   "execution_count": 8,
   "id": "6d38ef62-17c0-45e2-93da-c0923505f826",
   "metadata": {},
   "outputs": [],
   "source": [
    "COMPOUND_PROPERTIES = [\n",
    "    wd.canonical_SMILES,\n",
    "    wd.CAS_Registry_Number,\n",
    "    wd.ChEBI_ID,\n",
    "    wd.ChEMBL_ID,\n",
    "    wd.chemical_formula,\n",
    "    wd.described_by_source,\n",
    "    wd.has_part,\n",
    "    wd.part_of,\n",
    "    wd.InChI,\n",
    "    wd.InChIKey,\n",
    "    wd.instance_of,\n",
    "    wd.isomeric_SMILES,\n",
    "    pc.isotope_atom_count,          # pc vocabulary\n",
    "    pc.IUPAC_name,                  # pc vocabulary\n",
    "    wd.legal_status_medicine,\n",
    "    wd.mass,\n",
    "    wd.manufacturer,\n",
    "    wd.partition_coefficient_water_octanol,\n",
    "    wd.PubChem_CID,\n",
    "    wd.said_to_be_the_same_as,\n",
    "]"
   ]
  },
  {
   "cell_type": "code",
   "execution_count": 9,
   "id": "56c5cc68-05cc-42d7-bed8-78004d746d74",
   "metadata": {},
   "outputs": [
    {
     "data": {
      "text/markdown": [
       "|#|property|description|\n",
       "|-|-|-|\n",
       "|1|[canonical SMILES](http://www.wikidata.org/entity/P233)|Simplified Molecular Input Line Entry Specification (canonical format)|\n",
       "|2|[CAS Registry Number](http://www.wikidata.org/entity/P231)|identifier for a chemical substance or compound per Chemical Abstract Service's Registry database|\n",
       "|3|[ChEBI ID](http://www.wikidata.org/entity/P683)|identifier from database and ontology of molecular entities focused on 'small' chemical compounds|\n",
       "|4|[ChEMBL ID](http://www.wikidata.org/entity/P592)|identifier from a chemical database of bioactive molecules with drug-like properties|\n",
       "|5|[chemical formula](http://www.wikidata.org/entity/P274)|description of chemical compound giving element symbols and counts|\n",
       "|6|[described by source](http://www.wikidata.org/entity/P1343)|work where this item is described|\n",
       "|7|[has part(s)](http://www.wikidata.org/entity/P527)|part of this subject; inverse property of \"part of\" (P361). See also \"has parts of the class\" (P2670).|\n",
       "|8|[part of](http://www.wikidata.org/entity/P361)|object of which the subject is a part (if this subject is already part of object A which is a part of object B, then please only make the subject part of object A), inverse property of \"has part\" (P527, see also \"has parts of the class\" (P2670))|\n",
       "|9|[InChI](http://www.wikidata.org/entity/P234)|International Chemical Identifier|\n",
       "|10|[InChIKey](http://www.wikidata.org/entity/P235)|a hashed version of the full standard InChI|\n",
       "|11|[instance of](http://www.wikidata.org/entity/P31)|type to which this subject corresponds/belongs. Different from P279 (subclass of); for example: K2 is an instance of mountain; volcanoes form a subclass of mountains, and the volcano is a type (instance) of volcanic landform|\n",
       "|12|[isomeric SMILES](http://www.wikidata.org/entity/P2017)|dedicated SMILES for isomer|\n",
       "|13|[isotope atom count](http://semanticscience.org/resource/CHEMINF_000372)|isotope atom count generated by pubchem software library|\n",
       "|14|[IUPAC name](http://semanticscience.org/resource/CHEMINF_000382)|IUPAC Name generated by LexiChem|\n",
       "|15|[legal status (medicine)](http://www.wikidata.org/entity/P3493)|legal status for pharmaceutical drugs, e.g. general sales list for paracetamol in the UK|\n",
       "|16|[mass](http://www.wikidata.org/entity/P2067)|mass (in colloquial usage also known as weight) of the item|\n",
       "|17|[manufacturer](http://www.wikidata.org/entity/P176)|(main or final) manufacturer or producer of this product|\n",
       "|18|[partition coefficient water/octanol](http://www.wikidata.org/entity/P2993)|logarithm of the partition coefficient (n-octanol/water)|\n",
       "|19|[PubChem CID](http://www.wikidata.org/entity/P662)|identifier from database of chemical molecules and their activities in biological assays (Compound ID number)|\n",
       "|20|[said to be the same as](http://www.wikidata.org/entity/P460)|this item is said to be the same as that item, though this may be uncertain or disputed|"
      ]
     },
     "metadata": {},
     "output_type": "display_data"
    }
   ],
   "source": [
    "import show\n",
    "show.property_table(COMPOUND_PROPERTIES)"
   ]
  },
  {
   "cell_type": "markdown",
   "id": "db4da7c9-35dd-4476-b629-81b68ef5d0df",
   "metadata": {},
   "source": [
    "Lists some of the values of these properties for benzene (CID 241):"
   ]
  },
  {
   "cell_type": "code",
   "execution_count": 10,
   "id": "66f496d7-873d-4733-839f-5a95333afacb",
   "metadata": {},
   "outputs": [],
   "source": [
    "f = lambda p: kb.filter(subject=pc.CID(241), property=p, limit=1)"
   ]
  },
  {
   "cell_type": "code",
   "execution_count": 11,
   "id": "d130c07f-ee4b-4818-9489-cdd8ea08073b",
   "metadata": {},
   "outputs": [
    {
     "data": {
      "text/markdown": [
       "(**Statement** (**Item** [benzene](http://rdf.ncbi.nlm.nih.gov/pubchem/compound/CID241)) (**ValueSnak** (**Property** [canonical SMILES](http://www.wikidata.org/entity/P233)) \"C1=CC=CC=C1\"))"
      ],
      "text/plain": [
       "Statement(Item(IRI('http://rdf.ncbi.nlm.nih.gov/pubchem/compound/CID241')), ValueSnak(Property(IRI('http://www.wikidata.org/entity/P233'), StringDatatype()), String('C1=CC=CC=C1')))"
      ]
     },
     "metadata": {},
     "output_type": "display_data"
    },
    {
     "data": {
      "text/markdown": [
       "(**Statement** (**Item** [benzene](http://rdf.ncbi.nlm.nih.gov/pubchem/compound/CID241)) (**ValueSnak** (**Property** [CAS Registry Number](http://www.wikidata.org/entity/P231)) \"25053-22-9\"))"
      ],
      "text/plain": [
       "Statement(Item(IRI('http://rdf.ncbi.nlm.nih.gov/pubchem/compound/CID241')), ValueSnak(Property(IRI('http://www.wikidata.org/entity/P231'), ExternalIdDatatype()), ExternalId('25053-22-9')))"
      ]
     },
     "metadata": {},
     "output_type": "display_data"
    },
    {
     "data": {
      "text/markdown": [
       "(**Statement** (**Item** [benzene](http://rdf.ncbi.nlm.nih.gov/pubchem/compound/CID241)) (**ValueSnak** (**Property** [ChEBI ID](http://www.wikidata.org/entity/P683)) \"16716\"))"
      ],
      "text/plain": [
       "Statement(Item(IRI('http://rdf.ncbi.nlm.nih.gov/pubchem/compound/CID241')), ValueSnak(Property(IRI('http://www.wikidata.org/entity/P683'), ExternalIdDatatype()), ExternalId('16716')))"
      ]
     },
     "metadata": {},
     "output_type": "display_data"
    },
    {
     "data": {
      "text/markdown": [
       "(**Statement** (**Item** [benzene](http://rdf.ncbi.nlm.nih.gov/pubchem/compound/CID241)) (**ValueSnak** (**Property** [ChEMBL ID](http://www.wikidata.org/entity/P592)) \"CHEMBL277500\"))"
      ],
      "text/plain": [
       "Statement(Item(IRI('http://rdf.ncbi.nlm.nih.gov/pubchem/compound/CID241')), ValueSnak(Property(IRI('http://www.wikidata.org/entity/P592'), ExternalIdDatatype()), ExternalId('CHEMBL277500')))"
      ]
     },
     "metadata": {},
     "output_type": "display_data"
    },
    {
     "data": {
      "text/markdown": [
       "(**Statement** (**Item** [benzene](http://rdf.ncbi.nlm.nih.gov/pubchem/compound/CID241)) (**ValueSnak** (**Property** [chemical formula](http://www.wikidata.org/entity/P274)) \"C₆H₆\"))"
      ],
      "text/plain": [
       "Statement(Item(IRI('http://rdf.ncbi.nlm.nih.gov/pubchem/compound/CID241')), ValueSnak(Property(IRI('http://www.wikidata.org/entity/P274'), StringDatatype()), String('C₆H₆')))"
      ]
     },
     "metadata": {},
     "output_type": "display_data"
    },
    {
     "data": {
      "text/markdown": [
       "(**Statement** (**Item** [benzene](http://rdf.ncbi.nlm.nih.gov/pubchem/compound/CID241)) (**ValueSnak** (**Property** [described by source](http://www.wikidata.org/entity/P1343)) (**Item** [Certain 1, 4, 5-Tri-substituted imidazole compounds useful as cytokine.](http://rdf.ncbi.nlm.nih.gov/pubchem/patent/AP-1270-A))))"
      ],
      "text/plain": [
       "Statement(Item(IRI('http://rdf.ncbi.nlm.nih.gov/pubchem/compound/CID241')), ValueSnak(Property(IRI('http://www.wikidata.org/entity/P1343'), ItemDatatype()), Item(IRI('http://rdf.ncbi.nlm.nih.gov/pubchem/patent/AP-1270-A'))))"
      ]
     },
     "metadata": {},
     "output_type": "display_data"
    },
    {
     "data": {
      "text/markdown": [
       "(**Statement** (**Item** [benzene](http://rdf.ncbi.nlm.nih.gov/pubchem/compound/CID241)) (**ValueSnak** (**Property** [part of](http://www.wikidata.org/entity/P361)) (**Item** [pc:CID10020804](http://rdf.ncbi.nlm.nih.gov/pubchem/compound/CID10020804))))"
      ],
      "text/plain": [
       "Statement(Item(IRI('http://rdf.ncbi.nlm.nih.gov/pubchem/compound/CID241')), ValueSnak(Property(IRI('http://www.wikidata.org/entity/P361'), ItemDatatype()), Item(IRI('http://rdf.ncbi.nlm.nih.gov/pubchem/compound/CID10020804'))))"
      ]
     },
     "metadata": {},
     "output_type": "display_data"
    },
    {
     "data": {
      "text/markdown": [
       "(**Statement** (**Item** [benzene](http://rdf.ncbi.nlm.nih.gov/pubchem/compound/CID241)) (**ValueSnak** (**Property** [InChI](http://www.wikidata.org/entity/P234)) \"InChI=1S/C6H6/c1-2-4-6-5-3-1/h1-6H\"))"
      ],
      "text/plain": [
       "Statement(Item(IRI('http://rdf.ncbi.nlm.nih.gov/pubchem/compound/CID241')), ValueSnak(Property(IRI('http://www.wikidata.org/entity/P234'), ExternalIdDatatype()), ExternalId('InChI=1S/C6H6/c1-2-4-6-5-3-1/h1-6H')))"
      ]
     },
     "metadata": {},
     "output_type": "display_data"
    },
    {
     "data": {
      "text/markdown": [
       "(**Statement** (**Item** [benzene](http://rdf.ncbi.nlm.nih.gov/pubchem/compound/CID241)) (**ValueSnak** (**Property** [InChIKey](http://www.wikidata.org/entity/P235)) \"UHOVQNZJYSORNB-UHFFFAOYSA-N\"))"
      ],
      "text/plain": [
       "Statement(Item(IRI('http://rdf.ncbi.nlm.nih.gov/pubchem/compound/CID241')), ValueSnak(Property(IRI('http://www.wikidata.org/entity/P235'), ExternalIdDatatype()), ExternalId('UHOVQNZJYSORNB-UHFFFAOYSA-N')))"
      ]
     },
     "metadata": {},
     "output_type": "display_data"
    },
    {
     "data": {
      "text/markdown": [
       "(**Statement** (**Item** [benzene](http://rdf.ncbi.nlm.nih.gov/pubchem/compound/CID241)) (**ValueSnak** (**Property** [instance of](http://www.wikidata.org/entity/P31)) (**Item** [type of a chemical entity](http://www.wikidata.org/entity/Q113145171))))"
      ],
      "text/plain": [
       "Statement(Item(IRI('http://rdf.ncbi.nlm.nih.gov/pubchem/compound/CID241')), ValueSnak(Property(IRI('http://www.wikidata.org/entity/P31'), ItemDatatype()), Item(IRI('http://www.wikidata.org/entity/Q113145171'))))"
      ]
     },
     "metadata": {},
     "output_type": "display_data"
    },
    {
     "data": {
      "text/markdown": [
       "(**Statement** (**Item** [benzene](http://rdf.ncbi.nlm.nih.gov/pubchem/compound/CID241)) (**ValueSnak** (**Property** [isomeric SMILES](http://www.wikidata.org/entity/P2017)) \"C1=CC=CC=C1\"))"
      ],
      "text/plain": [
       "Statement(Item(IRI('http://rdf.ncbi.nlm.nih.gov/pubchem/compound/CID241')), ValueSnak(Property(IRI('http://www.wikidata.org/entity/P2017'), StringDatatype()), String('C1=CC=CC=C1')))"
      ]
     },
     "metadata": {},
     "output_type": "display_data"
    },
    {
     "data": {
      "text/markdown": [
       "(**Statement** (**Item** [benzene](http://rdf.ncbi.nlm.nih.gov/pubchem/compound/CID241)) (**ValueSnak** (**Property** [isotope atom count](http://semanticscience.org/resource/CHEMINF_000372)) (**Quantity** 0)))"
      ],
      "text/plain": [
       "Statement(Item(IRI('http://rdf.ncbi.nlm.nih.gov/pubchem/compound/CID241')), ValueSnak(Property(IRI('http://semanticscience.org/resource/CHEMINF_000372'), QuantityDatatype()), Quantity(Decimal('0'), None, None, None)))"
      ]
     },
     "metadata": {},
     "output_type": "display_data"
    },
    {
     "data": {
      "text/markdown": [
       "(**Statement** (**Item** [benzene](http://rdf.ncbi.nlm.nih.gov/pubchem/compound/CID241)) (**ValueSnak** (**Property** [IUPAC name](http://semanticscience.org/resource/CHEMINF_000382)) \"\\[6]annulene\"@en))"
      ],
      "text/plain": [
       "Statement(Item(IRI('http://rdf.ncbi.nlm.nih.gov/pubchem/compound/CID241')), ValueSnak(Property(IRI('http://semanticscience.org/resource/CHEMINF_000382'), TextDatatype()), Text('[6]annulene', 'en')))"
      ]
     },
     "metadata": {},
     "output_type": "display_data"
    },
    {
     "data": {
      "text/markdown": [
       "(**Statement** (**Item** [benzene](http://rdf.ncbi.nlm.nih.gov/pubchem/compound/CID241)) (**ValueSnak** (**Property** [mass](http://www.wikidata.org/entity/P2067)) (**Quantity** 78.047 (**Item** [dalton](http://www.wikidata.org/entity/Q483261)))))"
      ],
      "text/plain": [
       "Statement(Item(IRI('http://rdf.ncbi.nlm.nih.gov/pubchem/compound/CID241')), ValueSnak(Property(IRI('http://www.wikidata.org/entity/P2067'), QuantityDatatype()), Quantity(Decimal('78.047'), Item(IRI('http://www.wikidata.org/entity/Q483261')), None, None)))"
      ]
     },
     "metadata": {},
     "output_type": "display_data"
    },
    {
     "data": {
      "text/markdown": [
       "(**Statement** (**Item** [benzene](http://rdf.ncbi.nlm.nih.gov/pubchem/compound/CID241)) (**ValueSnak** (**Property** [manufacturer](http://www.wikidata.org/entity/P176)) (**Item** [AKos Consulting & Solutions](http://rdf.ncbi.nlm.nih.gov/pubchem/source/AKos_Consulting___Solutions))))"
      ],
      "text/plain": [
       "Statement(Item(IRI('http://rdf.ncbi.nlm.nih.gov/pubchem/compound/CID241')), ValueSnak(Property(IRI('http://www.wikidata.org/entity/P176'), ItemDatatype()), Item(IRI('http://rdf.ncbi.nlm.nih.gov/pubchem/source/AKos_Consulting___Solutions'))))"
      ]
     },
     "metadata": {},
     "output_type": "display_data"
    },
    {
     "data": {
      "text/markdown": [
       "(**Statement** (**Item** [benzene](http://rdf.ncbi.nlm.nih.gov/pubchem/compound/CID241)) (**ValueSnak** (**Property** [partition coefficient water/octanol](http://www.wikidata.org/entity/P2993)) (**Quantity** 2.1)))"
      ],
      "text/plain": [
       "Statement(Item(IRI('http://rdf.ncbi.nlm.nih.gov/pubchem/compound/CID241')), ValueSnak(Property(IRI('http://www.wikidata.org/entity/P2993'), QuantityDatatype()), Quantity(Decimal('2.1'), None, None, None)))"
      ]
     },
     "metadata": {},
     "output_type": "display_data"
    },
    {
     "data": {
      "text/markdown": [
       "(**Statement** (**Item** [benzene](http://rdf.ncbi.nlm.nih.gov/pubchem/compound/CID241)) (**ValueSnak** (**Property** [PubChem CID](http://www.wikidata.org/entity/P662)) \"241\"))"
      ],
      "text/plain": [
       "Statement(Item(IRI('http://rdf.ncbi.nlm.nih.gov/pubchem/compound/CID241')), ValueSnak(Property(IRI('http://www.wikidata.org/entity/P662'), ExternalIdDatatype()), ExternalId('241')))"
      ]
     },
     "metadata": {},
     "output_type": "display_data"
    }
   ],
   "source": [
    "import itertools\n",
    "it = list(itertools.chain(*map(f, COMPOUND_PROPERTIES)))\n",
    "display(*it)"
   ]
  },
  {
   "cell_type": "markdown",
   "id": "a850738b-3dbb-496a-b5b3-5f23390538b6",
   "metadata": {},
   "source": [
    "Note that these stmts can be seen as forming a graph about benzene:"
   ]
  },
  {
   "cell_type": "code",
   "execution_count": 12,
   "id": "c0a40b3c-0436-4b4f-8b79-543dd2a87f24",
   "metadata": {},
   "outputs": [
    {
     "data": {
      "image/svg+xml": [
       "<?xml version=\"1.0\" encoding=\"UTF-8\" standalone=\"no\"?>\n",
       "<!DOCTYPE svg PUBLIC \"-//W3C//DTD SVG 1.1//EN\"\n",
       " \"http://www.w3.org/Graphics/SVG/1.1/DTD/svg11.dtd\">\n",
       "<!-- Generated by graphviz version 12.2.1 (20241206.2353)\n",
       " -->\n",
       "<!-- Pages: 1 -->\n",
       "<svg width=\"525pt\" height=\"624pt\"\n",
       " viewBox=\"0.00 0.00 524.75 624.20\" xmlns=\"http://www.w3.org/2000/svg\" xmlns:xlink=\"http://www.w3.org/1999/xlink\">\n",
       "<g id=\"graph0\" class=\"graph\" transform=\"scale(1 1) rotate(0) translate(4 620.2)\">\n",
       "<polygon fill=\"white\" stroke=\"none\" points=\"-4,4 -4,-620.2 520.75,-620.2 520.75,4 -4,4\"/>\n",
       "<!-- 6714cde438d8d4d7a4ffdf6e6c8b8d0b838b765429b53ade168bacfb1722bfcc -->\n",
       "<g id=\"node1\" class=\"node\">\n",
       "<title>6714cde438d8d4d7a4ffdf6e6c8b8d0b838b765429b53ade168bacfb1722bfcc</title>\n",
       "<text text-anchor=\"middle\" x=\"18.38\" y=\"-306.98\" font-family=\"arial\" font-size=\"10.00\">benzene</text>\n",
       "</g>\n",
       "<!-- fc30a851eee11a5b926a456967a07b4dda2c561eb8ab03a0dc09d53721156531 -->\n",
       "<g id=\"node2\" class=\"node\">\n",
       "<title>fc30a851eee11a5b926a456967a07b4dda2c561eb8ab03a0dc09d53721156531</title>\n",
       "<text text-anchor=\"middle\" x=\"361.5\" y=\"-578.98\" font-family=\"arial\" font-size=\"10.00\">0</text>\n",
       "</g>\n",
       "<!-- 6714cde438d8d4d7a4ffdf6e6c8b8d0b838b765429b53ade168bacfb1722bfcc&#45;&gt;fc30a851eee11a5b926a456967a07b4dda2c561eb8ab03a0dc09d53721156531 -->\n",
       "<g id=\"edge1\" class=\"edge\">\n",
       "<title>6714cde438d8d4d7a4ffdf6e6c8b8d0b838b765429b53ade168bacfb1722bfcc&#45;&gt;fc30a851eee11a5b926a456967a07b4dda2c561eb8ab03a0dc09d53721156531</title>\n",
       "<path fill=\"none\" stroke=\"black\" d=\"M19.28,-316.1C18.83,-349.67 18.31,-523.19 54.75,-557.48 141.99,-639.58 311.97,-596.7 351.94,-585.09\"/>\n",
       "<polygon fill=\"black\" stroke=\"black\" points=\"358,-583.26 352.63,-587.94 356.06,-583.85 351.78,-585.14 351.78,-585.14 351.78,-585.14 356.06,-583.85 350.94,-582.34 358,-583.26\"/>\n",
       "<text text-anchor=\"middle\" x=\"121.5\" y=\"-607.65\" font-family=\"arial\" font-size=\"9.00\">isotope atom count</text>\n",
       "</g>\n",
       "<!-- 4904b71fa11e4e369aa85685591b06012ebbac20076ec1f742f33e981012f592 -->\n",
       "<g id=\"node3\" class=\"node\">\n",
       "<title>4904b71fa11e4e369aa85685591b06012ebbac20076ec1f742f33e981012f592</title>\n",
       "<text text-anchor=\"middle\" x=\"361.5\" y=\"-544.98\" font-family=\"arial\" font-size=\"10.00\">&quot;[6]annulene&quot;@en</text>\n",
       "</g>\n",
       "<!-- 6714cde438d8d4d7a4ffdf6e6c8b8d0b838b765429b53ade168bacfb1722bfcc&#45;&gt;4904b71fa11e4e369aa85685591b06012ebbac20076ec1f742f33e981012f592 -->\n",
       "<g id=\"edge2\" class=\"edge\">\n",
       "<title>6714cde438d8d4d7a4ffdf6e6c8b8d0b838b765429b53ade168bacfb1722bfcc&#45;&gt;4904b71fa11e4e369aa85685591b06012ebbac20076ec1f742f33e981012f592</title>\n",
       "<path fill=\"none\" stroke=\"black\" d=\"M19.42,-316.12C19.78,-346.91 23.17,-494.41 54.75,-523.48 73.45,-540.69 234.19,-546.13 314.8,-547.79\"/>\n",
       "<polygon fill=\"black\" stroke=\"black\" points=\"321.12,-547.91 314.57,-550.71 319.09,-547.87 314.62,-547.78 314.62,-547.78 314.62,-547.78 319.09,-547.87 314.68,-544.86 321.12,-547.91\"/>\n",
       "<text text-anchor=\"middle\" x=\"121.5\" y=\"-544.74\" font-family=\"arial\" font-size=\"9.00\">IUPAC name</text>\n",
       "</g>\n",
       "<!-- 7dd50331010d814b83a63434013596f1eb807bec7102e8d8dfaab7dc1c0fd5b1 -->\n",
       "<g id=\"node4\" class=\"node\">\n",
       "<title>7dd50331010d814b83a63434013596f1eb807bec7102e8d8dfaab7dc1c0fd5b1</title>\n",
       "<text text-anchor=\"middle\" x=\"361.5\" y=\"-510.98\" font-family=\"arial\" font-size=\"10.00\">Certain 1, 4, 5&#45;Tri&#45;substituted imidazole compounds useful as cytokine.</text>\n",
       "</g>\n",
       "<!-- 6714cde438d8d4d7a4ffdf6e6c8b8d0b838b765429b53ade168bacfb1722bfcc&#45;&gt;7dd50331010d814b83a63434013596f1eb807bec7102e8d8dfaab7dc1c0fd5b1 -->\n",
       "<g id=\"edge3\" class=\"edge\">\n",
       "<title>6714cde438d8d4d7a4ffdf6e6c8b8d0b838b765429b53ade168bacfb1722bfcc&#45;&gt;7dd50331010d814b83a63434013596f1eb807bec7102e8d8dfaab7dc1c0fd5b1</title>\n",
       "<path fill=\"none\" stroke=\"black\" d=\"M19.61,-316.33C20.88,-344.58 27.87,-466.55 54.75,-490.48 66.43,-500.88 131.77,-506.79 199.06,-510.14\"/>\n",
       "<polygon fill=\"black\" stroke=\"black\" points=\"205.21,-510.43 198.57,-513.04 203.18,-510.34 198.71,-510.12 198.71,-510.12 198.71,-510.12 203.18,-510.34 198.85,-507.2 205.21,-510.43\"/>\n",
       "<text text-anchor=\"middle\" x=\"121.5\" y=\"-511.18\" font-family=\"arial\" font-size=\"9.00\">described by source</text>\n",
       "</g>\n",
       "<!-- d9c813aba7692fc85b358ccb777ee06c8db23ca14c781c425c31440f0d37dbe3 -->\n",
       "<g id=\"node5\" class=\"node\">\n",
       "<title>d9c813aba7692fc85b358ccb777ee06c8db23ca14c781c425c31440f0d37dbe3</title>\n",
       "<text text-anchor=\"middle\" x=\"361.5\" y=\"-476.98\" font-family=\"arial\" font-size=\"10.00\">AKos Consulting &amp; Solutions</text>\n",
       "</g>\n",
       "<!-- 6714cde438d8d4d7a4ffdf6e6c8b8d0b838b765429b53ade168bacfb1722bfcc&#45;&gt;d9c813aba7692fc85b358ccb777ee06c8db23ca14c781c425c31440f0d37dbe3 -->\n",
       "<g id=\"edge4\" class=\"edge\">\n",
       "<title>6714cde438d8d4d7a4ffdf6e6c8b8d0b838b765429b53ade168bacfb1722bfcc&#45;&gt;d9c813aba7692fc85b358ccb777ee06c8db23ca14c781c425c31440f0d37dbe3</title>\n",
       "<path fill=\"none\" stroke=\"black\" d=\"M19.87,-316.27C22.12,-341.26 32.3,-439.41 54.75,-458.48 72.32,-473.4 206.17,-478.2 290.85,-479.75\"/>\n",
       "<polygon fill=\"black\" stroke=\"black\" points=\"297.16,-479.86 290.61,-482.67 295.13,-479.82 290.66,-479.74 290.66,-479.74 290.66,-479.74 295.13,-479.82 290.71,-476.82 297.16,-479.86\"/>\n",
       "<text text-anchor=\"middle\" x=\"121.5\" y=\"-478.16\" font-family=\"arial\" font-size=\"9.00\">manufacturer</text>\n",
       "</g>\n",
       "<!-- ee8b8a718374ee019a8cd19e0075d41e68d7cf51ac332bbf7a726c351fcde3ad -->\n",
       "<g id=\"node6\" class=\"node\">\n",
       "<title>ee8b8a718374ee019a8cd19e0075d41e68d7cf51ac332bbf7a726c351fcde3ad</title>\n",
       "<text text-anchor=\"middle\" x=\"361.5\" y=\"-425.98\" font-family=\"arial\" font-size=\"10.00\">&quot;C1=CC=CC=C1&quot;</text>\n",
       "</g>\n",
       "<!-- 6714cde438d8d4d7a4ffdf6e6c8b8d0b838b765429b53ade168bacfb1722bfcc&#45;&gt;ee8b8a718374ee019a8cd19e0075d41e68d7cf51ac332bbf7a726c351fcde3ad -->\n",
       "<g id=\"edge5\" class=\"edge\">\n",
       "<title>6714cde438d8d4d7a4ffdf6e6c8b8d0b838b765429b53ade168bacfb1722bfcc&#45;&gt;ee8b8a718374ee019a8cd19e0075d41e68d7cf51ac332bbf7a726c351fcde3ad</title>\n",
       "<path fill=\"none\" stroke=\"black\" d=\"M19.06,-316.26C18.38,-335.51 19.1,-397.76 54.75,-424.48 94.33,-454.14 238.3,-443.27 313.71,-435.16\"/>\n",
       "<polygon fill=\"black\" stroke=\"black\" points=\"320.02,-434.47 313.87,-438.08 318,-434.69 313.56,-435.17 313.56,-435.17 313.56,-435.17 318,-434.69 313.24,-432.27 320.02,-434.47\"/>\n",
       "<text text-anchor=\"middle\" x=\"121.5\" y=\"-445.93\" font-family=\"arial\" font-size=\"9.00\">isomeric SMILES</text>\n",
       "</g>\n",
       "<!-- 6714cde438d8d4d7a4ffdf6e6c8b8d0b838b765429b53ade168bacfb1722bfcc&#45;&gt;ee8b8a718374ee019a8cd19e0075d41e68d7cf51ac332bbf7a726c351fcde3ad -->\n",
       "<g id=\"edge8\" class=\"edge\">\n",
       "<title>6714cde438d8d4d7a4ffdf6e6c8b8d0b838b765429b53ade168bacfb1722bfcc&#45;&gt;ee8b8a718374ee019a8cd19e0075d41e68d7cf51ac332bbf7a726c351fcde3ad</title>\n",
       "<path fill=\"none\" stroke=\"black\" d=\"M20.03,-316.3C22.05,-331.37 29.67,-371.78 54.75,-390.48 65.01,-398.13 230.63,-416.12 313.72,-424.73\"/>\n",
       "<polygon fill=\"black\" stroke=\"black\" points=\"320.04,-425.38 313.28,-427.62 318.02,-425.17 313.58,-424.71 313.58,-424.71 313.58,-424.71 318.02,-425.17 313.88,-421.8 320.04,-425.38\"/>\n",
       "<text text-anchor=\"middle\" x=\"121.5\" y=\"-412.67\" font-family=\"arial\" font-size=\"9.00\">canonical SMILES</text>\n",
       "</g>\n",
       "<!-- 91c6569949f2306b5f25ceb4669f409680148cde7f0019a3146008237684063d -->\n",
       "<g id=\"node7\" class=\"node\">\n",
       "<title>91c6569949f2306b5f25ceb4669f409680148cde7f0019a3146008237684063d</title>\n",
       "<text text-anchor=\"middle\" x=\"361.5\" y=\"-374.98\" font-family=\"arial\" font-size=\"10.00\">78.047 dalton</text>\n",
       "</g>\n",
       "<!-- 6714cde438d8d4d7a4ffdf6e6c8b8d0b838b765429b53ade168bacfb1722bfcc&#45;&gt;91c6569949f2306b5f25ceb4669f409680148cde7f0019a3146008237684063d -->\n",
       "<g id=\"edge6\" class=\"edge\">\n",
       "<title>6714cde438d8d4d7a4ffdf6e6c8b8d0b838b765429b53ade168bacfb1722bfcc&#45;&gt;91c6569949f2306b5f25ceb4669f409680148cde7f0019a3146008237684063d</title>\n",
       "<path fill=\"none\" stroke=\"black\" d=\"M22.09,-316.32C27.02,-326.18 38.46,-345.87 54.75,-354.48 100.74,-378.77 254.63,-379.96 324.92,-379.17\"/>\n",
       "<polygon fill=\"black\" stroke=\"black\" points=\"331.05,-379.09 324.59,-382.1 329.02,-379.11 324.55,-379.17 324.55,-379.17 324.55,-379.17 329.02,-379.11 324.51,-376.25 331.05,-379.09\"/>\n",
       "<text text-anchor=\"middle\" x=\"121.5\" y=\"-378.14\" font-family=\"arial\" font-size=\"9.00\">mass</text>\n",
       "</g>\n",
       "<!-- 6828a1274b2c47800783d66f2c2c861941d5c80960e7e672fbfb10874ce5e9cf -->\n",
       "<g id=\"node8\" class=\"node\">\n",
       "<title>6828a1274b2c47800783d66f2c2c861941d5c80960e7e672fbfb10874ce5e9cf</title>\n",
       "<text text-anchor=\"middle\" x=\"361.5\" y=\"-340.98\" font-family=\"arial\" font-size=\"10.00\">&quot;25053&#45;22&#45;9&quot;</text>\n",
       "</g>\n",
       "<!-- 6714cde438d8d4d7a4ffdf6e6c8b8d0b838b765429b53ade168bacfb1722bfcc&#45;&gt;6828a1274b2c47800783d66f2c2c861941d5c80960e7e672fbfb10874ce5e9cf -->\n",
       "<g id=\"edge7\" class=\"edge\">\n",
       "<title>6714cde438d8d4d7a4ffdf6e6c8b8d0b838b765429b53ade168bacfb1722bfcc&#45;&gt;6828a1274b2c47800783d66f2c2c861941d5c80960e7e672fbfb10874ce5e9cf</title>\n",
       "<path fill=\"none\" stroke=\"black\" d=\"M33.95,-316.36C40.24,-318.65 47.76,-321.07 54.75,-322.48 151.9,-342.11 269.52,-344.82 326.4,-344.84\"/>\n",
       "<polygon fill=\"black\" stroke=\"black\" points=\"332.8,-344.83 326.31,-347.77 330.77,-344.83 326.3,-344.84 326.3,-344.84 326.3,-344.84 330.77,-344.83 326.3,-341.92 332.8,-344.83\"/>\n",
       "<text text-anchor=\"middle\" x=\"121.5\" y=\"-341.73\" font-family=\"arial\" font-size=\"9.00\">CAS Registry Number</text>\n",
       "</g>\n",
       "<!-- 8911909782acebf718554895ec12fb4a33e3d789203a249a958d5d836856210b -->\n",
       "<g id=\"node9\" class=\"node\">\n",
       "<title>8911909782acebf718554895ec12fb4a33e3d789203a249a958d5d836856210b</title>\n",
       "<text text-anchor=\"middle\" x=\"361.5\" y=\"-306.98\" font-family=\"arial\" font-size=\"10.00\">&quot;InChI=1S/C6H6/c1&#45;2&#45;4&#45;6&#45;5&#45;3&#45;1/h1&#45;6H&quot;</text>\n",
       "</g>\n",
       "<!-- 6714cde438d8d4d7a4ffdf6e6c8b8d0b838b765429b53ade168bacfb1722bfcc&#45;&gt;8911909782acebf718554895ec12fb4a33e3d789203a249a958d5d836856210b -->\n",
       "<g id=\"edge9\" class=\"edge\">\n",
       "<title>6714cde438d8d4d7a4ffdf6e6c8b8d0b838b765429b53ade168bacfb1722bfcc&#45;&gt;8911909782acebf718554895ec12fb4a33e3d789203a249a958d5d836856210b</title>\n",
       "<path fill=\"none\" stroke=\"black\" d=\"M36.29,-310.48C78.03,-310.48 188.37,-310.48 268.76,-310.48\"/>\n",
       "<polygon fill=\"black\" stroke=\"black\" points=\"275.23,-310.48 268.73,-313.4 273.2,-310.48 268.73,-310.48 268.73,-310.48 268.73,-310.48 273.2,-310.48 268.73,-307.55 275.23,-310.48\"/>\n",
       "<text text-anchor=\"middle\" x=\"121.5\" y=\"-312.43\" font-family=\"arial\" font-size=\"9.00\">InChI</text>\n",
       "</g>\n",
       "<!-- a1ade408fdbb50af9f433a72a66c86807550a751d6e8916fd8f9d30c99725b8c -->\n",
       "<g id=\"node10\" class=\"node\">\n",
       "<title>a1ade408fdbb50af9f433a72a66c86807550a751d6e8916fd8f9d30c99725b8c</title>\n",
       "<text text-anchor=\"middle\" x=\"361.5\" y=\"-272.98\" font-family=\"arial\" font-size=\"10.00\">&quot;UHOVQNZJYSORNB&#45;UHFFFAOYSA&#45;N&quot;</text>\n",
       "</g>\n",
       "<!-- 6714cde438d8d4d7a4ffdf6e6c8b8d0b838b765429b53ade168bacfb1722bfcc&#45;&gt;a1ade408fdbb50af9f433a72a66c86807550a751d6e8916fd8f9d30c99725b8c -->\n",
       "<g id=\"edge10\" class=\"edge\">\n",
       "<title>6714cde438d8d4d7a4ffdf6e6c8b8d0b838b765429b53ade168bacfb1722bfcc&#45;&gt;a1ade408fdbb50af9f433a72a66c86807550a751d6e8916fd8f9d30c99725b8c</title>\n",
       "<path fill=\"none\" stroke=\"black\" d=\"M31.17,-304.51C37.9,-301.4 46.6,-297.86 54.75,-295.98 122.48,-280.38 200.72,-275.63 261.1,-274.71\"/>\n",
       "<polygon fill=\"black\" stroke=\"black\" points=\"267.52,-274.63 261.06,-277.63 265.49,-274.65 261.03,-274.71 261.03,-274.71 261.03,-274.71 265.49,-274.65 260.99,-271.78 267.52,-274.63\"/>\n",
       "<text text-anchor=\"middle\" x=\"121.5\" y=\"-297.93\" font-family=\"arial\" font-size=\"9.00\">InChIKey</text>\n",
       "</g>\n",
       "<!-- 02c840b85f2da3b4713c54a0b4421c7f051c0e02c58a8cf575c637bf7d7494c9 -->\n",
       "<g id=\"node11\" class=\"node\">\n",
       "<title>02c840b85f2da3b4713c54a0b4421c7f051c0e02c58a8cf575c637bf7d7494c9</title>\n",
       "<text text-anchor=\"middle\" x=\"361.5\" y=\"-238.98\" font-family=\"arial\" font-size=\"10.00\">&quot;C₆H₆&quot;</text>\n",
       "</g>\n",
       "<!-- 6714cde438d8d4d7a4ffdf6e6c8b8d0b838b765429b53ade168bacfb1722bfcc&#45;&gt;02c840b85f2da3b4713c54a0b4421c7f051c0e02c58a8cf575c637bf7d7494c9 -->\n",
       "<g id=\"edge11\" class=\"edge\">\n",
       "<title>6714cde438d8d4d7a4ffdf6e6c8b8d0b838b765429b53ade168bacfb1722bfcc&#45;&gt;02c840b85f2da3b4713c54a0b4421c7f051c0e02c58a8cf575c637bf7d7494c9</title>\n",
       "<path fill=\"none\" stroke=\"black\" d=\"M21.8,-304.5C26.42,-293.96 37.59,-272.32 54.75,-262.98 149.4,-211.42 285.74,-228.63 338.49,-238.05\"/>\n",
       "<polygon fill=\"black\" stroke=\"black\" points=\"344.74,-239.21 337.82,-240.9 342.75,-238.84 338.35,-238.03 338.35,-238.03 338.35,-238.03 342.75,-238.84 338.89,-235.15 344.74,-239.21\"/>\n",
       "<text text-anchor=\"middle\" x=\"121.5\" y=\"-264.93\" font-family=\"arial\" font-size=\"9.00\">chemical formula</text>\n",
       "</g>\n",
       "<!-- 7c11bf1edfa509936e24b80abd6acb3ba9da409f064b56cf6e680964f1ff6212 -->\n",
       "<g id=\"node12\" class=\"node\">\n",
       "<title>7c11bf1edfa509936e24b80abd6acb3ba9da409f064b56cf6e680964f1ff6212</title>\n",
       "<text text-anchor=\"middle\" x=\"361.5\" y=\"-204.98\" font-family=\"arial\" font-size=\"10.00\">2.1</text>\n",
       "</g>\n",
       "<!-- 6714cde438d8d4d7a4ffdf6e6c8b8d0b838b765429b53ade168bacfb1722bfcc&#45;&gt;7c11bf1edfa509936e24b80abd6acb3ba9da409f064b56cf6e680964f1ff6212 -->\n",
       "<g id=\"edge12\" class=\"edge\">\n",
       "<title>6714cde438d8d4d7a4ffdf6e6c8b8d0b838b765429b53ade168bacfb1722bfcc&#45;&gt;7c11bf1edfa509936e24b80abd6acb3ba9da409f064b56cf6e680964f1ff6212</title>\n",
       "<path fill=\"none\" stroke=\"black\" d=\"M19.44,-304.91C19.99,-287.94 24.21,-236.72 54.75,-214.98 102.48,-181 295.18,-200.78 347.39,-206.88\"/>\n",
       "<polygon fill=\"black\" stroke=\"black\" points=\"353.55,-207.61 346.75,-209.75 351.53,-207.37 347.1,-206.84 347.1,-206.84 347.1,-206.84 351.53,-207.37 347.44,-203.94 353.55,-207.61\"/>\n",
       "<text text-anchor=\"middle\" x=\"121.5\" y=\"-216.93\" font-family=\"arial\" font-size=\"9.00\">partition coefficient water/octanol</text>\n",
       "</g>\n",
       "<!-- 5d01279a2b87fc4c92c9604a698e3c28f1517d306022407e3ee21844005a4e53 -->\n",
       "<g id=\"node13\" class=\"node\">\n",
       "<title>5d01279a2b87fc4c92c9604a698e3c28f1517d306022407e3ee21844005a4e53</title>\n",
       "<text text-anchor=\"middle\" x=\"361.5\" y=\"-170.98\" font-family=\"arial\" font-size=\"10.00\">type of a chemical entity</text>\n",
       "</g>\n",
       "<!-- 6714cde438d8d4d7a4ffdf6e6c8b8d0b838b765429b53ade168bacfb1722bfcc&#45;&gt;5d01279a2b87fc4c92c9604a698e3c28f1517d306022407e3ee21844005a4e53 -->\n",
       "<g id=\"edge13\" class=\"edge\">\n",
       "<title>6714cde438d8d4d7a4ffdf6e6c8b8d0b838b765429b53ade168bacfb1722bfcc&#45;&gt;5d01279a2b87fc4c92c9604a698e3c28f1517d306022407e3ee21844005a4e53</title>\n",
       "<path fill=\"none\" stroke=\"black\" d=\"M20.04,-304.77C22.84,-281.82 34.45,-196.82 54.75,-180.98 91.9,-151.98 224.55,-160.08 302.39,-167.76\"/>\n",
       "<polygon fill=\"black\" stroke=\"black\" points=\"308.54,-168.38 301.78,-170.64 306.52,-168.18 302.07,-167.73 302.07,-167.73 302.07,-167.73 306.52,-168.18 302.36,-164.82 308.54,-168.38\"/>\n",
       "<text text-anchor=\"middle\" x=\"121.5\" y=\"-182.93\" font-family=\"arial\" font-size=\"9.00\">instance of</text>\n",
       "</g>\n",
       "<!-- 56a55e4526ed4bcdc80148dc4a43e0a050170ad1a8675fd4c96ac19df858441c -->\n",
       "<g id=\"node14\" class=\"node\">\n",
       "<title>56a55e4526ed4bcdc80148dc4a43e0a050170ad1a8675fd4c96ac19df858441c</title>\n",
       "<text text-anchor=\"middle\" x=\"361.5\" y=\"-136.98\" font-family=\"arial\" font-size=\"10.00\">pc:CID10020804</text>\n",
       "</g>\n",
       "<!-- 6714cde438d8d4d7a4ffdf6e6c8b8d0b838b765429b53ade168bacfb1722bfcc&#45;&gt;56a55e4526ed4bcdc80148dc4a43e0a050170ad1a8675fd4c96ac19df858441c -->\n",
       "<g id=\"edge14\" class=\"edge\">\n",
       "<title>6714cde438d8d4d7a4ffdf6e6c8b8d0b838b765429b53ade168bacfb1722bfcc&#45;&gt;56a55e4526ed4bcdc80148dc4a43e0a050170ad1a8675fd4c96ac19df858441c</title>\n",
       "<path fill=\"none\" stroke=\"black\" d=\"M19.69,-304.74C21.28,-278.11 29.37,-166.86 54.75,-145.98 93.64,-113.98 242.83,-126.39 317.46,-134.96\"/>\n",
       "<polygon fill=\"black\" stroke=\"black\" points=\"323.67,-135.69 316.88,-137.84 321.65,-135.45 317.22,-134.93 317.22,-134.93 317.22,-134.93 321.65,-135.45 317.56,-132.03 323.67,-135.69\"/>\n",
       "<text text-anchor=\"middle\" x=\"121.5\" y=\"-147.93\" font-family=\"arial\" font-size=\"9.00\">part of</text>\n",
       "</g>\n",
       "<!-- dbafcc04d15237690e65899180b06311fae57389b03922a8c21af56e97fa6a83 -->\n",
       "<g id=\"node15\" class=\"node\">\n",
       "<title>dbafcc04d15237690e65899180b06311fae57389b03922a8c21af56e97fa6a83</title>\n",
       "<text text-anchor=\"middle\" x=\"361.5\" y=\"-102.98\" font-family=\"arial\" font-size=\"10.00\">&quot;CHEMBL277500&quot;</text>\n",
       "</g>\n",
       "<!-- 6714cde438d8d4d7a4ffdf6e6c8b8d0b838b765429b53ade168bacfb1722bfcc&#45;&gt;dbafcc04d15237690e65899180b06311fae57389b03922a8c21af56e97fa6a83 -->\n",
       "<g id=\"edge15\" class=\"edge\">\n",
       "<title>6714cde438d8d4d7a4ffdf6e6c8b8d0b838b765429b53ade168bacfb1722bfcc&#45;&gt;dbafcc04d15237690e65899180b06311fae57389b03922a8c21af56e97fa6a83</title>\n",
       "<path fill=\"none\" stroke=\"black\" d=\"M19.46,-304.77C20.01,-274.91 24.21,-136.97 54.75,-110.98 92.47,-78.88 237.64,-91.18 313.58,-100.21\"/>\n",
       "<polygon fill=\"black\" stroke=\"black\" points=\"319.94,-100.98 313.14,-103.11 317.93,-100.74 313.49,-100.2 313.49,-100.2 313.49,-100.2 317.93,-100.74 313.84,-97.3 319.94,-100.98\"/>\n",
       "<text text-anchor=\"middle\" x=\"121.5\" y=\"-112.93\" font-family=\"arial\" font-size=\"9.00\">ChEMBL ID</text>\n",
       "</g>\n",
       "<!-- 69f1dd04031409b3eca5a2a762e0ce0afa8fd6dbbed3a91bce681e3c712b049b -->\n",
       "<g id=\"node16\" class=\"node\">\n",
       "<title>69f1dd04031409b3eca5a2a762e0ce0afa8fd6dbbed3a91bce681e3c712b049b</title>\n",
       "<text text-anchor=\"middle\" x=\"361.5\" y=\"-68.98\" font-family=\"arial\" font-size=\"10.00\">&quot;241&quot;</text>\n",
       "</g>\n",
       "<!-- 6714cde438d8d4d7a4ffdf6e6c8b8d0b838b765429b53ade168bacfb1722bfcc&#45;&gt;69f1dd04031409b3eca5a2a762e0ce0afa8fd6dbbed3a91bce681e3c712b049b -->\n",
       "<g id=\"edge16\" class=\"edge\">\n",
       "<title>6714cde438d8d4d7a4ffdf6e6c8b8d0b838b765429b53ade168bacfb1722bfcc&#45;&gt;69f1dd04031409b3eca5a2a762e0ce0afa8fd6dbbed3a91bce681e3c712b049b</title>\n",
       "<path fill=\"none\" stroke=\"black\" d=\"M19.29,-304.68C18.94,-271.58 19.04,-107.07 54.75,-75.98 97.77,-38.53 284.01,-61.49 342.71,-69.82\"/>\n",
       "<polygon fill=\"black\" stroke=\"black\" points=\"348.91,-70.72 342.06,-72.68 346.9,-70.43 342.48,-69.79 342.48,-69.79 342.48,-69.79 346.9,-70.43 342.9,-66.9 348.91,-70.72\"/>\n",
       "<text text-anchor=\"middle\" x=\"121.5\" y=\"-77.93\" font-family=\"arial\" font-size=\"9.00\">PubChem CID</text>\n",
       "</g>\n",
       "<!-- 700e0e1969233816cd3ef8d7819186feaf76f4b1e6d4143c5204de6fea90f4b9 -->\n",
       "<g id=\"node17\" class=\"node\">\n",
       "<title>700e0e1969233816cd3ef8d7819186feaf76f4b1e6d4143c5204de6fea90f4b9</title>\n",
       "<text text-anchor=\"middle\" x=\"361.5\" y=\"-34.98\" font-family=\"arial\" font-size=\"10.00\">&quot;16716&quot;</text>\n",
       "</g>\n",
       "<!-- 6714cde438d8d4d7a4ffdf6e6c8b8d0b838b765429b53ade168bacfb1722bfcc&#45;&gt;700e0e1969233816cd3ef8d7819186feaf76f4b1e6d4143c5204de6fea90f4b9 -->\n",
       "<g id=\"edge17\" class=\"edge\">\n",
       "<title>6714cde438d8d4d7a4ffdf6e6c8b8d0b838b765429b53ade168bacfb1722bfcc&#45;&gt;700e0e1969233816cd3ef8d7819186feaf76f4b1e6d4143c5204de6fea90f4b9</title>\n",
       "<path fill=\"none\" stroke=\"black\" d=\"M19.17,-304.77C18.01,-269.12 13.75,-77.25 54.75,-40.98 136.01,30.91 282.41,-10.4 338.14,-29.98\"/>\n",
       "<polygon fill=\"black\" stroke=\"black\" points=\"344.24,-32.17 337.13,-32.72 342.32,-31.48 338.12,-29.97 338.12,-29.97 338.12,-29.97 342.32,-31.48 339.11,-27.22 344.24,-32.17\"/>\n",
       "<text text-anchor=\"middle\" x=\"121.5\" y=\"-42.93\" font-family=\"arial\" font-size=\"9.00\">ChEBI ID</text>\n",
       "</g>\n",
       "</g>\n",
       "</svg>\n"
      ],
      "text/plain": [
       "<graphviz.graphs.Digraph at 0x1070556a0>"
      ]
     },
     "execution_count": 12,
     "metadata": {},
     "output_type": "execute_result"
    }
   ],
   "source": [
    "Graph(*it).to_graphviz()"
   ]
  },
  {
   "cell_type": "markdown",
   "id": "549e24b7-4f6c-48ad-80f0-2c10e05de138",
   "metadata": {},
   "source": [
    "Another example: Lists the mass of some compounds whose chemical formula is H2O (*with annotations*):"
   ]
  },
  {
   "cell_type": "code",
   "execution_count": 13,
   "id": "16cb7c9d-1b4d-43a9-a1d5-cb2983506fff",
   "metadata": {},
   "outputs": [
    {
     "data": {
      "text/markdown": [
       "(**AnnotatedStatement** (**Item** [oxygen-15 atom](http://rdf.ncbi.nlm.nih.gov/pubchem/compound/CID10129877)) (**ValueSnak** (**Property** [mass](http://www.wikidata.org/entity/P2067)) (**Quantity** 17.0187 (**Item** [dalton](http://www.wikidata.org/entity/Q483261))))\n",
       "- (**QualifierRecord**)\n",
       "- (**ReferenceRecordSet**)\n",
       "- **NormalRank**)"
      ],
      "text/plain": [
       "AnnotatedStatement(Item(IRI('http://rdf.ncbi.nlm.nih.gov/pubchem/compound/CID10129877')), ValueSnak(Property(IRI('http://www.wikidata.org/entity/P2067'), QuantityDatatype()), Quantity(Decimal('17.0187'), Item(IRI('http://www.wikidata.org/entity/Q483261')), None, None)), QualifierRecord(), ReferenceRecordSet(), NormalRank())"
      ]
     },
     "metadata": {},
     "output_type": "display_data"
    },
    {
     "data": {
      "text/markdown": [
       "(**AnnotatedStatement** (**Item** [oxygen-17 atom](http://rdf.ncbi.nlm.nih.gov/pubchem/compound/CID10197601)) (**ValueSnak** (**Property** [mass](http://www.wikidata.org/entity/P2067)) (**Quantity** 19.0148 (**Item** [dalton](http://www.wikidata.org/entity/Q483261))))\n",
       "- (**QualifierRecord**)\n",
       "- (**ReferenceRecordSet**)\n",
       "- **NormalRank**)"
      ],
      "text/plain": [
       "AnnotatedStatement(Item(IRI('http://rdf.ncbi.nlm.nih.gov/pubchem/compound/CID10197601')), ValueSnak(Property(IRI('http://www.wikidata.org/entity/P2067'), QuantityDatatype()), Quantity(Decimal('19.0148'), Item(IRI('http://www.wikidata.org/entity/Q483261')), None, None)), QualifierRecord(), ReferenceRecordSet(), NormalRank())"
      ]
     },
     "metadata": {},
     "output_type": "display_data"
    },
    {
     "data": {
      "text/markdown": [
       "(**AnnotatedStatement** (**Item** [oxygen-16 atom](http://rdf.ncbi.nlm.nih.gov/pubchem/compound/CID10214376)) (**ValueSnak** (**Property** [mass](http://www.wikidata.org/entity/P2067)) (**Quantity** 18.0106 (**Item** [dalton](http://www.wikidata.org/entity/Q483261))))\n",
       "- (**QualifierRecord**)\n",
       "- (**ReferenceRecordSet**)\n",
       "- **NormalRank**)"
      ],
      "text/plain": [
       "AnnotatedStatement(Item(IRI('http://rdf.ncbi.nlm.nih.gov/pubchem/compound/CID10214376')), ValueSnak(Property(IRI('http://www.wikidata.org/entity/P2067'), QuantityDatatype()), Quantity(Decimal('18.0106'), Item(IRI('http://www.wikidata.org/entity/Q483261')), None, None)), QualifierRecord(), ReferenceRecordSet(), NormalRank())"
      ]
     },
     "metadata": {},
     "output_type": "display_data"
    }
   ],
   "source": [
    "it = kb.filter(subject=wd.chemical_formula('H2O'), property=wd.mass, annotated=True)\n",
    "display(*it)"
   ]
  },
  {
   "cell_type": "markdown",
   "id": "fb206a29-e3bf-4855-bafc-1eecfdbfcddd",
   "metadata": {},
   "source": [
    "## Patents"
   ]
  },
  {
   "cell_type": "code",
   "execution_count": 14,
   "id": "0eced125-bd37-4c17-847a-9fd591f203bd",
   "metadata": {},
   "outputs": [],
   "source": [
    "PATENT_PROPERTIES = [\n",
    "    wd.author_name_string,\n",
    "    wd.instance_of,\n",
    "    wd.main_subject,\n",
    "    wd.patent_number,\n",
    "    wd.publication_date,\n",
    "    wd.sponsor,\n",
    "    wd.title,\n",
    "]"
   ]
  },
  {
   "cell_type": "code",
   "execution_count": 15,
   "id": "bc0dd037-22d9-4fc3-a288-4fe31423f5ce",
   "metadata": {},
   "outputs": [
    {
     "data": {
      "text/markdown": [
       "|#|property|description|\n",
       "|-|-|-|\n",
       "|1|[author name string](http://www.wikidata.org/entity/P2093)|stores unspecified author or editor name for publications; use if Wikidata item for author (P50) or editor (P98) does not exist or is not known. Do not use both.|\n",
       "|2|[instance of](http://www.wikidata.org/entity/P31)|type to which this subject corresponds/belongs. Different from P279 (subclass of); for example: K2 is an instance of mountain; volcanoes form a subclass of mountains, and the volcano is a type (instance) of volcanic landform|\n",
       "|3|[main subject](http://www.wikidata.org/entity/P921)|primary topic of a work|\n",
       "|4|[patent number](http://www.wikidata.org/entity/P1246)|identifier for a patented invention|\n",
       "|5|[publication date](http://www.wikidata.org/entity/P577)|date or point in time when a work was first published or released|\n",
       "|6|[sponsor](http://www.wikidata.org/entity/P859)|organization or individual that sponsors this item|\n",
       "|7|[title](http://www.wikidata.org/entity/P1476)|published name of a work, such as a newspaper article, a literary work, piece of music, a website, or a performance work|"
      ]
     },
     "metadata": {},
     "output_type": "display_data"
    }
   ],
   "source": [
    "show.property_table(PATENT_PROPERTIES)"
   ]
  },
  {
   "cell_type": "markdown",
   "id": "01c4db26-3f85-491f-bdd8-29e8da247199",
   "metadata": {},
   "source": [
    "Lists some of the values of these properties for AU-2012245199-A1:"
   ]
  },
  {
   "cell_type": "code",
   "execution_count": 16,
   "id": "c3c6b4e1-94b6-44ae-bf7f-02d2bd43efb1",
   "metadata": {},
   "outputs": [
    {
     "data": {
      "image/svg+xml": [
       "<?xml version=\"1.0\" encoding=\"UTF-8\" standalone=\"no\"?>\n",
       "<!DOCTYPE svg PUBLIC \"-//W3C//DTD SVG 1.1//EN\"\n",
       " \"http://www.w3.org/Graphics/SVG/1.1/DTD/svg11.dtd\">\n",
       "<!-- Generated by graphviz version 12.2.1 (20241206.2353)\n",
       " -->\n",
       "<!-- Pages: 1 -->\n",
       "<svg width=\"799pt\" height=\"190pt\"\n",
       " viewBox=\"0.00 0.00 798.50 190.00\" xmlns=\"http://www.w3.org/2000/svg\" xmlns:xlink=\"http://www.w3.org/1999/xlink\">\n",
       "<g id=\"graph0\" class=\"graph\" transform=\"scale(1 1) rotate(0) translate(4 186)\">\n",
       "<polygon fill=\"white\" stroke=\"none\" points=\"-4,4 -4,-186 794.5,-186 794.5,4 -4,4\"/>\n",
       "<!-- e68bfd07ae3ca2e44cb4849724e18089cd74ea9d743b280536b093547d9bab9b -->\n",
       "<g id=\"node1\" class=\"node\">\n",
       "<title>e68bfd07ae3ca2e44cb4849724e18089cd74ea9d743b280536b093547d9bab9b</title>\n",
       "<text text-anchor=\"middle\" x=\"162.38\" y=\"-87.5\" font-family=\"arial\" font-size=\"10.00\">Production of aromatics from noncatalytically cracked fatty acid based oils</text>\n",
       "</g>\n",
       "<!-- 4f046549577e880a250b083f8050ff960fbe5e6a9976d1d48160d19ef1ef8dc1 -->\n",
       "<g id=\"node2\" class=\"node\">\n",
       "<title>4f046549577e880a250b083f8050ff960fbe5e6a9976d1d48160d19ef1ef8dc1</title>\n",
       "<text text-anchor=\"middle\" x=\"613.88\" y=\"-172.5\" font-family=\"arial\" font-size=\"10.00\">&quot;AU&#45;2012245199&#45;A1&quot;</text>\n",
       "</g>\n",
       "<!-- e68bfd07ae3ca2e44cb4849724e18089cd74ea9d743b280536b093547d9bab9b&#45;&gt;4f046549577e880a250b083f8050ff960fbe5e6a9976d1d48160d19ef1ef8dc1 -->\n",
       "<g id=\"edge1\" class=\"edge\">\n",
       "<title>e68bfd07ae3ca2e44cb4849724e18089cd74ea9d743b280536b093547d9bab9b&#45;&gt;4f046549577e880a250b083f8050ff960fbe5e6a9976d1d48160d19ef1ef8dc1</title>\n",
       "<path fill=\"none\" stroke=\"black\" d=\"M183.08,-96.95C227.8,-110.19 340.58,-142.08 437.25,-157 478.56,-163.37 525.67,-168.35 560.69,-171.6\"/>\n",
       "<polygon fill=\"black\" stroke=\"black\" points=\"566.76,-172.16 560.02,-174.48 564.74,-171.98 560.29,-171.57 560.29,-171.57 560.29,-171.57 564.74,-171.98 560.56,-168.65 566.76,-172.16\"/>\n",
       "<text text-anchor=\"middle\" x=\"381\" y=\"-155.23\" font-family=\"arial\" font-size=\"9.00\">patent number</text>\n",
       "</g>\n",
       "<!-- fb2cdb1db4c045031335df42ff846b2b0a81939f376c2b5a8028054753bf152c -->\n",
       "<g id=\"node3\" class=\"node\">\n",
       "<title>fb2cdb1db4c045031335df42ff846b2b0a81939f376c2b5a8028054753bf152c</title>\n",
       "<text text-anchor=\"middle\" x=\"613.88\" y=\"-138.5\" font-family=\"arial\" font-size=\"10.00\">&quot;Production of aromatics from noncatalytically cracked fatty acid based oils&quot;@en</text>\n",
       "</g>\n",
       "<!-- e68bfd07ae3ca2e44cb4849724e18089cd74ea9d743b280536b093547d9bab9b&#45;&gt;fb2cdb1db4c045031335df42ff846b2b0a81939f376c2b5a8028054753bf152c -->\n",
       "<g id=\"edge2\" class=\"edge\">\n",
       "<title>e68bfd07ae3ca2e44cb4849724e18089cd74ea9d743b280536b093547d9bab9b&#45;&gt;fb2cdb1db4c045031335df42ff846b2b0a81939f376c2b5a8028054753bf152c</title>\n",
       "<path fill=\"none\" stroke=\"black\" d=\"M205.01,-96.97C241.33,-102.08 295.47,-109.48 342.75,-115 409.14,-122.76 484.88,-130.21 539.23,-135.31\"/>\n",
       "<polygon fill=\"black\" stroke=\"black\" points=\"545.54,-135.9 538.8,-138.21 543.52,-135.71 539.07,-135.29 539.07,-135.29 539.07,-135.29 543.52,-135.71 539.34,-132.38 545.54,-135.9\"/>\n",
       "<text text-anchor=\"middle\" x=\"381\" y=\"-125.13\" font-family=\"arial\" font-size=\"9.00\">title</text>\n",
       "</g>\n",
       "<!-- 93a81916e7a9ae266c400269d508762bce8b2e2b60f2a002e86482c98346e9fd -->\n",
       "<g id=\"node4\" class=\"node\">\n",
       "<title>93a81916e7a9ae266c400269d508762bce8b2e2b60f2a002e86482c98346e9fd</title>\n",
       "<text text-anchor=\"middle\" x=\"613.88\" y=\"-104.5\" font-family=\"arial\" font-size=\"10.00\">&quot;SEAMES WAYNE&quot;</text>\n",
       "</g>\n",
       "<!-- e68bfd07ae3ca2e44cb4849724e18089cd74ea9d743b280536b093547d9bab9b&#45;&gt;93a81916e7a9ae266c400269d508762bce8b2e2b60f2a002e86482c98346e9fd -->\n",
       "<g id=\"edge3\" class=\"edge\">\n",
       "<title>e68bfd07ae3ca2e44cb4849724e18089cd74ea9d743b280536b093547d9bab9b&#45;&gt;93a81916e7a9ae266c400269d508762bce8b2e2b60f2a002e86482c98346e9fd</title>\n",
       "<path fill=\"none\" stroke=\"black\" d=\"M321.85,-96.99C406.28,-100.19 504.4,-103.9 562.42,-106.09\"/>\n",
       "<polygon fill=\"black\" stroke=\"black\" points=\"568.77,-106.33 562.17,-109.01 566.74,-106.26 562.28,-106.09 562.28,-106.09 562.28,-106.09 566.74,-106.26 562.39,-103.16 568.77,-106.33\"/>\n",
       "<text text-anchor=\"middle\" x=\"381\" y=\"-102.47\" font-family=\"arial\" font-size=\"9.00\">author name string</text>\n",
       "</g>\n",
       "<!-- 70a64c540473f561adf4a06dd3cf3ca8cc26d018a00aab6a82641bfdf783a059 -->\n",
       "<g id=\"node5\" class=\"node\">\n",
       "<title>70a64c540473f561adf4a06dd3cf3ca8cc26d018a00aab6a82641bfdf783a059</title>\n",
       "<text text-anchor=\"middle\" x=\"613.88\" y=\"-70.5\" font-family=\"arial\" font-size=\"10.00\">patent</text>\n",
       "</g>\n",
       "<!-- e68bfd07ae3ca2e44cb4849724e18089cd74ea9d743b280536b093547d9bab9b&#45;&gt;70a64c540473f561adf4a06dd3cf3ca8cc26d018a00aab6a82641bfdf783a059 -->\n",
       "<g id=\"edge4\" class=\"edge\">\n",
       "<title>e68bfd07ae3ca2e44cb4849724e18089cd74ea9d743b280536b093547d9bab9b&#45;&gt;70a64c540473f561adf4a06dd3cf3ca8cc26d018a00aab6a82641bfdf783a059</title>\n",
       "<path fill=\"none\" stroke=\"black\" d=\"M304.37,-85.02C317.35,-84.49 330.29,-83.98 342.75,-83.5 436.33,-79.9 548.18,-76.14 592.93,-74.66\"/>\n",
       "<polygon fill=\"black\" stroke=\"black\" points=\"599.27,-74.45 592.87,-77.58 597.24,-74.51 592.77,-74.66 592.77,-74.66 592.77,-74.66 597.24,-74.51 592.68,-71.74 599.27,-74.45\"/>\n",
       "<text text-anchor=\"middle\" x=\"381\" y=\"-85.45\" font-family=\"arial\" font-size=\"9.00\">instance of</text>\n",
       "</g>\n",
       "<!-- 46817ca095aa3fc81901f6be24f62b8a230ded6bb75739dbcad1d72bf618a915 -->\n",
       "<g id=\"node6\" class=\"node\">\n",
       "<title>46817ca095aa3fc81901f6be24f62b8a230ded6bb75739dbcad1d72bf618a915</title>\n",
       "<text text-anchor=\"middle\" x=\"613.88\" y=\"-36.5\" font-family=\"arial\" font-size=\"10.00\">2013&#45;11&#45;07 00:00:00+00:00</text>\n",
       "</g>\n",
       "<!-- e68bfd07ae3ca2e44cb4849724e18089cd74ea9d743b280536b093547d9bab9b&#45;&gt;46817ca095aa3fc81901f6be24f62b8a230ded6bb75739dbcad1d72bf618a915 -->\n",
       "<g id=\"edge5\" class=\"edge\">\n",
       "<title>e68bfd07ae3ca2e44cb4849724e18089cd74ea9d743b280536b093547d9bab9b&#45;&gt;46817ca095aa3fc81901f6be24f62b8a230ded6bb75739dbcad1d72bf618a915</title>\n",
       "<path fill=\"none\" stroke=\"black\" d=\"M203.93,-85.01C240.25,-79.76 294.99,-72.1 342.75,-66.5 412.59,-58.31 492.8,-50.66 547.55,-45.71\"/>\n",
       "<polygon fill=\"black\" stroke=\"black\" points=\"553.89,-45.14 547.68,-48.63 551.87,-45.32 547.42,-45.72 547.42,-45.72 547.42,-45.72 551.87,-45.32 547.16,-42.81 553.89,-45.14\"/>\n",
       "<text text-anchor=\"middle\" x=\"381\" y=\"-68.45\" font-family=\"arial\" font-size=\"9.00\">publication date</text>\n",
       "</g>\n",
       "<!-- da9aa231240074d083bd853cb193e15b771bc8fcf89e138f907db59e4e202f34 -->\n",
       "<g id=\"node7\" class=\"node\">\n",
       "<title>da9aa231240074d083bd853cb193e15b771bc8fcf89e138f907db59e4e202f34</title>\n",
       "<text text-anchor=\"middle\" x=\"613.88\" y=\"-2.5\" font-family=\"arial\" font-size=\"10.00\">prehnitene</text>\n",
       "</g>\n",
       "<!-- e68bfd07ae3ca2e44cb4849724e18089cd74ea9d743b280536b093547d9bab9b&#45;&gt;da9aa231240074d083bd853cb193e15b771bc8fcf89e138f907db59e4e202f34 -->\n",
       "<g id=\"edge6\" class=\"edge\">\n",
       "<title>e68bfd07ae3ca2e44cb4849724e18089cd74ea9d743b280536b093547d9bab9b&#45;&gt;da9aa231240074d083bd853cb193e15b771bc8fcf89e138f907db59e4e202f34</title>\n",
       "<path fill=\"none\" stroke=\"black\" d=\"M183.07,-85.01C227.78,-71.7 340.54,-39.67 437.25,-25 488.7,-17.2 549.09,-11.39 583.98,-8.36\"/>\n",
       "<polygon fill=\"black\" stroke=\"black\" points=\"590.23,-7.83 584,-11.3 588.2,-8 583.75,-8.38 583.75,-8.38 583.75,-8.38 588.2,-8 583.5,-5.47 590.23,-7.83\"/>\n",
       "<text text-anchor=\"middle\" x=\"381\" y=\"-44.34\" font-family=\"arial\" font-size=\"9.00\">main subject</text>\n",
       "</g>\n",
       "</g>\n",
       "</svg>\n"
      ],
      "text/plain": [
       "<graphviz.graphs.Digraph at 0x108eb1f90>"
      ]
     },
     "execution_count": 16,
     "metadata": {},
     "output_type": "execute_result"
    }
   ],
   "source": [
    "f = lambda p: kb.filter(subject=pc.patent('AU-2012245199-A1'), property=p, limit=1)\n",
    "Graph(*itertools.chain(*map(f, PATENT_PROPERTIES))).to_graphviz()"
   ]
  },
  {
   "cell_type": "markdown",
   "id": "38187a0f-0527-4edf-8a36-59322ab40542",
   "metadata": {},
   "source": [
    "## Sources (vendors)"
   ]
  },
  {
   "cell_type": "code",
   "execution_count": 17,
   "id": "6ec9b833-3732-4c0c-b4a8-f3e303216b0a",
   "metadata": {},
   "outputs": [],
   "source": [
    "SOURCE_PROPERTIES = [\n",
    "    wd.instance_of,\n",
    "    wd.official_website,\n",
    "]"
   ]
  },
  {
   "cell_type": "code",
   "execution_count": 18,
   "id": "2bd200cd-d1ff-42ea-9fbb-f80c97a48aab",
   "metadata": {},
   "outputs": [
    {
     "data": {
      "text/markdown": [
       "|#|property|description|\n",
       "|-|-|-|\n",
       "|1|[instance of](http://www.wikidata.org/entity/P31)|type to which this subject corresponds/belongs. Different from P279 (subclass of); for example: K2 is an instance of mountain; volcanoes form a subclass of mountains, and the volcano is a type (instance) of volcanic landform|\n",
       "|2|[official website](http://www.wikidata.org/entity/P856)|URL of the official page of an item (current or former). Usage: If a listed URL no longer points to the official website, do not remove it, but see the \"Hijacked or dead websites\" section of the Talk page|"
      ]
     },
     "metadata": {},
     "output_type": "display_data"
    }
   ],
   "source": [
    "show.property_table(SOURCE_PROPERTIES)"
   ]
  },
  {
   "cell_type": "code",
   "execution_count": 19,
   "id": "866e694a-e284-45f5-9087-506b2adc77cb",
   "metadata": {},
   "outputs": [
    {
     "data": {
      "image/svg+xml": [
       "<?xml version=\"1.0\" encoding=\"UTF-8\" standalone=\"no\"?>\n",
       "<!DOCTYPE svg PUBLIC \"-//W3C//DTD SVG 1.1//EN\"\n",
       " \"http://www.w3.org/Graphics/SVG/1.1/DTD/svg11.dtd\">\n",
       "<!-- Generated by graphviz version 12.2.1 (20241206.2353)\n",
       " -->\n",
       "<!-- Pages: 1 -->\n",
       "<svg width=\"359pt\" height=\"54pt\"\n",
       " viewBox=\"0.00 0.00 359.00 54.00\" xmlns=\"http://www.w3.org/2000/svg\" xmlns:xlink=\"http://www.w3.org/1999/xlink\">\n",
       "<g id=\"graph0\" class=\"graph\" transform=\"scale(1 1) rotate(0) translate(4 50)\">\n",
       "<polygon fill=\"white\" stroke=\"none\" points=\"-4,4 -4,-50 355,-50 355,4 -4,4\"/>\n",
       "<!-- 52707c4e544e0c81282be55313233e92601e278f5f40c20ab95b3616ebce76eb -->\n",
       "<g id=\"node1\" class=\"node\">\n",
       "<title>52707c4e544e0c81282be55313233e92601e278f5f40c20ab95b3616ebce76eb</title>\n",
       "<text text-anchor=\"middle\" x=\"35.62\" y=\"-19.5\" font-family=\"arial\" font-size=\"10.00\">Alinda Chemical</text>\n",
       "</g>\n",
       "<!-- 850c60ff323b5dfd9356e79ff7e130009088c8a6f6426f4f9d0c50f1b5a6dc20 -->\n",
       "<g id=\"node2\" class=\"node\">\n",
       "<title>850c60ff323b5dfd9356e79ff7e130009088c8a6f6426f4f9d0c50f1b5a6dc20</title>\n",
       "<text text-anchor=\"middle\" x=\"259.12\" y=\"-36.5\" font-family=\"arial\" font-size=\"10.00\">vendor</text>\n",
       "</g>\n",
       "<!-- 52707c4e544e0c81282be55313233e92601e278f5f40c20ab95b3616ebce76eb&#45;&gt;850c60ff323b5dfd9356e79ff7e130009088c8a6f6426f4f9d0c50f1b5a6dc20 -->\n",
       "<g id=\"edge1\" class=\"edge\">\n",
       "<title>52707c4e544e0c81282be55313233e92601e278f5f40c20ab95b3616ebce76eb&#45;&gt;850c60ff323b5dfd9356e79ff7e130009088c8a6f6426f4f9d0c50f1b5a6dc20</title>\n",
       "<path fill=\"none\" stroke=\"black\" d=\"M71.23,-25.66C117.81,-29.23 199.2,-35.48 237.32,-38.4\"/>\n",
       "<polygon fill=\"black\" stroke=\"black\" points=\"243.55,-38.88 236.85,-41.3 241.53,-38.73 237.07,-38.38 237.07,-38.38 237.07,-38.38 241.53,-38.73 237.3,-35.47 243.55,-38.88\"/>\n",
       "<text text-anchor=\"middle\" x=\"119.25\" y=\"-33.45\" font-family=\"arial\" font-size=\"9.00\">instance of</text>\n",
       "</g>\n",
       "<!-- 0c1d00e433b0ab9adc79bc38774fccc2f56cac9af191fdc0982a9b8c95431cfd -->\n",
       "<g id=\"node3\" class=\"node\">\n",
       "<title>0c1d00e433b0ab9adc79bc38774fccc2f56cac9af191fdc0982a9b8c95431cfd</title>\n",
       "<text text-anchor=\"start\" x=\"167.25\" y=\"-2.5\" font-family=\"arial\" font-size=\"10.00\">https://alindachemical.com/bases_en.html</text>\n",
       "</g>\n",
       "<!-- 52707c4e544e0c81282be55313233e92601e278f5f40c20ab95b3616ebce76eb&#45;&gt;0c1d00e433b0ab9adc79bc38774fccc2f56cac9af191fdc0982a9b8c95431cfd -->\n",
       "<g id=\"edge2\" class=\"edge\">\n",
       "<title>52707c4e544e0c81282be55313233e92601e278f5f40c20ab95b3616ebce76eb&#45;&gt;0c1d00e433b0ab9adc79bc38774fccc2f56cac9af191fdc0982a9b8c95431cfd</title>\n",
       "<path fill=\"none\" stroke=\"black\" d=\"M62.19,-17.05C70.75,-15.29 80.37,-13.55 89.25,-12.5 112.12,-9.8 136.85,-8.14 160.14,-7.14\"/>\n",
       "<polygon fill=\"black\" stroke=\"black\" points=\"166.43,-6.89 160.05,-10.07 164.4,-6.97 159.94,-7.15 159.94,-7.15 159.94,-7.15 164.4,-6.97 159.82,-4.23 166.43,-6.89\"/>\n",
       "<text text-anchor=\"middle\" x=\"119.25\" y=\"-14.45\" font-family=\"arial\" font-size=\"9.00\">official website</text>\n",
       "</g>\n",
       "</g>\n",
       "</svg>\n"
      ],
      "text/plain": [
       "<graphviz.graphs.Digraph at 0x106e8ac10>"
      ]
     },
     "execution_count": 19,
     "metadata": {},
     "output_type": "execute_result"
    }
   ],
   "source": [
    "f = lambda p: kb.filter(subject=pc.source('Alinda_Chemical'), property=p, limit=1)\n",
    "Graph(*itertools.chain(*map(f, SOURCE_PROPERTIES))).to_graphviz()"
   ]
  }
 ],
 "metadata": {
  "kernelspec": {
   "display_name": "venv313",
   "language": "python",
   "name": "venv313"
  },
  "language_info": {
   "codemirror_mode": {
    "name": "ipython",
    "version": 3
   },
   "file_extension": ".py",
   "mimetype": "text/x-python",
   "name": "python",
   "nbconvert_exporter": "python",
   "pygments_lexer": "ipython3",
   "version": "3.13.3"
  }
 },
 "nbformat": 4,
 "nbformat_minor": 5
}
