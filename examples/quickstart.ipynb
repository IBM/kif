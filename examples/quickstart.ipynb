{
 "cells": [
  {
   "cell_type": "markdown",
   "id": "89b2cdfb-8bd3-4d88-af52-e721b80584eb",
   "metadata": {},
   "source": [
    "# Quickstart"
   ]
  },
  {
   "cell_type": "markdown",
   "id": "df0e05ed-89e5-4245-9f9f-07922d41069f",
   "metadata": {},
   "source": [
    "Import the `kif_lib` namespace:"
   ]
  },
  {
   "cell_type": "code",
   "execution_count": 1,
   "id": "434a5270-9e55-412b-b0c9-a50fafd0ed37",
   "metadata": {},
   "outputs": [],
   "source": [
    "from kif_lib import *"
   ]
  },
  {
   "cell_type": "markdown",
   "id": "07108905-ff49-4f1c-8ec0-6a7ec64b16d4",
   "metadata": {},
   "source": [
    "Import the Wikidata vocabulary module `wd`:"
   ]
  },
  {
   "cell_type": "code",
   "execution_count": 2,
   "id": "cfddd770-8a47-4f85-b134-911b5081491d",
   "metadata": {},
   "outputs": [],
   "source": [
    "from kif_lib.vocabulary import wd"
   ]
  },
  {
   "cell_type": "markdown",
   "id": "a61d582f-ecd8-4348-b6a7-ef667fe50482",
   "metadata": {},
   "source": [
    "Create a KIF store pointing to the official Wikidata query service:"
   ]
  },
  {
   "cell_type": "code",
   "execution_count": 3,
   "id": "e86e782b-1ff1-4158-9082-9ccad4a12cae",
   "metadata": {},
   "outputs": [],
   "source": [
    "kb = Store('wikidata')"
   ]
  },
  {
   "cell_type": "markdown",
   "id": "9aa56f08-b208-480c-86c2-e7499e7efe15",
   "metadata": {},
   "source": [
    "Fetch and print three statements about Brazil:"
   ]
  },
  {
   "cell_type": "code",
   "execution_count": 4,
   "id": "786611d9-0fea-46c8-a715-37a12a80a1eb",
   "metadata": {},
   "outputs": [
    {
     "data": {
      "text/markdown": [
       "(**Statement** (**Item** [Brazil](http://www.wikidata.org/entity/Q155)) (**ValueSnak** (**Property** [shares border with](http://www.wikidata.org/entity/P47)) (**Item** [Argentina](http://www.wikidata.org/entity/Q414))))"
      ],
      "text/plain": [
       "Statement(Item(IRI('http://www.wikidata.org/entity/Q155')), ValueSnak(Property(IRI('http://www.wikidata.org/entity/P47'), ItemDatatype()), Item(IRI('http://www.wikidata.org/entity/Q414'))))"
      ]
     },
     "metadata": {},
     "output_type": "display_data"
    },
    {
     "data": {
      "text/markdown": [
       "(**Statement** (**Item** [Brazil](http://www.wikidata.org/entity/Q155)) (**ValueSnak** (**Property** [shares border with](http://www.wikidata.org/entity/P47)) (**Item** [Paraguay](http://www.wikidata.org/entity/Q733))))"
      ],
      "text/plain": [
       "Statement(Item(IRI('http://www.wikidata.org/entity/Q155')), ValueSnak(Property(IRI('http://www.wikidata.org/entity/P47'), ItemDatatype()), Item(IRI('http://www.wikidata.org/entity/Q733'))))"
      ]
     },
     "metadata": {},
     "output_type": "display_data"
    },
    {
     "data": {
      "text/markdown": [
       "(**Statement** (**Item** [Brazil](http://www.wikidata.org/entity/Q155)) (**ValueSnak** (**Property** [shares border with](http://www.wikidata.org/entity/P47)) (**Item** [wd:Q142](http://www.wikidata.org/entity/Q142))))"
      ],
      "text/plain": [
       "Statement(Item(IRI('http://www.wikidata.org/entity/Q155')), ValueSnak(Property(IRI('http://www.wikidata.org/entity/P47'), ItemDatatype()), Item(IRI('http://www.wikidata.org/entity/Q142'))))"
      ]
     },
     "metadata": {},
     "output_type": "display_data"
    }
   ],
   "source": [
    "it = kb.filter(subject=wd.Brazil, limit=3)\n",
    "for stmt in it:\n",
    "    display(stmt)"
   ]
  },
  {
   "cell_type": "markdown",
   "id": "c891b3e1-3272-4c3f-8a81-2d27693da65f",
   "metadata": {},
   "source": [
    "## Filters"
   ]
  },
  {
   "cell_type": "markdown",
   "id": "0a27351c-1d26-4dc9-9fc6-ecd6b61e9b0f",
   "metadata": {},
   "source": [
    "The `kb.filter(...)` call searches for statements in `kb` whose structure matches the restrictions `...`."
   ]
  },
  {
   "cell_type": "markdown",
   "id": "aae45738-5e4a-46f2-a7ef-5eede085713e",
   "metadata": {},
   "source": [
    "### Basic filters"
   ]
  },
  {
   "cell_type": "markdown",
   "id": "a160b932-ebb5-48fb-8bce-976dd4bddc6c",
   "metadata": {},
   "source": [
    "We can filter statements by any combination of *subject*, *property*, and *value*:"
   ]
  },
  {
   "cell_type": "code",
   "execution_count": 5,
   "id": "2703a807-ea79-4764-84c1-0e8d2d7d4f50",
   "metadata": {},
   "outputs": [
    {
     "data": {
      "text/markdown": [
       "(**Statement** (**Item** [Brazil](http://www.wikidata.org/entity/Q155)) (**ValueSnak** (**Property** [official website](http://www.wikidata.org/entity/P856)) [https://www.gov.br](https://www.gov.br)))"
      ],
      "text/plain": [
       "Statement(Item(IRI('http://www.wikidata.org/entity/Q155')), ValueSnak(Property(IRI('http://www.wikidata.org/entity/P856'), IRI_Datatype()), IRI('https://www.gov.br')))"
      ]
     },
     "metadata": {},
     "output_type": "display_data"
    },
    {
     "data": {
      "text/markdown": [
       "(**Statement** (**Item** [IBM](http://www.wikidata.org/entity/Q37156)) (**ValueSnak** (**Property** [official website](http://www.wikidata.org/entity/P856)) [https://www.ibm.com/](https://www.ibm.com/)))"
      ],
      "text/plain": [
       "Statement(Item(IRI('http://www.wikidata.org/entity/Q37156')), ValueSnak(Property(IRI('http://www.wikidata.org/entity/P856'), IRI_Datatype()), IRI('https://www.ibm.com/')))"
      ]
     },
     "metadata": {},
     "output_type": "display_data"
    },
    {
     "data": {
      "text/markdown": [
       "(**Statement** (**Item** [wd:Q83057204](http://www.wikidata.org/entity/Q83057204)) (**ValueSnak** (**Property** [mass](http://www.wikidata.org/entity/P2067)) (**Quantity** 78.046950192 (**Item** [dalton](http://www.wikidata.org/entity/Q483261)))))"
      ],
      "text/plain": [
       "Statement(Item(IRI('http://www.wikidata.org/entity/Q83057204')), ValueSnak(Property(IRI('http://www.wikidata.org/entity/P2067'), QuantityDatatype()), Quantity(Decimal('78.046950192'), Item(IRI('http://www.wikidata.org/entity/Q483261')), None, None)))"
      ]
     },
     "metadata": {},
     "output_type": "display_data"
    }
   ],
   "source": [
    "display(next(kb.filter(subject=wd.Brazil, property=wd.official_website)))\n",
    "display(next(kb.filter(property=wd.official_website, value=IRI('https://www.ibm.com/'))))\n",
    "display(next(kb.filter(value=Quantity('78.046950192', unit=wd.dalton))))"
   ]
  },
  {
   "cell_type": "markdown",
   "id": "e5fdabe0-c9c1-4648-b508-6e75274a020f",
   "metadata": {},
   "source": [
    "We can also match statements having an *some* (unknown) value:"
   ]
  },
  {
   "cell_type": "code",
   "execution_count": 6,
   "id": "ed56053e-5c56-4598-8490-82427ea8d6ec",
   "metadata": {},
   "outputs": [
    {
     "data": {
      "text/markdown": [
       "(**Statement** (**Item** [wd:Q7262](http://www.wikidata.org/entity/Q7262)) (**SomeValueSnak** (**Property** [date of birth](http://www.wikidata.org/entity/P569))))"
      ],
      "text/plain": [
       "Statement(Item(IRI('http://www.wikidata.org/entity/Q7262')), SomeValueSnak(Property(IRI('http://www.wikidata.org/entity/P569'), TimeDatatype())))"
      ]
     },
     "execution_count": 6,
     "metadata": {},
     "output_type": "execute_result"
    }
   ],
   "source": [
    "next(kb.filter(snak=wd.date_of_birth.some_value()))"
   ]
  },
  {
   "cell_type": "markdown",
   "id": "5f326221-f2a8-47f6-8ec9-2933ef24d294",
   "metadata": {},
   "source": [
    "Or *no* value:"
   ]
  },
  {
   "cell_type": "code",
   "execution_count": 7,
   "id": "890a3b2b-8f56-4185-8b9b-ee697d6d85d2",
   "metadata": {},
   "outputs": [
    {
     "data": {
      "text/markdown": [
       "(**Statement** (**Item** [wd:Q124967648](http://www.wikidata.org/entity/Q124967648)) (**NoValueSnak** (**Property** [date of death](http://www.wikidata.org/entity/P570))))"
      ],
      "text/plain": [
       "Statement(Item(IRI('http://www.wikidata.org/entity/Q124967648')), NoValueSnak(Property(IRI('http://www.wikidata.org/entity/P570'), TimeDatatype())))"
      ]
     },
     "execution_count": 7,
     "metadata": {},
     "output_type": "execute_result"
    }
   ],
   "source": [
    "next(kb.filter(snak=wd.date_of_death.no_value()))"
   ]
  },
  {
   "cell_type": "markdown",
   "id": "67ee120d-74ad-494c-991e-864d5e75f73b",
   "metadata": {},
   "source": [
    "### Indirect ids"
   ]
  },
  {
   "cell_type": "markdown",
   "id": "38cae115-3e05-4005-bf84-45816bd45138",
   "metadata": {},
   "source": [
    "We can use properties to identify (indirectly) the subject, property, or value of a statement.\n",
    "\n",
    "For instance, the following filter matches the statements whose subject is a country and value is a person:"
   ]
  },
  {
   "cell_type": "code",
   "execution_count": 8,
   "id": "e1f02fa2-7436-4589-87b3-ec5cc77b4eeb",
   "metadata": {},
   "outputs": [
    {
     "data": {
      "text/markdown": [
       "(**Statement** (**Item** [wd:Q1049](http://www.wikidata.org/entity/Q1049)) (**ValueSnak** (**Property** [continent](http://www.wikidata.org/entity/P30)) (**Item** [wd:Q15](http://www.wikidata.org/entity/Q15))))"
      ],
      "text/plain": [
       "Statement(Item(IRI('http://www.wikidata.org/entity/Q1049')), ValueSnak(Property(IRI('http://www.wikidata.org/entity/P30'), ItemDatatype()), Item(IRI('http://www.wikidata.org/entity/Q15'))))"
      ]
     },
     "execution_count": 8,
     "metadata": {},
     "output_type": "execute_result"
    }
   ],
   "source": [
    "next(kb.filter(subject=wd.instance_of(wd.country_), value=wd.instance_of(wd.continent_)))"
   ]
  },
  {
   "cell_type": "markdown",
   "id": "427444d4-19c7-4626-81e1-b7bf4ced1b24",
   "metadata": {},
   "source": [
    "Properties can also be identified indirectly.\n",
    "\n",
    "For instance, the following filter matches statements whose property is equivalent to Schema.org's \"weight\":"
   ]
  },
  {
   "cell_type": "code",
   "execution_count": 9,
   "id": "efd7e648-1253-4739-9c5f-4f51d437e9f8",
   "metadata": {},
   "outputs": [
    {
     "data": {
      "text/markdown": [
       "(**Statement** (**Item** [wd:Q38824](http://www.wikidata.org/entity/Q38824)) (**ValueSnak** (**Property** [mass](http://www.wikidata.org/entity/P2067)) (**Quantity** 17 (**Item** [kilogram](http://www.wikidata.org/entity/Q11570)))))"
      ],
      "text/plain": [
       "Statement(Item(IRI('http://www.wikidata.org/entity/Q38824')), ValueSnak(Property(IRI('http://www.wikidata.org/entity/P2067'), QuantityDatatype()), Quantity(Decimal('17'), Item(IRI('http://www.wikidata.org/entity/Q11570')), None, None)))"
      ]
     },
     "execution_count": 9,
     "metadata": {},
     "output_type": "execute_result"
    }
   ],
   "source": [
    "next(kb.filter(property=wd.equivalent_property('https://schema.org/weight')))"
   ]
  },
  {
   "cell_type": "markdown",
   "id": "307986ee-94ca-4a34-9e61-c8cfebed772d",
   "metadata": {},
   "source": [
    "### And-ing and Or-ing"
   ]
  },
  {
   "cell_type": "code",
   "execution_count": 11,
   "id": "947ff6f8-d58d-4830-96f9-b2ff11c3d4fc",
   "metadata": {},
   "outputs": [
    {
     "data": {
      "text/markdown": [
       "(**Statement** (**Item** [Adam](http://www.wikidata.org/entity/Q70899)) (**NoValueSnak** (**Property** [father](http://www.wikidata.org/entity/P22))))"
      ],
      "text/plain": [
       "Statement(Item(IRI('http://www.wikidata.org/entity/Q70899')), NoValueSnak(Property(IRI('http://www.wikidata.org/entity/P22'), ItemDatatype())))"
      ]
     },
     "metadata": {},
     "output_type": "display_data"
    },
    {
     "data": {
      "text/markdown": [
       "(**Statement** (**Item** [Adam](http://www.wikidata.org/entity/Q70899)) (**NoValueSnak** (**Property** [mother](http://www.wikidata.org/entity/P25))))"
      ],
      "text/plain": [
       "Statement(Item(IRI('http://www.wikidata.org/entity/Q70899')), NoValueSnak(Property(IRI('http://www.wikidata.org/entity/P25'), ItemDatatype())))"
      ]
     },
     "metadata": {},
     "output_type": "display_data"
    },
    {
     "data": {
      "text/markdown": [
       "(**Statement** (**Item** [Adam](http://www.wikidata.org/entity/Q70899)) (**SomeValueSnak** (**Property** [date of death](http://www.wikidata.org/entity/P570))))"
      ],
      "text/plain": [
       "Statement(Item(IRI('http://www.wikidata.org/entity/Q70899')), SomeValueSnak(Property(IRI('http://www.wikidata.org/entity/P570'), TimeDatatype())))"
      ]
     },
     "metadata": {},
     "output_type": "display_data"
    },
    {
     "data": {
      "text/markdown": [
       "(**Statement** (**Item** [Adam](http://www.wikidata.org/entity/Q70899)) (**SomeValueSnak** (**Property** [date of birth](http://www.wikidata.org/entity/P569))))"
      ],
      "text/plain": [
       "Statement(Item(IRI('http://www.wikidata.org/entity/Q70899')), SomeValueSnak(Property(IRI('http://www.wikidata.org/entity/P569'), TimeDatatype())))"
      ]
     },
     "metadata": {},
     "output_type": "display_data"
    },
    {
     "data": {
      "text/markdown": [
       "(**Statement** (**Item** [Adam](http://www.wikidata.org/entity/Q70899)) (**SomeValueSnak** (**Property** [family name](http://www.wikidata.org/entity/P734))))"
      ],
      "text/plain": [
       "Statement(Item(IRI('http://www.wikidata.org/entity/Q70899')), SomeValueSnak(Property(IRI('http://www.wikidata.org/entity/P734'), ItemDatatype())))"
      ]
     },
     "metadata": {},
     "output_type": "display_data"
    }
   ],
   "source": [
    "for stmt in kb.filter(subject=(wd.instance_of(wd.country_)&wd.continent(wd.South_America))|wd.Adam, limit=5):\n",
    "    display(stmt)"
   ]
  }
 ],
 "metadata": {
  "kernelspec": {
   "display_name": "kif",
   "language": "python",
   "name": "kif"
  },
  "language_info": {
   "codemirror_mode": {
    "name": "ipython",
    "version": 3
   },
   "file_extension": ".py",
   "mimetype": "text/x-python",
   "name": "python",
   "nbconvert_exporter": "python",
   "pygments_lexer": "ipython3",
   "version": "3.12.4"
  }
 },
 "nbformat": 4,
 "nbformat_minor": 5
}
