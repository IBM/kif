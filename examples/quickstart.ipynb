{
 "cells": [
  {
   "cell_type": "markdown",
   "id": "89b2cdfb-8bd3-4d88-af52-e721b80584eb",
   "metadata": {},
   "source": [
    "# Quickstart"
   ]
  },
  {
   "cell_type": "markdown",
   "id": "2354031a-41c6-4d71-bda5-7ba3157d59b3",
   "metadata": {},
   "source": [
    "KIF is a Wikidata-based framework for integrating knowledge sources.\n",
    "\n",
    "This quickstart guide presents the basic API of KIF.\n",
    "\n",
    "----"
   ]
  },
  {
   "cell_type": "markdown",
   "id": "235a5ff0-fc7a-4a94-9b7d-6afc0c07817e",
   "metadata": {},
   "source": [
    "## Hello world!"
   ]
  },
  {
   "cell_type": "markdown",
   "id": "df0e05ed-89e5-4245-9f9f-07922d41069f",
   "metadata": {},
   "source": [
    "We start by importing the `kif_lib` namespace:"
   ]
  },
  {
   "cell_type": "code",
   "execution_count": 1,
   "id": "434a5270-9e55-412b-b0c9-a50fafd0ed37",
   "metadata": {},
   "outputs": [],
   "source": [
    "from kif_lib import *"
   ]
  },
  {
   "cell_type": "markdown",
   "id": "07108905-ff49-4f1c-8ec0-6a7ec64b16d4",
   "metadata": {},
   "source": [
    "We'll also need the Wikidata vocabulary module `wd`:"
   ]
  },
  {
   "cell_type": "code",
   "execution_count": 2,
   "id": "cfddd770-8a47-4f85-b134-911b5081491d",
   "metadata": {},
   "outputs": [],
   "source": [
    "from kif_lib.vocabulary import wd"
   ]
  },
  {
   "cell_type": "markdown",
   "id": "a61d582f-ecd8-4348-b6a7-ef667fe50482",
   "metadata": {},
   "source": [
    "Next, we create a KIF SPARQL store pointing to the official Wikidata query service:"
   ]
  },
  {
   "cell_type": "code",
   "execution_count": 3,
   "id": "e86e782b-1ff1-4158-9082-9ccad4a12cae",
   "metadata": {},
   "outputs": [],
   "source": [
    "kb = Store('sparql', 'https://query.wikidata.org/sparql')"
   ]
  },
  {
   "cell_type": "markdown",
   "id": "fd72cc6e-c326-4c7e-a093-d6411d37e85c",
   "metadata": {},
   "source": [
    "A KIF store is an inteface to a knowledge source: it allows us to view the source as a set of Wikidata-like statements.\n",
    "\n",
    "The `kb` store we just created is an interface to Wikidata itself.  We can use it, for example, to fetch from Wikidata three statements about Brazil:"
   ]
  },
  {
   "cell_type": "code",
   "execution_count": 4,
   "id": "786611d9-0fea-46c8-a715-37a12a80a1eb",
   "metadata": {},
   "outputs": [
    {
     "data": {
      "text/markdown": [
       "(**Statement** (**Item** [Brazil](http://www.wikidata.org/entity/Q155)) (**ValueSnak** (**Property** [shares border with](http://www.wikidata.org/entity/P47)) (**Item** [Argentina](http://www.wikidata.org/entity/Q414))))"
      ],
      "text/plain": [
       "Statement(Item(IRI('http://www.wikidata.org/entity/Q155')), ValueSnak(Property(IRI('http://www.wikidata.org/entity/P47'), ItemDatatype()), Item(IRI('http://www.wikidata.org/entity/Q414'))))"
      ]
     },
     "metadata": {},
     "output_type": "display_data"
    },
    {
     "data": {
      "text/markdown": [
       "(**Statement** (**Item** [Brazil](http://www.wikidata.org/entity/Q155)) (**ValueSnak** (**Property** [shares border with](http://www.wikidata.org/entity/P47)) (**Item** [Paraguay](http://www.wikidata.org/entity/Q733))))"
      ],
      "text/plain": [
       "Statement(Item(IRI('http://www.wikidata.org/entity/Q155')), ValueSnak(Property(IRI('http://www.wikidata.org/entity/P47'), ItemDatatype()), Item(IRI('http://www.wikidata.org/entity/Q733'))))"
      ]
     },
     "metadata": {},
     "output_type": "display_data"
    },
    {
     "data": {
      "text/markdown": [
       "(**Statement** (**Item** [Brazil](http://www.wikidata.org/entity/Q155)) (**ValueSnak** (**Property** [shares border with](http://www.wikidata.org/entity/P47)) (**Item** [wd:Q142](http://www.wikidata.org/entity/Q142))))"
      ],
      "text/plain": [
       "Statement(Item(IRI('http://www.wikidata.org/entity/Q155')), ValueSnak(Property(IRI('http://www.wikidata.org/entity/P47'), ItemDatatype()), Item(IRI('http://www.wikidata.org/entity/Q142'))))"
      ]
     },
     "metadata": {},
     "output_type": "display_data"
    }
   ],
   "source": [
    "it = kb.filter(subject=wd.Brazil, limit=3)\n",
    "for stmt in it:\n",
    "    display(stmt)"
   ]
  },
  {
   "cell_type": "markdown",
   "id": "c891b3e1-3272-4c3f-8a81-2d27693da65f",
   "metadata": {},
   "source": [
    "## Filters"
   ]
  },
  {
   "cell_type": "markdown",
   "id": "0a27351c-1d26-4dc9-9fc6-ecd6b61e9b0f",
   "metadata": {},
   "source": [
    "The `kb.filter(...)` call searches for statements in `kb` matching the restrictions `...`.\n",
    "\n",
    "The result of a filter call is a (lazy) iterator `it` of statements:"
   ]
  },
  {
   "cell_type": "code",
   "execution_count": 5,
   "id": "8714ae66-85bf-4098-b49a-fcf4eade6df8",
   "metadata": {},
   "outputs": [],
   "source": [
    "it = kb.filter(subject=wd.Brazil)"
   ]
  },
  {
   "cell_type": "markdown",
   "id": "da15addf-3430-4a25-9f56-3a44eb1fb135",
   "metadata": {},
   "source": [
    "We can advance `it` to obtain statements:"
   ]
  },
  {
   "cell_type": "code",
   "execution_count": 6,
   "id": "f9df9cc8-3eb5-4041-a34e-d33a184f97a5",
   "metadata": {},
   "outputs": [
    {
     "data": {
      "text/markdown": [
       "(**Statement** (**Item** [Brazil](http://www.wikidata.org/entity/Q155)) (**ValueSnak** (**Property** [shares border with](http://www.wikidata.org/entity/P47)) (**Item** [Argentina](http://www.wikidata.org/entity/Q414))))"
      ],
      "text/plain": [
       "Statement(Item(IRI('http://www.wikidata.org/entity/Q155')), ValueSnak(Property(IRI('http://www.wikidata.org/entity/P47'), ItemDatatype()), Item(IRI('http://www.wikidata.org/entity/Q414'))))"
      ]
     },
     "execution_count": 6,
     "metadata": {},
     "output_type": "execute_result"
    }
   ],
   "source": [
    "next(it)"
   ]
  },
  {
   "cell_type": "markdown",
   "id": "c303326d-e09d-4da8-bce9-0bed142e6501",
   "metadata": {},
   "source": [
    "If no `limit` argument is given to `kb.filter()`, the returned iterator contains *all* matching statements."
   ]
  },
  {
   "cell_type": "markdown",
   "id": "aae45738-5e4a-46f2-a7ef-5eede085713e",
   "metadata": {},
   "source": [
    "## Basic filters"
   ]
  },
  {
   "cell_type": "markdown",
   "id": "a160b932-ebb5-48fb-8bce-976dd4bddc6c",
   "metadata": {},
   "source": [
    "We can filter statements by any combination of *subject*, *property*, and *value*.\n",
    "\n",
    "For example:"
   ]
  },
  {
   "cell_type": "code",
   "execution_count": 7,
   "id": "2703a807-ea79-4764-84c1-0e8d2d7d4f50",
   "metadata": {},
   "outputs": [
    {
     "data": {
      "text/markdown": [
       "(**Statement** (**Item** [wd:Q141099](http://www.wikidata.org/entity/Q141099)) (**ValueSnak** (**Property** [part of the series](http://www.wikidata.org/entity/P179)) (**Item** [wd:Q435960](http://www.wikidata.org/entity/Q435960))))"
      ],
      "text/plain": [
       "Statement(Item(IRI('http://www.wikidata.org/entity/Q141099')), ValueSnak(Property(IRI('http://www.wikidata.org/entity/P179'), ItemDatatype()), Item(IRI('http://www.wikidata.org/entity/Q435960'))))"
      ]
     },
     "execution_count": 7,
     "metadata": {},
     "output_type": "execute_result"
    }
   ],
   "source": [
    "# match any statement\n",
    "next(kb.filter())"
   ]
  },
  {
   "cell_type": "code",
   "execution_count": 8,
   "id": "f77a1943-f8c9-494a-b994-02de19250693",
   "metadata": {},
   "outputs": [
    {
     "data": {
      "text/markdown": [
       "(**Statement** (**Item** [Brazil](http://www.wikidata.org/entity/Q155)) (**ValueSnak** (**Property** [official website](http://www.wikidata.org/entity/P856)) [https://www.gov.br](https://www.gov.br)))"
      ],
      "text/plain": [
       "Statement(Item(IRI('http://www.wikidata.org/entity/Q155')), ValueSnak(Property(IRI('http://www.wikidata.org/entity/P856'), IRI_Datatype()), IRI('https://www.gov.br')))"
      ]
     },
     "execution_count": 8,
     "metadata": {},
     "output_type": "execute_result"
    }
   ],
   "source": [
    "# match statements with subject \"Brazil\" and property \"official website\"\n",
    "next(kb.filter(subject=wd.Brazil, property=wd.official_website))"
   ]
  },
  {
   "cell_type": "code",
   "execution_count": 9,
   "id": "4d74ad2e-5d11-4636-a522-a791925eb8d3",
   "metadata": {},
   "outputs": [
    {
     "data": {
      "text/markdown": [
       "(**Statement** (**Item** [IBM](http://www.wikidata.org/entity/Q37156)) (**ValueSnak** (**Property** [official website](http://www.wikidata.org/entity/P856)) [https://www.ibm.com/](https://www.ibm.com/)))"
      ],
      "text/plain": [
       "Statement(Item(IRI('http://www.wikidata.org/entity/Q37156')), ValueSnak(Property(IRI('http://www.wikidata.org/entity/P856'), IRI_Datatype()), IRI('https://www.ibm.com/')))"
      ]
     },
     "execution_count": 9,
     "metadata": {},
     "output_type": "execute_result"
    }
   ],
   "source": [
    "# match statements with property \"official website\" and value \"https://www.ibm.com/\"\n",
    "next(kb.filter(property=wd.official_website, value=IRI('https://www.ibm.com/')))"
   ]
  },
  {
   "cell_type": "code",
   "execution_count": 10,
   "id": "9b150aa8-a98d-4f58-bb17-b99083def39c",
   "metadata": {},
   "outputs": [
    {
     "data": {
      "text/markdown": [
       "(**Statement** (**Item** [wd:Q83011151](http://www.wikidata.org/entity/Q83011151)) (**ValueSnak** (**Property** [mass](http://www.wikidata.org/entity/P2067)) (**Quantity** 78.046950192 (**Item** [dalton](http://www.wikidata.org/entity/Q483261)))))"
      ],
      "text/plain": [
       "Statement(Item(IRI('http://www.wikidata.org/entity/Q83011151')), ValueSnak(Property(IRI('http://www.wikidata.org/entity/P2067'), QuantityDatatype()), Quantity(Decimal('78.046950192'), Item(IRI('http://www.wikidata.org/entity/Q483261')), None, None)))"
      ]
     },
     "execution_count": 10,
     "metadata": {},
     "output_type": "execute_result"
    }
   ],
   "source": [
    "# match statements with value \"78.046950192 dalton\"\n",
    "next(kb.filter(value=Quantity('78.046950192', unit=wd.dalton)))"
   ]
  },
  {
   "cell_type": "markdown",
   "id": "e5fdabe0-c9c1-4648-b508-6e75274a020f",
   "metadata": {},
   "source": [
    "We can also match statements having *some* (unknown) value:"
   ]
  },
  {
   "cell_type": "code",
   "execution_count": 11,
   "id": "ed56053e-5c56-4598-8490-82427ea8d6ec",
   "metadata": {},
   "outputs": [
    {
     "data": {
      "text/markdown": [
       "(**Statement** (**Item** [wd:Q7262](http://www.wikidata.org/entity/Q7262)) (**SomeValueSnak** (**Property** [date of birth](http://www.wikidata.org/entity/P569))))"
      ],
      "text/plain": [
       "Statement(Item(IRI('http://www.wikidata.org/entity/Q7262')), SomeValueSnak(Property(IRI('http://www.wikidata.org/entity/P569'), TimeDatatype())))"
      ]
     },
     "execution_count": 11,
     "metadata": {},
     "output_type": "execute_result"
    }
   ],
   "source": [
    "next(kb.filter(snak=wd.date_of_birth.some_value()))"
   ]
  },
  {
   "cell_type": "markdown",
   "id": "5f326221-f2a8-47f6-8ec9-2933ef24d294",
   "metadata": {},
   "source": [
    "Or *no* value:"
   ]
  },
  {
   "cell_type": "code",
   "execution_count": 12,
   "id": "890a3b2b-8f56-4185-8b9b-ee697d6d85d2",
   "metadata": {},
   "outputs": [
    {
     "data": {
      "text/markdown": [
       "(**Statement** (**Item** [wd:Q124958592](http://www.wikidata.org/entity/Q124958592)) (**NoValueSnak** (**Property** [date of death](http://www.wikidata.org/entity/P570))))"
      ],
      "text/plain": [
       "Statement(Item(IRI('http://www.wikidata.org/entity/Q124958592')), NoValueSnak(Property(IRI('http://www.wikidata.org/entity/P570'), TimeDatatype())))"
      ]
     },
     "execution_count": 12,
     "metadata": {},
     "output_type": "execute_result"
    }
   ],
   "source": [
    "next(kb.filter(snak=wd.date_of_death.no_value()))"
   ]
  },
  {
   "cell_type": "markdown",
   "id": "67ee120d-74ad-494c-991e-864d5e75f73b",
   "metadata": {},
   "source": [
    "## Fingerprints (indirect ids)"
   ]
  },
  {
   "cell_type": "markdown",
   "id": "999dcf5d-772f-41f6-96f0-d4b04cf9d0fa",
   "metadata": {},
   "source": [
    "So far, we have been using the symbolic aliases defined in the `wd` module to specify entities in filters:"
   ]
  },
  {
   "cell_type": "code",
   "execution_count": 13,
   "id": "61f1a10b-22f7-48d8-b74f-893b7f2d8903",
   "metadata": {},
   "outputs": [
    {
     "data": {
      "text/markdown": [
       "(**Item** [Brazil](http://www.wikidata.org/entity/Q155))"
      ],
      "text/plain": [
       "Item(IRI('http://www.wikidata.org/entity/Q155'))"
      ]
     },
     "metadata": {},
     "output_type": "display_data"
    },
    {
     "data": {
      "text/markdown": [
       "(**Property** [continent](http://www.wikidata.org/entity/P30))"
      ],
      "text/plain": [
       "Property(IRI('http://www.wikidata.org/entity/P30'), ItemDatatype())"
      ]
     },
     "metadata": {},
     "output_type": "display_data"
    }
   ],
   "source": [
    "display(wd.Brazil)\n",
    "display(wd.continent)"
   ]
  },
  {
   "cell_type": "markdown",
   "id": "580eb2b8-f577-4e44-9c43-957e7e9c9fbb",
   "metadata": {},
   "source": [
    "Alternatively, we can use their numeric Wikidata ids:"
   ]
  },
  {
   "cell_type": "code",
   "execution_count": 14,
   "id": "5d5992cb-ddd5-4828-8fed-e737f2d8d6d3",
   "metadata": {},
   "outputs": [
    {
     "data": {
      "text/markdown": [
       "(**Statement** (**Item** [Brazil](http://www.wikidata.org/entity/Q155)) (**ValueSnak** (**Property** [continent](http://www.wikidata.org/entity/P30)) (**Item** [South America](http://www.wikidata.org/entity/Q18))))"
      ],
      "text/plain": [
       "Statement(Item(IRI('http://www.wikidata.org/entity/Q155')), ValueSnak(Property(IRI('http://www.wikidata.org/entity/P30'), ItemDatatype()), Item(IRI('http://www.wikidata.org/entity/Q18'))))"
      ]
     },
     "execution_count": 14,
     "metadata": {},
     "output_type": "execute_result"
    }
   ],
   "source": [
    "# match statements with subject Q155 (Brazil) and property P30 (continent)\n",
    "next(kb.filter(subject=wd.Q(155), property=wd.P(30)))"
   ]
  },
  {
   "cell_type": "markdown",
   "id": "38cae115-3e05-4005-bf84-45816bd45138",
   "metadata": {},
   "source": [
    "Sometimes, however, ids are not enough.  We might need to specify an entity indirectly by giving not its id but a property it satisfies.\n",
    "\n",
    "In cases like this, we can use a *fingerprint*:"
   ]
  },
  {
   "cell_type": "code",
   "execution_count": 15,
   "id": "e1f02fa2-7436-4589-87b3-ec5cc77b4eeb",
   "metadata": {},
   "outputs": [
    {
     "data": {
      "text/markdown": [
       "(**Statement** (**Item** [wd:Q5270723](http://www.wikidata.org/entity/Q5270723)) (**ValueSnak** (**Property** [owned by](http://www.wikidata.org/entity/P127)) (**Item** [wd:Q935](http://www.wikidata.org/entity/Q935))))"
      ],
      "text/plain": [
       "Statement(Item(IRI('http://www.wikidata.org/entity/Q5270723')), ValueSnak(Property(IRI('http://www.wikidata.org/entity/P127'), ItemDatatype()), Item(IRI('http://www.wikidata.org/entity/Q935'))))"
      ]
     },
     "execution_count": 15,
     "metadata": {},
     "output_type": "execute_result"
    }
   ],
   "source": [
    "# match statemets whose subject \"is a dog\" and value \"is a human\"\n",
    "next(kb.filter(subject=wd.instance_of(wd.dog), value=wd.instance_of(wd.human)))"
   ]
  },
  {
   "cell_type": "markdown",
   "id": "427444d4-19c7-4626-81e1-b7bf4ced1b24",
   "metadata": {},
   "source": [
    "Properties themselves can also be identified using fingerprints:"
   ]
  },
  {
   "cell_type": "code",
   "execution_count": 16,
   "id": "efd7e648-1253-4739-9c5f-4f51d437e9f8",
   "metadata": {},
   "outputs": [
    {
     "data": {
      "text/markdown": [
       "(**Statement** (**Item** [wd:Q38824](http://www.wikidata.org/entity/Q38824)) (**ValueSnak** (**Property** [mass](http://www.wikidata.org/entity/P2067)) (**Quantity** 17 (**Item** [kilogram](http://www.wikidata.org/entity/Q11570)))))"
      ],
      "text/plain": [
       "Statement(Item(IRI('http://www.wikidata.org/entity/Q38824')), ValueSnak(Property(IRI('http://www.wikidata.org/entity/P2067'), QuantityDatatype()), Quantity(Decimal('17'), Item(IRI('http://www.wikidata.org/entity/Q11570')), None, None)))"
      ]
     },
     "execution_count": 16,
     "metadata": {},
     "output_type": "execute_result"
    }
   ],
   "source": [
    "# match statements whose property is \"equivalent to Schema.org's 'weight'\"\n",
    "next(kb.filter(property=wd.equivalent_property('https://schema.org/weight')))"
   ]
  },
  {
   "cell_type": "markdown",
   "id": "ed4083bc-dc00-462f-87c6-3c7b895cb8be",
   "metadata": {},
   "source": [
    "The `-` operator can be used to invert the direction of the property used in the fingerprint:"
   ]
  },
  {
   "cell_type": "code",
   "execution_count": 17,
   "id": "5f47b632-9a80-4353-a78d-4a9afc7032f6",
   "metadata": {},
   "outputs": [
    {
     "data": {
      "text/markdown": [
       "(**Statement** (**Item** [South America](http://www.wikidata.org/entity/Q18)) (**NoValueSnak** (**Property** [country](http://www.wikidata.org/entity/P17))))"
      ],
      "text/plain": [
       "Statement(Item(IRI('http://www.wikidata.org/entity/Q18')), NoValueSnak(Property(IRI('http://www.wikidata.org/entity/P17'), ItemDatatype())))"
      ]
     },
     "execution_count": 17,
     "metadata": {},
     "output_type": "execute_result"
    }
   ],
   "source": [
    "# match statements whose subject is \"the continent of Brazil\"\n",
    "next(kb.filter(subject=-(wd.continent(wd.Brazil))))"
   ]
  },
  {
   "cell_type": "markdown",
   "id": "307986ee-94ca-4a34-9e61-c8cfebed772d",
   "metadata": {},
   "source": [
    "## And-ing and or-ing fingeprints"
   ]
  },
  {
   "cell_type": "markdown",
   "id": "89ed5d72-91b6-4448-b215-b7d10eadd801",
   "metadata": {},
   "source": [
    "Ids and fingerpints can be combined using the operators `&` (and) and `|` (or).\n",
    "\n",
    "For example:"
   ]
  },
  {
   "cell_type": "code",
   "execution_count": 18,
   "id": "2514d22c-5c03-466d-b667-c0b33415f53c",
   "metadata": {},
   "outputs": [
    {
     "data": {
      "text/markdown": [
       "(**Statement** (**Item** [Brazil](http://www.wikidata.org/entity/Q155)) (**ValueSnak** (**Property** [continent](http://www.wikidata.org/entity/P30)) (**Item** [South America](http://www.wikidata.org/entity/Q18))))"
      ],
      "text/plain": [
       "Statement(Item(IRI('http://www.wikidata.org/entity/Q155')), ValueSnak(Property(IRI('http://www.wikidata.org/entity/P30'), ItemDatatype()), Item(IRI('http://www.wikidata.org/entity/Q18'))))"
      ]
     },
     "metadata": {},
     "output_type": "display_data"
    },
    {
     "data": {
      "text/markdown": [
       "(**Statement** (**Item** [Brazil](http://www.wikidata.org/entity/Q155)) (**ValueSnak** (**Property** [highest point](http://www.wikidata.org/entity/P610)) (**Item** [Pico da Neblina](http://www.wikidata.org/entity/Q739484))))"
      ],
      "text/plain": [
       "Statement(Item(IRI('http://www.wikidata.org/entity/Q155')), ValueSnak(Property(IRI('http://www.wikidata.org/entity/P610'), ItemDatatype()), Item(IRI('http://www.wikidata.org/entity/Q739484'))))"
      ]
     },
     "metadata": {},
     "output_type": "display_data"
    },
    {
     "data": {
      "text/markdown": [
       "(**Statement** (**Item** [Argentina](http://www.wikidata.org/entity/Q414)) (**ValueSnak** (**Property** [continent](http://www.wikidata.org/entity/P30)) (**Item** [South America](http://www.wikidata.org/entity/Q18))))"
      ],
      "text/plain": [
       "Statement(Item(IRI('http://www.wikidata.org/entity/Q414')), ValueSnak(Property(IRI('http://www.wikidata.org/entity/P30'), ItemDatatype()), Item(IRI('http://www.wikidata.org/entity/Q18'))))"
      ]
     },
     "metadata": {},
     "output_type": "display_data"
    },
    {
     "data": {
      "text/markdown": [
       "(**Statement** (**Item** [Argentina](http://www.wikidata.org/entity/Q414)) (**ValueSnak** (**Property** [highest point](http://www.wikidata.org/entity/P610)) (**Item** [wd:Q39739](http://www.wikidata.org/entity/Q39739))))"
      ],
      "text/plain": [
       "Statement(Item(IRI('http://www.wikidata.org/entity/Q414')), ValueSnak(Property(IRI('http://www.wikidata.org/entity/P610'), ItemDatatype()), Item(IRI('http://www.wikidata.org/entity/Q39739'))))"
      ]
     },
     "metadata": {},
     "output_type": "display_data"
    }
   ],
   "source": [
    "# match four statements such that:\n",
    "# - subject is \"Brazil\" or \"Argentina\"\n",
    "# - property is \"continent\" or \"highest point\"\n",
    "it = kb.filter(subject=wd.Brazil | wd.Argentina, property=wd.continent | wd.highest_point, limit=4)\n",
    "for stmt in it:\n",
    "    display(stmt)"
   ]
  },
  {
   "cell_type": "code",
   "execution_count": 19,
   "id": "9b1c756c-6524-4d2d-b82e-89b8c1953d79",
   "metadata": {},
   "outputs": [
    {
     "data": {
      "text/markdown": [
       "(**Statement** (**Item** [Brazil](http://www.wikidata.org/entity/Q155)) (**ValueSnak** (**Property** [located in or next to body of water](http://www.wikidata.org/entity/P206)) (**Item** [wd:Q127892](http://www.wikidata.org/entity/Q127892))))"
      ],
      "text/plain": [
       "Statement(Item(IRI('http://www.wikidata.org/entity/Q155')), ValueSnak(Property(IRI('http://www.wikidata.org/entity/P206'), ItemDatatype()), Item(IRI('http://www.wikidata.org/entity/Q127892'))))"
      ]
     },
     "metadata": {},
     "output_type": "display_data"
    },
    {
     "data": {
      "text/markdown": [
       "(**Statement** (**Item** [Brazil](http://www.wikidata.org/entity/Q155)) (**ValueSnak** (**Property** [located in or next to body of water](http://www.wikidata.org/entity/P206)) (**Item** [wd:Q142148](http://www.wikidata.org/entity/Q142148))))"
      ],
      "text/plain": [
       "Statement(Item(IRI('http://www.wikidata.org/entity/Q155')), ValueSnak(Property(IRI('http://www.wikidata.org/entity/P206'), ItemDatatype()), Item(IRI('http://www.wikidata.org/entity/Q142148'))))"
      ]
     },
     "metadata": {},
     "output_type": "display_data"
    },
    {
     "data": {
      "text/markdown": [
       "(**Statement** (**Item** [Brazil](http://www.wikidata.org/entity/Q155)) (**ValueSnak** (**Property** [located in or next to body of water](http://www.wikidata.org/entity/P206)) (**Item** [wd:Q3783](http://www.wikidata.org/entity/Q3783))))"
      ],
      "text/plain": [
       "Statement(Item(IRI('http://www.wikidata.org/entity/Q155')), ValueSnak(Property(IRI('http://www.wikidata.org/entity/P206'), ItemDatatype()), Item(IRI('http://www.wikidata.org/entity/Q3783'))))"
      ]
     },
     "metadata": {},
     "output_type": "display_data"
    },
    {
     "data": {
      "text/markdown": [
       "(**Statement** (**Item** [Brazil](http://www.wikidata.org/entity/Q155)) (**ValueSnak** (**Property** [highest point](http://www.wikidata.org/entity/P610)) (**Item** [Pico da Neblina](http://www.wikidata.org/entity/Q739484))))"
      ],
      "text/plain": [
       "Statement(Item(IRI('http://www.wikidata.org/entity/Q155')), ValueSnak(Property(IRI('http://www.wikidata.org/entity/P610'), ItemDatatype()), Item(IRI('http://www.wikidata.org/entity/Q739484'))))"
      ]
     },
     "metadata": {},
     "output_type": "display_data"
    }
   ],
   "source": [
    "# match four statements such that:\n",
    "# - subject \"has continent South America\" and \"official language is Portuguese\"\n",
    "# - value \"is a river\" or \"is a mountain\"\n",
    "it = kb.filter(\n",
    "    subject=wd.continent(wd.South_America) & wd.official_language(wd.Portuguese),\n",
    "    value=wd.instance_of(wd.river) | wd.instance_of(wd.mountain),\n",
    "    limit=4)\n",
    "for stmt in it:\n",
    "    display(stmt)"
   ]
  },
  {
   "cell_type": "code",
   "execution_count": 20,
   "id": "e9e2f232-b4b2-4750-b0bd-8c062aa987ca",
   "metadata": {},
   "outputs": [],
   "source": [
    "# match four statements such that:\n",
    "# - subject is \"a female\" and (\"was born in NYC\" or \"was born in Rio\")\n",
    "# - property is \"field of work\" or is \"equivalent to Schema.org's 'hasOccupation'\""
   ]
  },
  {
   "cell_type": "code",
   "execution_count": 21,
   "id": "c4d2a041-1422-4714-ae39-2ec2c43a449f",
   "metadata": {},
   "outputs": [
    {
     "data": {
      "text/markdown": [
       "(**Statement** (**Item** [wd:Q7212](http://www.wikidata.org/entity/Q7212)) (**ValueSnak** (**Property** [occupation](http://www.wikidata.org/entity/P106)) (**Item** [wd:Q593644](http://www.wikidata.org/entity/Q593644))))"
      ],
      "text/plain": [
       "Statement(Item(IRI('http://www.wikidata.org/entity/Q7212')), ValueSnak(Property(IRI('http://www.wikidata.org/entity/P106'), ItemDatatype()), Item(IRI('http://www.wikidata.org/entity/Q593644'))))"
      ]
     },
     "metadata": {},
     "output_type": "display_data"
    },
    {
     "data": {
      "text/markdown": [
       "(**Statement** (**Item** [wd:Q7212](http://www.wikidata.org/entity/Q7212)) (**ValueSnak** (**Property** [occupation](http://www.wikidata.org/entity/P106)) (**Item** [wd:Q16533](http://www.wikidata.org/entity/Q16533))))"
      ],
      "text/plain": [
       "Statement(Item(IRI('http://www.wikidata.org/entity/Q7212')), ValueSnak(Property(IRI('http://www.wikidata.org/entity/P106'), ItemDatatype()), Item(IRI('http://www.wikidata.org/entity/Q16533'))))"
      ]
     },
     "metadata": {},
     "output_type": "display_data"
    },
    {
     "data": {
      "text/markdown": [
       "(**Statement** (**Item** [wd:Q7491](http://www.wikidata.org/entity/Q7491)) (**ValueSnak** (**Property** [occupation](http://www.wikidata.org/entity/P106)) (**Item** [wd:Q593644](http://www.wikidata.org/entity/Q593644))))"
      ],
      "text/plain": [
       "Statement(Item(IRI('http://www.wikidata.org/entity/Q7491')), ValueSnak(Property(IRI('http://www.wikidata.org/entity/P106'), ItemDatatype()), Item(IRI('http://www.wikidata.org/entity/Q593644'))))"
      ]
     },
     "metadata": {},
     "output_type": "display_data"
    },
    {
     "data": {
      "text/markdown": [
       "(**Statement** (**Item** [wd:Q7491](http://www.wikidata.org/entity/Q7491)) (**ValueSnak** (**Property** [occupation](http://www.wikidata.org/entity/P106)) (**Item** [wd:Q107526461](http://www.wikidata.org/entity/Q107526461))))"
      ],
      "text/plain": [
       "Statement(Item(IRI('http://www.wikidata.org/entity/Q7491')), ValueSnak(Property(IRI('http://www.wikidata.org/entity/P106'), ItemDatatype()), Item(IRI('http://www.wikidata.org/entity/Q107526461'))))"
      ]
     },
     "metadata": {},
     "output_type": "display_data"
    }
   ],
   "source": [
    "it = kb.filter(\n",
    "    subject=wd.sex_or_gender(wd.female) & (wd.place_of_birth(wd.New_York_City) | wd.place_of_birth(wd.Rio_de_Janeiro)),\n",
    "    property=wd.field_of_work | wd.equivalent_property(IRI('https://schema.org/hasOccupation')),\n",
    "    limit=4)\n",
    "for stmt in it:\n",
    "    display(stmt)"
   ]
  },
  {
   "cell_type": "markdown",
   "id": "28c08dfd-05f5-4448-81f4-dbd4b9d5b9ee",
   "metadata": {},
   "source": [
    "## Count and contains"
   ]
  },
  {
   "cell_type": "markdown",
   "id": "5e9dfc3e-333a-41e2-b023-7b73710125a0",
   "metadata": {},
   "source": [
    "A variant of filter is `kb.count()` which counts the number of statements matching the given restrictions:"
   ]
  },
  {
   "cell_type": "code",
   "execution_count": 22,
   "id": "0ece9a9a-3afd-4331-8c0b-202b48bf5c33",
   "metadata": {},
   "outputs": [
    {
     "data": {
      "text/plain": [
       "2"
      ]
     },
     "execution_count": 22,
     "metadata": {},
     "output_type": "execute_result"
    }
   ],
   "source": [
    "kb.count(subject=wd.Brazil, property=wd.population | wd.official_language)"
   ]
  },
  {
   "cell_type": "markdown",
   "id": "eaba6c3b-26f0-49f1-b2a5-4d69fbe96313",
   "metadata": {},
   "source": [
    "Another variant if `kb.contains()` which tests whether a given statement is in `kb`."
   ]
  },
  {
   "cell_type": "code",
   "execution_count": 23,
   "id": "5452816e-9b99-47d1-88bd-02c968c2b992",
   "metadata": {},
   "outputs": [
    {
     "data": {
      "text/plain": [
       "True"
      ]
     },
     "execution_count": 23,
     "metadata": {},
     "output_type": "execute_result"
    }
   ],
   "source": [
    "stmt1 = wd.official_language(wd.Brazil, wd.Portuguese)\n",
    "kb.contains(stmt1)"
   ]
  },
  {
   "cell_type": "code",
   "execution_count": 24,
   "id": "97189e62-9905-49e6-98e0-e378fd99a44e",
   "metadata": {},
   "outputs": [
    {
     "data": {
      "text/plain": [
       "False"
      ]
     },
     "execution_count": 24,
     "metadata": {},
     "output_type": "execute_result"
    }
   ],
   "source": [
    "stmt2 = wd.official_language(wd.Brazil, wd.Spanish)\n",
    "kb.contains(stmt2)"
   ]
  },
  {
   "cell_type": "markdown",
   "id": "2a851de2-b05a-4890-b502-4d67064319cd",
   "metadata": {},
   "source": [
    "## Final remarks"
   ]
  },
  {
   "cell_type": "markdown",
   "id": "bce21e1c-7600-44b5-8c45-0b93dfd0383c",
   "metadata": {},
   "source": [
    "This concludes the quickstart guide.\n",
    "\n",
    "There are many other calls in KIF's Store API.  For more information see, the [API docs](https://ibm.github.io/kif/) and the [examples](https://github.com/IBM/kif/tree/main/examples) dir."
   ]
  }
 ],
 "metadata": {
  "kernelspec": {
   "display_name": "kif",
   "language": "python",
   "name": "kif"
  },
  "language_info": {
   "codemirror_mode": {
    "name": "ipython",
    "version": 3
   },
   "file_extension": ".py",
   "mimetype": "text/x-python",
   "name": "python",
   "nbconvert_exporter": "python",
   "pygments_lexer": "ipython3",
   "version": "3.12.4"
  }
 },
 "nbformat": 4,
 "nbformat_minor": 5
}
