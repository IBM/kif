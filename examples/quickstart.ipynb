{
 "cells": [
  {
   "cell_type": "markdown",
   "id": "89b2cdfb-8bd3-4d88-af52-e721b80584eb",
   "metadata": {},
   "source": [
    "# Quickstart"
   ]
  },
  {
   "cell_type": "markdown",
   "id": "df0e05ed-89e5-4245-9f9f-07922d41069f",
   "metadata": {},
   "source": [
    "Import the `kif_lib` namespace:"
   ]
  },
  {
   "cell_type": "code",
   "execution_count": 1,
   "id": "434a5270-9e55-412b-b0c9-a50fafd0ed37",
   "metadata": {},
   "outputs": [],
   "source": [
    "from kif_lib import *"
   ]
  },
  {
   "cell_type": "markdown",
   "id": "07108905-ff49-4f1c-8ec0-6a7ec64b16d4",
   "metadata": {},
   "source": [
    "Import the Wikidata vocabulary module `wd`:"
   ]
  },
  {
   "cell_type": "code",
   "execution_count": 2,
   "id": "cfddd770-8a47-4f85-b134-911b5081491d",
   "metadata": {},
   "outputs": [],
   "source": [
    "from kif_lib.vocabulary import wd"
   ]
  },
  {
   "cell_type": "markdown",
   "id": "a61d582f-ecd8-4348-b6a7-ef667fe50482",
   "metadata": {},
   "source": [
    "Create a KIF store pointing to the official Wikidata query service:"
   ]
  },
  {
   "cell_type": "code",
   "execution_count": 3,
   "id": "e86e782b-1ff1-4158-9082-9ccad4a12cae",
   "metadata": {},
   "outputs": [],
   "source": [
    "kb = Store('wikidata')"
   ]
  },
  {
   "cell_type": "markdown",
   "id": "9aa56f08-b208-480c-86c2-e7499e7efe15",
   "metadata": {},
   "source": [
    "Fetch and print three statements about Brazil:"
   ]
  },
  {
   "cell_type": "code",
   "execution_count": 4,
   "id": "786611d9-0fea-46c8-a715-37a12a80a1eb",
   "metadata": {},
   "outputs": [
    {
     "data": {
      "text/markdown": [
       "(**Statement** (**Item** [Brazil](http://www.wikidata.org/entity/Q155)) (**ValueSnak** (**Property** [shares border with](http://www.wikidata.org/entity/P47)) (**Item** [Argentina](http://www.wikidata.org/entity/Q414))))"
      ],
      "text/plain": [
       "Statement(Item(IRI('http://www.wikidata.org/entity/Q155')), ValueSnak(Property(IRI('http://www.wikidata.org/entity/P47'), ItemDatatype()), Item(IRI('http://www.wikidata.org/entity/Q414'))))"
      ]
     },
     "metadata": {},
     "output_type": "display_data"
    },
    {
     "data": {
      "text/markdown": [
       "(**Statement** (**Item** [Brazil](http://www.wikidata.org/entity/Q155)) (**ValueSnak** (**Property** [shares border with](http://www.wikidata.org/entity/P47)) (**Item** [Paraguay](http://www.wikidata.org/entity/Q733))))"
      ],
      "text/plain": [
       "Statement(Item(IRI('http://www.wikidata.org/entity/Q155')), ValueSnak(Property(IRI('http://www.wikidata.org/entity/P47'), ItemDatatype()), Item(IRI('http://www.wikidata.org/entity/Q733'))))"
      ]
     },
     "metadata": {},
     "output_type": "display_data"
    },
    {
     "data": {
      "text/markdown": [
       "(**Statement** (**Item** [Brazil](http://www.wikidata.org/entity/Q155)) (**ValueSnak** (**Property** [shares border with](http://www.wikidata.org/entity/P47)) (**Item** [wd:Q142](http://www.wikidata.org/entity/Q142))))"
      ],
      "text/plain": [
       "Statement(Item(IRI('http://www.wikidata.org/entity/Q155')), ValueSnak(Property(IRI('http://www.wikidata.org/entity/P47'), ItemDatatype()), Item(IRI('http://www.wikidata.org/entity/Q142'))))"
      ]
     },
     "metadata": {},
     "output_type": "display_data"
    }
   ],
   "source": [
    "it = kb.filter(subject=wd.Brazil, limit=3)\n",
    "for stmt in it:\n",
    "    display(stmt)"
   ]
  },
  {
   "cell_type": "markdown",
   "id": "c891b3e1-3272-4c3f-8a81-2d27693da65f",
   "metadata": {},
   "source": [
    "## Filters"
   ]
  },
  {
   "cell_type": "markdown",
   "id": "0a27351c-1d26-4dc9-9fc6-ecd6b61e9b0f",
   "metadata": {},
   "source": [
    "The `kb.filter(...)` call searches for statements in `kb` whose structure matches the restrictions `...`."
   ]
  },
  {
   "cell_type": "markdown",
   "id": "aae45738-5e4a-46f2-a7ef-5eede085713e",
   "metadata": {},
   "source": [
    "### Basic filters"
   ]
  },
  {
   "cell_type": "markdown",
   "id": "a160b932-ebb5-48fb-8bce-976dd4bddc6c",
   "metadata": {},
   "source": [
    "We can filter statements by any combination of *subject*, *property*, and *value*:"
   ]
  },
  {
   "cell_type": "code",
   "execution_count": 5,
   "id": "2703a807-ea79-4764-84c1-0e8d2d7d4f50",
   "metadata": {},
   "outputs": [
    {
     "data": {
      "text/markdown": [
       "(**Statement** (**Item** [Brazil](http://www.wikidata.org/entity/Q155)) (**ValueSnak** (**Property** [official website](http://www.wikidata.org/entity/P856)) [https://www.gov.br](https://www.gov.br)))"
      ],
      "text/plain": [
       "Statement(Item(IRI('http://www.wikidata.org/entity/Q155')), ValueSnak(Property(IRI('http://www.wikidata.org/entity/P856'), IRI_Datatype()), IRI('https://www.gov.br')))"
      ]
     },
     "metadata": {},
     "output_type": "display_data"
    },
    {
     "data": {
      "text/markdown": [
       "(**Statement** (**Item** [IBM](http://www.wikidata.org/entity/Q37156)) (**ValueSnak** (**Property** [official website](http://www.wikidata.org/entity/P856)) [https://www.ibm.com/](https://www.ibm.com/)))"
      ],
      "text/plain": [
       "Statement(Item(IRI('http://www.wikidata.org/entity/Q37156')), ValueSnak(Property(IRI('http://www.wikidata.org/entity/P856'), IRI_Datatype()), IRI('https://www.ibm.com/')))"
      ]
     },
     "metadata": {},
     "output_type": "display_data"
    },
    {
     "data": {
      "text/markdown": [
       "(**Statement** (**Item** [wd:Q83057204](http://www.wikidata.org/entity/Q83057204)) (**ValueSnak** (**Property** [mass](http://www.wikidata.org/entity/P2067)) (**Quantity** 78.046950192 (**Item** [dalton](http://www.wikidata.org/entity/Q483261)))))"
      ],
      "text/plain": [
       "Statement(Item(IRI('http://www.wikidata.org/entity/Q83057204')), ValueSnak(Property(IRI('http://www.wikidata.org/entity/P2067'), QuantityDatatype()), Quantity(Decimal('78.046950192'), Item(IRI('http://www.wikidata.org/entity/Q483261')), None, None)))"
      ]
     },
     "metadata": {},
     "output_type": "display_data"
    }
   ],
   "source": [
    "display(next(kb.filter(subject=wd.Brazil, property=wd.official_website)))\n",
    "display(next(kb.filter(property=wd.official_website, value=IRI('https://www.ibm.com/'))))\n",
    "display(next(kb.filter(value=Quantity('78.046950192', unit=wd.dalton))))"
   ]
  },
  {
   "cell_type": "markdown",
   "id": "e5fdabe0-c9c1-4648-b508-6e75274a020f",
   "metadata": {},
   "source": [
    "We can also match statements having an *some* (unknown) value:"
   ]
  },
  {
   "cell_type": "code",
   "execution_count": 6,
   "id": "ed56053e-5c56-4598-8490-82427ea8d6ec",
   "metadata": {},
   "outputs": [
    {
     "data": {
      "text/markdown": [
       "(**Statement** (**Item** [wd:Q7262](http://www.wikidata.org/entity/Q7262)) (**SomeValueSnak** (**Property** [date of birth](http://www.wikidata.org/entity/P569))))"
      ],
      "text/plain": [
       "Statement(Item(IRI('http://www.wikidata.org/entity/Q7262')), SomeValueSnak(Property(IRI('http://www.wikidata.org/entity/P569'), TimeDatatype())))"
      ]
     },
     "execution_count": 6,
     "metadata": {},
     "output_type": "execute_result"
    }
   ],
   "source": [
    "next(kb.filter(snak=wd.date_of_birth.some_value()))"
   ]
  },
  {
   "cell_type": "markdown",
   "id": "5f326221-f2a8-47f6-8ec9-2933ef24d294",
   "metadata": {},
   "source": [
    "Or *no* value:"
   ]
  },
  {
   "cell_type": "code",
   "execution_count": 7,
   "id": "890a3b2b-8f56-4185-8b9b-ee697d6d85d2",
   "metadata": {},
   "outputs": [
    {
     "data": {
      "text/markdown": [
       "(**Statement** (**Item** [wd:Q124967648](http://www.wikidata.org/entity/Q124967648)) (**NoValueSnak** (**Property** [date of death](http://www.wikidata.org/entity/P570))))"
      ],
      "text/plain": [
       "Statement(Item(IRI('http://www.wikidata.org/entity/Q124967648')), NoValueSnak(Property(IRI('http://www.wikidata.org/entity/P570'), TimeDatatype())))"
      ]
     },
     "execution_count": 7,
     "metadata": {},
     "output_type": "execute_result"
    }
   ],
   "source": [
    "next(kb.filter(snak=wd.date_of_death.no_value()))"
   ]
  },
  {
   "cell_type": "markdown",
   "id": "67ee120d-74ad-494c-991e-864d5e75f73b",
   "metadata": {},
   "source": [
    "### Indirect ids"
   ]
  },
  {
   "cell_type": "markdown",
   "id": "38cae115-3e05-4005-bf84-45816bd45138",
   "metadata": {},
   "source": [
    "We can use properties to identify (indirectly) the subject, property, or value of a statement.\n",
    "\n",
    "For instance, the following filter matches the statements whose subject is a country and value is a person:"
   ]
  },
  {
   "cell_type": "code",
   "execution_count": 8,
   "id": "e1f02fa2-7436-4589-87b3-ec5cc77b4eeb",
   "metadata": {},
   "outputs": [
    {
     "data": {
      "text/markdown": [
       "(**Statement** (**Item** [wd:Q1049](http://www.wikidata.org/entity/Q1049)) (**ValueSnak** (**Property** [continent](http://www.wikidata.org/entity/P30)) (**Item** [wd:Q15](http://www.wikidata.org/entity/Q15))))"
      ],
      "text/plain": [
       "Statement(Item(IRI('http://www.wikidata.org/entity/Q1049')), ValueSnak(Property(IRI('http://www.wikidata.org/entity/P30'), ItemDatatype()), Item(IRI('http://www.wikidata.org/entity/Q15'))))"
      ]
     },
     "execution_count": 8,
     "metadata": {},
     "output_type": "execute_result"
    }
   ],
   "source": [
    "next(kb.filter(subject=wd.instance_of(wd.country_), value=wd.instance_of(wd.continent_)))"
   ]
  },
  {
   "cell_type": "markdown",
   "id": "427444d4-19c7-4626-81e1-b7bf4ced1b24",
   "metadata": {},
   "source": [
    "Properties can also be identified indirectly.\n",
    "\n",
    "For instance, the following filter matches statements whose property is equivalent to Schema.org's \"weight\":"
   ]
  },
  {
   "cell_type": "code",
   "execution_count": 9,
   "id": "efd7e648-1253-4739-9c5f-4f51d437e9f8",
   "metadata": {},
   "outputs": [
    {
     "data": {
      "text/markdown": [
       "(**Statement** (**Item** [wd:Q38824](http://www.wikidata.org/entity/Q38824)) (**ValueSnak** (**Property** [mass](http://www.wikidata.org/entity/P2067)) (**Quantity** 17 (**Item** [kilogram](http://www.wikidata.org/entity/Q11570)))))"
      ],
      "text/plain": [
       "Statement(Item(IRI('http://www.wikidata.org/entity/Q38824')), ValueSnak(Property(IRI('http://www.wikidata.org/entity/P2067'), QuantityDatatype()), Quantity(Decimal('17'), Item(IRI('http://www.wikidata.org/entity/Q11570')), None, None)))"
      ]
     },
     "execution_count": 9,
     "metadata": {},
     "output_type": "execute_result"
    }
   ],
   "source": [
    "next(kb.filter(property=wd.equivalent_property('https://schema.org/weight')))"
   ]
  },
  {
   "cell_type": "markdown",
   "id": "307986ee-94ca-4a34-9e61-c8cfebed772d",
   "metadata": {},
   "source": [
    "### And-ing and Or-ing"
   ]
  },
  {
   "cell_type": "code",
   "execution_count": 10,
   "id": "947ff6f8-d58d-4830-96f9-b2ff11c3d4fc",
   "metadata": {},
   "outputs": [
    {
     "data": {
      "text/markdown": [
       "(**Statement** (**Item** [Adam](http://www.wikidata.org/entity/Q70899)) (**NoValueSnak** (**Property** [father](http://www.wikidata.org/entity/P22))))"
      ],
      "text/plain": [
       "Statement(Item(IRI('http://www.wikidata.org/entity/Q70899')), NoValueSnak(Property(IRI('http://www.wikidata.org/entity/P22'), ItemDatatype())))"
      ]
     },
     "metadata": {},
     "output_type": "display_data"
    },
    {
     "data": {
      "text/markdown": [
       "(**Statement** (**Item** [Adam](http://www.wikidata.org/entity/Q70899)) (**NoValueSnak** (**Property** [mother](http://www.wikidata.org/entity/P25))))"
      ],
      "text/plain": [
       "Statement(Item(IRI('http://www.wikidata.org/entity/Q70899')), NoValueSnak(Property(IRI('http://www.wikidata.org/entity/P25'), ItemDatatype())))"
      ]
     },
     "metadata": {},
     "output_type": "display_data"
    },
    {
     "data": {
      "text/markdown": [
       "(**Statement** (**Item** [Adam](http://www.wikidata.org/entity/Q70899)) (**ValueSnak** (**Property** [child](http://www.wikidata.org/entity/P40)) (**Item** [wd:Q313421](http://www.wikidata.org/entity/Q313421))))"
      ],
      "text/plain": [
       "Statement(Item(IRI('http://www.wikidata.org/entity/Q70899')), ValueSnak(Property(IRI('http://www.wikidata.org/entity/P40'), ItemDatatype()), Item(IRI('http://www.wikidata.org/entity/Q313421'))))"
      ]
     },
     "metadata": {},
     "output_type": "display_data"
    },
    {
     "data": {
      "text/markdown": [
       "(**Statement** (**Item** [Adam](http://www.wikidata.org/entity/Q70899)) (**ValueSnak** (**Property** [child](http://www.wikidata.org/entity/P40)) (**Item** [wd:Q9639242](http://www.wikidata.org/entity/Q9639242))))"
      ],
      "text/plain": [
       "Statement(Item(IRI('http://www.wikidata.org/entity/Q70899')), ValueSnak(Property(IRI('http://www.wikidata.org/entity/P40'), ItemDatatype()), Item(IRI('http://www.wikidata.org/entity/Q9639242'))))"
      ]
     },
     "metadata": {},
     "output_type": "display_data"
    },
    {
     "data": {
      "text/markdown": [
       "(**Statement** (**Item** [Adam](http://www.wikidata.org/entity/Q70899)) (**ValueSnak** (**Property** [child](http://www.wikidata.org/entity/P40)) (**Item** [wd:Q9641412](http://www.wikidata.org/entity/Q9641412))))"
      ],
      "text/plain": [
       "Statement(Item(IRI('http://www.wikidata.org/entity/Q70899')), ValueSnak(Property(IRI('http://www.wikidata.org/entity/P40'), ItemDatatype()), Item(IRI('http://www.wikidata.org/entity/Q9641412'))))"
      ]
     },
     "metadata": {},
     "output_type": "display_data"
    },
    {
     "data": {
      "text/markdown": [
       "(**Statement** (**Item** [Adam](http://www.wikidata.org/entity/Q70899)) (**ValueSnak** (**Property** [instance of](http://www.wikidata.org/entity/P31)) (**Item** [wd:Q20643955](http://www.wikidata.org/entity/Q20643955))))"
      ],
      "text/plain": [
       "Statement(Item(IRI('http://www.wikidata.org/entity/Q70899')), ValueSnak(Property(IRI('http://www.wikidata.org/entity/P31'), ItemDatatype()), Item(IRI('http://www.wikidata.org/entity/Q20643955'))))"
      ]
     },
     "metadata": {},
     "output_type": "display_data"
    },
    {
     "data": {
      "text/markdown": [
       "(**Statement** (**Item** [Adam](http://www.wikidata.org/entity/Q70899)) (**ValueSnak** (**Property** [occupation](http://www.wikidata.org/entity/P106)) (**Item** [wd:Q1714828](http://www.wikidata.org/entity/Q1714828))))"
      ],
      "text/plain": [
       "Statement(Item(IRI('http://www.wikidata.org/entity/Q70899')), ValueSnak(Property(IRI('http://www.wikidata.org/entity/P106'), ItemDatatype()), Item(IRI('http://www.wikidata.org/entity/Q1714828'))))"
      ]
     },
     "metadata": {},
     "output_type": "display_data"
    },
    {
     "data": {
      "text/markdown": [
       "(**Statement** (**Item** [Adam](http://www.wikidata.org/entity/Q70899)) (**ValueSnak** (**Property** [child](http://www.wikidata.org/entity/P40)) (**Item** [wd:Q5681043](http://www.wikidata.org/entity/Q5681043))))"
      ],
      "text/plain": [
       "Statement(Item(IRI('http://www.wikidata.org/entity/Q70899')), ValueSnak(Property(IRI('http://www.wikidata.org/entity/P40'), ItemDatatype()), Item(IRI('http://www.wikidata.org/entity/Q5681043'))))"
      ]
     },
     "metadata": {},
     "output_type": "display_data"
    },
    {
     "data": {
      "text/markdown": [
       "(**Statement** (**Item** [Adam](http://www.wikidata.org/entity/Q70899)) (**ValueSnak** (**Property** [instance of](http://www.wikidata.org/entity/P31)) (**Item** [wd:Q4349921](http://www.wikidata.org/entity/Q4349921))))"
      ],
      "text/plain": [
       "Statement(Item(IRI('http://www.wikidata.org/entity/Q70899')), ValueSnak(Property(IRI('http://www.wikidata.org/entity/P31'), ItemDatatype()), Item(IRI('http://www.wikidata.org/entity/Q4349921'))))"
      ]
     },
     "metadata": {},
     "output_type": "display_data"
    },
    {
     "data": {
      "text/markdown": [
       "(**Statement** (**Item** [Adam](http://www.wikidata.org/entity/Q70899)) (**ValueSnak** (**Property** [place of birth](http://www.wikidata.org/entity/P19)) (**Item** [Garden of Eden](http://www.wikidata.org/entity/Q19014))))"
      ],
      "text/plain": [
       "Statement(Item(IRI('http://www.wikidata.org/entity/Q70899')), ValueSnak(Property(IRI('http://www.wikidata.org/entity/P19'), ItemDatatype()), Item(IRI('http://www.wikidata.org/entity/Q19014'))))"
      ]
     },
     "metadata": {},
     "output_type": "display_data"
    },
    {
     "data": {
      "text/markdown": [
       "(**Statement** (**Item** [Adam](http://www.wikidata.org/entity/Q70899)) (**ValueSnak** (**Property** [child](http://www.wikidata.org/entity/P40)) (**Item** [wd:Q205365](http://www.wikidata.org/entity/Q205365))))"
      ],
      "text/plain": [
       "Statement(Item(IRI('http://www.wikidata.org/entity/Q70899')), ValueSnak(Property(IRI('http://www.wikidata.org/entity/P40'), ItemDatatype()), Item(IRI('http://www.wikidata.org/entity/Q205365'))))"
      ]
     },
     "metadata": {},
     "output_type": "display_data"
    },
    {
     "data": {
      "text/markdown": [
       "(**Statement** (**Item** [Adam](http://www.wikidata.org/entity/Q70899)) (**ValueSnak** (**Property** [spouse](http://www.wikidata.org/entity/P26)) (**Item** [wd:Q180627](http://www.wikidata.org/entity/Q180627))))"
      ],
      "text/plain": [
       "Statement(Item(IRI('http://www.wikidata.org/entity/Q70899')), ValueSnak(Property(IRI('http://www.wikidata.org/entity/P26'), ItemDatatype()), Item(IRI('http://www.wikidata.org/entity/Q180627'))))"
      ]
     },
     "metadata": {},
     "output_type": "display_data"
    },
    {
     "data": {
      "text/markdown": [
       "(**Statement** (**Item** [Adam](http://www.wikidata.org/entity/Q70899)) (**ValueSnak** (**Property** [child](http://www.wikidata.org/entity/P40)) (**Item** [wd:Q107626](http://www.wikidata.org/entity/Q107626))))"
      ],
      "text/plain": [
       "Statement(Item(IRI('http://www.wikidata.org/entity/Q70899')), ValueSnak(Property(IRI('http://www.wikidata.org/entity/P40'), ItemDatatype()), Item(IRI('http://www.wikidata.org/entity/Q107626'))))"
      ]
     },
     "metadata": {},
     "output_type": "display_data"
    },
    {
     "data": {
      "text/markdown": [
       "(**Statement** (**Item** [Adam](http://www.wikidata.org/entity/Q70899)) (**ValueSnak** (**Property** [spouse](http://www.wikidata.org/entity/P26)) (**Item** [Eve](http://www.wikidata.org/entity/Q830183))))"
      ],
      "text/plain": [
       "Statement(Item(IRI('http://www.wikidata.org/entity/Q70899')), ValueSnak(Property(IRI('http://www.wikidata.org/entity/P26'), ItemDatatype()), Item(IRI('http://www.wikidata.org/entity/Q830183'))))"
      ]
     },
     "metadata": {},
     "output_type": "display_data"
    },
    {
     "data": {
      "text/markdown": [
       "(**Statement** (**Item** [Adam](http://www.wikidata.org/entity/Q70899)) (**ValueSnak** (**Property** [sex or gender](http://www.wikidata.org/entity/P21)) (**Item** [wd:Q6581097](http://www.wikidata.org/entity/Q6581097))))"
      ],
      "text/plain": [
       "Statement(Item(IRI('http://www.wikidata.org/entity/Q70899')), ValueSnak(Property(IRI('http://www.wikidata.org/entity/P21'), ItemDatatype()), Item(IRI('http://www.wikidata.org/entity/Q6581097'))))"
      ]
     },
     "metadata": {},
     "output_type": "display_data"
    },
    {
     "data": {
      "text/markdown": [
       "(**Statement** (**Item** [Adam](http://www.wikidata.org/entity/Q70899)) (**ValueSnak** (**Property** [sex or gender](http://www.wikidata.org/entity/P21)) (**Item** [wd:Q4759445](http://www.wikidata.org/entity/Q4759445))))"
      ],
      "text/plain": [
       "Statement(Item(IRI('http://www.wikidata.org/entity/Q70899')), ValueSnak(Property(IRI('http://www.wikidata.org/entity/P21'), ItemDatatype()), Item(IRI('http://www.wikidata.org/entity/Q4759445'))))"
      ]
     },
     "metadata": {},
     "output_type": "display_data"
    },
    {
     "data": {
      "text/markdown": [
       "(**Statement** (**Item** [Adam](http://www.wikidata.org/entity/Q70899)) (**ValueSnak** (**Property** [instance of](http://www.wikidata.org/entity/P31)) (**Item** [wd:Q4271324](http://www.wikidata.org/entity/Q4271324))))"
      ],
      "text/plain": [
       "Statement(Item(IRI('http://www.wikidata.org/entity/Q70899')), ValueSnak(Property(IRI('http://www.wikidata.org/entity/P31'), ItemDatatype()), Item(IRI('http://www.wikidata.org/entity/Q4271324'))))"
      ]
     },
     "metadata": {},
     "output_type": "display_data"
    },
    {
     "data": {
      "text/markdown": [
       "(**Statement** (**Item** [Adam](http://www.wikidata.org/entity/Q70899)) (**ValueSnak** (**Property** [occupation](http://www.wikidata.org/entity/P106)) (**Item** [wd:Q168827](http://www.wikidata.org/entity/Q168827))))"
      ],
      "text/plain": [
       "Statement(Item(IRI('http://www.wikidata.org/entity/Q70899')), ValueSnak(Property(IRI('http://www.wikidata.org/entity/P106'), ItemDatatype()), Item(IRI('http://www.wikidata.org/entity/Q168827'))))"
      ]
     },
     "metadata": {},
     "output_type": "display_data"
    },
    {
     "data": {
      "text/markdown": [
       "(**Statement** (**Item** [Adam](http://www.wikidata.org/entity/Q70899)) (**ValueSnak** (**Property** [country of citizenship](http://www.wikidata.org/entity/P27)) (**Item** [wd:Q2](http://www.wikidata.org/entity/Q2))))"
      ],
      "text/plain": [
       "Statement(Item(IRI('http://www.wikidata.org/entity/Q70899')), ValueSnak(Property(IRI('http://www.wikidata.org/entity/P27'), ItemDatatype()), Item(IRI('http://www.wikidata.org/entity/Q2'))))"
      ]
     },
     "metadata": {},
     "output_type": "display_data"
    },
    {
     "data": {
      "text/markdown": [
       "(**Statement** (**Item** [Adam](http://www.wikidata.org/entity/Q70899)) (**ValueSnak** (**Property** [occupation](http://www.wikidata.org/entity/P106)) (**Item** [wd:Q131512](http://www.wikidata.org/entity/Q131512))))"
      ],
      "text/plain": [
       "Statement(Item(IRI('http://www.wikidata.org/entity/Q70899')), ValueSnak(Property(IRI('http://www.wikidata.org/entity/P106'), ItemDatatype()), Item(IRI('http://www.wikidata.org/entity/Q131512'))))"
      ]
     },
     "metadata": {},
     "output_type": "display_data"
    },
    {
     "data": {
      "text/markdown": [
       "(**Statement** (**Item** [Adam](http://www.wikidata.org/entity/Q70899)) (**ValueSnak** (**Property** [creator](http://www.wikidata.org/entity/P170)) (**Item** [wd:Q766677](http://www.wikidata.org/entity/Q766677))))"
      ],
      "text/plain": [
       "Statement(Item(IRI('http://www.wikidata.org/entity/Q70899')), ValueSnak(Property(IRI('http://www.wikidata.org/entity/P170'), ItemDatatype()), Item(IRI('http://www.wikidata.org/entity/Q766677'))))"
      ]
     },
     "metadata": {},
     "output_type": "display_data"
    },
    {
     "data": {
      "text/markdown": [
       "(**Statement** (**Item** [Adam](http://www.wikidata.org/entity/Q70899)) (**ValueSnak** (**Property** [place of burial](http://www.wikidata.org/entity/P119)) (**Item** [wd:Q170516](http://www.wikidata.org/entity/Q170516))))"
      ],
      "text/plain": [
       "Statement(Item(IRI('http://www.wikidata.org/entity/Q70899')), ValueSnak(Property(IRI('http://www.wikidata.org/entity/P119'), ItemDatatype()), Item(IRI('http://www.wikidata.org/entity/Q170516'))))"
      ]
     },
     "metadata": {},
     "output_type": "display_data"
    },
    {
     "data": {
      "text/markdown": [
       "(**Statement** (**Item** [Adam](http://www.wikidata.org/entity/Q70899)) (**ValueSnak** (**Property** [creator](http://www.wikidata.org/entity/P170)) (**Item** [wd:Q825](http://www.wikidata.org/entity/Q825))))"
      ],
      "text/plain": [
       "Statement(Item(IRI('http://www.wikidata.org/entity/Q70899')), ValueSnak(Property(IRI('http://www.wikidata.org/entity/P170'), ItemDatatype()), Item(IRI('http://www.wikidata.org/entity/Q825'))))"
      ]
     },
     "metadata": {},
     "output_type": "display_data"
    },
    {
     "data": {
      "text/markdown": [
       "(**Statement** (**Item** [Adam](http://www.wikidata.org/entity/Q70899)) (**ValueSnak** (**Property** [made from material](http://www.wikidata.org/entity/P186)) (**Item** [wd:Q42302](http://www.wikidata.org/entity/Q42302))))"
      ],
      "text/plain": [
       "Statement(Item(IRI('http://www.wikidata.org/entity/Q70899')), ValueSnak(Property(IRI('http://www.wikidata.org/entity/P186'), ItemDatatype()), Item(IRI('http://www.wikidata.org/entity/Q42302'))))"
      ]
     },
     "metadata": {},
     "output_type": "display_data"
    },
    {
     "data": {
      "text/markdown": [
       "(**Statement** (**Item** [Adam](http://www.wikidata.org/entity/Q70899)) (**ValueSnak** (**Property** [made from material](http://www.wikidata.org/entity/P186)) (**Item** [wd:Q36133](http://www.wikidata.org/entity/Q36133))))"
      ],
      "text/plain": [
       "Statement(Item(IRI('http://www.wikidata.org/entity/Q70899')), ValueSnak(Property(IRI('http://www.wikidata.org/entity/P186'), ItemDatatype()), Item(IRI('http://www.wikidata.org/entity/Q36133'))))"
      ]
     },
     "metadata": {},
     "output_type": "display_data"
    },
    {
     "data": {
      "text/markdown": [
       "(**Statement** (**Item** [Adam](http://www.wikidata.org/entity/Q70899)) (**ValueSnak** (**Property** [occupation](http://www.wikidata.org/entity/P106)) (**Item** [wd:Q758780](http://www.wikidata.org/entity/Q758780))))"
      ],
      "text/plain": [
       "Statement(Item(IRI('http://www.wikidata.org/entity/Q70899')), ValueSnak(Property(IRI('http://www.wikidata.org/entity/P106'), ItemDatatype()), Item(IRI('http://www.wikidata.org/entity/Q758780'))))"
      ]
     },
     "metadata": {},
     "output_type": "display_data"
    },
    {
     "data": {
      "text/markdown": [
       "(**Statement** (**Item** [Adam](http://www.wikidata.org/entity/Q70899)) (**ValueSnak** (**Property** [creator](http://www.wikidata.org/entity/P170)) (**Item** [wd:Q2095353](http://www.wikidata.org/entity/Q2095353))))"
      ],
      "text/plain": [
       "Statement(Item(IRI('http://www.wikidata.org/entity/Q70899')), ValueSnak(Property(IRI('http://www.wikidata.org/entity/P170'), ItemDatatype()), Item(IRI('http://www.wikidata.org/entity/Q2095353'))))"
      ]
     },
     "metadata": {},
     "output_type": "display_data"
    },
    {
     "data": {
      "text/markdown": [
       "(**Statement** (**Item** [Adam](http://www.wikidata.org/entity/Q70899)) (**ValueSnak** (**Property** [place of burial](http://www.wikidata.org/entity/P119)) (**Item** [wd:Q204200](http://www.wikidata.org/entity/Q204200))))"
      ],
      "text/plain": [
       "Statement(Item(IRI('http://www.wikidata.org/entity/Q70899')), ValueSnak(Property(IRI('http://www.wikidata.org/entity/P119'), ItemDatatype()), Item(IRI('http://www.wikidata.org/entity/Q204200'))))"
      ]
     },
     "metadata": {},
     "output_type": "display_data"
    },
    {
     "data": {
      "text/markdown": [
       "(**Statement** (**Item** [Adam](http://www.wikidata.org/entity/Q70899)) (**ValueSnak** (**Property** [creator](http://www.wikidata.org/entity/P170)) (**Item** [wd:Q868915](http://www.wikidata.org/entity/Q868915))))"
      ],
      "text/plain": [
       "Statement(Item(IRI('http://www.wikidata.org/entity/Q70899')), ValueSnak(Property(IRI('http://www.wikidata.org/entity/P170'), ItemDatatype()), Item(IRI('http://www.wikidata.org/entity/Q868915'))))"
      ]
     },
     "metadata": {},
     "output_type": "display_data"
    },
    {
     "data": {
      "text/markdown": [
       "(**Statement** (**Item** [Adam](http://www.wikidata.org/entity/Q70899)) (**ValueSnak** (**Property** [named after](http://www.wikidata.org/entity/P138)) (**Item** [Garden of Eden](http://www.wikidata.org/entity/Q19014))))"
      ],
      "text/plain": [
       "Statement(Item(IRI('http://www.wikidata.org/entity/Q70899')), ValueSnak(Property(IRI('http://www.wikidata.org/entity/P138'), ItemDatatype()), Item(IRI('http://www.wikidata.org/entity/Q19014'))))"
      ]
     },
     "metadata": {},
     "output_type": "display_data"
    },
    {
     "data": {
      "text/markdown": [
       "(**Statement** (**Item** [Adam](http://www.wikidata.org/entity/Q70899)) (**ValueSnak** (**Property** [creator](http://www.wikidata.org/entity/P170)) (**Item** [wd:Q3678579](http://www.wikidata.org/entity/Q3678579))))"
      ],
      "text/plain": [
       "Statement(Item(IRI('http://www.wikidata.org/entity/Q70899')), ValueSnak(Property(IRI('http://www.wikidata.org/entity/P170'), ItemDatatype()), Item(IRI('http://www.wikidata.org/entity/Q3678579'))))"
      ]
     },
     "metadata": {},
     "output_type": "display_data"
    },
    {
     "data": {
      "text/markdown": [
       "(**Statement** (**Item** [Adam](http://www.wikidata.org/entity/Q70899)) (**SomeValueSnak** (**Property** [date of death](http://www.wikidata.org/entity/P570))))"
      ],
      "text/plain": [
       "Statement(Item(IRI('http://www.wikidata.org/entity/Q70899')), SomeValueSnak(Property(IRI('http://www.wikidata.org/entity/P570'), TimeDatatype())))"
      ]
     },
     "metadata": {},
     "output_type": "display_data"
    },
    {
     "data": {
      "text/markdown": [
       "(**Statement** (**Item** [Adam](http://www.wikidata.org/entity/Q70899)) (**SomeValueSnak** (**Property** [date of birth](http://www.wikidata.org/entity/P569))))"
      ],
      "text/plain": [
       "Statement(Item(IRI('http://www.wikidata.org/entity/Q70899')), SomeValueSnak(Property(IRI('http://www.wikidata.org/entity/P569'), TimeDatatype())))"
      ]
     },
     "metadata": {},
     "output_type": "display_data"
    },
    {
     "data": {
      "text/markdown": [
       "(**Statement** (**Item** [Adam](http://www.wikidata.org/entity/Q70899)) (**SomeValueSnak** (**Property** [family name](http://www.wikidata.org/entity/P734))))"
      ],
      "text/plain": [
       "Statement(Item(IRI('http://www.wikidata.org/entity/Q70899')), SomeValueSnak(Property(IRI('http://www.wikidata.org/entity/P734'), ItemDatatype())))"
      ]
     },
     "metadata": {},
     "output_type": "display_data"
    },
    {
     "data": {
      "text/markdown": [
       "(**Statement** (**Item** [Adam](http://www.wikidata.org/entity/Q70899)) (**ValueSnak** (**Property** [given name](http://www.wikidata.org/entity/P735)) (**Item** [wd:Q347181](http://www.wikidata.org/entity/Q347181))))"
      ],
      "text/plain": [
       "Statement(Item(IRI('http://www.wikidata.org/entity/Q70899')), ValueSnak(Property(IRI('http://www.wikidata.org/entity/P735'), ItemDatatype()), Item(IRI('http://www.wikidata.org/entity/Q347181'))))"
      ]
     },
     "metadata": {},
     "output_type": "display_data"
    },
    {
     "data": {
      "text/markdown": [
       "(**Statement** (**Item** [Adam](http://www.wikidata.org/entity/Q70899)) (**ValueSnak** (**Property** [part of](http://www.wikidata.org/entity/P361)) (**Item** [wd:Q58701](http://www.wikidata.org/entity/Q58701))))"
      ],
      "text/plain": [
       "Statement(Item(IRI('http://www.wikidata.org/entity/Q70899')), ValueSnak(Property(IRI('http://www.wikidata.org/entity/P361'), ItemDatatype()), Item(IRI('http://www.wikidata.org/entity/Q58701'))))"
      ]
     },
     "metadata": {},
     "output_type": "display_data"
    },
    {
     "data": {
      "text/markdown": [
       "(**Statement** (**Item** [Adam](http://www.wikidata.org/entity/Q70899)) (**ValueSnak** (**Property** [feast day](http://www.wikidata.org/entity/P841)) (**Item** [wd:Q2705](http://www.wikidata.org/entity/Q2705))))"
      ],
      "text/plain": [
       "Statement(Item(IRI('http://www.wikidata.org/entity/Q70899')), ValueSnak(Property(IRI('http://www.wikidata.org/entity/P841'), ItemDatatype()), Item(IRI('http://www.wikidata.org/entity/Q2705'))))"
      ]
     },
     "metadata": {},
     "output_type": "display_data"
    },
    {
     "data": {
      "text/markdown": [
       "(**Statement** (**Item** [Adam](http://www.wikidata.org/entity/Q70899)) (**ValueSnak** (**Property** [said to be the same as](http://www.wikidata.org/entity/P460)) (**Item** [wd:Q351265](http://www.wikidata.org/entity/Q351265))))"
      ],
      "text/plain": [
       "Statement(Item(IRI('http://www.wikidata.org/entity/Q70899')), ValueSnak(Property(IRI('http://www.wikidata.org/entity/P460'), ItemDatatype()), Item(IRI('http://www.wikidata.org/entity/Q351265'))))"
      ]
     },
     "metadata": {},
     "output_type": "display_data"
    },
    {
     "data": {
      "text/markdown": [
       "(**Statement** (**Item** [Adam](http://www.wikidata.org/entity/Q70899)) (**ValueSnak** (**Property** [said to be the same as](http://www.wikidata.org/entity/P460)) (**Item** [wd:Q2001710](http://www.wikidata.org/entity/Q2001710))))"
      ],
      "text/plain": [
       "Statement(Item(IRI('http://www.wikidata.org/entity/Q70899')), ValueSnak(Property(IRI('http://www.wikidata.org/entity/P460'), ItemDatatype()), Item(IRI('http://www.wikidata.org/entity/Q2001710'))))"
      ]
     },
     "metadata": {},
     "output_type": "display_data"
    },
    {
     "data": {
      "text/markdown": [
       "(**Statement** (**Item** [Adam](http://www.wikidata.org/entity/Q70899)) (**ValueSnak** (**Property** [given name](http://www.wikidata.org/entity/P735)) (**Item** [wd:Q97958847](http://www.wikidata.org/entity/Q97958847))))"
      ],
      "text/plain": [
       "Statement(Item(IRI('http://www.wikidata.org/entity/Q70899')), ValueSnak(Property(IRI('http://www.wikidata.org/entity/P735'), ItemDatatype()), Item(IRI('http://www.wikidata.org/entity/Q97958847'))))"
      ]
     },
     "metadata": {},
     "output_type": "display_data"
    },
    {
     "data": {
      "text/markdown": [
       "(**Statement** (**Item** [Adam](http://www.wikidata.org/entity/Q70899)) (**ValueSnak** (**Property** [notable work](http://www.wikidata.org/entity/P800)) (**Item** [wd:Q1815036](http://www.wikidata.org/entity/Q1815036))))"
      ],
      "text/plain": [
       "Statement(Item(IRI('http://www.wikidata.org/entity/Q70899')), ValueSnak(Property(IRI('http://www.wikidata.org/entity/P800'), ItemDatatype()), Item(IRI('http://www.wikidata.org/entity/Q1815036'))))"
      ]
     },
     "metadata": {},
     "output_type": "display_data"
    },
    {
     "data": {
      "text/markdown": [
       "(**Statement** (**Item** [Adam](http://www.wikidata.org/entity/Q70899)) (**ValueSnak** (**Property** [canonization status](http://www.wikidata.org/entity/P411)) (**Item** [wd:Q1189541](http://www.wikidata.org/entity/Q1189541))))"
      ],
      "text/plain": [
       "Statement(Item(IRI('http://www.wikidata.org/entity/Q70899')), ValueSnak(Property(IRI('http://www.wikidata.org/entity/P411'), ItemDatatype()), Item(IRI('http://www.wikidata.org/entity/Q1189541'))))"
      ]
     },
     "metadata": {},
     "output_type": "display_data"
    },
    {
     "data": {
      "text/markdown": [
       "(**Statement** (**Item** [Adam](http://www.wikidata.org/entity/Q70899)) (**ValueSnak** (**Property** [said to be the same as](http://www.wikidata.org/entity/P460)) (**Item** [human](http://www.wikidata.org/entity/Q5))))"
      ],
      "text/plain": [
       "Statement(Item(IRI('http://www.wikidata.org/entity/Q70899')), ValueSnak(Property(IRI('http://www.wikidata.org/entity/P460'), ItemDatatype()), Item(IRI('http://www.wikidata.org/entity/Q5'))))"
      ]
     },
     "metadata": {},
     "output_type": "display_data"
    },
    {
     "data": {
      "text/markdown": [
       "(**Statement** (**Item** [Adam](http://www.wikidata.org/entity/Q70899)) (**ValueSnak** (**Property** [residence](http://www.wikidata.org/entity/P551)) (**Item** [Garden of Eden](http://www.wikidata.org/entity/Q19014))))"
      ],
      "text/plain": [
       "Statement(Item(IRI('http://www.wikidata.org/entity/Q70899')), ValueSnak(Property(IRI('http://www.wikidata.org/entity/P551'), ItemDatatype()), Item(IRI('http://www.wikidata.org/entity/Q19014'))))"
      ]
     },
     "metadata": {},
     "output_type": "display_data"
    },
    {
     "data": {
      "text/markdown": [
       "(**Statement** (**Item** [Adam](http://www.wikidata.org/entity/Q70899)) (**ValueSnak** (**Property** [said to be the same as](http://www.wikidata.org/entity/P460)) (**Item** [wd:Q4680060](http://www.wikidata.org/entity/Q4680060))))"
      ],
      "text/plain": [
       "Statement(Item(IRI('http://www.wikidata.org/entity/Q70899')), ValueSnak(Property(IRI('http://www.wikidata.org/entity/P460'), ItemDatatype()), Item(IRI('http://www.wikidata.org/entity/Q4680060'))))"
      ]
     },
     "metadata": {},
     "output_type": "display_data"
    },
    {
     "data": {
      "text/markdown": [
       "(**Statement** (**Item** [Adam](http://www.wikidata.org/entity/Q70899)) (**ValueSnak** (**Property** [residence](http://www.wikidata.org/entity/P551)) (**Item** [wd:Q2](http://www.wikidata.org/entity/Q2))))"
      ],
      "text/plain": [
       "Statement(Item(IRI('http://www.wikidata.org/entity/Q70899')), ValueSnak(Property(IRI('http://www.wikidata.org/entity/P551'), ItemDatatype()), Item(IRI('http://www.wikidata.org/entity/Q2'))))"
      ]
     },
     "metadata": {},
     "output_type": "display_data"
    },
    {
     "data": {
      "text/markdown": [
       "(**Statement** (**Item** [Adam](http://www.wikidata.org/entity/Q70899)) (**ValueSnak** (**Property** [said to be the same as](http://www.wikidata.org/entity/P460)) (**Item** [wd:Q4057250](http://www.wikidata.org/entity/Q4057250))))"
      ],
      "text/plain": [
       "Statement(Item(IRI('http://www.wikidata.org/entity/Q70899')), ValueSnak(Property(IRI('http://www.wikidata.org/entity/P460'), ItemDatatype()), Item(IRI('http://www.wikidata.org/entity/Q4057250'))))"
      ]
     },
     "metadata": {},
     "output_type": "display_data"
    },
    {
     "data": {
      "text/markdown": [
       "(**Statement** (**Item** [Adam](http://www.wikidata.org/entity/Q70899)) (**ValueSnak** (**Property** [ISNI](http://www.wikidata.org/entity/P213)) \"000000048332777X\"))"
      ],
      "text/plain": [
       "Statement(Item(IRI('http://www.wikidata.org/entity/Q70899')), ValueSnak(Property(IRI('http://www.wikidata.org/entity/P213'), ExternalIdDatatype()), ExternalId('000000048332777X')))"
      ]
     },
     "metadata": {},
     "output_type": "display_data"
    },
    {
     "data": {
      "text/markdown": [
       "(**Statement** (**Item** [Adam](http://www.wikidata.org/entity/Q70899)) (**ValueSnak** (**Property** [Union List of Artist Names ID](http://www.wikidata.org/entity/P245)) \"500114345\"))"
      ],
      "text/plain": [
       "Statement(Item(IRI('http://www.wikidata.org/entity/Q70899')), ValueSnak(Property(IRI('http://www.wikidata.org/entity/P245'), ExternalIdDatatype()), ExternalId('500114345')))"
      ]
     },
     "metadata": {},
     "output_type": "display_data"
    },
    {
     "data": {
      "text/markdown": [
       "(**Statement** (**Item** [Adam](http://www.wikidata.org/entity/Q70899)) (**ValueSnak** (**Property** [VIAF ID](http://www.wikidata.org/entity/P214)) \"308180317\"))"
      ],
      "text/plain": [
       "Statement(Item(IRI('http://www.wikidata.org/entity/Q70899')), ValueSnak(Property(IRI('http://www.wikidata.org/entity/P214'), ExternalIdDatatype()), ExternalId('308180317')))"
      ]
     },
     "metadata": {},
     "output_type": "display_data"
    },
    {
     "data": {
      "text/markdown": [
       "(**Statement** (**Item** [Adam](http://www.wikidata.org/entity/Q70899)) (**ValueSnak** (**Property** [GND ID](http://www.wikidata.org/entity/P227)) \"118646877\"))"
      ],
      "text/plain": [
       "Statement(Item(IRI('http://www.wikidata.org/entity/Q70899')), ValueSnak(Property(IRI('http://www.wikidata.org/entity/P227'), ExternalIdDatatype()), ExternalId('118646877')))"
      ]
     },
     "metadata": {},
     "output_type": "display_data"
    },
    {
     "data": {
      "text/markdown": [
       "(**Statement** (**Item** [Adam](http://www.wikidata.org/entity/Q70899)) (**ValueSnak** (**Property** [Library of Congress authority ID](http://www.wikidata.org/entity/P244)) \"n82025265\"))"
      ],
      "text/plain": [
       "Statement(Item(IRI('http://www.wikidata.org/entity/Q70899')), ValueSnak(Property(IRI('http://www.wikidata.org/entity/P244'), ExternalIdDatatype()), ExternalId('n82025265')))"
      ]
     },
     "metadata": {},
     "output_type": "display_data"
    },
    {
     "data": {
      "text/markdown": [
       "(**Statement** (**Item** [Adam](http://www.wikidata.org/entity/Q70899)) (**ValueSnak** (**Property** [VIAF ID](http://www.wikidata.org/entity/P214)) \"490152138585310980651\"))"
      ],
      "text/plain": [
       "Statement(Item(IRI('http://www.wikidata.org/entity/Q70899')), ValueSnak(Property(IRI('http://www.wikidata.org/entity/P214'), ExternalIdDatatype()), ExternalId('490152138585310980651')))"
      ]
     },
     "metadata": {},
     "output_type": "display_data"
    },
    {
     "data": {
      "text/markdown": [
       "(**Statement** (**Item** [Adam](http://www.wikidata.org/entity/Q70899)) (**ValueSnak** (**Property** [Commons category](http://www.wikidata.org/entity/P373)) \"Adam (Biblical figure)\"))"
      ],
      "text/plain": [
       "Statement(Item(IRI('http://www.wikidata.org/entity/Q70899')), ValueSnak(Property(IRI('http://www.wikidata.org/entity/P373'), StringDatatype()), String('Adam (Biblical figure)')))"
      ]
     },
     "metadata": {},
     "output_type": "display_data"
    },
    {
     "data": {
      "text/markdown": [
       "(**Statement** (**Item** [Adam](http://www.wikidata.org/entity/Q70899)) (**ValueSnak** (**Property** [Bibliothèque nationale de France ID](http://www.wikidata.org/entity/P268)) \"17011701v\"))"
      ],
      "text/plain": [
       "Statement(Item(IRI('http://www.wikidata.org/entity/Q70899')), ValueSnak(Property(IRI('http://www.wikidata.org/entity/P268'), ExternalIdDatatype()), ExternalId('17011701v')))"
      ]
     },
     "metadata": {},
     "output_type": "display_data"
    },
    {
     "data": {
      "text/markdown": [
       "(**Statement** (**Item** [Adam](http://www.wikidata.org/entity/Q70899)) (**ValueSnak** (**Property** [NDL Authority ID](http://www.wikidata.org/entity/P349)) \"01079077\"))"
      ],
      "text/plain": [
       "Statement(Item(IRI('http://www.wikidata.org/entity/Q70899')), ValueSnak(Property(IRI('http://www.wikidata.org/entity/P349'), ExternalIdDatatype()), ExternalId('01079077')))"
      ]
     },
     "metadata": {},
     "output_type": "display_data"
    },
    {
     "data": {
      "text/markdown": [
       "(**Statement** (**Item** [Adam](http://www.wikidata.org/entity/Q70899)) (**ValueSnak** (**Property** [Freebase ID](http://www.wikidata.org/entity/P646)) \"/m/09\\_c5v\"))"
      ],
      "text/plain": [
       "Statement(Item(IRI('http://www.wikidata.org/entity/Q70899')), ValueSnak(Property(IRI('http://www.wikidata.org/entity/P646'), ExternalIdDatatype()), ExternalId('/m/09_c5v')))"
      ]
     },
     "metadata": {},
     "output_type": "display_data"
    },
    {
     "data": {
      "text/markdown": [
       "(**Statement** (**Item** [Adam](http://www.wikidata.org/entity/Q70899)) (**ValueSnak** (**Property** [NL CR AUT ID](http://www.wikidata.org/entity/P691)) \"jx20091201005\"))"
      ],
      "text/plain": [
       "Statement(Item(IRI('http://www.wikidata.org/entity/Q70899')), ValueSnak(Property(IRI('http://www.wikidata.org/entity/P691'), ExternalIdDatatype()), ExternalId('jx20091201005')))"
      ]
     },
     "metadata": {},
     "output_type": "display_data"
    },
    {
     "data": {
      "text/markdown": [
       "(**Statement** (**Item** [Adam](http://www.wikidata.org/entity/Q70899)) (**ValueSnak** (**Property** [IdRef ID](http://www.wikidata.org/entity/P269)) \"027642798\"))"
      ],
      "text/plain": [
       "Statement(Item(IRI('http://www.wikidata.org/entity/Q70899')), ValueSnak(Property(IRI('http://www.wikidata.org/entity/P269'), ExternalIdDatatype()), ExternalId('027642798')))"
      ]
     },
     "metadata": {},
     "output_type": "display_data"
    },
    {
     "data": {
      "text/markdown": [
       "(**Statement** (**Item** [Adam](http://www.wikidata.org/entity/Q70899)) (**ValueSnak** (**Property** [Libraries Australia ID](http://www.wikidata.org/entity/P409)) \"49682410\"))"
      ],
      "text/plain": [
       "Statement(Item(IRI('http://www.wikidata.org/entity/Q70899')), ValueSnak(Property(IRI('http://www.wikidata.org/entity/P409'), ExternalIdDatatype()), ExternalId('49682410')))"
      ]
     },
     "metadata": {},
     "output_type": "display_data"
    },
    {
     "data": {
      "text/markdown": [
       "(**Statement** (**Item** [wd:Q21203](http://www.wikidata.org/entity/Q21203)) (**SomeValueSnak** (**Property** [ethnic group](http://www.wikidata.org/entity/P172))))"
      ],
      "text/plain": [
       "Statement(Item(IRI('http://www.wikidata.org/entity/Q21203')), SomeValueSnak(Property(IRI('http://www.wikidata.org/entity/P172'), ItemDatatype())))"
      ]
     },
     "metadata": {},
     "output_type": "display_data"
    },
    {
     "data": {
      "text/markdown": [
       "(**Statement** (**Item** [Adam](http://www.wikidata.org/entity/Q70899)) (**ValueSnak** (**Property** [WordNet 3.1 Synset ID](http://www.wikidata.org/entity/P8814)) \"09609728-n\"))"
      ],
      "text/plain": [
       "Statement(Item(IRI('http://www.wikidata.org/entity/Q70899')), ValueSnak(Property(IRI('http://www.wikidata.org/entity/P8814'), ExternalIdDatatype()), ExternalId('09609728-n')))"
      ]
     },
     "metadata": {},
     "output_type": "display_data"
    },
    {
     "data": {
      "text/markdown": [
       "(**Statement** (**Item** [Adam](http://www.wikidata.org/entity/Q70899)) (**ValueSnak** (**Property** [National Historical Museums of Sweden ID](http://www.wikidata.org/entity/P9495)) \"term/62736645-7566-44B6-B424-D6D0C81FC2A5\"))"
      ],
      "text/plain": [
       "Statement(Item(IRI('http://www.wikidata.org/entity/Q70899')), ValueSnak(Property(IRI('http://www.wikidata.org/entity/P9495'), ExternalIdDatatype()), ExternalId('term/62736645-7566-44B6-B424-D6D0C81FC2A5')))"
      ]
     },
     "metadata": {},
     "output_type": "display_data"
    },
    {
     "data": {
      "text/markdown": [
       "(**Statement** (**Item** [Adam](http://www.wikidata.org/entity/Q70899)) (**ValueSnak** (**Property** [Encyclopedia of China (Third Edition) ID](http://www.wikidata.org/entity/P10565)) \"79538\"))"
      ],
      "text/plain": [
       "Statement(Item(IRI('http://www.wikidata.org/entity/Q70899')), ValueSnak(Property(IRI('http://www.wikidata.org/entity/P10565'), ExternalIdDatatype()), ExternalId('79538')))"
      ]
     },
     "metadata": {},
     "output_type": "display_data"
    },
    {
     "data": {
      "text/markdown": [
       "(**Statement** (**Item** [Adam](http://www.wikidata.org/entity/Q70899)) (**ValueSnak** (**Property** [Jewish Virtual Library ID](http://www.wikidata.org/entity/P8568)) \"adam\"))"
      ],
      "text/plain": [
       "Statement(Item(IRI('http://www.wikidata.org/entity/Q70899')), ValueSnak(Property(IRI('http://www.wikidata.org/entity/P8568'), ExternalIdDatatype()), ExternalId('adam')))"
      ]
     },
     "metadata": {},
     "output_type": "display_data"
    },
    {
     "data": {
      "text/markdown": [
       "(**Statement** (**Item** [Adam](http://www.wikidata.org/entity/Q70899)) (**ValueSnak** (**Property** [The Oxford Dictionary of Islam ID](http://www.wikidata.org/entity/P12628)) \"47\"))"
      ],
      "text/plain": [
       "Statement(Item(IRI('http://www.wikidata.org/entity/Q70899')), ValueSnak(Property(IRI('http://www.wikidata.org/entity/P12628'), ExternalIdDatatype()), ExternalId('47')))"
      ]
     },
     "metadata": {},
     "output_type": "display_data"
    },
    {
     "data": {
      "text/markdown": [
       "(**Statement** (**Item** [Adam](http://www.wikidata.org/entity/Q70899)) (**ValueSnak** (**Property** [CANTIC ID](http://www.wikidata.org/entity/P9984)) \"981058620298206706\"))"
      ],
      "text/plain": [
       "Statement(Item(IRI('http://www.wikidata.org/entity/Q70899')), ValueSnak(Property(IRI('http://www.wikidata.org/entity/P9984'), ExternalIdDatatype()), ExternalId('981058620298206706')))"
      ]
     },
     "metadata": {},
     "output_type": "display_data"
    },
    {
     "data": {
      "text/markdown": [
       "(**Statement** (**Item** [Adam](http://www.wikidata.org/entity/Q70899)) (**ValueSnak** (**Property** [University of Barcelona authority ID](http://www.wikidata.org/entity/P11686)) \"981058620298206706\"))"
      ],
      "text/plain": [
       "Statement(Item(IRI('http://www.wikidata.org/entity/Q70899')), ValueSnak(Property(IRI('http://www.wikidata.org/entity/P11686'), ExternalIdDatatype()), ExternalId('981058620298206706')))"
      ]
     },
     "metadata": {},
     "output_type": "display_data"
    },
    {
     "data": {
      "text/markdown": [
       "(**Statement** (**Item** [Adam](http://www.wikidata.org/entity/Q70899)) (**ValueSnak** (**Property** [IxTheo authority ID](http://www.wikidata.org/entity/P10553)) \"694843393\"))"
      ],
      "text/plain": [
       "Statement(Item(IRI('http://www.wikidata.org/entity/Q70899')), ValueSnak(Property(IRI('http://www.wikidata.org/entity/P10553'), ExternalIdDatatype()), ExternalId('694843393')))"
      ]
     },
     "metadata": {},
     "output_type": "display_data"
    },
    {
     "data": {
      "text/markdown": [
       "(**Statement** (**Item** [Adam](http://www.wikidata.org/entity/Q70899)) (**ValueSnak** (**Property** [American Academy in Rome ID](http://www.wikidata.org/entity/P9097)) \"12381716\"))"
      ],
      "text/plain": [
       "Statement(Item(IRI('http://www.wikidata.org/entity/Q70899')), ValueSnak(Property(IRI('http://www.wikidata.org/entity/P9097'), ExternalIdDatatype()), ExternalId('12381716')))"
      ]
     },
     "metadata": {},
     "output_type": "display_data"
    },
    {
     "data": {
      "text/markdown": [
       "(**Statement** (**Item** [Adam](http://www.wikidata.org/entity/Q70899)) (**ValueSnak** (**Property** [Gran Enciclopèdia Catalana ID](http://www.wikidata.org/entity/P12385)) \"adam-4\"))"
      ],
      "text/plain": [
       "Statement(Item(IRI('http://www.wikidata.org/entity/Q70899')), ValueSnak(Property(IRI('http://www.wikidata.org/entity/P12385'), ExternalIdDatatype()), ExternalId('adam-4')))"
      ]
     },
     "metadata": {},
     "output_type": "display_data"
    },
    {
     "data": {
      "text/markdown": [
       "(**Statement** (**Item** [Adam](http://www.wikidata.org/entity/Q70899)) (**ValueSnak** (**Property** [Vikidia article ID](http://www.wikidata.org/entity/P12800)) \"eu:Adam\\_eta\\_Eva\"))"
      ],
      "text/plain": [
       "Statement(Item(IRI('http://www.wikidata.org/entity/Q70899')), ValueSnak(Property(IRI('http://www.wikidata.org/entity/P12800'), ExternalIdDatatype()), ExternalId('eu:Adam_eta_Eva')))"
      ]
     },
     "metadata": {},
     "output_type": "display_data"
    },
    {
     "data": {
      "text/markdown": [
       "(**Statement** (**Item** [Adam](http://www.wikidata.org/entity/Q70899)) (**ValueSnak** (**Property** [Hanslick Online person ID](http://www.wikidata.org/entity/P12615)) \"2180\"))"
      ],
      "text/plain": [
       "Statement(Item(IRI('http://www.wikidata.org/entity/Q70899')), ValueSnak(Property(IRI('http://www.wikidata.org/entity/P12615'), ExternalIdDatatype()), ExternalId('2180')))"
      ]
     },
     "metadata": {},
     "output_type": "display_data"
    },
    {
     "data": {
      "text/markdown": [
       "(**Statement** (**Item** [Adam](http://www.wikidata.org/entity/Q70899)) (**ValueSnak** (**Property** [Kallías ID](http://www.wikidata.org/entity/P9918)) \"PE00162701\"))"
      ],
      "text/plain": [
       "Statement(Item(IRI('http://www.wikidata.org/entity/Q70899')), ValueSnak(Property(IRI('http://www.wikidata.org/entity/P9918'), ExternalIdDatatype()), ExternalId('PE00162701')))"
      ]
     },
     "metadata": {},
     "output_type": "display_data"
    },
    {
     "data": {
      "text/markdown": [
       "(**Statement** (**Item** [Adam](http://www.wikidata.org/entity/Q70899)) (**ValueSnak** (**Property** [Parsifal cluster ID](http://www.wikidata.org/entity/P12458)) \"28141\"))"
      ],
      "text/plain": [
       "Statement(Item(IRI('http://www.wikidata.org/entity/Q70899')), ValueSnak(Property(IRI('http://www.wikidata.org/entity/P12458'), ExternalIdDatatype()), ExternalId('28141')))"
      ]
     },
     "metadata": {},
     "output_type": "display_data"
    },
    {
     "data": {
      "text/markdown": [
       "(**Statement** (**Item** [Adam](http://www.wikidata.org/entity/Q70899)) (**ValueSnak** (**Property** [Lur Encyclopedic Dictionary ID](http://www.wikidata.org/entity/P10242)) \"00050/eu\\_a\\_0501/a0501\"))"
      ],
      "text/plain": [
       "Statement(Item(IRI('http://www.wikidata.org/entity/Q70899')), ValueSnak(Property(IRI('http://www.wikidata.org/entity/P10242'), ExternalIdDatatype()), ExternalId('00050/eu_a_0501/a0501')))"
      ]
     },
     "metadata": {},
     "output_type": "display_data"
    },
    {
     "data": {
      "text/markdown": [
       "(**Statement** (**Item** [Adam](http://www.wikidata.org/entity/Q70899)) (**ValueSnak** (**Property** [Personality Database profile ID](http://www.wikidata.org/entity/P10757)) \"10793\"))"
      ],
      "text/plain": [
       "Statement(Item(IRI('http://www.wikidata.org/entity/Q70899')), ValueSnak(Property(IRI('http://www.wikidata.org/entity/P10757'), ExternalIdDatatype()), ExternalId('10793')))"
      ]
     },
     "metadata": {},
     "output_type": "display_data"
    },
    {
     "data": {
      "text/markdown": [
       "(**Statement** (**Item** [Adam](http://www.wikidata.org/entity/Q70899)) (**ValueSnak** (**Property** [museum-digital person ID](http://www.wikidata.org/entity/P12597)) \"20330\"))"
      ],
      "text/plain": [
       "Statement(Item(IRI('http://www.wikidata.org/entity/Q70899')), ValueSnak(Property(IRI('http://www.wikidata.org/entity/P12597'), ExternalIdDatatype()), ExternalId('20330')))"
      ]
     },
     "metadata": {},
     "output_type": "display_data"
    },
    {
     "data": {
      "text/markdown": [
       "(**Statement** (**Item** [Adam](http://www.wikidata.org/entity/Q70899)) (**ValueSnak** (**Property** [All the Tropes ID](http://www.wikidata.org/entity/P8895)) \"The\\_Bible/Characters#Adam\\_and\\_Eve\"))"
      ],
      "text/plain": [
       "Statement(Item(IRI('http://www.wikidata.org/entity/Q70899')), ValueSnak(Property(IRI('http://www.wikidata.org/entity/P8895'), ExternalIdDatatype()), ExternalId('The_Bible/Characters#Adam_and_Eve')))"
      ]
     },
     "metadata": {},
     "output_type": "display_data"
    },
    {
     "data": {
      "text/markdown": [
       "(**Statement** (**Item** [wd:Q77](http://www.wikidata.org/entity/Q77)) (**ValueSnak** (**Property** [part of](http://www.wikidata.org/entity/P361)) (**Item** [South America](http://www.wikidata.org/entity/Q18))))"
      ],
      "text/plain": [
       "Statement(Item(IRI('http://www.wikidata.org/entity/Q77')), ValueSnak(Property(IRI('http://www.wikidata.org/entity/P361'), ItemDatatype()), Item(IRI('http://www.wikidata.org/entity/Q18'))))"
      ]
     },
     "metadata": {},
     "output_type": "display_data"
    },
    {
     "data": {
      "text/markdown": [
       "(**Statement** (**Item** [wd:Q77](http://www.wikidata.org/entity/Q77)) (**ValueSnak** (**Property** [part of](http://www.wikidata.org/entity/P361)) (**Item** [wd:Q236118](http://www.wikidata.org/entity/Q236118))))"
      ],
      "text/plain": [
       "Statement(Item(IRI('http://www.wikidata.org/entity/Q77')), ValueSnak(Property(IRI('http://www.wikidata.org/entity/P361'), ItemDatatype()), Item(IRI('http://www.wikidata.org/entity/Q236118'))))"
      ]
     },
     "metadata": {},
     "output_type": "display_data"
    },
    {
     "data": {
      "text/markdown": [
       "(**Statement** (**Item** [wd:Q77](http://www.wikidata.org/entity/Q77)) (**ValueSnak** (**Property** [part of](http://www.wikidata.org/entity/P361)) (**Item** [Latin America](http://www.wikidata.org/entity/Q12585))))"
      ],
      "text/plain": [
       "Statement(Item(IRI('http://www.wikidata.org/entity/Q77')), ValueSnak(Property(IRI('http://www.wikidata.org/entity/P361'), ItemDatatype()), Item(IRI('http://www.wikidata.org/entity/Q12585'))))"
      ]
     },
     "metadata": {},
     "output_type": "display_data"
    },
    {
     "data": {
      "text/markdown": [
       "(**Statement** (**Item** [wd:Q77](http://www.wikidata.org/entity/Q77)) (**ValueSnak** (**Property** [part of](http://www.wikidata.org/entity/P361)) (**Item** [wd:Q653884](http://www.wikidata.org/entity/Q653884))))"
      ],
      "text/plain": [
       "Statement(Item(IRI('http://www.wikidata.org/entity/Q77')), ValueSnak(Property(IRI('http://www.wikidata.org/entity/P361'), ItemDatatype()), Item(IRI('http://www.wikidata.org/entity/Q653884'))))"
      ]
     },
     "metadata": {},
     "output_type": "display_data"
    },
    {
     "data": {
      "text/markdown": [
       "(**Statement** (**Item** [wd:Q21203](http://www.wikidata.org/entity/Q21203)) (**ValueSnak** (**Property** [located in/on physical feature](http://www.wikidata.org/entity/P706)) (**Item** [wd:Q664609](http://www.wikidata.org/entity/Q664609))))"
      ],
      "text/plain": [
       "Statement(Item(IRI('http://www.wikidata.org/entity/Q21203')), ValueSnak(Property(IRI('http://www.wikidata.org/entity/P706'), ItemDatatype()), Item(IRI('http://www.wikidata.org/entity/Q664609'))))"
      ]
     },
     "metadata": {},
     "output_type": "display_data"
    },
    {
     "data": {
      "text/markdown": [
       "(**Statement** (**Item** [wd:Q21203](http://www.wikidata.org/entity/Q21203)) (**ValueSnak** (**Property** [located in time zone](http://www.wikidata.org/entity/P421)) (**Item** [wd:Q28145364](http://www.wikidata.org/entity/Q28145364))))"
      ],
      "text/plain": [
       "Statement(Item(IRI('http://www.wikidata.org/entity/Q21203')), ValueSnak(Property(IRI('http://www.wikidata.org/entity/P421'), ItemDatatype()), Item(IRI('http://www.wikidata.org/entity/Q28145364'))))"
      ]
     },
     "metadata": {},
     "output_type": "display_data"
    },
    {
     "data": {
      "text/markdown": [
       "(**Statement** (**Item** [wd:Q21203](http://www.wikidata.org/entity/Q21203)) (**ValueSnak** (**Property** [member of](http://www.wikidata.org/entity/P463)) (**Item** [wd:Q7809](http://www.wikidata.org/entity/Q7809))))"
      ],
      "text/plain": [
       "Statement(Item(IRI('http://www.wikidata.org/entity/Q21203')), ValueSnak(Property(IRI('http://www.wikidata.org/entity/P463'), ItemDatatype()), Item(IRI('http://www.wikidata.org/entity/Q7809'))))"
      ]
     },
     "metadata": {},
     "output_type": "display_data"
    },
    {
     "data": {
      "text/markdown": [
       "(**Statement** (**Item** [wd:Q21203](http://www.wikidata.org/entity/Q21203)) (**ValueSnak** (**Property** [part of](http://www.wikidata.org/entity/P361)) (**Item** [wd:Q66458647](http://www.wikidata.org/entity/Q66458647))))"
      ],
      "text/plain": [
       "Statement(Item(IRI('http://www.wikidata.org/entity/Q21203')), ValueSnak(Property(IRI('http://www.wikidata.org/entity/P361'), ItemDatatype()), Item(IRI('http://www.wikidata.org/entity/Q66458647'))))"
      ]
     },
     "metadata": {},
     "output_type": "display_data"
    },
    {
     "data": {
      "text/markdown": [
       "(**Statement** (**Item** [wd:Q21203](http://www.wikidata.org/entity/Q21203)) (**ValueSnak** (**Property** [topic's main category](http://www.wikidata.org/entity/P910)) (**Item** [wd:Q7166567](http://www.wikidata.org/entity/Q7166567))))"
      ],
      "text/plain": [
       "Statement(Item(IRI('http://www.wikidata.org/entity/Q21203')), ValueSnak(Property(IRI('http://www.wikidata.org/entity/P910'), ItemDatatype()), Item(IRI('http://www.wikidata.org/entity/Q7166567'))))"
      ]
     },
     "metadata": {},
     "output_type": "display_data"
    },
    {
     "data": {
      "text/markdown": [
       "(**Statement** (**Item** [wd:Q21203](http://www.wikidata.org/entity/Q21203)) (**ValueSnak** (**Property** [part of](http://www.wikidata.org/entity/P361)) (**Item** [wd:Q664609](http://www.wikidata.org/entity/Q664609))))"
      ],
      "text/plain": [
       "Statement(Item(IRI('http://www.wikidata.org/entity/Q21203')), ValueSnak(Property(IRI('http://www.wikidata.org/entity/P361'), ItemDatatype()), Item(IRI('http://www.wikidata.org/entity/Q664609'))))"
      ]
     },
     "metadata": {},
     "output_type": "display_data"
    },
    {
     "data": {
      "text/markdown": [
       "(**Statement** (**Item** [wd:Q21203](http://www.wikidata.org/entity/Q21203)) (**ValueSnak** (**Property** [diplomatic relation](http://www.wikidata.org/entity/P530)) (**Item** [wd:Q30](http://www.wikidata.org/entity/Q30))))"
      ],
      "text/plain": [
       "Statement(Item(IRI('http://www.wikidata.org/entity/Q21203')), ValueSnak(Property(IRI('http://www.wikidata.org/entity/P530'), ItemDatatype()), Item(IRI('http://www.wikidata.org/entity/Q30'))))"
      ]
     },
     "metadata": {},
     "output_type": "display_data"
    },
    {
     "data": {
      "text/markdown": [
       "(**Statement** (**Item** [wd:Q21203](http://www.wikidata.org/entity/Q21203)) (**ValueSnak** (**Property** [part of](http://www.wikidata.org/entity/P361)) (**Item** [wd:Q93259](http://www.wikidata.org/entity/Q93259))))"
      ],
      "text/plain": [
       "Statement(Item(IRI('http://www.wikidata.org/entity/Q21203')), ValueSnak(Property(IRI('http://www.wikidata.org/entity/P361'), ItemDatatype()), Item(IRI('http://www.wikidata.org/entity/Q93259'))))"
      ]
     },
     "metadata": {},
     "output_type": "display_data"
    },
    {
     "data": {
      "text/markdown": [
       "(**Statement** (**Item** [wd:Q21203](http://www.wikidata.org/entity/Q21203)) (**ValueSnak** (**Property** [part of](http://www.wikidata.org/entity/P361)) (**Item** [wd:Q98831459](http://www.wikidata.org/entity/Q98831459))))"
      ],
      "text/plain": [
       "Statement(Item(IRI('http://www.wikidata.org/entity/Q21203')), ValueSnak(Property(IRI('http://www.wikidata.org/entity/P361'), ItemDatatype()), Item(IRI('http://www.wikidata.org/entity/Q98831459'))))"
      ]
     },
     "metadata": {},
     "output_type": "display_data"
    },
    {
     "data": {
      "text/markdown": [
       "(**Statement** (**Item** [wd:Q21203](http://www.wikidata.org/entity/Q21203)) (**ValueSnak** (**Property** [patron saint](http://www.wikidata.org/entity/P417)) (**Item** [wd:Q331697](http://www.wikidata.org/entity/Q331697))))"
      ],
      "text/plain": [
       "Statement(Item(IRI('http://www.wikidata.org/entity/Q21203')), ValueSnak(Property(IRI('http://www.wikidata.org/entity/P417'), ItemDatatype()), Item(IRI('http://www.wikidata.org/entity/Q331697'))))"
      ]
     },
     "metadata": {},
     "output_type": "display_data"
    },
    {
     "data": {
      "text/markdown": [
       "(**Statement** (**Item** [wd:Q21203](http://www.wikidata.org/entity/Q21203)) (**ValueSnak** (**Property** [located in/on physical feature](http://www.wikidata.org/entity/P706)) (**Item** [wd:Q7569750](http://www.wikidata.org/entity/Q7569750))))"
      ],
      "text/plain": [
       "Statement(Item(IRI('http://www.wikidata.org/entity/Q21203')), ValueSnak(Property(IRI('http://www.wikidata.org/entity/P706'), ItemDatatype()), Item(IRI('http://www.wikidata.org/entity/Q7569750'))))"
      ]
     },
     "metadata": {},
     "output_type": "display_data"
    },
    {
     "data": {
      "text/markdown": [
       "(**Statement** (**Item** [wd:Q21203](http://www.wikidata.org/entity/Q21203)) (**ValueSnak** (**Property** [highest point](http://www.wikidata.org/entity/P610)) (**Item** [wd:Q594885](http://www.wikidata.org/entity/Q594885))))"
      ],
      "text/plain": [
       "Statement(Item(IRI('http://www.wikidata.org/entity/Q21203')), ValueSnak(Property(IRI('http://www.wikidata.org/entity/P610'), ItemDatatype()), Item(IRI('http://www.wikidata.org/entity/Q594885'))))"
      ]
     },
     "metadata": {},
     "output_type": "display_data"
    },
    {
     "data": {
      "text/markdown": [
       "(**Statement** (**Item** [wd:Q21203](http://www.wikidata.org/entity/Q21203)) (**ValueSnak** (**Property** [part of](http://www.wikidata.org/entity/P361)) (**Item** [wd:Q25227](http://www.wikidata.org/entity/Q25227))))"
      ],
      "text/plain": [
       "Statement(Item(IRI('http://www.wikidata.org/entity/Q21203')), ValueSnak(Property(IRI('http://www.wikidata.org/entity/P361'), ItemDatatype()), Item(IRI('http://www.wikidata.org/entity/Q25227'))))"
      ]
     },
     "metadata": {},
     "output_type": "display_data"
    },
    {
     "data": {
      "text/markdown": [
       "(**Statement** (**Item** [wd:Q21203](http://www.wikidata.org/entity/Q21203)) (**ValueSnak** (**Property** [part of](http://www.wikidata.org/entity/P361)) (**Item** [wd:Q5317255](http://www.wikidata.org/entity/Q5317255))))"
      ],
      "text/plain": [
       "Statement(Item(IRI('http://www.wikidata.org/entity/Q21203')), ValueSnak(Property(IRI('http://www.wikidata.org/entity/P361'), ItemDatatype()), Item(IRI('http://www.wikidata.org/entity/Q5317255'))))"
      ]
     },
     "metadata": {},
     "output_type": "display_data"
    },
    {
     "data": {
      "text/markdown": [
       "(**Statement** (**Item** [wd:Q21203](http://www.wikidata.org/entity/Q21203)) (**ValueSnak** (**Property** [member of](http://www.wikidata.org/entity/P463)) (**Item** [wd:Q8475](http://www.wikidata.org/entity/Q8475))))"
      ],
      "text/plain": [
       "Statement(Item(IRI('http://www.wikidata.org/entity/Q21203')), ValueSnak(Property(IRI('http://www.wikidata.org/entity/P463'), ItemDatatype()), Item(IRI('http://www.wikidata.org/entity/Q8475'))))"
      ]
     },
     "metadata": {},
     "output_type": "display_data"
    },
    {
     "data": {
      "text/markdown": [
       "(**Statement** (**Item** [wd:Q21203](http://www.wikidata.org/entity/Q21203)) (**ValueSnak** (**Property** [located in time zone](http://www.wikidata.org/entity/P421)) (**Item** [wd:Q5762](http://www.wikidata.org/entity/Q5762))))"
      ],
      "text/plain": [
       "Statement(Item(IRI('http://www.wikidata.org/entity/Q21203')), ValueSnak(Property(IRI('http://www.wikidata.org/entity/P421'), ItemDatatype()), Item(IRI('http://www.wikidata.org/entity/Q5762'))))"
      ]
     },
     "metadata": {},
     "output_type": "display_data"
    }
   ],
   "source": [
    "#import logging\n",
    "#logging.basicConfig(level=logging.DEBUG)\n",
    "for stmt in kb.filter(subject=(wd.instance_of(wd.country_)&wd.continent(wd.South_America))|wd.Adam, limit=100):\n",
    "    display(stmt)"
   ]
  },
  {
   "cell_type": "code",
   "execution_count": null,
   "id": "916e21ea-8aee-4dc5-9937-041eab009e90",
   "metadata": {},
   "outputs": [],
   "source": []
  }
 ],
 "metadata": {
  "kernelspec": {
   "display_name": "kif",
   "language": "python",
   "name": "kif"
  },
  "language_info": {
   "codemirror_mode": {
    "name": "ipython",
    "version": 3
   },
   "file_extension": ".py",
   "mimetype": "text/x-python",
   "name": "python",
   "nbconvert_exporter": "python",
   "pygments_lexer": "ipython3",
   "version": "3.12.4"
  }
 },
 "nbformat": 4,
 "nbformat_minor": 5
}
