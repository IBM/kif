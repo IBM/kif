{
 "cells": [
  {
   "cell_type": "code",
   "execution_count": 1,
   "id": "3bfc0177-3097-458c-a50d-d8529da70af5",
   "metadata": {},
   "outputs": [
    {
     "name": "stdout",
     "output_type": "stream",
     "text": [
      "env: KIF_DEBUG=\n",
      "env: KIF_RESOLVE_ENTITIES=1\n"
     ]
    }
   ],
   "source": [
    "%env KIF_DEBUG=\n",
    "%env KIF_RESOLVE_ENTITIES=1"
   ]
  },
  {
   "cell_type": "markdown",
   "id": "89b2cdfb-8bd3-4d88-af52-e721b80584eb",
   "metadata": {},
   "source": [
    "# Quickstart"
   ]
  },
  {
   "cell_type": "markdown",
   "id": "2354031a-41c6-4d71-bda5-7ba3157d59b3",
   "metadata": {},
   "source": [
    "KIF is a Wikidata-based framework for integrating knowledge sources.\n",
    "\n",
    "This quickstart guide presents the basic API of KIF.\n",
    "\n",
    "----"
   ]
  },
  {
   "cell_type": "markdown",
   "id": "235a5ff0-fc7a-4a94-9b7d-6afc0c07817e",
   "metadata": {},
   "source": [
    "## Hello world!"
   ]
  },
  {
   "cell_type": "markdown",
   "id": "df0e05ed-89e5-4245-9f9f-07922d41069f",
   "metadata": {},
   "source": [
    "We start by importing the `kif_lib` namespace:"
   ]
  },
  {
   "cell_type": "code",
   "execution_count": 2,
   "id": "434a5270-9e55-412b-b0c9-a50fafd0ed37",
   "metadata": {},
   "outputs": [],
   "source": [
    "from kif_lib import *"
   ]
  },
  {
   "cell_type": "markdown",
   "id": "07108905-ff49-4f1c-8ec0-6a7ec64b16d4",
   "metadata": {},
   "source": [
    "We'll also need the Wikidata vocabulary module `wd`:"
   ]
  },
  {
   "cell_type": "code",
   "execution_count": 3,
   "id": "cfddd770-8a47-4f85-b134-911b5081491d",
   "metadata": {},
   "outputs": [],
   "source": [
    "from kif_lib.vocabulary import wd"
   ]
  },
  {
   "cell_type": "markdown",
   "id": "a61d582f-ecd8-4348-b6a7-ef667fe50482",
   "metadata": {},
   "source": [
    "Let us now create a KIF store pointing to the official Wikidata query service:"
   ]
  },
  {
   "cell_type": "code",
   "execution_count": 4,
   "id": "e86e782b-1ff1-4158-9082-9ccad4a12cae",
   "metadata": {},
   "outputs": [],
   "source": [
    "kb = Store('wdqs', 'https://query.wikidata.org/sparql')"
   ]
  },
  {
   "cell_type": "markdown",
   "id": "fd72cc6e-c326-4c7e-a093-d6411d37e85c",
   "metadata": {},
   "source": [
    "The first argument to the `Store` constructor determines the type of store to be created.\n",
    "\n",
    "(The `'wdqs'` instructs KIF to create a SPARQL store loaded with Wikidata mappings and optimized to query the official Wikidata query service.)\n",
    "\n",
    "In general, a KIF store can be seen an inteface to a knowledge source: it allows us to view the source as a set of [Wikidata-like statements](https://www.mediawiki.org/wiki/Wikibase/DataModel).\n",
    "\n",
    "The `kb` store we just created is an interface to Wikidata itself.  We can use it, for example, to fetch from Wikidata three statements about Brazil:"
   ]
  },
  {
   "cell_type": "code",
   "execution_count": 5,
   "id": "786611d9-0fea-46c8-a715-37a12a80a1eb",
   "metadata": {},
   "outputs": [
    {
     "data": {
      "text/markdown": [
       "(**Statement** (**Item** [Brazil](http://www.wikidata.org/entity/Q155)) (**ValueSnak** **LabelProperty** \"Бразилиа\"@ab))"
      ],
      "text/plain": [
       "Statement(Item(IRI('http://www.wikidata.org/entity/Q155')), ValueSnak(LabelProperty(IRI('http://www.w3.org/2000/01/rdf-schema#label'), TextDatatype()), Text('Бразилиа', 'ab')))"
      ]
     },
     "metadata": {},
     "output_type": "display_data"
    },
    {
     "data": {
      "text/markdown": [
       "(**Statement** (**Item** [Brazil](http://www.wikidata.org/entity/Q155)) (**ValueSnak** **LabelProperty** \"Brasil\"@ace))"
      ],
      "text/plain": [
       "Statement(Item(IRI('http://www.wikidata.org/entity/Q155')), ValueSnak(LabelProperty(IRI('http://www.w3.org/2000/01/rdf-schema#label'), TextDatatype()), Text('Brasil', 'ace')))"
      ]
     },
     "metadata": {},
     "output_type": "display_data"
    },
    {
     "data": {
      "text/markdown": [
       "(**Statement** (**Item** [Brazil](http://www.wikidata.org/entity/Q155)) (**ValueSnak** **LabelProperty** \"Бразилие\"@ady))"
      ],
      "text/plain": [
       "Statement(Item(IRI('http://www.wikidata.org/entity/Q155')), ValueSnak(LabelProperty(IRI('http://www.w3.org/2000/01/rdf-schema#label'), TextDatatype()), Text('Бразилие', 'ady')))"
      ]
     },
     "metadata": {},
     "output_type": "display_data"
    }
   ],
   "source": [
    "it = kb.filter(subject=wd.Brazil, limit=3)\n",
    "for stmt in it:\n",
    "    display(stmt)"
   ]
  },
  {
   "cell_type": "markdown",
   "id": "c891b3e1-3272-4c3f-8a81-2d27693da65f",
   "metadata": {},
   "source": [
    "## Filters"
   ]
  },
  {
   "cell_type": "markdown",
   "id": "0a27351c-1d26-4dc9-9fc6-ecd6b61e9b0f",
   "metadata": {},
   "source": [
    "The `kb.filter(...)` call searches for statements in `kb` matching the restrictions `...`.\n",
    "\n",
    "The result of a filter call is a (lazy) iterator `it` of statements:"
   ]
  },
  {
   "cell_type": "code",
   "execution_count": 6,
   "id": "8714ae66-85bf-4098-b49a-fcf4eade6df8",
   "metadata": {},
   "outputs": [],
   "source": [
    "it = kb.filter(subject=wd.Brazil)"
   ]
  },
  {
   "cell_type": "markdown",
   "id": "da15addf-3430-4a25-9f56-3a44eb1fb135",
   "metadata": {},
   "source": [
    "We can advance `it` to obtain statements:"
   ]
  },
  {
   "cell_type": "code",
   "execution_count": 7,
   "id": "f9df9cc8-3eb5-4041-a34e-d33a184f97a5",
   "metadata": {},
   "outputs": [
    {
     "data": {
      "text/markdown": [
       "(**Statement** (**Item** [Brazil](http://www.wikidata.org/entity/Q155)) (**ValueSnak** **AliasProperty** \"Repubblica Federativa del Brasile\"@it))"
      ],
      "text/plain": [
       "Statement(Item(IRI('http://www.wikidata.org/entity/Q155')), ValueSnak(AliasProperty(IRI('http://www.w3.org/2004/02/skos/core#altLabel'), TextDatatype()), Text('Repubblica Federativa del Brasile', 'it')))"
      ]
     },
     "execution_count": 7,
     "metadata": {},
     "output_type": "execute_result"
    }
   ],
   "source": [
    "next(it)"
   ]
  },
  {
   "cell_type": "markdown",
   "id": "c303326d-e09d-4da8-bce9-0bed142e6501",
   "metadata": {},
   "source": [
    "If no `limit` argument is given to `kb.filter()`, the returned iterator contains *all* matching statements."
   ]
  },
  {
   "cell_type": "markdown",
   "id": "aae45738-5e4a-46f2-a7ef-5eede085713e",
   "metadata": {},
   "source": [
    "## Basic filters"
   ]
  },
  {
   "cell_type": "markdown",
   "id": "a160b932-ebb5-48fb-8bce-976dd4bddc6c",
   "metadata": {},
   "source": [
    "We can filter statements by any combination of *subject*, *property*, and *value*.\n",
    "\n",
    "For example:"
   ]
  },
  {
   "cell_type": "markdown",
   "id": "bf6b81a0-e329-49d9-8216-7cdd4e21aded",
   "metadata": {},
   "source": [
    "*match any statement*"
   ]
  },
  {
   "cell_type": "code",
   "execution_count": 8,
   "id": "2703a807-ea79-4764-84c1-0e8d2d7d4f50",
   "metadata": {},
   "outputs": [
    {
     "data": {
      "text/markdown": [
       "(**Statement** (**Lexeme** [wd:L58445](http://www.wikidata.org/entity/L58445)) (**ValueSnak** **LexicalCategoryProperty** (**Item** [verb](http://www.wikidata.org/entity/Q24905))))"
      ],
      "text/plain": [
       "Statement(Lexeme(IRI('http://www.wikidata.org/entity/L58445')), ValueSnak(LexicalCategoryProperty(IRI('http://wikiba.se/ontology#lexicalCategory'), ItemDatatype()), Item(IRI('http://www.wikidata.org/entity/Q24905'))))"
      ]
     },
     "execution_count": 8,
     "metadata": {},
     "output_type": "execute_result"
    }
   ],
   "source": [
    "next(kb.filter())"
   ]
  },
  {
   "cell_type": "markdown",
   "id": "18f7f3b8-4b8a-4922-b2ce-cde9d21444b6",
   "metadata": {},
   "source": [
    "*match statements with subject \"Brazil\" and property \"official website\"*"
   ]
  },
  {
   "cell_type": "code",
   "execution_count": 9,
   "id": "399f44a3-6a73-4b92-8d39-e8ae5ed60f25",
   "metadata": {},
   "outputs": [
    {
     "data": {
      "text/markdown": [
       "(**Statement** (**Item** [Brazil](http://www.wikidata.org/entity/Q155)) (**ValueSnak** (**Property** [official website](http://www.wikidata.org/entity/P856)) [https://www.gov.br](https://www.gov.br)))"
      ],
      "text/plain": [
       "Statement(Item(IRI('http://www.wikidata.org/entity/Q155')), ValueSnak(Property(IRI('http://www.wikidata.org/entity/P856'), IRI_Datatype()), IRI('https://www.gov.br')))"
      ]
     },
     "execution_count": 9,
     "metadata": {},
     "output_type": "execute_result"
    }
   ],
   "source": [
    "next(kb.filter(subject=wd.Brazil, property=wd.official_website))"
   ]
  },
  {
   "cell_type": "markdown",
   "id": "f2d0f8ad-4c60-4f9b-9cb2-c1878e719dc5",
   "metadata": {},
   "source": [
    "*match statements with property \"official website\" and value \"https://www.ibm.com/\"*"
   ]
  },
  {
   "cell_type": "code",
   "execution_count": 10,
   "id": "4d74ad2e-5d11-4636-a522-a791925eb8d3",
   "metadata": {},
   "outputs": [
    {
     "data": {
      "text/markdown": [
       "(**Statement** (**Item** [IBM](http://www.wikidata.org/entity/Q37156)) (**ValueSnak** (**Property** [official website](http://www.wikidata.org/entity/P856)) [https://www.ibm.com/](https://www.ibm.com/)))"
      ],
      "text/plain": [
       "Statement(Item(IRI('http://www.wikidata.org/entity/Q37156')), ValueSnak(Property(IRI('http://www.wikidata.org/entity/P856'), IRI_Datatype()), IRI('https://www.ibm.com/')))"
      ]
     },
     "execution_count": 10,
     "metadata": {},
     "output_type": "execute_result"
    }
   ],
   "source": [
    "next(kb.filter(property=wd.official_website, value='https://www.ibm.com/'))"
   ]
  },
  {
   "cell_type": "markdown",
   "id": "e10a80cb-2b54-467c-90db-857f3e82788e",
   "metadata": {},
   "source": [
    "*match statements with value \"78.046950192 dalton\"*"
   ]
  },
  {
   "cell_type": "code",
   "execution_count": 11,
   "id": "9b150aa8-a98d-4f58-bb17-b99083def39c",
   "metadata": {},
   "outputs": [
    {
     "data": {
      "text/markdown": [
       "(**Statement** (**Item** [Cyclopropane, tris(methylene)-](http://www.wikidata.org/entity/Q83057204)) (**ValueSnak** (**Property** [mass](http://www.wikidata.org/entity/P2067)) (**Quantity** 78.046950192 (**Item** [dalton](http://www.wikidata.org/entity/Q483261)))))"
      ],
      "text/plain": [
       "Statement(Item(IRI('http://www.wikidata.org/entity/Q83057204')), ValueSnak(Property(IRI('http://www.wikidata.org/entity/P2067'), QuantityDatatype()), Quantity(Decimal('78.046950192'), Item(IRI('http://www.wikidata.org/entity/Q483261')), None, None)))"
      ]
     },
     "execution_count": 11,
     "metadata": {},
     "output_type": "execute_result"
    }
   ],
   "source": [
    "next(kb.filter(value=Quantity('78.046950192', unit=wd.dalton)))"
   ]
  },
  {
   "cell_type": "markdown",
   "id": "e5fdabe0-c9c1-4648-b508-6e75274a020f",
   "metadata": {},
   "source": [
    "We can also match statements having *some* (unknown) value:"
   ]
  },
  {
   "cell_type": "code",
   "execution_count": 12,
   "id": "ed56053e-5c56-4598-8490-82427ea8d6ec",
   "metadata": {},
   "outputs": [
    {
     "data": {
      "text/markdown": [
       "(**Statement** (**Item** [Emperor Gengshi of Han](http://www.wikidata.org/entity/Q7262)) (**SomeValueSnak** (**Property** [date of birth](http://www.wikidata.org/entity/P569))))"
      ],
      "text/plain": [
       "Statement(Item(IRI('http://www.wikidata.org/entity/Q7262')), SomeValueSnak(Property(IRI('http://www.wikidata.org/entity/P569'), TimeDatatype())))"
      ]
     },
     "execution_count": 12,
     "metadata": {},
     "output_type": "execute_result"
    }
   ],
   "source": [
    "next(kb.filter(snak=wd.date_of_birth.some_value()))"
   ]
  },
  {
   "cell_type": "markdown",
   "id": "5f326221-f2a8-47f6-8ec9-2933ef24d294",
   "metadata": {},
   "source": [
    "Or *no* value:"
   ]
  },
  {
   "cell_type": "code",
   "execution_count": 13,
   "id": "890a3b2b-8f56-4185-8b9b-ee697d6d85d2",
   "metadata": {},
   "outputs": [
    {
     "data": {
      "text/markdown": [
       "(**Statement** (**Item** [wd:Q123038537](http://www.wikidata.org/entity/Q123038537)) (**NoValueSnak** (**Property** [date of death](http://www.wikidata.org/entity/P570))))"
      ],
      "text/plain": [
       "Statement(Item(IRI('http://www.wikidata.org/entity/Q123038537')), NoValueSnak(Property(IRI('http://www.wikidata.org/entity/P570'), TimeDatatype())))"
      ]
     },
     "execution_count": 13,
     "metadata": {},
     "output_type": "execute_result"
    }
   ],
   "source": [
    "next(kb.filter(snak=wd.date_of_death.no_value()))"
   ]
  },
  {
   "cell_type": "markdown",
   "id": "67ee120d-74ad-494c-991e-864d5e75f73b",
   "metadata": {},
   "source": [
    "## Fingerprints (indirect ids)"
   ]
  },
  {
   "cell_type": "markdown",
   "id": "999dcf5d-772f-41f6-96f0-d4b04cf9d0fa",
   "metadata": {},
   "source": [
    "So far, we have been using the symbolic aliases defined in the `wd` module to specify entities in filters:"
   ]
  },
  {
   "cell_type": "code",
   "execution_count": 14,
   "id": "61f1a10b-22f7-48d8-b74f-893b7f2d8903",
   "metadata": {},
   "outputs": [
    {
     "data": {
      "text/markdown": [
       "(**Item** [Brazil](http://www.wikidata.org/entity/Q155))"
      ],
      "text/plain": [
       "Item(IRI('http://www.wikidata.org/entity/Q155'))"
      ]
     },
     "metadata": {},
     "output_type": "display_data"
    },
    {
     "data": {
      "text/markdown": [
       "(**Property** [continent](http://www.wikidata.org/entity/P30))"
      ],
      "text/plain": [
       "Property(IRI('http://www.wikidata.org/entity/P30'), ItemDatatype())"
      ]
     },
     "metadata": {},
     "output_type": "display_data"
    }
   ],
   "source": [
    "display(\n",
    "    wd.Brazil,\n",
    "    wd.continent)"
   ]
  },
  {
   "cell_type": "markdown",
   "id": "580eb2b8-f577-4e44-9c43-957e7e9c9fbb",
   "metadata": {},
   "source": [
    "Alternatively, we can use their numeric Wikidata ids:"
   ]
  },
  {
   "cell_type": "markdown",
   "id": "1e681ba1-5ef2-4c32-8fb3-675b25ed62a9",
   "metadata": {},
   "source": [
    "*match statements with subject Q155 (Brazil) and property P30 (continent)*"
   ]
  },
  {
   "cell_type": "code",
   "execution_count": 15,
   "id": "5d5992cb-ddd5-4828-8fed-e737f2d8d6d3",
   "metadata": {},
   "outputs": [
    {
     "data": {
      "text/markdown": [
       "(**Statement** (**Item** [Brazil](http://www.wikidata.org/entity/Q155)) (**ValueSnak** (**Property** [continent](http://www.wikidata.org/entity/P30)) (**Item** [South America](http://www.wikidata.org/entity/Q18))))"
      ],
      "text/plain": [
       "Statement(Item(IRI('http://www.wikidata.org/entity/Q155')), ValueSnak(Property(IRI('http://www.wikidata.org/entity/P30'), ItemDatatype()), Item(IRI('http://www.wikidata.org/entity/Q18'))))"
      ]
     },
     "execution_count": 15,
     "metadata": {},
     "output_type": "execute_result"
    }
   ],
   "source": [
    "next(kb.filter(subject=wd.Q(155), property=wd.P(30)))"
   ]
  },
  {
   "cell_type": "markdown",
   "id": "38cae115-3e05-4005-bf84-45816bd45138",
   "metadata": {},
   "source": [
    "Sometimes, however, ids are not enough.  We might need to specify an entity indirectly by giving not its id but a property it satisfies.\n",
    "\n",
    "In cases like this, we can use a *fingerprint*:"
   ]
  },
  {
   "cell_type": "markdown",
   "id": "17d9bb6d-56bc-4772-8734-c1751b3c623e",
   "metadata": {},
   "source": [
    "*match statemets whose subject \"is a cat\" and value \"is a human\"*"
   ]
  },
  {
   "cell_type": "code",
   "execution_count": 16,
   "id": "e1f02fa2-7436-4589-87b3-ec5cc77b4eeb",
   "metadata": {},
   "outputs": [
    {
     "data": {
      "text/markdown": [
       "(**Statement** (**Item** [Johannes Gutenberg](http://www.wikidata.org/entity/Q130704354)) (**ValueSnak** (**Property** [named after](http://www.wikidata.org/entity/P138)) (**Item** [Johannes Gutenberg](http://www.wikidata.org/entity/Q8958))))"
      ],
      "text/plain": [
       "Statement(Item(IRI('http://www.wikidata.org/entity/Q130704354')), ValueSnak(Property(IRI('http://www.wikidata.org/entity/P138'), ItemDatatype()), Item(IRI('http://www.wikidata.org/entity/Q8958'))))"
      ]
     },
     "execution_count": 16,
     "metadata": {},
     "output_type": "execute_result"
    }
   ],
   "source": [
    "next(kb.filter(subject=wd.instance_of(wd.house_cat), value=wd.instance_of(wd.human)))"
   ]
  },
  {
   "cell_type": "markdown",
   "id": "427444d4-19c7-4626-81e1-b7bf4ced1b24",
   "metadata": {},
   "source": [
    "Properties themselves can also be specified using fingerprints:"
   ]
  },
  {
   "cell_type": "markdown",
   "id": "c3bebe35-8c38-4743-9658-9521683a5c80",
   "metadata": {},
   "source": [
    "*match statements whose property is \"equivalent to Schema.org's 'weight'\"*"
   ]
  },
  {
   "cell_type": "code",
   "execution_count": 17,
   "id": "efd7e648-1253-4739-9c5f-4f51d437e9f8",
   "metadata": {},
   "outputs": [
    {
     "data": {
      "text/markdown": [
       "(**Statement** (**Item** [Roger Noble Burnham](http://www.wikidata.org/entity/Q52156214)) (**NoValueSnak** (**Property** [mass](http://www.wikidata.org/entity/P2067))))"
      ],
      "text/plain": [
       "Statement(Item(IRI('http://www.wikidata.org/entity/Q52156214')), NoValueSnak(Property(IRI('http://www.wikidata.org/entity/P2067'), QuantityDatatype())))"
      ]
     },
     "execution_count": 17,
     "metadata": {},
     "output_type": "execute_result"
    }
   ],
   "source": [
    "next(kb.filter(property=wd.equivalent_property('https://schema.org/weight')))"
   ]
  },
  {
   "cell_type": "markdown",
   "id": "ed4083bc-dc00-462f-87c6-3c7b895cb8be",
   "metadata": {},
   "source": [
    "The `-` (minus) operator can be used to invert the direction of the property used in the fingerprint:"
   ]
  },
  {
   "cell_type": "markdown",
   "id": "502b9098-1c88-45c0-9546-3afc01578aa9",
   "metadata": {},
   "source": [
    "*match statements whose subject is \"the continent of Brazil\"*"
   ]
  },
  {
   "cell_type": "code",
   "execution_count": 18,
   "id": "5f47b632-9a80-4353-a78d-4a9afc7032f6",
   "metadata": {},
   "outputs": [
    {
     "data": {
      "text/markdown": [
       "(**Statement** (**Item** [South America](http://www.wikidata.org/entity/Q18)) (**ValueSnak** **AliasProperty** \"América meridional\"@es))"
      ],
      "text/plain": [
       "Statement(Item(IRI('http://www.wikidata.org/entity/Q18')), ValueSnak(AliasProperty(IRI('http://www.w3.org/2004/02/skos/core#altLabel'), TextDatatype()), Text('América meridional', 'es')))"
      ]
     },
     "execution_count": 18,
     "metadata": {},
     "output_type": "execute_result"
    }
   ],
   "source": [
    "next(kb.filter(subject=-(wd.continent(wd.Brazil))))"
   ]
  },
  {
   "cell_type": "markdown",
   "id": "307986ee-94ca-4a34-9e61-c8cfebed772d",
   "metadata": {},
   "source": [
    "## And-ing and or-ing fingeprints"
   ]
  },
  {
   "cell_type": "markdown",
   "id": "89ed5d72-91b6-4448-b215-b7d10eadd801",
   "metadata": {},
   "source": [
    "Entity ids and fingerpints can be combined using the operators `&` (and) and `|` (or).\n",
    "\n",
    "For example:"
   ]
  },
  {
   "cell_type": "markdown",
   "id": "cde35a15-0c16-4dca-b3b6-9d04c7d20151",
   "metadata": {},
   "source": [
    "*match four statements such that:*\n",
    "- *subject is \"Brazil\" or \"Argentina\"*\n",
    "- *property is \"continent\" or \"highest point\"*"
   ]
  },
  {
   "cell_type": "code",
   "execution_count": 19,
   "id": "2514d22c-5c03-466d-b667-c0b33415f53c",
   "metadata": {},
   "outputs": [
    {
     "data": {
      "text/markdown": [
       "(**Statement** (**Item** [Argentina](http://www.wikidata.org/entity/Q414)) (**ValueSnak** (**Property** [continent](http://www.wikidata.org/entity/P30)) (**Item** [South America](http://www.wikidata.org/entity/Q18))))"
      ],
      "text/plain": [
       "Statement(Item(IRI('http://www.wikidata.org/entity/Q414')), ValueSnak(Property(IRI('http://www.wikidata.org/entity/P30'), ItemDatatype()), Item(IRI('http://www.wikidata.org/entity/Q18'))))"
      ]
     },
     "metadata": {},
     "output_type": "display_data"
    },
    {
     "data": {
      "text/markdown": [
       "(**Statement** (**Item** [Brazil](http://www.wikidata.org/entity/Q155)) (**ValueSnak** (**Property** [highest point](http://www.wikidata.org/entity/P610)) (**Item** [Pico da Neblina](http://www.wikidata.org/entity/Q739484))))"
      ],
      "text/plain": [
       "Statement(Item(IRI('http://www.wikidata.org/entity/Q155')), ValueSnak(Property(IRI('http://www.wikidata.org/entity/P610'), ItemDatatype()), Item(IRI('http://www.wikidata.org/entity/Q739484'))))"
      ]
     },
     "metadata": {},
     "output_type": "display_data"
    },
    {
     "data": {
      "text/markdown": [
       "(**Statement** (**Item** [Brazil](http://www.wikidata.org/entity/Q155)) (**ValueSnak** (**Property** [continent](http://www.wikidata.org/entity/P30)) (**Item** [South America](http://www.wikidata.org/entity/Q18))))"
      ],
      "text/plain": [
       "Statement(Item(IRI('http://www.wikidata.org/entity/Q155')), ValueSnak(Property(IRI('http://www.wikidata.org/entity/P30'), ItemDatatype()), Item(IRI('http://www.wikidata.org/entity/Q18'))))"
      ]
     },
     "metadata": {},
     "output_type": "display_data"
    },
    {
     "data": {
      "text/markdown": [
       "(**Statement** (**Item** [Argentina](http://www.wikidata.org/entity/Q414)) (**ValueSnak** (**Property** [highest point](http://www.wikidata.org/entity/P610)) (**Item** [Aconcagua](http://www.wikidata.org/entity/Q39739))))"
      ],
      "text/plain": [
       "Statement(Item(IRI('http://www.wikidata.org/entity/Q414')), ValueSnak(Property(IRI('http://www.wikidata.org/entity/P610'), ItemDatatype()), Item(IRI('http://www.wikidata.org/entity/Q39739'))))"
      ]
     },
     "metadata": {},
     "output_type": "display_data"
    }
   ],
   "source": [
    "it = kb.filter(subject=wd.Brazil | wd.Argentina, property=wd.continent | wd.highest_point, limit=4)\n",
    "display(*it)"
   ]
  },
  {
   "cell_type": "markdown",
   "id": "8faf9e8e-5f99-4585-88e4-52741f39b893",
   "metadata": {},
   "source": [
    "*match four statements such that:*\n",
    "- *subject \"continent is South America\" and \"official language is Portuguese\"*\n",
    "- *value \"is a river\" or \"is a mountain\"*"
   ]
  },
  {
   "cell_type": "code",
   "execution_count": 20,
   "id": "9b1c756c-6524-4d2d-b82e-89b8c1953d79",
   "metadata": {},
   "outputs": [
    {
     "data": {
      "text/markdown": [
       "(**Statement** (**Item** [Brazil](http://www.wikidata.org/entity/Q155)) (**ValueSnak** (**Property** [located in or next to body of water](http://www.wikidata.org/entity/P206)) (**Item** [Amazon](http://www.wikidata.org/entity/Q3783))))"
      ],
      "text/plain": [
       "Statement(Item(IRI('http://www.wikidata.org/entity/Q155')), ValueSnak(Property(IRI('http://www.wikidata.org/entity/P206'), ItemDatatype()), Item(IRI('http://www.wikidata.org/entity/Q3783'))))"
      ]
     },
     "metadata": {},
     "output_type": "display_data"
    },
    {
     "data": {
      "text/markdown": [
       "(**Statement** (**Item** [Brazil](http://www.wikidata.org/entity/Q155)) (**ValueSnak** (**Property** [located in or next to body of water](http://www.wikidata.org/entity/P206)) (**Item** [Paraná River](http://www.wikidata.org/entity/Q127892))))"
      ],
      "text/plain": [
       "Statement(Item(IRI('http://www.wikidata.org/entity/Q155')), ValueSnak(Property(IRI('http://www.wikidata.org/entity/P206'), ItemDatatype()), Item(IRI('http://www.wikidata.org/entity/Q127892'))))"
      ]
     },
     "metadata": {},
     "output_type": "display_data"
    },
    {
     "data": {
      "text/markdown": [
       "(**Statement** (**Item** [Brazil](http://www.wikidata.org/entity/Q155)) (**ValueSnak** (**Property** [located in or next to body of water](http://www.wikidata.org/entity/P206)) (**Item** [São Francisco River](http://www.wikidata.org/entity/Q142148))))"
      ],
      "text/plain": [
       "Statement(Item(IRI('http://www.wikidata.org/entity/Q155')), ValueSnak(Property(IRI('http://www.wikidata.org/entity/P206'), ItemDatatype()), Item(IRI('http://www.wikidata.org/entity/Q142148'))))"
      ]
     },
     "metadata": {},
     "output_type": "display_data"
    },
    {
     "data": {
      "text/markdown": [
       "(**Statement** (**Item** [Brazil](http://www.wikidata.org/entity/Q155)) (**ValueSnak** (**Property** [highest point](http://www.wikidata.org/entity/P610)) (**Item** [Pico da Neblina](http://www.wikidata.org/entity/Q739484))))"
      ],
      "text/plain": [
       "Statement(Item(IRI('http://www.wikidata.org/entity/Q155')), ValueSnak(Property(IRI('http://www.wikidata.org/entity/P610'), ItemDatatype()), Item(IRI('http://www.wikidata.org/entity/Q739484'))))"
      ]
     },
     "metadata": {},
     "output_type": "display_data"
    }
   ],
   "source": [
    "it = kb.filter(\n",
    "    subject=wd.continent(wd.South_America) & wd.official_language(wd.Portuguese),\n",
    "    value=wd.instance_of(wd.river) | wd.instance_of(wd.mountain),\n",
    "    limit=4)\n",
    "display(*it)"
   ]
  },
  {
   "cell_type": "markdown",
   "id": "8e9a5b49-2e3b-40f2-bd91-b896252e1b82",
   "metadata": {},
   "source": [
    "*match four statements such that:*\n",
    "- *subject \"is a female\" and (\"was born in NYC\" or \"was born in Rio\")*\n",
    "- *property is \"field of work\" or \"is equivalent to Schema.org's 'hasOccupation'\"*"
   ]
  },
  {
   "cell_type": "code",
   "execution_count": 21,
   "id": "c4d2a041-1422-4714-ae39-2ec2c43a449f",
   "metadata": {},
   "outputs": [
    {
     "data": {
      "text/markdown": [
       "(**Statement** (**Item** [Tanya Lopert](http://www.wikidata.org/entity/Q82746)) (**ValueSnak** (**Property** [occupation](http://www.wikidata.org/entity/P106)) (**Item** [film actor](http://www.wikidata.org/entity/Q10800557))))"
      ],
      "text/plain": [
       "Statement(Item(IRI('http://www.wikidata.org/entity/Q82746')), ValueSnak(Property(IRI('http://www.wikidata.org/entity/P106'), ItemDatatype()), Item(IRI('http://www.wikidata.org/entity/Q10800557'))))"
      ]
     },
     "metadata": {},
     "output_type": "display_data"
    },
    {
     "data": {
      "text/markdown": [
       "(**Statement** (**Item** [Tanya Lopert](http://www.wikidata.org/entity/Q82746)) (**ValueSnak** (**Property** [occupation](http://www.wikidata.org/entity/P106)) (**Item** [actor](http://www.wikidata.org/entity/Q33999))))"
      ],
      "text/plain": [
       "Statement(Item(IRI('http://www.wikidata.org/entity/Q82746')), ValueSnak(Property(IRI('http://www.wikidata.org/entity/P106'), ItemDatatype()), Item(IRI('http://www.wikidata.org/entity/Q33999'))))"
      ]
     },
     "metadata": {},
     "output_type": "display_data"
    },
    {
     "data": {
      "text/markdown": [
       "(**Statement** (**Item** [Tanya Lopert](http://www.wikidata.org/entity/Q82746)) (**ValueSnak** (**Property** [occupation](http://www.wikidata.org/entity/P106)) (**Item** [stage actor](http://www.wikidata.org/entity/Q2259451))))"
      ],
      "text/plain": [
       "Statement(Item(IRI('http://www.wikidata.org/entity/Q82746')), ValueSnak(Property(IRI('http://www.wikidata.org/entity/P106'), ItemDatatype()), Item(IRI('http://www.wikidata.org/entity/Q2259451'))))"
      ]
     },
     "metadata": {},
     "output_type": "display_data"
    },
    {
     "data": {
      "text/markdown": [
       "(**Statement** (**Item** [Nancy Chodorow](http://www.wikidata.org/entity/Q598648)) (**ValueSnak** (**Property** [field of work](http://www.wikidata.org/entity/P101)) (**Item** [gender studies](http://www.wikidata.org/entity/Q1662673))))"
      ],
      "text/plain": [
       "Statement(Item(IRI('http://www.wikidata.org/entity/Q598648')), ValueSnak(Property(IRI('http://www.wikidata.org/entity/P101'), ItemDatatype()), Item(IRI('http://www.wikidata.org/entity/Q1662673'))))"
      ]
     },
     "metadata": {},
     "output_type": "display_data"
    }
   ],
   "source": [
    "it = kb.filter(\n",
    "    subject=wd.sex_or_gender(wd.female) & (wd.place_of_birth(wd.New_York_City) | wd.place_of_birth(wd.Rio_de_Janeiro)),\n",
    "    property=wd.field_of_work | wd.equivalent_property('https://schema.org/hasOccupation'),\n",
    "    limit=4)\n",
    "display(*it)"
   ]
  },
  {
   "cell_type": "markdown",
   "id": "28c08dfd-05f5-4448-81f4-dbd4b9d5b9ee",
   "metadata": {},
   "source": [
    "## Count and contains"
   ]
  },
  {
   "cell_type": "markdown",
   "id": "5e9dfc3e-333a-41e2-b023-7b73710125a0",
   "metadata": {},
   "source": [
    "A variant of the filter call is `kb.count()` which counts the number of statements matching the given restrictions:"
   ]
  },
  {
   "cell_type": "code",
   "execution_count": 22,
   "id": "0ece9a9a-3afd-4331-8c0b-202b48bf5c33",
   "metadata": {},
   "outputs": [
    {
     "data": {
      "text/plain": [
       "2"
      ]
     },
     "execution_count": 22,
     "metadata": {},
     "output_type": "execute_result"
    }
   ],
   "source": [
    "kb.count(subject=wd.Brazil, property=wd.population | wd.official_language)"
   ]
  },
  {
   "cell_type": "markdown",
   "id": "eaba6c3b-26f0-49f1-b2a5-4d69fbe96313",
   "metadata": {},
   "source": [
    "A related call is `kb.contains()`.  It tests whether a given statement occurs in `kb`:"
   ]
  },
  {
   "cell_type": "code",
   "execution_count": 23,
   "id": "5452816e-9b99-47d1-88bd-02c968c2b992",
   "metadata": {},
   "outputs": [
    {
     "data": {
      "text/plain": [
       "True"
      ]
     },
     "execution_count": 23,
     "metadata": {},
     "output_type": "execute_result"
    }
   ],
   "source": [
    "stmt1 = wd.official_language(wd.Brazil, wd.Portuguese)\n",
    "kb.contains(stmt1)"
   ]
  },
  {
   "cell_type": "code",
   "execution_count": 24,
   "id": "97189e62-9905-49e6-98e0-e378fd99a44e",
   "metadata": {},
   "outputs": [
    {
     "data": {
      "text/plain": [
       "False"
      ]
     },
     "execution_count": 24,
     "metadata": {},
     "output_type": "execute_result"
    }
   ],
   "source": [
    "stmt2 = wd.official_language(wd.Brazil, wd.Spanish)\n",
    "kb.contains(stmt2)"
   ]
  },
  {
   "cell_type": "markdown",
   "id": "2a851de2-b05a-4890-b502-4d67064319cd",
   "metadata": {},
   "source": [
    "## Final remarks"
   ]
  },
  {
   "cell_type": "markdown",
   "id": "bce21e1c-7600-44b5-8c45-0b93dfd0383c",
   "metadata": {},
   "source": [
    "This concludes the quickstart guide.\n",
    "\n",
    "There are many other calls in KIF's Store API.  For more information see, the [API docs](https://ibm.github.io/kif/) and the [examples](https://github.com/IBM/kif/tree/main/examples) dir."
   ]
  }
 ],
 "metadata": {
  "kernelspec": {
   "display_name": "venv313",
   "language": "python",
   "name": "venv313"
  },
  "language_info": {
   "codemirror_mode": {
    "name": "ipython",
    "version": 3
   },
   "file_extension": ".py",
   "mimetype": "text/x-python",
   "name": "python",
   "nbconvert_exporter": "python",
   "pygments_lexer": "ipython3",
   "version": "3.13.2"
  }
 },
 "nbformat": 4,
 "nbformat_minor": 5
}
